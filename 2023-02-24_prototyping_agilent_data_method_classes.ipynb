{
 "cells": [
  {
   "cell_type": "code",
   "execution_count": null,
   "id": "a06b5f95-ba7a-4431-b237-5befe0384f65",
   "metadata": {},
   "outputs": [],
   "source": [
    "import pandas as pd\n",
    "\n",
    "class ChemStationData:\n",
    "    def __init__(self, file_path):\n",
    "        self.file_path = file_path\n",
    "        self.data = None\n",
    "        self.load_data()\n",
    "        \n",
    "    def load_data(self):\n",
    "        self.data = pd.read_csv(self.file_path, sep='\\t', header=42)"
   ]
  },
  {
   "cell_type": "code",
   "execution_count": null,
   "id": "56586b11-d6a1-44fa-8481-0fa027696bb8",
   "metadata": {},
   "outputs": [],
   "source": [
    "class ChemStationMethod:\n",
    "    def __init__(self, file_path):\n",
    "        self.file_path = file_path\n",
    "        self.method_params = {}\n",
    "        self.load_method()\n",
    "        \n",
    "    def load_method(self):\n",
    "        with open(self.file_path, 'r') as f:\n",
    "            lines = f.readlines()\n",
    "        for line in lines:\n",
    "            if '=' in line:\n",
    "                key, value = line.strip().split('=')\n",
    "                self.method_params[key] = value.strip()"
   ]
  },
  {
   "cell_type": "code",
   "execution_count": null,
   "id": "2ffd2e3e-bd22-455b-8004-58405e8b1d76",
   "metadata": {},
   "outputs": [],
   "source": [
    "data_file_path = 'path/to/data.txt'\n",
    "method_file_path = 'path/to/method.txt'\n",
    "\n",
    "data = ChemStationData(data_file_path)\n",
    "method = ChemStationMethod(method_file_path)"
   ]
  },
  {
   "cell_type": "code",
   "execution_count": null,
   "id": "ed726d1c-706b-43bd-8d03-80d0a7b4def0",
   "metadata": {},
   "outputs": [],
   "source": [
    "print(data.data.head())\n",
    "\n",
    "# Access a method parameter\n",
    "print(method.method_params['INJ_VOL'])"
   ]
  }
 ],
 "metadata": {
  "kernelspec": {
   "display_name": "Python 3 (ipykernel)",
   "language": "python",
   "name": "python3"
  },
  "language_info": {
   "codemirror_mode": {
    "name": "ipython",
    "version": 3
   },
   "file_extension": ".py",
   "mimetype": "text/x-python",
   "name": "python",
   "nbconvert_exporter": "python",
   "pygments_lexer": "ipython3",
   "version": "3.11.1"
  }
 },
 "nbformat": 4,
 "nbformat_minor": 5
}
