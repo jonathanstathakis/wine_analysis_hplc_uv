{
 "cells": [
  {
   "cell_type": "code",
   "execution_count": null,
   "id": "80bddcb8-c381-4b83-a7cd-a2a89d63ac2e",
   "metadata": {
    "execution": {
     "iopub.execute_input": "2023-03-04T21:05:48.747359Z",
     "iopub.status.busy": "2023-03-04T21:05:48.746962Z",
     "iopub.status.idle": "2023-03-04T21:05:49.186917Z",
     "shell.execute_reply": "2023-03-04T21:05:49.186469Z",
     "shell.execute_reply.started": "2023-03-04T21:05:48.747329Z"
    },
    "tags": []
   },
   "outputs": [],
   "source": [
    "%load_ext autoreload\n",
    "%autoreload 2\n",
    "\n",
    "from agilette import Agilette\n",
    "\n",
    "from pathlib import Path\n",
    "\n",
    "import pandas as pd\n",
    "\n",
    "import sys\n",
    "\n",
    "import os\n",
    "\n",
    "sys.path.insert(0, os.path.abspath(os.path.join(os.path.dirname(__file__), '../../../')))\n",
    "\n",
    "Path.cwd()"
   ]
  },
  {
   "cell_type": "code",
   "execution_count": null,
   "id": "8793f795-69ae-4c58-bbbc-e45454ae3d93",
   "metadata": {
    "execution": {
     "iopub.execute_input": "2023-03-04T21:05:49.188989Z",
     "iopub.status.busy": "2023-03-04T21:05:49.188597Z",
     "iopub.status.idle": "2023-03-04T21:05:49.417505Z",
     "shell.execute_reply": "2023-03-04T21:05:49.417109Z",
     "shell.execute_reply.started": "2023-03-04T21:05:49.188972Z"
    },
    "tags": []
   },
   "outputs": [],
   "source": [
    "#%%timeit -n 1 -r 1\n",
    "\n",
    "ag = Agilette('/Users/jonathan/0_jono_data') \n",
    "a = ag.data_table()\n",
    "a[a.index > \"2023-02-15\"].drop(\"path\", axis = 1)"
   ]
  },
  {
   "cell_type": "code",
   "execution_count": null,
   "id": "1c7a08eb-73bc-4ee1-87fb-d7bc266567ea",
   "metadata": {
    "execution": {
     "iopub.execute_input": "2023-03-04T21:05:49.418298Z",
     "iopub.status.busy": "2023-03-04T21:05:49.418136Z",
     "iopub.status.idle": "2023-03-04T21:05:49.538504Z",
     "shell.execute_reply": "2023-03-04T21:05:49.537754Z",
     "shell.execute_reply.started": "2023-03-04T21:05:49.418286Z"
    },
    "tags": []
   },
   "outputs": [],
   "source": [
    "uv_data = ag.data_file_dir.single_runs['2023-02-23_2021-DEBORTOLI-CABERNET-MERLOT_AVANTOR.D'].extract_uv_data()\n",
    "\n",
    "from scripts.core_scripts.data_manipulators import df_windower\n",
    "\n",
    "wdata = df_windower(wide_df = uv_data, dimension = 'nm', min_val = 211, max_val = 300)\n",
    "wdata.plot(legend = False)"
   ]
  },
  {
   "cell_type": "code",
   "execution_count": null,
   "id": "725ebe11-9910-471b-aab2-0979c087390f",
   "metadata": {
    "execution": {
     "iopub.status.busy": "2023-03-04T21:05:49.538847Z",
     "iopub.status.idle": "2023-03-04T21:05:49.539023Z",
     "shell.execute_reply": "2023-03-04T21:05:49.538936Z",
     "shell.execute_reply.started": "2023-03-04T21:05:49.538926Z"
    },
    "tags": []
   },
   "outputs": [],
   "source": [
    "ch_data = ag.data_file_dir.single_runs['2023-02-23_2021-DEBORTOLI-CABERNET-MERLOT_AVANTOR.D'].extract_ch_data()['DAD1D.ch']\n",
    "ch_df = pd.DataFrame(ch_data, columns = ['mins', 'mAU'])"
   ]
  },
  {
   "cell_type": "code",
   "execution_count": null,
   "id": "cea3bacb-c079-44df-8e2c-622536606465",
   "metadata": {
    "execution": {
     "iopub.status.busy": "2023-03-04T21:05:49.539761Z",
     "iopub.status.idle": "2023-03-04T21:05:49.539943Z",
     "shell.execute_reply": "2023-03-04T21:05:49.539855Z",
     "shell.execute_reply.started": "2023-03-04T21:05:49.539844Z"
    },
    "tags": []
   },
   "outputs": [],
   "source": [
    "ag = Agilette('/Users/jonathan/0_jono_data')\n",
    "dt = ag.data_table()\n",
    "dt.head()"
   ]
  },
  {
   "cell_type": "code",
   "execution_count": null,
   "id": "b4d2f71f-fbf0-45e7-bf2e-9d095e95ad3c",
   "metadata": {
    "execution": {
     "iopub.status.busy": "2023-03-04T21:05:49.540710Z",
     "iopub.status.idle": "2023-03-04T21:05:49.540900Z",
     "shell.execute_reply": "2023-03-04T21:05:49.540797Z",
     "shell.execute_reply.started": "2023-03-04T21:05:49.540788Z"
    },
    "tags": []
   },
   "outputs": [],
   "source": [
    "dt.loc[dt['names'].str.contains(\"acetone\")]"
   ]
  }
 ],
 "metadata": {
  "kernelspec": {
   "display_name": "Python 3 (ipykernel)",
   "language": "python",
   "name": "python3"
  },
  "language_info": {
   "codemirror_mode": {
    "name": "ipython",
    "version": 3
   },
   "file_extension": ".py",
   "mimetype": "text/x-python",
   "name": "python",
   "nbconvert_exporter": "python",
   "pygments_lexer": "ipython3",
   "version": "3.11.1"
  }
 },
 "nbformat": 4,
 "nbformat_minor": 5
}
