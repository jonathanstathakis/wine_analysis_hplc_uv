{
 "cells": [
  {
   "cell_type": "markdown",
   "id": "3f043368-b874-41c8-84ba-bff70eed4f3e",
   "metadata": {},
   "source": [
    "# Adding Sequences to the Data Table"
   ]
  },
  {
   "cell_type": "markdown",
   "id": "9fb91dae-20de-4eb5-b422-24f38f15e19f",
   "metadata": {},
   "source": [
    "As per 2023-03-02_logbook.md I want to both add data files contained in sequence directories to the main data table when that is constructed AND add a column to the data table denoting which sequence the data came from, or \"single run\" if the data was obtained outside of a sequence.\n",
    "\n",
    "It is tasks such as this which big for an OOP approach to handlnig the data, but that is still a little bit away as I'm not 100% on Python OOP."
   ]
  },
  {
   "cell_type": "markdown",
   "id": "b83da48f-2a15-4549-9dab-e4c6c9d99f1d",
   "metadata": {},
   "source": [
    "First let's generate the data table."
   ]
  },
  {
   "cell_type": "code",
   "execution_count": null,
   "id": "0a0f09ff-9a87-4ca7-8e14-8d6e01017a2d",
   "metadata": {
    "execution": {
     "iopub.execute_input": "2023-03-02T02:00:20.598539Z",
     "iopub.status.busy": "2023-03-02T02:00:20.598005Z",
     "iopub.status.idle": "2023-03-02T02:00:21.432153Z",
     "shell.execute_reply": "2023-03-02T02:00:21.431770Z",
     "shell.execute_reply.started": "2023-03-02T02:00:20.598502Z"
    },
    "tags": []
   },
   "outputs": [],
   "source": [
    "%load_ext autoreload\n",
    "%autoreload 2\n",
    "\n",
    "import os\n",
    "import sys\n",
    "\n",
    "sys.path.insert(0, os.path.abspath(os.path.join(os.path.dirname(__file__), '..')))\n",
    "\n",
    "from pathlib import Path\n",
    "\n",
    "import pandas as pd\n",
    "\n",
    "import rainbow as rb\n",
    "\n",
    "import numpy as np\n",
    "\n",
    "from scripts.core_scripts.data_interface import retrieve_uv_data\n",
    "\n",
    "from scripts.core_scripts.data_interface import data_table\n",
    "\n",
    "from scripts.core_scripts.hplc_dad_plots import plot_3d_line"
   ]
  },
  {
   "cell_type": "code",
   "execution_count": null,
   "id": "5ee6aa60-e740-4515-8f33-d1b9a5b183e4",
   "metadata": {
    "execution": {
     "iopub.execute_input": "2023-03-02T02:00:21.433592Z",
     "iopub.status.busy": "2023-03-02T02:00:21.433405Z",
     "iopub.status.idle": "2023-03-02T02:00:21.448676Z",
     "shell.execute_reply": "2023-03-02T02:00:21.448158Z",
     "shell.execute_reply.started": "2023-03-02T02:00:21.433579Z"
    },
    "tags": []
   },
   "outputs": [],
   "source": [
    "p = Path(\"/Users/jonathan/0_jono_data\")"
   ]
  },
  {
   "cell_type": "markdown",
   "id": "24e37a84-5403-4600-ac85-73d2783c5fee",
   "metadata": {},
   "source": [
    "First gen the table."
   ]
  },
  {
   "cell_type": "code",
   "execution_count": null,
   "id": "0498e890-52b5-4c04-9e05-c2077533b341",
   "metadata": {
    "execution": {
     "iopub.execute_input": "2023-03-02T02:00:21.449396Z",
     "iopub.status.busy": "2023-03-02T02:00:21.449266Z",
     "iopub.status.idle": "2023-03-02T02:00:26.474828Z",
     "shell.execute_reply": "2023-03-02T02:00:26.474506Z",
     "shell.execute_reply.started": "2023-03-02T02:00:21.449383Z"
    },
    "tags": []
   },
   "outputs": [],
   "source": [
    "data_table(p).head()"
   ]
  },
  {
   "cell_type": "code",
   "execution_count": null,
   "id": "b3792230-9fdf-4c03-82df-8c3c3719c247",
   "metadata": {
    "execution": {
     "iopub.execute_input": "2023-03-02T02:00:26.475570Z",
     "iopub.status.busy": "2023-03-02T02:00:26.475444Z",
     "iopub.status.idle": "2023-03-02T02:00:26.770821Z",
     "shell.execute_reply": "2023-03-02T02:00:26.770363Z",
     "shell.execute_reply.started": "2023-03-02T02:00:26.475558Z"
    },
    "tags": []
   },
   "outputs": [],
   "source": [
    "datadir_p = Path('/Users/jonathan/0_jono_data/2023-02-23_2021-DEBORTOLI-CABERNET-MERLOT_AVANTOR.D')\n",
    "\n",
    "datadir = rb.read(str(datadir_p))"
   ]
  },
  {
   "cell_type": "code",
   "execution_count": null,
   "id": "203de899-6b5a-426a-92f6-f01413ba12ef",
   "metadata": {
    "execution": {
     "iopub.execute_input": "2023-03-02T02:00:26.771546Z",
     "iopub.status.busy": "2023-03-02T02:00:26.771421Z",
     "iopub.status.idle": "2023-03-02T02:00:26.789500Z",
     "shell.execute_reply": "2023-03-02T02:00:26.788608Z",
     "shell.execute_reply.started": "2023-03-02T02:00:26.771533Z"
    },
    "tags": []
   },
   "outputs": [],
   "source": [
    "datadir.__dict__"
   ]
  },
  {
   "cell_type": "markdown",
   "id": "5cd51647-9817-4de2-b456-740a7afe951a",
   "metadata": {},
   "source": [
    "There doesnt seem to be a way to get the sample name specifically, so we should instead pull the sample name from the `SAMPLE.XML` field `<Name>`. At the same time we can pull the `<Description>` as well. Now, how to manipulate XML files in Python?\n",
    "\n",
    "## Working with XML files in Python\n",
    "\n",
    "### Getting Set Up\n",
    "\n",
    "According to [this article](https://www.geeksforgeeks.org/reading-and-writing-xml-files-in-python/) BeautifulSoup and Elementtree can both be used to Parse XML files. ~~I think Elementtree is what the rainbow-api devs used~~ *Actually, they use etree from lxml*, however, BeautifulSoup is ubiquitous in the greater world, so I will use that.\n",
    "\n",
    "### Parsing an XML File\n",
    "\n",
    "When parsing an XML file, you first find a *tag* then extract from it:"
   ]
  },
  {
   "cell_type": "code",
   "execution_count": null,
   "id": "66720d1d-0eeb-4a9d-8587-33bc01d7edb0",
   "metadata": {
    "execution": {
     "iopub.execute_input": "2023-03-02T02:00:26.790256Z",
     "iopub.status.busy": "2023-03-02T02:00:26.790134Z",
     "iopub.status.idle": "2023-03-02T02:00:26.859538Z",
     "shell.execute_reply": "2023-03-02T02:00:26.859175Z",
     "shell.execute_reply.started": "2023-03-02T02:00:26.790243Z"
    },
    "tags": []
   },
   "outputs": [],
   "source": [
    "from bs4 import BeautifulSoup"
   ]
  },
  {
   "cell_type": "code",
   "execution_count": null,
   "id": "f18b01cb-5998-43db-8111-37568230952a",
   "metadata": {
    "execution": {
     "iopub.execute_input": "2023-03-02T02:00:26.862153Z",
     "iopub.status.busy": "2023-03-02T02:00:26.861835Z",
     "iopub.status.idle": "2023-03-02T02:00:26.879991Z",
     "shell.execute_reply": "2023-03-02T02:00:26.879581Z",
     "shell.execute_reply.started": "2023-03-02T02:00:26.862136Z"
    },
    "tags": []
   },
   "outputs": [],
   "source": [
    "with open(datadir_p / r\"SAMPLE.XML\", encoding=\"utf8\", errors='ignore') as f:\n",
    "    \n",
    "    data = f.read()\n",
    "    \n",
    "    print(data)"
   ]
  },
  {
   "cell_type": "markdown",
   "id": "58d2139e-08cc-4655-9a7f-d324f7ee25f5",
   "metadata": {},
   "source": [
    "We've established that we can read the data. Now to use it."
   ]
  },
  {
   "cell_type": "code",
   "execution_count": null,
   "id": "15672dd4-0056-4edb-9578-e1a15179d31f",
   "metadata": {
    "execution": {
     "iopub.execute_input": "2023-03-02T02:00:26.880857Z",
     "iopub.status.busy": "2023-03-02T02:00:26.880670Z",
     "iopub.status.idle": "2023-03-02T02:00:26.901013Z",
     "shell.execute_reply": "2023-03-02T02:00:26.900513Z",
     "shell.execute_reply.started": "2023-03-02T02:00:26.880843Z"
    },
    "tags": []
   },
   "outputs": [],
   "source": [
    "Bs_data = BeautifulSoup(data, \"xml\")\n",
    "Bs_data.prettify()"
   ]
  },
  {
   "cell_type": "code",
   "execution_count": null,
   "id": "b9fe9cc8-6fc9-4b2a-963d-1be5b36d3c89",
   "metadata": {
    "execution": {
     "iopub.execute_input": "2023-03-02T02:00:26.901898Z",
     "iopub.status.busy": "2023-03-02T02:00:26.901637Z",
     "iopub.status.idle": "2023-03-02T02:00:26.918773Z",
     "shell.execute_reply": "2023-03-02T02:00:26.918088Z",
     "shell.execute_reply.started": "2023-03-02T02:00:26.901882Z"
    },
    "tags": []
   },
   "outputs": [],
   "source": [
    "b_unique = Bs_data.find_all(\"unique\")\n",
    "\n",
    "b_name = Bs_data.find('Sample')\n",
    "\n",
    "print(b_name)"
   ]
  },
  {
   "cell_type": "markdown",
   "id": "01361cfd-20b2-451b-bb44-7a0e85efba3c",
   "metadata": {},
   "source": [
    "Problem - due to the way its encoded, I don't think BeautifulSoup is parsing it correctly. According to [this stackoverflow post](https://stackoverflow.com/questions/17534932/how-to-verify-xml-encoding) I can check the encoding by reading the first eight bytes of the file. I can either do that with a HEX editor or through Python directly with the 'b' argument in `read()`:"
   ]
  },
  {
   "cell_type": "code",
   "execution_count": null,
   "id": "11470dbf-d5a0-4981-8429-823ae43c540b",
   "metadata": {
    "execution": {
     "iopub.execute_input": "2023-03-02T02:00:26.919548Z",
     "iopub.status.busy": "2023-03-02T02:00:26.919428Z",
     "iopub.status.idle": "2023-03-02T02:00:26.936766Z",
     "shell.execute_reply": "2023-03-02T02:00:26.936297Z",
     "shell.execute_reply.started": "2023-03-02T02:00:26.919537Z"
    },
    "tags": []
   },
   "outputs": [],
   "source": [
    "with open(datadir_p / r\"SAMPLE.XML\", 'rb') as f:\n",
    "    \n",
    "    data = f.read(8)\n",
    "    \n",
    "    print(data)"
   ]
  },
  {
   "cell_type": "markdown",
   "id": "a20d1f30-ec7e-4a32-9646-a701b33fa0d8",
   "metadata": {},
   "source": [
    "Doesn't provide what I was expecting."
   ]
  },
  {
   "cell_type": "markdown",
   "id": "b12ba659-f8b0-4458-aa21-f14fbb4de402",
   "metadata": {},
   "source": [
    "On another tack, looking at the rainbow code [here](https://github.com/evanyeyeye/rainbow/blob/main/rainbow/agilent/chemstation.py), I can see that it does parse the xml files, but it appears to be looking for a AcqData directory which is not present in my data files. Perhaps Agilent changed how the files are structured."
   ]
  },
  {
   "cell_type": "markdown",
   "id": "9e06b763-cfa5-4e7d-8af8-957a8dee0fae",
   "metadata": {},
   "source": [
    "Pivoting back to the XML problem, inspecting the files in the terminal with bat showed that the `SAMPLE.XML` file is encoded with UTF-16LE. Maybe try that as a setting?"
   ]
  },
  {
   "cell_type": "code",
   "execution_count": null,
   "id": "e9ab75fd-486b-45ea-9b39-a88341692a37",
   "metadata": {
    "execution": {
     "iopub.execute_input": "2023-03-02T02:00:26.937575Z",
     "iopub.status.busy": "2023-03-02T02:00:26.937459Z",
     "iopub.status.idle": "2023-03-02T02:00:26.957190Z",
     "shell.execute_reply": "2023-03-02T02:00:26.954943Z",
     "shell.execute_reply.started": "2023-03-02T02:00:26.937563Z"
    },
    "tags": []
   },
   "outputs": [],
   "source": [
    "with open(datadir_p / r\"SAMPLE.XML\", 'r', encoding = 'UTF-16LE') as f:\n",
    "    \n",
    "    data = f.read()\n",
    "    \n",
    "    print(data)"
   ]
  },
  {
   "cell_type": "markdown",
   "id": "9a3d26be-6019-40bb-8fc6-437091a0eaa9",
   "metadata": {},
   "source": [
    "That seems happier?"
   ]
  },
  {
   "cell_type": "code",
   "execution_count": null,
   "id": "5bcda9f8-62db-4195-bd04-f3eaa908d351",
   "metadata": {
    "execution": {
     "iopub.execute_input": "2023-03-02T02:00:26.958611Z",
     "iopub.status.busy": "2023-03-02T02:00:26.958463Z",
     "iopub.status.idle": "2023-03-02T02:00:26.976916Z",
     "shell.execute_reply": "2023-03-02T02:00:26.976347Z",
     "shell.execute_reply.started": "2023-03-02T02:00:26.958598Z"
    },
    "tags": []
   },
   "outputs": [],
   "source": [
    "Bs_data = BeautifulSoup(data, \"xml\")\n",
    "print(Bs_data.prettify())"
   ]
  },
  {
   "cell_type": "markdown",
   "id": "0d50a586-1a9d-4da2-bd7d-e8241cd97575",
   "metadata": {},
   "source": [
    "Yes, that's working."
   ]
  },
  {
   "cell_type": "code",
   "execution_count": null,
   "id": "ea19a192-cf8f-4545-bfdd-88f7252e1c34",
   "metadata": {
    "execution": {
     "iopub.execute_input": "2023-03-02T02:00:26.977726Z",
     "iopub.status.busy": "2023-03-02T02:00:26.977479Z",
     "iopub.status.idle": "2023-03-02T02:00:26.996270Z",
     "shell.execute_reply": "2023-03-02T02:00:26.995065Z",
     "shell.execute_reply.started": "2023-03-02T02:00:26.977710Z"
    },
    "tags": []
   },
   "outputs": [],
   "source": [
    "b_sample = Bs_data.find('Sample')\n",
    "\n",
    "print(b_sample)"
   ]
  },
  {
   "cell_type": "markdown",
   "id": "12607153-d18d-44d3-8a9b-086bd5ad7634",
   "metadata": {},
   "source": [
    "And to access the name?"
   ]
  },
  {
   "cell_type": "code",
   "execution_count": null,
   "id": "7ac548cc-9f14-44ba-b676-14a906e7162f",
   "metadata": {
    "execution": {
     "iopub.execute_input": "2023-03-02T02:00:26.997279Z",
     "iopub.status.busy": "2023-03-02T02:00:26.997109Z",
     "iopub.status.idle": "2023-03-02T02:00:27.015700Z",
     "shell.execute_reply": "2023-03-02T02:00:27.015173Z",
     "shell.execute_reply.started": "2023-03-02T02:00:26.997265Z"
    },
    "tags": []
   },
   "outputs": [],
   "source": [
    "name = b_sample.find('Name')\n",
    "name"
   ]
  },
  {
   "cell_type": "markdown",
   "id": "f1043aa9-8396-4afb-96ab-076775bbe933",
   "metadata": {},
   "source": [
    "Ok, but how do I get that out as a string?"
   ]
  },
  {
   "cell_type": "code",
   "execution_count": null,
   "id": "557ed542-ad74-464b-bb94-61109d1dbe21",
   "metadata": {
    "execution": {
     "iopub.execute_input": "2023-03-02T02:00:27.016398Z",
     "iopub.status.busy": "2023-03-02T02:00:27.016278Z",
     "iopub.status.idle": "2023-03-02T02:00:27.033524Z",
     "shell.execute_reply": "2023-03-02T02:00:27.033027Z",
     "shell.execute_reply.started": "2023-03-02T02:00:27.016386Z"
    },
    "tags": []
   },
   "outputs": [],
   "source": [
    "type(name)"
   ]
  },
  {
   "cell_type": "markdown",
   "id": "890a70a1-3df0-4fcc-a491-a46cdcbd4b13",
   "metadata": {},
   "source": [
    "try `str()`"
   ]
  },
  {
   "cell_type": "code",
   "execution_count": null,
   "id": "93cd26a3-2cf2-4f37-9c09-1172c9af6ffe",
   "metadata": {
    "execution": {
     "iopub.execute_input": "2023-03-02T02:00:27.034346Z",
     "iopub.status.busy": "2023-03-02T02:00:27.034209Z",
     "iopub.status.idle": "2023-03-02T02:00:27.054569Z",
     "shell.execute_reply": "2023-03-02T02:00:27.052761Z",
     "shell.execute_reply.started": "2023-03-02T02:00:27.034334Z"
    },
    "tags": []
   },
   "outputs": [],
   "source": [
    "str(name)"
   ]
  },
  {
   "cell_type": "markdown",
   "id": "70379518-a5a0-484d-a446-8c2954eae156",
   "metadata": {},
   "source": [
    "That doesn't work. What about [soup's documentation](https://www.crummy.com/software/BeautifulSoup/bs4/doc/)? It mentions a `get_text()` method"
   ]
  },
  {
   "cell_type": "code",
   "execution_count": null,
   "id": "edca26b3-aac6-4b6e-9a06-23b23e8589bb",
   "metadata": {
    "execution": {
     "iopub.execute_input": "2023-03-02T02:00:27.055452Z",
     "iopub.status.busy": "2023-03-02T02:00:27.055300Z",
     "iopub.status.idle": "2023-03-02T02:00:27.073717Z",
     "shell.execute_reply": "2023-03-02T02:00:27.073327Z",
     "shell.execute_reply.started": "2023-03-02T02:00:27.055438Z"
    },
    "tags": []
   },
   "outputs": [],
   "source": [
    "name_str = name.get_text()\n",
    "name_str"
   ]
  },
  {
   "cell_type": "code",
   "execution_count": null,
   "id": "d1af78a2-6018-45a6-9bee-8244135dbc7d",
   "metadata": {
    "execution": {
     "iopub.execute_input": "2023-03-02T02:00:27.074474Z",
     "iopub.status.busy": "2023-03-02T02:00:27.074279Z",
     "iopub.status.idle": "2023-03-02T02:00:27.094298Z",
     "shell.execute_reply": "2023-03-02T02:00:27.093602Z",
     "shell.execute_reply.started": "2023-03-02T02:00:27.074459Z"
    },
    "tags": []
   },
   "outputs": [],
   "source": [
    "type(name_str)"
   ]
  },
  {
   "cell_type": "markdown",
   "id": "411f8e5c-39e8-480b-9922-c3338edea958",
   "metadata": {},
   "source": [
    "And there we go."
   ]
  },
  {
   "cell_type": "markdown",
   "id": "355378a9-38f8-44d1-94b2-6103fe1f15fd",
   "metadata": {},
   "source": [
    "## OOP Data"
   ]
  },
  {
   "cell_type": "markdown",
   "id": "8e3d85cd-8420-4096-a448-b1433f45daf0",
   "metadata": {},
   "source": [
    "Fuck it, let's do it."
   ]
  },
  {
   "cell_type": "code",
   "execution_count": null,
   "id": "78aab269-e205-49b5-9327-ab5f8eb1615d",
   "metadata": {
    "execution": {
     "iopub.execute_input": "2023-03-02T02:00:27.095455Z",
     "iopub.status.busy": "2023-03-02T02:00:27.095307Z",
     "iopub.status.idle": "2023-03-02T02:00:27.111946Z",
     "shell.execute_reply": "2023-03-02T02:00:27.111585Z",
     "shell.execute_reply.started": "2023-03-02T02:00:27.095442Z"
    },
    "tags": []
   },
   "outputs": [],
   "source": [
    "data"
   ]
  },
  {
   "cell_type": "code",
   "execution_count": null,
   "id": "d2821fca-3fcb-4b48-a96b-bd1a800696fb",
   "metadata": {
    "execution": {
     "iopub.execute_input": "2023-03-02T02:00:27.112613Z",
     "iopub.status.busy": "2023-03-02T02:00:27.112490Z",
     "iopub.status.idle": "2023-03-02T02:00:27.701896Z",
     "shell.execute_reply": "2023-03-02T02:00:27.701517Z",
     "shell.execute_reply.started": "2023-03-02T02:00:27.112601Z"
    },
    "tags": []
   },
   "outputs": [],
   "source": [
    "from datetime import datetime\n",
    "\n",
    "\"\"\"\n",
    "a prototyped class definition using bits of rainbow and bits of direct XML parsing.\n",
    "\n",
    "I'll keep building it from here as my use case increases, but it is barebones atm.\n",
    "\n",
    "\"\"\"\n",
    "\n",
    "class Data:\n",
    "        \n",
    "    def __init__(self, file_path):\n",
    "        self.file_path = file_path\n",
    "        self.name = self.load_meta_data()[0]\n",
    "        self.description = self.load_meta_data()[1]\n",
    "        self.rainbow = self.rb_object()\n",
    "        self.uv_data = retrieve_uv_data(rb.read(str(self.file_path)))\n",
    "        self.method = self.rainbow.datafiles[0].metadata['method']\n",
    "        self.acq_date = datetime.strptime(self.rainbow.metadata['date'], \"%d-%b-%y, %H:%M:%S\")\n",
    "        self.sequence_name = self.sequence_name()\n",
    "        \n",
    "    def sequence_name(self):\n",
    "        if \".sequence\" in self.file_path.parent.name:\n",
    "            return self.file_path.parent.name\n",
    "        else:\n",
    "            return \"single run\"\n",
    "        \n",
    "    def load_meta_data(self):\n",
    "        \n",
    "        \"\"\"\n",
    "        atm this loads the name and description from SAMPLE.XML found in .D dirs.\n",
    "        It also cleans the description string.\n",
    "        \n",
    "        Atm it needs to load the whole XML file to read these two tags, which seems inefficient\n",
    "        but i dont know how to do it otherwise.\n",
    "        \"\"\"\n",
    "\n",
    "        with open(self.file_path / r\"SAMPLE.XML\", 'r', encoding = 'UTF-16LE') as f:\n",
    "\n",
    "            xml_data = f.read()\n",
    "            \n",
    "            bsoup_xml = BeautifulSoup(xml_data, 'xml')\n",
    "            \n",
    "            name = bsoup_xml.find(\"Name\").get_text()\n",
    "            \n",
    "            description = bsoup_xml.find(\"Description\").get_text()\n",
    "            clean_description = description.replace(\"\\n\", \"\").replace(\" \", \"-\").strip()\n",
    "\n",
    "        return name, clean_description\n",
    "    \n",
    "    def rb_object(self):\n",
    "        \"\"\"\n",
    "        loads the whole target data dir, currently it just returns the method and the data.\n",
    "        \"\"\"\n",
    "        rainbow_obj = rb.read(str(self.file_path))\n",
    "        \n",
    "        return rainbow_obj\n",
    "        \n",
    "\n",
    "a_data_file = Data(datadir_p)\n",
    "\n",
    "print(a_data_file.name)"
   ]
  },
  {
   "cell_type": "code",
   "execution_count": null,
   "id": "bb17f4ae-6247-4b5a-8452-8d36780e1aa6",
   "metadata": {
    "execution": {
     "iopub.execute_input": "2023-03-02T02:00:27.702545Z",
     "iopub.status.busy": "2023-03-02T02:00:27.702443Z",
     "iopub.status.idle": "2023-03-02T02:00:27.719032Z",
     "shell.execute_reply": "2023-03-02T02:00:27.718011Z",
     "shell.execute_reply.started": "2023-03-02T02:00:27.702534Z"
    },
    "tags": []
   },
   "outputs": [],
   "source": [
    "a_data_file.sequence_name"
   ]
  },
  {
   "cell_type": "code",
   "execution_count": null,
   "id": "0a91661d-5855-4a3e-98bf-fc79ccfd7602",
   "metadata": {
    "execution": {
     "iopub.execute_input": "2023-03-02T02:00:27.724577Z",
     "iopub.status.busy": "2023-03-02T02:00:27.724386Z",
     "iopub.status.idle": "2023-03-02T02:00:28.262266Z",
     "shell.execute_reply": "2023-03-02T02:00:28.261917Z",
     "shell.execute_reply.started": "2023-03-02T02:00:27.724561Z"
    },
    "tags": []
   },
   "outputs": [],
   "source": [
    "seq_data_file = Data(Path(\"/Users/jonathan/0_jono_data/2023-02-16_WINES_2023-02-16_13-46-32.sequence/001-0101.D\"))\n",
    "seq_data_file.sequence_name"
   ]
  },
  {
   "cell_type": "code",
   "execution_count": null,
   "id": "974b2b93-068a-4319-bc88-a71d4260cc12",
   "metadata": {
    "execution": {
     "iopub.execute_input": "2023-03-02T02:00:28.262868Z",
     "iopub.status.busy": "2023-03-02T02:00:28.262757Z",
     "iopub.status.idle": "2023-03-02T02:00:28.279117Z",
     "shell.execute_reply": "2023-03-02T02:00:28.278577Z",
     "shell.execute_reply.started": "2023-03-02T02:00:28.262856Z"
    },
    "tags": []
   },
   "outputs": [],
   "source": [
    "a_data_file.method"
   ]
  },
  {
   "cell_type": "code",
   "execution_count": null,
   "id": "5f2e9bb7-a10f-4100-a1cf-7a7b162d7f0d",
   "metadata": {
    "execution": {
     "iopub.execute_input": "2023-03-02T02:00:28.280314Z",
     "iopub.status.busy": "2023-03-02T02:00:28.279917Z",
     "iopub.status.idle": "2023-03-02T02:00:28.671570Z",
     "shell.execute_reply": "2023-03-02T02:00:28.671180Z",
     "shell.execute_reply.started": "2023-03-02T02:00:28.280297Z"
    },
    "tags": []
   },
   "outputs": [],
   "source": [
    "a_data_file.uv_data[350].plot()"
   ]
  },
  {
   "cell_type": "code",
   "execution_count": null,
   "id": "7bf7f800-2c1c-4ee2-8698-724232fe88a8",
   "metadata": {
    "execution": {
     "iopub.execute_input": "2023-03-02T02:00:28.672390Z",
     "iopub.status.busy": "2023-03-02T02:00:28.672228Z",
     "iopub.status.idle": "2023-03-02T02:00:28.693439Z",
     "shell.execute_reply": "2023-03-02T02:00:28.692832Z",
     "shell.execute_reply.started": "2023-03-02T02:00:28.672378Z"
    },
    "tags": []
   },
   "outputs": [],
   "source": [
    "str(a_data_file.acq_date)"
   ]
  },
  {
   "cell_type": "markdown",
   "id": "0d1f3909-f41d-4642-90f0-dc355e066ea9",
   "metadata": {},
   "source": [
    "Now, a top level data dir class could be useful..?"
   ]
  },
  {
   "cell_type": "code",
   "execution_count": null,
   "id": "30aea8e7-e8f6-42ee-9226-df0c95c0b8de",
   "metadata": {
    "execution": {
     "iopub.execute_input": "2023-03-02T02:00:28.695223Z",
     "iopub.status.busy": "2023-03-02T02:00:28.694686Z",
     "iopub.status.idle": "2023-03-02T02:00:28.721422Z",
     "shell.execute_reply": "2023-03-02T02:00:28.720551Z",
     "shell.execute_reply.started": "2023-03-02T02:00:28.695206Z"
    },
    "tags": []
   },
   "outputs": [],
   "source": [
    "# It will be able to return individual data files, all the single runs, and all the sequences.\n",
    "\n",
    "class Top_Dir:\n",
    "    \n",
    "    def __init__(self, dir_path):\n",
    "    \n",
    "        self.path = dir_path\n",
    "        self.single_runs = self.single_runs()\n",
    "        self.sequences = self.sequences()\n",
    "    \n",
    "    def single_runs(self):\n",
    "        \n",
    "        single_run_list = []\n",
    "        \n",
    "        for obj in self.path.iterdir():\n",
    "            \n",
    "            if obj.name.endswith(\".D\"):\n",
    "                \n",
    "                try:\n",
    "                    \n",
    "                    single_run_list.append(obj.name)\n",
    "        \n",
    "                except Exception as e:\n",
    "                    print(f\"{e}\")\n",
    "                        \n",
    "    def sequences(self):\n",
    "        \n",
    "        single_run_list = []\n",
    "        \n",
    "        for obj in self.path.iterdir():\n",
    "            \n",
    "            if obj.name.endswith(\".sequence\"):\n",
    "                \n",
    "                try:\n",
    "                    \n",
    "                    single_run_list.append(obj.name)\n",
    "        \n",
    "                except Exception as e:\n",
    "                    print(f\"{e}\")\n",
    "    \n",
    "        return single_run_list"
   ]
  },
  {
   "cell_type": "code",
   "execution_count": null,
   "id": "d2c1563b-20dc-474e-920f-c810b63bb749",
   "metadata": {
    "execution": {
     "iopub.execute_input": "2023-03-02T02:00:28.722791Z",
     "iopub.status.busy": "2023-03-02T02:00:28.722452Z",
     "iopub.status.idle": "2023-03-02T02:00:28.745586Z",
     "shell.execute_reply": "2023-03-02T02:00:28.745122Z",
     "shell.execute_reply.started": "2023-03-02T02:00:28.722775Z"
    },
    "tags": []
   },
   "outputs": [],
   "source": [
    "top_dir = Top_Dir(p)\n",
    "\n",
    "top_dir.sequences"
   ]
  },
  {
   "cell_type": "markdown",
   "id": "40bd41ee-36b5-4d4e-9d4c-6979db6b50f6",
   "metadata": {},
   "source": [
    "I don't know yet how to handle the sequence data files. Whatever container I use for the data should simply 'unwrap' the sequence directories and store the single run and sequence .D at the same level, keeping track of the origin of the file - \"sequence\" or \"single run\".\n",
    "\n",
    "The answer is to build a class heirarchy corresponding to the file structure. Lets call the application Agilette, a petit Agilent Chemstation imitator.\n",
    "\n",
    "Agilette\n",
    " |  |\n",
    " |  |___top_dir\n",
    " |              |\n",
    " |              |__**sequences*\n",
    " |              |\n",
    " |              |__*single_runs*\n",
    " |\n",
    " |__data_table"
   ]
  },
  {
   "cell_type": "code",
   "execution_count": null,
   "id": "c886c62c-39a3-4bcc-8c00-3966d6907aaf",
   "metadata": {
    "execution": {
     "iopub.execute_input": "2023-03-02T02:54:51.765033Z",
     "iopub.status.busy": "2023-03-02T02:54:51.764429Z",
     "iopub.status.idle": "2023-03-02T02:54:51.798688Z",
     "shell.execute_reply": "2023-03-02T02:54:51.797536Z",
     "shell.execute_reply.started": "2023-03-02T02:54:51.764984Z"
    },
    "tags": []
   },
   "outputs": [],
   "source": [
    "class Agilette:\n",
    "    def __init__(self, path = str):\n",
    "        self.path = path"
   ]
  },
  {
   "cell_type": "code",
   "execution_count": null,
   "id": "acc281ad-0179-418d-8fcc-5d022b6f1eee",
   "metadata": {
    "execution": {
     "iopub.execute_input": "2023-03-02T02:54:55.838247Z",
     "iopub.status.busy": "2023-03-02T02:54:55.837802Z",
     "iopub.status.idle": "2023-03-02T02:54:55.871287Z",
     "shell.execute_reply": "2023-03-02T02:54:55.870841Z",
     "shell.execute_reply.started": "2023-03-02T02:54:55.838222Z"
    },
    "tags": []
   },
   "outputs": [],
   "source": [
    "ag = Agilette(\"/Users/jonathan/0_jono_data/\")\n",
    "ag.path"
   ]
  },
  {
   "cell_type": "markdown",
   "id": "bd39af4d-a986-4aca-94ec-8da566375432",
   "metadata": {
    "execution": {
     "iopub.execute_input": "2023-03-02T02:57:13.197012Z",
     "iopub.status.busy": "2023-03-02T02:57:13.196431Z",
     "iopub.status.idle": "2023-03-02T02:57:13.229231Z",
     "shell.execute_reply": "2023-03-02T02:57:13.228451Z",
     "shell.execute_reply.started": "2023-03-02T02:57:13.196969Z"
    },
    "tags": []
   },
   "source": [
    "I've reached a point where I should be refactoring this all into .py files. Ill do that now."
   ]
  }
 ],
 "metadata": {
  "kernelspec": {
   "display_name": "Python 3 (ipykernel)",
   "language": "python",
   "name": "python3"
  },
  "language_info": {
   "codemirror_mode": {
    "name": "ipython",
    "version": 3
   },
   "file_extension": ".py",
   "mimetype": "text/x-python",
   "name": "python",
   "nbconvert_exporter": "python",
   "pygments_lexer": "ipython3",
   "version": "3.11.1"
  }
 },
 "nbformat": 4,
 "nbformat_minor": 5
}
