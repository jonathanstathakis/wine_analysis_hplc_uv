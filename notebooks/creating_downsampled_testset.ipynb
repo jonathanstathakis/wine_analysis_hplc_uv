{
 "cells": [
  {
   "cell_type": "markdown",
   "metadata": {},
   "source": [
    "# Creating a Downsampled Test Dataset\n",
    "\n",
    "This notebook will create a parquet file of downsampled CUPRAC detected shiraz signals at 450 nm.\n"
   ]
  },
  {
   "cell_type": "code",
   "execution_count": null,
   "metadata": {},
   "outputs": [],
   "source": [
    "%load_ext autoreload\n",
    "%autoreload 2\n",
    "\n",
    "from wine_analysis_hplc_uv.get_test_data import gd\n",
    "from wine_analysis_hplc_uv.signal_processing.mindex_signal_processing import SignalProcessor\n",
    "import pandas as pd\n",
    "import numpy as np\n",
    "sigpro = SignalProcessor()\n",
    "df = gd()"
   ]
  },
  {
   "cell_type": "code",
   "execution_count": null,
   "metadata": {},
   "outputs": [],
   "source": [
    "# setup\n",
    "df = (\n",
    "    df.pipe(sigpro.long_format)\n",
    "    .pipe(\n",
    "        lambda df: (\n",
    "            df.drop([\"id\", \"detection\"], axis=1)\n",
    "            if pd.Series([\"id\", \"detection\"]).isin(df.columns).all()\n",
    "            else df\n",
    "        )\n",
    "    )\n",
    "    .pipe(sigpro.tidy_format)\n",
    "    .drop([\"163\", \"165\", \"ca0301\"], axis=1)  # bad samples\n",
    ")\n",
    "df"
   ]
  },
  {
   "cell_type": "markdown",
   "metadata": {},
   "source": [
    "## Downsampling"
   ]
  },
  {
   "cell_type": "code",
   "execution_count": null,
   "metadata": {},
   "outputs": [],
   "source": [
    "rdf = (\n",
    "    df.pipe(sigpro.adjust_timescale)\n",
    "    .pipe(sigpro.correct_offset)\n",
    "    .pipe(sigpro.downsample_signal, \"2S\")\n",
    ")\n",
    "rdf\n",
    "# note, torbreck-struie appears to have 30 less observations than the other samples, not sure why, profile still looks good. this results in a number of NaT/NaN, but no big deal."
   ]
  },
  {
   "cell_type": "code",
   "execution_count": null,
   "metadata": {},
   "outputs": [],
   "source": [
    "# fill in torbreck-struie missing values\n",
    "\n",
    "\n",
    "# rdf =\n",
    "def fillfunc(df):\n",
    "    if df.name == \"torbreck-struie\":\n",
    "        df = (\n",
    "            df.stack([\"samplecode\", \"wine\"], dropna=False)\n",
    "            .assign(\n",
    "                mins=lambda df: pd.timedelta_range(\n",
    "                    start=\"0\", periods=df.shape[0], freq=\"2S\"\n",
    "                )\n",
    "            )\n",
    "            .assign(value=lambda df: df.value.fillna(method=\"ffill\"))\n",
    "            .unstack([\"samplecode\", \"wine\"])\n",
    "            .reorder_levels([\"samplecode\", \"wine\", \"vars\"], axis=1)\n",
    "        )\n",
    "        return df\n",
    "    else:\n",
    "        return df\n",
    "\n",
    "\n",
    "rdf = rdf.groupby([\"samplecode\"], axis=1).apply(fillfunc).droplevel(0, axis=1)\n",
    "rdf"
   ]
  },
  {
   "cell_type": "code",
   "execution_count": null,
   "metadata": {},
   "outputs": [],
   "source": [
    "import matplotlib.pyplot as plt\n",
    "\n",
    "fig, ax = plt.subplots(1)\n",
    "\n",
    "(\n",
    "    rdf.stack([\"samplecode\", \"wine\"])\n",
    "    .groupby([\"samplecode\"])\n",
    "    .apply(\n",
    "        lambda df: df.plot(\n",
    "            x=\"mins\", y=\"value\", ax=ax, label=df.index.get_level_values(1)[0]\n",
    "        )\n",
    "    )\n",
    ")"
   ]
  },
  {
   "cell_type": "markdown",
   "metadata": {},
   "source": [
    "## Write to File\n",
    "\n",
    "Testing between read times for parquet and csv found that parquet read times were twice as fast. so use parquet."
   ]
  },
  {
   "cell_type": "code",
   "execution_count": null,
   "metadata": {},
   "outputs": [],
   "source": [
    "rdf.to_parquet(\n",
    "    path=\"/Users/jonathan/mres_thesis/wine_analysis_hplc_uv/tests/test_data/processing_test_set/cupshz_testset.pq\"\n",
    ")"
   ]
  },
  {
   "cell_type": "code",
   "execution_count": null,
   "metadata": {},
   "outputs": [],
   "source": [
    "a = pd.read_parquet(\n",
    "    \"/Users/jonathan/mres_thesis/wine_analysis_hplc_uv/tests/test_data/processing_test_set/cupshz_testset.pq\"\n",
    ")\n",
    "a"
   ]
  }
 ],
 "metadata": {
  "kernelspec": {
   "display_name": "wine-analysis-hplc-uv-F-SbhWjO-py3.11",
   "language": "python",
   "name": "python3"
  },
  "language_info": {
   "codemirror_mode": {
    "name": "ipython",
    "version": 3
   },
   "file_extension": ".py",
   "mimetype": "text/x-python",
   "name": "python",
   "nbconvert_exporter": "python",
   "pygments_lexer": "ipython3",
   "version": "3.11.1"
  },
  "orig_nbformat": 4
 },
 "nbformat": 4,
 "nbformat_minor": 2
}
