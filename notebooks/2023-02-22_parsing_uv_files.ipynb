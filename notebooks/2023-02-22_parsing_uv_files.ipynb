{
 "cells": [
  {
   "cell_type": "code",
   "execution_count": null,
   "id": "c66a6d22-7b2b-4d50-b40b-5358d2fe4a9a",
   "metadata": {
    "execution": {
     "iopub.execute_input": "2023-02-22T01:17:05.574152Z",
     "iopub.status.busy": "2023-02-22T01:17:05.573847Z",
     "iopub.status.idle": "2023-02-22T01:17:06.395338Z",
     "shell.execute_reply": "2023-02-22T01:17:06.395106Z",
     "shell.execute_reply.started": "2023-02-22T01:17:05.574126Z"
    },
    "tags": []
   },
   "outputs": [],
   "source": [
    "import rainbow as rb\n",
    "\n",
    "from pathlib import Path\n",
    "\n",
    "import pandas as pd\n",
    "\n",
    "%matplotlib inline  \n",
    "from plotly import __version__ \n",
    "from plotly.offline import download_plotlyjs, init_notebook_mode, plot, iplot\n",
    "import cufflinks as cf\n",
    "init_notebook_mode(connected=True)\n",
    "cf.go_offline()"
   ]
  },
  {
   "cell_type": "code",
   "execution_count": null,
   "id": "ce57e08b-0263-448b-ac2a-3ee52ea32d88",
   "metadata": {
    "execution": {
     "iopub.execute_input": "2023-02-22T01:17:06.396369Z",
     "iopub.status.busy": "2023-02-22T01:17:06.396238Z",
     "iopub.status.idle": "2023-02-22T01:17:06.398653Z",
     "shell.execute_reply": "2023-02-22T01:17:06.398426Z",
     "shell.execute_reply.started": "2023-02-22T01:17:06.396360Z"
    },
    "tags": []
   },
   "outputs": [],
   "source": [
    "p = Path(\"/Users/jonathan/0_jono_data/2023-02-09_14-30-37_Z3.D/DAD1.UV\")\n",
    "p"
   ]
  },
  {
   "cell_type": "code",
   "execution_count": null,
   "id": "f7bdf7bc-bf6a-43fb-a224-4f26a608b5cf",
   "metadata": {
    "execution": {
     "iopub.execute_input": "2023-02-22T01:17:06.399094Z",
     "iopub.status.busy": "2023-02-22T01:17:06.399020Z",
     "iopub.status.idle": "2023-02-22T01:17:06.563012Z",
     "shell.execute_reply": "2023-02-22T01:17:06.562706Z",
     "shell.execute_reply.started": "2023-02-22T01:17:06.399087Z"
    },
    "tags": []
   },
   "outputs": [],
   "source": [
    "uv_data = rb.agilent.chemstation.parse_uv(str(p))\n",
    "\n",
    "'/Users/jonathan/002_wine_analysis_hplc_uv/2023-02-09_14-30-37_Z3_uv-data.csv'\n",
    "\n",
    "uv_data.export_csv('/Users/jonathan/002_wine_analysis_hplc_uv/2023-02-09_14-30-37_Z3_uv-data.csv')"
   ]
  },
  {
   "cell_type": "code",
   "execution_count": null,
   "id": "98f17e1e-3335-4ad2-a6f1-7dbdd6dbb0f8",
   "metadata": {
    "execution": {
     "iopub.execute_input": "2023-02-22T01:17:06.563438Z",
     "iopub.status.busy": "2023-02-22T01:17:06.563362Z",
     "iopub.status.idle": "2023-02-22T01:17:06.591036Z",
     "shell.execute_reply": "2023-02-22T01:17:06.590767Z",
     "shell.execute_reply.started": "2023-02-22T01:17:06.563429Z"
    },
    "tags": []
   },
   "outputs": [],
   "source": [
    "uv_df = pd.read_csv('/Users/jonathan/002_wine_analysis_hplc_uv/2023-02-09_14-30-37_Z3_uv-data.csv')\n",
    "\n",
    "uv_df.info()"
   ]
  },
  {
   "cell_type": "code",
   "execution_count": null,
   "id": "2fba77a4-cacf-4f14-857a-2c86ef7d4760",
   "metadata": {
    "execution": {
     "iopub.execute_input": "2023-02-22T01:17:06.591529Z",
     "iopub.status.busy": "2023-02-22T01:17:06.591453Z",
     "iopub.status.idle": "2023-02-22T01:17:07.121735Z",
     "shell.execute_reply": "2023-02-22T01:17:07.121389Z",
     "shell.execute_reply.started": "2023-02-22T01:17:06.591521Z"
    },
    "jupyter": {
     "source_hidden": true
    },
    "tags": []
   },
   "outputs": [],
   "source": [
    "uv_df.iplot(kind='surface')"
   ]
  },
  {
   "cell_type": "code",
   "execution_count": null,
   "id": "8a01169a-35d2-4b55-981e-19c76f51454d",
   "metadata": {},
   "outputs": [],
   "source": []
  }
 ],
 "metadata": {
  "kernelspec": {
   "display_name": "Python 3 (ipykernel)",
   "language": "python",
   "name": "python3"
  },
  "language_info": {
   "codemirror_mode": {
    "name": "ipython",
    "version": 3
   },
   "file_extension": ".py",
   "mimetype": "text/x-python",
   "name": "python",
   "nbconvert_exporter": "python",
   "pygments_lexer": "ipython3",
   "version": "3.11.1"
  }
 },
 "nbformat": 4,
 "nbformat_minor": 5
}
