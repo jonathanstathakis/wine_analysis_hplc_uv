{
 "cells": [
  {
   "cell_type": "markdown",
   "metadata": {},
   "source": [
    "# Identifying the Most Similar Signal in a Dataset\n",
    "\n",
    "In my efforts to align chromatographic signals in a dataset for modelling, I need a general method of identifying the most similar signal to all other signals, the idea being that if all signals in the set exist in a sample space, the most similar signal acts as a landmark upon which the other signals are aligned.\n"
   ]
  },
  {
   "cell_type": "code",
   "execution_count": null,
   "metadata": {},
   "outputs": [],
   "source": [
    "import pandas as pd\n",
    "import numpy as np\n",
    "import seaborn as sns\n",
    "import matplotlib.pyplot as plt\n",
    "from wine_analysis_hplc_uv import definitions\n",
    "from scipy.spatial.distance import euclidean"
   ]
  },
  {
   "cell_type": "code",
   "execution_count": null,
   "metadata": {},
   "outputs": [],
   "source": [
    "df = pd.read_parquet(definitions.XPRO_YPRO_DOWNSAMPLED_PARQ_PATH)\n",
    "(\n",
    "    df.melt(ignore_index=False)\n",
    "    .reset_index()\n",
    "    .pipe(\n",
    "        lambda df: df if df.pipe(sns.lineplot, x=\"mins\", y=\"value\", hue=\"wine\") else df\n",
    "    )\n",
    ")\n",
    "plt.tight_layout()"
   ]
  },
  {
   "cell_type": "markdown",
   "metadata": {},
   "source": [
    "As we can see the signals are out of alignment, especially '2021 torbreck shiraz the struie 2'. I will most likely need to leave it out of the data set to get an adequate result.\n"
   ]
  },
  {
   "cell_type": "markdown",
   "metadata": {},
   "source": [
    "The original approach was to form tidy frame then call `.corr` to produce a correlation matrix\n"
   ]
  },
  {
   "cell_type": "code",
   "execution_count": null,
   "metadata": {},
   "outputs": [],
   "source": [
    "# calculate the pearsons correlation coefficient for each wine relative to each other, for a tidy df\n",
    "\n",
    "corr_df = df.corr()\n",
    "corr_df"
   ]
  },
  {
   "cell_type": "markdown",
   "metadata": {},
   "source": [
    "then calculate the columnar mean and sort in ascending order.\n"
   ]
  },
  {
   "cell_type": "code",
   "execution_count": null,
   "metadata": {},
   "outputs": [],
   "source": [
    "# return the mean correlation values for each wine sorted in descending order\n",
    "\n",
    "mean_corr_series = corr_df.mean().sort_values(ascending=False)\n",
    "mean_corr_series"
   ]
  },
  {
   "cell_type": "markdown",
   "metadata": {},
   "source": [
    "Somewhat ironically, 'struie 1' is the most correlated in this dataset, and as expected, 'struie 2' is the least.\n"
   ]
  },
  {
   "cell_type": "code",
   "execution_count": null,
   "metadata": {},
   "outputs": [],
   "source": [
    "# return the wine row with highest correlation value\n",
    "\n",
    "most_corr_wine = mean_corr_series.loc[mean_corr_series == mean_corr_series.max()]\n",
    "most_corr_wine"
   ]
  },
  {
   "cell_type": "markdown",
   "metadata": {},
   "source": [
    "Now lets wrap all that up into a function add add it to SignalProcessor\n"
   ]
  },
  {
   "cell_type": "code",
   "execution_count": null,
   "metadata": {},
   "outputs": [],
   "source": [
    "def most_correlated(df: pd.DataFrame) -> str:\n",
    "    \"\"\"\n",
    "    Take a tidy format df, identify the most correlated sample in the set and return its samplecode\n",
    "    \"\"\"\n",
    "    samplecode_idx = (\n",
    "        df.corr()\n",
    "        .mean()\n",
    "        .sort_values(ascending=False)\n",
    "        .loc[lambda df: df == df.max(),]\n",
    "        .index.get_level_values(\"samplecode\")\n",
    "    )\n",
    "    return samplecode_idx\n",
    "\n",
    "\n",
    "most_corr_sample = df.pipe(most_correlated)\n",
    "most_corr_sample"
   ]
  },
  {
   "cell_type": "markdown",
   "metadata": {},
   "source": [
    "And test it with a rudimentary dtw calculation:\n"
   ]
  },
  {
   "cell_type": "code",
   "execution_count": null,
   "metadata": {},
   "outputs": [],
   "source": [
    "# perform dtw on all the samples in the df to align with 'most_corr_sample' then display a path alignment plot for the sampleset\n",
    "\n",
    "from dtw import dtw\n",
    "\n",
    "fig, ax = plt.subplots(1)\n",
    "(\n",
    "    df.stack([\"samplecode\", \"wine\"])\n",
    "    .reorder_levels([\"samplecode\", \"wine\", \"mins\"])\n",
    "    .groupby(\"wine\")\n",
    "    .apply(lambda x: dtw(x=x, y=df.loc[:, most_corr_sample]).index1)\n",
    "    .explode()\n",
    "    .reset_index(name=\"dtw\")\n",
    "    .assign(i=lambda df: df.groupby([\"wine\"]).cumcount())\n",
    "    .set_index([\"wine\", \"i\"])\n",
    "    .pipe(lambda df: sns.lineplot(df, x=\"i\", y=\"dtw\", hue=\"wine\"))\n",
    ")"
   ]
  },
  {
   "cell_type": "markdown",
   "metadata": {},
   "source": [
    "As we can see from the path plot above, each of the wines has been aligned onto the most correlated wine.\n"
   ]
  }
 ],
 "metadata": {
  "kernelspec": {
   "display_name": "wine-analysis-hplc-uv-F-SbhWjO-py3.11",
   "language": "python",
   "name": "python3"
  },
  "language_info": {
   "codemirror_mode": {
    "name": "ipython",
    "version": 3
   },
   "file_extension": ".py",
   "mimetype": "text/x-python",
   "name": "python",
   "nbconvert_exporter": "python",
   "pygments_lexer": "ipython3",
   "version": "3.11.1"
  }
 },
 "nbformat": 4,
 "nbformat_minor": 2
}
