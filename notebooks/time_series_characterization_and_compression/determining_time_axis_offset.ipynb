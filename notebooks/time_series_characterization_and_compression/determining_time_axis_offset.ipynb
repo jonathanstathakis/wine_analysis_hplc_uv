{
 "cells": [
  {
   "cell_type": "markdown",
   "metadata": {},
   "source": [
    "# Determining Time Axis Offset Pattern\n"
   ]
  },
  {
   "cell_type": "markdown",
   "metadata": {},
   "source": [
    "While determining the [time precision](determining_time_precision.ipynb) I noticed that once adjusted to a millisecond scale, it was clear that there was an offset in sample 154 of 15 milliseconds.\n"
   ]
  },
  {
   "cell_type": "code",
   "execution_count": null,
   "metadata": {},
   "outputs": [],
   "source": [
    "# setup\n",
    "from wine_analysis_hplc_uv import definitions\n",
    "from wine_analysis_hplc_uv.db_methods import get_data, pivot_wine_data\n",
    "import pandas as pd\n",
    "import duckdb as db\n",
    "\n",
    "# pd.options.display.width = None\n",
    "pd.options.display.max_rows = 20\n",
    "pd.options.display.max_columns = 15\n",
    "pd.options.display.max_colwidth = None\n",
    "pd.options.display.colheader_justify = \"left\"\n",
    "\n",
    "con = db.connect(definitions.DB_PATH)\n",
    "\n",
    "\n",
    "def fetch_dataset(con):\n",
    "    get_data.get_wine_data(\n",
    "        con, detection=(\"cuprac\",), wavelength=(450,), varietal=(\"shiraz\",)\n",
    "    )\n",
    "    df = pivot_wine_data.pivot_wine_data(con)\n",
    "    return df\n",
    "\n",
    "\n",
    "df154 = (\n",
    "    fetch_dataset(con)\n",
    "    .loc[:, pd.IndexSlice[\"154\", :, [\"mins\", \"value\"]]]\n",
    "    .stack([\"samplecode\", \"wine\"])\n",
    "    .reset_index()\n",
    "    .set_index([\"mins\", \"samplecode\", \"wine\"])\n",
    "    .unstack([\"samplecode\", \"wine\"])\n",
    "    .reorder_levels([\"samplecode\", \"wine\", \"vars\"], axis=1)\n",
    "    .pipe(lambda df: df.set_index(pd.to_timedelta(df.index, unit=\"minutes\")))\n",
    "    .pipe(\n",
    "        lambda df: df.set_index(df.index.round(\"L\"))\n",
    "    )  # refer to README.md/decisions 1\n",
    ")\n",
    "display(df154.head())\n",
    "display(df154.columns)\n",
    "display(df154.shape)"
   ]
  },
  {
   "cell_type": "code",
   "execution_count": null,
   "metadata": {},
   "outputs": [],
   "source": [
    "df154 = (\n",
    "    df154.index.to_frame()\n",
    "    .rename_axis(\"mins_index\")\n",
    "    .diff(1)\n",
    "    .rename({\"mins\": \"diff\"}, axis=1)\n",
    "    .reset_index()\n",
    "    .assign(diff_mode=lambda df: df.loc[:, \"diff\"].mode())\n",
    "    .assign(mins_index=lambda df: df.loc[:, \"mins_index\"] - df.loc[0, \"mins_index\"])\n",
    "    .pipe(lambda df: df if display(df) is None else df)\n",
    ")"
   ]
  },
  {
   "cell_type": "markdown",
   "metadata": {},
   "source": [
    "Which ends up being very clean. Now the question is, will that work for every sample?\n"
   ]
  },
  {
   "cell_type": "code",
   "execution_count": null,
   "metadata": {},
   "outputs": [],
   "source": [
    "def fetch_all_samples(con):\n",
    "    get_data.get_wine_data(con, detection=(\"cuprac\",), wavelength=(450,))\n",
    "    df = (\n",
    "        pivot_wine_data.pivot_wine_data(con)\n",
    "        .loc[:, pd.IndexSlice[:, :, [\"mins\"]]]  #\n",
    "        .stack([\"samplecode\", \"wine\"])\n",
    "        .assign(\n",
    "            mins=lambda df: df.groupby([\"samplecode\", \"wine\"])[\"mins\"]\n",
    "            .transform(pd.to_timedelta, **dict(unit=\"minutes\"))\n",
    "            .round(\"L\")\n",
    "        )\n",
    "        .unstack([\"samplecode\", \"wine\"])\n",
    "        .reorder_levels([\"samplecode\", \"wine\", \"vars\"], axis=1)\n",
    "    )\n",
    "    return df\n",
    "\n",
    "\n",
    "adf = fetch_all_samples(con)\n",
    "adf.head()"
   ]
  },
  {
   "cell_type": "markdown",
   "metadata": {},
   "source": [
    "There looks to be a consistent offset. Now if I subtract the first value from all..\n"
   ]
  },
  {
   "cell_type": "code",
   "execution_count": null,
   "metadata": {},
   "outputs": [],
   "source": [
    "adf = (\n",
    "    adf.stack([\"samplecode\", \"wine\"])\n",
    "    .assign(\n",
    "        mins=lambda df: df.groupby([\"samplecode\", \"wine\"])[\"mins\"].transform(\n",
    "            lambda x: x - x.iloc[0]\n",
    "        )\n",
    "    )  # adjust time axis by initial value so they all start at 1\n",
    "    .unstack([\"samplecode\", \"wine\"])\n",
    "    .reorder_levels([\"samplecode\", \"wine\", \"vars\"], axis=1)\n",
    "    .sort_index(level=0, axis=1, sort_remaining=True)\n",
    "    .pipe(lambda df: df if display(df.head()) else df)\n",
    ")"
   ]
  },
  {
   "cell_type": "markdown",
   "metadata": {},
   "source": [
    "Looks right, but I need to be certain. The following will return the count of unique values by row. Any row with more than 1 unique value indicates that there is more going on than a scalar offset.\n"
   ]
  },
  {
   "cell_type": "code",
   "execution_count": null,
   "metadata": {},
   "outputs": [],
   "source": [
    "(\n",
    "    adf_.dropna()  # make all series the same length\n",
    "    .agg([pd.unique], axis=1)  # get unique values in each row\n",
    "    .explode(\n",
    "        \"unique\"\n",
    "    )  # expand on the index so each unique value per row now has multiple entries\n",
    "    .groupby(\"i\")  # groupby index to see how many unique elements per row index\n",
    "    .size()\n",
    "    .where(\n",
    "        lambda s: s > 1\n",
    "    )  # filter out any row indexes where more than 1 unique value. If false, returns NaN\n",
    "    .dropna()  # remaining rows will be rows that had more than 1 unique value\n",
    ")"
   ]
  },
  {
   "cell_type": "code",
   "execution_count": null,
   "metadata": {},
   "outputs": [],
   "source": [
    "con.close()"
   ]
  },
  {
   "cell_type": "markdown",
   "metadata": {},
   "source": [
    "Ok, that's convincing enough for me. As of 2023-08-23 22:47:37 I am going to assume the full dataset follows the same pattern.\n",
    "\n",
    "In summary: all data time axes have a varying offset equal to the value of the first measurement. Subtracting the first value from the axis will align the data so that the first measurement is zero.\n",
    "\n",
    "The caveat is that the observation frequency must be the same for all samples.\n"
   ]
  }
 ],
 "metadata": {
  "kernelspec": {
   "display_name": "wine-analysis-hplc-uv-F-SbhWjO-py3.11",
   "language": "python",
   "name": "python3"
  },
  "language_info": {
   "codemirror_mode": {
    "name": "ipython",
    "version": 3
   },
   "file_extension": ".py",
   "mimetype": "text/x-python",
   "name": "python",
   "nbconvert_exporter": "python",
   "pygments_lexer": "ipython3",
   "version": "3.11.1"
  },
  "orig_nbformat": 4
 },
 "nbformat": 4,
 "nbformat_minor": 2
}
