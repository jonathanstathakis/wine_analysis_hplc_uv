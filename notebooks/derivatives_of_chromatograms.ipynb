{
 "cells": [
  {
   "cell_type": "markdown",
   "metadata": {},
   "source": [
    "## Investigating the Usefulness of Derivatives to Characterizing Chromatographic Signals"
   ]
  },
  {
   "cell_type": "markdown",
   "metadata": {},
   "source": [
    "2023-09-04 13:44:06\n",
    "\n",
    "It is well-known that the first and second derivatives of a chromatographic \n",
    "signal can be used for peak detection. This notebook is intended to investigate their behavior and see whether they can be useful in dashboard level signal visualisation."
   ]
  },
  {
   "cell_type": "code",
   "execution_count": null,
   "metadata": {},
   "outputs": [],
   "source": [
    "# setup\n",
    "\n",
    "%load_ext autoreload\n",
    "%autoreload 2\n",
    "\n",
    "import pandas as pd\n",
    "import seaborn as sns\n",
    "from wine_analysis_hplc_uv import definitions\n",
    "from wine_analysis_hplc_uv.signal_processing.mindex_signal_processing import SignalProcessor\n",
    "from pybaselines import Baseline\n",
    "import matplotlib.pyplot as plt\n",
    "\n",
    "scipro = SignalProcessor()\n",
    "df = pd.read_parquet(definitions.PRO_PARQ_PATH)\n",
    "df"
   ]
  },
  {
   "cell_type": "code",
   "execution_count": null,
   "metadata": {},
   "outputs": [],
   "source": [
    "# %config InlineBackend.figure_format = \"svg\"\n",
    "display(\n",
    "    df.stack([\"samplecode\", \"wine\"])\n",
    "    .assign(\n",
    "        diff1=lambda df: df.groupby([\"samplecode\"], group_keys=False)[\"value\"].diff()\n",
    "        * 5\n",
    "    )\n",
    "    .assign(\n",
    "        diff2=lambda df: df.groupby([\"samplecode\"], group_keys=False)[\"diff1\"].diff()\n",
    "    )\n",
    "    .fillna(0)\n",
    "    .unstack([\"samplecode\", \"wine\"])\n",
    "    .reorder_levels([\"samplecode\", \"wine\", \"vars\"], axis=1)\n",
    "    .sort_index(axis=1)\n",
    "    .pipe(lambda df: df if df.pipe(scipro.vars_subplots) else df)\n",
    ")\n",
    "plt.show()"
   ]
  }
 ],
 "metadata": {
  "kernelspec": {
   "display_name": "wine-analysis-hplc-uv-F-SbhWjO-py3.11",
   "language": "python",
   "name": "python3"
  },
  "language_info": {
   "codemirror_mode": {
    "name": "ipython",
    "version": 3
   },
   "file_extension": ".py",
   "mimetype": "text/x-python",
   "name": "python",
   "nbconvert_exporter": "python",
   "pygments_lexer": "ipython3",
   "version": "3.11.1"
  },
  "orig_nbformat": 4
 },
 "nbformat": 4,
 "nbformat_minor": 2
}
