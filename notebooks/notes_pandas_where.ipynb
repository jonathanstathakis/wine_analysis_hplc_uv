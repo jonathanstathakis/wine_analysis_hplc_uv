{
 "cells": [
  {
   "cell_type": "markdown",
   "metadata": {},
   "source": [
    "# Methods of Applying Transfromations to Subsets of DataFrames\n"
   ]
  },
  {
   "cell_type": "markdown",
   "metadata": {},
   "source": [
    "2023-08-28 12:23:16\n",
    "\n",
    "it is not directly obvious how to transform a subset of a dataframe while returning the whole dataframe, at least not in a method-chain domain. The following is a trial of methods developed with the help of ChatGPT\n"
   ]
  },
  {
   "cell_type": "code",
   "execution_count": null,
   "metadata": {},
   "outputs": [],
   "source": [
    "import numpy as np\n",
    "import pandas as pd\n",
    "\n",
    "df = pd.DataFrame(dict(floats=range(10), grps=[\"grp1\", \"grp2\"] * 5))\n",
    "df = (\n",
    "    df.assign(i=lambda df: df.groupby(\"grps\").cumcount())\n",
    "    .set_index([\"grps\", \"i\"])\n",
    "    .sort_index()\n",
    ")\n",
    "df"
   ]
  },
  {
   "cell_type": "code",
   "execution_count": null,
   "metadata": {},
   "outputs": [],
   "source": [
    "# multiply subset of 'floats'\n",
    "\n",
    "\n",
    "def basic_multiplication(df):\n",
    "    df = df.reset_index()\n",
    "    df.loc[2:, \"floats\"] = df.loc[2:, \"floats\"] * 50\n",
    "    display(df)\n",
    "    return None\n",
    "\n",
    "\n",
    "basic_multiplication(df)"
   ]
  },
  {
   "cell_type": "code",
   "execution_count": null,
   "metadata": {},
   "outputs": [],
   "source": [
    "(df.assign(floats=lambda x: np.where(x.index >= 2, x[\"floats\"] * 50, x[\"floats\"])))"
   ]
  },
  {
   "cell_type": "code",
   "execution_count": null,
   "metadata": {},
   "outputs": [],
   "source": [
    "# Multiply all but the first two values in floats by 50\n",
    "def multiply_by_condition(df)\n",
    "    df = df.reset_index()\n",
    "    (df.assign(floats=lambda x: x['floats'].where(x.index < 2, x['floats'] * 50)))\n",
    "    return None\n",
    "\n",
    "multiply_by_condition(df)    "
   ]
  },
  {
   "cell_type": "code",
   "execution_count": null,
   "metadata": {},
   "outputs": [],
   "source": [
    "# multiply all BUT the first element in each group by 50.\n",
    "\n",
    "df.assign(\n",
    "    floats = lambda df: df['floats']\n",
    "    .where(~(df.index.get_level_values('i')!=), df['floats']*50)\n",
    ")"
   ]
  },
  {
   "cell_type": "markdown",
   "metadata": {},
   "source": [
    "So the answer is `.where` . Where works by replacing values depending on a provided condition. if the condition evaluates to false, the value is replaced. Its a bit counter-intuitive to replace if false, so wrap the condition in `~()` to invert the condition so that it applies where true.\n"
   ]
  }
 ],
 "metadata": {
  "kernelspec": {
   "display_name": "wine-analysis-hplc-uv-F-SbhWjO-py3.11",
   "language": "python",
   "name": "python3"
  },
  "language_info": {
   "codemirror_mode": {
    "name": "ipython",
    "version": 3
   },
   "file_extension": ".py",
   "mimetype": "text/x-python",
   "name": "python",
   "nbconvert_exporter": "python",
   "pygments_lexer": "ipython3",
   "version": "3.11.1"
  },
  "orig_nbformat": 4
 },
 "nbformat": 4,
 "nbformat_minor": 2
}
