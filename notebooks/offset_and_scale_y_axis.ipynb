{
 "cells": [
  {
   "cell_type": "code",
   "execution_count": null,
   "metadata": {},
   "outputs": [],
   "source": [
    "# setup\n",
    "\n",
    "%load_ext autoreload\n",
    "%autoreload 2\n",
    "\n",
    "import pandas as pd\n",
    "import seaborn as sns\n",
    "from wine_analysis_hplc_uv import definitions\n",
    "from wine_analysis_hplc_uv.signal_processing.mindex_signal_processing import SignalProcessor\n",
    "from pybaselines import Baseline\n",
    "import matplotlib.pyplot as plt\n",
    "\n",
    "scipro = SignalProcessor()\n",
    "df = pd.read_parquet(definitions.TEST_PARQ_PATH)\n",
    "df"
   ]
  },
  {
   "cell_type": "markdown",
   "metadata": {},
   "source": [
    "## Universal Time Axis"
   ]
  },
  {
   "cell_type": "markdown",
   "metadata": {},
   "source": [
    "First lets get rid of the index column and set mins to the index:\n"
   ]
  },
  {
   "cell_type": "code",
   "execution_count": null,
   "metadata": {},
   "outputs": [],
   "source": [
    "df1 = (\n",
    "    df.rename({\"torbreck-struie\": \"333\"}, axis=1, level=\"samplecode\")\n",
    "    .stack([\"samplecode\", \"wine\"])\n",
    "    .reset_index()\n",
    "    .drop(\"i\", axis=1)\n",
    "    .set_index([\"samplecode\", \"wine\", \"mins\"])\n",
    "    .sort_index()\n",
    "    .unstack([\"samplecode\", \"wine\"])\n",
    "    .reorder_levels([\"samplecode\", \"wine\", \"vars\"], axis=1)\n",
    ")\n",
    "df1"
   ]
  },
  {
   "cell_type": "markdown",
   "metadata": {},
   "source": [
    "## Zeroing the Offset"
   ]
  },
  {
   "cell_type": "markdown",
   "metadata": {},
   "source": [
    "Next, just like we subtracted x[0] from x, we should subtract y[0] from y so that the initial value is 0. At time zero, y = 0.\n"
   ]
  },
  {
   "cell_type": "code",
   "execution_count": null,
   "metadata": {},
   "outputs": [],
   "source": [
    "df2 = (\n",
    "    df1\n",
    "    .pipe(scipro.zero_y_axis)\n",
    "    .pipe(lambda df: df if df.pipe(scipro.vars_subplots) else df)\n",
    ")\n",
    "plt.suptitle(\"zeroed\")\n",
    "# df2"
   ]
  },
  {
   "cell_type": "markdown",
   "metadata": {},
   "source": [
    "## Min-max Scaling"
   ]
  },
  {
   "cell_type": "code",
   "execution_count": null,
   "metadata": {},
   "outputs": [],
   "source": [
    "\n",
    "\n",
    "df3 = (\n",
    "    df2\n",
    "    .pipe(scipro.min_max_scale)\n",
    "    .pipe(lambda df: df if df.pipe(scipro.vars_subplots) else df)\n",
    ")\n",
    "plt.suptitle(\"min-maxed\")"
   ]
  },
  {
   "cell_type": "markdown",
   "metadata": {},
   "source": [
    "## Subsetting x-Axis"
   ]
  },
  {
   "cell_type": "markdown",
   "metadata": {},
   "source": [
    "Now we dont want the baseline to be fitting the dead area after ~ 25 mins, but we need a way of identifying where the curve flattens out, i.e. the first derivative. While I would like to spend time working on this, I need to push on. we'll call an arbritary limit of 20 mins.\n",
    "TODO: look into interpretatoin of first and second derivatives\n"
   ]
  },
  {
   "cell_type": "code",
   "execution_count": null,
   "metadata": {},
   "outputs": [],
   "source": [
    "df4 = df3.loc[df3.index < pd.to_timedelta(20, unit=\"minutes\")]  # drop data after 20 min\n",
    "df4"
   ]
  },
  {
   "cell_type": "markdown",
   "metadata": {},
   "source": [
    "## Write to file\n",
    "\n",
    "Now that the y-axis has been zeroed, scaled and subset, time to write to parquet file for downstream processing."
   ]
  },
  {
   "cell_type": "code",
   "execution_count": null,
   "metadata": {},
   "outputs": [],
   "source": [
    "df4.to_parquet(definitions.PRO_PARQ_PATH)"
   ]
  }
 ],
 "metadata": {
  "kernelspec": {
   "display_name": "wine-analysis-hplc-uv-F-SbhWjO-py3.11",
   "language": "python",
   "name": "python3"
  },
  "language_info": {
   "codemirror_mode": {
    "name": "ipython",
    "version": 3
   },
   "file_extension": ".py",
   "mimetype": "text/x-python",
   "name": "python",
   "nbconvert_exporter": "python",
   "pygments_lexer": "ipython3",
   "version": "3.11.1"
  },
  "orig_nbformat": 4
 },
 "nbformat": 4,
 "nbformat_minor": 2
}
