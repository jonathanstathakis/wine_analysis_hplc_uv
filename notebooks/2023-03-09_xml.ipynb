{
 "cells": [
  {
   "cell_type": "markdown",
   "metadata": {},
   "source": [
    "# Introduction to XML with BeautifulSoup"
   ]
  },
  {
   "cell_type": "markdown",
   "metadata": {},
   "source": [
    "[Parsing XML with BeautifulSoup in Python](https://stackabuse.com/parsing-xml-with-beautifulsoup-in-python/)"
   ]
  },
  {
   "cell_type": "markdown",
   "metadata": {},
   "source": [
    "## XML Structure"
   ]
  },
  {
   "cell_type": "code",
   "execution_count": 3,
   "metadata": {},
   "outputs": [],
   "source": [
    "xml_file = \"\"\"\n",
    "<?xml version=\"1.0\" encoding=\"UTF-8\"?>\n",
    "<teachers>\n",
    "    <teacher>\n",
    "        <name>Sam Davies</name>\n",
    "        <age>35</age>\n",
    "        <subject>Maths</subject>\n",
    "    </teacher>\n",
    "    <teacher>\n",
    "        <name>Cassie Stone</name>\n",
    "        <age>24</age>\n",
    "        <subject>Science</subject>\n",
    "    </teacher>\n",
    "    <teacher>\n",
    "        <name>Derek Brandon</name>\n",
    "        <age>32</age>\n",
    "        <subject>History</subject>\n",
    "    </teacher>\n",
    "</teachers>\n",
    "\"\"\""
   ]
  },
  {
   "attachments": {},
   "cell_type": "markdown",
   "metadata": {},
   "source": [
    "In the above, `<teachers>` is the root tag.\n",
    "\n",
    "Each of the `<teacher>` tags is a child of `<teachers>`.\n",
    "\n",
    "`<name>`, `<age>`, `<subject>` are children of each individual `<teacher>` tag.\n",
    "\n",
    "`<?xml version=\"1.0\" encoding=\"UTF-8\"?>` is called 'xml prolog."
   ]
  },
  {
   "attachments": {},
   "cell_type": "markdown",
   "metadata": {},
   "source": [
    "## Parsing XML"
   ]
  },
  {
   "cell_type": "markdown",
   "metadata": {},
   "source": [
    "### Parsing the XML into BeautifulSoup"
   ]
  },
  {
   "cell_type": "code",
   "execution_count": 5,
   "metadata": {},
   "outputs": [],
   "source": [
    "from bs4 import BeautifulSoup\n",
    "\n",
    "soup = BeautifulSoup(xml_file, 'xml')"
   ]
  },
  {
   "attachments": {},
   "cell_type": "markdown",
   "metadata": {},
   "source": [
    "### Returning the Contents of Particular Tags"
   ]
  },
  {
   "attachments": {},
   "cell_type": "markdown",
   "metadata": {},
   "source": [
    "names = soup.find_all('name')\n",
    "\n",
    "for name in names:\n",
    "    print(name.text)"
   ]
  },
  {
   "attachments": {},
   "cell_type": "markdown",
   "metadata": {},
   "source": [
    "## Parsing XML Tables"
   ]
  },
  {
   "attachments": {},
   "cell_type": "markdown",
   "metadata": {},
   "source": [
    "[Python Programming Tutorials](https://pythonprogramming.net/tables-xml-scraping-parsing-beautiful-soup-tutorial/)"
   ]
  },
  {
   "cell_type": "code",
   "execution_count": 16,
   "metadata": {},
   "outputs": [],
   "source": [
    "import bs4 as bs\n",
    "import urllib.request\n",
    "\n",
    "source = urllib.request.urlopen('https://pythonprogramming.net/parsememcparseface/').read()\n",
    "soup = bs.BeautifulSoup(source,'lxml')"
   ]
  },
  {
   "cell_type": "code",
   "execution_count": 17,
   "metadata": {},
   "outputs": [],
   "source": [
    "table = soup.find('table')"
   ]
  },
  {
   "cell_type": "code",
   "execution_count": 18,
   "metadata": {},
   "outputs": [],
   "source": [
    "table_rows = table.find_all('tr')"
   ]
  },
  {
   "attachments": {},
   "cell_type": "markdown",
   "metadata": {},
   "source": [
    "Find all table rows in the table."
   ]
  },
  {
   "cell_type": "code",
   "execution_count": 19,
   "metadata": {},
   "outputs": [
    {
     "name": "stdout",
     "output_type": "stream",
     "text": [
      "[]\n",
      "['Python', '932914021', 'Definitely']\n",
      "['Pascal', '532', 'Unlikely']\n",
      "['Lisp', '1522', 'Uncertain']\n",
      "['D#', '12', 'Possibly']\n",
      "['Cobol', '3', 'No.']\n",
      "['Fortran', '52124', 'Yes.']\n",
      "['Haskell', '24', 'lol.']\n"
     ]
    }
   ],
   "source": [
    "for tr in table_rows:\n",
    "    td = tr.find_all('td')\n",
    "    row = [i.text for i in td]\n",
    "    print(row)"
   ]
  }
 ],
 "metadata": {
  "kernelspec": {
   "display_name": "Python 3",
   "language": "python",
   "name": "python3"
  },
  "language_info": {
   "codemirror_mode": {
    "name": "ipython",
    "version": 3
   },
   "file_extension": ".py",
   "mimetype": "text/x-python",
   "name": "python",
   "nbconvert_exporter": "python",
   "pygments_lexer": "ipython3",
   "version": "3.11.1"
  },
  "orig_nbformat": 4
 },
 "nbformat": 4,
 "nbformat_minor": 2
}
