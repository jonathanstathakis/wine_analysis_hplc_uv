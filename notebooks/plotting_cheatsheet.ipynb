{
 "cells": [
  {
   "cell_type": "markdown",
   "metadata": {},
   "source": [
    "| verb | method | notes |\n",
    "|---|---|---|\n",
    "| put legend outside plot | plt.legend(bbox_to_anchor=(1.05, 1), loc=2, borderaxespad=0.) | NA | \n",
    "\n",
    "## Side by side plots of transformations of grps:\n",
    "\n",
    "```python\n",
    "import seaborn as sns\n",
    "g = sns.FacetGrid(plot_df, col='vars') # sets up a facet grid on a variable column\n",
    "g.map_dataframe(sns.lineplot, x='mins',y='value',hue='wine') # plots on other specified variables\n",
    "```"
   ]
  },
  {
   "cell_type": "code",
   "execution_count": null,
   "metadata": {
    "vscode": {
     "languageId": "plaintext"
    }
   },
   "outputs": [],
   "source": []
  }
 ],
 "metadata": {
  "language_info": {
   "name": "python"
  }
 },
 "nbformat": 4,
 "nbformat_minor": 2
}
