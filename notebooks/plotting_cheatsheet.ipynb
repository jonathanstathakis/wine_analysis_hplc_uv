{
 "cells": [
  {
   "cell_type": "markdown",
   "metadata": {},
   "source": [
    "| verb | method | notes |\n",
    "|---|---|---|\n",
    "| put legend outside plot | `plt.legend(bbox_to_anchor=(1.05, 1), loc=2, borderaxespad=0.)` | NA | "
   ]
  }
 ],
 "metadata": {
  "language_info": {
   "name": "python"
  }
 },
 "nbformat": 4,
 "nbformat_minor": 2
}
