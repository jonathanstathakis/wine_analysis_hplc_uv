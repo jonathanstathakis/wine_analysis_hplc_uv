{
 "cells": [
  {
   "cell_type": "markdown",
   "metadata": {},
   "source": [
    "refer to [2023-03-08_logbook](/Users/jonathan/001_obsidian_vault/2023-03-08_logbook.md)"
   ]
  },
  {
   "cell_type": "markdown",
   "metadata": {},
   "source": [
    "# Investigating Wavelength of Absorbance Maxima Outside of Mobile Phase Region of Wines"
   ]
  },
  {
   "cell_type": "markdown",
   "metadata": {},
   "source": [
    "The purpose of this notebook is to:\n",
    "\n",
    "- [x] Isolate the sequences and runs which used the avantor column.\n",
    "- [ ] Identify the wavelength region of 'minimal' baseline.\n",
    "- [ ] Identify the single wavelength with maximal absorbance within that region."
   ]
  },
  {
   "cell_type": "markdown",
   "metadata": {},
   "source": [
    "First I need to set up the environment."
   ]
  },
  {
   "cell_type": "markdown",
   "metadata": {},
   "source": [
    "## Set Up Environment"
   ]
  },
  {
   "cell_type": "code",
   "execution_count": 25,
   "metadata": {},
   "outputs": [
    {
     "name": "stdout",
     "output_type": "stream",
     "text": [
      "The autoreload extension is already loaded. To reload it, use:\n",
      "  %reload_ext autoreload\n",
      "/Users/jonathan/0_jono_data/2023-02-22_2021-DEBORTOLI-CABERNET-MERLOT_HALO.D/acq.macaml does not exist, cannot load signal metadata from acq.macaml\n",
      "/Users/jonathan/0_jono_data/2023-01-23_WINE_TEST_GRAD_4.D/acq.macaml does not exist, cannot load signal metadata from acq.macaml\n",
      "/Users/jonathan/0_jono_data/2022-08-01_CAFFEINE_STANDARD_100PPM.D/acq.macaml does not exist, cannot load signal metadata from acq.macaml\n"
     ]
    }
   ],
   "source": [
    "%load_ext autoreload\n",
    "%autoreload 2\n",
    "\n",
    "import sys\n",
    "\n",
    "import os\n",
    "\n",
    "# adds root dir 'wine_analyis_hplc_uv' to path.\n",
    "\n",
    "sys.path.insert(0, os.path.abspath(os.path.join(os.getcwd(), '../')))\n",
    "\n",
    "from agilette import agilette_core as ag\n",
    "\n",
    "lib = ag.Agilette('/Users/jonathan/0_jono_data').library"
   ]
  },
  {
   "cell_type": "markdown",
   "metadata": {},
   "source": []
  },
  {
   "cell_type": "markdown",
   "metadata": {},
   "source": [
    "## My Library"
   ]
  },
  {
   "cell_type": "code",
   "execution_count": 14,
   "metadata": {},
   "outputs": [
    {
     "data": {
      "text/html": [
       "<div>\n",
       "<style scoped>\n",
       "    .dataframe tbody tr th:only-of-type {\n",
       "        vertical-align: middle;\n",
       "    }\n",
       "\n",
       "    .dataframe tbody tr th {\n",
       "        vertical-align: top;\n",
       "    }\n",
       "\n",
       "    .dataframe thead th {\n",
       "        text-align: right;\n",
       "    }\n",
       "</style>\n",
       "<table border=\"1\" class=\"dataframe\">\n",
       "  <thead>\n",
       "    <tr style=\"text-align: right;\">\n",
       "      <th></th>\n",
       "      <th>acq_date</th>\n",
       "      <th>names</th>\n",
       "      <th>path</th>\n",
       "      <th>sequence</th>\n",
       "      <th>ch_files</th>\n",
       "      <th>uv_files</th>\n",
       "      <th>method</th>\n",
       "      <th>desc</th>\n",
       "    </tr>\n",
       "  </thead>\n",
       "  <tbody>\n",
       "    <tr>\n",
       "      <th>38</th>\n",
       "      <td>2023-03-01 17:22:18</td>\n",
       "      <td>acetone0006</td>\n",
       "      <td>/Users/jonathan/0_jono_data/2023-03-01_15-22-0...</td>\n",
       "      <td>2023-03-01_15-22-02_acetone_void-vol-measureme...</td>\n",
       "      <td>[DAD1D.ch, DAD1E.ch, DAD1A.ch, DAD1F.ch, DAD1B...</td>\n",
       "      <td>[]</td>\n",
       "      <td>c:\\chem32\\1\\methods\\0_jono_methods\\avantor100x...</td>\n",
       "      <td>empty</td>\n",
       "    </tr>\n",
       "    <tr>\n",
       "      <th>40</th>\n",
       "      <td>2023-03-01 17:02:51</td>\n",
       "      <td>acetone0005</td>\n",
       "      <td>/Users/jonathan/0_jono_data/2023-03-01_15-22-0...</td>\n",
       "      <td>2023-03-01_15-22-02_acetone_void-vol-measureme...</td>\n",
       "      <td>[DAD1D.ch, DAD1E.ch, DAD1A.ch, DAD1F.ch, DAD1B...</td>\n",
       "      <td>[]</td>\n",
       "      <td>c:\\chem32\\1\\methods\\0_jono_methods\\avantor100x...</td>\n",
       "      <td>empty</td>\n",
       "    </tr>\n",
       "    <tr>\n",
       "      <th>41</th>\n",
       "      <td>2023-03-01 16:43:21</td>\n",
       "      <td>acetone0004</td>\n",
       "      <td>/Users/jonathan/0_jono_data/2023-03-01_15-22-0...</td>\n",
       "      <td>2023-03-01_15-22-02_acetone_void-vol-measureme...</td>\n",
       "      <td>[DAD1D.ch, DAD1E.ch, DAD1A.ch, DAD1F.ch, DAD1B...</td>\n",
       "      <td>[]</td>\n",
       "      <td>c:\\chem32\\1\\methods\\0_jono_methods\\avantor100x...</td>\n",
       "      <td>empty</td>\n",
       "    </tr>\n",
       "    <tr>\n",
       "      <th>42</th>\n",
       "      <td>2023-03-01 16:23:51</td>\n",
       "      <td>acetone0003</td>\n",
       "      <td>/Users/jonathan/0_jono_data/2023-03-01_15-22-0...</td>\n",
       "      <td>2023-03-01_15-22-02_acetone_void-vol-measureme...</td>\n",
       "      <td>[DAD1D.ch, DAD1E.ch, DAD1A.ch, DAD1F.ch, DAD1B...</td>\n",
       "      <td>[]</td>\n",
       "      <td>c:\\chem32\\1\\methods\\0_jono_methods\\avantor100x...</td>\n",
       "      <td>empty</td>\n",
       "    </tr>\n",
       "    <tr>\n",
       "      <th>37</th>\n",
       "      <td>2023-03-01 16:04:20</td>\n",
       "      <td>acetone0002</td>\n",
       "      <td>/Users/jonathan/0_jono_data/2023-03-01_15-22-0...</td>\n",
       "      <td>2023-03-01_15-22-02_acetone_void-vol-measureme...</td>\n",
       "      <td>[DAD1D.ch, DAD1E.ch, DAD1A.ch, DAD1F.ch, DAD1B...</td>\n",
       "      <td>[]</td>\n",
       "      <td>c:\\chem32\\1\\methods\\0_jono_methods\\avantor100x...</td>\n",
       "      <td>empty</td>\n",
       "    </tr>\n",
       "  </tbody>\n",
       "</table>\n",
       "</div>"
      ],
      "text/plain": [
       "              acq_date        names  \\\n",
       "38 2023-03-01 17:22:18  acetone0006   \n",
       "40 2023-03-01 17:02:51  acetone0005   \n",
       "41 2023-03-01 16:43:21  acetone0004   \n",
       "42 2023-03-01 16:23:51  acetone0003   \n",
       "37 2023-03-01 16:04:20  acetone0002   \n",
       "\n",
       "                                                 path  \\\n",
       "38  /Users/jonathan/0_jono_data/2023-03-01_15-22-0...   \n",
       "40  /Users/jonathan/0_jono_data/2023-03-01_15-22-0...   \n",
       "41  /Users/jonathan/0_jono_data/2023-03-01_15-22-0...   \n",
       "42  /Users/jonathan/0_jono_data/2023-03-01_15-22-0...   \n",
       "37  /Users/jonathan/0_jono_data/2023-03-01_15-22-0...   \n",
       "\n",
       "                                             sequence  \\\n",
       "38  2023-03-01_15-22-02_acetone_void-vol-measureme...   \n",
       "40  2023-03-01_15-22-02_acetone_void-vol-measureme...   \n",
       "41  2023-03-01_15-22-02_acetone_void-vol-measureme...   \n",
       "42  2023-03-01_15-22-02_acetone_void-vol-measureme...   \n",
       "37  2023-03-01_15-22-02_acetone_void-vol-measureme...   \n",
       "\n",
       "                                             ch_files uv_files  \\\n",
       "38  [DAD1D.ch, DAD1E.ch, DAD1A.ch, DAD1F.ch, DAD1B...       []   \n",
       "40  [DAD1D.ch, DAD1E.ch, DAD1A.ch, DAD1F.ch, DAD1B...       []   \n",
       "41  [DAD1D.ch, DAD1E.ch, DAD1A.ch, DAD1F.ch, DAD1B...       []   \n",
       "42  [DAD1D.ch, DAD1E.ch, DAD1A.ch, DAD1F.ch, DAD1B...       []   \n",
       "37  [DAD1D.ch, DAD1E.ch, DAD1A.ch, DAD1F.ch, DAD1B...       []   \n",
       "\n",
       "                                               method   desc  \n",
       "38  c:\\chem32\\1\\methods\\0_jono_methods\\avantor100x...  empty  \n",
       "40  c:\\chem32\\1\\methods\\0_jono_methods\\avantor100x...  empty  \n",
       "41  c:\\chem32\\1\\methods\\0_jono_methods\\avantor100x...  empty  \n",
       "42  c:\\chem32\\1\\methods\\0_jono_methods\\avantor100x...  empty  \n",
       "37  c:\\chem32\\1\\methods\\0_jono_methods\\avantor100x...  empty  "
      ]
     },
     "execution_count": 14,
     "metadata": {},
     "output_type": "execute_result"
    }
   ],
   "source": [
    "lib_df = lib.data_table().applymap(lambda x: x.lower() if type(x) == str else x)\n",
    "lib_df.head()"
   ]
  },
  {
   "cell_type": "code",
   "execution_count": 15,
   "metadata": {},
   "outputs": [
    {
     "name": "stderr",
     "output_type": "stream",
     "text": [
      "/var/folders/mh/cknmc22s2zv5m4l777wwz1b00000gn/T/ipykernel_41484/366841983.py:1: FutureWarning: Treating datetime data as categorical rather than numeric in `.describe` is deprecated and will be removed in a future version of pandas. Specify `datetime_is_numeric=True` to silence this warning and adopt the future behavior now.\n",
      "  lib_df.describe()\n"
     ]
    },
    {
     "data": {
      "text/html": [
       "<div>\n",
       "<style scoped>\n",
       "    .dataframe tbody tr th:only-of-type {\n",
       "        vertical-align: middle;\n",
       "    }\n",
       "\n",
       "    .dataframe tbody tr th {\n",
       "        vertical-align: top;\n",
       "    }\n",
       "\n",
       "    .dataframe thead th {\n",
       "        text-align: right;\n",
       "    }\n",
       "</style>\n",
       "<table border=\"1\" class=\"dataframe\">\n",
       "  <thead>\n",
       "    <tr style=\"text-align: right;\">\n",
       "      <th></th>\n",
       "      <th>acq_date</th>\n",
       "      <th>names</th>\n",
       "      <th>path</th>\n",
       "      <th>sequence</th>\n",
       "      <th>ch_files</th>\n",
       "      <th>uv_files</th>\n",
       "      <th>method</th>\n",
       "      <th>desc</th>\n",
       "    </tr>\n",
       "  </thead>\n",
       "  <tbody>\n",
       "    <tr>\n",
       "      <th>count</th>\n",
       "      <td>103</td>\n",
       "      <td>103</td>\n",
       "      <td>103</td>\n",
       "      <td>103</td>\n",
       "      <td>103</td>\n",
       "      <td>103</td>\n",
       "      <td>103</td>\n",
       "      <td>103</td>\n",
       "    </tr>\n",
       "    <tr>\n",
       "      <th>unique</th>\n",
       "      <td>103</td>\n",
       "      <td>69</td>\n",
       "      <td>103</td>\n",
       "      <td>8</td>\n",
       "      <td>4</td>\n",
       "      <td>2</td>\n",
       "      <td>16</td>\n",
       "      <td>10</td>\n",
       "    </tr>\n",
       "    <tr>\n",
       "      <th>top</th>\n",
       "      <td>2023-03-01 17:22:18</td>\n",
       "      <td>z3</td>\n",
       "      <td>/Users/jonathan/0_jono_data/2023-03-01_15-22-0...</td>\n",
       "      <td>single run</td>\n",
       "      <td>[DAD1D.ch, DAD1E.ch, DAD1A.ch, DAD1F.ch, DAD1B...</td>\n",
       "      <td>[]</td>\n",
       "      <td>c:\\chem32\\1\\methods\\0_jono_methods\\avantor100x...</td>\n",
       "      <td>empty</td>\n",
       "    </tr>\n",
       "    <tr>\n",
       "      <th>freq</th>\n",
       "      <td>1</td>\n",
       "      <td>12</td>\n",
       "      <td>1</td>\n",
       "      <td>39</td>\n",
       "      <td>47</td>\n",
       "      <td>62</td>\n",
       "      <td>32</td>\n",
       "      <td>86</td>\n",
       "    </tr>\n",
       "    <tr>\n",
       "      <th>first</th>\n",
       "      <td>2022-08-01 12:21:02</td>\n",
       "      <td>NaN</td>\n",
       "      <td>NaN</td>\n",
       "      <td>NaN</td>\n",
       "      <td>NaN</td>\n",
       "      <td>NaN</td>\n",
       "      <td>NaN</td>\n",
       "      <td>NaN</td>\n",
       "    </tr>\n",
       "    <tr>\n",
       "      <th>last</th>\n",
       "      <td>2023-03-01 17:22:18</td>\n",
       "      <td>NaN</td>\n",
       "      <td>NaN</td>\n",
       "      <td>NaN</td>\n",
       "      <td>NaN</td>\n",
       "      <td>NaN</td>\n",
       "      <td>NaN</td>\n",
       "      <td>NaN</td>\n",
       "    </tr>\n",
       "  </tbody>\n",
       "</table>\n",
       "</div>"
      ],
      "text/plain": [
       "                   acq_date names  \\\n",
       "count                   103   103   \n",
       "unique                  103    69   \n",
       "top     2023-03-01 17:22:18    z3   \n",
       "freq                      1    12   \n",
       "first   2022-08-01 12:21:02   NaN   \n",
       "last    2023-03-01 17:22:18   NaN   \n",
       "\n",
       "                                                     path    sequence  \\\n",
       "count                                                 103         103   \n",
       "unique                                                103           8   \n",
       "top     /Users/jonathan/0_jono_data/2023-03-01_15-22-0...  single run   \n",
       "freq                                                    1          39   \n",
       "first                                                 NaN         NaN   \n",
       "last                                                  NaN         NaN   \n",
       "\n",
       "                                                 ch_files uv_files  \\\n",
       "count                                                 103      103   \n",
       "unique                                                  4        2   \n",
       "top     [DAD1D.ch, DAD1E.ch, DAD1A.ch, DAD1F.ch, DAD1B...       []   \n",
       "freq                                                   47       62   \n",
       "first                                                 NaN      NaN   \n",
       "last                                                  NaN      NaN   \n",
       "\n",
       "                                                   method   desc  \n",
       "count                                                 103    103  \n",
       "unique                                                 16     10  \n",
       "top     c:\\chem32\\1\\methods\\0_jono_methods\\avantor100x...  empty  \n",
       "freq                                                   32     86  \n",
       "first                                                 NaN    NaN  \n",
       "last                                                  NaN    NaN  "
      ]
     },
     "execution_count": 15,
     "metadata": {},
     "output_type": "execute_result"
    }
   ],
   "source": [
    "lib_df.describe()"
   ]
  },
  {
   "cell_type": "markdown",
   "metadata": {},
   "source": [
    "## Selecting Avantor Column Runs"
   ]
  },
  {
   "cell_type": "code",
   "execution_count": 16,
   "metadata": {},
   "outputs": [
    {
     "data": {
      "text/html": [
       "<div>\n",
       "<style scoped>\n",
       "    .dataframe tbody tr th:only-of-type {\n",
       "        vertical-align: middle;\n",
       "    }\n",
       "\n",
       "    .dataframe tbody tr th {\n",
       "        vertical-align: top;\n",
       "    }\n",
       "\n",
       "    .dataframe thead th {\n",
       "        text-align: right;\n",
       "    }\n",
       "</style>\n",
       "<table border=\"1\" class=\"dataframe\">\n",
       "  <thead>\n",
       "    <tr style=\"text-align: right;\">\n",
       "      <th></th>\n",
       "      <th>acq_date</th>\n",
       "      <th>names</th>\n",
       "      <th>path</th>\n",
       "      <th>sequence</th>\n",
       "      <th>ch_files</th>\n",
       "      <th>uv_files</th>\n",
       "      <th>method</th>\n",
       "      <th>desc</th>\n",
       "    </tr>\n",
       "  </thead>\n",
       "  <tbody>\n",
       "    <tr>\n",
       "      <th>38</th>\n",
       "      <td>2023-03-01 17:22:18</td>\n",
       "      <td>acetone0006</td>\n",
       "      <td>/Users/jonathan/0_jono_data/2023-03-01_15-22-0...</td>\n",
       "      <td>2023-03-01_15-22-02_acetone_void-vol-measureme...</td>\n",
       "      <td>[DAD1D.ch, DAD1E.ch, DAD1A.ch, DAD1F.ch, DAD1B...</td>\n",
       "      <td>[]</td>\n",
       "      <td>c:\\chem32\\1\\methods\\0_jono_methods\\avantor100x...</td>\n",
       "      <td>empty</td>\n",
       "    </tr>\n",
       "    <tr>\n",
       "      <th>40</th>\n",
       "      <td>2023-03-01 17:02:51</td>\n",
       "      <td>acetone0005</td>\n",
       "      <td>/Users/jonathan/0_jono_data/2023-03-01_15-22-0...</td>\n",
       "      <td>2023-03-01_15-22-02_acetone_void-vol-measureme...</td>\n",
       "      <td>[DAD1D.ch, DAD1E.ch, DAD1A.ch, DAD1F.ch, DAD1B...</td>\n",
       "      <td>[]</td>\n",
       "      <td>c:\\chem32\\1\\methods\\0_jono_methods\\avantor100x...</td>\n",
       "      <td>empty</td>\n",
       "    </tr>\n",
       "    <tr>\n",
       "      <th>41</th>\n",
       "      <td>2023-03-01 16:43:21</td>\n",
       "      <td>acetone0004</td>\n",
       "      <td>/Users/jonathan/0_jono_data/2023-03-01_15-22-0...</td>\n",
       "      <td>2023-03-01_15-22-02_acetone_void-vol-measureme...</td>\n",
       "      <td>[DAD1D.ch, DAD1E.ch, DAD1A.ch, DAD1F.ch, DAD1B...</td>\n",
       "      <td>[]</td>\n",
       "      <td>c:\\chem32\\1\\methods\\0_jono_methods\\avantor100x...</td>\n",
       "      <td>empty</td>\n",
       "    </tr>\n",
       "    <tr>\n",
       "      <th>42</th>\n",
       "      <td>2023-03-01 16:23:51</td>\n",
       "      <td>acetone0003</td>\n",
       "      <td>/Users/jonathan/0_jono_data/2023-03-01_15-22-0...</td>\n",
       "      <td>2023-03-01_15-22-02_acetone_void-vol-measureme...</td>\n",
       "      <td>[DAD1D.ch, DAD1E.ch, DAD1A.ch, DAD1F.ch, DAD1B...</td>\n",
       "      <td>[]</td>\n",
       "      <td>c:\\chem32\\1\\methods\\0_jono_methods\\avantor100x...</td>\n",
       "      <td>empty</td>\n",
       "    </tr>\n",
       "    <tr>\n",
       "      <th>37</th>\n",
       "      <td>2023-03-01 16:04:20</td>\n",
       "      <td>acetone0002</td>\n",
       "      <td>/Users/jonathan/0_jono_data/2023-03-01_15-22-0...</td>\n",
       "      <td>2023-03-01_15-22-02_acetone_void-vol-measureme...</td>\n",
       "      <td>[DAD1D.ch, DAD1E.ch, DAD1A.ch, DAD1F.ch, DAD1B...</td>\n",
       "      <td>[]</td>\n",
       "      <td>c:\\chem32\\1\\methods\\0_jono_methods\\avantor100x...</td>\n",
       "      <td>empty</td>\n",
       "    </tr>\n",
       "  </tbody>\n",
       "</table>\n",
       "</div>"
      ],
      "text/plain": [
       "              acq_date        names  \\\n",
       "38 2023-03-01 17:22:18  acetone0006   \n",
       "40 2023-03-01 17:02:51  acetone0005   \n",
       "41 2023-03-01 16:43:21  acetone0004   \n",
       "42 2023-03-01 16:23:51  acetone0003   \n",
       "37 2023-03-01 16:04:20  acetone0002   \n",
       "\n",
       "                                                 path  \\\n",
       "38  /Users/jonathan/0_jono_data/2023-03-01_15-22-0...   \n",
       "40  /Users/jonathan/0_jono_data/2023-03-01_15-22-0...   \n",
       "41  /Users/jonathan/0_jono_data/2023-03-01_15-22-0...   \n",
       "42  /Users/jonathan/0_jono_data/2023-03-01_15-22-0...   \n",
       "37  /Users/jonathan/0_jono_data/2023-03-01_15-22-0...   \n",
       "\n",
       "                                             sequence  \\\n",
       "38  2023-03-01_15-22-02_acetone_void-vol-measureme...   \n",
       "40  2023-03-01_15-22-02_acetone_void-vol-measureme...   \n",
       "41  2023-03-01_15-22-02_acetone_void-vol-measureme...   \n",
       "42  2023-03-01_15-22-02_acetone_void-vol-measureme...   \n",
       "37  2023-03-01_15-22-02_acetone_void-vol-measureme...   \n",
       "\n",
       "                                             ch_files uv_files  \\\n",
       "38  [DAD1D.ch, DAD1E.ch, DAD1A.ch, DAD1F.ch, DAD1B...       []   \n",
       "40  [DAD1D.ch, DAD1E.ch, DAD1A.ch, DAD1F.ch, DAD1B...       []   \n",
       "41  [DAD1D.ch, DAD1E.ch, DAD1A.ch, DAD1F.ch, DAD1B...       []   \n",
       "42  [DAD1D.ch, DAD1E.ch, DAD1A.ch, DAD1F.ch, DAD1B...       []   \n",
       "37  [DAD1D.ch, DAD1E.ch, DAD1A.ch, DAD1F.ch, DAD1B...       []   \n",
       "\n",
       "                                               method   desc  \n",
       "38  c:\\chem32\\1\\methods\\0_jono_methods\\avantor100x...  empty  \n",
       "40  c:\\chem32\\1\\methods\\0_jono_methods\\avantor100x...  empty  \n",
       "41  c:\\chem32\\1\\methods\\0_jono_methods\\avantor100x...  empty  \n",
       "42  c:\\chem32\\1\\methods\\0_jono_methods\\avantor100x...  empty  \n",
       "37  c:\\chem32\\1\\methods\\0_jono_methods\\avantor100x...  empty  "
      ]
     },
     "execution_count": 16,
     "metadata": {},
     "output_type": "execute_result"
    }
   ],
   "source": [
    "avantor_runs = lib_df[lib_df['method'].str.contains('avantor')]\n",
    "avantor_runs.head()"
   ]
  },
  {
   "cell_type": "code",
   "execution_count": 17,
   "metadata": {},
   "outputs": [
    {
     "name": "stdout",
     "output_type": "stream",
     "text": [
      "<class 'pandas.core.frame.DataFrame'>\n",
      "Int64Index: 63 entries, 38 to 99\n",
      "Data columns (total 8 columns):\n",
      " #   Column    Non-Null Count  Dtype         \n",
      "---  ------    --------------  -----         \n",
      " 0   acq_date  63 non-null     datetime64[ns]\n",
      " 1   names     63 non-null     object        \n",
      " 2   path      63 non-null     object        \n",
      " 3   sequence  63 non-null     object        \n",
      " 4   ch_files  63 non-null     object        \n",
      " 5   uv_files  63 non-null     object        \n",
      " 6   method    63 non-null     object        \n",
      " 7   desc      63 non-null     object        \n",
      "dtypes: datetime64[ns](1), object(7)\n",
      "memory usage: 4.4+ KB\n"
     ]
    }
   ],
   "source": [
    "avantor_runs.info()"
   ]
  },
  {
   "cell_type": "code",
   "execution_count": 18,
   "metadata": {},
   "outputs": [
    {
     "name": "stderr",
     "output_type": "stream",
     "text": [
      "/var/folders/mh/cknmc22s2zv5m4l777wwz1b00000gn/T/ipykernel_41484/3644152887.py:1: FutureWarning: Treating datetime data as categorical rather than numeric in `.describe` is deprecated and will be removed in a future version of pandas. Specify `datetime_is_numeric=True` to silence this warning and adopt the future behavior now.\n",
      "  avantor_runs.describe()\n"
     ]
    },
    {
     "data": {
      "text/html": [
       "<div>\n",
       "<style scoped>\n",
       "    .dataframe tbody tr th:only-of-type {\n",
       "        vertical-align: middle;\n",
       "    }\n",
       "\n",
       "    .dataframe tbody tr th {\n",
       "        vertical-align: top;\n",
       "    }\n",
       "\n",
       "    .dataframe thead th {\n",
       "        text-align: right;\n",
       "    }\n",
       "</style>\n",
       "<table border=\"1\" class=\"dataframe\">\n",
       "  <thead>\n",
       "    <tr style=\"text-align: right;\">\n",
       "      <th></th>\n",
       "      <th>acq_date</th>\n",
       "      <th>names</th>\n",
       "      <th>path</th>\n",
       "      <th>sequence</th>\n",
       "      <th>ch_files</th>\n",
       "      <th>uv_files</th>\n",
       "      <th>method</th>\n",
       "      <th>desc</th>\n",
       "    </tr>\n",
       "  </thead>\n",
       "  <tbody>\n",
       "    <tr>\n",
       "      <th>count</th>\n",
       "      <td>63</td>\n",
       "      <td>63</td>\n",
       "      <td>63</td>\n",
       "      <td>63</td>\n",
       "      <td>63</td>\n",
       "      <td>63</td>\n",
       "      <td>63</td>\n",
       "      <td>63</td>\n",
       "    </tr>\n",
       "    <tr>\n",
       "      <th>unique</th>\n",
       "      <td>63</td>\n",
       "      <td>42</td>\n",
       "      <td>63</td>\n",
       "      <td>5</td>\n",
       "      <td>2</td>\n",
       "      <td>2</td>\n",
       "      <td>5</td>\n",
       "      <td>9</td>\n",
       "    </tr>\n",
       "    <tr>\n",
       "      <th>top</th>\n",
       "      <td>2023-03-01 17:22:18</td>\n",
       "      <td>z3</td>\n",
       "      <td>/Users/jonathan/0_jono_data/2023-03-01_15-22-0...</td>\n",
       "      <td>single run</td>\n",
       "      <td>[DAD1D.ch, DAD1E.ch, DAD1A.ch, DAD1F.ch, DAD1B...</td>\n",
       "      <td>[DAD1.UV]</td>\n",
       "      <td>c:\\chem32\\1\\methods\\0_jono_methods\\avantor100x...</td>\n",
       "      <td>empty</td>\n",
       "    </tr>\n",
       "    <tr>\n",
       "      <th>freq</th>\n",
       "      <td>1</td>\n",
       "      <td>3</td>\n",
       "      <td>1</td>\n",
       "      <td>18</td>\n",
       "      <td>43</td>\n",
       "      <td>37</td>\n",
       "      <td>32</td>\n",
       "      <td>50</td>\n",
       "    </tr>\n",
       "    <tr>\n",
       "      <th>first</th>\n",
       "      <td>2023-02-07 12:01:43</td>\n",
       "      <td>NaN</td>\n",
       "      <td>NaN</td>\n",
       "      <td>NaN</td>\n",
       "      <td>NaN</td>\n",
       "      <td>NaN</td>\n",
       "      <td>NaN</td>\n",
       "      <td>NaN</td>\n",
       "    </tr>\n",
       "    <tr>\n",
       "      <th>last</th>\n",
       "      <td>2023-03-01 17:22:18</td>\n",
       "      <td>NaN</td>\n",
       "      <td>NaN</td>\n",
       "      <td>NaN</td>\n",
       "      <td>NaN</td>\n",
       "      <td>NaN</td>\n",
       "      <td>NaN</td>\n",
       "      <td>NaN</td>\n",
       "    </tr>\n",
       "  </tbody>\n",
       "</table>\n",
       "</div>"
      ],
      "text/plain": [
       "                   acq_date names  \\\n",
       "count                    63    63   \n",
       "unique                   63    42   \n",
       "top     2023-03-01 17:22:18    z3   \n",
       "freq                      1     3   \n",
       "first   2023-02-07 12:01:43   NaN   \n",
       "last    2023-03-01 17:22:18   NaN   \n",
       "\n",
       "                                                     path    sequence  \\\n",
       "count                                                  63          63   \n",
       "unique                                                 63           5   \n",
       "top     /Users/jonathan/0_jono_data/2023-03-01_15-22-0...  single run   \n",
       "freq                                                    1          18   \n",
       "first                                                 NaN         NaN   \n",
       "last                                                  NaN         NaN   \n",
       "\n",
       "                                                 ch_files   uv_files  \\\n",
       "count                                                  63         63   \n",
       "unique                                                  2          2   \n",
       "top     [DAD1D.ch, DAD1E.ch, DAD1A.ch, DAD1F.ch, DAD1B...  [DAD1.UV]   \n",
       "freq                                                   43         37   \n",
       "first                                                 NaN        NaN   \n",
       "last                                                  NaN        NaN   \n",
       "\n",
       "                                                   method   desc  \n",
       "count                                                  63     63  \n",
       "unique                                                  5      9  \n",
       "top     c:\\chem32\\1\\methods\\0_jono_methods\\avantor100x...  empty  \n",
       "freq                                                   32     50  \n",
       "first                                                 NaN    NaN  \n",
       "last                                                  NaN    NaN  "
      ]
     },
     "execution_count": 18,
     "metadata": {},
     "output_type": "execute_result"
    }
   ],
   "source": [
    "avantor_runs.describe()"
   ]
  },
  {
   "cell_type": "markdown",
   "metadata": {},
   "source": [
    "Looking good so far! 63 runs to play with, apparently only 42 are unique. Interesting. What does that mean?"
   ]
  },
  {
   "cell_type": "markdown",
   "metadata": {},
   "source": [
    "## Duplicate Runs?"
   ]
  },
  {
   "cell_type": "code",
   "execution_count": 19,
   "metadata": {},
   "outputs": [
    {
     "data": {
      "text/html": [
       "<div>\n",
       "<style scoped>\n",
       "    .dataframe tbody tr th:only-of-type {\n",
       "        vertical-align: middle;\n",
       "    }\n",
       "\n",
       "    .dataframe tbody tr th {\n",
       "        vertical-align: top;\n",
       "    }\n",
       "\n",
       "    .dataframe thead th {\n",
       "        text-align: right;\n",
       "    }\n",
       "</style>\n",
       "<table border=\"1\" class=\"dataframe\">\n",
       "  <thead>\n",
       "    <tr style=\"text-align: right;\">\n",
       "      <th></th>\n",
       "      <th>acq_date</th>\n",
       "      <th>names</th>\n",
       "      <th>path</th>\n",
       "      <th>sequence</th>\n",
       "      <th>ch_files</th>\n",
       "      <th>uv_files</th>\n",
       "      <th>method</th>\n",
       "      <th>desc</th>\n",
       "    </tr>\n",
       "  </thead>\n",
       "  <tbody>\n",
       "    <tr>\n",
       "      <th>68</th>\n",
       "      <td>2023-02-23 12:21:12</td>\n",
       "      <td>2021-debortoli-cabernet-merlot_avantor</td>\n",
       "      <td>/Users/jonathan/0_jono_data/2023-02-23_2021-DE...</td>\n",
       "      <td>single run</td>\n",
       "      <td>[DAD1D.ch, DAD1E.ch, DAD1A.ch, DAD1F.ch, DAD1B...</td>\n",
       "      <td>[DAD1.UV]</td>\n",
       "      <td>c:\\chem32\\1\\methods\\0_jono_methods\\avantor100x...</td>\n",
       "      <td>avantor-150-x-4.6-c18-h2o-meoh-2.1%--gradient</td>\n",
       "    </tr>\n",
       "    <tr>\n",
       "      <th>94</th>\n",
       "      <td>2023-02-23 11:25:03</td>\n",
       "      <td>lor-ristretto</td>\n",
       "      <td>/Users/jonathan/0_jono_data/2023-02-23_LOR-RIS...</td>\n",
       "      <td>single run</td>\n",
       "      <td>[DAD1D.ch, DAD1E.ch, DAD1A.ch, DAD1F.ch, DAD1B...</td>\n",
       "      <td>[DAD1.UV]</td>\n",
       "      <td>c:\\chem32\\1\\methods\\0_jono_methods\\avantor100x...</td>\n",
       "      <td>avantor-150-x-4.6-c18-h2o-meoh-2.1%--gradientp...</td>\n",
       "    </tr>\n",
       "    <tr>\n",
       "      <th>86</th>\n",
       "      <td>2023-02-22 17:39:06</td>\n",
       "      <td>2021-debortoli-cabernet-merlot_avantor</td>\n",
       "      <td>/Users/jonathan/0_jono_data/2023-02-22_2021-DE...</td>\n",
       "      <td>single run</td>\n",
       "      <td>[DAD1D.ch, DAD1E.ch, DAD1A.ch, DAD1F.ch, DAD1B...</td>\n",
       "      <td>[DAD1.UV]</td>\n",
       "      <td>c:\\chem32\\1\\methods\\0_jono_methods\\avantor100x...</td>\n",
       "      <td>halo-150-x-4.6-c18-h2o-meoh-2.1%--gradient</td>\n",
       "    </tr>\n",
       "    <tr>\n",
       "      <th>89</th>\n",
       "      <td>2023-02-22 09:48:25</td>\n",
       "      <td>lor-ristretto</td>\n",
       "      <td>/Users/jonathan/0_jono_data/2023-02-22_LOR-RIS...</td>\n",
       "      <td>single run</td>\n",
       "      <td>[DAD1D.ch, DAD1E.ch, DAD1A.ch, DAD1F.ch, DAD1B...</td>\n",
       "      <td>[DAD1.UV]</td>\n",
       "      <td>c:\\chem32\\1\\methods\\0_jono_methods\\avantor100x...</td>\n",
       "      <td>avantor-100-x-4.6-c18-h2o-meoh-2.1%--gradient</td>\n",
       "    </tr>\n",
       "    <tr>\n",
       "      <th>10</th>\n",
       "      <td>2023-02-16 04:45:45</td>\n",
       "      <td>0211</td>\n",
       "      <td>/Users/jonathan/0_jono_data/2023-02-15_WINES_2...</td>\n",
       "      <td>2023-02-15_wines_2023-02-15_15-19-53.sequence</td>\n",
       "      <td>[DAD1D.ch, DAD1E.ch, DAD1A.ch, DAD1F.ch, DAD1B...</td>\n",
       "      <td>[DAD1.UV]</td>\n",
       "      <td>c:\\chem32\\1\\methods\\0_jono_methods\\avantor100x...</td>\n",
       "      <td>empty</td>\n",
       "    </tr>\n",
       "  </tbody>\n",
       "</table>\n",
       "</div>"
      ],
      "text/plain": [
       "              acq_date                                   names  \\\n",
       "68 2023-02-23 12:21:12  2021-debortoli-cabernet-merlot_avantor   \n",
       "94 2023-02-23 11:25:03                           lor-ristretto   \n",
       "86 2023-02-22 17:39:06  2021-debortoli-cabernet-merlot_avantor   \n",
       "89 2023-02-22 09:48:25                           lor-ristretto   \n",
       "10 2023-02-16 04:45:45                                    0211   \n",
       "\n",
       "                                                 path  \\\n",
       "68  /Users/jonathan/0_jono_data/2023-02-23_2021-DE...   \n",
       "94  /Users/jonathan/0_jono_data/2023-02-23_LOR-RIS...   \n",
       "86  /Users/jonathan/0_jono_data/2023-02-22_2021-DE...   \n",
       "89  /Users/jonathan/0_jono_data/2023-02-22_LOR-RIS...   \n",
       "10  /Users/jonathan/0_jono_data/2023-02-15_WINES_2...   \n",
       "\n",
       "                                         sequence  \\\n",
       "68                                     single run   \n",
       "94                                     single run   \n",
       "86                                     single run   \n",
       "89                                     single run   \n",
       "10  2023-02-15_wines_2023-02-15_15-19-53.sequence   \n",
       "\n",
       "                                             ch_files   uv_files  \\\n",
       "68  [DAD1D.ch, DAD1E.ch, DAD1A.ch, DAD1F.ch, DAD1B...  [DAD1.UV]   \n",
       "94  [DAD1D.ch, DAD1E.ch, DAD1A.ch, DAD1F.ch, DAD1B...  [DAD1.UV]   \n",
       "86  [DAD1D.ch, DAD1E.ch, DAD1A.ch, DAD1F.ch, DAD1B...  [DAD1.UV]   \n",
       "89  [DAD1D.ch, DAD1E.ch, DAD1A.ch, DAD1F.ch, DAD1B...  [DAD1.UV]   \n",
       "10  [DAD1D.ch, DAD1E.ch, DAD1A.ch, DAD1F.ch, DAD1B...  [DAD1.UV]   \n",
       "\n",
       "                                               method  \\\n",
       "68  c:\\chem32\\1\\methods\\0_jono_methods\\avantor100x...   \n",
       "94  c:\\chem32\\1\\methods\\0_jono_methods\\avantor100x...   \n",
       "86  c:\\chem32\\1\\methods\\0_jono_methods\\avantor100x...   \n",
       "89  c:\\chem32\\1\\methods\\0_jono_methods\\avantor100x...   \n",
       "10  c:\\chem32\\1\\methods\\0_jono_methods\\avantor100x...   \n",
       "\n",
       "                                                 desc  \n",
       "68      avantor-150-x-4.6-c18-h2o-meoh-2.1%--gradient  \n",
       "94  avantor-150-x-4.6-c18-h2o-meoh-2.1%--gradientp...  \n",
       "86         halo-150-x-4.6-c18-h2o-meoh-2.1%--gradient  \n",
       "89      avantor-100-x-4.6-c18-h2o-meoh-2.1%--gradient  \n",
       "10                                              empty  "
      ]
     },
     "execution_count": 19,
     "metadata": {},
     "output_type": "execute_result"
    }
   ],
   "source": [
    "avantor_runs_dup_df = avantor_runs[avantor_runs.duplicated(subset = ['names'], keep = False)]\n",
    "avantor_runs_dup_df.head()"
   ]
  },
  {
   "cell_type": "markdown",
   "metadata": {},
   "source": [
    "Duplicates in name column are occuring simply because I'm running the same sample multiple times."
   ]
  },
  {
   "cell_type": "markdown",
   "metadata": {},
   "source": [
    "## Approaching Baseline Analysis"
   ]
  },
  {
   "cell_type": "markdown",
   "metadata": {},
   "source": [
    "Now, there is a question of baseline analysis. Let's begin as usual by lecting one data set, creating a process for that one, then generalising to all. Let's do 2021-debortoli-cabernet-merlot_avantor. First q: how do we interface between the data table and the rest of Agilette? feed the pathname back in?"
   ]
  },
  {
   "cell_type": "code",
   "execution_count": 20,
   "metadata": {},
   "outputs": [
    {
     "data": {
      "text/plain": [
       "PosixPath('/Users/jonathan/0_jono_data/2023-02-23_2021-DEBORTOLI-CABERNET-MERLOT_AVANTOR.D')"
      ]
     },
     "execution_count": 20,
     "metadata": {},
     "output_type": "execute_result"
    }
   ],
   "source": [
    "the_run_path = avantor_runs[(avantor_runs['names'] == \"2021-debortoli-cabernet-merlot_avantor\") & (avantor_runs['acq_date'] == '2023-02-23 12:21:12')]['path'].values[0]\n",
    "\n",
    "the_run_path"
   ]
  },
  {
   "cell_type": "code",
   "execution_count": 21,
   "metadata": {},
   "outputs": [
    {
     "name": "stdout",
     "output_type": "stream",
     "text": [
      "<class 'agilette.agilette_core.Run_Dir'>\n",
      "name: 2021-debortoli-cabernet-merlot_avantor\n",
      "acq_date: 2023-02-23 12:21:12\n",
      "acq_method path: C:\\CHEM32\\1\\METHODS\\0_JONO_METHODS\\AVANTOR100X4_6C18-H2O-MEOH-2_1.M\n",
      "sequence name: single run\n",
      "Available Data:('DAD1A.ch', {'wavelength': '240.0 nm', 'bandwidth': '4.0 nm'})\n",
      "('DAD1B.ch', {'wavelength': '244.0 nm', 'bandwidth': '4.0 nm'})\n",
      "('DAD1C.ch', {'wavelength': '248.0 nm', 'bandwidth': '4.0 nm'})\n",
      "('DAD1D.ch', {'wavelength': '254.0 nm', 'bandwidth': '4.0 nm'})\n",
      "('DAD1E.ch', {'wavelength': '256.0 nm', 'bandwidth': '4.0 nm'})\n",
      "('DAD1F.ch', {'wavelength': '260.0 nm', 'bandwidth': '4.0 nm'})\n",
      "('DAD1G.ch', {'wavelength': '260.0 nm', 'bandwidth': '4.0 nm'})\n",
      "('DAD1H.ch', {'wavelength': '260.0 nm', 'bandwidth': '4.0 nm'})\n",
      "\n",
      "Spectrum:\n",
      "\n",
      "{}\n"
     ]
    }
   ],
   "source": [
    "run = lib.single_runs[the_run_path.name]\n",
    "print(run)"
   ]
  },
  {
   "cell_type": "code",
   "execution_count": 22,
   "metadata": {},
   "outputs": [
    {
     "name": "stdout",
     "output_type": "stream",
     "text": [
      "<class 'agilette.agilette_core.Run_Dir'>\n",
      "name: 2021-debortoli-cabernet-merlot_avantor\n",
      "acq_date: 2023-02-23 12:21:12\n",
      "acq_method path: C:\\CHEM32\\1\\METHODS\\0_JONO_METHODS\\AVANTOR100X4_6C18-H2O-MEOH-2_1.M\n",
      "sequence name: single run\n",
      "Available Data:('DAD1A.ch', {'wavelength': '240.0 nm', 'bandwidth': '4.0 nm'})\n",
      "('DAD1B.ch', {'wavelength': '244.0 nm', 'bandwidth': '4.0 nm'})\n",
      "('DAD1C.ch', {'wavelength': '248.0 nm', 'bandwidth': '4.0 nm'})\n",
      "('DAD1D.ch', {'wavelength': '254.0 nm', 'bandwidth': '4.0 nm'})\n",
      "('DAD1E.ch', {'wavelength': '256.0 nm', 'bandwidth': '4.0 nm'})\n",
      "('DAD1F.ch', {'wavelength': '260.0 nm', 'bandwidth': '4.0 nm'})\n",
      "('DAD1G.ch', {'wavelength': '260.0 nm', 'bandwidth': '4.0 nm'})\n",
      "('DAD1H.ch', {'wavelength': '260.0 nm', 'bandwidth': '4.0 nm'})\n",
      "\n",
      "Spectrum:\n",
      "\n",
      "{}\n"
     ]
    }
   ],
   "source": [
    "print(run)"
   ]
  },
  {
   "cell_type": "code",
   "execution_count": 23,
   "metadata": {},
   "outputs": [],
   "source": [
    "wine_uv_data = lib.single_runs[the_run_path.name].get_uv_data()"
   ]
  },
  {
   "cell_type": "code",
   "execution_count": 24,
   "metadata": {},
   "outputs": [
    {
     "ename": "AttributeError",
     "evalue": "'NoneType' object has no attribute 'melt'",
     "output_type": "error",
     "traceback": [
      "\u001b[0;31m---------------------------------------------------------------------------\u001b[0m",
      "\u001b[0;31mAttributeError\u001b[0m                            Traceback (most recent call last)",
      "Cell \u001b[0;32mIn[24], line 1\u001b[0m\n\u001b[0;32m----> 1\u001b[0m wine_uv_data\u001b[39m.\u001b[39;49mline_plot()\n",
      "File \u001b[0;32m~/wine_analysis_hplc_uv/agilette/agilette_core.py:95\u001b[0m, in \u001b[0;36mUV_Data.line_plot\u001b[0;34m(self)\u001b[0m\n\u001b[1;32m     90\u001b[0m \u001b[39m\u001b[39m\u001b[39m\"\"\"\u001b[39;00m\n\u001b[1;32m     91\u001b[0m \u001b[39mit appears that there is a bug around here causing certain columns not to plot, the current example being nm's from 216 - 220nm missing from a 3d line plot. No obvious reason why.\u001b[39;00m\n\u001b[1;32m     92\u001b[0m \u001b[39m\"\"\"\u001b[39;00m\n\u001b[1;32m     93\u001b[0m \u001b[39mfrom\u001b[39;00m \u001b[39mscripts\u001b[39;00m\u001b[39m.\u001b[39;00m\u001b[39mcore_scripts\u001b[39;00m\u001b[39m.\u001b[39;00m\u001b[39mhplc_dad_plots\u001b[39;00m \u001b[39mimport\u001b[39;00m plot_3d_line\n\u001b[0;32m---> 95\u001b[0m plot_3d_line(\u001b[39mself\u001b[39;49m\u001b[39m.\u001b[39;49muv_data, \u001b[39mself\u001b[39;49m\u001b[39m.\u001b[39;49mpath\u001b[39m.\u001b[39;49mparent\u001b[39m.\u001b[39;49mname)\n",
      "File \u001b[0;32m~/wine_analysis_hplc_uv/scripts/core_scripts/hplc_dad_plots.py:21\u001b[0m, in \u001b[0;36mplot_3d_line\u001b[0;34m(uv_data, plot_title)\u001b[0m\n\u001b[1;32m     17\u001b[0m \u001b[39mfrom\u001b[39;00m \u001b[39mplotly\u001b[39;00m\u001b[39m.\u001b[39;00m\u001b[39moffline\u001b[39;00m \u001b[39mimport\u001b[39;00m download_plotlyjs, init_notebook_mode, plot, iplot\n\u001b[1;32m     19\u001b[0m \u001b[39mfrom\u001b[39;00m \u001b[39mplotly\u001b[39;00m \u001b[39mimport\u001b[39;00m express \u001b[39mas\u001b[39;00m px\n\u001b[0;32m---> 21\u001b[0m melt_uv_df \u001b[39m=\u001b[39m uv_data\u001b[39m.\u001b[39;49mmelt(id_vars \u001b[39m=\u001b[39m \u001b[39m\"\u001b[39m\u001b[39mmins\u001b[39m\u001b[39m\"\u001b[39m)\n\u001b[1;32m     23\u001b[0m \u001b[39mtry\u001b[39;00m:\n\u001b[1;32m     25\u001b[0m     melt_uv_df\u001b[39m.\u001b[39mcolumns \u001b[39m=\u001b[39m [\u001b[39m'\u001b[39m\u001b[39mmins\u001b[39m\u001b[39m'\u001b[39m, \u001b[39m'\u001b[39m\u001b[39mnm\u001b[39m\u001b[39m'\u001b[39m, \u001b[39m'\u001b[39m\u001b[39mmAU\u001b[39m\u001b[39m'\u001b[39m]\n",
      "\u001b[0;31mAttributeError\u001b[0m: 'NoneType' object has no attribute 'melt'"
     ]
    }
   ],
   "source": [
    "wine_uv_data.line_plot()"
   ]
  },
  {
   "cell_type": "markdown",
   "metadata": {},
   "source": [
    "Weirdly, it appears to skip 216 - 220nm. Is another dataset the same? Rather than creating another plot, we can pull the column names"
   ]
  },
  {
   "cell_type": "markdown",
   "metadata": {},
   "source": [
    "## Investigating a 3d Plot Bug"
   ]
  },
  {
   "cell_type": "markdown",
   "metadata": {},
   "source": [
    "start_index_214 = wine_uv_data.uv_data.columns.to_list().index(214)\n",
    "\n",
    "next_nm = wine_uv_data.uv_data.columns[start_index_214 + 1]\n",
    "\n",
    "for x in range(0,5):\n",
    "    print(wine_uv_data.uv_data.columns[start_index_214 + x])"
   ]
  },
  {
   "cell_type": "markdown",
   "metadata": {},
   "source": [
    "The wavelength columns are definitely in the uv dataframe. Why arn't they plotting? Maybe try plotting directly on the uv_data first.\n"
   ]
  },
  {
   "cell_type": "code",
   "execution_count": null,
   "metadata": {},
   "outputs": [],
   "source": [
    "from scripts.core_scripts.hplc_dad_plots import plot_3d_line\n",
    "\n",
    "plot_3d_line(wine_uv_data.uv_data)"
   ]
  },
  {
   "cell_type": "markdown",
   "metadata": {},
   "source": [
    "So it works OK when pltoted on directly, which means its something that happens in between extracting the UV data and passing it to the plot method in UV_Data class. However, on inspection it doesnt appear that there is anything that could cause that, so i'll just ignore it for now..\n",
    "\n",
    "Now to functionalise the above to be able to iterate over the library."
   ]
  },
  {
   "cell_type": "code",
   "execution_count": null,
   "metadata": {},
   "outputs": [],
   "source": [
    "# The list of runs to iterate over\n",
    "\n",
    "run_path_list = [x for x in avantor_runs['path']]\n",
    "run_path_list\n"
   ]
  },
  {
   "cell_type": "code",
   "execution_count": null,
   "metadata": {},
   "outputs": [],
   "source": [
    "len(run_path_list)"
   ]
  },
  {
   "cell_type": "markdown",
   "metadata": {},
   "source": [
    "## Extracting the UV data for all Avantor runs"
   ]
  },
  {
   "cell_type": "code",
   "execution_count": null,
   "metadata": {},
   "outputs": [],
   "source": [
    "the_run = avantor_runs[(avantor_runs['names'] == \"2021-debortoli-cabernet-merlot_avantor\") & (avantor_runs.index == '2023-02-23 12:21:12')]['path']\n",
    "\n",
    "def wine_uv_extractor(run_path):\n",
    "    \"\"\"\n",
    "    For the given runs, extract the uv_data for further analysis\n",
    "    \"\"\"\n",
    "    wine_run_dir = lib.all_data_files[run_path] \n",
    "\n",
    "    wine_uv_data = wine_run_dir.get_uv_data().extract_uv_data()\n",
    "\n",
    "    return wine_uv_data\n",
    "\n",
    "for x in run_path_list:\n",
    "    wine_uv_extractor(x.name)\n"
   ]
  },
  {
   "cell_type": "markdown",
   "metadata": {},
   "source": [
    "## Building a List of all .D Files Available"
   ]
  },
  {
   "cell_type": "markdown",
   "metadata": {},
   "source": [
    "I am encountering a problematic issue here. I am trying to form a combined dict of single run data dir objects and sequence data dir objects. The core object is Run_Dir.\n",
    "\n",
    "In Sequence, the structure is as follows:\n",
    "\n",
    "`Sequence.data_files = {'run_dir_name' : Run_Dir}`\n",
    "\n",
    "One method could be implemented with the below code."
   ]
  },
  {
   "cell_type": "code",
   "execution_count": null,
   "metadata": {},
   "outputs": [],
   "source": [
    "import re\n",
    "\n",
    "seq_run_dict = {}\n",
    "\n",
    "for sequence_key in lib.sequences.keys():\n",
    "    #print(sequence_key)\n",
    "    for run_key in lib.sequences[sequence_key].data_files.keys():\n",
    "\n",
    "        #print(f\"\\t{run_key}\")\n",
    "\n",
    "        run_key_list = []\n",
    "\n",
    "        if run_key not in run_key_list:\n",
    "            run_key_list.append(run_key)\n",
    "        else:\n",
    "            print(f\"\\t{run_key} is a duplicate\")\n",
    "\n",
    "        # handling duplicates by adding a counter, or incrementing the last counter if there isnt one already. The problem is that a common name is 0001, for example. How do I add a counter to that?\n",
    "\n",
    "        # if pattern *_[0-9] at the end of the key, increment the last number by 1, else add _1 to the end of the key.\n",
    "\n",
    "        if re.search(r'_[0-9]$', run_key):\n",
    "            key_prefix, suffix = run_key.rsplit('_',1)\n",
    "            new_suffix = str(int(suffix) + 1)\n",
    "            new_key = f'{key_prefix}_{new_suffix}'\n",
    "\n",
    "            print(new_key)\n",
    "        else:\n",
    "            new_key = f'{run_key}_1'\n",
    "\n",
    "        run = lib.sequences[sequence_key].data_files[run_key]\n",
    "        seq_run_dict[new_key] = run\n"
   ]
  },
  {
   "cell_type": "code",
   "execution_count": null,
   "metadata": {},
   "outputs": [],
   "source": [
    "len(seq_run_dict)"
   ]
  },
  {
   "cell_type": "markdown",
   "metadata": {},
   "source": [
    "## Is Dict Implementation Deleting Duplicate named runs?"
   ]
  },
  {
   "cell_type": "markdown",
   "metadata": {},
   "source": [
    "Note: this line of inquiry has led me to question whether using dicts as a fundamental data structure is causing duplicates to be ignored. I will investigate this by using Unix find and grep in the following manner:\n",
    "\n",
    "`find . -type d -name \"*.D\" -not -name \".DS_Store\" | grep -c \".D$\"`\n",
    "\n",
    "The result is 110 directories.\n",
    "\n",
    "This was verified by checking the paths of each file counted, and noting that the paths were indeed unique.\n",
    "\n",
    "`find . -type d -name \"*.D\" -not -name \".DS_Store\" -print | tee >(wc -l)`\n",
    "\n",
    "Considering that the paths are unique, and that the sequence data dirs are constructed WITHIN the sequence object, I think I can safely say that no duplicates are being lost. It is however a messy problem, one that needs to be solved later."
   ]
  },
  {
   "cell_type": "code",
   "execution_count": null,
   "metadata": {},
   "outputs": [],
   "source": [
    "len(lib.single_runs.keys())"
   ]
  },
  {
   "cell_type": "code",
   "execution_count": null,
   "metadata": {},
   "outputs": [],
   "source": [
    "total_len = len(seq_run_dict) + len(lib.single_runs.keys())\n",
    "total_len"
   ]
  },
  {
   "cell_type": "markdown",
   "metadata": {},
   "source": [
    "Seems like it's 13 runs short. Sounds suspiciously like its missing one of the initial wine runs."
   ]
  },
  {
   "cell_type": "markdown",
   "metadata": {},
   "source": [
    "## Looking for Missing Runs"
   ]
  },
  {
   "cell_type": "code",
   "execution_count": null,
   "metadata": {},
   "outputs": [],
   "source": [
    "print(seq_run_dict['0091_1'].acq_date)"
   ]
  },
  {
   "cell_type": "markdown",
   "metadata": {},
   "source": [
    "That's the original one. What about the run, what two weeks later?"
   ]
  },
  {
   "cell_type": "code",
   "execution_count": null,
   "metadata": {},
   "outputs": [],
   "source": [
    "for x in lib.sequences.keys():\n",
    "    print(x)"
   ]
  },
  {
   "cell_type": "markdown",
   "metadata": {},
   "source": [
    "It appears to be duplicating MOST of the sequences.."
   ]
  },
  {
   "cell_type": "code",
   "execution_count": null,
   "metadata": {},
   "outputs": [],
   "source": [
    "for data_file in lib.sequences['2023-02-15_WINES_2023-02-15_15-19-53.sequence'].data_files:\n",
    "    print(data_file)"
   ]
  },
  {
   "cell_type": "markdown",
   "metadata": {},
   "source": [
    "## Removing 'Empty' Sequences"
   ]
  },
  {
   "cell_type": "markdown",
   "metadata": {},
   "source": [
    "These 3 are empty:\n",
    "\n",
    "2023-02-07_WINES.sequence:\n",
    "2023-02-07-WINES.S METHODS.REG\n",
    "\n",
    "2023-02-15_WINES_2023-02-15_15-08-23.sequence:\n",
    "2023-02-15_WINES.S METHODS.REG\n",
    "\n",
    "2023-02-15_WINES_2023-02-15_15-18-24.sequence.\n",
    "\n",
    "Remove them."
   ]
  },
  {
   "cell_type": "markdown",
   "metadata": {},
   "source": [
    "I have run '/Users/jonathan/wine_analysis_hplc_uv/scripts/remove_empty_sequences.py' to remove the empty sequences. Now what about the rest?"
   ]
  },
  {
   "cell_type": "code",
   "execution_count": null,
   "metadata": {},
   "outputs": [],
   "source": [
    "for x in lib.sequences.keys():\n",
    "    print(x)"
   ]
  },
  {
   "cell_type": "markdown",
   "metadata": {},
   "source": [
    "## Cleaning up the Avantor Data"
   ]
  },
  {
   "cell_type": "code",
   "execution_count": null,
   "metadata": {},
   "outputs": [],
   "source": [
    "for sequence_key in sorted(lib.sequences.keys(), reverse = True):\n",
    "    print(lib.sequences[sequence_key])"
   ]
  },
  {
   "cell_type": "markdown",
   "metadata": {},
   "source": [
    "Now, we can drop '2023-02-07-WINES.sequence' because that's the run which didnt pump mobile phase through."
   ]
  },
  {
   "cell_type": "code",
   "execution_count": null,
   "metadata": {},
   "outputs": [],
   "source": [
    "avantor_runs = avantor_runs[avantor_runs['sequence'] != '2023-02-07-WINES.sequence']\n",
    "avantor_runs.style.set_properties(**{'max-height': '200px', 'max-width': '800px', 'overflow': 'scroll'})\n",
    "\n",
    "avantor_runs"
   ]
  }
 ],
 "metadata": {
  "kernelspec": {
   "display_name": "Python 3 (ipykernel)",
   "language": "python",
   "name": "python3"
  },
  "language_info": {
   "codemirror_mode": {
    "name": "ipython",
    "version": 3
   },
   "file_extension": ".py",
   "mimetype": "text/x-python",
   "name": "python",
   "nbconvert_exporter": "python",
   "pygments_lexer": "ipython3",
   "version": "3.11.1"
  }
 },
 "nbformat": 4,
 "nbformat_minor": 4
}
