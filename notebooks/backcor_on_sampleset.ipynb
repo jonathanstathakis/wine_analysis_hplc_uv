{
 "cells": [
  {
   "cell_type": "markdown",
   "metadata": {},
   "source": [
    "# Backcor as Suitable Baseline Correction Method for Chromatographic Data\n",
    "\n",
    "  [@ning2014] defines a chromatogram as a combination of \"positive peaks and a relatively flat baseline\". They assert that for such signals, a baseline fitting algorithm that incorporates an asymmetric penalty function that treats positive and negative values differently is suitable, providing examples from ([14] P. H. C. Eilers. Unimodal smoothing. J. Chemometrics, 19(5-7):317–328, May 2005), ([32] V. Mazet, D. Brie, and J. Idier. Baseline spectrum estimation using half-quadratic minimization. In Proc. Eur. Sig. Image Proc. Conf., pages 305–308, Vienna, Austria, Sep. 7-10, 2004.), ([33] V. Mazet, C. Carteret, D. Brie, J. Idier, and B. Humbert. Background removal from spectra by designing and minimising a non-quadratic cost function. Chemometr. Intell. Lab. Syst., 76(2):121–133, 2005.) as examples. They note that *backcor* incorporates an asymmetric penalty function."
   ]
  },
  {
   "cell_type": "code",
   "execution_count": null,
   "metadata": {},
   "outputs": [],
   "source": [
    "# setup\n",
    "\n",
    "%load_ext autoreload\n",
    "%autoreload 2\n",
    "\n",
    "import pandas as pd\n",
    "import seaborn as sns\n",
    "from wine_analysis_hplc_uv import definitions\n",
    "from wine_analysis_hplc_uv.signal_processing.mindex_signal_processing import SignalProcessor\n",
    "from pybaselines import Baseline\n",
    "import matplotlib.pyplot as plt\n",
    "\n",
    "scipro = SignalProcessor()\n",
    "df = pd.read_parquet(definitions.TEST_PARQ_PATH)\n",
    "df"
   ]
  },
  {
   "cell_type": "code",
   "execution_count": null,
   "metadata": {},
   "outputs": [],
   "source": [
    "methods = ['asymmetric_truncated_quadratic',\n",
    "'asymmetric_huber',\n",
    "'asymmetric_indec',\n",
    "]\n",
    "for method in methods:\n",
    "    def backcorblinefunc(df: pd.DataFrame) -> pd.DataFrame:\n",
    "        df = df.assign(\n",
    "            bline=Baseline(\n",
    "                x_data=df.index.get_level_values(\"mins\").total_seconds(), assume_sorted=True\n",
    "            ).penalized_poly(df[\"value\"], cost_function=method)[0],\n",
    "        ).assign(blinesub=lambda df: df.eval(\"value - bline\"))\n",
    "\n",
    "        return df\n",
    "\n",
    "\n",
    "    (\n",
    "        df4.stack([\"samplecode\", \"wine\"])\n",
    "        .groupby([\"samplecode\"], group_keys=False)\n",
    "        .apply(lambda df: backcorblinefunc(df))\n",
    "        .unstack([\"samplecode\", \"wine\"])\n",
    "        .pipe(lambda df: df if df.pipe(scipro.vars_subplots) else df)\n",
    "    )\n",
    "    plt.suptitle(method)\n",
    "    plt.show()"
   ]
  },
  {
   "cell_type": "markdown",
   "metadata": {},
   "source": [
    "However we can see that for this sample dataset, all of the asymmetric cost functions fit poorly, especially at the ends of the signals."
   ]
  }
 ],
 "metadata": {
  "kernelspec": {
   "display_name": "wine-analysis-hplc-uv-F-SbhWjO-py3.11",
   "language": "python",
   "name": "python3"
  },
  "language_info": {
   "codemirror_mode": {
    "name": "ipython",
    "version": 3
   },
   "file_extension": ".py",
   "mimetype": "text/x-python",
   "name": "python",
   "nbconvert_exporter": "python",
   "pygments_lexer": "ipython3",
   "version": "3.11.1"
  },
  "orig_nbformat": 4
 },
 "nbformat": 4,
 "nbformat_minor": 2
}
