{
 "cells": [
  {
   "cell_type": "code",
   "execution_count": 22,
   "metadata": {},
   "outputs": [],
   "source": [
    "%load_ext autoreload\n",
    "%autoreload 2\n",
    "\n",
    "import sys\n",
    "import os\n",
    "from pathlib import Path\n",
    "\n",
    "sys.path.insert(0, \"..\" / Path.cwd().absolute())\n",
    "\n",
    "from agilette.modules.library import Library"
   ]
  },
  {
   "cell_type": "code",
   "execution_count": 24,
   "metadata": {},
   "outputs": [
    {
     "ename": "StopIteration",
     "evalue": "",
     "output_type": "error",
     "traceback": [
      "\u001b[0;31m---------------------------------------------------------------------------\u001b[0m",
      "\u001b[0;31mStopIteration\u001b[0m                             Traceback (most recent call last)",
      "Cell \u001b[0;32mIn[24], line 2\u001b[0m\n\u001b[1;32m      1\u001b[0m lib \u001b[39m=\u001b[39m Library(\u001b[39m'\u001b[39m\u001b[39m/Users/jonathan/0_jono_data\u001b[39m\u001b[39m'\u001b[39m)\n\u001b[0;32m----> 2\u001b[0m lib\u001b[39m.\u001b[39;49mload_spectrum()\n",
      "File \u001b[0;32m~/wine_analysis_hplc_uv/agilette/modules/library.py:36\u001b[0m, in \u001b[0;36mLibrary.load_spectrum\u001b[0;34m(self)\u001b[0m\n\u001b[1;32m     30\u001b[0m \u001b[39mdef\u001b[39;00m \u001b[39mload_spectrum\u001b[39m(\u001b[39mself\u001b[39m):\n\u001b[1;32m     31\u001b[0m \u001b[39m    \u001b[39m\u001b[39m\"\"\"\u001b[39;00m\n\u001b[1;32m     32\u001b[0m \u001b[39m    join the `spectrum_table` with `metadata_table` and load the data within the `Spectrum` objects.\u001b[39;00m\n\u001b[1;32m     33\u001b[0m \u001b[39m    \u001b[39;00m\n\u001b[1;32m     34\u001b[0m \u001b[39m    Returns a dataframe of the merged tables.\u001b[39;00m\n\u001b[1;32m     35\u001b[0m \u001b[39m    \"\"\"\u001b[39;00m\n\u001b[0;32m---> 36\u001b[0m     \u001b[39mreturn\u001b[39;00m join_metadata_spectrum_tables(\u001b[39mself\u001b[39;49m\u001b[39m.\u001b[39;49mmetadata_table, \u001b[39mself\u001b[39;49m\u001b[39m.\u001b[39;49mspectrum_table)\n",
      "File \u001b[0;32m~/wine_analysis_hplc_uv/agilette/modules/join_metadata_spectrum_tables.py:32\u001b[0m, in \u001b[0;36mjoin_metadata_spectrum_tables\u001b[0;34m(metadata_table, spectrum_table)\u001b[0m\n\u001b[1;32m     25\u001b[0m     \u001b[39mprint\u001b[39m(e)\n\u001b[1;32m     27\u001b[0m \u001b[39m# else:\u001b[39;00m\n\u001b[1;32m     28\u001b[0m \u001b[39m#     raise ValueError('Attempted merge, but join cols were not equal')\u001b[39;00m\n\u001b[1;32m     29\u001b[0m \n\u001b[1;32m     30\u001b[0m \u001b[39m# 2. load UV data.\u001b[39;00m\n\u001b[0;32m---> 32\u001b[0m merge_table[\u001b[39m'\u001b[39m\u001b[39mspectrum_obj\u001b[39m\u001b[39m'\u001b[39m] \u001b[39m=\u001b[39m merge_table[\u001b[39m'\u001b[39;49m\u001b[39mspectrum_obj\u001b[39;49m\u001b[39m'\u001b[39;49m]\u001b[39m.\u001b[39;49mapply(\u001b[39mlambda\u001b[39;49;00m x : x\u001b[39m.\u001b[39;49mextract_spectrum())\n\u001b[1;32m     34\u001b[0m \u001b[39mreturn\u001b[39;00m merge_table\n",
      "File \u001b[0;32m~/.pyenv/versions/3.11.1/lib/python3.11/site-packages/pandas/core/series.py:4771\u001b[0m, in \u001b[0;36mSeries.apply\u001b[0;34m(self, func, convert_dtype, args, **kwargs)\u001b[0m\n\u001b[1;32m   4661\u001b[0m \u001b[39mdef\u001b[39;00m \u001b[39mapply\u001b[39m(\n\u001b[1;32m   4662\u001b[0m     \u001b[39mself\u001b[39m,\n\u001b[1;32m   4663\u001b[0m     func: AggFuncType,\n\u001b[0;32m   (...)\u001b[0m\n\u001b[1;32m   4666\u001b[0m     \u001b[39m*\u001b[39m\u001b[39m*\u001b[39mkwargs,\n\u001b[1;32m   4667\u001b[0m ) \u001b[39m-\u001b[39m\u001b[39m>\u001b[39m DataFrame \u001b[39m|\u001b[39m Series:\n\u001b[1;32m   4668\u001b[0m \u001b[39m    \u001b[39m\u001b[39m\"\"\"\u001b[39;00m\n\u001b[1;32m   4669\u001b[0m \u001b[39m    Invoke function on values of Series.\u001b[39;00m\n\u001b[1;32m   4670\u001b[0m \n\u001b[0;32m   (...)\u001b[0m\n\u001b[1;32m   4769\u001b[0m \u001b[39m    dtype: float64\u001b[39;00m\n\u001b[1;32m   4770\u001b[0m \u001b[39m    \"\"\"\u001b[39;00m\n\u001b[0;32m-> 4771\u001b[0m     \u001b[39mreturn\u001b[39;00m SeriesApply(\u001b[39mself\u001b[39;49m, func, convert_dtype, args, kwargs)\u001b[39m.\u001b[39;49mapply()\n",
      "File \u001b[0;32m~/.pyenv/versions/3.11.1/lib/python3.11/site-packages/pandas/core/apply.py:1123\u001b[0m, in \u001b[0;36mSeriesApply.apply\u001b[0;34m(self)\u001b[0m\n\u001b[1;32m   1120\u001b[0m     \u001b[39mreturn\u001b[39;00m \u001b[39mself\u001b[39m\u001b[39m.\u001b[39mapply_str()\n\u001b[1;32m   1122\u001b[0m \u001b[39m# self.f is Callable\u001b[39;00m\n\u001b[0;32m-> 1123\u001b[0m \u001b[39mreturn\u001b[39;00m \u001b[39mself\u001b[39;49m\u001b[39m.\u001b[39;49mapply_standard()\n",
      "File \u001b[0;32m~/.pyenv/versions/3.11.1/lib/python3.11/site-packages/pandas/core/apply.py:1174\u001b[0m, in \u001b[0;36mSeriesApply.apply_standard\u001b[0;34m(self)\u001b[0m\n\u001b[1;32m   1172\u001b[0m     \u001b[39melse\u001b[39;00m:\n\u001b[1;32m   1173\u001b[0m         values \u001b[39m=\u001b[39m obj\u001b[39m.\u001b[39mastype(\u001b[39mobject\u001b[39m)\u001b[39m.\u001b[39m_values\n\u001b[0;32m-> 1174\u001b[0m         mapped \u001b[39m=\u001b[39m lib\u001b[39m.\u001b[39;49mmap_infer(\n\u001b[1;32m   1175\u001b[0m             values,\n\u001b[1;32m   1176\u001b[0m             f,\n\u001b[1;32m   1177\u001b[0m             convert\u001b[39m=\u001b[39;49m\u001b[39mself\u001b[39;49m\u001b[39m.\u001b[39;49mconvert_dtype,\n\u001b[1;32m   1178\u001b[0m         )\n\u001b[1;32m   1180\u001b[0m \u001b[39mif\u001b[39;00m \u001b[39mlen\u001b[39m(mapped) \u001b[39mand\u001b[39;00m \u001b[39misinstance\u001b[39m(mapped[\u001b[39m0\u001b[39m], ABCSeries):\n\u001b[1;32m   1181\u001b[0m     \u001b[39m# GH#43986 Need to do list(mapped) in order to get treated as nested\u001b[39;00m\n\u001b[1;32m   1182\u001b[0m     \u001b[39m#  See also GH#25959 regarding EA support\u001b[39;00m\n\u001b[1;32m   1183\u001b[0m     \u001b[39mreturn\u001b[39;00m obj\u001b[39m.\u001b[39m_constructor_expanddim(\u001b[39mlist\u001b[39m(mapped), index\u001b[39m=\u001b[39mobj\u001b[39m.\u001b[39mindex)\n",
      "File \u001b[0;32m~/.pyenv/versions/3.11.1/lib/python3.11/site-packages/pandas/_libs/lib.pyx:2924\u001b[0m, in \u001b[0;36mpandas._libs.lib.map_infer\u001b[0;34m()\u001b[0m\n",
      "File \u001b[0;32m~/wine_analysis_hplc_uv/agilette/modules/join_metadata_spectrum_tables.py:32\u001b[0m, in \u001b[0;36mjoin_metadata_spectrum_tables.<locals>.<lambda>\u001b[0;34m(x)\u001b[0m\n\u001b[1;32m     25\u001b[0m     \u001b[39mprint\u001b[39m(e)\n\u001b[1;32m     27\u001b[0m \u001b[39m# else:\u001b[39;00m\n\u001b[1;32m     28\u001b[0m \u001b[39m#     raise ValueError('Attempted merge, but join cols were not equal')\u001b[39;00m\n\u001b[1;32m     29\u001b[0m \n\u001b[1;32m     30\u001b[0m \u001b[39m# 2. load UV data.\u001b[39;00m\n\u001b[0;32m---> 32\u001b[0m merge_table[\u001b[39m'\u001b[39m\u001b[39mspectrum_obj\u001b[39m\u001b[39m'\u001b[39m] \u001b[39m=\u001b[39m merge_table[\u001b[39m'\u001b[39m\u001b[39mspectrum_obj\u001b[39m\u001b[39m'\u001b[39m]\u001b[39m.\u001b[39mapply(\u001b[39mlambda\u001b[39;00m x : x\u001b[39m.\u001b[39;49mextract_spectrum())\n\u001b[1;32m     34\u001b[0m \u001b[39mreturn\u001b[39;00m merge_table\n",
      "File \u001b[0;32m~/wine_analysis_hplc_uv/agilette/modules/agilette_core.py:40\u001b[0m, in \u001b[0;36mSpectrum.extract_spectrum\u001b[0;34m(self)\u001b[0m\n\u001b[1;32m     39\u001b[0m \u001b[39mdef\u001b[39;00m \u001b[39mextract_spectrum\u001b[39m(\u001b[39mself\u001b[39m):\n\u001b[0;32m---> 40\u001b[0m         \u001b[39mself\u001b[39m\u001b[39m.\u001b[39mspectrum \u001b[39m=\u001b[39m retrieve_uv_data(\u001b[39mself\u001b[39;49m\u001b[39m.\u001b[39;49mpath)\n\u001b[1;32m     41\u001b[0m         \u001b[39m#return self.spectrum\u001b[39;00m\n\u001b[1;32m     42\u001b[0m         \u001b[39mreturn\u001b[39;00m \u001b[39mself\u001b[39m\n",
      "File \u001b[0;32m~/wine_analysis_hplc_uv/scripts/core_scripts/data_interface.py:58\u001b[0m, in \u001b[0;36mretrieve_uv_data\u001b[0;34m(run_dir_path)\u001b[0m\n\u001b[1;32m     53\u001b[0m \u001b[39m\u001b[39m\u001b[39m\"\"\"\u001b[39;00m\n\u001b[1;32m     54\u001b[0m \u001b[39mTakes a rainbow-api DataFile object containing chemstation .UV data and returns a df in\u001b[39;00m\n\u001b[1;32m     55\u001b[0m \u001b[39mwide format. For 3d plotting, convert to long format.\u001b[39;00m\n\u001b[1;32m     56\u001b[0m \u001b[39m\"\"\"\u001b[39;00m\n\u001b[1;32m     57\u001b[0m \u001b[39mif\u001b[39;00m \u001b[39misinstance\u001b[39m(run_dir_path, Path) \u001b[39mand\u001b[39;00m Path(run_dir_path)\u001b[39m.\u001b[39mis_dir():\n\u001b[0;32m---> 58\u001b[0m     spectrum_path \u001b[39m=\u001b[39m \u001b[39mnext\u001b[39;49m(run_dir_path\u001b[39m.\u001b[39;49mglob(\u001b[39m'\u001b[39;49m\u001b[39m*.UV\u001b[39;49m\u001b[39m'\u001b[39;49m))\n\u001b[1;32m     60\u001b[0m \u001b[39mif\u001b[39;00m \u001b[39misinstance\u001b[39m(spectrum_path, Path) \u001b[39mand\u001b[39;00m Path(spectrum_path)\u001b[39m.\u001b[39mis_file() \u001b[39mand\u001b[39;00m spectrum_path\u001b[39m.\u001b[39msuffix \u001b[39m==\u001b[39m \u001b[39m'\u001b[39m\u001b[39m.UV\u001b[39m\u001b[39m'\u001b[39m:\n\u001b[1;32m     61\u001b[0m     spectrum \u001b[39m=\u001b[39m rb\u001b[39m.\u001b[39magilent\u001b[39m.\u001b[39mchemstation\u001b[39m.\u001b[39mparse_uv(\u001b[39mstr\u001b[39m(spectrum_path))\n",
      "\u001b[0;31mStopIteration\u001b[0m: "
     ]
    }
   ],
   "source": [
    "lib = Library('/Users/jonathan/0_jono_data')\n",
    "lib.load_spectrum()"
   ]
  }
 ],
 "metadata": {
  "kernelspec": {
   "display_name": "Python 3",
   "language": "python",
   "name": "python3"
  },
  "language_info": {
   "codemirror_mode": {
    "name": "ipython",
    "version": 3
   },
   "file_extension": ".py",
   "mimetype": "text/x-python",
   "name": "python",
   "nbconvert_exporter": "python",
   "pygments_lexer": "ipython3",
   "version": "3.11.1"
  },
  "orig_nbformat": 4
 },
 "nbformat": 4,
 "nbformat_minor": 2
}
