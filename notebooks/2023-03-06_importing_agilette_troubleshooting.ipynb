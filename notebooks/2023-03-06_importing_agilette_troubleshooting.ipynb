{
 "cells": [
  {
   "cell_type": "code",
   "execution_count": null,
   "id": "93b82954-69e6-4a8a-840a-03421b43cf27",
   "metadata": {
    "execution": {
     "iopub.execute_input": "2023-03-06T09:58:22.257355Z",
     "iopub.status.busy": "2023-03-06T09:58:22.257150Z",
     "iopub.status.idle": "2023-03-06T09:58:22.815715Z",
     "shell.execute_reply": "2023-03-06T09:58:22.815336Z",
     "shell.execute_reply.started": "2023-03-06T09:58:22.257333Z"
    },
    "tags": []
   },
   "outputs": [
    {
     "name": "stdout",
     "output_type": "stream",
     "text": [
      "The autoreload extension is already loaded. To reload it, use:\n",
      "  %reload_ext autoreload\n"
     ]
    }
   ],
   "source": [
    "%load_ext autoreload\n",
    "%autoreload 2\n",
    "\n",
    "from pathlib import Path\n",
    "\n",
    "#import pandas as pd\n",
    "\n",
    "import sys\n",
    "\n",
    "import os\n",
    "\n",
    "sys.path.insert(0, \"/Users/jonathan/wine_analysis_hplc_uv/scripts/agilette/\")\n",
    "\n",
    "import agilette\n",
    "\n",
    "ag = agilette.Agilette('/Users/jonathan/0_jono_data')"
   ]
  }
 ],
 "metadata": {
  "kernelspec": {
   "display_name": "Python 3 (ipykernel)",
   "language": "python",
   "name": "python3"
  },
  "language_info": {
   "codemirror_mode": {
    "name": "ipython",
    "version": 3
   },
   "file_extension": ".py",
   "mimetype": "text/x-python",
   "name": "python",
   "nbconvert_exporter": "python",
   "pygments_lexer": "ipython3",
   "version": "3.11.1"
  }
 },
 "nbformat": 4,
 "nbformat_minor": 5
}
