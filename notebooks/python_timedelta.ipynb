{
 "cells": [
  {
   "cell_type": "markdown",
   "metadata": {},
   "source": [
    "# `TimeDelta`\n",
    "\n",
    "A note on `TimeDelta`.\n",
    "\n",
    "`TimeDelta` only contains the attributes `days`, `seconds`, `microseconds`, and `nanoseconds`. Thus to express the time axis in minutes I would need to access it as `.mins.seconds/60`."
   ]
  }
 ],
 "metadata": {
  "language_info": {
   "name": "python"
  },
  "orig_nbformat": 4
 },
 "nbformat": 4,
 "nbformat_minor": 2
}
