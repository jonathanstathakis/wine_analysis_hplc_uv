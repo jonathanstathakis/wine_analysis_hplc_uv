{
 "cells": [
  {
   "attachments": {},
   "cell_type": "markdown",
   "metadata": {},
   "source": [
    "# Tabulating Past Experiments\n",
    "\n",
    "continuing from (the last notebook)[./2023-03-28-joining-cellartracker-metadata.ipynb], I have been attempting to analyse how my collection of samples is going, but my records are muddled. I need to form a table that contains information on what samples have been run on the 10cm column, and what was the quality of the chromatogram.\n",
    "\n",
    "For simplicities sake, we will focus on the 255nm spectra, and define qualtiy as a high ratio of peak prominance to area under baseline. It would be useful at this point to tidy up Agilette and add baseline, peak, and correction functions to that codebase.\n",
    "\n",
    "Theoretically, each run should contain the sample id. That should be sufficient to create the table to join.\n",
    "\n",
    "However, I should also scour my logbook to make any other corrections. Best way to do that would be to form a table of notes sorted by date with the contents of each note and a uri link to the note. That should be done in a seperate notebook tho. In this one:\n",
    "\n",
    "1. Load all experiments as a pandas table with:\n",
    "['acq_date', 'sample_name', 'method_name', 'data']\n",
    "2. fit the baseline.\n",
    "3. Calculate the peak prominance / area under baseline, display in table.\n",
    "4. Sort by ratio, see if this is a sensible approach.\n",
    "5. Observe, make conclusions."
   ]
  },
  {
   "cell_type": "code",
   "execution_count": null,
   "metadata": {},
   "outputs": [],
   "source": [
    "from agilette.agilette_core"
   ]
  }
 ],
 "metadata": {
  "kernelspec": {
   "display_name": "Python 3",
   "language": "python",
   "name": "python3"
  },
  "language_info": {
   "name": "python",
   "version": "3.11.1"
  },
  "orig_nbformat": 4
 },
 "nbformat": 4,
 "nbformat_minor": 2
}
