{
 "cells": [
  {
   "cell_type": "markdown",
   "metadata": {},
   "source": [
    "| verb | method |\n",
    "|---|---|\n",
    "| sort multiindex | `DataFrame.sort_index` |\n",
    "| reorder levels | `DataFrame.reorder_levels` |\n",
    "| (re)name axes level(s) | `DataFrame.rename_axis` |\n"
   ]
  }
 ],
 "metadata": {
  "language_info": {
   "name": "python"
  },
  "orig_nbformat": 4
 },
 "nbformat": 4,
 "nbformat_minor": 2
}
