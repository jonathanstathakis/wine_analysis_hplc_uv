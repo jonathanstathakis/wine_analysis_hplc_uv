{
 "cells": [
  {
   "cell_type": "markdown",
   "metadata": {},
   "source": [
    "| verb | method | notes | \n",
    "|---|---|---|\n",
    "| sort multiindex | `DataFrame.sort_index` | NA |  \n",
    "| reorder levels | `DataFrame.reorder_levels` | NA | \n",
    "| (re)name an axis | `DataFrame.rename_axis` | appears to only work on non-multiindexed axes. No level option |\n",
    "| (re)name multiindex level(s) | `pd.Index.set_names` | NA |\n",
    "\n"
   ]
  }
 ],
 "metadata": {
  "language_info": {
   "name": "python"
  }
 },
 "nbformat": 4,
 "nbformat_minor": 2
}
