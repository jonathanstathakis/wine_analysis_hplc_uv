{
 "cells": [
  {
   "attachments": {},
   "cell_type": "markdown",
   "metadata": {},
   "source": [
    "# Description of Dataset Thus Far\n",
    "\n",
    "see [2023-04-05_logbook](/Users/jonathan/001_obsidian_vault/mres_logbook/2023-04-05_logbook.md) for task description."
   ]
  },
  {
   "attachments": {},
   "cell_type": "markdown",
   "metadata": {},
   "source": [
    "## 1. Load the Data"
   ]
  },
  {
   "cell_type": "code",
   "execution_count": null,
   "metadata": {},
   "outputs": [],
   "source": [
    "%load_ext autoreload\n",
    "%autoreload 2\n",
    "import sys\n",
    "sys.path.append('../')\n",
    "from pathlib import Path\n",
    "import pandas as pd\n",
    "\n",
    "from agilette.modules.library import Library\n",
    "\n",
    "runs = [\"/Users/jonathan/0_jono_data/2023-04-04_WINES_2023-04-04_12-01-53/001-0101.D/\"]\n",
    " #,\"/Users/jonathan/0_jono_data/2023-03-07_2021-DEBORTOLI-CABERNET-MERLOT_AVANTOR.D/\"]\n",
    "\n",
    "lib = Library(runs)\n",
    "\n",
    "df = lib.metadata_table"
   ]
  },
  {
   "cell_type": "code",
   "execution_count": null,
   "metadata": {},
   "outputs": [],
   "source": [
    "df.head()"
   ]
  },
  {
   "cell_type": "code",
   "execution_count": null,
   "metadata": {},
   "outputs": [],
   "source": [
    "df['acq_date'].max()"
   ]
  },
  {
   "cell_type": "code",
   "execution_count": null,
   "metadata": {},
   "outputs": [],
   "source": [
    "df[df['acq_date']>pd.to_datetime('2023-01-01', format = '%Y-%m-%d')].describe(datetime_is_numeric=True)"
   ]
  },
  {
   "cell_type": "markdown",
   "metadata": {},
   "source": []
  },
  {
   "attachments": {},
   "cell_type": "markdown",
   "metadata": {},
   "source": [
    "So the dataset for 2023 extends from 2023-01-23 to 2023-04-05. What are the major separations? Halo to Avantor is the primary."
   ]
  },
  {
   "cell_type": "code",
   "execution_count": null,
   "metadata": {},
   "outputs": [],
   "source": [
    "df[df.columns.drop('path')] = df[df.columns.drop('path')].apply(lambda x : x.str.lower() if pd.api.types.is_string_dtype(x) else x)\n",
    "df\n",
    "avantor_df = df[(df['acq_date'] > '2023-01-01') & (df['acq_method'].str.contains('avantor'))]\n",
    "avantor_df.describe()"
   ]
  },
  {
   "attachments": {},
   "cell_type": "markdown",
   "metadata": {},
   "source": [
    "There are 197 avantor runs running from 2023-02-07 to 2023-04-05."
   ]
  },
  {
   "cell_type": "code",
   "execution_count": null,
   "metadata": {},
   "outputs": [],
   "source": [
    "avantor_df['run_type'] = \"\"\n",
    "\n",
    "for idx, row in avantor_df.iterrows():\n",
    "    if row['sequence_name'] == 'single run':\n",
    "        avantor_df.loc[idx,'run_type'] = 'single run' \n",
    "    else:\n",
    "        avantor_df.loc[idx,'run_type'] = 'sequence'"
   ]
  },
  {
   "cell_type": "code",
   "execution_count": null,
   "metadata": {},
   "outputs": [],
   "source": [
    "import dtale\n",
    "\n",
    "dtale.show(avantor_df)"
   ]
  },
  {
   "cell_type": "code",
   "execution_count": null,
   "metadata": {},
   "outputs": [],
   "source": [
    "avantor_df.groupby('run_type').describe()"
   ]
  },
  {
   "attachments": {},
   "cell_type": "markdown",
   "metadata": {},
   "source": [
    "So there are 45 sequence files and 152 single runs? Doesn't sound right to me. Better check the code.."
   ]
  },
  {
   "cell_type": "code",
   "execution_count": null,
   "metadata": {},
   "outputs": [],
   "source": [
    "df['acq_method']"
   ]
  }
 ],
 "metadata": {
  "kernelspec": {
   "display_name": "Python 3",
   "language": "python",
   "name": "python3"
  },
  "language_info": {
   "codemirror_mode": {
    "name": "ipython",
    "version": 3
   },
   "file_extension": ".py",
   "mimetype": "text/x-python",
   "name": "python",
   "nbconvert_exporter": "python",
   "pygments_lexer": "ipython3",
   "version": "3.11.1"
  }
 },
 "nbformat": 4,
 "nbformat_minor": 2
}
