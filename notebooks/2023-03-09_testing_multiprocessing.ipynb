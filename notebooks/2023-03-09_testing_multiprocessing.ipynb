{
 "cells": [
  {
   "cell_type": "markdown",
   "metadata": {},
   "source": [
    "# Testing Processinmg Time of my Data Dir Through the Multiprocessing Package"
   ]
  },
  {
   "cell_type": "code",
   "execution_count": 5,
   "metadata": {},
   "outputs": [],
   "source": [
    "# set up environment\n",
    "\n",
    "%timeit\n",
    "import rainbow as rb\n",
    "import multiprocessing as mp\n",
    "import os\n",
    "from pathlib import Path\n",
    "\n",
    "p = Path(\"/Users/jonathan/0_jono_data/\")"
   ]
  },
  {
   "cell_type": "code",
   "execution_count": 11,
   "metadata": {},
   "outputs": [
    {
     "data": {
      "text/plain": [
       "115"
      ]
     },
     "execution_count": 11,
     "metadata": {},
     "output_type": "execute_result"
    }
   ],
   "source": [
    "# create list of .D to process\n",
    "\n",
    "d_list = [str(x) for x in p.glob(\"**/*.D\") if x.is_dir()]\n",
    "len(d_list)"
   ]
  },
  {
   "cell_type": "code",
   "execution_count": 12,
   "metadata": {},
   "outputs": [],
   "source": [
    "pool = mp.Pool()\n",
    "datadirs = pool.map(rb.read, d_list)\n",
    "pool.close()\n",
    "pool.join()\n",
    " "
   ]
  },
  {
   "cell_type": "code",
   "execution_count": 14,
   "metadata": {},
   "outputs": [
    {
     "data": {
      "text/plain": [
       "{'name': '2023-02-15_COFFEE_COLUMN_CHECK.D',\n",
       " 'datafiles': [DAD1D.ch,\n",
       "  DAD1E.ch,\n",
       "  DAD1A.ch,\n",
       "  DAD1F.ch,\n",
       "  DAD1B.ch,\n",
       "  DAD1C.ch,\n",
       "  DAD1.UV],\n",
       " 'detectors': {'UV'},\n",
       " 'by_name': {'DAD1D.CH': DAD1D.ch,\n",
       "  'DAD1E.CH': DAD1E.ch,\n",
       "  'DAD1A.CH': DAD1A.ch,\n",
       "  'DAD1F.CH': DAD1F.ch,\n",
       "  'DAD1B.CH': DAD1B.ch,\n",
       "  'DAD1C.CH': DAD1C.ch,\n",
       "  'DAD1.UV': DAD1.UV},\n",
       " 'by_detector': {'UV': [DAD1D.ch,\n",
       "   DAD1E.ch,\n",
       "   DAD1A.ch,\n",
       "   DAD1F.ch,\n",
       "   DAD1B.ch,\n",
       "   DAD1C.ch,\n",
       "   DAD1.UV]},\n",
       " 'analog': [],\n",
       " 'metadata': {'vendor': 'Agilent',\n",
       "  'date': '15-Feb-23, 13:07:59',\n",
       "  'vialpos': 'Vial 41'}}"
      ]
     },
     "execution_count": 14,
     "metadata": {},
     "output_type": "execute_result"
    }
   ],
   "source": [
    "datadirs[0].__dict__"
   ]
  },
  {
   "cell_type": "code",
   "execution_count": null,
   "metadata": {},
   "outputs": [],
   "source": []
  }
 ],
 "metadata": {
  "kernelspec": {
   "display_name": "Python 3",
   "language": "python",
   "name": "python3"
  },
  "language_info": {
   "codemirror_mode": {
    "name": "ipython",
    "version": 3
   },
   "file_extension": ".py",
   "mimetype": "text/x-python",
   "name": "python",
   "nbconvert_exporter": "python",
   "pygments_lexer": "ipython3",
   "version": "3.11.1"
  },
  "orig_nbformat": 4
 },
 "nbformat": 4,
 "nbformat_minor": 2
}
