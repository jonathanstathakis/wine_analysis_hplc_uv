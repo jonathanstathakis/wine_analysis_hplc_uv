{
 "cells": [
  {
   "attachments": {},
   "cell_type": "markdown",
   "metadata": {},
   "source": [
    "Continuing from [Identifying Optimal Wavelength](2023-03-14_identifying_optimal_wavelength.ipynb), I will use the methods developed there to aggregate the results for all 2.5% avantor runs thus far. Although presumably, this method should work for all methods."
   ]
  },
  {
   "cell_type": "markdown",
   "metadata": {},
   "source": [
    "## Set up Environment"
   ]
  },
  {
   "cell_type": "code",
   "execution_count": 7,
   "metadata": {},
   "outputs": [
    {
     "name": "stdout",
     "output_type": "stream",
     "text": [
      "The autoreload extension is already loaded. To reload it, use:\n",
      "  %reload_ext autoreload\n",
      "/Users/jonathan/0_jono_data/2023-02-22_2021-DEBORTOLI-CABERNET-MERLOT_HALO.D/acq.macaml does not exist, cannot load signal metadata from acq.macaml\n",
      "/Users/jonathan/0_jono_data/2023-01-23_WINE_TEST_GRAD_4.D/acq.macaml does not exist, cannot load signal metadata from acq.macaml\n",
      "/Users/jonathan/0_jono_data/2022-08-01_CAFFEINE_STANDARD_100PPM.D/acq.macaml does not exist, cannot load signal metadata from acq.macaml\n"
     ]
    }
   ],
   "source": [
    "%load_ext autoreload\n",
    "%autoreload 2\n",
    "\n",
    "import sys\n",
    "\n",
    "import os\n",
    "\n",
    "import pandas as pd\n",
    "\n",
    "import numpy as np\n",
    "\n",
    "from scipy.signal import find_peaks\n",
    "\n",
    "pd.options.plotting.backend = 'plotly'\n",
    "\n",
    "import plotly.graph_objs as go\n",
    "\n",
    "from plotly.subplots import make_subplots\n",
    "\n",
    "from sklearn.preprocessing import MinMaxScaler\n",
    "\n",
    "from pybaselines import Baseline\n",
    "\n",
    "# adds root dir 'wine_analyis_hplc_uv' to path.\n",
    "\n",
    "sys.path.insert(0, os.path.abspath(os.path.join(os.getcwd(), '../')))\n",
    "\n",
    "from agilette import agilette_core as ag\n",
    "\n",
    "lib = ag.Agilette('/Users/jonathan/0_jono_data').library"
   ]
  },
  {
   "cell_type": "code",
   "execution_count": 8,
   "metadata": {},
   "outputs": [],
   "source": [
    "lib_df = lib.data_table()"
   ]
  },
  {
   "cell_type": "markdown",
   "metadata": {},
   "source": [
    "As in the leading in notebook, I will use the latest De Bertoli Cab Merlot sample `2023-03-07_DEBERTOLI_CS_001.D`."
   ]
  },
  {
   "attachments": {},
   "cell_type": "markdown",
   "metadata": {},
   "source": [
    "## Planning the Experiment"
   ]
  },
  {
   "attachments": {},
   "cell_type": "markdown",
   "metadata": {},
   "source": [
    "The way to do this is to stay within a DataFrame environment.\n",
    "\n",
    "1. Form a a DF of:\n",
    "run name | uv_data object.\n",
    "2. for each run: scale, baseline adjust, calculate average baseline gradient and peak heights, get the ratio. \n",
    "3. Plot the maxima of the above values for each run. Probably drop after 380nm. "
   ]
  },
  {
   "attachments": {},
   "cell_type": "markdown",
   "metadata": {},
   "source": [
    "## Filtering Runs"
   ]
  },
  {
   "cell_type": "code",
   "execution_count": 31,
   "metadata": {},
   "outputs": [
    {
     "data": {
      "text/html": [
       "<div>\n",
       "<style scoped>\n",
       "    .dataframe tbody tr th:only-of-type {\n",
       "        vertical-align: middle;\n",
       "    }\n",
       "\n",
       "    .dataframe tbody tr th {\n",
       "        vertical-align: top;\n",
       "    }\n",
       "\n",
       "    .dataframe thead th {\n",
       "        text-align: right;\n",
       "    }\n",
       "</style>\n",
       "<table border=\"1\" class=\"dataframe\">\n",
       "  <thead>\n",
       "    <tr style=\"text-align: right;\">\n",
       "      <th></th>\n",
       "      <th>acq_date</th>\n",
       "      <th>sample_name</th>\n",
       "      <th>run_name</th>\n",
       "      <th>path</th>\n",
       "      <th>sequence</th>\n",
       "      <th>ch_files</th>\n",
       "      <th>uv_files</th>\n",
       "      <th>method</th>\n",
       "      <th>desc</th>\n",
       "    </tr>\n",
       "  </thead>\n",
       "  <tbody>\n",
       "    <tr>\n",
       "      <th>3</th>\n",
       "      <td>2023-03-07 13:08:39</td>\n",
       "      <td>debertoli_cs</td>\n",
       "      <td>2023-03-07_DEBERTOLI_CS_001.D</td>\n",
       "      <td>/Users/jonathan/0_jono_data/2023-03-07_DEBERTO...</td>\n",
       "      <td>single run</td>\n",
       "      <td>[DAD1D.ch, DAD1E.ch, DAD1A.ch, DAD1F.ch, DAD1B...</td>\n",
       "      <td>[DAD1.UV]</td>\n",
       "      <td>AVANTOR100X4_6C18-H2O-MEOH-2_1.M</td>\n",
       "      <td>avantor-150-x-4.6-C18-H2O-MEOH-2.1%--gradient</td>\n",
       "    </tr>\n",
       "    <tr>\n",
       "      <th>10</th>\n",
       "      <td>2023-02-23 12:21:12</td>\n",
       "      <td>2021-debortoli-cabernet-merlot_avantor</td>\n",
       "      <td>2023-02-23_2021-DEBORTOLI-CABERNET-MERLOT_AVAN...</td>\n",
       "      <td>/Users/jonathan/0_jono_data/2023-02-23_2021-DE...</td>\n",
       "      <td>single run</td>\n",
       "      <td>[DAD1D.ch, DAD1E.ch, DAD1A.ch, DAD1F.ch, DAD1B...</td>\n",
       "      <td>[DAD1.UV]</td>\n",
       "      <td>AVANTOR100X4_6C18-H2O-MEOH-2_1.M</td>\n",
       "      <td>avantor-150-x-4.6-C18-H2O-MEOH-2.1%--gradient</td>\n",
       "    </tr>\n",
       "    <tr>\n",
       "      <th>11</th>\n",
       "      <td>2023-02-23 11:25:03</td>\n",
       "      <td>lor-ristretto</td>\n",
       "      <td>2023-02-23_LOR-RISTRETTO.D</td>\n",
       "      <td>/Users/jonathan/0_jono_data/2023-02-23_LOR-RIS...</td>\n",
       "      <td>single run</td>\n",
       "      <td>[DAD1D.ch, DAD1E.ch, DAD1A.ch, DAD1F.ch, DAD1B...</td>\n",
       "      <td>[DAD1.UV]</td>\n",
       "      <td>AVANTOR100X4_6C18-H2O-MEOH-2_1.M</td>\n",
       "      <td>avantor-150-x-4.6-C18-H2O-MEOH-2.1%--gradientp...</td>\n",
       "    </tr>\n",
       "    <tr>\n",
       "      <th>12</th>\n",
       "      <td>2023-02-22 17:39:06</td>\n",
       "      <td>2021-debortoli-cabernet-merlot_avantor</td>\n",
       "      <td>2023-02-22_2021-DEBORTOLI-CABERNET-MERLOT_AVAN...</td>\n",
       "      <td>/Users/jonathan/0_jono_data/2023-02-22_2021-DE...</td>\n",
       "      <td>single run</td>\n",
       "      <td>[DAD1D.ch, DAD1E.ch, DAD1A.ch, DAD1F.ch, DAD1B...</td>\n",
       "      <td>[DAD1.UV]</td>\n",
       "      <td>AVANTOR100X4_6C18-H2O-MEOH-2_1.M</td>\n",
       "      <td>halo-150-x-4.6-C18-H2O-MEOH-2.1%--gradient</td>\n",
       "    </tr>\n",
       "    <tr>\n",
       "      <th>13</th>\n",
       "      <td>2023-02-22 16:09:15</td>\n",
       "      <td>2021-debortoli-cabernet-merlot_halo</td>\n",
       "      <td>2023-02-22_2021-DEBORTOLI-CABERNET-MERLOT_HALO.D</td>\n",
       "      <td>/Users/jonathan/0_jono_data/2023-02-22_2021-DE...</td>\n",
       "      <td>single run</td>\n",
       "      <td>[DAD1D.ch, DAD1E.ch, DAD1A.ch, DAD1F.ch, DAD1B...</td>\n",
       "      <td>[DAD1.UV]</td>\n",
       "      <td>HALO150X4_6C18-H2O-MEOH-2_1.M</td>\n",
       "      <td>halo-150-x-4.6-C18-H2O-MEOH-2.1%--gradient</td>\n",
       "    </tr>\n",
       "  </tbody>\n",
       "</table>\n",
       "</div>"
      ],
      "text/plain": [
       "              acq_date                             sample_name  \\\n",
       "3  2023-03-07 13:08:39                            debertoli_cs   \n",
       "10 2023-02-23 12:21:12  2021-debortoli-cabernet-merlot_avantor   \n",
       "11 2023-02-23 11:25:03                           lor-ristretto   \n",
       "12 2023-02-22 17:39:06  2021-debortoli-cabernet-merlot_avantor   \n",
       "13 2023-02-22 16:09:15     2021-debortoli-cabernet-merlot_halo   \n",
       "\n",
       "                                             run_name  \\\n",
       "3                       2023-03-07_DEBERTOLI_CS_001.D   \n",
       "10  2023-02-23_2021-DEBORTOLI-CABERNET-MERLOT_AVAN...   \n",
       "11                         2023-02-23_LOR-RISTRETTO.D   \n",
       "12  2023-02-22_2021-DEBORTOLI-CABERNET-MERLOT_AVAN...   \n",
       "13   2023-02-22_2021-DEBORTOLI-CABERNET-MERLOT_HALO.D   \n",
       "\n",
       "                                                 path    sequence  \\\n",
       "3   /Users/jonathan/0_jono_data/2023-03-07_DEBERTO...  single run   \n",
       "10  /Users/jonathan/0_jono_data/2023-02-23_2021-DE...  single run   \n",
       "11  /Users/jonathan/0_jono_data/2023-02-23_LOR-RIS...  single run   \n",
       "12  /Users/jonathan/0_jono_data/2023-02-22_2021-DE...  single run   \n",
       "13  /Users/jonathan/0_jono_data/2023-02-22_2021-DE...  single run   \n",
       "\n",
       "                                             ch_files   uv_files  \\\n",
       "3   [DAD1D.ch, DAD1E.ch, DAD1A.ch, DAD1F.ch, DAD1B...  [DAD1.UV]   \n",
       "10  [DAD1D.ch, DAD1E.ch, DAD1A.ch, DAD1F.ch, DAD1B...  [DAD1.UV]   \n",
       "11  [DAD1D.ch, DAD1E.ch, DAD1A.ch, DAD1F.ch, DAD1B...  [DAD1.UV]   \n",
       "12  [DAD1D.ch, DAD1E.ch, DAD1A.ch, DAD1F.ch, DAD1B...  [DAD1.UV]   \n",
       "13  [DAD1D.ch, DAD1E.ch, DAD1A.ch, DAD1F.ch, DAD1B...  [DAD1.UV]   \n",
       "\n",
       "                              method  \\\n",
       "3   AVANTOR100X4_6C18-H2O-MEOH-2_1.M   \n",
       "10  AVANTOR100X4_6C18-H2O-MEOH-2_1.M   \n",
       "11  AVANTOR100X4_6C18-H2O-MEOH-2_1.M   \n",
       "12  AVANTOR100X4_6C18-H2O-MEOH-2_1.M   \n",
       "13     HALO150X4_6C18-H2O-MEOH-2_1.M   \n",
       "\n",
       "                                                 desc  \n",
       "3       avantor-150-x-4.6-C18-H2O-MEOH-2.1%--gradient  \n",
       "10      avantor-150-x-4.6-C18-H2O-MEOH-2.1%--gradient  \n",
       "11  avantor-150-x-4.6-C18-H2O-MEOH-2.1%--gradientp...  \n",
       "12         halo-150-x-4.6-C18-H2O-MEOH-2.1%--gradient  \n",
       "13         halo-150-x-4.6-C18-H2O-MEOH-2.1%--gradient  "
      ]
     },
     "execution_count": 31,
     "metadata": {},
     "output_type": "execute_result"
    }
   ],
   "source": [
    "runs = lib_df[(lib_df['method'].str.contains(\"2_1*\")) & ~(lib_df['sample_name'].str.contains(\"uracil*\"))]\n",
    "runs.head()"
   ]
  },
  {
   "attachments": {},
   "cell_type": "markdown",
   "metadata": {},
   "source": [
    "## Prepare the Data"
   ]
  },
  {
   "attachments": {},
   "cell_type": "markdown",
   "metadata": {},
   "source": [
    "### Assemble the runs_uv_data DF."
   ]
  },
  {
   "cell_type": "code",
   "execution_count": 32,
   "metadata": {},
   "outputs": [
    {
     "name": "stdout",
     "output_type": "stream",
     "text": [
      "/Users/jonathan/0_jono_data/2023-02-22_2021-DEBORTOLI-CABERNET-MERLOT_HALO.D/acq.macaml does not exist, cannot load signal metadata from acq.macaml\n",
      "/Users/jonathan/0_jono_data/2023-01-23_WINE_TEST_GRAD_4.D/acq.macaml does not exist, cannot load signal metadata from acq.macaml\n",
      "/Users/jonathan/0_jono_data/2022-08-01_CAFFEINE_STANDARD_100PPM.D/acq.macaml does not exist, cannot load signal metadata from acq.macaml\n",
      "2023-03-07_DEBERTOLI_CS_001.D\n",
      "2023-03-07_DEBERTOLI_CS_001.D\n",
      "/Users/jonathan/0_jono_data/2023-03-07_DEBERTOLI_CS_001.D/sample.acaml\n",
      "/Users/jonathan/0_jono_data/2023-03-07_DEBERTOLI_CS_001.D/ACQRES.REG\n",
      "/Users/jonathan/0_jono_data/2023-03-07_DEBERTOLI_CS_001.D/acq.txt\n",
      "/Users/jonathan/0_jono_data/2023-03-07_DEBERTOLI_CS_001.D/LCDIAG.REG\n",
      "/Users/jonathan/0_jono_data/2023-03-07_DEBERTOLI_CS_001.D/RUN.LOG\n",
      "/Users/jonathan/0_jono_data/2023-03-07_DEBERTOLI_CS_001.D/DAD1D.ch\n",
      "/Users/jonathan/0_jono_data/2023-03-07_DEBERTOLI_CS_001.D/SINGLE.B\n",
      "/Users/jonathan/0_jono_data/2023-03-07_DEBERTOLI_CS_001.D/DAD1E.ch\n",
      "/Users/jonathan/0_jono_data/2023-03-07_DEBERTOLI_CS_001.D/DAD1A.ch\n",
      "/Users/jonathan/0_jono_data/2023-03-07_DEBERTOLI_CS_001.D/DAD1F.ch\n",
      "/Users/jonathan/0_jono_data/2023-03-07_DEBERTOLI_CS_001.D/DA.M\n",
      "/Users/jonathan/0_jono_data/2023-03-07_DEBERTOLI_CS_001.D/acq.macaml\n",
      "/Users/jonathan/0_jono_data/2023-03-07_DEBERTOLI_CS_001.D/DAD1B.ch\n",
      "/Users/jonathan/0_jono_data/2023-03-07_DEBERTOLI_CS_001.D/DAD1C.ch\n",
      "/Users/jonathan/0_jono_data/2023-03-07_DEBERTOLI_CS_001.D/DAD1.UV\n",
      "/Users/jonathan/0_jono_data/2023-03-07_DEBERTOLI_CS_001.D/SAMPLE.XML\n",
      "/Users/jonathan/0_jono_data/2023-03-07_DEBERTOLI_CS_001.D/DAD1G.ch\n",
      "/Users/jonathan/0_jono_data/2023-03-07_DEBERTOLI_CS_001.D/DAD1H.ch\n",
      "/Users/jonathan/0_jono_data/2023-03-07_DEBERTOLI_CS_001.D/da.macaml\n",
      "/Users/jonathan/0_jono_data/2023-03-07_DEBERTOLI_CS_001.D/CSlbk.ini\n",
      "/Users/jonathan/0_jono_data/2023-03-07_DEBERTOLI_CS_001.D/SAMPLE.XML.bak\n",
      "uv_data extracted\n"
     ]
    },
    {
     "ename": "AttributeError",
     "evalue": "'NoneType' object has no attribute 'head'",
     "output_type": "error",
     "traceback": [
      "\u001b[0;31m---------------------------------------------------------------------------\u001b[0m",
      "\u001b[0;31mAttributeError\u001b[0m                            Traceback (most recent call last)",
      "Cell \u001b[0;32mIn[32], line 8\u001b[0m\n\u001b[1;32m      6\u001b[0m spectrum \u001b[39m=\u001b[39m data_dir\u001b[39m.\u001b[39mload_spectrum()\n\u001b[1;32m      7\u001b[0m data \u001b[39m=\u001b[39m spectrum\u001b[39m.\u001b[39mdata\n\u001b[0;32m----> 8\u001b[0m \u001b[39mprint\u001b[39m(data\u001b[39m.\u001b[39;49mhead())\n",
      "\u001b[0;31mAttributeError\u001b[0m: 'NoneType' object has no attribute 'head'"
     ]
    }
   ],
   "source": [
    "all_data = lib.all_data()\n",
    "\n",
    "for name in runs['run_name']:\n",
    "    print(name)\n",
    "    data_dir = all_data[name]\n",
    "    spectrum = data_dir.load_spectrum()\n",
    "    data = spectrum.data\n",
    "    print(data.head())\n"
   ]
  },
  {
   "cell_type": "code",
   "execution_count": 21,
   "metadata": {},
   "outputs": [
    {
     "name": "stdout",
     "output_type": "stream",
     "text": [
      "2023-03-07_DEBORTOLI-URACIL_001.D\n",
      "2023-03-07_DEBERTOLI_CS_001.D\n",
      "2023-02-23_2021-DEBORTOLI-CABERNET-MERLOT_AVANTOR.D\n",
      "2023-02-23_LOR-RISTRETTO.D\n",
      "2023-02-22_2021-DEBORTOLI-CABERNET-MERLOT_AVANTOR.D\n",
      "2023-02-22_2021-DEBORTOLI-CABERNET-MERLOT_HALO.D\n",
      "2023-02-22_STONEY-RISE-PN_02-21.D\n",
      "2023-02-22_CRAWFORD-CAB_02-21.D\n",
      "2023-02-22_HEY-MALBEC_02-21.D\n",
      "2023-02-22_KOERNER-NELLUCIO-02-21.D\n",
      "2023-02-22_LOR-RISTRETTO.D\n",
      "006-0601.D\n",
      "005-0501.D\n",
      "004-0401.D\n",
      "003-0301.D\n",
      "002-0201.D\n",
      "001-0101.D\n",
      "2023-02-16_0232.D\n",
      "2023-02-16_0291.D\n",
      "017-1601.D\n",
      "016-1501.D\n",
      "015-1401.D\n",
      "014-1301.D\n",
      "013-1201.D\n",
      "012-1101.D\n",
      "011-1001.D\n",
      "009-0901.D\n",
      "008-0801.D\n",
      "007-0701.D\n",
      "006-0601.D\n",
      "005-0501.D\n",
      "004-0401.D\n",
      "003-0301.D\n",
      "002-0201.D\n",
      "001-0101.D\n",
      "2023-02-15_COFFEE_COLUMN_CHECK_2.D\n",
      "2023-02-15_COFFEE_COLUMN_CHECK.D\n",
      "2023-02-14_0052_TESTING_COLUMN_FOR_SAMPLE_DEG.D\n",
      "2023-02-08_16-05-13_Z3.D\n",
      "030-1701.D\n",
      "029-1601.D\n",
      "028-1501.D\n",
      "027-1401.D\n",
      "026-1301.D\n",
      "020-1201.D\n",
      "019-1101.D\n",
      "018-1001.D\n",
      "017-0901.D\n",
      "016-0801.D\n",
      "015-0701.D\n",
      "010-0601.D\n",
      "009-0501.D\n",
      "008-0401.D\n",
      "007-0301.D\n",
      "006-0201.D\n",
      "005-0101.D\n",
      "2023-02-07_18-30-07_Z3-ID-NM-ABS-MAX.D\n",
      "2023-02-07_17-08-25_0051.D\n",
      "2023-02-07_14-10-47_Z3-NO-FORMIC-ACID-1.D\n",
      "2023-02-07_12-01-43_Z3-1.D\n"
     ]
    }
   ],
   "source": [
    "def uv_data_extractor(column):\n",
    "    data_dir = all_data[column]\n",
    "    #spectrum = data_dir.load_spectrum()\n",
    "\n",
    "    return data_dir\n",
    "\n",
    "uv_data_series = runs['run_name'].apply(uv_data_extractor)"
   ]
  },
  {
   "cell_type": "code",
   "execution_count": 20,
   "metadata": {},
   "outputs": [
    {
     "data": {
      "text/plain": [
       "{'_is_copy': None,\n",
       " '_mgr': SingleBlockManager\n",
       " Items: Int64Index([ 0,  3, 10, 11, 12, 13, 14, 15, 16, 17, 18, 19, 20, 21, 22, 23, 24,\n",
       "             25, 26, 27, 28, 29, 30, 31, 32, 33, 34, 35, 36, 37, 38, 39, 40, 41,\n",
       "             42, 43, 44, 45, 49, 50, 51, 52, 53, 54, 55, 56, 57, 58, 59, 60, 61,\n",
       "             62, 63, 64, 65, 66, 67, 68, 69, 70],\n",
       "            dtype='int64')\n",
       " ObjectBlock: 60 dtype: object,\n",
       " '_item_cache': {},\n",
       " '_attrs': {},\n",
       " '_flags': <Flags(allows_duplicate_labels=True)>,\n",
       " '_name': 'run_name',\n",
       " 'str': <pandas.core.strings.accessor.StringMethods at 0x2848442d0>}"
      ]
     },
     "execution_count": 20,
     "metadata": {},
     "output_type": "execute_result"
    }
   ],
   "source": [
    "uv_data_series.__dict__"
   ]
  },
  {
   "cell_type": "code",
   "execution_count": null,
   "metadata": {},
   "outputs": [
    {
     "name": "stderr",
     "output_type": "stream",
     "text": [
      "/var/folders/mh/cknmc22s2zv5m4l777wwz1b00000gn/T/ipykernel_78097/2663406181.py:3: SettingWithCopyWarning: \n",
      "A value is trying to be set on a copy of a slice from a DataFrame.\n",
      "Try using .loc[row_indexer,col_indexer] = value instead\n",
      "\n",
      "See the caveats in the documentation: https://pandas.pydata.org/pandas-docs/stable/user_guide/indexing.html#returning-a-view-versus-a-copy\n",
      "  runs_uv['uv_data'] = uv_data_series\n",
      "/var/folders/mh/cknmc22s2zv5m4l777wwz1b00000gn/T/ipykernel_78097/2663406181.py:5: SettingWithCopyWarning: \n",
      "A value is trying to be set on a copy of a slice from a DataFrame\n",
      "\n",
      "See the caveats in the documentation: https://pandas.pydata.org/pandas-docs/stable/user_guide/indexing.html#returning-a-view-versus-a-copy\n",
      "  runs_uv.drop(['uv_files', 'sequence', 'ch_files', 'sample_name', 'desc'], inplace = True, axis = 1)\n"
     ]
    }
   ],
   "source": [
    "runs_uv = runs\n",
    "\n",
    "runs_uv['uv_data'] = uv_data_series\n",
    "\n",
    "runs_uv.drop(['uv_files', 'sequence', 'ch_files', 'sample_name', 'desc'], inplace = True, axis = 1)"
   ]
  },
  {
   "cell_type": "code",
   "execution_count": null,
   "metadata": {},
   "outputs": [
    {
     "ename": "NameError",
     "evalue": "name 'runs_uv' is not defined",
     "output_type": "error",
     "traceback": [
      "\u001b[0;31m---------------------------------------------------------------------------\u001b[0m",
      "\u001b[0;31mNameError\u001b[0m                                 Traceback (most recent call last)",
      "Cell \u001b[0;32mIn[6], line 1\u001b[0m\n\u001b[0;32m----> 1\u001b[0m runs_uv[\u001b[39m'\u001b[39m\u001b[39muv_data\u001b[39m\u001b[39m'\u001b[39m][\u001b[39m0\u001b[39m]\n",
      "\u001b[0;31mNameError\u001b[0m: name 'runs_uv' is not defined"
     ]
    }
   ],
   "source": [
    "runs_uv['uv_data'][0]"
   ]
  },
  {
   "cell_type": "code",
   "execution_count": null,
   "metadata": {},
   "outputs": [],
   "source": []
  },
  {
   "cell_type": "code",
   "execution_count": null,
   "metadata": {},
   "outputs": [],
   "source": []
  },
  {
   "cell_type": "code",
   "execution_count": null,
   "metadata": {},
   "outputs": [],
   "source": []
  },
  {
   "attachments": {},
   "cell_type": "markdown",
   "metadata": {},
   "source": [
    "### Scale"
   ]
  },
  {
   "cell_type": "code",
   "execution_count": null,
   "metadata": {},
   "outputs": [],
   "source": []
  },
  {
   "attachments": {},
   "cell_type": "markdown",
   "metadata": {},
   "source": [
    "### Baseline Correct"
   ]
  }
 ],
 "metadata": {
  "kernelspec": {
   "display_name": "Python 3",
   "language": "python",
   "name": "python3"
  },
  "language_info": {
   "codemirror_mode": {
    "name": "ipython",
    "version": 3
   },
   "file_extension": ".py",
   "mimetype": "text/x-python",
   "name": "python",
   "nbconvert_exporter": "python",
   "pygments_lexer": "ipython3",
   "version": "3.11.1"
  },
  "orig_nbformat": 4
 },
 "nbformat": 4,
 "nbformat_minor": 2
}
