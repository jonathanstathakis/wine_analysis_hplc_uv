{
 "cells": [
  {
   "cell_type": "markdown",
   "id": "63083eea-7922-4076-a56b-08a8c357239f",
   "metadata": {},
   "source": [
    "# Investigating Interval of Time of Eluting Components of Wine in a 2.5% Gradient"
   ]
  },
  {
   "cell_type": "markdown",
   "id": "2808e4d3-984c-45f7-abf3-362cef6f1f89",
   "metadata": {},
   "source": [
    "Observing the chromatogram of the debortoli cabernet merlot under a 2.5% gradient showed that There were no components eluting after ~27mins. Therefore in the interst of reducing overall run time and mobile phase consumption, I will investigate that region across all my samples."
   ]
  },
  {
   "cell_type": "markdown",
   "id": "bce5fca7-0a7c-4cb9-af8f-a3a44bf7fd29",
   "metadata": {},
   "source": [
    "The samples will be any wines run on the avantor colummn at 2.5%. (erroneously labelled at 2.1%)"
   ]
  },
  {
   "attachments": {},
   "cell_type": "markdown",
   "id": "af05d14d",
   "metadata": {},
   "source": [
    "## Set up Environment"
   ]
  },
  {
   "cell_type": "code",
   "execution_count": 2,
   "id": "a81e3f35-6ebb-4d81-8282-0ebc0da039d0",
   "metadata": {
    "execution": {
     "iopub.execute_input": "2023-03-14T00:52:03.976149Z",
     "iopub.status.busy": "2023-03-14T00:52:03.975823Z",
     "iopub.status.idle": "2023-03-14T00:52:07.388904Z",
     "shell.execute_reply": "2023-03-14T00:52:07.388496Z",
     "shell.execute_reply.started": "2023-03-14T00:52:03.976125Z"
    },
    "tags": []
   },
   "outputs": [
    {
     "name": "stdout",
     "output_type": "stream",
     "text": [
      "The autoreload extension is already loaded. To reload it, use:\n",
      "  %reload_ext autoreload\n",
      "/Users/jonathan/0_jono_data/2023-02-22_2021-DEBORTOLI-CABERNET-MERLOT_HALO.D/acq.macaml does not exist, cannot load signal metadata from acq.macaml\n",
      "/Users/jonathan/0_jono_data/2023-01-23_WINE_TEST_GRAD_4.D/acq.macaml does not exist, cannot load signal metadata from acq.macaml\n",
      "/Users/jonathan/0_jono_data/2022-08-01_CAFFEINE_STANDARD_100PPM.D/acq.macaml does not exist, cannot load signal metadata from acq.macaml\n"
     ]
    }
   ],
   "source": [
    "%load_ext autoreload\n",
    "%autoreload 2\n",
    "\n",
    "import sys\n",
    "\n",
    "import os\n",
    "\n",
    "import pandas as pd\n",
    "\n",
    "# adds root dir 'wine_analyis_hplc_uv' to path.\n",
    "\n",
    "sys.path.insert(0, os.path.abspath(os.path.join(os.getcwd(), '../')))\n",
    "\n",
    "from agilette import agilette_core as ag\n",
    "\n",
    "lib = ag.Agilette('/Users/jonathan/0_jono_data').library"
   ]
  },
  {
   "cell_type": "code",
   "execution_count": 4,
   "id": "0db4c8bd-73c0-46ac-b85a-93742064df22",
   "metadata": {
    "execution": {
     "iopub.execute_input": "2023-03-14T00:52:07.406748Z",
     "iopub.status.busy": "2023-03-14T00:52:07.406628Z",
     "iopub.status.idle": "2023-03-14T00:52:07.423664Z",
     "shell.execute_reply": "2023-03-14T00:52:07.423255Z",
     "shell.execute_reply.started": "2023-03-14T00:52:07.406736Z"
    },
    "tags": []
   },
   "outputs": [],
   "source": [
    "lib_df = lib.data_table()"
   ]
  },
  {
   "attachments": {},
   "cell_type": "markdown",
   "id": "c7a80928",
   "metadata": {},
   "source": [
    "## Select All Runs Done on a 2.5% Gradient"
   ]
  },
  {
   "attachments": {},
   "cell_type": "markdown",
   "id": "18f2abf5",
   "metadata": {},
   "source": [
    "Note: the runs prior to 2023-03-14 were incorrectly marked as \"-2_1.M\" Which translates to 2.1% gradient. Unfortunately, the % gradient was miscalculated, and they should have been labelled \"-2_5.M\"."
   ]
  },
  {
   "cell_type": "code",
   "execution_count": 5,
   "id": "02ebf123-7848-4ffb-98b7-96ff48dddfbb",
   "metadata": {
    "execution": {
     "iopub.execute_input": "2023-03-14T00:58:44.497394Z",
     "iopub.status.busy": "2023-03-14T00:58:44.496819Z",
     "iopub.status.idle": "2023-03-14T00:58:44.532453Z",
     "shell.execute_reply": "2023-03-14T00:58:44.531916Z",
     "shell.execute_reply.started": "2023-03-14T00:58:44.497352Z"
    },
    "tags": []
   },
   "outputs": [
    {
     "data": {
      "text/html": [
       "<div>\n",
       "<style scoped>\n",
       "    .dataframe tbody tr th:only-of-type {\n",
       "        vertical-align: middle;\n",
       "    }\n",
       "\n",
       "    .dataframe tbody tr th {\n",
       "        vertical-align: top;\n",
       "    }\n",
       "\n",
       "    .dataframe thead th {\n",
       "        text-align: right;\n",
       "    }\n",
       "</style>\n",
       "<table border=\"1\" class=\"dataframe\">\n",
       "  <thead>\n",
       "    <tr style=\"text-align: right;\">\n",
       "      <th></th>\n",
       "      <th>acq_date</th>\n",
       "      <th>sample_name</th>\n",
       "      <th>run_name</th>\n",
       "      <th>path</th>\n",
       "      <th>sequence</th>\n",
       "      <th>ch_files</th>\n",
       "      <th>uv_files</th>\n",
       "      <th>method</th>\n",
       "      <th>desc</th>\n",
       "    </tr>\n",
       "  </thead>\n",
       "  <tbody>\n",
       "    <tr>\n",
       "      <th>0</th>\n",
       "      <td>2023-03-07 15:27:06</td>\n",
       "      <td>debortoli-uracil</td>\n",
       "      <td>2023-03-07_DEBORTOLI-URACIL_001.D</td>\n",
       "      <td>/Users/jonathan/0_jono_data/2023-03-07_DEBORTOLI-URACIL_001.D</td>\n",
       "      <td>single run</td>\n",
       "      <td>[DAD1D.ch, DAD1E.ch, DAD1A.ch, DAD1F.ch, DAD1B.ch, DAD1C.ch, DAD1G.ch, DAD1H.ch]</td>\n",
       "      <td>[DAD1.UV]</td>\n",
       "      <td>HALO150X4_6C18-H2O-MEOH-2_1.M</td>\n",
       "      <td>avantor-150-x-4.6-C18-H2O-MEOH-2.1%--gradient</td>\n",
       "    </tr>\n",
       "    <tr>\n",
       "      <th>3</th>\n",
       "      <td>2023-03-07 13:08:39</td>\n",
       "      <td>debertoli_cs</td>\n",
       "      <td>2023-03-07_DEBERTOLI_CS_001.D</td>\n",
       "      <td>/Users/jonathan/0_jono_data/2023-03-07_DEBERTOLI_CS_001.D</td>\n",
       "      <td>single run</td>\n",
       "      <td>[DAD1D.ch, DAD1E.ch, DAD1A.ch, DAD1F.ch, DAD1B.ch, DAD1C.ch, DAD1G.ch, DAD1H.ch]</td>\n",
       "      <td>[DAD1.UV]</td>\n",
       "      <td>AVANTOR100X4_6C18-H2O-MEOH-2_1.M</td>\n",
       "      <td>avantor-150-x-4.6-C18-H2O-MEOH-2.1%--gradient</td>\n",
       "    </tr>\n",
       "    <tr>\n",
       "      <th>10</th>\n",
       "      <td>2023-02-23 12:21:12</td>\n",
       "      <td>2021-debortoli-cabernet-merlot_avantor</td>\n",
       "      <td>2023-02-23_2021-DEBORTOLI-CABERNET-MERLOT_AVANTOR.D</td>\n",
       "      <td>/Users/jonathan/0_jono_data/2023-02-23_2021-DEBORTOLI-CABERNET-MERLOT_AVANTOR.D</td>\n",
       "      <td>single run</td>\n",
       "      <td>[DAD1D.ch, DAD1E.ch, DAD1A.ch, DAD1F.ch, DAD1B.ch, DAD1C.ch]</td>\n",
       "      <td>[DAD1.UV]</td>\n",
       "      <td>AVANTOR100X4_6C18-H2O-MEOH-2_1.M</td>\n",
       "      <td>avantor-150-x-4.6-C18-H2O-MEOH-2.1%--gradient</td>\n",
       "    </tr>\n",
       "    <tr>\n",
       "      <th>11</th>\n",
       "      <td>2023-02-23 11:25:03</td>\n",
       "      <td>lor-ristretto</td>\n",
       "      <td>2023-02-23_LOR-RISTRETTO.D</td>\n",
       "      <td>/Users/jonathan/0_jono_data/2023-02-23_LOR-RISTRETTO.D</td>\n",
       "      <td>single run</td>\n",
       "      <td>[DAD1D.ch, DAD1E.ch, DAD1A.ch, DAD1F.ch, DAD1B.ch, DAD1C.ch]</td>\n",
       "      <td>[DAD1.UV]</td>\n",
       "      <td>AVANTOR100X4_6C18-H2O-MEOH-2_1.M</td>\n",
       "      <td>avantor-150-x-4.6-C18-H2O-MEOH-2.1%--gradientperformance-check</td>\n",
       "    </tr>\n",
       "    <tr>\n",
       "      <th>12</th>\n",
       "      <td>2023-02-22 17:39:06</td>\n",
       "      <td>2021-debortoli-cabernet-merlot_avantor</td>\n",
       "      <td>2023-02-22_2021-DEBORTOLI-CABERNET-MERLOT_AVANTOR.D</td>\n",
       "      <td>/Users/jonathan/0_jono_data/2023-02-22_2021-DEBORTOLI-CABERNET-MERLOT_AVANTOR.D</td>\n",
       "      <td>single run</td>\n",
       "      <td>[DAD1D.ch, DAD1E.ch, DAD1A.ch, DAD1F.ch, DAD1B.ch, DAD1C.ch]</td>\n",
       "      <td>[DAD1.UV]</td>\n",
       "      <td>AVANTOR100X4_6C18-H2O-MEOH-2_1.M</td>\n",
       "      <td>halo-150-x-4.6-C18-H2O-MEOH-2.1%--gradient</td>\n",
       "    </tr>\n",
       "  </tbody>\n",
       "</table>\n",
       "</div>"
      ],
      "text/plain": [
       "              acq_date                             sample_name  \\\n",
       "0  2023-03-07 15:27:06                        debortoli-uracil   \n",
       "3  2023-03-07 13:08:39                            debertoli_cs   \n",
       "10 2023-02-23 12:21:12  2021-debortoli-cabernet-merlot_avantor   \n",
       "11 2023-02-23 11:25:03                           lor-ristretto   \n",
       "12 2023-02-22 17:39:06  2021-debortoli-cabernet-merlot_avantor   \n",
       "\n",
       "                                               run_name  \\\n",
       "0                     2023-03-07_DEBORTOLI-URACIL_001.D   \n",
       "3                         2023-03-07_DEBERTOLI_CS_001.D   \n",
       "10  2023-02-23_2021-DEBORTOLI-CABERNET-MERLOT_AVANTOR.D   \n",
       "11                           2023-02-23_LOR-RISTRETTO.D   \n",
       "12  2023-02-22_2021-DEBORTOLI-CABERNET-MERLOT_AVANTOR.D   \n",
       "\n",
       "                                                                               path  \\\n",
       "0                     /Users/jonathan/0_jono_data/2023-03-07_DEBORTOLI-URACIL_001.D   \n",
       "3                         /Users/jonathan/0_jono_data/2023-03-07_DEBERTOLI_CS_001.D   \n",
       "10  /Users/jonathan/0_jono_data/2023-02-23_2021-DEBORTOLI-CABERNET-MERLOT_AVANTOR.D   \n",
       "11                           /Users/jonathan/0_jono_data/2023-02-23_LOR-RISTRETTO.D   \n",
       "12  /Users/jonathan/0_jono_data/2023-02-22_2021-DEBORTOLI-CABERNET-MERLOT_AVANTOR.D   \n",
       "\n",
       "      sequence  \\\n",
       "0   single run   \n",
       "3   single run   \n",
       "10  single run   \n",
       "11  single run   \n",
       "12  single run   \n",
       "\n",
       "                                                                            ch_files  \\\n",
       "0   [DAD1D.ch, DAD1E.ch, DAD1A.ch, DAD1F.ch, DAD1B.ch, DAD1C.ch, DAD1G.ch, DAD1H.ch]   \n",
       "3   [DAD1D.ch, DAD1E.ch, DAD1A.ch, DAD1F.ch, DAD1B.ch, DAD1C.ch, DAD1G.ch, DAD1H.ch]   \n",
       "10                      [DAD1D.ch, DAD1E.ch, DAD1A.ch, DAD1F.ch, DAD1B.ch, DAD1C.ch]   \n",
       "11                      [DAD1D.ch, DAD1E.ch, DAD1A.ch, DAD1F.ch, DAD1B.ch, DAD1C.ch]   \n",
       "12                      [DAD1D.ch, DAD1E.ch, DAD1A.ch, DAD1F.ch, DAD1B.ch, DAD1C.ch]   \n",
       "\n",
       "     uv_files                            method  \\\n",
       "0   [DAD1.UV]     HALO150X4_6C18-H2O-MEOH-2_1.M   \n",
       "3   [DAD1.UV]  AVANTOR100X4_6C18-H2O-MEOH-2_1.M   \n",
       "10  [DAD1.UV]  AVANTOR100X4_6C18-H2O-MEOH-2_1.M   \n",
       "11  [DAD1.UV]  AVANTOR100X4_6C18-H2O-MEOH-2_1.M   \n",
       "12  [DAD1.UV]  AVANTOR100X4_6C18-H2O-MEOH-2_1.M   \n",
       "\n",
       "                                                              desc  \n",
       "0                    avantor-150-x-4.6-C18-H2O-MEOH-2.1%--gradient  \n",
       "3                    avantor-150-x-4.6-C18-H2O-MEOH-2.1%--gradient  \n",
       "10                   avantor-150-x-4.6-C18-H2O-MEOH-2.1%--gradient  \n",
       "11  avantor-150-x-4.6-C18-H2O-MEOH-2.1%--gradientperformance-check  \n",
       "12                      halo-150-x-4.6-C18-H2O-MEOH-2.1%--gradient  "
      ]
     },
     "execution_count": 5,
     "metadata": {},
     "output_type": "execute_result"
    }
   ],
   "source": [
    "pd.set_option('display.max_colwidth', None)\n",
    "\n",
    "lib_df[lib_df['method'].str.contains('-2_1.M')].head()"
   ]
  },
  {
   "attachments": {},
   "cell_type": "markdown",
   "id": "623f04eb-1ce7-413c-9968-1e472b15b38a",
   "metadata": {},
   "source": [
    "To develop a method of analysing the population of particular regions of a chromatogram, we will use a sample that I am confident is representative of the library. That sample is the latest De Bertoli cab merlot run:"
   ]
  },
  {
   "cell_type": "code",
   "execution_count": 4,
   "id": "bc64b3b2",
   "metadata": {},
   "outputs": [
    {
     "data": {
      "text/plain": [
       "acq_date                                                                    2023-03-07 13:08:39\n",
       "sample_name                                                                        debertoli_cs\n",
       "run_name                                                          2023-03-07_DEBERTOLI_CS_001.D\n",
       "path                                  /Users/jonathan/0_jono_data/2023-03-07_DEBERTOLI_CS_001.D\n",
       "sequence                                                                             single run\n",
       "ch_files       [DAD1D.ch, DAD1E.ch, DAD1A.ch, DAD1F.ch, DAD1B.ch, DAD1C.ch, DAD1G.ch, DAD1H.ch]\n",
       "uv_files                                                                              [DAD1.UV]\n",
       "method                      C:\\CHEM32\\1\\METHODS\\0_JONO_METHODS\\AVANTOR100X4_6C18-H2O-MEOH-2_1.M\n",
       "desc                                              avantor-150-x-4.6-C18-H2O-MEOH-2.1%--gradient\n",
       "Name: 3, dtype: object"
      ]
     },
     "execution_count": 4,
     "metadata": {},
     "output_type": "execute_result"
    }
   ],
   "source": [
    "lib_df.loc[3]"
   ]
  },
  {
   "cell_type": "markdown",
   "id": "9a7b16fc",
   "metadata": {},
   "source": [
    "To perform this analysis, it will be useful to select a most representative wavelength, that is one with the lowest average baseline gradient and heighest average peak ratio."
   ]
  },
  {
   "cell_type": "markdown",
   "id": "37942c24",
   "metadata": {},
   "source": [
    "I need to identify a wavelength of choice to perform these analyses on. The wavelength of choice will be one that has a minimal baseline and maximal absorbance.\n",
    "\n",
    "We can define minimal baaseline as the one with the lowest average gradient.\n",
    "\n",
    "So first calculate the baseline values for each wavelength, then calculate their average gradient.\n",
    "\n",
    "This analysis will be perfomed in [2023-03-15_identifying_optimal_wavelength](2023-03-15_identifying_optimal_wavelength.ipynb)"
   ]
  }
 ],
 "metadata": {
  "kernelspec": {
   "display_name": "Python 3 (ipykernel)",
   "language": "python",
   "name": "python3"
  },
  "language_info": {
   "codemirror_mode": {
    "name": "ipython",
    "version": 3
   },
   "file_extension": ".py",
   "mimetype": "text/x-python",
   "name": "python",
   "nbconvert_exporter": "python",
   "pygments_lexer": "ipython3",
   "version": "3.11.1"
  }
 },
 "nbformat": 4,
 "nbformat_minor": 5
}
