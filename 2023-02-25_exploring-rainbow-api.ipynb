{
 "cells": [
  {
   "cell_type": "markdown",
   "id": "2438d290-fbc9-4410-bf52-dc2da15ec433",
   "metadata": {},
   "source": [
    "# Exploring Rainbow API for use in Data class structures."
   ]
  },
  {
   "cell_type": "markdown",
   "id": "68022c0e-376c-4a7b-b25a-b03bb9c49fa9",
   "metadata": {},
   "source": [
    "There are a few things I want to investigate:\n",
    "\n",
    "- [x] passing the .UV data directly to other Python objects without exporting to `.csv` first.\n",
    "- [x] What run metadata is available.\n",
    "\n",
    "Once these are clarified we can explore how to best intregrate rainbow-api objects into my Data class."
   ]
  },
  {
   "cell_type": "code",
   "execution_count": 1,
   "id": "316ea62e-68c5-476d-a11b-33f31aa90c5c",
   "metadata": {
    "execution": {
     "iopub.execute_input": "2023-02-26T13:39:15.474180Z",
     "iopub.status.busy": "2023-02-26T13:39:15.473947Z",
     "iopub.status.idle": "2023-02-26T13:39:15.939446Z",
     "shell.execute_reply": "2023-02-26T13:39:15.939092Z",
     "shell.execute_reply.started": "2023-02-26T13:39:15.474155Z"
    },
    "tags": []
   },
   "outputs": [
    {
     "data": {
      "text/plain": [
       "2023-02-07_18-30-07_Z3-ID-NM-ABS-MAX.D: DAD1D.ch - DAD1E.ch - DAD1A.ch - DAD1F.ch - DAD1B.ch - DAD1C.ch - DAD1.UV"
      ]
     },
     "execution_count": 1,
     "metadata": {},
     "output_type": "execute_result"
    }
   ],
   "source": [
    "import rainbow as rb\n",
    "\n",
    "from pathlib import Path\n",
    "\n",
    "p = \"/Users/jonathan/0_jono_data/2023-02-07_18-30-07_Z3-ID-NM-ABS-MAX.D\"\n",
    "\n",
    "data = rb.read(str(p))\n",
    "\n",
    "data"
   ]
  },
  {
   "cell_type": "markdown",
   "id": "9bc7f6b1-ea96-43be-ae82-988f20085869",
   "metadata": {},
   "source": [
    "So the DataDirectory objects contain:\n",
    "\n",
    "- DataDirectory.name - name of the data directory .D.\n",
    "- DataDirectory.datafiles -  a list of all the data files.\n",
    "- DataDirectory.metadata - a dict of metadata including run date time and vial position.\n",
    "- DataDirectory.get_info() outputs a text string with ALL the information and data. Method name can be gotten from there."
   ]
  },
  {
   "cell_type": "markdown",
   "id": "b6ed129f-a77a-4be5-b219-48b60d7f7537",
   "metadata": {},
   "source": [
    "Regarding the method data, based on the source code for `parse_uv()`, I should expect to be able to access the method name, however the following:"
   ]
  },
  {
   "cell_type": "code",
   "execution_count": 2,
   "id": "acf9ecb9-e915-4355-9de1-20583fd6fde3",
   "metadata": {
    "execution": {
     "iopub.execute_input": "2023-02-26T13:39:15.940918Z",
     "iopub.status.busy": "2023-02-26T13:39:15.940731Z",
     "iopub.status.idle": "2023-02-26T13:39:15.943744Z",
     "shell.execute_reply": "2023-02-26T13:39:15.943423Z",
     "shell.execute_reply.started": "2023-02-26T13:39:15.940901Z"
    },
    "tags": []
   },
   "outputs": [
    {
     "data": {
      "text/plain": [
       "{'vendor': 'Agilent', 'date': '07-Feb-23, 18:31:29', 'vialpos': 'Vial 41'}"
      ]
     },
     "execution_count": 2,
     "metadata": {},
     "output_type": "execute_result"
    }
   ],
   "source": [
    "data.metadata"
   ]
  },
  {
   "cell_type": "markdown",
   "id": "c14e386a-2dfa-4c3b-a4ef-1912a1ec5548",
   "metadata": {},
   "source": [
    "does not contain the method name. Maybe try accessing the metadata specific to a .ch or .uv file?"
   ]
  },
  {
   "cell_type": "code",
   "execution_count": 3,
   "id": "e0c69a36-a6e4-48c7-9d7b-da29032abbda",
   "metadata": {
    "execution": {
     "iopub.execute_input": "2023-02-26T13:39:15.944351Z",
     "iopub.status.busy": "2023-02-26T13:39:15.944245Z",
     "iopub.status.idle": "2023-02-26T13:39:16.226264Z",
     "shell.execute_reply": "2023-02-26T13:39:16.225890Z",
     "shell.execute_reply.started": "2023-02-26T13:39:15.944339Z"
    },
    "tags": []
   },
   "outputs": [
    {
     "data": {
      "text/plain": [
       "2023-02-07_18-30-07_Z3-ID-NM-ABS-MAX.D: DAD1D.ch - DAD1E.ch - DAD1A.ch - DAD1F.ch - DAD1B.ch - DAD1C.ch - DAD1.UV"
      ]
     },
     "execution_count": 3,
     "metadata": {},
     "output_type": "execute_result"
    }
   ],
   "source": [
    "p = \"/Users/jonathan/0_jono_data/2023-02-07_18-30-07_Z3-ID-NM-ABS-MAX.D\"\n",
    "\n",
    "data = rb.read(str(p))\n",
    "\n",
    "data"
   ]
  },
  {
   "cell_type": "code",
   "execution_count": 4,
   "id": "b7b9a12d-410b-41bc-b584-91c2b5af5790",
   "metadata": {
    "execution": {
     "iopub.execute_input": "2023-02-26T13:39:16.226963Z",
     "iopub.status.busy": "2023-02-26T13:39:16.226851Z",
     "iopub.status.idle": "2023-02-26T13:39:16.229822Z",
     "shell.execute_reply": "2023-02-26T13:39:16.229513Z",
     "shell.execute_reply.started": "2023-02-26T13:39:16.226951Z"
    },
    "tags": []
   },
   "outputs": [
    {
     "data": {
      "text/plain": [
       "{'notebook': 'z3',\n",
       " 'date': '07-Feb-23, 18:31:29',\n",
       " 'method': 'AVANTOR100X4_6C18-H2O-MEOH-2_1-1.M',\n",
       " 'instrument': 'Asterix ChemStation',\n",
       " 'unit': 'mAU',\n",
       " 'signal': 'DAD1A, Sig=240.0,4.0  Ref=off'}"
      ]
     },
     "execution_count": 4,
     "metadata": {},
     "output_type": "execute_result"
    }
   ],
   "source": [
    "data.get_file('DAD1A.ch').metadata"
   ]
  },
  {
   "cell_type": "markdown",
   "id": "a7a1d6d3-314f-4968-ac26-fc417290dc87",
   "metadata": {},
   "source": [
    "So the method names are contained in the metadata of the individual signals. That's fine. We've essentially got the desired class heirarchy provided by rainbow then."
   ]
  },
  {
   "cell_type": "markdown",
   "id": "667c1a13-ca71-4cd4-96c7-edf6aeb5472c",
   "metadata": {},
   "source": [
    "It would be useful to produe a table of all data within a given top-level directory, then access those files with rainbow to extract the desired queries, then return as tables, i.e.\n",
    "\n",
    "```\n",
    "with 0_jono_data as dir:\n",
    "\n",
    "data_table = table(dir)\n",
    "\n",
    "print(data_table(sample name, acq time, method, signals contained, run time..))\n",
    "```"
   ]
  },
  {
   "cell_type": "markdown",
   "id": "2e2131f7-b0f0-4e74-8526-390c09b03442",
   "metadata": {},
   "source": [
    "So lets try and action that."
   ]
  },
  {
   "cell_type": "code",
   "execution_count": 5,
   "id": "ef08cea5-a634-490c-b169-d910197bd2c9",
   "metadata": {
    "execution": {
     "iopub.execute_input": "2023-02-26T13:39:16.230556Z",
     "iopub.status.busy": "2023-02-26T13:39:16.230394Z",
     "iopub.status.idle": "2023-02-26T13:39:16.233128Z",
     "shell.execute_reply": "2023-02-26T13:39:16.232826Z",
     "shell.execute_reply.started": "2023-02-26T13:39:16.230544Z"
    },
    "tags": []
   },
   "outputs": [
    {
     "name": "stdout",
     "output_type": "stream",
     "text": [
      "2023-02-15_COFFEE_COLUMN_CHECK.D\n",
      "2023-02-09_14-59-17_NC1.D\n",
      "2023-01-23_WINE_TEST_GRAD_2.D\n",
      "2023-01-23_COFFEE-TEST_2.D\n",
      "2023-02-23_2021-DEBORTOLI-CABERNET-MERLOT_AVANTOR.D\n",
      "2023-02-09_14-30-37_Z3.D\n",
      "2023-02-22_KOERNER-NELLUCIO-02-21.D\n",
      "2023-02-22_2021-DEBORTOLI-CABERNET-MERLOT_HALO.D\n",
      "2022-08-02_CAFFEINE_STANDARD_50PPM.D\n",
      "2023-02-08_16-05-13_Z3.D\n",
      "2023-02-01_Z3_SECOND_RUN_OF_THE_DAY.D\n",
      "2023-01-23_PHENOL_TEST.D\n",
      "2023-01-23_WINE_TEST_GRAD_1.D\n",
      "2023-01-23_COFFEE-TEST-1.D\n",
      "2023-02-14_0052_TESTING_COLUMN_FOR_SAMPLE_DEG.D\n",
      "2023-01-23_WINE_TEST_GRAD_5.D\n",
      "2023-02-01_Z3_FOURTH_RUN_OF_THE_DAY.D\n",
      "2023-02-01_Z3_THIRD_RUN_OF_THE_DAY.D\n",
      "2023-02-07_14-10-47_Z3-NO-FORMIC-ACID-1.D\n",
      "2022-08-01_CAFFEINE_MOCCONA CLASSIC INSTANT.D\n",
      "2023-02-07_11-22-37_BLANK-4.D\n",
      "2023-02-22_STONEY-RISE-PN_02-21.D\n",
      "2023-02-22_2021-DEBORTOLI-CABERNET-MERLOT_AVANTOR.D\n",
      "2023-02-01_Z3_FIRST_RUN_OF_DAY.D\n",
      "2023-02-22_HEY-MALBEC_02-21.D\n",
      "2023-02-22_LOR-RISTRETTO.D\n",
      "2022-08-01_CAFFEINE_ISOCRATIC_LOR ESPRESSO RISTRETTO.D\n",
      "2023-01-23_WINE_TEST_GRAD_4.D\n",
      "2023-02-07_17-08-25_0051.D\n",
      "2023-02-09_13-49-55_ESPRESSO.D\n",
      "2023-02-23_LOR-RISTRETTO.D\n",
      "2023-02-07_18-30-07_Z3-ID-NM-ABS-MAX.D\n",
      "2023-02-22_CRAWFORD-CAB_02-21.D\n",
      "2023-02-16_0291.D\n",
      "2023-02-16_0232.D\n",
      "2023-02-07_12-01-43_Z3-1.D\n",
      "2023-01-23_COFFEE-TEST_3.D\n",
      "2022-08-01_CAFFEINE_STANDARD_100PPM.D\n",
      "2023-02-15_COFFEE_COLUMN_CHECK_2.D\n"
     ]
    }
   ],
   "source": [
    "top_dir = Path('/Users/jonathan/0_jono_data')\n",
    "\n",
    "for obj in top_dir.iterdir():\n",
    "    if obj.name.endswith(\".D\"):\n",
    "        print(obj.name)"
   ]
  },
  {
   "cell_type": "markdown",
   "id": "83460883-32c0-42ac-abb2-1336f368dec2",
   "metadata": {},
   "source": [
    "Build it as a DF.\n"
   ]
  },
  {
   "cell_type": "code",
   "execution_count": 6,
   "id": "53a28db5-e58a-4b69-9c2c-75dc32849e6f",
   "metadata": {
    "execution": {
     "iopub.execute_input": "2023-02-26T13:39:16.233765Z",
     "iopub.status.busy": "2023-02-26T13:39:16.233667Z",
     "iopub.status.idle": "2023-02-26T13:39:21.131629Z",
     "shell.execute_reply": "2023-02-26T13:39:21.131220Z",
     "shell.execute_reply.started": "2023-02-26T13:39:16.233753Z"
    },
    "tags": []
   },
   "outputs": [],
   "source": [
    "top_dir_d = {}\n",
    "\n",
    "for obj in top_dir.iterdir():\n",
    "    if obj.name.endswith(\".D\"):\n",
    "        try:\n",
    "            top_dir_d[obj.name] = rb.read(str(obj))\n",
    "        except Exception as e:\n",
    "            print(e)\n",
    "            continue"
   ]
  },
  {
   "cell_type": "code",
   "execution_count": 7,
   "id": "e4c71318-c2a4-46ed-a1eb-2cab0a86f883",
   "metadata": {
    "execution": {
     "iopub.execute_input": "2023-02-26T13:39:21.133582Z",
     "iopub.status.busy": "2023-02-26T13:39:21.133433Z",
     "iopub.status.idle": "2023-02-26T13:39:21.135844Z",
     "shell.execute_reply": "2023-02-26T13:39:21.135485Z",
     "shell.execute_reply.started": "2023-02-26T13:39:21.133566Z"
    },
    "tags": []
   },
   "outputs": [],
   "source": [
    "def acq_method(data_directory):\n",
    "    return data_directory.datafiles[0].metadata['method']"
   ]
  },
  {
   "cell_type": "code",
   "execution_count": 8,
   "id": "ab1cd317-adb3-4934-b42d-8c6f99d32b87",
   "metadata": {
    "execution": {
     "iopub.execute_input": "2023-02-26T13:39:21.136484Z",
     "iopub.status.busy": "2023-02-26T13:39:21.136377Z",
     "iopub.status.idle": "2023-02-26T13:39:26.000790Z",
     "shell.execute_reply": "2023-02-26T13:39:26.000366Z",
     "shell.execute_reply.started": "2023-02-26T13:39:21.136472Z"
    },
    "tags": []
   },
   "outputs": [],
   "source": [
    "from datetime import datetime\n",
    "\n",
    "datetime_obj = datetime.strptime(data.metadata['date'], \"%d-%b-%y, %H:%M:%S\")\n",
    "\n",
    "top_dir_d = {}\n",
    "\n",
    "top_dir_d[\"name\"] = []\n",
    "top_dir_d[\"data\"] = []\n",
    "top_dir_d[\"num_detect_files\"] = []\n",
    "top_dir_d[\"method\"] = []\n",
    "top_dir_d[\"acquisition_date\"] = []\n",
    "\n",
    "for obj in top_dir.iterdir():\n",
    "    if obj.name.endswith(\".D\"):\n",
    "        try:\n",
    "        \n",
    "            data = rb.read(str(obj))\n",
    "            \n",
    "            top_dir_d[\"name\"].append(\"_\".join(obj.name.split(\"_\")[1:]))\n",
    "            top_dir_d[\"data\"].append(data)\n",
    "            top_dir_d[\"num_detect_files\"].append(len(data.datafiles))\n",
    "            top_dir_d[\"method\"].append(acq_method(data))\n",
    "            top_dir_d[\"acquisition_date\"].append(datetime.strptime(data.metadata['date'], \"%d-%b-%y, %H:%M:%S\"))\n",
    "            \n",
    "        \n",
    "        except Exception as e:\n",
    "            print(obj.name, e)\n",
    "\n",
    "            continue"
   ]
  },
  {
   "cell_type": "code",
   "execution_count": 9,
   "id": "b72d8394-5a0f-4c19-a593-2685f3288d2a",
   "metadata": {
    "execution": {
     "iopub.execute_input": "2023-02-26T13:39:26.001392Z",
     "iopub.status.busy": "2023-02-26T13:39:26.001269Z",
     "iopub.status.idle": "2023-02-26T13:39:26.191287Z",
     "shell.execute_reply": "2023-02-26T13:39:26.190932Z",
     "shell.execute_reply.started": "2023-02-26T13:39:26.001380Z"
    },
    "tags": []
   },
   "outputs": [
    {
     "name": "stdout",
     "output_type": "stream",
     "text": [
      "<class 'pandas.core.frame.DataFrame'>\n",
      "Index: 39 entries, COFFEE_COLUMN_CHECK.D to COFFEE_COLUMN_CHECK_2.D\n",
      "Data columns (total 4 columns):\n",
      " #   Column            Non-Null Count  Dtype         \n",
      "---  ------            --------------  -----         \n",
      " 0   data              39 non-null     object        \n",
      " 1   num_detect_files  39 non-null     int64         \n",
      " 2   method            39 non-null     object        \n",
      " 3   acquisition_date  39 non-null     datetime64[ns]\n",
      "dtypes: datetime64[ns](1), int64(1), object(2)\n",
      "memory usage: 1.5+ KB\n"
     ]
    }
   ],
   "source": [
    "import pandas as pd\n",
    "\n",
    "df = pd.DataFrame(top_dir_d, index = top_dir_d[\"name\"])\n",
    "\n",
    "df = df.set_index('name')\n",
    "\n",
    "df.info()"
   ]
  },
  {
   "cell_type": "code",
   "execution_count": 99,
   "id": "cbab3541-fda0-4b4c-bdd2-ff4247fc24ce",
   "metadata": {
    "execution": {
     "iopub.execute_input": "2023-02-26T22:08:11.475239Z",
     "iopub.status.busy": "2023-02-26T22:08:11.474666Z",
     "iopub.status.idle": "2023-02-26T22:08:11.496636Z",
     "shell.execute_reply": "2023-02-26T22:08:11.496011Z",
     "shell.execute_reply.started": "2023-02-26T22:08:11.475198Z"
    },
    "tags": []
   },
   "outputs": [
    {
     "name": "stdout",
     "output_type": "stream",
     "text": [
      "hi\n",
      "(39, 4)\n"
     ]
    },
    {
     "data": {
      "text/html": [
       "<div>\n",
       "<style scoped>\n",
       "    .dataframe tbody tr th:only-of-type {\n",
       "        vertical-align: middle;\n",
       "    }\n",
       "\n",
       "    .dataframe tbody tr th {\n",
       "        vertical-align: top;\n",
       "    }\n",
       "\n",
       "    .dataframe thead th {\n",
       "        text-align: right;\n",
       "    }\n",
       "</style>\n",
       "<table border=\"1\" class=\"dataframe\">\n",
       "  <thead>\n",
       "    <tr style=\"text-align: right;\">\n",
       "      <th></th>\n",
       "      <th>acquisition_date</th>\n",
       "      <th>method</th>\n",
       "      <th>num_detect_files</th>\n",
       "      <th>data</th>\n",
       "    </tr>\n",
       "    <tr>\n",
       "      <th>name</th>\n",
       "      <th></th>\n",
       "      <th></th>\n",
       "      <th></th>\n",
       "      <th></th>\n",
       "    </tr>\n",
       "  </thead>\n",
       "  <tbody>\n",
       "    <tr>\n",
       "      <th>2021-DEBORTOLI-CABERNET-MERLOT_AVANTOR.D</th>\n",
       "      <td>2023-02-23 12:22:35</td>\n",
       "      <td>AVANTOR100X4_6C18-H2O-MEOH-2_1.M</td>\n",
       "      <td>7</td>\n",
       "      <td>2023-02-23_2021-DEBORTOLI-CABERNET-MERLOT_AVAN...</td>\n",
       "    </tr>\n",
       "    <tr>\n",
       "      <th>LOR-RISTRETTO.D</th>\n",
       "      <td>2023-02-23 11:26:27</td>\n",
       "      <td>AVANTOR100X4_6C18-H2O-MEOH-2_1.M</td>\n",
       "      <td>7</td>\n",
       "      <td>2023-02-23_LOR-RISTRETTO.D: DAD1D.ch - DAD1E.c...</td>\n",
       "    </tr>\n",
       "    <tr>\n",
       "      <th>2021-DEBORTOLI-CABERNET-MERLOT_HALO.D</th>\n",
       "      <td>2023-02-22 16:10:39</td>\n",
       "      <td>HALO150X4_6C18-H2O-MEOH-2_1.M</td>\n",
       "      <td>7</td>\n",
       "      <td>2023-02-22_2021-DEBORTOLI-CABERNET-MERLOT_HALO...</td>\n",
       "    </tr>\n",
       "    <tr>\n",
       "      <th>2021-DEBORTOLI-CABERNET-MERLOT_AVANTOR.D</th>\n",
       "      <td>2023-02-22 16:10:39</td>\n",
       "      <td>AVANTOR100X4_6C18-H2O-MEOH-2_1.M</td>\n",
       "      <td>7</td>\n",
       "      <td>2023-02-22_2021-DEBORTOLI-CABERNET-MERLOT_AVAN...</td>\n",
       "    </tr>\n",
       "    <tr>\n",
       "      <th>STONEY-RISE-PN_02-21.D</th>\n",
       "      <td>2023-02-22 13:54:34</td>\n",
       "      <td>AVANTOR100X4_6C18-H2O-MEOH-2_1.M</td>\n",
       "      <td>7</td>\n",
       "      <td>2023-02-22_STONEY-RISE-PN_02-21.D: DAD1D.ch - ...</td>\n",
       "    </tr>\n",
       "  </tbody>\n",
       "</table>\n",
       "</div>"
      ],
      "text/plain": [
       "                                            acquisition_date  \\\n",
       "name                                                           \n",
       "2021-DEBORTOLI-CABERNET-MERLOT_AVANTOR.D 2023-02-23 12:22:35   \n",
       "LOR-RISTRETTO.D                          2023-02-23 11:26:27   \n",
       "2021-DEBORTOLI-CABERNET-MERLOT_HALO.D    2023-02-22 16:10:39   \n",
       "2021-DEBORTOLI-CABERNET-MERLOT_AVANTOR.D 2023-02-22 16:10:39   \n",
       "STONEY-RISE-PN_02-21.D                   2023-02-22 13:54:34   \n",
       "\n",
       "                                                                    method  \\\n",
       "name                                                                         \n",
       "2021-DEBORTOLI-CABERNET-MERLOT_AVANTOR.D  AVANTOR100X4_6C18-H2O-MEOH-2_1.M   \n",
       "LOR-RISTRETTO.D                           AVANTOR100X4_6C18-H2O-MEOH-2_1.M   \n",
       "2021-DEBORTOLI-CABERNET-MERLOT_HALO.D        HALO150X4_6C18-H2O-MEOH-2_1.M   \n",
       "2021-DEBORTOLI-CABERNET-MERLOT_AVANTOR.D  AVANTOR100X4_6C18-H2O-MEOH-2_1.M   \n",
       "STONEY-RISE-PN_02-21.D                    AVANTOR100X4_6C18-H2O-MEOH-2_1.M   \n",
       "\n",
       "                                          num_detect_files  \\\n",
       "name                                                         \n",
       "2021-DEBORTOLI-CABERNET-MERLOT_AVANTOR.D                 7   \n",
       "LOR-RISTRETTO.D                                          7   \n",
       "2021-DEBORTOLI-CABERNET-MERLOT_HALO.D                    7   \n",
       "2021-DEBORTOLI-CABERNET-MERLOT_AVANTOR.D                 7   \n",
       "STONEY-RISE-PN_02-21.D                                   7   \n",
       "\n",
       "                                                                                       data  \n",
       "name                                                                                         \n",
       "2021-DEBORTOLI-CABERNET-MERLOT_AVANTOR.D  2023-02-23_2021-DEBORTOLI-CABERNET-MERLOT_AVAN...  \n",
       "LOR-RISTRETTO.D                           2023-02-23_LOR-RISTRETTO.D: DAD1D.ch - DAD1E.c...  \n",
       "2021-DEBORTOLI-CABERNET-MERLOT_HALO.D     2023-02-22_2021-DEBORTOLI-CABERNET-MERLOT_HALO...  \n",
       "2021-DEBORTOLI-CABERNET-MERLOT_AVANTOR.D  2023-02-22_2021-DEBORTOLI-CABERNET-MERLOT_AVAN...  \n",
       "STONEY-RISE-PN_02-21.D                    2023-02-22_STONEY-RISE-PN_02-21.D: DAD1D.ch - ...  "
      ]
     },
     "execution_count": 99,
     "metadata": {},
     "output_type": "execute_result"
    }
   ],
   "source": [
    "#df = df.drop('name', axis = 1)\n",
    "\n",
    "zeroth_col = list(df.columns).index('acquisition_date')\n",
    "second_col = list(df.columns).index('method')\n",
    "third_col = list(df.columns).index('num_detect_files')\n",
    "fourth_col = list(df.columns).index('data')\n",
    "try:\n",
    "    print(\"hi\")\n",
    "    \n",
    "    print(df.shape)\n",
    "\n",
    "    df = df.iloc[:, [zeroth_col, second_col, third_col, fourth_col]]\n",
    "\n",
    "except Exception as e:\n",
    "    \n",
    "    print(e)\n",
    "\n",
    "df = df.sort_values(by = 'acquisition_date', ascending = False)\n",
    "\n",
    "df.head()"
   ]
  },
  {
   "cell_type": "markdown",
   "id": "166bdd1e-656e-4a53-a2e0-99e087c382db",
   "metadata": {
    "execution": {
     "iopub.execute_input": "2023-02-26T13:16:52.534946Z",
     "iopub.status.busy": "2023-02-26T13:16:52.534832Z",
     "iopub.status.idle": "2023-02-26T13:16:52.540025Z",
     "shell.execute_reply": "2023-02-26T13:16:52.539695Z",
     "shell.execute_reply.started": "2023-02-26T13:16:52.534932Z"
    },
    "tags": []
   },
   "source": [
    "DF is looking good. Now how about data access?"
   ]
  },
  {
   "cell_type": "code",
   "execution_count": 63,
   "id": "6105d6c4-71ab-4af2-9e6c-f9f1965e3425",
   "metadata": {
    "execution": {
     "iopub.execute_input": "2023-02-26T13:54:53.701481Z",
     "iopub.status.busy": "2023-02-26T13:54:53.700906Z",
     "iopub.status.idle": "2023-02-26T13:54:53.709791Z",
     "shell.execute_reply": "2023-02-26T13:54:53.709088Z",
     "shell.execute_reply.started": "2023-02-26T13:54:53.701439Z"
    },
    "tags": []
   },
   "outputs": [
    {
     "data": {
      "text/plain": [
       "(106, 7800)"
      ]
     },
     "execution_count": 63,
     "metadata": {},
     "output_type": "execute_result"
    }
   ],
   "source": [
    "datadir = df.loc['STONEY-RISE-PN_02-21.D']['data']\n",
    "\n",
    "data_uv = datadir.get_file(\"DAD1.UV\")\n",
    "\n",
    "traces = data_uv.extract_traces()\n",
    "\n",
    "import numpy as np\n",
    "\n",
    "traces.shape"
   ]
  },
  {
   "cell_type": "markdown",
   "id": "9db0c2da-9790-483d-9bd9-766e7ffd88c5",
   "metadata": {},
   "source": [
    "Where is the time axis?"
   ]
  },
  {
   "cell_type": "code",
   "execution_count": 64,
   "id": "95922436-dcf8-49d8-9e71-37b63b7dea8d",
   "metadata": {
    "execution": {
     "iopub.execute_input": "2023-02-26T20:54:18.136146Z",
     "iopub.status.busy": "2023-02-26T20:54:18.135694Z",
     "iopub.status.idle": "2023-02-26T20:54:18.142137Z",
     "shell.execute_reply": "2023-02-26T20:54:18.141344Z",
     "shell.execute_reply.started": "2023-02-26T20:54:18.136121Z"
    },
    "tags": []
   },
   "outputs": [
    {
     "data": {
      "text/plain": [
       "2023-02-22_STONEY-RISE-PN_02-21.D: DAD1D.ch - DAD1E.ch - DAD1A.ch - DAD1F.ch - DAD1B.ch - DAD1C.ch - DAD1.UV"
      ]
     },
     "execution_count": 64,
     "metadata": {},
     "output_type": "execute_result"
    }
   ],
   "source": [
    "datadir"
   ]
  },
  {
   "cell_type": "code",
   "execution_count": 98,
   "id": "4916db0c-f525-4bdd-acb0-5462a4b49e90",
   "metadata": {
    "execution": {
     "iopub.execute_input": "2023-02-26T22:08:05.410420Z",
     "iopub.status.busy": "2023-02-26T22:08:05.410089Z",
     "iopub.status.idle": "2023-02-26T22:08:05.414250Z",
     "shell.execute_reply": "2023-02-26T22:08:05.413114Z",
     "shell.execute_reply.started": "2023-02-26T22:08:05.410396Z"
    },
    "tags": []
   },
   "outputs": [],
   "source": [
    "#help(data_uv)"
   ]
  },
  {
   "cell_type": "code",
   "execution_count": 76,
   "id": "9b5d46c7-11eb-42ef-a0d1-5bc042434b23",
   "metadata": {
    "execution": {
     "iopub.execute_input": "2023-02-26T20:58:28.408879Z",
     "iopub.status.busy": "2023-02-26T20:58:28.408310Z",
     "iopub.status.idle": "2023-02-26T20:58:28.418945Z",
     "shell.execute_reply": "2023-02-26T20:58:28.417904Z",
     "shell.execute_reply.started": "2023-02-26T20:58:28.408838Z"
    },
    "tags": []
   },
   "outputs": [
    {
     "data": {
      "text/plain": [
       "0    51.998117\n",
       "dtype: float64"
      ]
     },
     "execution_count": 76,
     "metadata": {},
     "output_type": "execute_result"
    }
   ],
   "source": [
    "xlabeldf = pd.DataFrame(data_uv.xlabels)\n",
    "xlabeldf.max()"
   ]
  },
  {
   "cell_type": "markdown",
   "id": "1cb69535-3e02-47a1-b6df-96fb626b91a4",
   "metadata": {},
   "source": [
    "So it looks like the time is stored in the xlabels member object of the DataFile class."
   ]
  },
  {
   "cell_type": "markdown",
   "id": "c1eec411-6983-445f-9474-c17d9b9fb4bd",
   "metadata": {
    "execution": {
     "iopub.execute_input": "2023-02-26T20:59:55.710340Z",
     "iopub.status.busy": "2023-02-26T20:59:55.709754Z",
     "iopub.status.idle": "2023-02-26T20:59:55.716243Z",
     "shell.execute_reply": "2023-02-26T20:59:55.715102Z",
     "shell.execute_reply.started": "2023-02-26T20:59:55.710293Z"
    },
    "tags": []
   },
   "source": [
    "So we currently have a 2d plane for the detector and a 2 1D vectors of time and wavelengths corresponding to the axes. First off, is it possible to parse a 2d numpy array in pandas?"
   ]
  },
  {
   "cell_type": "code",
   "execution_count": 96,
   "id": "97e032fd-8964-4d88-b465-a75ed954a1ea",
   "metadata": {
    "execution": {
     "iopub.execute_input": "2023-02-26T21:06:46.837914Z",
     "iopub.status.busy": "2023-02-26T21:06:46.837340Z",
     "iopub.status.idle": "2023-02-26T21:06:46.845157Z",
     "shell.execute_reply": "2023-02-26T21:06:46.844500Z",
     "shell.execute_reply.started": "2023-02-26T21:06:46.837872Z"
    },
    "tags": []
   },
   "outputs": [
    {
     "name": "stdout",
     "output_type": "stream",
     "text": [
      "(7800, 106)\n"
     ]
    }
   ],
   "source": [
    "try:\n",
    "    data = data_uv.extract_traces().transpose()\n",
    "    \n",
    "    print(data.shape)\n",
    "    \n",
    "    test_df = pd.DataFrame(data = data, index = data_uv.xlabels, columns = data_uv.ylabels)\n",
    "    \n",
    "except Exception as e:\n",
    "    \n",
    "    print(e)"
   ]
  },
  {
   "cell_type": "code",
   "execution_count": 97,
   "id": "92aa790c-cf69-42c7-9c2e-7418dbf9e9e3",
   "metadata": {
    "execution": {
     "iopub.execute_input": "2023-02-26T21:06:48.675161Z",
     "iopub.status.busy": "2023-02-26T21:06:48.674576Z",
     "iopub.status.idle": "2023-02-26T21:06:48.704423Z",
     "shell.execute_reply": "2023-02-26T21:06:48.703895Z",
     "shell.execute_reply.started": "2023-02-26T21:06:48.675116Z"
    },
    "tags": []
   },
   "outputs": [
    {
     "data": {
      "text/html": [
       "<div>\n",
       "<style scoped>\n",
       "    .dataframe tbody tr th:only-of-type {\n",
       "        vertical-align: middle;\n",
       "    }\n",
       "\n",
       "    .dataframe tbody tr th {\n",
       "        vertical-align: top;\n",
       "    }\n",
       "\n",
       "    .dataframe thead th {\n",
       "        text-align: right;\n",
       "    }\n",
       "</style>\n",
       "<table border=\"1\" class=\"dataframe\">\n",
       "  <thead>\n",
       "    <tr style=\"text-align: right;\">\n",
       "      <th></th>\n",
       "      <th>190</th>\n",
       "      <th>192</th>\n",
       "      <th>194</th>\n",
       "      <th>196</th>\n",
       "      <th>198</th>\n",
       "      <th>200</th>\n",
       "      <th>202</th>\n",
       "      <th>204</th>\n",
       "      <th>206</th>\n",
       "      <th>208</th>\n",
       "      <th>...</th>\n",
       "      <th>382</th>\n",
       "      <th>384</th>\n",
       "      <th>386</th>\n",
       "      <th>388</th>\n",
       "      <th>390</th>\n",
       "      <th>392</th>\n",
       "      <th>394</th>\n",
       "      <th>396</th>\n",
       "      <th>398</th>\n",
       "      <th>400</th>\n",
       "    </tr>\n",
       "  </thead>\n",
       "  <tbody>\n",
       "    <tr>\n",
       "      <th>0.004783</th>\n",
       "      <td>0.394896</td>\n",
       "      <td>0.223272</td>\n",
       "      <td>0.090152</td>\n",
       "      <td>0.006504</td>\n",
       "      <td>-0.044793</td>\n",
       "      <td>-0.090063</td>\n",
       "      <td>-0.118077</td>\n",
       "      <td>-0.141047</td>\n",
       "      <td>-0.153080</td>\n",
       "      <td>-0.139996</td>\n",
       "      <td>...</td>\n",
       "      <td>0.000067</td>\n",
       "      <td>-0.005752</td>\n",
       "      <td>-0.007331</td>\n",
       "      <td>-0.003703</td>\n",
       "      <td>-0.000328</td>\n",
       "      <td>-0.002198</td>\n",
       "      <td>-0.003271</td>\n",
       "      <td>-0.008263</td>\n",
       "      <td>-0.009201</td>\n",
       "      <td>-0.009894</td>\n",
       "    </tr>\n",
       "    <tr>\n",
       "      <th>0.011450</th>\n",
       "      <td>0.457026</td>\n",
       "      <td>0.265785</td>\n",
       "      <td>0.114553</td>\n",
       "      <td>0.018723</td>\n",
       "      <td>-0.039019</td>\n",
       "      <td>-0.087425</td>\n",
       "      <td>-0.117160</td>\n",
       "      <td>-0.140846</td>\n",
       "      <td>-0.153266</td>\n",
       "      <td>-0.139564</td>\n",
       "      <td>...</td>\n",
       "      <td>-0.001274</td>\n",
       "      <td>-0.006631</td>\n",
       "      <td>-0.007488</td>\n",
       "      <td>-0.003837</td>\n",
       "      <td>-0.001788</td>\n",
       "      <td>-0.003688</td>\n",
       "      <td>-0.004351</td>\n",
       "      <td>-0.008978</td>\n",
       "      <td>-0.009961</td>\n",
       "      <td>-0.011019</td>\n",
       "    </tr>\n",
       "    <tr>\n",
       "      <th>0.018117</th>\n",
       "      <td>0.490852</td>\n",
       "      <td>0.289537</td>\n",
       "      <td>0.128336</td>\n",
       "      <td>0.026114</td>\n",
       "      <td>-0.034921</td>\n",
       "      <td>-0.084884</td>\n",
       "      <td>-0.115931</td>\n",
       "      <td>-0.140145</td>\n",
       "      <td>-0.152536</td>\n",
       "      <td>-0.138029</td>\n",
       "      <td>...</td>\n",
       "      <td>-0.001833</td>\n",
       "      <td>-0.006482</td>\n",
       "      <td>-0.006661</td>\n",
       "      <td>-0.003450</td>\n",
       "      <td>-0.003137</td>\n",
       "      <td>-0.005223</td>\n",
       "      <td>-0.004932</td>\n",
       "      <td>-0.008598</td>\n",
       "      <td>-0.009656</td>\n",
       "      <td>-0.011221</td>\n",
       "    </tr>\n",
       "    <tr>\n",
       "      <th>0.024783</th>\n",
       "      <td>0.488669</td>\n",
       "      <td>0.288285</td>\n",
       "      <td>0.127658</td>\n",
       "      <td>0.026733</td>\n",
       "      <td>-0.033543</td>\n",
       "      <td>-0.082783</td>\n",
       "      <td>-0.114381</td>\n",
       "      <td>-0.138678</td>\n",
       "      <td>-0.150457</td>\n",
       "      <td>-0.135437</td>\n",
       "      <td>...</td>\n",
       "      <td>-0.001647</td>\n",
       "      <td>-0.005439</td>\n",
       "      <td>-0.005037</td>\n",
       "      <td>-0.002272</td>\n",
       "      <td>-0.003524</td>\n",
       "      <td>-0.006020</td>\n",
       "      <td>-0.004701</td>\n",
       "      <td>-0.007376</td>\n",
       "      <td>-0.008859</td>\n",
       "      <td>-0.011079</td>\n",
       "    </tr>\n",
       "    <tr>\n",
       "      <th>0.031450</th>\n",
       "      <td>0.456013</td>\n",
       "      <td>0.265568</td>\n",
       "      <td>0.114225</td>\n",
       "      <td>0.021137</td>\n",
       "      <td>-0.034891</td>\n",
       "      <td>-0.081643</td>\n",
       "      <td>-0.113003</td>\n",
       "      <td>-0.136927</td>\n",
       "      <td>-0.147834</td>\n",
       "      <td>-0.132523</td>\n",
       "      <td>...</td>\n",
       "      <td>-0.000753</td>\n",
       "      <td>-0.003785</td>\n",
       "      <td>-0.003047</td>\n",
       "      <td>-0.000432</td>\n",
       "      <td>-0.002824</td>\n",
       "      <td>-0.006080</td>\n",
       "      <td>-0.003971</td>\n",
       "      <td>-0.005849</td>\n",
       "      <td>-0.008114</td>\n",
       "      <td>-0.010729</td>\n",
       "    </tr>\n",
       "    <tr>\n",
       "      <th>...</th>\n",
       "      <td>...</td>\n",
       "      <td>...</td>\n",
       "      <td>...</td>\n",
       "      <td>...</td>\n",
       "      <td>...</td>\n",
       "      <td>...</td>\n",
       "      <td>...</td>\n",
       "      <td>...</td>\n",
       "      <td>...</td>\n",
       "      <td>...</td>\n",
       "      <td>...</td>\n",
       "      <td>...</td>\n",
       "      <td>...</td>\n",
       "      <td>...</td>\n",
       "      <td>...</td>\n",
       "      <td>...</td>\n",
       "      <td>...</td>\n",
       "      <td>...</td>\n",
       "      <td>...</td>\n",
       "      <td>...</td>\n",
       "      <td>...</td>\n",
       "    </tr>\n",
       "    <tr>\n",
       "      <th>51.971450</th>\n",
       "      <td>-14.826342</td>\n",
       "      <td>-10.891229</td>\n",
       "      <td>-7.433586</td>\n",
       "      <td>-4.637338</td>\n",
       "      <td>-2.868906</td>\n",
       "      <td>-2.000816</td>\n",
       "      <td>-1.595862</td>\n",
       "      <td>-1.351558</td>\n",
       "      <td>-1.187801</td>\n",
       "      <td>-1.037024</td>\n",
       "      <td>...</td>\n",
       "      <td>-0.151180</td>\n",
       "      <td>-0.117801</td>\n",
       "      <td>-0.109866</td>\n",
       "      <td>-0.103481</td>\n",
       "      <td>-0.098765</td>\n",
       "      <td>-0.103727</td>\n",
       "      <td>-0.109009</td>\n",
       "      <td>-0.111237</td>\n",
       "      <td>-0.107683</td>\n",
       "      <td>-0.113040</td>\n",
       "    </tr>\n",
       "    <tr>\n",
       "      <th>51.978117</th>\n",
       "      <td>-14.845476</td>\n",
       "      <td>-10.904722</td>\n",
       "      <td>-7.441744</td>\n",
       "      <td>-4.641503</td>\n",
       "      <td>-2.871282</td>\n",
       "      <td>-2.002306</td>\n",
       "      <td>-1.596056</td>\n",
       "      <td>-1.351014</td>\n",
       "      <td>-1.187369</td>\n",
       "      <td>-1.037113</td>\n",
       "      <td>...</td>\n",
       "      <td>-0.151530</td>\n",
       "      <td>-0.118129</td>\n",
       "      <td>-0.109442</td>\n",
       "      <td>-0.102550</td>\n",
       "      <td>-0.099070</td>\n",
       "      <td>-0.105642</td>\n",
       "      <td>-0.111006</td>\n",
       "      <td>-0.112548</td>\n",
       "      <td>-0.108063</td>\n",
       "      <td>-0.112727</td>\n",
       "    </tr>\n",
       "    <tr>\n",
       "      <th>51.984783</th>\n",
       "      <td>-14.869943</td>\n",
       "      <td>-10.922022</td>\n",
       "      <td>-7.451832</td>\n",
       "      <td>-4.646540</td>\n",
       "      <td>-2.874672</td>\n",
       "      <td>-2.004273</td>\n",
       "      <td>-1.596279</td>\n",
       "      <td>-1.350418</td>\n",
       "      <td>-1.187079</td>\n",
       "      <td>-1.037128</td>\n",
       "      <td>...</td>\n",
       "      <td>-0.151724</td>\n",
       "      <td>-0.118345</td>\n",
       "      <td>-0.108898</td>\n",
       "      <td>-0.101291</td>\n",
       "      <td>-0.099532</td>\n",
       "      <td>-0.107653</td>\n",
       "      <td>-0.112221</td>\n",
       "      <td>-0.112802</td>\n",
       "      <td>-0.107586</td>\n",
       "      <td>-0.111960</td>\n",
       "    </tr>\n",
       "    <tr>\n",
       "      <th>51.991450</th>\n",
       "      <td>-14.898919</td>\n",
       "      <td>-10.942496</td>\n",
       "      <td>-7.463597</td>\n",
       "      <td>-4.652344</td>\n",
       "      <td>-2.878189</td>\n",
       "      <td>-2.005897</td>\n",
       "      <td>-1.596346</td>\n",
       "      <td>-1.349807</td>\n",
       "      <td>-1.186974</td>\n",
       "      <td>-1.037091</td>\n",
       "      <td>...</td>\n",
       "      <td>-0.151902</td>\n",
       "      <td>-0.118434</td>\n",
       "      <td>-0.108473</td>\n",
       "      <td>-0.100605</td>\n",
       "      <td>-0.100724</td>\n",
       "      <td>-0.109516</td>\n",
       "      <td>-0.112675</td>\n",
       "      <td>-0.112318</td>\n",
       "      <td>-0.106387</td>\n",
       "      <td>-0.111103</td>\n",
       "    </tr>\n",
       "    <tr>\n",
       "      <th>51.998117</th>\n",
       "      <td>-14.932379</td>\n",
       "      <td>-10.966450</td>\n",
       "      <td>-7.477522</td>\n",
       "      <td>-4.659243</td>\n",
       "      <td>-2.881393</td>\n",
       "      <td>-2.007112</td>\n",
       "      <td>-1.596622</td>\n",
       "      <td>-1.349665</td>\n",
       "      <td>-1.187317</td>\n",
       "      <td>-1.037322</td>\n",
       "      <td>...</td>\n",
       "      <td>-0.152282</td>\n",
       "      <td>-0.118554</td>\n",
       "      <td>-0.108369</td>\n",
       "      <td>-0.100709</td>\n",
       "      <td>-0.102311</td>\n",
       "      <td>-0.110693</td>\n",
       "      <td>-0.112355</td>\n",
       "      <td>-0.111148</td>\n",
       "      <td>-0.104785</td>\n",
       "      <td>-0.110358</td>\n",
       "    </tr>\n",
       "  </tbody>\n",
       "</table>\n",
       "<p>7800 rows × 106 columns</p>\n",
       "</div>"
      ],
      "text/plain": [
       "                 190        192       194       196       198       200  \\\n",
       "0.004783    0.394896   0.223272  0.090152  0.006504 -0.044793 -0.090063   \n",
       "0.011450    0.457026   0.265785  0.114553  0.018723 -0.039019 -0.087425   \n",
       "0.018117    0.490852   0.289537  0.128336  0.026114 -0.034921 -0.084884   \n",
       "0.024783    0.488669   0.288285  0.127658  0.026733 -0.033543 -0.082783   \n",
       "0.031450    0.456013   0.265568  0.114225  0.021137 -0.034891 -0.081643   \n",
       "...              ...        ...       ...       ...       ...       ...   \n",
       "51.971450 -14.826342 -10.891229 -7.433586 -4.637338 -2.868906 -2.000816   \n",
       "51.978117 -14.845476 -10.904722 -7.441744 -4.641503 -2.871282 -2.002306   \n",
       "51.984783 -14.869943 -10.922022 -7.451832 -4.646540 -2.874672 -2.004273   \n",
       "51.991450 -14.898919 -10.942496 -7.463597 -4.652344 -2.878189 -2.005897   \n",
       "51.998117 -14.932379 -10.966450 -7.477522 -4.659243 -2.881393 -2.007112   \n",
       "\n",
       "                202       204       206       208  ...       382       384  \\\n",
       "0.004783  -0.118077 -0.141047 -0.153080 -0.139996  ...  0.000067 -0.005752   \n",
       "0.011450  -0.117160 -0.140846 -0.153266 -0.139564  ... -0.001274 -0.006631   \n",
       "0.018117  -0.115931 -0.140145 -0.152536 -0.138029  ... -0.001833 -0.006482   \n",
       "0.024783  -0.114381 -0.138678 -0.150457 -0.135437  ... -0.001647 -0.005439   \n",
       "0.031450  -0.113003 -0.136927 -0.147834 -0.132523  ... -0.000753 -0.003785   \n",
       "...             ...       ...       ...       ...  ...       ...       ...   \n",
       "51.971450 -1.595862 -1.351558 -1.187801 -1.037024  ... -0.151180 -0.117801   \n",
       "51.978117 -1.596056 -1.351014 -1.187369 -1.037113  ... -0.151530 -0.118129   \n",
       "51.984783 -1.596279 -1.350418 -1.187079 -1.037128  ... -0.151724 -0.118345   \n",
       "51.991450 -1.596346 -1.349807 -1.186974 -1.037091  ... -0.151902 -0.118434   \n",
       "51.998117 -1.596622 -1.349665 -1.187317 -1.037322  ... -0.152282 -0.118554   \n",
       "\n",
       "                386       388       390       392       394       396  \\\n",
       "0.004783  -0.007331 -0.003703 -0.000328 -0.002198 -0.003271 -0.008263   \n",
       "0.011450  -0.007488 -0.003837 -0.001788 -0.003688 -0.004351 -0.008978   \n",
       "0.018117  -0.006661 -0.003450 -0.003137 -0.005223 -0.004932 -0.008598   \n",
       "0.024783  -0.005037 -0.002272 -0.003524 -0.006020 -0.004701 -0.007376   \n",
       "0.031450  -0.003047 -0.000432 -0.002824 -0.006080 -0.003971 -0.005849   \n",
       "...             ...       ...       ...       ...       ...       ...   \n",
       "51.971450 -0.109866 -0.103481 -0.098765 -0.103727 -0.109009 -0.111237   \n",
       "51.978117 -0.109442 -0.102550 -0.099070 -0.105642 -0.111006 -0.112548   \n",
       "51.984783 -0.108898 -0.101291 -0.099532 -0.107653 -0.112221 -0.112802   \n",
       "51.991450 -0.108473 -0.100605 -0.100724 -0.109516 -0.112675 -0.112318   \n",
       "51.998117 -0.108369 -0.100709 -0.102311 -0.110693 -0.112355 -0.111148   \n",
       "\n",
       "                398       400  \n",
       "0.004783  -0.009201 -0.009894  \n",
       "0.011450  -0.009961 -0.011019  \n",
       "0.018117  -0.009656 -0.011221  \n",
       "0.024783  -0.008859 -0.011079  \n",
       "0.031450  -0.008114 -0.010729  \n",
       "...             ...       ...  \n",
       "51.971450 -0.107683 -0.113040  \n",
       "51.978117 -0.108063 -0.112727  \n",
       "51.984783 -0.107586 -0.111960  \n",
       "51.991450 -0.106387 -0.111103  \n",
       "51.998117 -0.104785 -0.110358  \n",
       "\n",
       "[7800 rows x 106 columns]"
      ]
     },
     "execution_count": 97,
     "metadata": {},
     "output_type": "execute_result"
    }
   ],
   "source": [
    "test_df"
   ]
  },
  {
   "cell_type": "markdown",
   "id": "7072a791-b343-41fa-92f9-a9497f06370b",
   "metadata": {},
   "source": [
    "yes. done. Now we've got some basic functionality we should rebuild these as modules."
   ]
  },
  {
   "cell_type": "code",
   "execution_count": null,
   "id": "a62f5088-1029-48da-96d9-cb749ad6997a",
   "metadata": {},
   "outputs": [],
   "source": []
  }
 ],
 "metadata": {
  "kernelspec": {
   "display_name": "Python 3 (ipykernel)",
   "language": "python",
   "name": "python3"
  },
  "language_info": {
   "codemirror_mode": {
    "name": "ipython",
    "version": 3
   },
   "file_extension": ".py",
   "mimetype": "text/x-python",
   "name": "python",
   "nbconvert_exporter": "python",
   "pygments_lexer": "ipython3",
   "version": "3.11.1"
  }
 },
 "nbformat": 4,
 "nbformat_minor": 5
}
