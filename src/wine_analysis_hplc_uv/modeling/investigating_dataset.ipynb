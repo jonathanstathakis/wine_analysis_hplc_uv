{
 "cells": [
  {
   "cell_type": "code",
   "execution_count": null,
   "metadata": {},
   "outputs": [],
   "source": [
    "from wine_analysis_hplc_uv import definitions\n",
    "from wine_analysis_hplc_uv.modeling import pca\n",
    "import matplotlib.pyplot as plt\n",
    "import duckdb as db\n",
    "import pandas as pd\n",
    "import numpy as np\n",
    "\n",
    "con = db.connect(definitions.DB_PATH)\n",
    "pwine_data = pca.get_data(con)\n",
    "plt1, (ax1, ax2) = plt.subplots(nrows=1, ncols=2, figsize=(12, 6))    \n",
    "a = pca.plot_wine_data(pwine_data, ax=ax1)\n",
    "b = pca.build_model(pwine_data, ax=ax2)\n",
    "fig = pca.build_figure(pwine_data)\n",
    "#fig.tight_layout()"
   ]
  },
  {
   "cell_type": "markdown",
   "metadata": {},
   "source": [
    "## Investigation of Data\n",
    "\n",
    "### Low Maxima Wines\n",
    "\n",
    "The first question is what is going on with those wines with a very high amplitude and very low maxima. Lets pull those up."
   ]
  },
  {
   "cell_type": "code",
   "execution_count": null,
   "metadata": {},
   "outputs": [],
   "source": [
    "low_max_wines = (pwine_data\n",
    " .max().reset_index(name='max').set_index('id_wine')\n",
    " .query('max<50')\n",
    " .reset_index()\n",
    " .pipe(lambda df: pd.concat([df['id_wine'].str.split(\"_-\", expand=True).set_axis(['id', 'wine'], axis=1), df], axis=1))\n",
    " .drop('id_wine', axis=1)\n",
    " )\n",
    "low_max_wines"
   ]
  },
  {
   "cell_type": "markdown",
   "metadata": {},
   "source": [
    "For these wines, its not just a question of whether they are failed runs, because they may be somewhat salvagable with scaling. It depends more on the profile than the scale.\n",
    "\n",
    "So we need to investigate the profiles, but also the injection volumes, which can be found in `chemstation_metadata`.\n",
    "\n",
    "First get the samplecodes back from `id_wine` then join it to to `chemstation_metadata` to get the injection volume.\n",
    "\n",
    "At the same time, plot each individually."
   ]
  },
  {
   "cell_type": "code",
   "execution_count": null,
   "metadata": {},
   "outputs": [],
   "source": [
    "import seaborn as sns\n",
    "\n",
    "fig, axs = plt.subplots(4,2, figsize = (12,8))\n",
    "\n",
    "axs = axs.flatten()\n",
    "\n",
    "for i, label in enumerate(low_max_wines.index):\n",
    "    sns.lineplot(pwine_data[label], ax=axs[i])\n",
    "    axs[i].set_ylabel('abs')\n",
    "    axs[i].set_title(label)\n",
    "    \n",
    "#fig.legend(bbox_to_anchor=(0.5, -0.15), loc=\"upper center\")\n",
    "fig.tight_layout()"
   ]
  },
  {
   "cell_type": "markdown",
   "metadata": {},
   "source": [
    "So, the following wines are invalid:\n"
   ]
  },
  {
   "cell_type": "markdown",
   "metadata": {},
   "source": [
    "| #   | id     | wine                                                    |\n",
    "|---|---|---|\n",
    "|  0 | 128    | 2019 mount pleasant wines mount henry shiraz pinot noir |\n",
    "|  1 | 161    | 2021 le juice fleurie fleurie gamay                     |\n",
    "|  2 | 163    | 2015 yangarra estate shiraz mclaren vale                |\n",
    "|  3 | 164    | 2015 yangarra estate old vine grenache                  |\n",
    "|  4 | 165    | 2020 izway shiraz bruce                                 |\n",
    "|  5 | ca0101 | 2021 yering station pinot noir                          |\n",
    "|  6 | ca0301 | 2021 chris ringland shiraz                              |\n"
   ]
  },
  {
   "cell_type": "markdown",
   "metadata": {},
   "source": [
    "As a list:"
   ]
  },
  {
   "cell_type": "code",
   "execution_count": null,
   "metadata": {},
   "outputs": [],
   "source": [
    "low_max_wines['id'].to_list()"
   ]
  },
  {
   "cell_type": "code",
   "execution_count": null,
   "metadata": {},
   "outputs": [],
   "source": [
    "low_max_wines['wine'].to_list()"
   ]
  },
  {
   "cell_type": "code",
   "execution_count": null,
   "metadata": {},
   "outputs": [],
   "source": []
  }
 ],
 "metadata": {
  "kernelspec": {
   "display_name": "wine-analysis-hplc-uv-F-SbhWjO-py3.11",
   "language": "python",
   "name": "python3"
  },
  "language_info": {
   "codemirror_mode": {
    "name": "ipython",
    "version": 3
   },
   "file_extension": ".py",
   "mimetype": "text/x-python",
   "name": "python",
   "nbconvert_exporter": "python",
   "pygments_lexer": "ipython3",
   "version": "3.11.1"
  },
  "orig_nbformat": 4
 },
 "nbformat": 4,
 "nbformat_minor": 2
}
