{
 "cells": [
  {
   "cell_type": "raw",
   "metadata": {
    "vscode": {
     "languageId": "raw"
    }
   },
   "source": [
    "---\n",
    "title: \"XGBoost Modeling\"\n",
    "format: html\n",
    "date: 2023-09-25\n",
    "---"
   ]
  },
  {
   "cell_type": "code",
   "execution_count": null,
   "metadata": {},
   "outputs": [],
   "source": [
    "import pandas as pd\n",
    "import xgboost as xgb\n",
    "from sklearn.metrics import accuracy_score\n",
    "from sklearn.model_selection import train_test_split\n",
    "from sklearn.preprocessing import LabelEncoder\n",
    "from wine_analysis_hplc_uv import definitions\n",
    "\n",
    "idx = pd.IndexSlice"
   ]
  },
  {
   "cell_type": "code",
   "execution_count": null,
   "metadata": {},
   "outputs": [],
   "source": [
    "data = pd.read_parquet(definitions.RW_CUP_450_PROCESSED)\n",
    "data"
   ]
  },
  {
   "cell_type": "code",
   "execution_count": null,
   "metadata": {},
   "outputs": [],
   "source": [
    "def classify_sample(data):\n",
    "    # reduce dataset to aligned signals/ref with samplecode labels and transpose\n",
    "\n",
    "    d = (\n",
    "        data.loc[:, idx[:, :, [\"aligned\", \"ref\"]]]\n",
    "        .droplevel([\"wine\", \"state\"], axis=1)\n",
    "        .reset_index(drop=True)\n",
    "        .T\n",
    "    )\n",
    "\n",
    "    # replace alphabetic samplecode values with float codes\n",
    "\n",
    "    alpha_samplecodes = [\n",
    "        \"crawford-cab\",\n",
    "        \"mt-diff-bannockburn-pn\",\n",
    "        \"st hugo gsm\",\n",
    "        \"stoney-rise-pn\",\n",
    "        \"torbreck-struie\",\n",
    "    ]\n",
    "\n",
    "    float_codes = [\n",
    "        1111,\n",
    "        2222,\n",
    "        3333,\n",
    "        4444,\n",
    "        5555,\n",
    "    ]\n",
    "\n",
    "    code_dict = dict(zip(alpha_samplecodes, float_codes))\n",
    "    display(code_dict)\n",
    "\n",
    "    d.index = d.index.to_series().replace(code_dict).astype(int)\n",
    "\n",
    "    y = d.index.values\n",
    "    X = d.values\n",
    "\n",
    "    \"\"\"\n",
    "    sklearn.model_selection.train_test_split(*arrays, test_size=none, train_size=none, random_state=none, shuffle=true, stratify=none)\n",
    "\n",
    "    train_test_split wraps `next(shufflesplit().split(x, y))` to produce validated, randomized and proportioned training and test sets from an input.\n",
    "\n",
    "    `arrays`: sequence of indexables with same length/`shape[0]`, i.e. rows. can accept lists, np.arrays, scipy sparse matrices, pd.dataframes.\n",
    "\n",
    "    `test_size`: `float` or `int`, default=`none`. size of test set. integer input translates as absolute number of samples in the test set, float between 0 and 1 translates as a proportion. if set to `none`, test_size will be the remainder of the samples after proessing `train_size`. if `train_size` also `none`, defaults to 0.25.\n",
    "\n",
    "    `training_size`: `float` or `int`, default=`none`. size of training set. integer input translates as absolute number of samples in the training set, float between 0 and 1 translates as a proportion. if set to `none`, test_size will be the remainder of the samples after proessing `test_size`. if `test_size` also `none`, will default to 0.75.\n",
    "\n",
    "    `random_state`: `int`, `randomstate instance`, `none`, default=`none`. seed for the randomized shuffling. providing a value will enable reproducible results.\n",
    "\n",
    "    shuffle: `bool`, default=none. (?) `none` results in a stratified split. stratified folds result in sets with the same proportionate representation per fold across classes in the data.\n",
    "\n",
    "    stratify: `array-like`, default=None: stratify split with the `array-like` as the class labels.\n",
    "\n",
    "    returns a list of length 2*len(arrays)\n",
    "\n",
    "    source: [sklearn](https://scikit-learn.org/stable/modules/generated/sklearn.model_selection.train_test_split.html)\n",
    "    \"\"\"\n",
    "\n",
    "    x_train, x_test, y_train, y_test = train_test_split(X, y)\n",
    "\n",
    "    le = LabelEncoder()\n",
    "\n",
    "    y_test = le.fit_transform(y_test)\n",
    "    y_train = le.fit_transform(y_train)\n",
    "\n",
    "    display(y_train, y_test)\n",
    "\n",
    "    \"\"\"\n",
    "    XGBoost adaption of sklearn API.\n",
    "    \n",
    "    Docs: [link](https://xgboost.readthedocs.io/en/stable/python/python_api.html#module-xgboost.sklearn)\n",
    "    User guide: [link](https://xgboost.readthedocs.io/en/stable/python/sklearn_estimator.html)\n",
    "    \n",
    "    Parameters:\n",
    "    `n_estimators: `int`. number of boosting rounds. \n",
    "    \"\"\"\n",
    "    clf = xgb.XGBClassifier(tree_method=\"hist\")\n",
    "\n",
    "    # Fit the model, test sets are used for early stopping.\n",
    "    \"\"\"\n",
    "    `eval_set` is used internally to calculate validation metrics\n",
    "    X: Feature matrix\n",
    "    \"\"\"\n",
    "    clf.fit(X_train, y_train, eval_set=[(X_test, y_test)], verbose=False)\n",
    "    display(help(clf.fit))\n",
    "    y_pred = clf.predict(X_test)\n",
    "\n",
    "    print(\n",
    "        \"XGBoost model accuracy score: {0:0.4f}\".format(accuracy_score(y_test, y_pred))\n",
    "    )\n",
    "\n",
    "    return\n",
    "\n",
    "\n",
    "classify_sample(data)"
   ]
  }
 ],
 "metadata": {
  "kernelspec": {
   "display_name": "wine-analysis-hplc-uv-F-SbhWjO-py3.11",
   "language": "python",
   "name": "python3"
  },
  "language_info": {
   "codemirror_mode": {
    "name": "ipython",
    "version": 3
   },
   "file_extension": ".py",
   "mimetype": "text/x-python",
   "name": "python",
   "nbconvert_exporter": "python",
   "pygments_lexer": "ipython3",
   "version": "3.11.1"
  }
 },
 "nbformat": 4,
 "nbformat_minor": 2
}
