{
 "cells": [
  {
   "cell_type": "raw",
   "id": "16d4834b",
   "metadata": {},
   "source": [
    "---\n",
    "title: Investigation of Data\n",
    "---"
   ]
  },
  {
   "cell_type": "code",
   "execution_count": null,
   "id": "9a19c18a",
   "metadata": {},
   "outputs": [],
   "source": [
    "%load_ext autoreload\n",
    "%autoreload 2"
   ]
  },
  {
   "cell_type": "code",
   "execution_count": null,
   "id": "65055f99",
   "metadata": {},
   "outputs": [],
   "source": [
    "from wine_analysis_hplc_uv import definitions\n",
    "from wine_analysis_hplc_uv.modeling import pca\n",
    "import matplotlib.pyplot as plt\n",
    "import seaborn as sns\n",
    "import duckdb as db\n",
    "import pandas as pd\n",
    "import numpy as np\n",
    "\n",
    "con = db.connect(definitions.DB_PATH)\n",
    "pwine_data = pca.get_data(con)\n",
    "con.close()\n",
    "wine_data_fig = pca.build_figure(pwine_data)"
   ]
  },
  {
   "cell_type": "markdown",
   "id": "5d485e80",
   "metadata": {},
   "source": [
    "### Low Maxima Wines\n",
    "\n",
    "The first question is what is going on with those wines with a very high amplitude and very low maxima. Lets pull those up.\n"
   ]
  },
  {
   "cell_type": "code",
   "execution_count": null,
   "id": "5705ae07",
   "metadata": {},
   "outputs": [],
   "source": [
    "def low_max_wines(data):\n",
    "    low_max_wines = (data\n",
    "    .max().reset_index(name='max').set_index('code_wine')\n",
    "    .query('max<50')\n",
    "    .reset_index()\n",
    "    .pipe(lambda df: pd.concat([df['code_wine'].str.split(\"_-\", expand=True).set_axis(['code', 'wine'], axis=1), df], axis=1))\n",
    "    .drop('code_wine', axis=1)\n",
    "    )\n",
    "    return low_max_wines\n",
    "low_max_wines = low_max_wines(pwine_data)\n",
    "low_max_wines"
   ]
  },
  {
   "cell_type": "markdown",
   "id": "9767059d",
   "metadata": {},
   "source": [
    "For these wines, its not just a question of whether they are failed runs, because they may be somewhat salvagable with scaling. It depends more on the profile than the scale.\n",
    "\n",
    "So we need to investigate the profiles, but also the injection volumes, which can be found in `chemstation_metadata`.\n",
    "\n",
    "First get the samplecodes back from `id_wine` then join it to to `chemstation_metadata` to get the injection volume.\n",
    "\n",
    "At the same time, plot each individually.\n"
   ]
  },
  {
   "cell_type": "code",
   "execution_count": null,
   "id": "8973dd28",
   "metadata": {},
   "outputs": [],
   "source": [
    "def plot_low_max_wines(low_max_wines):\n",
    "\n",
    "    fig, axs = plt.subplots(4,2, figsize = (12,8))\n",
    "\n",
    "    axs = axs.flatten()\n",
    "    low_max_wines = low_max_wines.assign(code_wine = lambda df: df['code'] + \"_-\" + df['wine']).set_index('code_wine')\n",
    "\n",
    "    for i, label in enumerate(low_max_wines.index):\n",
    "        print(i, label)\n",
    "        sns.lineplot(pwine_data[label], ax=axs[i])\n",
    "        axs[i].set_ylabel('abs')\n",
    "        axs[i].set_title(label)\n",
    "        \n",
    "    fig.tight_layout()\n",
    "plot_low_max_wines(low_max_wines)"
   ]
  },
  {
   "cell_type": "markdown",
   "id": "9fccdf03",
   "metadata": {},
   "source": [
    "So, the following wines are invalid:\n",
    "\n",
    "| #   | code     | wine                                                    |\n",
    "|---|---|---|\n",
    "|  0 | 128    | 2019 mount pleasant wines mount henry shiraz pinot noir |\n",
    "|  1 | 161    | 2021 le juice fleurie fleurie gamay                     |\n",
    "|  2 | 163    | 2015 yangarra estate shiraz mclaren vale                |\n",
    "|  3 | 164    | 2015 yangarra estate old vine grenache                  |\n",
    "|  4 | 165    | 2020 izway shiraz bruce                                 |\n",
    "|  5 | ca0101 | 2021 yering station pinot noir                          |\n",
    "|  6 | ca0301 | 2021 chris ringland shiraz                              |\n",
    "\n",
    "As a list:\n"
   ]
  },
  {
   "cell_type": "code",
   "execution_count": null,
   "id": "d941007c",
   "metadata": {},
   "outputs": [],
   "source": [
    "low_max_wines['code'].to_list()"
   ]
  },
  {
   "cell_type": "code",
   "execution_count": null,
   "id": "23ae1177",
   "metadata": {},
   "outputs": [],
   "source": [
    "low_max_wines['wine'].to_list()"
   ]
  },
  {
   "cell_type": "markdown",
   "id": "505e1a3a",
   "metadata": {},
   "source": [
    "Now we remove the `low_max_wines` from the dataset and observe any changes in the biplot.\n"
   ]
  },
  {
   "cell_type": "code",
   "execution_count": null,
   "id": "a6dc3506",
   "metadata": {},
   "outputs": [],
   "source": [
    "no_low_max_wine = (pwine_data\n",
    " .melt()\n",
    " .pipe(lambda df: pd.concat([df['code_wine'].str.split(\"_-\", expand=True).set_axis(['code', 'wine'], axis=1), df], axis=1))\n",
    " .query('code not in @definitions.BAD_CUPRAC_SAMPLES')\n",
    " .drop(['code','wine'], axis=1)\n",
    " .assign(i=lambda df: df.groupby('code_wine').cumcount())\n",
    " .pivot(columns=\"code_wine\", values=\"value\", index=\"i\")\n",
    " )\n",
    "no_low_max_wine.head()"
   ]
  },
  {
   "cell_type": "code",
   "execution_count": null,
   "id": "d52c724b",
   "metadata": {},
   "outputs": [],
   "source": [
    "title = wine_data_fig.suptitle(\"CUPRAC Red Dataset\")\n",
    "wine_data_fig"
   ]
  },
  {
   "cell_type": "code",
   "execution_count": null,
   "id": "02078e62",
   "metadata": {},
   "outputs": [],
   "source": [
    "no_low_max_wine_fig = pca.build_figure(no_low_max_wine)\n",
    "title = no_low_max_wine_fig.suptitle(\"Filtered for Low Maxima\")\n",
    "no_low_max_wine_fig.tight_layout()"
   ]
  },
  {
   "cell_type": "markdown",
   "id": "9db859b9",
   "metadata": {},
   "source": [
    "After removing the low maxima signals we can see that the PCA biplot tightens up considerably.\n",
    "\n",
    "## Misaligned Wines\n",
    "\n",
    "There is at least one signal (not always visible on the plot atm..) whose maxima appears after 3000. To identify this wine, we can make a distribution of maxima times.\n"
   ]
  },
  {
   "cell_type": "code",
   "execution_count": null,
   "id": "8a507b67",
   "metadata": {},
   "outputs": [],
   "source": [
    "\n",
    "\n",
    "wines_idxmax = (no_low_max_wine\n",
    "          .idxmax()\n",
    "          .to_frame(name='idxmax')\n",
    "          .reset_index()\n",
    "          .pipe(lambda df: pd.concat([df['code_wine'].str.split(\"_-\", expand=True).set_axis(['code', 'wine'], axis=1), df], axis=1))\n",
    ")\n",
    "wines_idxmax.head()"
   ]
  },
  {
   "cell_type": "code",
   "execution_count": null,
   "id": "e20d7b45",
   "metadata": {},
   "outputs": [],
   "source": [
    "dist_fig, ax = plt.subplots(figsize=(10,6))\n",
    "a = (wines_idxmax\n",
    " .plot.hist(bins=34, ax=ax, edgecolor='black',title='abs maxima idx dist', xlabel='maxima idx', label='code_wine')\n",
    " #.head()\n",
    " )"
   ]
  },
  {
   "cell_type": "code",
   "execution_count": null,
   "id": "4a2f2b93",
   "metadata": {},
   "outputs": [],
   "source": [
    "q1 = wines_idxmax['idxmax'].quantile(0.25)\n",
    "q3 = wines_idxmax['idxmax'].quantile(0.75)\n",
    "IQR = q3-q1\n",
    "display(IQR)"
   ]
  },
  {
   "cell_type": "code",
   "execution_count": null,
   "id": "571b80f4",
   "metadata": {},
   "outputs": [],
   "source": [
    "outliers = wines_idxmax.query('(idxmax < @q1- 1.5*@IQR) or (idxmax > (@q3 + 1.5 * @IQR))')\n",
    "display(outliers.sort_values('idxmax'))"
   ]
  },
  {
   "cell_type": "markdown",
   "id": "77a4468f",
   "metadata": {},
   "source": [
    "So there are definitely outliers, but it is a fairly normal distribution. Lets observe the individual signals.\n"
   ]
  },
  {
   "cell_type": "code",
   "execution_count": null,
   "id": "e95d386b",
   "metadata": {},
   "outputs": [],
   "source": [
    "idxmax_outlier_fig, axs = plt.subplots(3,2, figsize=(12, 8))\n",
    "axs = axs.flatten()\n",
    "for i, label in enumerate(outliers['code_wine']):\n",
    "    no_low_max_wine[label].plot(ax=axs[i])\n",
    "    axs[i].set_title(label, fontsize = 7)\n",
    "figtitle = idxmax_outlier_fig.suptitle(\"idxmax outlier samples\")\n",
    "idxmax_outlier_fig.tight_layout()"
   ]
  },
  {
   "cell_type": "markdown",
   "id": "a58001fc",
   "metadata": {},
   "source": [
    "A pattern emerges - 4/6 wines are Pinot Noir, one is Shiraz. The Bardolino is representative, theres nothing to compare it to. There are two questions to answer now:\n",
    "\n",
    "- [x] Is this all the pinot noir?\n",
    "- [ ] how much does this torbreck shiraz differ from the others?"
   ]
  },
  {
   "cell_type": "code",
   "execution_count": null,
   "id": "eaed640a",
   "metadata": {},
   "outputs": [],
   "source": [
    "# count all pinot noir depending on presence of 'pinot noir' or 'bourgogne' in their name.\n",
    "pinot_noir = (\n",
    "    no_low_max_wine\n",
    "    .filter(regex='.*pinot noir.*|.*bourgogne.*', axis=1)\n",
    ")\n",
    "display(pinot_noir.columns)\n",
    "display(len(pinot_noir.columns))"
   ]
  },
  {
   "cell_type": "markdown",
   "id": "b3cb8eaf",
   "metadata": {},
   "source": [
    "So there are 9 pinot noir in the dataset at this point, yet only 4 turned up as outliers. Lets plot them."
   ]
  },
  {
   "cell_type": "code",
   "execution_count": null,
   "id": "514adbd0",
   "metadata": {},
   "outputs": [],
   "source": [
    "pinot_noir_fig, axs = plt.subplots(4,2, sharey=True, sharex=True)\n",
    "axs = axs.flatten()\n",
    "for i, label in enumerate(pinot_noir.columns):\n",
    "    plot = pinot_noir[label].plot(ax=axs[i])\n",
    "    title = axs[i].set_title(label.split(\"_-\")[1], fontsize =8)\n",
    "\n",
    "pinot_noir_fig.suptitle('CUPRAC Pinot Noirs')\n",
    "pinot_noir_fig.tight_layout()"
   ]
  },
  {
   "cell_type": "code",
   "execution_count": null,
   "id": "a3d66295",
   "metadata": {},
   "outputs": [],
   "source": [
    "outlier_pn = outliers.set_index('wine').filter(regex='.*pinot noir.*|.*bourgogne.*', axis=0)\n",
    "outlier_pn"
   ]
  },
  {
   "cell_type": "markdown",
   "id": "0aad2c55",
   "metadata": {},
   "source": [
    "So it appears that only 4 of 7 pinot noirs are outliers. Of those are they also low abs signals relative to the others?"
   ]
  },
  {
   "cell_type": "code",
   "execution_count": null,
   "id": "d710255a",
   "metadata": {},
   "outputs": [],
   "source": [
    "pinot_noir.max()"
   ]
  },
  {
   "cell_type": "code",
   "execution_count": null,
   "id": "ca1bc470",
   "metadata": {},
   "outputs": [],
   "source": [
    "pd.cut(pinot_noir.index, 5)"
   ]
  },
  {
   "cell_type": "markdown",
   "id": "00f8e9d0",
   "metadata": {},
   "source": [
    "NOTE TO SELF WHEN GET BACK!\n",
    "\n",
    "rolling is a method of aggregation as well as a dimensionality reduction that provides a series of values based on the average of a defined size window.\n",
    "\n",
    "What I am looking for is a method of calculating the average across a number of individuals within set bins. ergo a cut followed by a groupby on the cuts is the way to go."
   ]
  },
  {
   "cell_type": "code",
   "execution_count": null,
   "id": "ecb5159c",
   "metadata": {},
   "outputs": [],
   "source": [
    "pinot_noir.assign(bins=pd.cut(pinot_noir.index, 50)).groupby('bins').mean().plot(layout='constrained')\n",
    "plt.legend(bbox_to_anchor=(1.1,1.05))\n",
    "pinot_noir.plot()\n",
    "plt.legend(bbox_to_anchor=(1.1,1.05))"
   ]
  },
  {
   "cell_type": "code",
   "execution_count": null,
   "id": "f3776ba5",
   "metadata": {},
   "outputs": [],
   "source": [
    "pinot_noir[outlier_pn['code_wine']].max()"
   ]
  },
  {
   "cell_type": "code",
   "execution_count": null,
   "id": "a4f781df",
   "metadata": {},
   "outputs": [],
   "source": [
    "(\n",
    "    pinot_noir\n",
    "    .loc[0:2500,:]\n",
    "    .round(3)\n",
    "    #.rolling(100)\n",
    "    #.mean()\n",
    "    .plot(alpha = 0.7)\n",
    " )\n",
    "plt.legend(bbox_to_anchor=(1.1,1.05))"
   ]
  },
  {
   "cell_type": "code",
   "execution_count": null,
   "id": "c06a4545",
   "metadata": {},
   "outputs": [],
   "source": []
  }
 ],
 "metadata": {
  "kernelspec": {
   "display_name": "Python 3 (ipykernel)",
   "language": "python",
   "name": "python3"
  },
  "language_info": {
   "name": "python",
   "version": "3.11.1"
  }
 },
 "nbformat": 4,
 "nbformat_minor": 5
}
