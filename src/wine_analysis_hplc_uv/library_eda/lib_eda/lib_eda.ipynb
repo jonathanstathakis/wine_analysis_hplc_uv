{
  "cells": [
    {
      "cell_type": "raw",
      "metadata": {},
      "source": [
        "---\n",
        "title: Wine Library Statistics\n",
        "toc: true\n",
        "toc-depth: 5\n",
        "echo: false\n",
        "format:\n",
        "  html\n",
        "---"
      ]
    },
    {
      "cell_type": "code",
      "execution_count": null,
      "metadata": {},
      "outputs": [],
      "source": [
        "# load dependencies, global settings\n",
        "%reload_ext autoreload\n",
        "%autoreload 2\n",
        "from wine_analysis_hplc_uv.library_eda.lib_eda import lib_eda, publish_methods, cat_stats\n",
        "import pandas as pd\n",
        "import matplotlib.pyplot as plt\n",
        "import matplotlib as mpl\n",
        "import numpy as np\n",
        "import seaborn as sns\n",
        "\n",
        "mpl.rcParams['figure.dpi'] = 600"
      ]
    },
    {
      "cell_type": "code",
      "execution_count": null,
      "metadata": {},
      "outputs": [],
      "source": [
        "def scale_fig_and_text(factor):\n",
        "    # Adjust figure size\n",
        "    mpl.rcParams[\"figure.figsize\"] = tuple(factor * x for x in [6.4, 4.8])\n",
        "\n",
        "    # Adjust text size\n",
        "    mpl.rcParams[\"font.size\"] = factor * 10  # default font size is 10\n",
        "    mpl.rcParams[\"axes.labelsize\"] = factor * 10  # default label size is 10\n",
        "    mpl.rcParams[\"xtick.labelsize\"] = factor * 10  # default xtick label size is 8\n",
        "    mpl.rcParams[\"ytick.labelsize\"] = factor * 10  # default ytick label size is 8\n",
        "    mpl.rcParams[\"legend.fontsize\"] = factor * 10  # default legend font size is 10\n",
        "    mpl.rcParams[\"axes.titlesize\"] = factor * 12  # default axes title size is 12\n",
        "\n",
        "\n",
        "scale_fig_and_text(0.6)"
      ]
    },
    {
      "cell_type": "code",
      "execution_count": null,
      "metadata": {},
      "outputs": [],
      "source": [
        "# load and clean data\n",
        "in_df = pd.read_excel(\"../df.xlsx\", dtype=object)\n",
        "df = (\n",
        "    in_df.assign(vintage=lambda df: df[\"vintage_ct\"].replace({\"0\": \"nv\"}))\n",
        "    .assign(wine=lambda df: df[\"vintage\"] + \" \" + df[\"name_ct\"])\n",
        "    .loc[lambda df: ~df[\"wine\"].isna()]\n",
        ")"
      ]
    },
    {
      "cell_type": "markdown",
      "metadata": {},
      "source": [
        "## Introduction\n",
        "\n",
        "This document contains a preliminary report of the nature of the 2023 chromatographic spectrometry wine dataset, consisting of signals from an unadulterated UV/vis spectrum ('raw') and 'CUPRAC' derivatized spectrum.\n",
        "\n",
        "### Sample Provenence\n",
        "\n",
        "All samples were collected between February and May 2023, primarily from [Shell House](https://shellhouse.com.au/), with contributions from [Alberto's Lounge](https://swillhouse.com/venues/albertos-lounge/), and [The Bottle Shop - Bondi](https://merivale.com/the-bottle-shop/). \n",
        "\n",
        "## Nature of the Dataset\n",
        "\n",
        "As wines were sampled as they came in, there was little control over the distribution of samples. Thus, the first question to ask is how many samples were detected by each method, how many individual wines are within the dataset, how many are repetitions, and how many wines have repetitions. Following this, the next question is the distribution of wine characteristics, the most important of which are wine *type*, *variety*, and *country* of origin. The answer to these questions is explored below."
      ]
    },
    {
      "cell_type": "markdown",
      "metadata": {},
      "source": [
        "## Sample Identity"
      ]
    },
    {
      "cell_type": "code",
      "execution_count": null,
      "metadata": {},
      "outputs": [],
      "source": [
        "# |output: false\n",
        "summary_pivot_df = lib_eda.summary_table(df)\n",
        "\n",
        "display_labels = [\n",
        "    \"total samples\",\n",
        "    \"individual wines\",\n",
        "    \"has repetition\",\n",
        "    \"no repetition\",\n",
        "    \"num. repeats\",\n",
        "]\n",
        "display_summary_df = summary_pivot_df.style.relabel_index(display_labels)"
      ]
    },
    {
      "cell_type": "code",
      "execution_count": null,
      "metadata": {},
      "outputs": [],
      "source": [
        "# | fig-cap: 'Grouped bar plot of containing counts of individual samples, repeated samples, unrepeated samples, size of repeat subpopulation and total subpopulation size'\n",
        "# | label: fig-detect\n",
        "\n",
        "summary_fig, summary_ax = plt.subplots(1)\n",
        "\n",
        "(\n",
        "    summary_pivot_df.drop(\"total\", axis=1)\n",
        "    .reset_index()\n",
        "    .melt(id_vars=\"statistic\", value_name=\"n\")\n",
        ").pipe(\n",
        "    lambda df: sns.barplot(\n",
        "        x=\"statistic\",\n",
        "        y=\"n\",\n",
        "        hue=\"detection\",\n",
        "        data=df,\n",
        "        ax=summary_ax,\n",
        "        hue_order=[\"raw\", \"cuprac\"],\n",
        "    )\n",
        ")\n",
        "xticks = summary_ax.set_xticklabels(display_labels)\n",
        "summary_ax.tick_params(axis=\"x\", labelrotation=45)\n",
        "tile = summary_fig.suptitle(\"Dataset Breakdown by Individuals and Repetitions\")\n",
        "# summary_fig.set_figwidth()\n",
        "# summary_fig.set_figheight()\n",
        "summary_fig.tight_layout()"
      ]
    },
    {
      "cell_type": "code",
      "execution_count": null,
      "metadata": {},
      "outputs": [],
      "source": [
        "# | tbl-cap: 'CUPRAC and Raw UV subpopulation counts number of individual samples, members that have repetitions, members that have no repetition, and total number of repetition'\n",
        "# | label: tbl-detect\n",
        "display(display_summary_df)"
      ]
    },
    {
      "cell_type": "markdown",
      "metadata": {},
      "source": [
        "There are a total of 167 samples within the dataset, 66 'CUPRAC' and 101 'raw'. Of these, 'CUPRAC' contains 59 individual wines, 7 of which possess at least one repetition, 52 without any repetition, and 14 repeat samples in total. On the other hand, 'Raw' possesses 74 individual wines, 19 samples with repetitions, 55 without and 46 repeats in total. See @tbl-detect and @fig-detect for more detail.\n",
        "\n",
        " While the overall analysis does not require sample repeats, they are useful for method validation. Within the 'CUPRAC' dataset, the most suitable sample to test reproducibility is '2021 Torbreck Shiraz The Struie' with 2 repeats, and for 'raw' there is '2018 Crawford River Cabenets' with 4 repeats. The full list of repeated wines can be found in @tbl-repeat_wines."
      ]
    },
    {
      "cell_type": "markdown",
      "metadata": {},
      "source": [
        "## Dataset Intersection"
      ]
    },
    {
      "cell_type": "markdown",
      "metadata": {},
      "source": [
        "If we wanted to compare detection methods it is best to do so based on samples detected by both. Out of 133 wines, only 14 unique wines were detected with 'CUPRAC' and 'raw', as shown in @tbl-both_detect. The majority of these samples were red wines (12), Australian (7), and Pinot Noir (2) or Shiraz (2)."
      ]
    },
    {
      "cell_type": "code",
      "execution_count": null,
      "metadata": {},
      "outputs": [],
      "source": [
        "# | tbl-cap: Wines that were detected under both 'raw' and 'cuprac' configurations\n",
        "# | label: tbl-both_detect\n",
        "\n",
        "both_detect_df = lib_eda.detection_intersection(df)\n",
        "# get the ct df to join both_detect_df to get more metadata on the wines\n",
        "import duckdb as db\n",
        "from wine_analysis_hplc_uv import definitions\n",
        "\n",
        "con = db.connect(definitions.DB_PATH)\n",
        "ct_df = con.sql(f\"SELECT * FROM {definitions.CLEAN_CT_TBL_NAME}\").df()\n",
        "ct_df = con.sql(\n",
        "    f\"SELECT vintage, name, type, varietal, country FROM {definitions.CLEAN_CT_TBL_NAME}\"\n",
        ").df()\n",
        "ct_df = ct_df.assign(wine=lambda x: x[\"vintage\"] + \" \" + x[\"name\"]).drop(\n",
        "    [\"vintage\", \"name\"], axis=1\n",
        ")\n",
        "\n",
        "merge_variety_df = pd.merge(\n",
        "    left=both_detect_df, right=ct_df, left_on=\"wine\", right_on=\"wine\"\n",
        ").loc[\n",
        "    :,\n",
        "    [\n",
        "        \"wine\",\n",
        "        \"type\",\n",
        "        \"varietal\",\n",
        "        \"country\",\n",
        "        \"cuprac\",\n",
        "        \"raw\",\n",
        "        \"total\",\n",
        "    ],\n",
        "]\n",
        "merge_variety_df.style.hide()"
      ]
    },
    {
      "cell_type": "markdown",
      "metadata": {},
      "source": [
        "\n",
        "\n",
        "## Variety"
      ]
    },
    {
      "cell_type": "code",
      "execution_count": null,
      "metadata": {},
      "outputs": [],
      "source": [
        "# | output: false\n",
        "\n",
        "variety_df = (\n",
        "    df.set_index([\"detection\", \"varietal\"])\n",
        "    .loc[:, \"wine\"]\n",
        "    .drop_duplicates()\n",
        "    .groupby([\"detection\", \"varietal\"])\n",
        "    .size()\n",
        "    .to_frame(\"n\")\n",
        "    .pivot_table(index=\"varietal\", columns=\"detection\", values=\"n\", fill_value=0)\n",
        "    .pipe(\n",
        "        lambda df: df.assign(total=lambda x: x.sum(axis=1)).sort_values(\n",
        "            \"total\", ascending=False\n",
        "        )\n",
        "    )\n",
        ")"
      ]
    },
    {
      "cell_type": "code",
      "execution_count": null,
      "metadata": {},
      "outputs": [],
      "source": [
        "top_10_var_df = (\n",
        "    variety_df.reset_index()\n",
        "    .drop(\"total\", axis=1)\n",
        "    .melt(id_vars=\"varietal\", value_vars=[\"cuprac\", \"raw\"], value_name=\"n\")\n",
        "    .pivot_table(\n",
        "        index=\"varietal\",\n",
        "        columns=\"detection\",\n",
        "        values=\"n\",\n",
        "        fill_value=0,\n",
        "        margins=True,\n",
        "        margins_name=\"total\",\n",
        "        aggfunc=sum,\n",
        "        sort=True,\n",
        "    )\n",
        "    .nlargest(columns=[\"total\"], n=10)\n",
        "    .drop(\"total\", axis=1)\n",
        "    .drop(\"total\")\n",
        "    .reset_index()\n",
        "    .melt(id_vars=\"varietal\", value_vars=[\"cuprac\", \"raw\"], value_name=\"n\")\n",
        "    .pivot_table(\n",
        "        index=\"varietal\",\n",
        "        columns=\"detection\",\n",
        "        values=\"n\",\n",
        "        fill_value=0,\n",
        "        margins=True,\n",
        "        margins_name=\"total\",\n",
        "        aggfunc=sum,\n",
        "        sort=True,\n",
        "    )\n",
        "    .pipe(\n",
        "        lambda df: df.assign(istotal=lambda df: df.index == \"total\")\n",
        "        .sort_values([\"istotal\", \"total\"], ascending=[True, False])\n",
        "        .drop(\"istotal\", axis=1)\n",
        "    )\n",
        ")"
      ]
    },
    {
      "cell_type": "code",
      "execution_count": null,
      "metadata": {},
      "outputs": [],
      "source": [
        "# | fig-cap: Top 10 most frequently occuring varietals across both datasets\n",
        "# | label: fig-var-both-methods\n",
        "varietal_both_detect_fig, varietal_both_detect_ax = plt.subplots(1)\n",
        "\n",
        "varietal_both_barplot = (\n",
        "    top_10_var_df.drop(\"total\", axis=1)\n",
        "    .drop(\"total\")\n",
        "    .reset_index()\n",
        "    .melt(id_vars=\"varietal\", value_vars=[\"cuprac\", \"raw\"], value_name=\"count\")\n",
        "    .pipe(\n",
        "        lambda df: sns.barplot(\n",
        "            data=df,\n",
        "            x=\"count\",\n",
        "            y=\"varietal\",\n",
        "            hue=\"detection\",\n",
        "            orient=\"h\",\n",
        "            hue_order=[\"raw\", \"cuprac\"],\n",
        "        )\n",
        "    )\n",
        ")\n",
        "\n",
        "\n",
        "suptitle = varietal_both_detect_fig.suptitle(\"Top 10 Varietals by Frequency\", x=0.38)\n",
        "varietal_both_detect_fig.tight_layout()"
      ]
    },
    {
      "cell_type": "markdown",
      "metadata": {},
      "source": [
        "A wide range of varieties are included in the overall dataset, 47 in total, with varying levels of representation of individual wines from each varietal. The CUPRAC dataset consists of 59 unique varietals with varying levels of representation. The most represented is Pinot Noir (7) followed by Chardonnay (6), Shiraz (6), Red Blends (3), and Nebbiolo (3). 6 varietals are represented twice, while 22 only have one representative sample. The Raw UV dataset consists of 34 unique varietals also with varying levels of representation. The most represented varietal was Shiraz (9), followed by Chardonnay (7), Pinot Noir (7), Riesling (5), followed by 6 varietals represented 3 times, 5 represented twice, and 18 represented once. @tbl-top-ten-var contains the top 10 varietals across both datasets, and the full tabulation can be found in @tbl-variety."
      ]
    },
    {
      "cell_type": "markdown",
      "metadata": {},
      "source": [
        "\n",
        "\n",
        "## Type"
      ]
    },
    {
      "cell_type": "code",
      "execution_count": null,
      "metadata": {},
      "outputs": [],
      "source": [
        "# | output: false\n",
        "# type table\n",
        "type_order = [\n",
        "    \"white - sparkling\",\n",
        "    \"rosé - sparkling\",\n",
        "    \"white\",\n",
        "    \"orange\",\n",
        "    \"rosé\",\n",
        "    \"red\",\n",
        "    \"white - sweet/dessert\",\n",
        "]\n",
        "type_df = (\n",
        "    df.loc[:, [\"detection\", \"type\", \"wine\"]]\n",
        "    .groupby([\"detection\", \"type\"])\n",
        "    .nunique()\n",
        "    .reset_index()\n",
        "    .assign(type=lambda df: pd.Categorical(df[\"type\"], categories=type_order))\n",
        "    .pivot_table(\n",
        "        columns=\"detection\",\n",
        "        index=\"type\",\n",
        "        values=\"wine\",\n",
        "        fill_value=0,\n",
        "        margins=True,\n",
        "        margins_name=\"total\",\n",
        "        aggfunc=sum,\n",
        "        sort=True,\n",
        "    )\n",
        ")\n",
        "type_df"
      ]
    },
    {
      "cell_type": "code",
      "execution_count": null,
      "metadata": {},
      "outputs": [],
      "source": [
        "# | fig-cap: Grouped bar plot depicting the distribution of wine types\n",
        "# | label: fig-type\n",
        "type_fig, type_ax = plt.subplots(1)\n",
        "type_barplot = (\n",
        "    type_df.drop(\"total\")\n",
        "    .drop(\"total\", axis=1)\n",
        "    .pipe(lambda x: x[(x != 0).all(axis=1)])\n",
        "    .reset_index()\n",
        "    .melt(value_vars=[\"cuprac\", \"raw\"], id_vars=\"type\", value_name=\"n\")\n",
        "    .replace(\n",
        "        {\n",
        "            \"white - sweet/dessert\": \"sweet white\",\n",
        "            \"rosé - sparkling\": \"spk rosé\",\n",
        "            \"white - sparkling\": \"spk white\",\n",
        "        }\n",
        "    )\n",
        "    .pipe(\n",
        "        lambda df: sns.barplot(\n",
        "            data=df, x=\"type\", y=\"n\", hue=\"detection\", hue_order=[\"raw\", \"cuprac\"]\n",
        "        )\n",
        "    )\n",
        ")\n",
        "\n",
        "suptitle = type_fig.suptitle(\"Distribution of Samples by Wine Type\", x=0.38)\n",
        "type_fig.tight_layout()"
      ]
    },
    {
      "cell_type": "markdown",
      "metadata": {},
      "source": [
        "The following wine types are present within the dataset: 'white - sparkling', 'rosé - sparkling', 'white', 'orange', 'rosé', 'red', and 'white - sweet/dessert'. These definitions were taken from [cellartracker](https://www.cellartracker.com/) from which sample metadata was directly sourced.\n",
        "\n",
        "\n",
        "As depicted in @fig-type red wines dominate both datasets with 35 and 46 for CUPRAC and raw, respectively, followed by whites (15, 19) and rosé (4,3). Refer to @tbl-type for more detail.\n",
        "\n"
      ]
    },
    {
      "cell_type": "markdown",
      "metadata": {},
      "source": [
        "## Country"
      ]
    },
    {
      "cell_type": "code",
      "execution_count": null,
      "metadata": {},
      "outputs": [],
      "source": [
        "country_df = (\n",
        "    df.loc[:, [\"country\", \"wine\", \"detection\"]]\n",
        "    .groupby([\"detection\", \"country\"])\n",
        "    .nunique()\n",
        "    .reset_index()\n",
        "    .pivot_table(\n",
        "        columns=\"detection\",\n",
        "        index=\"country\",\n",
        "        values=\"wine\",\n",
        "        fill_value=0,\n",
        "        margins=True,\n",
        "        margins_name=\"total\",\n",
        "        aggfunc=sum,\n",
        "        sort=True,\n",
        "    )\n",
        ")\n",
        "total_country_df = country_df.pipe(\n",
        "    lambda df: df.assign(istotal=lambda df: df.index == \"total\")\n",
        "    .sort_values([\"istotal\", \"total\"], ascending=[True, False])\n",
        "    .drop(\"istotal\", axis=1)\n",
        "    .assign(cs=lambda df: df[\"total\"].cumsum())\n",
        "    .pipe(lambda df: df.replace(df.at[\"total\", \"cs\"], df.cs.iloc[-2]))\n",
        "    .assign(cs_prop=lambda df: df[\"cs\"] / df.at[\"total\", \"total\"])\n",
        "    .pipe(lambda df: df.replace(df.at[\"total\", \"cs_prop\"], df.cs_prop.iloc[-2]))\n",
        "    .style.format(\"{:.0%}\", subset=\"cs_prop\")\n",
        ")"
      ]
    },
    {
      "cell_type": "code",
      "execution_count": null,
      "metadata": {},
      "outputs": [],
      "source": [
        "# | fig-cap: Grouped bar plot of counts of samples categorized by wine country of origin for raw and CUPRAC detections.\n",
        "# | label: fig-country\n",
        "\n",
        "country_fig, country_ax = plt.subplots(1)\n",
        "\n",
        "country_barplot = (\n",
        "    country_df.drop(\"total\")\n",
        "    .drop(\"total\", axis=1)\n",
        "    .pipe(lambda x: x[(x != 0).all(axis=1)])\n",
        "    .reset_index()\n",
        "    .melt(value_vars=[\"cuprac\", \"raw\"], id_vars=\"country\", value_name=\"n\")\n",
        "    .pipe(\n",
        "        lambda df: sns.barplot(\n",
        "            data=df,\n",
        "            x=\"country\",\n",
        "            y=\"n\",\n",
        "            hue=\"detection\",\n",
        "            hue_order=[\"raw\", \"cuprac\"],\n",
        "            ax=country_ax,\n",
        "        )\n",
        "    )\n",
        ")\n",
        "\n",
        "suptitle = country_fig.suptitle(\"Counts of samples by country\", x=0.38)\n",
        "legend = country_ax.legend(loc=\"center right\")\n",
        "country_fig.tight_layout()"
      ]
    },
    {
      "cell_type": "markdown",
      "metadata": {},
      "source": [
        "The following wine types are present within the dataset: 'white - sparkling', 'rosé - sparkling', 'white', 'orange', 'rosé', 'red', and 'white - sweet/dessert'. These definitions were taken from [cellartracker](https://www.cellartracker.com/) from which sample metadata was directly sourced.\n",
        "\n",
        "\n",
        "As depicted in @fig-type red wines dominate both datasets with 35 and 46 for CUPRAC and raw, respectively, followed by whites (15, 19) and rosé (4,3). Refer to @tbl-type for more detail.\n",
        "\n"
      ]
    },
    {
      "cell_type": "markdown",
      "metadata": {},
      "source": [
        "## Closing Statement\n",
        "\n",
        "In summary, the dataset is dominated by Australian reds with Shiraz and Pinot Noir as the top contenders, and Chardonany as the primary white varietal. The distribution of categories between the datasets is roughly equal, any variation is in part due to the seasonality of wine consumption and the sample source.\n",
        "\n",
        "The game plan going forward is as follows:\n",
        "\n",
        "- validate each chromatogram in the dataset.\n",
        "- Focusing on red wines, investigate how well each detection method can classify a varietal."
      ]
    },
    {
      "cell_type": "markdown",
      "metadata": {},
      "source": [
        "\n",
        "## Appendix"
      ]
    },
    {
      "cell_type": "code",
      "execution_count": null,
      "metadata": {},
      "outputs": [],
      "source": [
        "# | tbl-cap: Wines with repeats by detection method\n",
        "# | label: tbl-repeat_wines\n",
        "(\n",
        "    lib_eda.samples_with_repeats(df).sort_values(\n",
        "        [\"detection\", \"n\"], ascending=[True, False]\n",
        "    )\n",
        ")"
      ]
    },
    {
      "cell_type": "code",
      "execution_count": null,
      "metadata": {},
      "outputs": [],
      "source": [
        "# | tbl-cap: 10 most represented varietals across both data sets\n",
        "# | label: tbl-top-ten-var\n",
        "top_10_var_df"
      ]
    },
    {
      "cell_type": "code",
      "execution_count": null,
      "metadata": {},
      "outputs": [],
      "source": [
        "# | tbl-cap: Counts of sample varietals by detection method sorted by frequency\n",
        "# | label: tbl-variety\n",
        "# full variety df, too big to place in the body of the text\n",
        "(\n",
        "    variety_df.reset_index()\n",
        "    .pipe(publish_methods.two_grouped_col_df)\n",
        "    .style.hide()\n",
        "    .format(precision=0)\n",
        ")"
      ]
    },
    {
      "cell_type": "code",
      "execution_count": null,
      "metadata": {},
      "outputs": [],
      "source": [
        "# | tbl-cap: Individual wines by type per detect method\n",
        "# | label: tbl-type\n",
        "(\n",
        "    type_df.pipe(\n",
        "        lambda df: df.assign(istotal=lambda df: df.index == \"total\")\n",
        "        .sort_values([\"istotal\", \"total\"], ascending=[True, False])\n",
        "        .drop(\"istotal\", axis=1)\n",
        "        .assign(cs=lambda df: df[\"total\"].cumsum())\n",
        "        .pipe(lambda df: df.replace(df.at[\"total\", \"cs\"], df.cs.iloc[-2]))\n",
        "        .assign(cs_prop=lambda df: df[\"cs\"] / df.at[\"total\", \"total\"])\n",
        "        .pipe(lambda df: df.replace(df.at[\"total\", \"cs_prop\"], df.cs_prop.iloc[-2]))\n",
        "        .style.format(\"{:.0%}\", subset=\"cs_prop\")\n",
        "    )\n",
        ")"
      ]
    },
    {
      "cell_type": "code",
      "execution_count": null,
      "metadata": {},
      "outputs": [],
      "source": [
        "# | tbl-cap: Comparison of country of origin of samples of wine type by detection method\n",
        "# | label: tbl-country\n",
        "total_country_df"
      ]
    }
  ],
  "metadata": {
    "kernelspec": {
      "display_name": "Python 3 (ipykernel)",
      "language": "python",
      "name": "python3"
    },
    "language_info": {
      "codemirror_mode": {
        "name": "ipython",
        "version": 3
      },
      "file_extension": ".py",
      "mimetype": "text/x-python",
      "name": "python",
      "nbconvert_exporter": "python",
      "pygments_lexer": "ipython3",
      "version": "3.11.1"
    }
  },
  "nbformat": 4,
  "nbformat_minor": 4
}
