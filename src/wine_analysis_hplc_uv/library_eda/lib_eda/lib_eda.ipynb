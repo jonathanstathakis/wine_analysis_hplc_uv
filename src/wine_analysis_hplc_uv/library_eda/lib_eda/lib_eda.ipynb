{
 "cells": [
  {
   "attachments": {},
   "cell_type": "markdown",
   "id": "8b932267",
   "metadata": {},
   "source": [
    "---\n",
    "title: Wine Library Statistics Breakdown By Detection Method\n",
    "toc: true\n",
    "toc-depth: 5\n",
    "echo: false\n",
    "documentclass: report\n",
    "page-layout: full\n",
    "format:\n",
    "  pdf:\n",
    "    documentclass: article\n",
    "    papersize: A4\n",
    "geometry:\n",
    "  - showframe\n",
    "fig-width: 10\n",
    "fig-dpi: 300\n",
    "---"
   ]
  },
  {
   "attachments": {},
   "cell_type": "markdown",
   "id": "f2152b9b",
   "metadata": {},
   "source": [
    "#| output: false\n",
    "#| echo: false\n",
    "TODO:\n",
    "    - [ ] organise graphics into grouped bar plots where appropriate.\n",
    "    - [ ] check sorting of all tables.\n",
    "    - [ ] descriptive paragraphs of each catgegory distribution\n",
    "    - [ ] proof read descriptive paragraphs\n",
    "    - [ ] debug cross-referencing\n",
    "    - [ ] final check of arrangements, appropriate pagebreaks where poss. "
   ]
  },
  {
   "attachments": {},
   "cell_type": "markdown",
   "id": "33796526",
   "metadata": {},
   "source": [
    "\\pagebreak"
   ]
  },
  {
   "cell_type": "code",
   "execution_count": null,
   "id": "993ba296",
   "metadata": {},
   "outputs": [],
   "source": [
    "%reload_ext autoreload\n",
    "%autoreload 2\n",
    "from wine_analysis_hplc_uv.library_eda.lib_eda import lib_eda\n",
    "import pandas as pd\n",
    "import matplotlib.pyplot as plt\n",
    "import numpy as np\n",
    "import seaborn as sns\n",
    "\n",
    "df = pd.read_excel(\"../df.xlsx\", dtype=object)\n",
    "df = df.rename({\"vintage_ct\": \"vintage\"}, axis=1)\n",
    "df[\"wine\"] = df[\"vintage\"] + \" \" + df[\"name_ct\"]\n",
    "df = df[~df[\"wine\"].isna()]"
   ]
  },
  {
   "cell_type": "code",
   "execution_count": null,
   "id": "278d1fe5",
   "metadata": {},
   "outputs": [],
   "source": [
    "def two_grouped_col_df(df):\n",
    "    # preference for left col to be longer than right col. \n",
    "    left_length = len(df) // 2 + 1\n",
    "    right_length = len(df) // 2 + 1\n",
    "\n",
    "    df1 = df.iloc[:left_length]\n",
    "    df2 = df.iloc[right_length:].reset_index(drop=True)\n",
    "    concat_df = pd.concat([df1, df2], axis=1)\n",
    "    return concat_df"
   ]
  },
  {
   "cell_type": "code",
   "execution_count": null,
   "id": "2b5995d8",
   "metadata": {},
   "outputs": [],
   "source": [
    "def display_summary_tbl(df):\n",
    "    out_df = df.copy()\n",
    "    out_df[\"prop\"] = out_df[\"prop\"].apply(np.round, 3)\n",
    "    out_df = out_df.rename({\"prop\": \"prop (%)\"}, axis=1)\n",
    "    return out_df"
   ]
  },
  {
   "cell_type": "code",
   "execution_count": null,
   "id": "2a4f2561",
   "metadata": {},
   "outputs": [],
   "source": [
    "cuprac_df = df[df[\"detection\"] == \"cuprac\"]\n",
    "uv_df = df[df[\"detection\"] == \"raw\"]\n",
    "\n",
    "cuprac_summary_df = lib_eda.summary_table(cuprac_df)\n",
    "raw_summary_df = lib_eda.summary_table(uv_df)"
   ]
  },
  {
   "attachments": {},
   "cell_type": "markdown",
   "id": "080e849d",
   "metadata": {},
   "source": [
    "## Breakdown By Detection Type"
   ]
  },
  {
   "attachments": {},
   "cell_type": "markdown",
   "id": "0d37d03f",
   "metadata": {},
   "source": [
    "The gathered dataset consists of spectrum signals detected directly and with CUPRAC-derivatized samples, as describef by Table 1:"
   ]
  },
  {
   "attachments": {},
   "cell_type": "markdown",
   "id": "74ddb6bd",
   "metadata": {},
   "source": [
    "In deciding the uesfulness of each dataset, it is interesting to observe: the total individual wines (count_individs), the total number of wines with repetitions (count_reps), the total number of wines without repetitions (count_unrep) and the total number of repeats (size_repeats), as given by Tables 2 and 3."
   ]
  },
  {
   "attachments": {},
   "cell_type": "markdown",
   "id": "af1fdbb0",
   "metadata": {},
   "source": [
    "As it currently stands, the CUPRAC dataset consists of 66 total samples and 59 individual wines, with many more singluarly-sampled wines (52) compared to wines with repetitions (7)."
   ]
  },
  {
   "cell_type": "code",
   "execution_count": null,
   "id": "47d4fb26",
   "metadata": {},
   "outputs": [],
   "source": [
    "# | tbl-cap: CUPRAC and Raw UV subpopulation counts including number of individual samples, members that have repetitions, members that have no repetition, and total number of repetitions\n",
    "concat_df = pd.concat([raw_summary_df, cuprac_summary_df])\n",
    "concat_df = concat_df.reset_index(names=[\"detection\", \"statistic\"])\n",
    "concat_df.pivot(index=\"statistic\", columns=\"detection\", values=\"n\")"
   ]
  },
  {
   "cell_type": "code",
   "execution_count": null,
   "id": "c1a9e2d2",
   "metadata": {},
   "outputs": [],
   "source": [
    "# | fig-cap: Grouped bar plot of containing counts of individual samples, repeated samples, unrepeated samples, size of repeat subpopulation and total subpopulation size\n",
    "\n",
    "x = 0.4\n",
    "figsizetuple = (10, 5)\n",
    "fontsize_ = 12 * x * 1.5\n",
    "figsize_ = tuple([param * x for param in figsizetuple])\n",
    "\n",
    "pop_descrip_fig, pop_descrip_ax = plt.subplots(1, figsize=figsize_)\n",
    "barplot = sns.barplot(\n",
    "    x=\"statistic\", y=\"n\", hue=\"detection\", data=concat_df, ax=pop_descrip_ax, width=0.5\n",
    ")\n",
    "pop_descrip_ax.xaxis.label.set_fontsize(fontsize_)\n",
    "pop_descrip_ax.yaxis.label.set_fontsize(fontsize_)\n",
    "pop_descrip_ax.tick_params(axis=\"x\", labelsize=fontsize_, labelrotation=45)\n",
    "pop_descrip_ax.tick_params(axis=\"y\", labelsize=fontsize_)\n",
    "legend = pop_descrip_ax.legend(fontsize=fontsize_)"
   ]
  },
  {
   "attachments": {},
   "cell_type": "markdown",
   "id": "e3490f90",
   "metadata": {},
   "source": [
    "\\pagebreak"
   ]
  },
  {
   "attachments": {},
   "cell_type": "markdown",
   "id": "14159acb",
   "metadata": {},
   "source": [
    "## Variety\n"
   ]
  },
  {
   "attachments": {},
   "cell_type": "markdown",
   "id": "32773b0e",
   "metadata": {},
   "source": [
    "TODO:\n",
    "- [x] graphics\n",
    "  - [x] combine cuprac and uv \"more than one\" bar plots\n",
    "  - [ ] \n",
    "- [ ] descriptive paragraph:\n",
    "  - [x] describe total number of varieties in each dataset\n",
    "  - [x] identify most represented varieties\n",
    "- [ ] tables\n",
    "  - [ ] make two column table function with parameters df, left length, right length\n",
    "  - [ ] apply created function to all tables longer than 1/3 a page"
   ]
  },
  {
   "cell_type": "code",
   "execution_count": null,
   "id": "9bcc0bec",
   "metadata": {},
   "outputs": [],
   "source": [
    "# | output: false\n",
    "cuprac_variety_df = (\n",
    "    lib_eda.num_unique_wines_by_detect_by_variety(cuprac_df)\n",
    "    .drop([\"cumsum\", \"prop\", \"cumsum_prop\"], axis=1)\n",
    "    .drop(\"total\")\n",
    "    .reset_index()\n",
    ")\n",
    "uv_variety_df = lib_eda.num_unique_wines_by_detect_by_variety(uv_df).drop(\n",
    "    [\"cumsum\", \"prop\", \"cumsum_prop\"], axis=1\n",
    ")\n",
    "uv_variety_df = uv_variety_df.drop(\"total\")\n",
    "uv_variety_df = uv_variety_df.reset_index(\"varietal\")"
   ]
  },
  {
   "attachments": {},
   "cell_type": "markdown",
   "id": "d918ad0d",
   "metadata": {},
   "source": [
    "The CUPRAC dataset consists of 59 unique varietals with varying levels of representation. The most represented is Pinot Noir (7) followed by Chardonnay (6), Shiraz (6), Red Blends (3), and Nebbiolo, (3). 6 wines are represented twice, while 22 only have one representative sample."
   ]
  },
  {
   "attachments": {},
   "cell_type": "markdown",
   "id": "24a0dcfc",
   "metadata": {},
   "source": [
    "The Raw UV dataset consists of 34 unique varietals also with varying levels of representation. The most represented varietal was Shiraz (9), followed by Chardonnay (7), Pinot Noir (7), Riesling (5), followed by 6 wines represented 3 times, 5 represented twice, and 18 represented once."
   ]
  },
  {
   "cell_type": "code",
   "execution_count": null,
   "id": "927f3b18",
   "metadata": {},
   "outputs": [],
   "source": [
    "# | output: false\n",
    "# concat the df\n",
    "\n",
    "pd.options.display.max_rows = 100\n",
    "\n",
    "concat_variety_df = pd.concat([uv_variety_df, cuprac_variety_df]).fillna(0)\n",
    "pivot_concat_variety_df = concat_variety_df.pivot(index='varietal',values='count',columns='detection')\n",
    "\n",
    "sort_pivot_concat_variety_df = (\n",
    "    pivot_concat_variety_df\n",
    "    .assign(total=lambda x : x.sum(axis=1)).sort_values('total', ascending=False)\n",
    "    .drop('total', axis = 1)\n",
    ")"
   ]
  },
  {
   "cell_type": "code",
   "execution_count": null,
   "id": "c708fe3f",
   "metadata": {},
   "outputs": [],
   "source": [
    "#| tbl-cap: Counts of unique wines by varietal sorted by total count across both detection methods\n",
    "# TODO:\n",
    "# - [ ] add categorical sorting via varietal color as secondary to total column sort\n",
    "two_col_concat_variety_df = two_grouped_col_df(sort_pivot_concat_variety_df.reset_index().fillna(0))\n",
    "two_col_concat_variety_df.fillna(\"\").style.format(precision=0).hide()"
   ]
  },
  {
   "cell_type": "code",
   "execution_count": null,
   "id": "82818a8a",
   "metadata": {},
   "outputs": [],
   "source": [
    "# filter out any varietals that are only present on one detection type\n",
    "varietal_both_detect_df = (\n",
    "    concat_variety_df.groupby('varietal').filter(lambda x : len(x)>1)\n",
    "    .pivot(index='varietal',values='count',columns='detection')\n",
    "    .assign(total=lambda x : x.sum(axis =1))\n",
    "    .sort_values('total', ascending=False)\n",
    ")\n",
    "varietal_both_detect_df"
   ]
  },
  {
   "cell_type": "code",
   "execution_count": null,
   "id": "21a4385c",
   "metadata": {},
   "outputs": [],
   "source": [
    "# TODO: reverse the pivot so you can grouped var plot\n",
    "reverse_pivot=(varietal_both_detect_df\n",
    "               .drop('total', axis=1)\n",
    "               .melt(\n",
    "                     value_vars=['cuprac','raw']\n",
    "                     )\n",
    ")\n",
    "reverse_pivot"
   ]
  },
  {
   "cell_type": "code",
   "execution_count": null,
   "id": "828db21a",
   "metadata": {},
   "outputs": [],
   "source": [
    "# | fig-cap: Grouped bar plot of counts of individual wines by varietal by detection method where the varietal was detected with both CUPRAC and raw UV at least once.\n",
    "varietal_both_detect_fig, varietal_both_detect_ax = plt.subplots(1)\n",
    "varietal_both_barplot = sns.barplot(\n",
    "    data=varietal_both_detect_df.melt(id_vars='varieta'),\n",
    "    x=\"count\",\n",
    "    y=\"varietal\",\n",
    "    hue=\"detection\",\n",
    "    orient=\"h\",\n",
    ")"
   ]
  },
  {
   "attachments": {},
   "cell_type": "markdown",
   "id": "15505b43",
   "metadata": {},
   "source": [
    "\\pagebreak"
   ]
  },
  {
   "attachments": {},
   "cell_type": "markdown",
   "id": "f53397d4",
   "metadata": {},
   "source": [
    "## Type\n"
   ]
  },
  {
   "cell_type": "code",
   "execution_count": null,
   "id": "8b6c7ecf",
   "metadata": {},
   "outputs": [],
   "source": [
    "cuprac_type_df = lib_eda.num_unique_wines_by_detect_by_type(cuprac_df)\n",
    "cuprac_type_df[\"detect\"] = \"cuprac\"\n",
    "\n",
    "uv_type_df = lib_eda.num_unique_wines_by_detect_by_type(uv_df)\n",
    "uv_type_df[\"detect\"] = \"raw\"\n",
    "\n",
    "type_concat_df = pd.concat([cuprac_type_df, uv_type_df])\n",
    "type_concat_df = type_concat_df.reset_index()"
   ]
  },
  {
   "cell_type": "code",
   "execution_count": null,
   "id": "dee17e84",
   "metadata": {},
   "outputs": [],
   "source": [
    "# | output: false\n",
    "cuprac_type_df.sort_values(\"count\", ascending=False)"
   ]
  },
  {
   "cell_type": "markdown",
   "id": "ef543451",
   "metadata": {},
   "source": [
    "The following wine types are present within the dataset: 'white - sparkling', 'rosé - sparkling', 'white', 'orange', 'rosé', 'red', and 'white - sweet/dessert'. These definitions were taken from [cellartracker](https://www.cellartracker.com/) from which sample metadata was directly sourced.\n",
    "\n",
    "The CUPRAC dataset contains the following wine types (in order of category size): 35 'red', 15 'white', 4 'rosé', 2 'white - sparkling', 2 'orange', and 1 'rosé - sparkling'. The UV dataset contains 46 'red', 19 'white', 3 'white - sparkling', 3 'rosé', 2 'orange', and one 'white - sweet/dessert' See @type_concat_tbl and @type_group_barplot."
   ]
  },
  {
   "cell_type": "code",
   "execution_count": null,
   "id": "dd68acdc",
   "metadata": {},
   "outputs": [],
   "source": [
    "# | tbl-cap: Comparison of counts of samples of wine type by detection method\n",
    "# | tbl-label: type_concat_tbl\n",
    "sorted_type_concat_df = groupby_sort_df(\n",
    "    type_concat_df, group_col=\"type\", x_col=\"count\", y_col=\"detect\"\n",
    ")\n",
    "sorted_type_concat_df.pivot(columns=\"detect\", values=\"count\").fillna(0).style.format(\n",
    "    precision=0\n",
    ")"
   ]
  },
  {
   "cell_type": "code",
   "execution_count": null,
   "id": "b88c17d4",
   "metadata": {},
   "outputs": [],
   "source": [
    "# | fig-cap: Grouped bar plot of counts of samples categorized by wine type for raw and CUPRAC detections.\n",
    "# | fig-label: type_group_barplot\n",
    "type_fig, type_ax = plt.subplots(1)\n",
    "type_barplot = sns.barplot(\n",
    "    data=type_concat_df, ax=type_ax, orient=\"h\", x=\"count\", y=\"type\", hue=\"detect\"\n",
    ")"
   ]
  },
  {
   "attachments": {},
   "cell_type": "markdown",
   "id": "012629c6",
   "metadata": {},
   "source": [
    "\n",
    "\\pagebreak\n"
   ]
  },
  {
   "cell_type": "markdown",
   "id": "47cb1941",
   "metadata": {},
   "source": [
    "## Country\n"
   ]
  },
  {
   "cell_type": "code",
   "execution_count": null,
   "id": "1aff988a",
   "metadata": {},
   "outputs": [],
   "source": [
    "# | output: false\n",
    "cuprac_country_df = lib_eda.num_unique_wines_by_detect_by_country(cuprac_df)\n",
    "uv_country_df = lib_eda.num_unique_wines_by_detect_by_country(uv_df)\n",
    "concat_country_df = pd.concat([cuprac_country_df, uv_country_df]).reset_index(drop=True)\n",
    "concat_country_df = concat_country_df.set_index(\"country\")\n",
    "concat_country_df[\"totals\"] = concat_country_df.groupby(\"country\")[\"count\"].sum()\n",
    "concat_country_df.sort_values(\"totals\", ascending=False)"
   ]
  },
  {
   "cell_type": "markdown",
   "id": "10171cb4",
   "metadata": {},
   "source": [
    "Overall the dataset contains samples from Australia (71), Italy (32), France (19), Argentina (5), New Zealand (3), USA (2), and Spain (1).\n",
    "\n",
    "Within the CUPRAC dataset there are 29 samples from Australia, 18 from Italy, 7 from France, 3 from New Zealand, 1 from Argentina and 1 from USA.\n",
    "\n",
    "On the other hand, the raw UV dataset possesses 42 wines from Australia, 14 wines from Italy, 12 wines from France, 4 wines from Argentina, 1 wine from Spain and 1 wine from USA."
   ]
  },
  {
   "cell_type": "code",
   "execution_count": null,
   "id": "41b062b8",
   "metadata": {},
   "outputs": [],
   "source": [
    "# pivot the table for display purposes\n",
    "\n",
    "pivot_concat_country_df = (\n",
    "    concat_country_df.reset_index()\n",
    "    .pivot(index=\"country\", columns=\"detection\", values=\"count\")\n",
    "    .fillna(0)\n",
    ")\n",
    "pivot_concat_country_df.style.format(precision=0)"
   ]
  },
  {
   "cell_type": "code",
   "execution_count": null,
   "id": "948c4fec",
   "metadata": {},
   "outputs": [],
   "source": [
    "# | fig-cap: Grouped bar plot of counts of samples categorized by wine country of origin for raw and CUPRAC detections.\n",
    "# | fig-label: country_group_barplot\n",
    "plot_concat_country_df = concat_country_df.reset_index()\n",
    "sns.barplot(\n",
    "    data=plot_concat_country_df, orient=\"h\", y=\"country\", x=\"count\", hue=\"detection\"\n",
    ")"
   ]
  }
 ],
 "metadata": {
  "kernelspec": {
   "display_name": "Python 3 (ipykernel)",
   "language": "python",
   "name": "python3"
  },
  "language_info": {
   "codemirror_mode": {
    "name": "ipython",
    "version": 3
   },
   "file_extension": ".py",
   "mimetype": "text/x-python",
   "name": "python",
   "nbconvert_exporter": "python",
   "pygments_lexer": "ipython3",
   "version": "3.11.1"
  }
 },
 "nbformat": 4,
 "nbformat_minor": 5
}
