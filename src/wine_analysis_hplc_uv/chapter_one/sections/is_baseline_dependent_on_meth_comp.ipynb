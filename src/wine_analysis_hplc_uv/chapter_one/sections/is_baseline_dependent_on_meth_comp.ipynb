{
 "cells": [
  {
   "cell_type": "code",
   "execution_count": null,
   "metadata": {},
   "outputs": [],
   "source": [
    "import numpy as np\n",
    "import duckdb as db\n",
    "import polars as pl\n",
    "import plotnine as p9\n",
    "from wine_analysis_hplc_uv.chapter_one import baselines, get_samples, polars_extension\n",
    "from wine_analysis_hplc_uv import definitions"
   ]
  },
  {
   "cell_type": "markdown",
   "metadata": {},
   "source": [
    "# Is Signal Baseline Height a Function of % Methanol in Mobile Phase\n",
    "\n",
    "## Abstract\n",
    "\n",
    "A notebook containing an analysis and consideration of whethre or not to remove a fitted baseline from all samples automatically. The outcome was that while there is an observable correlation between methanol AUC (Area Under Curve) and baseline AUC, it was decided that this was coincident on the fact that an increased %Me increases the pace of elution of components, in turn increasing the average baseline AUC, and that since white wines had little no observable baseline, that the source of the baseline is from the sample. We concluded by stating that baseline removal would be acceptable for inter-varietal studies, but generally advised against."
   ]
  },
  {
   "cell_type": "markdown",
   "metadata": {},
   "source": [
    "## Introduction\n",
    "\n",
    "TODO"
   ]
  },
  {
   "cell_type": "markdown",
   "metadata": {},
   "source": [
    "## Results"
   ]
  },
  {
   "cell_type": "markdown",
   "metadata": {},
   "source": [
    "### AUC as a Function of Gradient and Sample\n",
    "\n",
    "TODO:\n",
    "  - [ ] complete this hypothesis test.\n",
    "\n",
    "I hypothesis that the baseline is a convolution of the % composition of methanol in the mobile phase. To prove this, find auc as a function of % methanol for each sample.\n",
    "\n",
    "Possible approach: fit a baseline, compare the profile of the baseline to the methanol curve.\n",
    "\n",
    "\n",
    "|    min  |   A%  |    B%  |  Flow mL/min |  Pressure psi |\n",
    "|---|---|---|---|---|\n",
    "|  38.00 | 0.00 | 100.00 |  1.000 |  6999.96 |\n",
    "|  40.00 | 0.00 | 100.00 | 1.000  | 6999.96 |\n",
    "|  42.00 | 95.00 |  5.00 | 1.000  | 6999.96 |\n",
    "|  52.00 | 95.00 |  5.00 | 1.000  | 6999.96 |\n",
    "\n",
    "  So the methanol gradient is a three spline curve, the first is 0 to 38 mins with a gradient of 2.5, the second is 40 to 42 with a gradient of zero, and the third is 42 to 52 mins with a gradient of -9.5%."
   ]
  },
  {
   "cell_type": "markdown",
   "metadata": {},
   "source": [
    "#### Methanol Curve"
   ]
  },
  {
   "cell_type": "code",
   "execution_count": null,
   "metadata": {},
   "outputs": [],
   "source": [
    "# generate the methanol curve\n",
    "def gen_methanol_curve() -> pl.DataFrame:\n",
    "    x = np.linspace(0, 52, 1000)\n",
    "\n",
    "    # first window\n",
    "\n",
    "    window_1 = 5 + (x[x <= 38]) * 2.5\n",
    "\n",
    "    # second window\n",
    "    window_2 = (x[(x > 38) & (x <= 42)] * 0) + 100\n",
    "\n",
    "    # third window\n",
    "\n",
    "    window_3 = 100 + ((x[x > 42] - 42) * -9.5)\n",
    "\n",
    "    df_ = pl.DataFrame({\"y\": window_3}).with_row_index(\"idx\")\n",
    "\n",
    "    # combine the windows together\n",
    "    methanol_curve = np.concatenate((window_1, window_2, window_3))\n",
    "    # pad methanol curve to match length of x\n",
    "\n",
    "    df = pl.DataFrame({\"mins\": x, \"% methanol\": methanol_curve})\n",
    "\n",
    "    return df\n",
    "\n",
    "\n",
    "methanol_curve = gen_methanol_curve()\n",
    "display(methanol_curve)\n",
    "display(\n",
    "    p9.ggplot(methanol_curve.with_row_index(\"idx\"), p9.aes(x=\"mins\", y=\"% methanol\"))\n",
    "    + p9.geom_line()\n",
    "    + p9.ggtitle(\"% Methanol as a Function of Time in a 2.5% Gradient\")\n",
    ")"
   ]
  },
  {
   "cell_type": "markdown",
   "metadata": {},
   "source": [
    "#### Baselines"
   ]
  },
  {
   "cell_type": "markdown",
   "metadata": {},
   "source": [
    "##### Samples"
   ]
  },
  {
   "cell_type": "code",
   "execution_count": null,
   "metadata": {},
   "outputs": [],
   "source": [
    "# get the samples\n",
    "\n",
    "n_samples = 10\n",
    "\n",
    "with db.connect(definitions.DB_PATH) as con:\n",
    "    samples = get_samples.get_samples(\n",
    "        con=con, detection=\"raw\", n_samples=n_samples, distinct_wine=True\n",
    "    )\n",
    "(\n",
    "    p9.ggplot(\n",
    "        db.sql(\"from samples where mins <= 30 order by sample_num, idx\")\n",
    "        .pl()\n",
    "        .pipe(polars_extension.to_enum, \"sample_num\"),\n",
    "        p9.aes(x=\"mins\", y=\"absorbance\", color=\"sample_num\"),\n",
    "    )\n",
    "    + p9.geom_line()\n",
    "    + p9.ggtitle(f\"Overlay of Random 'Raw' Samples n = {n_samples} @ 256 nm\")\n",
    ")"
   ]
  },
  {
   "cell_type": "code",
   "execution_count": null,
   "metadata": {},
   "outputs": [],
   "source": [
    "# calculate the baselines\n",
    "\n",
    "baseline_results = baselines.calculate_baselines(\n",
    "    df=samples, grp_col=\"sample_num\", y_col=\"absorbance\"\n",
    ")\n",
    "\n",
    "signals = baselines.join_baseline_result_signals(\n",
    "    signals=samples,\n",
    "    baselines=baseline_results[\"baselines\"],\n",
    "    corrected_signals=baseline_results[\"corrected\"],\n",
    ")\n",
    "signals.head()"
   ]
  },
  {
   "cell_type": "code",
   "execution_count": null,
   "metadata": {},
   "outputs": [],
   "source": [
    "# plot correction overlay\n",
    "\n",
    "\n",
    "def plot_correction_overlay(df: pl.DataFrame, grp: str) -> None:\n",
    "    \"\"\"\n",
    "    produce a plot of the original signal, baseline and corrected signal for each group in 'grp'\n",
    "    \"\"\"\n",
    "\n",
    "    p = (\n",
    "        p9.ggplot(\n",
    "            df,\n",
    "        )\n",
    "        + p9.geom_line(p9.aes(x=\"mins\", y=\"absorbance\"), color=\"blue\", alpha=0.5)\n",
    "        + p9.geom_line(p9.aes(x=\"mins\", y=\"baseline\"), color=\"red\")\n",
    "        + p9.geom_line(p9.aes(x=\"mins\", y=\"corrected\"), color=\"black\")\n",
    "        + p9.facet_wrap(facets=grp)\n",
    "        + p9.theme(figure_size=(16, 8))\n",
    "        + p9.ggtitle(\"Base Signal, Fitted Baseline and Corrected Signal by Sample\")\n",
    "    )\n",
    "\n",
    "    display(p)\n",
    "\n",
    "\n",
    "plot_correction_overlay(\n",
    "    df=signals.pipe(polars_extension.to_enum, \"sample_num\"),\n",
    "    grp=\"sample_num\",\n",
    ")"
   ]
  },
  {
   "cell_type": "markdown",
   "metadata": {},
   "source": [
    "## Discussion\n",
    "\n",
    "To answer the question of correlation between % methanol gradient and baseline AUC, it appears that they are tangentially related, and that apart from samples such as 17, the majority of components are eluting by the 30 minute mark, which is just over half way up the methanol gradient. In samples possessing high AUC relative to zero, such as 1, 2, 3, 8, 17, 47, 66, 84, 98, etc., the baseline becomes significant after the 5 minute mark, where methanol is > 12.5% of the mobile phase composition. It is the 5 to 30 minute range that would benefit from baseline removal."
   ]
  },
  {
   "cell_type": "markdown",
   "metadata": {},
   "source": [
    "## Conclusion\n",
    "\n",
    "TODO"
   ]
  }
 ],
 "metadata": {
  "kernelspec": {
   "display_name": "wine-analysis-hplc-uv-F-SbhWjO-py3.12",
   "language": "python",
   "name": "python3"
  },
  "language_info": {
   "codemirror_mode": {
    "name": "ipython",
    "version": 3
   },
   "file_extension": ".py",
   "mimetype": "text/x-python",
   "name": "python",
   "nbconvert_exporter": "python",
   "pygments_lexer": "ipython3",
   "version": "3.12.2"
  }
 },
 "nbformat": 4,
 "nbformat_minor": 2
}
