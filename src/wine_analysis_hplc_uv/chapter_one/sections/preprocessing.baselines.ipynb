{
 "cells": [
  {
   "cell_type": "markdown",
   "metadata": {},
   "source": [
    "---\n",
    "title: 'Preprocessing Methods: Baseline Removal'\n",
    "date: '2024-06-19 10:36:42'\n",
    "---\n"
   ]
  },
  {
   "cell_type": "markdown",
   "metadata": {},
   "source": [
    "# Editorial Outline\n",
    "\n",
    "Narrative Outline:\n",
    "\n",
    "Hypothesis - samples need baseline subtraction as the baseline noise is systematic, varying sample-wise and temporally (day to day).\n",
    "\n",
    "1. [ ] Introduction\n",
    "  1. [ ] what is noise\n",
    "  2. [ ] what is a baseline\n",
    "  3. [ ] why would you want to remove a baseline\n",
    "  4. [ ] baseline removal methods\n",
    "    1. [ ] select methods to observe {lit review}\n",
    "    1. [ ] {short introduction to each method selected}\n",
    "  5. [ ] introduce the dataset.\n",
    "2. [ ] Experimental\n",
    "  1. [ ] Refer to Data Acquisition section\n",
    "  2. [ ] get the data\n",
    "  3. [ ] display the data\n",
    "3. [ ] Results\n",
    "  - [ ] Calculate AUC throughout samples\n",
    "4. [ ] Discussion\n",
    "  1. [ ] Predictors of Baseline Presence\n",
    "    1. [ ] Observe prevalence of AUC (baseline) in samples\n",
    "    2. [ ] find correlation between categorical variables and baseline presence.\n",
    "      1. [ ] if its ubiquitous amongst a class, say, heavy reds, then you'd only remove it when analysing within that class - same baseline, otherwise not, as the AUC below the baseline is not an instrumental convolution, but rather a crowded chromatogram.\n",
    "      2. [ ] if its ubiquitous throughout the dataset irregardless of class, then remove as it has an external source.\n",
    "  2. [ ] Baseline Removal Methods\n",
    "    1. [ ] identify 5 baseline removal methods to apply to samples with baselines\n",
    "    2. [ ] identify appropriate metrics: i.e. baseline smoothness, difficulty in achieving appropriate fit, time elapsed for fit.\n",
    "    3. Compare results of methods in a table by the metrics.\n",
    "    4. discuss results\n",
    "5. [ ] Conclusion\n",
    "\n"
   ]
  },
  {
   "cell_type": "markdown",
   "metadata": {},
   "source": [
    "# Abstract\n",
    "\n",
    "An analysis of the suitability of baseline subtraction as a preprocessing stage during the analysis of the wine dataset was conducted."
   ]
  },
  {
   "cell_type": "markdown",
   "metadata": {},
   "source": [
    "# Introduction\n",
    "\n",
    "NTS: The following will need to be edited heavily but provides a good foundation for the introduction.\n",
    "\n",
    ">The baseline of a chromatogram, a linear rise and fall over the time range adding extranuous ordinate scale and roughness, is predicted by a myriad of instrumental factors.\n",
    "\n",
    ">First and foremost is the refractive index of methanol at wavelengths ranging from 190 to 300nm, the optimal range of absorbance of the analytes of interest. \n",
    "\n",
    ">There are a range of experimental methods that can be utilised to quash background noise in the output signal.. {fill in}. \n",
    "\n",
    ">But as the ethos of the experiment was to maximise sample throughput speed, we are interestd in computational methods. There are as many computational methods of background noise removal as there are experimental, including curve fitting.. {fill in approaches}. Removal of the baseline is done with the intent of normalizing the sampleset internally, extracting true characteristics from the confounding noise. It is however, necessary to justify this transformation as there is of course information lost in the removal. A justification could be found if the variance within the distribution of fitted baselines was deemed significant. There are then two questions that must be answered - how to define the baseline, and what is the threshold of significance?\n",
    "\n",
    ">The baseline will be defined by optimizing baseline fit, and the threshold of significance will be a variance greater than the expected level of precision, or 1e-6. Anything above that will affect comparisons of AUC across samples.\n",
    "\n",
    ">Baseline subtraction was conducted through Asymmetric Least Squares Smoothing [@eilers.BaselineCorrectionAsymmetric.2005] as per the procedure outlined by @ianeselli.CompleteAnalysisPipeline.2024, and implemented in the Python library PyBaselines [@erb.pybaselinesPythonlibrary.2024].\n",
    "\n"
   ]
  },
  {
   "cell_type": "markdown",
   "metadata": {},
   "source": [
    "# Experimental\n",
    "\n",
    "TODO"
   ]
  },
  {
   "cell_type": "markdown",
   "metadata": {},
   "source": [
    "# Results\n",
    "\n",
    "TODO"
   ]
  },
  {
   "cell_type": "markdown",
   "metadata": {},
   "source": [
    "# Discussion\n",
    "\n",
    "TODO"
   ]
  },
  {
   "cell_type": "markdown",
   "metadata": {},
   "source": [
    "# Conclusion\n",
    "\n",
    "TODO"
   ]
  },
  {
   "cell_type": "markdown",
   "metadata": {},
   "source": [
    "### "
   ]
  }
 ],
 "metadata": {
  "kernelspec": {
   "display_name": "wine-analysis-hplc-uv-F-SbhWjO-py3.12",
   "language": "python",
   "name": "python3"
  },
  "language_info": {
   "name": "python",
   "version": "3.12.2"
  }
 },
 "nbformat": 4,
 "nbformat_minor": 2
}
