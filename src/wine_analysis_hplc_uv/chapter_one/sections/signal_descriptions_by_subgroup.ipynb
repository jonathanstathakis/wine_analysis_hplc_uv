{
 "cells": [
  {
   "cell_type": "markdown",
   "metadata": {},
   "source": [
    "# Analysis of Signals by Sub-Groups\n",
    "\n",
    "## Dev Log\n",
    "\n",
    "2024-06-18 15:34:40 - Outline. Ater a bit of playing I have come up with an approximate outline for the first chapter. The theme will be about describing the datasets along finer and finer subgroupings within each detection method, similar to the metadata analysis. First divide the sample by detection method, then describe the following: number of peaks above 5% rel height, max amplitude, number of peaks by time quartile (divide time by 4), average auc per quartile. Once this is done observe the distributions of these measurements across color and varietal. This will be done for each detection method, then we will compare the distributions between detection methods. Then we'll have to summarize the results, justify them, and conclude. Thus the procedure can be broken down into the following:\n",
    "\n",
    "1. preprocessing\n",
    "2. measurement acquisition\n",
    "3. statistical analysis\n",
    "4. discussion\n",
    "5. conclusion\n",
    "\n",
    "Development of the pipeline will be completed using the 30 sample dataset developed earlier, and once its done we'll include the total dataset.\n",
    "\n",
    "Outlier handling will be required, when calculating distribution statistics we will need to be specific. The actual outlier analysis will be moved to the appendix in the final publication.\n",
    "\n",
    "\n",
    "TODO:\n",
    "- [x] sample retrieval\n",
    "- [ ] preprocessing\n",
    "  - [ ] noise removal\n",
    "  - [ ] sharpening and smoothing\n",
    "  - [ ] measurement acquisition\n",
    "    - [ ] produce the following tables\n",
    "      - [ ] number of peaks above 5% rel height\n",
    "      - [ ] maximum amplitude\n",
    "      - [ ] peaks by time quartile\n",
    "      - [ ] auc average per quartile\n",
    "- [ ] statistical analysis\n",
    "  - [ ] raw\n",
    "    - [ ] by color\n",
    "    - [ ] by varietal\n",
    "  - [ ] cuprac\n",
    "    - [ ] by color\n",
    "    - [ ] by varietal\n",
    "  - [ ] distribution comparison between detection methods\n",
    "- [ ] discussion\n",
    "- [ ] conclusion"
   ]
  },
  {
   "cell_type": "code",
   "execution_count": null,
   "metadata": {},
   "outputs": [],
   "source": [
    "# | echo: false\n",
    "# imports\n",
    "%reload_ext autoreload\n",
    "%autoreload 2\n",
    "\n",
    "import duckdb as db\n",
    "from wine_analysis_hplc_uv import definitions\n",
    "from wine_analysis_hplc_uv.chapter_one import polars_extension, get_samples, baselines\n",
    "import polars as pl\n",
    "import plotnine as p9"
   ]
  },
  {
   "cell_type": "markdown",
   "metadata": {},
   "source": [
    "## Sample Retrieval"
   ]
  },
  {
   "cell_type": "code",
   "execution_count": null,
   "metadata": {},
   "outputs": [],
   "source": [
    "with db.connect(definitions.DB_PATH) as con:\n",
    "    sampling = get_samples.get_samples(\n",
    "        con=con, detection=\"raw\", n_samples=30, distinct_wine=True\n",
    "    )"
   ]
  },
  {
   "cell_type": "code",
   "execution_count": null,
   "metadata": {},
   "outputs": [],
   "source": [
    "(\n",
    "    p9.ggplot(sampling, p9.aes(x=\"mins\", y=\"absorbance\", color=\"sample_num\"))\n",
    "    + p9.geom_line()\n",
    "    + p9.ggtitle(\"Random Sampling n = 30 of 'Raw' Samples at 256nm\")\n",
    ")"
   ]
  },
  {
   "cell_type": "markdown",
   "metadata": {},
   "source": [
    "As we can see in the above figure, the AUC.. Next we will calculate the distribution."
   ]
  },
  {
   "cell_type": "markdown",
   "metadata": {},
   "source": [
    "## Preprocessing"
   ]
  },
  {
   "cell_type": "markdown",
   "metadata": {},
   "source": [
    "### Baselines"
   ]
  },
  {
   "cell_type": "code",
   "execution_count": null,
   "metadata": {},
   "outputs": [],
   "source": [
    "results, infodict = baselines.calculate_baselines(\n",
    "    df=sampling, grp_col=\"sample_num\", y_col=\"absorbance\"\n",
    ")\n",
    "\n",
    "baseline_results[\"results\"]"
   ]
  },
  {
   "cell_type": "code",
   "execution_count": null,
   "metadata": {},
   "outputs": [],
   "source": [
    "# plot the samples\n",
    "\n",
    "\n",
    "def plot_correction_overlay(df: pl.DataFrame, grp: str) -> None:\n",
    "    \"\"\"\n",
    "    produce a plot of the original signal, baseline and corrected signal for each group in 'grp'\n",
    "    \"\"\"\n",
    "\n",
    "    p = (\n",
    "        p9.ggplot(\n",
    "            df,\n",
    "        )\n",
    "        + p9.geom_line(p9.aes(x=\"mins\", y=\"absorbance\"), color=\"blue\", alpha=0.5)\n",
    "        + p9.geom_line(p9.aes(x=\"mins\", y=\"baseline\"), color=\"red\")\n",
    "        + p9.geom_line(p9.aes(x=\"mins\", y=\"corrected\"), color=\"black\")\n",
    "        + p9.facet_wrap(facets=grp)\n",
    "        + p9.theme(figure_size=(16, 8))\n",
    "        + p9.ggtitle(\"Base Signal, Fitted Baseline and Corrected Signal by Sample\")\n",
    "    )\n",
    "\n",
    "    display(p)\n",
    "\n",
    "\n",
    "plot_correction_overlay(\n",
    "    df=db.sql(\"select * from sampled where mins < 30 order by sample_num, mins\")\n",
    "    .pl()\n",
    "    .pipe(polars_extension.to_enum, \"sample_num\"),\n",
    "    grp=\"sample_num\",\n",
    ")"
   ]
  },
  {
   "cell_type": "markdown",
   "metadata": {},
   "source": [
    "## Statistical Analysis"
   ]
  },
  {
   "cell_type": "markdown",
   "metadata": {},
   "source": [
    "### Raw"
   ]
  },
  {
   "cell_type": "markdown",
   "metadata": {},
   "source": [
    "#### By Color"
   ]
  },
  {
   "cell_type": "markdown",
   "metadata": {},
   "source": [
    "#### By Varietal"
   ]
  },
  {
   "cell_type": "markdown",
   "metadata": {},
   "source": [
    "### CUPRAC"
   ]
  },
  {
   "cell_type": "markdown",
   "metadata": {},
   "source": [
    "#### By Color"
   ]
  },
  {
   "cell_type": "markdown",
   "metadata": {},
   "source": [
    "#### By Varietal"
   ]
  },
  {
   "cell_type": "markdown",
   "metadata": {},
   "source": [
    "### Comparison of Distributions Between Detection Methods"
   ]
  },
  {
   "cell_type": "markdown",
   "metadata": {},
   "source": [
    "## Discussion\n"
   ]
  },
  {
   "cell_type": "markdown",
   "metadata": {},
   "source": [
    "## Conclusion"
   ]
  }
 ],
 "metadata": {
  "kernelspec": {
   "display_name": "wine-analysis-hplc-uv-F-SbhWjO-py3.12",
   "language": "python",
   "name": "python3"
  },
  "language_info": {
   "codemirror_mode": {
    "name": "ipython",
    "version": 3
   },
   "file_extension": ".py",
   "mimetype": "text/x-python",
   "name": "python",
   "nbconvert_exporter": "python",
   "pygments_lexer": "ipython3",
   "version": "3.12.2"
  }
 },
 "nbformat": 4,
 "nbformat_minor": 2
}
