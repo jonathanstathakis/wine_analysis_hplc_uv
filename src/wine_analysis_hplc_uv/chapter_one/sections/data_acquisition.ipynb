{
 "cells": [
  {
   "cell_type": "raw",
   "id": "0",
   "metadata": {
    "vscode": {
     "languageId": "raw"
    }
   },
   "source": [
    "---\n",
    "title: Data Acquisition\n",
    "date: '2024-06-19 11:18:29'\n",
    "format: html\n",
    "---\n"
   ]
  },
  {
   "cell_type": "markdown",
   "id": "1",
   "metadata": {},
   "source": [
    "# Editorial Outline\n",
    "\n",
    "The section describing the method development and data acquisition of the wine dataset under cuprac and raw detection methods.\n",
    "\n",
    "Hypothesis: the chromatographic signals collected from wines will be significantly different under raw and cuprac detection methods, where cuprac will contain more sample-to-sample variance than raw.\n",
    "\n",
    "TODO\n",
    "1. [ ] Abstract\n",
    "2. [ ] Introduction\n",
    "  1. [ ] What is wine\n",
    "  2. [ ] why are we interested in wine\n",
    "  3. [ ] Detection of wine\n",
    "    1. [ ] hplc-dad\n",
    "      1. [ ] what is hplc\n",
    "      2. [ ] what is dad\n",
    "      3. [ ] what is hplc-dad\n",
    "      4. [ ] what are common applications of hplc-dad\n",
    "    999. [ ] how do they compare\n",
    "    2. [ ] What is PCD\n",
    "      1. [ ] why is PCD\n",
    "      2. [ ] applications of hplc-pcd\n",
    "      3. [ ] What is CUPRAC\n",
    "        1. [ ] what is CUPRAC\n",
    "        2. [ ] Why is cuprac\n",
    "        3. [ ] applications of cuprac\n",
    "      4. [ ] examples of hplc-cuprac\n",
    "    3. [ ] \n",
    "    \n",
    "\n",
    "3. [ ] Experimental\n",
    "4. [ ] Results\n",
    "5. [ ] Discussion\n",
    "6. [ ] Conclusion\n",
    "\n",
    "# Abstract\n"
   ]
  },
  {
   "cell_type": "code",
   "execution_count": null,
   "id": "2",
   "metadata": {},
   "outputs": [],
   "source": [
    "import seaborn as sns\n",
    "\n",
    "penguins = sns.load_dataset(\"penguins\")\n",
    "penguins"
   ]
  },
  {
   "cell_type": "markdown",
   "id": "3",
   "metadata": {},
   "source": [
    "# Introduction\n",
    "\n",
    "# Experimental\n",
    "\n",
    "# Results\n",
    "\n",
    "# Discussion\n",
    "\n",
    "# Conclusion\n"
   ]
  }
 ],
 "metadata": {
  "kernelspec": {
   "display_name": "Python 3 (ipykernel)",
   "language": "python",
   "name": "python3"
  },
  "language_info": {
   "codemirror_mode": {
    "name": "ipython",
    "version": 3
   },
   "file_extension": ".py",
   "mimetype": "text/x-python",
   "name": "python",
   "nbconvert_exporter": "python",
   "pygments_lexer": "ipython3",
   "version": "3.12.2"
  }
 },
 "nbformat": 4,
 "nbformat_minor": 5
}
