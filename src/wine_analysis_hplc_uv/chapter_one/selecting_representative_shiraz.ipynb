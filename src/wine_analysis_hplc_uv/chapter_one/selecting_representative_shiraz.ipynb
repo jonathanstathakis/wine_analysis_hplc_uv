{
 "cells": [
  {
   "cell_type": "code",
   "execution_count": null,
   "metadata": {},
   "outputs": [],
   "source": [
    "import duckdb as db\n",
    "import polars as pl\n",
    "import numpy as np\n",
    "import plotnine as p9\n",
    "from wine_analysis_hplc_uv import definitions"
   ]
  },
  {
   "cell_type": "markdown",
   "metadata": {},
   "source": [
    "# Selecting Representative Shiraz\n",
    "\n",
    "This notebook contains the exploration and selection of a representative set of raw detected shiraz samples for display in the section \"Quantiative Analysis\". The intent is to show visually where time domain peak regions exist."
   ]
  },
  {
   "cell_type": "markdown",
   "metadata": {},
   "source": [
    "## Get Data\n",
    "\n",
    "To get the raw shiraz data we will need to join the metadata and chromatospectral data."
   ]
  },
  {
   "cell_type": "code",
   "execution_count": null,
   "metadata": {},
   "outputs": [],
   "source": [
    "def get_raw_shiraz(con: db.DuckDBPyConnection) -> pl.DataFrame:\n",
    "    \"\"\"\n",
    "    extract the raw detected shiraz at 256 nm.\n",
    "    \"\"\"\n",
    "    query = \"\"\"\n",
    "    select\n",
    "        sm.wine as wine,\n",
    "        sm.detection,\n",
    "        sm.samplecode,\n",
    "        sm.sample_num,\n",
    "        cs.idx,\n",
    "        cs.mins,\n",
    "        cs.absorbance\n",
    "    from\n",
    "        pbl.chromatogram_spectra_long as cs\n",
    "    left join\n",
    "        pbl.sample_metadata as sm\n",
    "    on\n",
    "        sm.id=cs.id\n",
    "    where\n",
    "        wavelength=256\n",
    "    and\n",
    "        varietal='shiraz'\n",
    "    and\n",
    "        detection='raw'\n",
    "    and\n",
    "        mins<30\n",
    "    order by\n",
    "        sm.sample_num, cs.idx\n",
    "    \"\"\"\n",
    "\n",
    "    shiraz = con.sql(query)\n",
    "\n",
    "    return shiraz.pl()\n",
    "\n",
    "\n",
    "with db.connect(definitions.DB_PATH) as con:\n",
    "    shiraz = get_raw_shiraz(con=con)\n",
    "shiraz.describe()"
   ]
  },
  {
   "cell_type": "code",
   "execution_count": null,
   "metadata": {},
   "outputs": [],
   "source": [
    "# get the categories sorted from lowest to highest\n",
    "\n",
    "\n",
    "def to_enum(df: pl.DataFrame, col: str):\n",
    "    \"\"\"\n",
    "    cast a column to Enum\n",
    "    \"\"\"\n",
    "    enum_dtype = pl.Enum(df.get_column(col).unique().sort().cast(str))\n",
    "    df_ = df.with_columns(pl.col(col).cast(str).cast(enum_dtype))\n",
    "    return df_\n",
    "\n",
    "\n",
    "shiraz = to_enum(df=shiraz, col=\"sample_num\")\n",
    "shiraz.dtypes"
   ]
  },
  {
   "cell_type": "code",
   "execution_count": null,
   "metadata": {},
   "outputs": [],
   "source": [
    "# plot an overlay of the signals\n",
    "\n",
    "(\n",
    "    p9.ggplot(\n",
    "        shiraz,\n",
    "        p9.aes(x=\"mins\", y=\"absorbance\", color=\"sample_num\"),\n",
    "    )\n",
    "    + p9.geom_line()\n",
    ")"
   ]
  },
  {
   "cell_type": "markdown",
   "metadata": {},
   "source": [
    "This is too much, visually. We want to display 3 samples based on auc, the minima, maxima and median. Also, we need to remove sample 75 as it is bad data relative to the other samples, vastly lacking in intensity and complexity."
   ]
  },
  {
   "cell_type": "markdown",
   "metadata": {},
   "source": [
    "## Dropping Sample 75"
   ]
  },
  {
   "cell_type": "code",
   "execution_count": null,
   "metadata": {},
   "outputs": [],
   "source": [
    "# remove sample 75 and plot again\n",
    "filter_75 = pl.col(\"sample_num\").eq(\"75\")\n",
    "shiraz_without_75 = shiraz.filter(~filter_75)\n",
    "shiraz_without_75.filter(filter_75)\n",
    "\n",
    "(\n",
    "    p9.ggplot(\n",
    "        shiraz_without_75,\n",
    "        p9.aes(x=\"mins\", y=\"absorbance\", color=\"sample_num\"),\n",
    "    )\n",
    "    + p9.geom_line()\n",
    ")"
   ]
  },
  {
   "cell_type": "markdown",
   "metadata": {},
   "source": [
    "## Selecting AUC Distributed Samples\n",
    "\n",
    "As a first base visual display of variation amongst the raw shiraz @ 256nm dataset, we can use the distribution of AUC, namely the minima, median and maxima. This will provide three samples with minimal overlap."
   ]
  },
  {
   "cell_type": "code",
   "execution_count": null,
   "metadata": {},
   "outputs": [],
   "source": [
    "aucs = (\n",
    "    shiraz_without_75.group_by(\"sample_num\")\n",
    "    .agg(\n",
    "        pl.map_groups(\n",
    "            [\"mins\", pl.col(\"absorbance\").sub(pl.col(\"absorbance\").min())],\n",
    "            function=lambda x: np.trapz(x=x[0], y=x[1]),\n",
    "        ).alias(\"auc\")\n",
    "    )\n",
    "    .sort(\"auc\", descending=True)\n",
    ")"
   ]
  },
  {
   "cell_type": "markdown",
   "metadata": {},
   "source": [
    "To rationalise this result, lets compare it with the maxima peak height."
   ]
  },
  {
   "cell_type": "markdown",
   "metadata": {},
   "source": [
    "## Maxima Peak Height"
   ]
  },
  {
   "cell_type": "code",
   "execution_count": null,
   "metadata": {},
   "outputs": [],
   "source": [
    "maximas = shiraz_without_75.group_by(\"sample_num\").agg(\n",
    "    pl.col(\"absorbance\").max().alias(\"maxima_height\")\n",
    ")\n",
    "maximas"
   ]
  },
  {
   "cell_type": "markdown",
   "metadata": {},
   "source": [
    "and we then want to compare auc with height."
   ]
  },
  {
   "cell_type": "markdown",
   "metadata": {},
   "source": [
    "## Comparison AUC vs Maxima Height\n",
    "\n",
    "To compare these two metrics, plot a line of best fit and observe correlation."
   ]
  },
  {
   "cell_type": "code",
   "execution_count": null,
   "metadata": {},
   "outputs": [],
   "source": [
    "def join_auc_and_heights(\n",
    "    auc: pl.DataFrame, height: pl.DataFrame, key: str\n",
    ") -> pl.DataFrame:\n",
    "    \"\"\"\n",
    "    join the two metric frames on `key`\n",
    "    \"\"\"\n",
    "    df_ = auc.join(height, on=key)\n",
    "\n",
    "    return df_\n",
    "\n",
    "\n",
    "metrics = join_auc_and_heights(auc=aucs, height=maximas, key=\"sample_num\").sort(\n",
    "    \"auc\", descending=True\n",
    ")\n",
    "metrics"
   ]
  },
  {
   "cell_type": "code",
   "execution_count": null,
   "metadata": {},
   "outputs": [],
   "source": [
    "# add wine to metrics\n",
    "# TODO: fix this so the sample_num category sorts correctly for the below plot.\n",
    "metrics_with_names = db.sql(\n",
    "    \"\"\"\n",
    "    select\n",
    "        cast(l.sample_num as integer) as sample_num,\n",
    "        r.wine,\n",
    "        l.auc,\n",
    "        l.maxima_height,\n",
    "    from\n",
    "        metrics as l\n",
    "    inner join\n",
    "        (\n",
    "        select\n",
    "            distinct sample_num as sample_num,\n",
    "            wine,\n",
    "        from\n",
    "            shiraz\n",
    "            ) as r\n",
    "    on\n",
    "        l.sample_num=r.sample_num\n",
    "    order by\n",
    "        l.auc\n",
    "    \"\"\"\n",
    ").pl()\n",
    "metrics_with_names = to_enum(metrics_with_names, col=\"sample_num\").sort(\"sample_num\")\n",
    "metrics_with_names"
   ]
  },
  {
   "cell_type": "code",
   "execution_count": null,
   "metadata": {},
   "outputs": [],
   "source": [
    "metrics_with_names"
   ]
  },
  {
   "cell_type": "markdown",
   "metadata": {},
   "source": [
    "### Viz"
   ]
  },
  {
   "cell_type": "code",
   "execution_count": null,
   "metadata": {},
   "outputs": [],
   "source": [
    "def plot_scatter(\n",
    "    metrics: pl.DataFrame, auc_key: str, height_key: str, id_key: str\n",
    ") -> pl.DataFrame:\n",
    "    \"\"\"\n",
    "    plot auc vs height with point labels\n",
    "    \"\"\"\n",
    "\n",
    "    (\n",
    "        p9.ggplot(metrics, p9.aes(height_key, auc_key, label=id_key))\n",
    "        + p9.geom_point(\n",
    "            p9.aes(color=id_key),\n",
    "        )\n",
    "        + p9.geom_text(nudge_y=30)\n",
    "        + p9.ggtitle(\"AUC vs peak maxima height\")\n",
    "        + p9.theme(figure_size=(16, 4))\n",
    "    ).draw(show=True)\n",
    "\n",
    "\n",
    "plot_scatter(\n",
    "    metrics=metrics_with_names,\n",
    "    auc_key=\"auc\",\n",
    "    height_key=\"maxima_height\",\n",
    "    id_key=\"sample_num\",\n",
    ")"
   ]
  },
  {
   "cell_type": "markdown",
   "metadata": {},
   "source": [
    "### Correlation\n",
    "\n",
    "We will calculate the correlation between AUC and peak height as Pearson's correlation coefficient using `scipy.stats.linregress` [docs](https://docs.scipy.org/doc/scipy/reference/generated/scipy.stats.linregress.html)."
   ]
  },
  {
   "cell_type": "code",
   "execution_count": null,
   "metadata": {},
   "outputs": [],
   "source": [
    "from scipy import stats\n",
    "\n",
    "\n",
    "def generate_linear_curve(slope: float, intercept: float, x):\n",
    "    \"\"\"\n",
    "    generate a line of best fit from input slope and intercept and input x\n",
    "    \"\"\"\n",
    "\n",
    "    return slope * x + intercept\n",
    "\n",
    "\n",
    "def calculate_r_squared_annotation_position(\n",
    "    x, y, x_pos: float, y_pos: float\n",
    ") -> dict[str, float]:\n",
    "    \"\"\"\n",
    "    calculate the position of the annotation as a function of the range of x and y.\n",
    "    use `x_pos` and `y_pos` to move the annotation relative to the ranges.\n",
    "    \"\"\"\n",
    "\n",
    "    anno_x = (max(x) - min(x)) * x_pos\n",
    "    anno_y = (max(y) - min(y)) * y_pos\n",
    "\n",
    "    return {\"x\": anno_x, \"y\": anno_y}\n",
    "\n",
    "\n",
    "def plot_metrics_with_lobf_overlay(\n",
    "    df: pl.DataFrame,\n",
    "    lobf,\n",
    "    r_text: str,\n",
    "    x_key: str,\n",
    "    y_key: str,\n",
    "    id_key: str,\n",
    "    label_x: float,\n",
    "    label_y: float,\n",
    "):\n",
    "    \"\"\"\n",
    "    plot x and y variables with a fitted line\n",
    "    \"\"\"\n",
    "\n",
    "    df_ = df.with_columns(lobf=lobf)\n",
    "\n",
    "    r_sq_anno_pos = calculate_r_squared_annotation_position(\n",
    "        x=df[x_key], y=df[y_key], x_pos=label_x, y_pos=label_y\n",
    "    )\n",
    "\n",
    "    (\n",
    "        p9.ggplot(\n",
    "            df_,\n",
    "            p9.aes(\n",
    "                x_key,\n",
    "                y_key,\n",
    "                label=id_key,\n",
    "            ),\n",
    "        )\n",
    "        + p9.geom_line(p9.aes(y=lobf))\n",
    "        + p9.geom_point(\n",
    "            p9.aes(\n",
    "                color=id_key,\n",
    "            )\n",
    "        )\n",
    "        + p9.geom_text(nudge_y=100)\n",
    "        # see <https://ggplot2.tidyverse.org/reference/annotate.html>\n",
    "        + p9.annotate(\n",
    "            x=r_sq_anno_pos[\"x\"],\n",
    "            y=r_sq_anno_pos[\"y\"],\n",
    "            geom=\"label\",\n",
    "            label=f\"$r^2 = {r_text:.3}$\",\n",
    "        )\n",
    "        + p9.ggtitle(\"AUC vs peak maxima height with LOBF\")\n",
    "        + p9.theme(figure_size=(16, 4))\n",
    "    ).draw(show=True)\n",
    "\n",
    "    display(lobf)\n",
    "\n",
    "\n",
    "def fit_metrics(\n",
    "    df: pl.DataFrame, x_key: str, y_key: str, id_key: str, label_x, label_y\n",
    "):\n",
    "    \"\"\"\n",
    "    fit the metrics to find the correlation and display the line of best fit\n",
    "    \"\"\"\n",
    "    x = df.get_column(x_key).to_numpy()\n",
    "    y = df.get_column(y_key).to_numpy()\n",
    "\n",
    "    result = stats.linregress(x=x, y=y)\n",
    "    lobf = generate_linear_curve(slope=result.slope, intercept=result.intercept, x=x)\n",
    "\n",
    "    plot_metrics_with_lobf_overlay(\n",
    "        df=df,\n",
    "        lobf=lobf,\n",
    "        x_key=x_key,\n",
    "        y_key=y_key,\n",
    "        id_key=id_key,\n",
    "        r_text=np.power(result.rvalue, 2),\n",
    "        label_x=label_x,\n",
    "        label_y=label_y,\n",
    "    )  # type: ignore\n",
    "    return result, lobf"
   ]
  },
  {
   "cell_type": "code",
   "execution_count": null,
   "metadata": {},
   "outputs": [],
   "source": [
    "result, lobf = fit_metrics(\n",
    "    df=metrics_with_names,\n",
    "    x_key=\"maxima_height\",\n",
    "    y_key=\"auc\",\n",
    "    id_key=\"sample_num\",\n",
    "    label_y=1.2,\n",
    "    label_x=1.2,\n",
    ")"
   ]
  },
  {
   "cell_type": "code",
   "execution_count": null,
   "metadata": {},
   "outputs": [],
   "source": [
    "metrics_without_6 = metrics_with_names.filter(~pl.col(\"sample_num\").eq(\"6\"))\n",
    "\n",
    "result_without_6, lobf_without_6 = fit_metrics(\n",
    "    df=metrics_without_6,\n",
    "    x_key=\"maxima_height\",\n",
    "    y_key=\"auc\",\n",
    "    id_key=\"sample_num\",\n",
    "    label_y=1.6,\n",
    "    label_x=1.7,\n",
    ")"
   ]
  },
  {
   "cell_type": "code",
   "execution_count": null,
   "metadata": {},
   "outputs": [],
   "source": [
    "from IPython.display import Markdown as md\n",
    "\n",
    "md(\n",
    "    f\"As we can see, the exclusion of sample  of sample 6 decreases the correlation from {np.power(result.rvalue, 2):.3} to {np.power(result_without_6.rvalue, 2):.3}, indicating that sample 6 is an outlier, as we have no reason to suspect that AUC is direclty correlated with peak height.\"\n",
    ")"
   ]
  },
  {
   "cell_type": "markdown",
   "metadata": {},
   "source": [
    "### Outlier Definition and Detection\n",
    "\n",
    "It is obvious from the plot above that sample 6 sits away from the cluster  of other samples"
   ]
  },
  {
   "cell_type": "markdown",
   "metadata": {},
   "source": [
    "## Selecting Representative Samples by AUC\n",
    "\n",
    "To select the representatives we will find the samples possessing the minimum, median and maximum AUC."
   ]
  },
  {
   "cell_type": "code",
   "execution_count": null,
   "metadata": {},
   "outputs": [],
   "source": [
    "# generate a table with the minimum, median and maximum auc samples indicated by 'sample_num'\n",
    "\n",
    "bound_aucs = db.sql(\"\"\"\n",
    "with t1 as (select * from metrics_without_6)\n",
    "select\n",
    "    sample_num,\n",
    "    auc,\n",
    "    'min' as stat\n",
    "from\n",
    "    t1\n",
    "where\n",
    "    auc=(select min(auc) from t1)\n",
    "union\n",
    "    select\n",
    "       sample_num,\n",
    "       auc,\n",
    "       'max' as stat,\n",
    "    from\n",
    "       t1\n",
    "    where\n",
    "        auc=(select max(auc) from t1)\n",
    "union\n",
    "    select\n",
    "       sample_num,\n",
    "       auc,\n",
    "       'median' as stat,\n",
    "    from\n",
    "       t1\n",
    "    where\n",
    "        auc=(select median(auc) from t1)\n",
    "order by\n",
    "       auc\n",
    "\"\"\").pl()\n",
    "\n",
    "bound_aucs"
   ]
  },
  {
   "cell_type": "code",
   "execution_count": null,
   "metadata": {},
   "outputs": [],
   "source": [
    "md(f\"\"\"\n",
    "As can be seen in the table above, sample {bound_aucs.filter(pl.col('stat').eq('min'))['sample_num'].item()} is the minimum with an auc of {bound_aucs.filter(pl.col('stat').eq('min'))['auc'].item():.3} while sample {bound_aucs.filter(pl.col('stat').eq('median'))['sample_num'].item()} with an auc of {bound_aucs.filter(pl.col('stat').eq('median'))['auc'].item():.3} is the median, and finally sample {bound_aucs.filter(pl.col('stat').eq('max'))['sample_num'].item()} is the maximum with an auc of {bound_aucs.filter(pl.col('stat').eq('max'))['auc'].item():.3}.\n",
    "\"\"\")"
   ]
  },
  {
   "cell_type": "markdown",
   "metadata": {},
   "source": [
    "And to demonstrate the plot:"
   ]
  },
  {
   "cell_type": "code",
   "execution_count": null,
   "metadata": {},
   "outputs": [],
   "source": [
    "# filter to the samples present in 'bound_auc' and plot\n",
    "\n",
    "plot_samples = shiraz_without_75.filter(\n",
    "    pl.col(\"sample_num\").is_in(bound_aucs.get_column(\"sample_num\"))\n",
    ")\n",
    "# verify the filtering\n",
    "plot_samples.select(\"sample_num\").unique()"
   ]
  },
  {
   "cell_type": "code",
   "execution_count": null,
   "metadata": {},
   "outputs": [],
   "source": [
    "# generate the plot\n",
    "p = (\n",
    "    p9.ggplot(\n",
    "        to_enum(plot_samples.cast({\"sample_num\": int}), \"sample_num\"),\n",
    "        p9.aes(x=\"mins\", y=\"absorbance\", color=\"sample_num\"),\n",
    "    )\n",
    "    + p9.geom_line()\n",
    "    + p9.scale_x_continuous(breaks=np.arange(0, 30, 2.5))\n",
    "    + p9.ggtitle(\"Minimum, Median, and Maximum AUC 'raw' Shiraz\")\n",
    ")\n",
    "p"
   ]
  },
  {
   "cell_type": "markdown",
   "metadata": {},
   "source": [
    "And output the image as png:"
   ]
  },
  {
   "cell_type": "code",
   "execution_count": null,
   "metadata": {},
   "outputs": [],
   "source": [
    "p.save(\"min_max_median_raw_shiraz.png\")"
   ]
  }
 ],
 "metadata": {
  "kernelspec": {
   "display_name": "wine-analysis-hplc-uv-F-SbhWjO-py3.12",
   "language": "python",
   "name": "python3"
  },
  "language_info": {
   "codemirror_mode": {
    "name": "ipython",
    "version": 3
   },
   "file_extension": ".py",
   "mimetype": "text/x-python",
   "name": "python",
   "nbconvert_exporter": "python",
   "pygments_lexer": "ipython3",
   "version": "3.12.2"
  }
 },
 "nbformat": 4,
 "nbformat_minor": 2
}
