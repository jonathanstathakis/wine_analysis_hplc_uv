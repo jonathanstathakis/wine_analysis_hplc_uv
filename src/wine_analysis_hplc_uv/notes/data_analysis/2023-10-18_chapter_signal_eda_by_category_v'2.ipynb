{
 "cells": [
  {
   "cell_type": "markdown",
   "metadata": {},
   "source": [
    "2023-10-18 Due to the fact that I am prototyping a lot of code and changing approaches (multiindex column default to long defaul primarily), literate progrmaming style is failing, re. version one of this notebook is somewhat unsalvagable - a testament to why rushing always fails in the end. At some point I'll have to go through and fix it. in the meantime, copy code over and push ON."
   ]
  },
  {
   "cell_type": "code",
   "execution_count": 11,
   "metadata": {},
   "outputs": [
    {
     "data": {
      "text/html": [
       "<div>\n",
       "<style scoped>\n",
       "    .dataframe tbody tr th:only-of-type {\n",
       "        vertical-align: middle;\n",
       "    }\n",
       "\n",
       "    .dataframe tbody tr th {\n",
       "        vertical-align: top;\n",
       "    }\n",
       "\n",
       "    .dataframe thead tr th {\n",
       "        text-align: left;\n",
       "    }\n",
       "\n",
       "    .dataframe thead tr:last-of-type th {\n",
       "        text-align: right;\n",
       "    }\n",
       "</style>\n",
       "<table border=\"1\" class=\"dataframe\">\n",
       "  <thead>\n",
       "    <tr>\n",
       "      <th>samplecode</th>\n",
       "      <th colspan=\"2\" halign=\"left\">154</th>\n",
       "      <th colspan=\"2\" halign=\"left\">176</th>\n",
       "      <th colspan=\"2\" halign=\"left\">177</th>\n",
       "      <th colspan=\"2\" halign=\"left\">torbreck-struie</th>\n",
       "    </tr>\n",
       "    <tr>\n",
       "      <th>wine</th>\n",
       "      <th colspan=\"2\" halign=\"left\">2020 leeuwin estate shiraz art series</th>\n",
       "      <th colspan=\"2\" halign=\"left\">2021 john duval wines shiraz concilio</th>\n",
       "      <th colspan=\"2\" halign=\"left\">2021 torbreck shiraz the struie</th>\n",
       "      <th colspan=\"2\" halign=\"left\">2021 torbreck shiraz the struie</th>\n",
       "    </tr>\n",
       "    <tr>\n",
       "      <th>vars</th>\n",
       "      <th>mins</th>\n",
       "      <th>value</th>\n",
       "      <th>mins</th>\n",
       "      <th>value</th>\n",
       "      <th>mins</th>\n",
       "      <th>value</th>\n",
       "      <th>mins</th>\n",
       "      <th>value</th>\n",
       "    </tr>\n",
       "    <tr>\n",
       "      <th>i</th>\n",
       "      <th></th>\n",
       "      <th></th>\n",
       "      <th></th>\n",
       "      <th></th>\n",
       "      <th></th>\n",
       "      <th></th>\n",
       "      <th></th>\n",
       "      <th></th>\n",
       "    </tr>\n",
       "  </thead>\n",
       "  <tbody>\n",
       "    <tr>\n",
       "      <th>0</th>\n",
       "      <td>0.002500</td>\n",
       "      <td>2.260849</td>\n",
       "      <td>0.006450</td>\n",
       "      <td>2.392285</td>\n",
       "      <td>0.006667</td>\n",
       "      <td>1.575358</td>\n",
       "      <td>0.005617</td>\n",
       "      <td>4.086323</td>\n",
       "    </tr>\n",
       "    <tr>\n",
       "      <th>1</th>\n",
       "      <td>0.009167</td>\n",
       "      <td>2.960749</td>\n",
       "      <td>0.013117</td>\n",
       "      <td>2.801619</td>\n",
       "      <td>0.013333</td>\n",
       "      <td>1.721062</td>\n",
       "      <td>0.012283</td>\n",
       "      <td>5.644433</td>\n",
       "    </tr>\n",
       "    <tr>\n",
       "      <th>2</th>\n",
       "      <td>0.015833</td>\n",
       "      <td>3.189206</td>\n",
       "      <td>0.019783</td>\n",
       "      <td>2.718344</td>\n",
       "      <td>0.020000</td>\n",
       "      <td>1.598060</td>\n",
       "      <td>0.018950</td>\n",
       "      <td>6.435014</td>\n",
       "    </tr>\n",
       "    <tr>\n",
       "      <th>3</th>\n",
       "      <td>0.022500</td>\n",
       "      <td>3.115371</td>\n",
       "      <td>0.026450</td>\n",
       "      <td>2.283610</td>\n",
       "      <td>0.026667</td>\n",
       "      <td>1.263864</td>\n",
       "      <td>0.025617</td>\n",
       "      <td>6.426491</td>\n",
       "    </tr>\n",
       "    <tr>\n",
       "      <th>4</th>\n",
       "      <td>0.029167</td>\n",
       "      <td>2.675273</td>\n",
       "      <td>0.033117</td>\n",
       "      <td>1.402728</td>\n",
       "      <td>0.033333</td>\n",
       "      <td>0.653356</td>\n",
       "      <td>0.032283</td>\n",
       "      <td>5.574182</td>\n",
       "    </tr>\n",
       "  </tbody>\n",
       "</table>\n",
       "</div>"
      ],
      "text/plain": [
       "samplecode                                   154            \\\n",
       "wine       2020 leeuwin estate shiraz art series             \n",
       "vars                                        mins     value   \n",
       "i                                                            \n",
       "0                                       0.002500  2.260849   \n",
       "1                                       0.009167  2.960749   \n",
       "2                                       0.015833  3.189206   \n",
       "3                                       0.022500  3.115371   \n",
       "4                                       0.029167  2.675273   \n",
       "\n",
       "samplecode                                   176            \\\n",
       "wine       2021 john duval wines shiraz concilio             \n",
       "vars                                        mins     value   \n",
       "i                                                            \n",
       "0                                       0.006450  2.392285   \n",
       "1                                       0.013117  2.801619   \n",
       "2                                       0.019783  2.718344   \n",
       "3                                       0.026450  2.283610   \n",
       "4                                       0.033117  1.402728   \n",
       "\n",
       "samplecode                             177            \\\n",
       "wine       2021 torbreck shiraz the struie             \n",
       "vars                                  mins     value   \n",
       "i                                                      \n",
       "0                                 0.006667  1.575358   \n",
       "1                                 0.013333  1.721062   \n",
       "2                                 0.020000  1.598060   \n",
       "3                                 0.026667  1.263864   \n",
       "4                                 0.033333  0.653356   \n",
       "\n",
       "samplecode                 torbreck-struie            \n",
       "wine       2021 torbreck shiraz the struie            \n",
       "vars                                  mins     value  \n",
       "i                                                     \n",
       "0                                 0.005617  4.086323  \n",
       "1                                 0.012283  5.644433  \n",
       "2                                 0.018950  6.435014  \n",
       "3                                 0.025617  6.426491  \n",
       "4                                 0.032283  5.574182  "
      ]
     },
     "execution_count": 11,
     "metadata": {},
     "output_type": "execute_result"
    }
   ],
   "source": [
    "%reload_ext autoreload\n",
    "%autoreload 2\n",
    "\n",
    "# set up environment\n",
    "import pandas as pd\n",
    "from wine_analysis_hplc_uv import definitions\n",
    "import seaborn.objects as so\n",
    "from wine_analysis_hplc_uv.old_signal_processing.signal_processor import (\n",
    "    SignalProcessor,\n",
    ")\n",
    "from wine_analysis_hplc_uv.notes.data_analysis import eda_by_category_methods\n",
    "\n",
    "plotter = eda_by_category_methods.Plotting()\n",
    "\n",
    "scipro = SignalProcessor()\n",
    "data = pd.read_parquet(definitions.RAW_PARQ_PATH)\n",
    "data.head()"
   ]
  },
  {
   "cell_type": "markdown",
   "metadata": {},
   "source": [
    "As we can see, no effect. The smoothing necessary to remove those detected peaks will result in unsatisfactory loss of signal information. Ergo better to use constraints in the peak detection algo. Also, remaining in simple long form with no multiindex massively reduces reshaping overhead and makes UDF functions much simpler to define..\n",
    "\n",
    "Now lets add kwargs for peak finder.. added."
   ]
  },
  {
   "cell_type": "code",
   "execution_count": 13,
   "metadata": {},
   "outputs": [
    {
     "name": "stderr",
     "output_type": "stream",
     "text": [
      "/Users/jonathan/mres_thesis/wine_analysis_hplc_uv/src/wine_analysis_hplc_uv/old_signal_processing/sigpro_methods/standardize_time.py:53: FutureWarning: The previous implementation of stack is deprecated and will be removed in a future version of pandas. See the What's New notes for pandas 2.1.0 for details. Specify future_stack=True to adopt the new implementation and silence this warning.\n",
      "  \"\"\"\n"
     ]
    },
    {
     "ename": "AttributeError",
     "evalue": "'DataFrame' object has no attribute 'set_index'",
     "output_type": "error",
     "traceback": [
      "\u001b[0;31m---------------------------------------------------------------------------\u001b[0m",
      "\u001b[0;31mAttributeError\u001b[0m                            Traceback (most recent call last)",
      "\u001b[1;32m/Users/jonathan/mres_thesis/wine_analysis_hplc_uv/src/wine_analysis_hplc_uv/notes/data_analysis/2023-10-18_chapter_signal_eda_by_category_v'2.ipynb Cell 4\u001b[0m line \u001b[0;36m3\n\u001b[1;32m      <a href='vscode-notebook-cell:/Users/jonathan/mres_thesis/wine_analysis_hplc_uv/src/wine_analysis_hplc_uv/notes/data_analysis/2023-10-18_chapter_signal_eda_by_category_v%272.ipynb#W4sZmlsZQ%3D%3D?line=0'>1</a>\u001b[0m \u001b[39m# time std and drop vars level\u001b[39;00m\n\u001b[1;32m      <a href='vscode-notebook-cell:/Users/jonathan/mres_thesis/wine_analysis_hplc_uv/src/wine_analysis_hplc_uv/notes/data_analysis/2023-10-18_chapter_signal_eda_by_category_v%272.ipynb#W4sZmlsZQ%3D%3D?line=1'>2</a>\u001b[0m dtwprocess \u001b[39m=\u001b[39m eda_by_category_methods\u001b[39m.\u001b[39mDTWProcessing()\n\u001b[0;32m----> <a href='vscode-notebook-cell:/Users/jonathan/mres_thesis/wine_analysis_hplc_uv/src/wine_analysis_hplc_uv/notes/data_analysis/2023-10-18_chapter_signal_eda_by_category_v%272.ipynb#W4sZmlsZQ%3D%3D?line=2'>3</a>\u001b[0m sdata \u001b[39m=\u001b[39m dtwprocess\u001b[39m.\u001b[39;49mstd_time(data)\n\u001b[1;32m      <a href='vscode-notebook-cell:/Users/jonathan/mres_thesis/wine_analysis_hplc_uv/src/wine_analysis_hplc_uv/notes/data_analysis/2023-10-18_chapter_signal_eda_by_category_v%272.ipynb#W4sZmlsZQ%3D%3D?line=3'>4</a>\u001b[0m sdata\u001b[39m.\u001b[39mhead()\n",
      "File \u001b[0;32m~/mres_thesis/wine_analysis_hplc_uv/src/wine_analysis_hplc_uv/notes/data_analysis/eda_by_category_methods.py:79\u001b[0m, in \u001b[0;36mDTWProcessing.std_time\u001b[0;34m(self, data)\u001b[0m\n\u001b[1;32m     76\u001b[0m \u001b[39mdef\u001b[39;00m \u001b[39mstd_time\u001b[39m(\u001b[39mself\u001b[39m, data):\n\u001b[1;32m     77\u001b[0m     odata \u001b[39m=\u001b[39m (\n\u001b[1;32m     78\u001b[0m         data\u001b[39m.\u001b[39;49mdropna()\n\u001b[0;32m---> 79\u001b[0m         \u001b[39m.\u001b[39;49mpipe(scipro\u001b[39m.\u001b[39;49mstandardize_time)\n\u001b[1;32m     80\u001b[0m         \u001b[39m.\u001b[39mpipe(\u001b[39mlambda\u001b[39;00m df: df\u001b[39m.\u001b[39mset_axis(axis\u001b[39m=\u001b[39m\u001b[39m0\u001b[39m, labels\u001b[39m=\u001b[39mdf\u001b[39m.\u001b[39mindex\u001b[39m.\u001b[39mtotal_seconds() \u001b[39m/\u001b[39m \u001b[39m60\u001b[39m))\n\u001b[1;32m     81\u001b[0m         \u001b[39m.\u001b[39mdroplevel(\u001b[39m\"\u001b[39m\u001b[39mvars\u001b[39m\u001b[39m\"\u001b[39m, axis\u001b[39m=\u001b[39m\u001b[39m1\u001b[39m)\n\u001b[1;32m     82\u001b[0m     )\n\u001b[1;32m     84\u001b[0m     \u001b[39mreturn\u001b[39;00m odata\n",
      "File \u001b[0;32m~/Library/Caches/pypoetry/virtualenvs/wine-analysis-hplc-uv-F-SbhWjO-py3.12/lib/python3.12/site-packages/pandas/core/generic.py:6231\u001b[0m, in \u001b[0;36mNDFrame.pipe\u001b[0;34m(self, func, *args, **kwargs)\u001b[0m\n\u001b[1;32m   6229\u001b[0m \u001b[39mif\u001b[39;00m using_copy_on_write():\n\u001b[1;32m   6230\u001b[0m     \u001b[39mreturn\u001b[39;00m common\u001b[39m.\u001b[39mpipe(\u001b[39mself\u001b[39m\u001b[39m.\u001b[39mcopy(deep\u001b[39m=\u001b[39m\u001b[39mNone\u001b[39;00m), func, \u001b[39m*\u001b[39margs, \u001b[39m*\u001b[39m\u001b[39m*\u001b[39mkwargs)\n\u001b[0;32m-> 6231\u001b[0m \u001b[39mreturn\u001b[39;00m common\u001b[39m.\u001b[39;49mpipe(\u001b[39mself\u001b[39;49m, func, \u001b[39m*\u001b[39;49margs, \u001b[39m*\u001b[39;49m\u001b[39m*\u001b[39;49mkwargs)\n",
      "File \u001b[0;32m~/Library/Caches/pypoetry/virtualenvs/wine-analysis-hplc-uv-F-SbhWjO-py3.12/lib/python3.12/site-packages/pandas/core/common.py:502\u001b[0m, in \u001b[0;36mpipe\u001b[0;34m(obj, func, *args, **kwargs)\u001b[0m\n\u001b[1;32m    500\u001b[0m     \u001b[39mreturn\u001b[39;00m func(\u001b[39m*\u001b[39margs, \u001b[39m*\u001b[39m\u001b[39m*\u001b[39mkwargs)\n\u001b[1;32m    501\u001b[0m \u001b[39melse\u001b[39;00m:\n\u001b[0;32m--> 502\u001b[0m     \u001b[39mreturn\u001b[39;00m func(obj, \u001b[39m*\u001b[39;49margs, \u001b[39m*\u001b[39;49m\u001b[39m*\u001b[39;49mkwargs)\n",
      "File \u001b[0;32m~/mres_thesis/wine_analysis_hplc_uv/src/wine_analysis_hplc_uv/old_signal_processing/signal_processor.py:71\u001b[0m, in \u001b[0;36mSignalProcessor.standardize_time\u001b[0;34m(self, df)\u001b[0m\n\u001b[1;32m     66\u001b[0m \u001b[39mdef\u001b[39;00m \u001b[39mstandardize_time\u001b[39m(\u001b[39mself\u001b[39m, df: pd\u001b[39m.\u001b[39mDataFrame) \u001b[39m-\u001b[39m\u001b[39m>\u001b[39m pd\u001b[39m.\u001b[39mDataFrame:\n\u001b[1;32m     67\u001b[0m \u001b[39m    \u001b[39m\u001b[39m\"\"\"\u001b[39;00m\n\u001b[1;32m     68\u001b[0m \u001b[39m    standardize time axis\u001b[39;00m\n\u001b[1;32m     69\u001b[0m \u001b[39m    \"\"\"\u001b[39;00m\n\u001b[0;32m---> 71\u001b[0m     df_ \u001b[39m=\u001b[39m df\u001b[39m.\u001b[39;49mpipe(sigpro_methods\u001b[39m.\u001b[39;49mstandardize_time\u001b[39m.\u001b[39;49mstandardize_time)\n\u001b[1;32m     73\u001b[0m     \u001b[39mreturn\u001b[39;00m df_\n",
      "File \u001b[0;32m~/Library/Caches/pypoetry/virtualenvs/wine-analysis-hplc-uv-F-SbhWjO-py3.12/lib/python3.12/site-packages/pandas/core/generic.py:6231\u001b[0m, in \u001b[0;36mNDFrame.pipe\u001b[0;34m(self, func, *args, **kwargs)\u001b[0m\n\u001b[1;32m   6229\u001b[0m \u001b[39mif\u001b[39;00m using_copy_on_write():\n\u001b[1;32m   6230\u001b[0m     \u001b[39mreturn\u001b[39;00m common\u001b[39m.\u001b[39mpipe(\u001b[39mself\u001b[39m\u001b[39m.\u001b[39mcopy(deep\u001b[39m=\u001b[39m\u001b[39mNone\u001b[39;00m), func, \u001b[39m*\u001b[39margs, \u001b[39m*\u001b[39m\u001b[39m*\u001b[39mkwargs)\n\u001b[0;32m-> 6231\u001b[0m \u001b[39mreturn\u001b[39;00m common\u001b[39m.\u001b[39;49mpipe(\u001b[39mself\u001b[39;49m, func, \u001b[39m*\u001b[39;49margs, \u001b[39m*\u001b[39;49m\u001b[39m*\u001b[39;49mkwargs)\n",
      "File \u001b[0;32m~/Library/Caches/pypoetry/virtualenvs/wine-analysis-hplc-uv-F-SbhWjO-py3.12/lib/python3.12/site-packages/pandas/core/common.py:502\u001b[0m, in \u001b[0;36mpipe\u001b[0;34m(obj, func, *args, **kwargs)\u001b[0m\n\u001b[1;32m    500\u001b[0m     \u001b[39mreturn\u001b[39;00m func(\u001b[39m*\u001b[39margs, \u001b[39m*\u001b[39m\u001b[39m*\u001b[39mkwargs)\n\u001b[1;32m    501\u001b[0m \u001b[39melse\u001b[39;00m:\n\u001b[0;32m--> 502\u001b[0m     \u001b[39mreturn\u001b[39;00m func(obj, \u001b[39m*\u001b[39;49margs, \u001b[39m*\u001b[39;49m\u001b[39m*\u001b[39;49mkwargs)\n",
      "File \u001b[0;32m~/mres_thesis/wine_analysis_hplc_uv/src/wine_analysis_hplc_uv/old_signal_processing/sigpro_methods/standardize_time.py:35\u001b[0m, in \u001b[0;36mstandardize_time\u001b[0;34m(df)\u001b[0m\n\u001b[1;32m      9\u001b[0m \u001b[39m\u001b[39m\u001b[39m\"\"\"\u001b[39;00m\n\u001b[1;32m     10\u001b[0m \u001b[39mTake a tidy format df of column levels ['samplecode','wine','vars'] and vars\u001b[39;00m\n\u001b[1;32m     11\u001b[0m \u001b[39mof ['mins','value'] with 'i' index and return a df of same format but 'mins'\u001b[39;00m\n\u001b[0;32m   (...)\u001b[0m\n\u001b[1;32m     25\u001b[0m \u001b[39mTest by asserting the geometry changes as expected.\u001b[39;00m\n\u001b[1;32m     26\u001b[0m \u001b[39m\"\"\"\u001b[39;00m\n\u001b[1;32m     28\u001b[0m \u001b[39m# store to test the transformation later\u001b[39;00m\n\u001b[1;32m     30\u001b[0m df_ \u001b[39m=\u001b[39m (\n\u001b[1;32m     31\u001b[0m     df\u001b[39m.\u001b[39;49mpipe(from_multiindex_col_to_long_df)\n\u001b[1;32m     32\u001b[0m     \u001b[39m.\u001b[39;49mpipe(set_df_dtypes)\n\u001b[1;32m     33\u001b[0m     \u001b[39m.\u001b[39;49mpipe(correct_float_error)\n\u001b[1;32m     34\u001b[0m     \u001b[39m.\u001b[39;49mpipe(correct_zero_offset)\n\u001b[0;32m---> 35\u001b[0m     \u001b[39m.\u001b[39;49mpipe(move_to_universal_index)\n\u001b[1;32m     36\u001b[0m     \u001b[39m.\u001b[39mpipe(resample_to_mean_frequency)\n\u001b[1;32m     37\u001b[0m )\n\u001b[1;32m     39\u001b[0m \u001b[39m# a rudimentary transformation test. As we are expecting the same number of rows\u001b[39;00m\n\u001b[1;32m     40\u001b[0m \u001b[39m# after the transformation, test that. We're also expecting the number of columns\u001b[39;00m\n\u001b[1;32m     41\u001b[0m \u001b[39m# to be halved as we move from intra-sample 'mins' columns to 1 mins index which\u001b[39;00m\n\u001b[1;32m     42\u001b[0m \u001b[39m# is replacing 'i'.\u001b[39;00m\n\u001b[1;32m     44\u001b[0m \u001b[39mreturn\u001b[39;00m df_\n",
      "File \u001b[0;32m~/Library/Caches/pypoetry/virtualenvs/wine-analysis-hplc-uv-F-SbhWjO-py3.12/lib/python3.12/site-packages/polars/dataframe/frame.py:5379\u001b[0m, in \u001b[0;36mDataFrame.pipe\u001b[0;34m(self, function, *args, **kwargs)\u001b[0m\n\u001b[1;32m   5314\u001b[0m \u001b[39mdef\u001b[39;00m \u001b[39mpipe\u001b[39m(\n\u001b[1;32m   5315\u001b[0m     \u001b[39mself\u001b[39m,\n\u001b[1;32m   5316\u001b[0m     function: Callable[Concatenate[DataFrame, P], T],\n\u001b[1;32m   5317\u001b[0m     \u001b[39m*\u001b[39margs: P\u001b[39m.\u001b[39margs,\n\u001b[1;32m   5318\u001b[0m     \u001b[39m*\u001b[39m\u001b[39m*\u001b[39mkwargs: P\u001b[39m.\u001b[39mkwargs,\n\u001b[1;32m   5319\u001b[0m ) \u001b[39m-\u001b[39m\u001b[39m>\u001b[39m T:\n\u001b[1;32m   5320\u001b[0m \u001b[39m    \u001b[39m\u001b[39m\"\"\"\u001b[39;00m\n\u001b[1;32m   5321\u001b[0m \u001b[39m    Offers a structured way to apply a sequence of user-defined functions (UDFs).\u001b[39;00m\n\u001b[1;32m   5322\u001b[0m \n\u001b[0;32m   (...)\u001b[0m\n\u001b[1;32m   5377\u001b[0m \u001b[39m    └─────┴─────┘\u001b[39;00m\n\u001b[1;32m   5378\u001b[0m \u001b[39m    \"\"\"\u001b[39;00m\n\u001b[0;32m-> 5379\u001b[0m     \u001b[39mreturn\u001b[39;00m function(\u001b[39mself\u001b[39;49m, \u001b[39m*\u001b[39;49margs, \u001b[39m*\u001b[39;49m\u001b[39m*\u001b[39;49mkwargs)\n",
      "File \u001b[0;32m~/mres_thesis/wine_analysis_hplc_uv/src/wine_analysis_hplc_uv/old_signal_processing/sigpro_methods/standardize_time.py:131\u001b[0m, in \u001b[0;36mmove_to_universal_index\u001b[0;34m(df)\u001b[0m\n\u001b[1;32m    126\u001b[0m \u001b[39mdef\u001b[39;00m \u001b[39mmove_to_universal_index\u001b[39m(df: pd\u001b[39m.\u001b[39mDataFrame) \u001b[39m-\u001b[39m\u001b[39m>\u001b[39m pd\u001b[39m.\u001b[39mDataFrame:\n\u001b[1;32m    127\u001b[0m \u001b[39m    \u001b[39m\u001b[39m\"\"\"\u001b[39;00m\n\u001b[1;32m    128\u001b[0m \u001b[39m    move to a universal time index\u001b[39;00m\n\u001b[1;32m    129\u001b[0m \u001b[39m    \"\"\"\u001b[39;00m\n\u001b[0;32m--> 131\u001b[0m     df_ \u001b[39m=\u001b[39m df\u001b[39m.\u001b[39;49mpipe(\n\u001b[1;32m    132\u001b[0m         \u001b[39mlambda\u001b[39;49;00m df: df\u001b[39m.\u001b[39;49mset_index(\u001b[39m\"\u001b[39;49m\u001b[39mmins\u001b[39;49m\u001b[39m\"\u001b[39;49m, append\u001b[39m=\u001b[39;49m\u001b[39mTrue\u001b[39;49;00m)\u001b[39m.\u001b[39;49mreset_index(\u001b[39m\"\u001b[39;49m\u001b[39mi\u001b[39;49m\u001b[39m\"\u001b[39;49m, drop\u001b[39m=\u001b[39;49m\u001b[39mTrue\u001b[39;49;00m)\n\u001b[1;32m    133\u001b[0m     )\n\u001b[1;32m    135\u001b[0m     df_ \u001b[39m=\u001b[39m (\n\u001b[1;32m    136\u001b[0m         df_\u001b[39m.\u001b[39munstack([\u001b[39m\"\u001b[39m\u001b[39msamplecode\u001b[39m\u001b[39m\"\u001b[39m, \u001b[39m\"\u001b[39m\u001b[39mwine\u001b[39m\u001b[39m\"\u001b[39m])\n\u001b[1;32m    137\u001b[0m         \u001b[39m.\u001b[39mreorder_levels([\u001b[39m\"\u001b[39m\u001b[39msamplecode\u001b[39m\u001b[39m\"\u001b[39m, \u001b[39m\"\u001b[39m\u001b[39mwine\u001b[39m\u001b[39m\"\u001b[39m, \u001b[39m\"\u001b[39m\u001b[39mvars\u001b[39m\u001b[39m\"\u001b[39m], axis\u001b[39m=\u001b[39m\u001b[39m1\u001b[39m)\n\u001b[1;32m    138\u001b[0m         \u001b[39m.\u001b[39msort_index(axis\u001b[39m=\u001b[39m\u001b[39m1\u001b[39m, level\u001b[39m=\u001b[39m\u001b[39m1\u001b[39m, sort_remaining\u001b[39m=\u001b[39m\u001b[39mTrue\u001b[39;00m)\n\u001b[1;32m    139\u001b[0m     )\n\u001b[1;32m    141\u001b[0m     \u001b[39mreturn\u001b[39;00m df_\n",
      "File \u001b[0;32m~/Library/Caches/pypoetry/virtualenvs/wine-analysis-hplc-uv-F-SbhWjO-py3.12/lib/python3.12/site-packages/polars/dataframe/frame.py:5379\u001b[0m, in \u001b[0;36mDataFrame.pipe\u001b[0;34m(self, function, *args, **kwargs)\u001b[0m\n\u001b[1;32m   5314\u001b[0m \u001b[39mdef\u001b[39;00m \u001b[39mpipe\u001b[39m(\n\u001b[1;32m   5315\u001b[0m     \u001b[39mself\u001b[39m,\n\u001b[1;32m   5316\u001b[0m     function: Callable[Concatenate[DataFrame, P], T],\n\u001b[1;32m   5317\u001b[0m     \u001b[39m*\u001b[39margs: P\u001b[39m.\u001b[39margs,\n\u001b[1;32m   5318\u001b[0m     \u001b[39m*\u001b[39m\u001b[39m*\u001b[39mkwargs: P\u001b[39m.\u001b[39mkwargs,\n\u001b[1;32m   5319\u001b[0m ) \u001b[39m-\u001b[39m\u001b[39m>\u001b[39m T:\n\u001b[1;32m   5320\u001b[0m \u001b[39m    \u001b[39m\u001b[39m\"\"\"\u001b[39;00m\n\u001b[1;32m   5321\u001b[0m \u001b[39m    Offers a structured way to apply a sequence of user-defined functions (UDFs).\u001b[39;00m\n\u001b[1;32m   5322\u001b[0m \n\u001b[0;32m   (...)\u001b[0m\n\u001b[1;32m   5377\u001b[0m \u001b[39m    └─────┴─────┘\u001b[39;00m\n\u001b[1;32m   5378\u001b[0m \u001b[39m    \"\"\"\u001b[39;00m\n\u001b[0;32m-> 5379\u001b[0m     \u001b[39mreturn\u001b[39;00m function(\u001b[39mself\u001b[39;49m, \u001b[39m*\u001b[39;49margs, \u001b[39m*\u001b[39;49m\u001b[39m*\u001b[39;49mkwargs)\n",
      "File \u001b[0;32m~/mres_thesis/wine_analysis_hplc_uv/src/wine_analysis_hplc_uv/old_signal_processing/sigpro_methods/standardize_time.py:132\u001b[0m, in \u001b[0;36mmove_to_universal_index.<locals>.<lambda>\u001b[0;34m(df)\u001b[0m\n\u001b[1;32m    126\u001b[0m \u001b[39mdef\u001b[39;00m \u001b[39mmove_to_universal_index\u001b[39m(df: pd\u001b[39m.\u001b[39mDataFrame) \u001b[39m-\u001b[39m\u001b[39m>\u001b[39m pd\u001b[39m.\u001b[39mDataFrame:\n\u001b[1;32m    127\u001b[0m \u001b[39m    \u001b[39m\u001b[39m\"\"\"\u001b[39;00m\n\u001b[1;32m    128\u001b[0m \u001b[39m    move to a universal time index\u001b[39;00m\n\u001b[1;32m    129\u001b[0m \u001b[39m    \"\"\"\u001b[39;00m\n\u001b[1;32m    131\u001b[0m     df_ \u001b[39m=\u001b[39m df\u001b[39m.\u001b[39mpipe(\n\u001b[0;32m--> 132\u001b[0m         \u001b[39mlambda\u001b[39;00m df: df\u001b[39m.\u001b[39;49mset_index(\u001b[39m\"\u001b[39m\u001b[39mmins\u001b[39m\u001b[39m\"\u001b[39m, append\u001b[39m=\u001b[39m\u001b[39mTrue\u001b[39;00m)\u001b[39m.\u001b[39mreset_index(\u001b[39m\"\u001b[39m\u001b[39mi\u001b[39m\u001b[39m\"\u001b[39m, drop\u001b[39m=\u001b[39m\u001b[39mTrue\u001b[39;00m)\n\u001b[1;32m    133\u001b[0m     )\n\u001b[1;32m    135\u001b[0m     df_ \u001b[39m=\u001b[39m (\n\u001b[1;32m    136\u001b[0m         df_\u001b[39m.\u001b[39munstack([\u001b[39m\"\u001b[39m\u001b[39msamplecode\u001b[39m\u001b[39m\"\u001b[39m, \u001b[39m\"\u001b[39m\u001b[39mwine\u001b[39m\u001b[39m\"\u001b[39m])\n\u001b[1;32m    137\u001b[0m         \u001b[39m.\u001b[39mreorder_levels([\u001b[39m\"\u001b[39m\u001b[39msamplecode\u001b[39m\u001b[39m\"\u001b[39m, \u001b[39m\"\u001b[39m\u001b[39mwine\u001b[39m\u001b[39m\"\u001b[39m, \u001b[39m\"\u001b[39m\u001b[39mvars\u001b[39m\u001b[39m\"\u001b[39m], axis\u001b[39m=\u001b[39m\u001b[39m1\u001b[39m)\n\u001b[1;32m    138\u001b[0m         \u001b[39m.\u001b[39msort_index(axis\u001b[39m=\u001b[39m\u001b[39m1\u001b[39m, level\u001b[39m=\u001b[39m\u001b[39m1\u001b[39m, sort_remaining\u001b[39m=\u001b[39m\u001b[39mTrue\u001b[39;00m)\n\u001b[1;32m    139\u001b[0m     )\n\u001b[1;32m    141\u001b[0m     \u001b[39mreturn\u001b[39;00m df_\n",
      "\u001b[0;31mAttributeError\u001b[0m: 'DataFrame' object has no attribute 'set_index'"
     ]
    }
   ],
   "source": [
    "# time std and drop vars level\n",
    "dtwprocess = eda_by_category_methods.DTWProcessing()\n",
    "sdata = dtwprocess.std_time(data)\n",
    "sdata.head()"
   ]
  },
  {
   "cell_type": "code",
   "execution_count": 4,
   "metadata": {},
   "outputs": [
    {
     "ename": "NameError",
     "evalue": "name 'sdata' is not defined",
     "output_type": "error",
     "traceback": [
      "\u001b[0;31m---------------------------------------------------------------------------\u001b[0m",
      "\u001b[0;31mNameError\u001b[0m                                 Traceback (most recent call last)",
      "\u001b[1;32m/Users/jonathan/mres_thesis/wine_analysis_hplc_uv/src/wine_analysis_hplc_uv/notes/data_analysis/2023-10-18_chapter_signal_eda_by_category_v2.ipynb Cell 5\u001b[0m line \u001b[0;36m3\n\u001b[1;32m      <a href='vscode-notebook-cell:/Users/jonathan/mres_thesis/wine_analysis_hplc_uv/src/wine_analysis_hplc_uv/notes/data_analysis/2023-10-18_chapter_signal_eda_by_category_v2.ipynb#W4sZmlsZQ%3D%3D?line=0'>1</a>\u001b[0m \u001b[39m# smooth\u001b[39;00m\n\u001b[0;32m----> <a href='vscode-notebook-cell:/Users/jonathan/mres_thesis/wine_analysis_hplc_uv/src/wine_analysis_hplc_uv/notes/data_analysis/2023-10-18_chapter_signal_eda_by_category_v2.ipynb#W4sZmlsZQ%3D%3D?line=2'>3</a>\u001b[0m smdata \u001b[39m=\u001b[39m dtwprocess\u001b[39m.\u001b[39msmooth(sdata, \u001b[39m\"\u001b[39m\u001b[39msamplecode\u001b[39m\u001b[39m\"\u001b[39m, \u001b[39m\"\u001b[39m\u001b[39msignal\u001b[39m\u001b[39m\"\u001b[39m, \u001b[39m\"\u001b[39m\u001b[39msmooth_signal\u001b[39m\u001b[39m\"\u001b[39m)\n\u001b[1;32m      <a href='vscode-notebook-cell:/Users/jonathan/mres_thesis/wine_analysis_hplc_uv/src/wine_analysis_hplc_uv/notes/data_analysis/2023-10-18_chapter_signal_eda_by_category_v2.ipynb#W4sZmlsZQ%3D%3D?line=3'>4</a>\u001b[0m smdata\u001b[39m.\u001b[39mhead()\n",
      "\u001b[0;31mNameError\u001b[0m: name 'sdata' is not defined"
     ]
    }
   ],
   "source": [
    "# smooth\n",
    "\n",
    "smdata = dtwprocess.smooth(sdata, \"samplecode\", \"signal\", \"smooth_signal\")\n",
    "smdata.head()"
   ]
  },
  {
   "cell_type": "code",
   "execution_count": null,
   "metadata": {},
   "outputs": [],
   "source": [
    "# add bline\n",
    "\n",
    "bcdata = dtwprocess.blinecorr(\n",
    "    smdata, \"samplecode\", \"smooth_signal\", bcorr_label=\"bcorr\"\n",
    ")\n",
    "\n",
    "bcdata.head()"
   ]
  },
  {
   "cell_type": "code",
   "execution_count": null,
   "metadata": {},
   "outputs": [],
   "source": [
    "# plot baseline correction\n",
    "\n",
    "(\n",
    "    bcdata.melt(\n",
    "        id_vars=[\"samplecode\", \"wine\", \"mins\"], var_name=\"siglabel\", value_name=\"sig\"\n",
    "    ).pipe(\n",
    "        lambda df: so.Plot(data=df, x=\"mins\", y=\"sig\", color=\"siglabel\")\n",
    "        .facet(col=\"samplecode\", wrap=2)\n",
    "        .add(mark=so.Line())\n",
    "    )\n",
    ")"
   ]
  },
  {
   "cell_type": "code",
   "execution_count": null,
   "metadata": {
    "tags": [
     "find peaks before alignment"
    ]
   },
   "outputs": [],
   "source": [
    "# detect peaks prior to alignment\n",
    "\n",
    "peaks = eda_by_category_methods.Peaks()\n",
    "\n",
    "pddata = peaks.peakdetect(\n",
    "    bcdata, grouper=\"samplecode\", signal_label=\"bcorr\", col_label=\"unaligned_peaks\"\n",
    ")\n",
    "\n",
    "\n",
    "pddata.head()"
   ]
  },
  {
   "cell_type": "code",
   "execution_count": null,
   "metadata": {},
   "outputs": [],
   "source": [
    "# plot to display peaks\n",
    "(\n",
    "    pddata.melt(\n",
    "        id_vars=[\"samplecode\", \"wine\", \"mins\"], var_name=\"siglabel\", value_name=\"sig\"\n",
    "    )\n",
    "    .loc[lambda df: (df.mins < 5) & (df.mins > 3)]\n",
    "    .pivot_table(index=[\"samplecode\", \"wine\", \"mins\"], columns=\"siglabel\", values=\"sig\")\n",
    "    .reset_index()\n",
    "    .pipe(\n",
    "        lambda df: so.Plot(data=df, x=\"mins\", color=\"samplecode\")\n",
    "        .add(so.Line(), y=\"bcorr\")\n",
    "        .add(so.Dot(), y=\"unaligned_peaks\")\n",
    "    )\n",
    ")"
   ]
  },
  {
   "cell_type": "markdown",
   "metadata": {},
   "source": [
    "For testing purposes, we're only interested in the top 20 peaks"
   ]
  },
  {
   "cell_type": "code",
   "execution_count": null,
   "metadata": {},
   "outputs": [],
   "source": [
    "# get top 20 peaks of the unaligned set\n",
    "\n",
    "tpdata = peaks.top_peaks(\n",
    "    pddata, \"samplecode\", \"unaligned_peaks\", 20, \"top_20_unaligned\"\n",
    ")\n",
    "tpdata"
   ]
  },
  {
   "cell_type": "code",
   "execution_count": null,
   "metadata": {},
   "outputs": [],
   "source": [
    "# plot the peaks on top of the curves\n",
    "\n",
    "peak_y = \"top_20_unaligned\"\n",
    "display(\n",
    "    tpdata.loc[lambda df: df.mins < 21].pipe(\n",
    "        lambda df: (\n",
    "            so.Plot(df, x=\"mins\", color=\"samplecode\")\n",
    "            .add(so.Line(), y=\"bcorr\")\n",
    "            .add(so.Dot(), y=peak_y)\n",
    "            .plot()\n",
    "        )\n",
    "    )\n",
    ")\n",
    "\n",
    "# peak table\n",
    "()"
   ]
  },
  {
   "cell_type": "code",
   "execution_count": null,
   "metadata": {},
   "outputs": [],
   "source": [
    "peaks.peak_table(tpdata, [\"samplecode\", \"wine\"], \"top_20_unaligned\", \"peak_n\", \"mins\")"
   ]
  },
  {
   "cell_type": "markdown",
   "metadata": {},
   "source": [
    "Now align, get the top 10 peaks after alignment and compare them."
   ]
  },
  {
   "cell_type": "markdown",
   "metadata": {},
   "source": [
    "Notes: Use transform with a custom function if you are expecting a result with the same shape as the input i.e. a column of the dataframe. Apply rarely gets this right."
   ]
  },
  {
   "cell_type": "code",
   "execution_count": null,
   "metadata": {},
   "outputs": [],
   "source": [
    "# ref = ApplyDTW().find_ref(tdata, 'samplecode','bcorr')\n",
    "\n",
    "dtwalign = eda_by_category_methods.ApplyDTW()\n",
    "\n",
    "# aligned data\n",
    "adata = dtwalign.align(\n",
    "    tpdata, primary_key=\"samplecode\", siglabel=\"bcorr\", aligned_label=\"aligned\"\n",
    ")\n",
    "adata.head()"
   ]
  },
  {
   "cell_type": "code",
   "execution_count": null,
   "metadata": {},
   "outputs": [],
   "source": [
    "# plot aligned dataset\n",
    "\n",
    "(\n",
    "    adata.loc[lambda df: df.mins < 20].pipe(\n",
    "        lambda df: so.Plot(data=df, x=\"mins\", color=\"samplecode\")\n",
    "        .layout(size=(5, 3))\n",
    "        .add(so.Line(), y=\"aligned\")\n",
    "    )\n",
    ")"
   ]
  },
  {
   "cell_type": "code",
   "execution_count": null,
   "metadata": {},
   "outputs": [],
   "source": [
    "# plot aligned against unaligned set\n",
    "(\n",
    "    adata.loc[lambda df: df.mins < 20]\n",
    "    .melt(\n",
    "        id_vars=[\"mins\", \"samplecode\", \"wine\"],\n",
    "        var_name=\"siglabel\",\n",
    "        value_vars=[\"bcorr\", \"aligned\"],\n",
    "        value_name=\"sig_val\",\n",
    "    )\n",
    "    .pipe(\n",
    "        lambda df: so.Plot(data=df, x=\"mins\", color=\"siglabel\")\n",
    "        .layout(size=(15, 10))\n",
    "        .add(so.Line(), y=\"sig_val\")\n",
    "        .facet(col=\"samplecode\", wrap=2)\n",
    "    )\n",
    ")"
   ]
  },
  {
   "cell_type": "code",
   "execution_count": null,
   "metadata": {},
   "outputs": [],
   "source": [
    "# detect peaks in aligned set\n",
    "# aligned peaks data\n",
    "apddata = peaks.peakdetect(\n",
    "    adata, \"samplecode\", signal_label=\"aligned\", col_label=\"peaks_aligned\"\n",
    ")\n",
    "\n",
    "apddata.head()"
   ]
  },
  {
   "cell_type": "code",
   "execution_count": null,
   "metadata": {},
   "outputs": [],
   "source": [
    "# add column of top 20 peaks in aligned peak set\n",
    "# top aligned peaks data\n",
    "tappdata = apddata.assign(\n",
    "    aligned_top_20=lambda df: df.groupby(\"samplecode\", group_keys=False)[\n",
    "        \"peaks_aligned\"\n",
    "    ].nlargest(20)\n",
    ")\n",
    "tappdata.info()"
   ]
  },
  {
   "cell_type": "code",
   "execution_count": null,
   "metadata": {},
   "outputs": [],
   "source": [
    "# construct and display peak table\n",
    "\n",
    "aligned_peak_table = tappdata.pipe(\n",
    "    peaks.peak_table,\n",
    "    grouper=[\"samplecode\", \"wine\"],\n",
    "    peaks_label=\"aligned_top_20\",\n",
    "    peak_num_label=\"peak_n\",\n",
    "    peak_idx_label=\"mins\",\n",
    ")\n",
    "aligned_peak_table"
   ]
  },
  {
   "cell_type": "code",
   "execution_count": null,
   "metadata": {},
   "outputs": [],
   "source": [
    "# plot overlay signals and top 20 peaks\n",
    "\n",
    "(\n",
    "    tappdata.loc[lambda df: df.mins < 20].pipe(\n",
    "        lambda df: so.Plot(df, x=\"mins\", color=\"samplecode\")\n",
    "        .add(so.Line(), y=\"aligned\")\n",
    "        .add(so.Dot(), y=\"aligned_top_20\")\n",
    "        .facet(col=\"samplecode\", wrap=2)\n",
    "        .layout(size=(15, 10))\n",
    "    )\n",
    ")"
   ]
  },
  {
   "cell_type": "code",
   "execution_count": null,
   "metadata": {},
   "outputs": [],
   "source": [
    "# plot overlay aligned set, unaligned peaks, aligned peaks as dots\n",
    "\n",
    "plot_peak_data = tappdata.melt(\n",
    "    id_vars=[\"mins\", \"samplecode\", \"wine\"],\n",
    "    value_vars=[\"aligned_top_20\", \"top_20_unaligned\"],\n",
    "    var_name=\"peak_label\",\n",
    "    value_name=\"sig\",\n",
    ").dropna()\n",
    "\n",
    "(\n",
    "    tappdata.loc[lambda df: df.mins < 20].pipe(\n",
    "        lambda df: so.Plot(df, x=\"mins\")\n",
    "        .add(so.Line(), y=\"aligned\", color=\"samplecode\")\n",
    "        .add(\n",
    "            so.Dot(),\n",
    "            data=plot_peak_data.loc[lambda df: df.mins < 20],\n",
    "            alpha=\"peak_label\",\n",
    "            color=\"samplecode\",\n",
    "            x=\"mins\",\n",
    "            y=\"sig\",\n",
    "        )\n",
    "        # .facet(col='samplecode',wrap=2)\n",
    "        .layout(size=(15, 10))\n",
    "    )\n",
    ")"
   ]
  },
  {
   "cell_type": "markdown",
   "metadata": {},
   "source": [
    "As we can see in the above graphic, The majority of the peaks have lost amplitude, and torbreck-struie has straight up lost a peak at 18 mins. We need a better DTW algorithm.\n",
    "\n",
    "Need to develop a more reliable alignment method. But we also should look at whether torbreck-struie itself is the issue. First what happens if we exclude it during warping?\n",
    "\n",
    "Continue this in another book. export the processed data to parquet\n"
   ]
  },
  {
   "cell_type": "code",
   "execution_count": null,
   "metadata": {},
   "outputs": [],
   "source": [
    "tappdata.loc[:, [\"mins\", \"samplecode\", \"wine\", \"signal\", \"bcorr\"]].to_parquet(\n",
    "    \"/Users/jonathan/mres_thesis/wine_analysis_hplc_uv/src/wine_analysis_hplc_uv/notebooks/processed_data.parquet\"\n",
    ")"
   ]
  }
 ],
 "metadata": {
  "kernelspec": {
   "display_name": "wine-analysis-hplc-uv-F-SbhWjO-py3.11",
   "language": "python",
   "name": "python3"
  },
  "language_info": {
   "codemirror_mode": {
    "name": "ipython",
    "version": 3
   },
   "file_extension": ".py",
   "mimetype": "text/x-python",
   "name": "python",
   "nbconvert_exporter": "python",
   "pygments_lexer": "ipython3",
   "version": "3.12.2"
  }
 },
 "nbformat": 4,
 "nbformat_minor": 2
}
