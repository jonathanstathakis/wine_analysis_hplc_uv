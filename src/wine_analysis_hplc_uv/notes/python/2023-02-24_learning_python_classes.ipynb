{
 "cells": [
  {
   "cell_type": "markdown",
   "id": "c6d17de5-1575-475c-9019-d2ec435c89d6",
   "metadata": {},
   "source": [
    "# Learning Python Classes\n",
    "\n",
    "The associated note is called `python_classes.md` in my vault."
   ]
  },
  {
   "cell_type": "markdown",
   "id": "348da838-3d76-4e92-83c9-7c4e0e9026af",
   "metadata": {},
   "source": [
    "I will develop my chromatography data structure at the same time. The desired outcome is:\n",
    "\n",
    "- [x] the data\n",
    "- [x] name of the sample\n",
    "- [x] date-time of acquisition.\n",
    "- [x] method object."
   ]
  },
  {
   "cell_type": "code",
   "execution_count": null,
   "id": "a978dc94-be25-435c-8246-504f3ad67d4a",
   "metadata": {
    "tags": []
   },
   "outputs": [],
   "source": [
    "data = {\n",
    "    \"mins\": [0, 1, 2, 3, 4, 5, 6, 7, 8, 9, 10],\n",
    "    \"mAU\": [0, 100, 200, 300, 400, 500, 400, 300, 200, 100, 0],\n",
    "    \"nm\": [200, 210, 220, 230, 240, 250, 260, 270, 280, 290, 300, 310],\n",
    "}\n",
    "\n",
    "acq_date = \"2023-02-18\"\n",
    "\n",
    "sample_name = \"2018_crawford_cabernet\"\n",
    "\n",
    "file_path = \"/Users/jonathan/0_jono_data/a_file.UV\""
   ]
  },
  {
   "cell_type": "code",
   "execution_count": null,
   "id": "7ee50867-b654-4793-a3f1-1e6c9f6678dc",
   "metadata": {
    "tags": []
   },
   "outputs": [],
   "source": [
    "class Single_Run:\n",
    "    def __init__(self, data_file_path=str, acq_date=str, sample_name=str, data=dict):\n",
    "        self.filepath = data_file_path\n",
    "\n",
    "        self.acq_date = acq_date\n",
    "\n",
    "        self.sample_name = sample_name\n",
    "\n",
    "        self.data = data"
   ]
  },
  {
   "cell_type": "code",
   "execution_count": null,
   "id": "f54499b7-cf1f-4229-8d8c-3a062ab06cf9",
   "metadata": {
    "tags": []
   },
   "outputs": [],
   "source": [
    "a_run = Single_Run(\n",
    "    data=data, data_file_path=file_path, sample_name=sample_name, acq_date=acq_date\n",
    ")"
   ]
  },
  {
   "cell_type": "code",
   "execution_count": null,
   "id": "761c19e2-596e-4d28-9478-34af1f22d7ca",
   "metadata": {
    "tags": []
   },
   "outputs": [],
   "source": [
    "a_run.sample_name"
   ]
  }
 ],
 "metadata": {
  "kernelspec": {
   "display_name": "Python 3 (ipykernel)",
   "language": "python",
   "name": "python3"
  },
  "language_info": {
   "codemirror_mode": {
    "name": "ipython",
    "version": 3
   },
   "file_extension": ".py",
   "mimetype": "text/x-python",
   "name": "python",
   "nbconvert_exporter": "python",
   "pygments_lexer": "ipython3",
   "version": "3.11.1"
  }
 },
 "nbformat": 4,
 "nbformat_minor": 5
}
