{
 "cells": [
  {
   "cell_type": "markdown",
   "metadata": {},
   "source": [
    "# Testing Parsing XML Files With BeautifulSoup, Specifically acq.macaml"
   ]
  },
  {
   "cell_type": "markdown",
   "metadata": {},
   "source": [
    "\n",
    "## Setting up the Environment"
   ]
  },
  {
   "cell_type": "code",
   "execution_count": null,
   "metadata": {},
   "outputs": [],
   "source": [
    "from pathlib import Path\n",
    "\n",
    "from bs4 import BeautifulSoup as bs"
   ]
  },
  {
   "cell_type": "code",
   "execution_count": null,
   "metadata": {},
   "outputs": [],
   "source": [
    "p = Path(\n",
    "    \"/Users/jonathan/0_jono_data/2023-03-01_15-22-02_ACETONE_VOID-VOL-MEASUREMENT.sequence/ACETONE0002.D/acq.macaml\"\n",
    ")"
   ]
  },
  {
   "cell_type": "code",
   "execution_count": null,
   "metadata": {},
   "outputs": [],
   "source": [
    "def read_single_signal_xml(path):\n",
    "    if path.is_file():\n",
    "        with path.open() as f:\n",
    "            file = f.read()\n",
    "\n",
    "            soup = bs(file, \"xml\")\n",
    "\n",
    "            single_signal_dict = {}\n",
    "\n",
    "        for section in soup.Content.Section:\n",
    "            if \"Signal\" in section.text:\n",
    "                for row in section.Table.find_all(\"Row\"):\n",
    "                    for parameter in row.find_all(\"Parameter\"):\n",
    "                        if \"Signals_Signal_ID\" in parameter.find(\"ID\"):\n",
    "                            signal_ID = parameter.Value.text\n",
    "\n",
    "                        if \"Signals_Signal_Wavelength\" in parameter.find(\"ID\"):\n",
    "                            signal_wavelength = (\n",
    "                                f\"{parameter.Value.text} {parameter.Unit.text}\"\n",
    "                            )\n",
    "\n",
    "                        if \"Signals_Signal_Bandwidth\" in parameter.find(\"ID\"):\n",
    "                            signal_bandwidth = (\n",
    "                                f\"{parameter.Value.text} {parameter.Unit.text}\"\n",
    "                            )\n",
    "\n",
    "                    single_signal_dict[signal_ID] = {\n",
    "                        \"wavelength\": signal_wavelength,\n",
    "                        \"bandwidth\": signal_bandwidth,\n",
    "                    }\n",
    "\n",
    "        # Each row has multiple parameters, each which has its own Name, ID, Unit, and Value.\n",
    "        #\n",
    "        # The first parameter asks whether to 'use' the signal, I guess for the trace?\n",
    "        #\n",
    "        # The second paramter contains the designation of the signal from A to H (?) as Value = 'Signal X' where X is the letter,\n",
    "        # the third parameter contains the wavelength of the signal, where Unit is 'nm' and 'Value' is the Scalar value of the unit.\n",
    "        #\n",
    "        # The fourth parameter contains the signal bandwidth, in the same form as the third parameter.\n",
    "        #\n",
    "        # The fifth parameter covers the use of a reference signal, containing a boolean \"Yes\" or \"No\".\n",
    "\n",
    "    else:\n",
    "        print(\"bad input\")\n",
    "    return single_signal_dict"
   ]
  },
  {
   "cell_type": "code",
   "execution_count": null,
   "metadata": {},
   "outputs": [],
   "source": [
    "for file in Path(\"/Users/jonathan/0_jono_data\").rglob(\"*.D/*acq.macaml\"):\n",
    "    print(file.parent.name)\n",
    "    print(read_single_signal_xml(file))"
   ]
  }
 ],
 "metadata": {
  "kernelspec": {
   "display_name": "Python 3 (ipykernel)",
   "language": "python",
   "name": "python3"
  },
  "language_info": {
   "codemirror_mode": {
    "name": "ipython",
    "version": 3
   },
   "file_extension": ".py",
   "mimetype": "text/x-python",
   "name": "python",
   "nbconvert_exporter": "python",
   "pygments_lexer": "ipython3",
   "version": "3.11.1"
  }
 },
 "nbformat": 4,
 "nbformat_minor": 4
}
