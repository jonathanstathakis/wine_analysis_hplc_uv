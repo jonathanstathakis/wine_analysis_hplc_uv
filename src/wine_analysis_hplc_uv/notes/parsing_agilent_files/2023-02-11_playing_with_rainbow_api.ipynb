{
 "cells": [
  {
   "cell_type": "code",
   "execution_count": null,
   "id": "0",
   "metadata": {
    "tags": []
   },
   "outputs": [],
   "source": [
    "# os.getcwd()\n",
    "\n",
    "# datadir = rb.read(\"../002_0_jono_data/sequences/20220801_CAFFEINE_QUANT_SEQ 2022-08-01 15-53-17/20220801_CAFFEINE_10PPM1.D\")\n",
    "\n",
    "# datadir"
   ]
  },
  {
   "cell_type": "markdown",
   "id": "1",
   "metadata": {},
   "source": [
    "Rainbow only works on .D directories. Need to build a wrapper around it to interact with sequences. The example they give [here](https://rainbow-api.readthedocs.io/en/latest/examples.html) uses the multiprocessing package.\n",
    "\n",
    "Does that matter? What information is stored at the sequence level vs what is stored at the data directory level?"
   ]
  },
  {
   "cell_type": "code",
   "execution_count": null,
   "id": "2",
   "metadata": {
    "tags": []
   },
   "outputs": [],
   "source": [
    "# from pathlib import Path\n",
    "\n",
    "# p = Path(\"../002_0_jono_data/sequences/20230130_WINES 2023-01-30 15-15-45/\")\n",
    "\n",
    "# sequence_dir = [x.name for x in p.iterdir()]\n",
    "# sequence_dir"
   ]
  },
  {
   "cell_type": "markdown",
   "id": "3",
   "metadata": {},
   "source": [
    "A sequence directory contains the following files / dirs:\n",
    "\n",
    "\"name.B\"\n",
    "\n",
    "\"name.LOG\"\n",
    "\n",
    "\"sequence.acaml\"\n",
    "\n",
    "\".D\" for each sample\n",
    "\n",
    "\".M\" method(s) files\n",
    "\n",
    "\"sequence name.S\"\n",
    "\n",
    "\"METHODS.REG\"\n",
    "\n",
    "CSlbk.ini file"
   ]
  },
  {
   "cell_type": "markdown",
   "id": "4",
   "metadata": {},
   "source": [
    "and a .D dir can contain the following:"
   ]
  },
  {
   "cell_type": "code",
   "execution_count": null,
   "id": "5",
   "metadata": {
    "tags": []
   },
   "outputs": [],
   "source": [
    "# data_dir = [[y.name for y in x.iterdir()] for x in p.iterdir() if \"Z1.D\" in x.name]\n",
    "\n",
    "# data_dir = data_dir[0]\n",
    "\n",
    "# data_dir"
   ]
  },
  {
   "cell_type": "markdown",
   "id": "6",
   "metadata": {},
   "source": [
    "A \"ACQRES.REG\"\n",
    "\n",
    "\"acq.txt\"\n",
    "\n",
    "\"LCDIAG.REG\"\n",
    "\n",
    "\"RUN.LOG\"\n",
    "\n",
    "\".ch\" files for each preset signal.\n",
    "\n",
    "\"sequence.acam_\",\n",
    "\n",
    "\"SAMPLE.XML\"\n",
    "\n",
    "\"limsinf.xml\"\n",
    "\n",
    "\"da.macaml\"\n",
    "\n",
    "\"CSLbk.ini\"\n",
    "\n",
    "and\n",
    "\n",
    "\"SAMPLE.XML.bak\""
   ]
  },
  {
   "cell_type": "markdown",
   "id": "7",
   "metadata": {},
   "source": [
    "if we instead express these two lists as sets then find the symmetric difference.."
   ]
  },
  {
   "cell_type": "code",
   "execution_count": null,
   "id": "8",
   "metadata": {
    "tags": []
   },
   "outputs": [],
   "source": [
    "# data_dir_set = set()\n",
    "\n",
    "# for x in data_dir:\n",
    "#     if \"ch\" in x.split(\".\")[1]:\n",
    "#         data_dir_set.add(\"1.ch\")\n",
    "#     else:\n",
    "#         data_dir_set.add(x)\n",
    "\n",
    "\n",
    "# data_dir_set"
   ]
  },
  {
   "cell_type": "code",
   "execution_count": null,
   "id": "9",
   "metadata": {
    "tags": []
   },
   "outputs": [],
   "source": [
    "# sequence_set = set()\n",
    "\n",
    "# for x in sequence_dir:\n",
    "#     if \"D\" in x.split(\".\")[1]:\n",
    "#         sequence_set.add(\"1.D\")\n",
    "#         print(x, \"condition met\")\n",
    "#     else:\n",
    "#         print(x, \"condition not met\")\n",
    "#         sequence_set.add(x)\n",
    "\n",
    "# print(sequence_set)"
   ]
  },
  {
   "cell_type": "code",
   "execution_count": null,
   "id": "10",
   "metadata": {
    "tags": []
   },
   "outputs": [],
   "source": [
    "# sequence_set.intersection(data_dir_set)"
   ]
  },
  {
   "cell_type": "code",
   "execution_count": null,
   "id": "11",
   "metadata": {
    "tags": []
   },
   "outputs": [],
   "source": [
    "# sequence_set.difference(data_dir_set)"
   ]
  },
  {
   "cell_type": "markdown",
   "id": "12",
   "metadata": {},
   "source": [
    "The following contains items which are present in the sequence_set but not the data_dir_set."
   ]
  },
  {
   "cell_type": "code",
   "execution_count": null,
   "id": "13",
   "metadata": {
    "tags": []
   },
   "outputs": [],
   "source": [
    "# sequence_set.difference(data_dir_set)"
   ]
  },
  {
   "cell_type": "markdown",
   "id": "14",
   "metadata": {},
   "source": [
    "And the following is the inverse, items present in the data_dir_set but not the sequence_set."
   ]
  },
  {
   "cell_type": "code",
   "execution_count": null,
   "id": "15",
   "metadata": {
    "tags": []
   },
   "outputs": [],
   "source": [
    "# data_dir_set.difference(sequence_set)"
   ]
  },
  {
   "cell_type": "markdown",
   "id": "16",
   "metadata": {},
   "source": [
    "So, the most obvious marker will be the .S file, as it is clearly associated with sequences."
   ]
  },
  {
   "cell_type": "markdown",
   "id": "17",
   "metadata": {},
   "source": [
    "Now lets write a loop to identify sequence directories."
   ]
  },
  {
   "cell_type": "code",
   "execution_count": null,
   "id": "18",
   "metadata": {
    "tags": []
   },
   "outputs": [],
   "source": [
    "from pathlib import Path\n",
    "\n",
    "p = Path(\"../002_0_jono_data\")\n",
    "\n",
    "p = p.resolve()\n",
    "print(p)"
   ]
  },
  {
   "cell_type": "code",
   "execution_count": null,
   "id": "19",
   "metadata": {
    "tags": []
   },
   "outputs": [],
   "source": [
    "for x in p.iterdir():\n",
    "    for y in x.iterdir():\n",
    "        if \".S\" in y.name and \".sequence\" not in x:\n",
    "            sequence_name = x.name\n",
    "            print(\"found a sequence:\", sequence_name)\n",
    "\n",
    "            # split_sequence_name = x.name.split(\"_\")\n",
    "            # print(split_sequence_name)\n",
    "\n",
    "            underscored_name_with_suffix = sequence_name.replace(\" \", \"_\") + \".sequence\"\n",
    "            print(\"underscored name:\", underscored_name_with_suffix)\n",
    "\n",
    "            #            x.rename(underscored_name_with_suffix)\n",
    "\n",
    "            print(\"\\n\")\n",
    "# #            x.rename(\"_\".join(x.name.split(\"_\")[1:]))"
   ]
  },
  {
   "cell_type": "code",
   "execution_count": null,
   "id": "20",
   "metadata": {
    "tags": []
   },
   "outputs": [],
   "source": [
    "print(p)"
   ]
  },
  {
   "cell_type": "code",
   "execution_count": null,
   "id": "21",
   "metadata": {
    "tags": []
   },
   "outputs": [],
   "source": [
    "for x in p.iterdir():\n",
    "    if \".sequence\" in x.name:\n",
    "        new_name = Path(\".\".join(x.name.split(\".\")[:-1]))\n",
    "\n",
    "        parent_path = p.parent\n",
    "\n",
    "        new_file_path = p.parent / \"002_0_jono_data\" / new_name\n",
    "\n",
    "        x.rename(new_file_path)\n",
    "\n",
    "        print(new_file_path)"
   ]
  },
  {
   "cell_type": "code",
   "execution_count": null,
   "id": "22",
   "metadata": {},
   "outputs": [],
   "source": []
  }
 ],
 "metadata": {
  "kernelspec": {
   "display_name": "wine_analysis_hplc_uv_venv",
   "language": "python",
   "name": "wine_analysis_hplc_uv_venv"
  },
  "language_info": {
   "codemirror_mode": {
    "name": "ipython",
    "version": 3
   },
   "file_extension": ".py",
   "mimetype": "text/x-python",
   "name": "python",
   "nbconvert_exporter": "python",
   "pygments_lexer": "ipython3",
   "version": "3.11.1"
  }
 },
 "nbformat": 4,
 "nbformat_minor": 5
}
