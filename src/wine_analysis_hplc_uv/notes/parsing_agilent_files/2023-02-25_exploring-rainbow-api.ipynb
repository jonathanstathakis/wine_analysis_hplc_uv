{
 "cells": [
  {
   "cell_type": "markdown",
   "id": "0",
   "metadata": {},
   "source": [
    "# Exploring Rainbow API for use in Data class structures."
   ]
  },
  {
   "cell_type": "markdown",
   "id": "1",
   "metadata": {},
   "source": [
    "There are a few things I want to investigate:\n",
    "\n",
    "- [x] passing the .UV data directly to other Python objects without exporting to `.csv` first.\n",
    "- [x] What run metadata is available.\n",
    "\n",
    "Once these are clarified we can explore how to best intregrate rainbow-api objects into my Data class."
   ]
  },
  {
   "cell_type": "code",
   "execution_count": null,
   "id": "2",
   "metadata": {
    "tags": []
   },
   "outputs": [],
   "source": [
    "import rainbow as rb\n",
    "\n",
    "from pathlib import Path\n",
    "\n",
    "p = \"/Users/jonathan/0_jono_data/2023-02-07_18-30-07_Z3-ID-NM-ABS-MAX.D\"\n",
    "\n",
    "data = rb.read(str(p))\n",
    "\n",
    "data"
   ]
  },
  {
   "cell_type": "markdown",
   "id": "3",
   "metadata": {},
   "source": [
    "So the DataDirectory objects contain:\n",
    "\n",
    "- DataDirectory.name - name of the data directory .D.\n",
    "- DataDirectory.datafiles -  a list of all the data files.\n",
    "- DataDirectory.metadata - a dict of metadata including run date time and vial position.\n",
    "- DataDirectory.get_info() outputs a text string with ALL the information and data. Method name can be gotten from there."
   ]
  },
  {
   "cell_type": "markdown",
   "id": "4",
   "metadata": {},
   "source": [
    "Regarding the method data, based on the source code for `parse_uv()`, I should expect to be able to access the method name, however the following:"
   ]
  },
  {
   "cell_type": "code",
   "execution_count": null,
   "id": "5",
   "metadata": {
    "tags": []
   },
   "outputs": [],
   "source": [
    "data.metadata"
   ]
  },
  {
   "cell_type": "markdown",
   "id": "6",
   "metadata": {},
   "source": [
    "does not contain the method name. Maybe try accessing the metadata specific to a .ch or .uv file?"
   ]
  },
  {
   "cell_type": "code",
   "execution_count": null,
   "id": "7",
   "metadata": {
    "tags": []
   },
   "outputs": [],
   "source": [
    "p = \"/Users/jonathan/0_jono_data/2023-02-07_18-30-07_Z3-ID-NM-ABS-MAX.D\"\n",
    "\n",
    "data = rb.read(str(p))\n",
    "\n",
    "data"
   ]
  },
  {
   "cell_type": "code",
   "execution_count": null,
   "id": "8",
   "metadata": {
    "tags": []
   },
   "outputs": [],
   "source": [
    "data.get_file(\"DAD1A.ch\").metadata"
   ]
  },
  {
   "cell_type": "markdown",
   "id": "9",
   "metadata": {},
   "source": [
    "So the method names are contained in the metadata of the individual signals. That's fine. We've essentially got the desired class heirarchy provided by rainbow then."
   ]
  },
  {
   "cell_type": "markdown",
   "id": "10",
   "metadata": {},
   "source": [
    "It would be useful to produe a table of all data within a given top-level directory, then access those files with rainbow to extract the desired queries, then return as tables, i.e.\n",
    "\n",
    "```\n",
    "with 0_jono_data as dir:\n",
    "\n",
    "data_table = table(dir)\n",
    "\n",
    "print(data_table(sample name, acq time, method, signals contained, run time..))\n",
    "```"
   ]
  },
  {
   "cell_type": "markdown",
   "id": "11",
   "metadata": {},
   "source": [
    "So lets try and action that."
   ]
  },
  {
   "cell_type": "code",
   "execution_count": null,
   "id": "12",
   "metadata": {
    "tags": []
   },
   "outputs": [],
   "source": [
    "top_dir = Path(\"/Users/jonathan/0_jono_data\")\n",
    "\n",
    "for obj in top_dir.iterdir():\n",
    "    if obj.name.endswith(\".D\"):\n",
    "        print(obj.name)"
   ]
  },
  {
   "cell_type": "markdown",
   "id": "13",
   "metadata": {},
   "source": [
    "Build it as a DF.\n"
   ]
  },
  {
   "cell_type": "code",
   "execution_count": null,
   "id": "14",
   "metadata": {
    "tags": []
   },
   "outputs": [],
   "source": [
    "top_dir_d = {}\n",
    "\n",
    "for obj in top_dir.iterdir():\n",
    "    if obj.name.endswith(\".D\"):\n",
    "        try:\n",
    "            top_dir_d[obj.name] = rb.read(str(obj))\n",
    "        except Exception as e:\n",
    "            print(e)\n",
    "            continue"
   ]
  },
  {
   "cell_type": "code",
   "execution_count": null,
   "id": "15",
   "metadata": {
    "tags": []
   },
   "outputs": [],
   "source": [
    "def acq_method(data_directory):\n",
    "    return data_directory.datafiles[0].metadata[\"method\"]"
   ]
  },
  {
   "cell_type": "code",
   "execution_count": null,
   "id": "16",
   "metadata": {
    "tags": []
   },
   "outputs": [],
   "source": [
    "from datetime import datetime\n",
    "\n",
    "datetime_obj = datetime.strptime(data.metadata[\"date\"], \"%d-%b-%y, %H:%M:%S\")\n",
    "\n",
    "top_dir_d = {}\n",
    "\n",
    "top_dir_d[\"name\"] = []\n",
    "top_dir_d[\"data\"] = []\n",
    "top_dir_d[\"num_detect_files\"] = []\n",
    "top_dir_d[\"method\"] = []\n",
    "top_dir_d[\"acquisition_date\"] = []\n",
    "\n",
    "for obj in top_dir.iterdir():\n",
    "    if obj.name.endswith(\".D\"):\n",
    "        try:\n",
    "            data = rb.read(str(obj))\n",
    "\n",
    "            top_dir_d[\"name\"].append(\"_\".join(obj.name.split(\"_\")[1:]))\n",
    "            top_dir_d[\"data\"].append(data)\n",
    "            top_dir_d[\"num_detect_files\"].append(len(data.datafiles))\n",
    "            top_dir_d[\"method\"].append(acq_method(data))\n",
    "            top_dir_d[\"acquisition_date\"].append(\n",
    "                datetime.strptime(data.metadata[\"date\"], \"%d-%b-%y, %H:%M:%S\")\n",
    "            )\n",
    "\n",
    "        except Exception as e:\n",
    "            print(obj.name, e)\n",
    "\n",
    "            continue"
   ]
  },
  {
   "cell_type": "code",
   "execution_count": null,
   "id": "17",
   "metadata": {
    "tags": []
   },
   "outputs": [],
   "source": [
    "import pandas as pd\n",
    "\n",
    "df = pd.DataFrame(top_dir_d, index=top_dir_d[\"name\"])\n",
    "\n",
    "df = df.set_index(\"name\")\n",
    "\n",
    "df.info()"
   ]
  },
  {
   "cell_type": "code",
   "execution_count": null,
   "id": "18",
   "metadata": {
    "tags": []
   },
   "outputs": [],
   "source": [
    "# df = df.drop('name', axis = 1)\n",
    "\n",
    "zeroth_col = list(df.columns).index(\"acquisition_date\")\n",
    "second_col = list(df.columns).index(\"method\")\n",
    "third_col = list(df.columns).index(\"num_detect_files\")\n",
    "fourth_col = list(df.columns).index(\"data\")\n",
    "try:\n",
    "    print(\"hi\")\n",
    "\n",
    "    print(df.shape)\n",
    "\n",
    "    df = df.iloc[:, [zeroth_col, second_col, third_col, fourth_col]]\n",
    "\n",
    "except Exception as e:\n",
    "    print(e)\n",
    "\n",
    "df = df.sort_values(by=\"acquisition_date\", ascending=False)\n",
    "\n",
    "df.head()"
   ]
  },
  {
   "cell_type": "markdown",
   "id": "19",
   "metadata": {
    "tags": []
   },
   "source": [
    "DF is looking good. Now how about data access?"
   ]
  },
  {
   "cell_type": "code",
   "execution_count": null,
   "id": "20",
   "metadata": {
    "tags": []
   },
   "outputs": [],
   "source": [
    "datadir = df.loc[\"STONEY-RISE-PN_02-21.D\"][\"data\"]\n",
    "\n",
    "data_uv = datadir.get_file(\"DAD1.UV\")\n",
    "\n",
    "traces = data_uv.extract_traces()\n",
    "\n",
    "\n",
    "traces.shape"
   ]
  },
  {
   "cell_type": "markdown",
   "id": "21",
   "metadata": {},
   "source": [
    "Where is the time axis?"
   ]
  },
  {
   "cell_type": "code",
   "execution_count": null,
   "id": "22",
   "metadata": {
    "tags": []
   },
   "outputs": [],
   "source": [
    "datadir"
   ]
  },
  {
   "cell_type": "code",
   "execution_count": null,
   "id": "23",
   "metadata": {
    "tags": []
   },
   "outputs": [],
   "source": [
    "# help(data_uv)"
   ]
  },
  {
   "cell_type": "code",
   "execution_count": null,
   "id": "24",
   "metadata": {
    "tags": []
   },
   "outputs": [],
   "source": [
    "xlabeldf = pd.DataFrame(data_uv.xlabels)\n",
    "xlabeldf.max()"
   ]
  },
  {
   "cell_type": "markdown",
   "id": "25",
   "metadata": {},
   "source": [
    "So it looks like the time is stored in the xlabels member object of the DataFile class."
   ]
  },
  {
   "cell_type": "markdown",
   "id": "26",
   "metadata": {
    "tags": []
   },
   "source": [
    "So we currently have a 2d plane for the detector and a 2 1D vectors of time and wavelengths corresponding to the axes. First off, is it possible to parse a 2d numpy array in pandas?"
   ]
  },
  {
   "cell_type": "code",
   "execution_count": null,
   "id": "27",
   "metadata": {
    "tags": []
   },
   "outputs": [],
   "source": [
    "try:\n",
    "    data = data_uv.extract_traces().transpose()\n",
    "\n",
    "    print(data.shape)\n",
    "\n",
    "    test_df = pd.DataFrame(data=data, index=data_uv.xlabels, columns=data_uv.ylabels)\n",
    "\n",
    "except Exception as e:\n",
    "    print(e)"
   ]
  },
  {
   "cell_type": "code",
   "execution_count": null,
   "id": "28",
   "metadata": {
    "tags": []
   },
   "outputs": [],
   "source": [
    "test_df"
   ]
  },
  {
   "cell_type": "markdown",
   "id": "29",
   "metadata": {},
   "source": [
    "yes. done. Now we've got some basic functionality we should rebuild these as modules."
   ]
  },
  {
   "cell_type": "code",
   "execution_count": null,
   "id": "30",
   "metadata": {},
   "outputs": [],
   "source": []
  }
 ],
 "metadata": {
  "kernelspec": {
   "display_name": "Python 3 (ipykernel)",
   "language": "python",
   "name": "python3"
  },
  "language_info": {
   "codemirror_mode": {
    "name": "ipython",
    "version": 3
   },
   "file_extension": ".py",
   "mimetype": "text/x-python",
   "name": "python",
   "nbconvert_exporter": "python",
   "pygments_lexer": "ipython3",
   "version": "3.11.1"
  }
 },
 "nbformat": 4,
 "nbformat_minor": 5
}
