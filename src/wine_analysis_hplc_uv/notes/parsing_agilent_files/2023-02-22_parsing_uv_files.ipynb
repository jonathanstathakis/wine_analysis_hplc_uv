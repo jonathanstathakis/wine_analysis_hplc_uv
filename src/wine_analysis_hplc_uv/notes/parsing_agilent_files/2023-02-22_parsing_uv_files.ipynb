{
 "cells": [
  {
   "cell_type": "code",
   "execution_count": null,
   "id": "0",
   "metadata": {
    "tags": []
   },
   "outputs": [],
   "source": [
    "import rainbow as rb\n",
    "\n",
    "from pathlib import Path\n",
    "\n",
    "import pandas as pd\n",
    "\n",
    "%matplotlib inline  \n",
    "from plotly.offline import init_notebook_mode\n",
    "import cufflinks as cf\n",
    "\n",
    "init_notebook_mode(connected=True)\n",
    "cf.go_offline()"
   ]
  },
  {
   "cell_type": "code",
   "execution_count": null,
   "id": "1",
   "metadata": {
    "tags": []
   },
   "outputs": [],
   "source": [
    "p = Path(\"/Users/jonathan/0_jono_data/2023-02-09_14-30-37_Z3.D/DAD1.UV\")\n",
    "p"
   ]
  },
  {
   "cell_type": "code",
   "execution_count": null,
   "id": "2",
   "metadata": {
    "tags": []
   },
   "outputs": [],
   "source": [
    "uv_data = rb.agilent.chemstation.parse_uv(str(p))\n",
    "\n",
    "\"/Users/jonathan/002_wine_analysis_hplc_uv/2023-02-09_14-30-37_Z3_uv-data.csv\"\n",
    "\n",
    "uv_data.export_csv(\n",
    "    \"/Users/jonathan/002_wine_analysis_hplc_uv/2023-02-09_14-30-37_Z3_uv-data.csv\"\n",
    ")"
   ]
  },
  {
   "cell_type": "code",
   "execution_count": null,
   "id": "3",
   "metadata": {
    "tags": []
   },
   "outputs": [],
   "source": [
    "uv_df = pd.read_csv(\n",
    "    \"/Users/jonathan/002_wine_analysis_hplc_uv/2023-02-09_14-30-37_Z3_uv-data.csv\"\n",
    ")\n",
    "\n",
    "uv_df.info()"
   ]
  },
  {
   "cell_type": "code",
   "execution_count": null,
   "id": "4",
   "metadata": {
    "jupyter": {
     "source_hidden": true
    },
    "tags": []
   },
   "outputs": [],
   "source": [
    "uv_df.iplot(kind=\"surface\")"
   ]
  },
  {
   "cell_type": "code",
   "execution_count": null,
   "id": "5",
   "metadata": {},
   "outputs": [],
   "source": []
  }
 ],
 "metadata": {
  "kernelspec": {
   "display_name": "Python 3 (ipykernel)",
   "language": "python",
   "name": "python3"
  },
  "language_info": {
   "codemirror_mode": {
    "name": "ipython",
    "version": 3
   },
   "file_extension": ".py",
   "mimetype": "text/x-python",
   "name": "python",
   "nbconvert_exporter": "python",
   "pygments_lexer": "ipython3",
   "version": "3.11.1"
  }
 },
 "nbformat": 4,
 "nbformat_minor": 5
}
