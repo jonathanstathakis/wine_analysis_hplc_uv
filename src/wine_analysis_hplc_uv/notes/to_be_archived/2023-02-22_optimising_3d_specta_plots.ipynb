{
 "cells": [
  {
   "cell_type": "markdown",
   "id": "78316f10-ae22-4f22-893a-38005858f300",
   "metadata": {},
   "source": [
    "# Optimising 3d surface plots for .UV data"
   ]
  },
  {
   "cell_type": "markdown",
   "id": "f2df93f6-a85f-47f4-8192-2bab47e6f3d5",
   "metadata": {
    "tags": []
   },
   "source": [
    "## Todos"
   ]
  },
  {
   "cell_type": "markdown",
   "id": "3566b374-f8fb-408b-b2a3-e1e714ea0f4a",
   "metadata": {},
   "source": [
    "The plots need to contain:\n",
    "\n",
    "- [ ] a method of controling the size of the plot.\n",
    "- [ ] title. \n",
    "- [x] x axis label.\n",
    "- [x] y axis label.\n",
    "- [x] z axis label.\n",
    "- [x] legend.\n",
    "- [ ] a method of controlling the range each axis."
   ]
  },
  {
   "cell_type": "markdown",
   "id": "ed3666cd-fe30-4854-98f3-b6a34dd89d47",
   "metadata": {},
   "source": [
    "## Set up software environment"
   ]
  },
  {
   "cell_type": "code",
   "execution_count": null,
   "id": "f8ee5725-78e6-4e9a-b467-1ab2b8760d70",
   "metadata": {
    "tags": []
   },
   "outputs": [],
   "source": [
    "import rainbow as rb\n",
    "\n",
    "from pathlib import Path\n",
    "\n",
    "import pandas as pd\n",
    "\n",
    "%matplotlib inline  \n",
    "from plotly.offline import init_notebook_mode\n",
    "import cufflinks as cf\n",
    "\n",
    "init_notebook_mode(connected=True)\n",
    "cf.go_offline()"
   ]
  },
  {
   "cell_type": "markdown",
   "id": "4b8e27c7-15e7-4082-8371-d4dedeb1fbf6",
   "metadata": {},
   "source": [
    "## Import Data"
   ]
  },
  {
   "cell_type": "code",
   "execution_count": null,
   "id": "c7d00543-f417-4eb7-8911-65de1840c6e9",
   "metadata": {
    "tags": []
   },
   "outputs": [],
   "source": [
    "p = Path(\"/Users/jonathan/0_jono_data/2023-02-09_14-30-37_Z3.D/DAD1.UV\")\n",
    "p"
   ]
  },
  {
   "cell_type": "code",
   "execution_count": null,
   "id": "e98eb12c-ba44-4f04-9123-5d7001f0f517",
   "metadata": {
    "tags": []
   },
   "outputs": [],
   "source": [
    "uv_data = rb.agilent.chemstation.parse_uv(str(p))\n",
    "\n",
    "\"/Users/jonathan/002_wine_analysis_hplc_uv/2023-02-09_14-30-37_Z3_uv-data.csv\"\n",
    "\n",
    "uv_data.export_csv(\n",
    "    \"/Users/jonathan/002_wine_analysis_hplc_uv/2023-02-09_14-30-37_Z3_uv-data.csv\"\n",
    ")"
   ]
  },
  {
   "cell_type": "code",
   "execution_count": null,
   "id": "40665ddb-01a6-4fc7-83ba-f027f1ccf5df",
   "metadata": {
    "tags": []
   },
   "outputs": [],
   "source": [
    "uv_df = pd.read_csv(\n",
    "    \"/Users/jonathan/002_wine_analysis_hplc_uv/2023-02-09_14-30-37_Z3_uv-data.csv\"\n",
    ")\n",
    "\n",
    "uv_df.info()"
   ]
  },
  {
   "cell_type": "code",
   "execution_count": null,
   "id": "5da41232-7e68-4ff4-803f-bd2bc73138ff",
   "metadata": {
    "tags": []
   },
   "outputs": [],
   "source": [
    "uv_df.head()"
   ]
  },
  {
   "cell_type": "markdown",
   "id": "d74c9c65-3336-4cd4-8ad2-c21feff2bf9c",
   "metadata": {},
   "source": [
    "## Try with Cufflinks"
   ]
  },
  {
   "cell_type": "code",
   "execution_count": null,
   "id": "57168a99-f106-4afd-a04d-7d3d0ffe2748",
   "metadata": {
    "tags": []
   },
   "outputs": [],
   "source": [
    "wavelengths = [\"RT (min)\", \"240\", \"260\", \"280\", \"300\", \"320\"]\n",
    "\n",
    "uv_df[wavelengths].iplot(kind=\"surface\", title=\"test\")"
   ]
  },
  {
   "cell_type": "markdown",
   "id": "fea21ed0-dc29-4ba7-ab88-e0972ad3d193",
   "metadata": {
    "tags": []
   },
   "source": [
    "How doest hthe API behave if we set RT to be index?"
   ]
  },
  {
   "cell_type": "markdown",
   "id": "44e2d86d-2130-4512-8a08-14578080d77e",
   "metadata": {
    "tags": []
   },
   "source": [
    "Need to melt the df."
   ]
  },
  {
   "cell_type": "code",
   "execution_count": null,
   "id": "1ee4730e-6bd8-450b-b58a-8ff36df0f098",
   "metadata": {},
   "outputs": [],
   "source": [
    "melt_uv_df = uv_df.melt(id_vars=\"RT (min)\")\n",
    "\n",
    "melt_uv_df.columns = [\"RT (min)\", \"wavelength\", \"mAU\"]\n",
    "\n",
    "display(melt_uv_df.head())\n",
    "\n",
    "melt_uv_df.info()"
   ]
  },
  {
   "cell_type": "markdown",
   "id": "2bea9344-140e-49e8-a3b0-325e38475071",
   "metadata": {},
   "source": [
    "Which looks promising. To use plotting api's, wavelength needs to be in a numerical format."
   ]
  },
  {
   "cell_type": "code",
   "execution_count": null,
   "id": "ec1c4dec-2ba6-4adb-a7ca-42b1c24a961c",
   "metadata": {},
   "outputs": [],
   "source": [
    "melt_uv_df[\"wavelength\"] = pd.to_numeric(melt_uv_df[\"wavelength\"])"
   ]
  },
  {
   "cell_type": "code",
   "execution_count": null,
   "id": "459badaf-4a1f-4ed1-bcb0-d483c1978235",
   "metadata": {},
   "outputs": [],
   "source": [
    "melt_uv_df[\"wavelength\"].values"
   ]
  },
  {
   "cell_type": "code",
   "execution_count": null,
   "id": "6a4fe4c8-7f57-46bc-aec4-29f07b1449ec",
   "metadata": {
    "tags": []
   },
   "outputs": [],
   "source": [
    "melt_uv_df.iplot(kind=\"surface\", x=\"RT (min)\", y=\"wavelength\", z=\"mAU\")"
   ]
  },
  {
   "cell_type": "markdown",
   "id": "67e46024-4e78-4d41-8fe2-65a808ec5aa4",
   "metadata": {},
   "source": [
    "It is not able to plot the data in this format."
   ]
  },
  {
   "cell_type": "markdown",
   "id": "e6bf653a-a8d1-422b-aa7e-04b7c3497c83",
   "metadata": {
    "tags": []
   },
   "source": [
    "Try with plotly directly.."
   ]
  },
  {
   "cell_type": "markdown",
   "id": "eff98f2f-3514-40a4-a2fd-e98e04ebb584",
   "metadata": {},
   "source": [
    "## Try with Plotly"
   ]
  },
  {
   "cell_type": "markdown",
   "id": "0584eadd-e5f4-4677-a780-d2ece238d72b",
   "metadata": {},
   "source": [
    "## Generating a Simulated Dataset"
   ]
  },
  {
   "cell_type": "markdown",
   "id": "97850a4b-73b3-4408-95a0-5169d5ad3a3b",
   "metadata": {
    "tags": []
   },
   "source": [
    "It may be easier to diagnose problems if we ues a smaller, simulated dataset."
   ]
  },
  {
   "cell_type": "markdown",
   "id": "07cc4e58-841c-4e24-899c-8f4b4f7b5be5",
   "metadata": {
    "tags": []
   },
   "source": [
    "To produce a simulated long dataset, need a dict with 3 keys: \"min\", \"nm\", \"mAU\", each containing values of corresponding length. Say ~~10 data points each~~ need 100 data points for sufficient smoothness, 1 peak, absorbance is a ~~sine wave~~ normal distribution.\n",
    "\n",
    "\"min\" ranges from 0 - 10.\n",
    "\n",
    "\"nm\" ranges from 220 - 260.\n",
    "\n",
    "absorbance ranges from 0 - 1500."
   ]
  },
  {
   "cell_type": "markdown",
   "id": "6dd7657b-62be-4e5f-ac48-0682fb70c08e",
   "metadata": {},
   "source": [
    "Been doing this wrong. Need to generate a seperate dataset for each wavelength. Easiest way to do it is to do it that way then melt as opposed to attempting to build a melted dataset from scratch."
   ]
  },
  {
   "cell_type": "code",
   "execution_count": null,
   "id": "0e3419e5-26e9-4a86-901c-4810995e8a92",
   "metadata": {
    "tags": []
   },
   "outputs": [],
   "source": [
    "# code lifted from https://stackoverflow.com/questions/10138085/how-to-plot-normal-distribution\n",
    "\n",
    "import numpy as np\n",
    "import scipy.stats as stats\n",
    "import math\n",
    "\n",
    "\n",
    "def norm_dist_curve_genner(total_mins=int, peak_max_factor=int, peak_loc=int):\n",
    "    mu = peak_loc\n",
    "\n",
    "    variance = 1\n",
    "\n",
    "    sigma = math.sqrt(variance)\n",
    "\n",
    "    # linspace args: start, stop, number of data points\n",
    "\n",
    "    mins = np.linspace(0, total_mins, 100)\n",
    "\n",
    "    absorb = stats.norm.pdf(mins, mu, sigma) * peak_max_factor\n",
    "\n",
    "    # plt.plot(mins, absorb)\n",
    "\n",
    "    # plt.show()\n",
    "\n",
    "    return absorb\n",
    "\n",
    "\n",
    "norm_dist_curve_genner(10, 4000, 2)[0:50]"
   ]
  },
  {
   "cell_type": "code",
   "execution_count": null,
   "id": "cfebb83c-b21e-4113-86d4-7265a7ceb7a3",
   "metadata": {
    "tags": []
   },
   "outputs": [],
   "source": [
    "import random"
   ]
  },
  {
   "cell_type": "code",
   "execution_count": null,
   "id": "42fa532c-d4f9-493a-8d2c-a66e3c66ebb1",
   "metadata": {
    "tags": []
   },
   "outputs": [],
   "source": [
    "sim_data_dict = {}\n",
    "\n",
    "for nm in wavelengths:\n",
    "    peak_loc = random.randint(0, 10)\n",
    "\n",
    "    peak_max_factor = random.randint(500, 1500)\n",
    "\n",
    "    sim_data_dict[nm] = norm_dist_curve_genner(10, peak_max_factor, peak_loc)\n",
    "\n",
    "sim_data_dict[\"mins\"] = np.linspace(0, 10, 100)\n",
    "\n",
    "sim_data_dict.keys()"
   ]
  },
  {
   "cell_type": "markdown",
   "id": "02895ef7-7a91-4c5d-bcc7-95a93f65186f",
   "metadata": {},
   "source": [
    "I dont know how, but somehow 'RT (min)' is turning up in the dict. simplest course of action is to pop it:"
   ]
  },
  {
   "cell_type": "code",
   "execution_count": null,
   "id": "15f40dd7-c08b-4a85-a37d-3bae332e1994",
   "metadata": {
    "tags": []
   },
   "outputs": [],
   "source": [
    "sim_data_dict.pop(\"RT (min)\")\n",
    "\n",
    "sim_data_dict.keys()"
   ]
  },
  {
   "cell_type": "markdown",
   "id": "6f20531f-92aa-4dd7-b397-abc85dbddb15",
   "metadata": {},
   "source": [
    "Now to form the data into a long format:"
   ]
  },
  {
   "cell_type": "code",
   "execution_count": null,
   "id": "c4a81e18-1e91-44e2-a710-2c2b679dcd3d",
   "metadata": {},
   "outputs": [],
   "source": [
    "sim_data_df = pd.DataFrame(sim_data_dict)\n",
    "\n",
    "sim_data_df_melt = sim_data_df.melt(id_vars=\"mins\", var_name=\"nm\", value_name=\"mAU\")\n",
    "\n",
    "sim_data_df_melt[\"nm\"] = pd.to_numeric(sim_data_df_melt[\"nm\"])\n",
    "\n",
    "sim_data_df_melt.set_index(\"mins\")"
   ]
  },
  {
   "cell_type": "markdown",
   "id": "efe738e4-99b9-428a-bd42-c92ec4cacb8a",
   "metadata": {},
   "source": [
    "I would much rather have line plots than surfaces, at least at the moment. So let's try to get that working first:"
   ]
  },
  {
   "cell_type": "code",
   "execution_count": null,
   "id": "7af719f3-a60e-4e53-86fc-1c294593e889",
   "metadata": {
    "tags": []
   },
   "outputs": [],
   "source": [
    "fig = px.line_3d(sim_data_df_melt, x=\"nm\", y=\"mins\", z=\"mAU\", color=\"nm\")\n",
    "\n",
    "fig.update_layout(width=800, height=800)\n",
    "\n",
    "fig"
   ]
  },
  {
   "cell_type": "markdown",
   "id": "4fd5ddfb-a2dc-4f6e-ae2e-e59e38b318b2",
   "metadata": {
    "tags": []
   },
   "source": [
    "Now how about a bigger dataset?"
   ]
  },
  {
   "cell_type": "code",
   "execution_count": null,
   "id": "f7a787b3-ebd8-4dbd-825a-2120bf9b4d1f",
   "metadata": {
    "jupyter": {
     "source_hidden": true
    },
    "tags": []
   },
   "outputs": [],
   "source": [
    "melt_uv_df.columns = [\"mins\", \"nm\", \"mAU\"]\n",
    "\n",
    "melt_uv_df"
   ]
  },
  {
   "cell_type": "code",
   "execution_count": null,
   "id": "d60d3144-6471-43cd-a32e-d4ac7d9d3c6e",
   "metadata": {
    "tags": []
   },
   "outputs": [],
   "source": [
    "fig = px.line_3d(melt_uv_df, x=\"nm\", y=\"mins\", z=\"mAU\", color=\"nm\")\n",
    "\n",
    "fig.update_layout(width=800, height=800)\n",
    "\n",
    "fig"
   ]
  },
  {
   "cell_type": "markdown",
   "id": "6dab6b07-e37b-4561-8e8a-110c48194360",
   "metadata": {},
   "source": [
    "Which is a fantastic result. Lets run with that for now. Collate the code below:"
   ]
  },
  {
   "cell_type": "code",
   "execution_count": null,
   "id": "03a0be19-e0d5-483b-9ee5-45dac75d0423",
   "metadata": {
    "tags": []
   },
   "outputs": [],
   "source": [
    "# Set up the environment\n",
    "\n",
    "import rainbow as rb\n",
    "\n",
    "from pathlib import Path\n",
    "\n",
    "import pandas as pd\n",
    "\n",
    "\n",
    "from plotly.offline import init_notebook_mode\n",
    "\n",
    "from plotly import express as px\n",
    "\n",
    "# open a path to the data\n",
    "\n",
    "p = Path(\"/Users/jonathan/0_jono_data/2023-02-09_14-30-37_Z3.D/DAD1.UV\")\n",
    "\n",
    "print(p)\n",
    "\n",
    "# Convert the data to csv\n",
    "\n",
    "uv_data = rb.agilent.chemstation.parse_uv(str(p))\n",
    "\n",
    "\"/Users/jonathan/002_wine_analysis_hplc_uv/2023-02-09_14-30-37_Z3_uv-data.csv\"\n",
    "\n",
    "uv_data.export_csv(\n",
    "    \"/Users/jonathan/002_wine_analysis_hplc_uv/2023-02-09_14-30-37_Z3_uv-data.csv\"\n",
    ")\n",
    "\n",
    "# Read the csv (this and the preceeding could be excluded by either loading the data directly\n",
    "# or moving them to a different module).\n",
    "\n",
    "uv_df = pd.read_csv(\n",
    "    \"/Users/jonathan/002_wine_analysis_hplc_uv/2023-02-09_14-30-37_Z3_uv-data.csv\"\n",
    ")\n",
    "\n",
    "display(uv_df.info())\n",
    "\n",
    "display(uv_df.head())\n",
    "\n",
    "# format the data for plotting\n",
    "\n",
    "melt_uv_df = uv_df.melt(id_vars=\"RT (min)\")\n",
    "\n",
    "melt_uv_df.columns = [\"mins\", \"nm\", \"mAU\"]\n",
    "\n",
    "melt_uv_df[\"nm\"] = pd.to_numeric(melt_uv_df[\"nm\"])\n",
    "\n",
    "display(melt_uv_df.info())\n",
    "\n",
    "display(melt_uv_df.head())\n",
    "\n",
    "fig = px.line_3d(melt_uv_df, x=\"nm\", y=\"mins\", z=\"mAU\", color=\"nm\")\n",
    "\n",
    "fig.update_layout(width=800, height=800)\n",
    "\n",
    "display(fig)"
   ]
  },
  {
   "cell_type": "code",
   "execution_count": null,
   "id": "21491e98-ac49-482b-adab-3c2bc3d73c0e",
   "metadata": {},
   "outputs": [],
   "source": []
  }
 ],
 "metadata": {
  "kernelspec": {
   "display_name": "Python 3 (ipykernel)",
   "language": "python",
   "name": "python3"
  },
  "language_info": {
   "codemirror_mode": {
    "name": "ipython",
    "version": 3
   },
   "file_extension": ".py",
   "mimetype": "text/x-python",
   "name": "python",
   "nbconvert_exporter": "python",
   "pygments_lexer": "ipython3",
   "version": "3.11.1"
  }
 },
 "nbformat": 4,
 "nbformat_minor": 5
}
