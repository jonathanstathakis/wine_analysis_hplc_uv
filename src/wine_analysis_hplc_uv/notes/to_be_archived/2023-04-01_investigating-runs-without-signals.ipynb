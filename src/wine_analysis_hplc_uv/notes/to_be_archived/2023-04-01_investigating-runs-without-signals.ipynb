{
 "cells": [
  {
   "attachments": {},
   "cell_type": "markdown",
   "metadata": {},
   "source": [
    "# Investigating Runs Without Signals\n",
    "\n",
    "In [2023-03-30_testing-loading-full-library-spectrum](2023-03-30_testing-loading-full-library-spectrum.ipynb) I found that there was an exception thrown when I introduced the datafiles from the month of March. An investigation documented in 2023-03-31_logbook uncovered that .D without a signal caused a runtime breaking bug because no else statement was included to handle this case. That has been remedied and the metadata table is able to be formed. The question remains, which files do not have signals, and why are they present at all?\n"
   ]
  },
  {
   "cell_type": "code",
   "execution_count": null,
   "metadata": {},
   "outputs": [],
   "source": [
    "%load_ext autoreload\n",
    "%autoreload 2\n",
    "\n",
    "\n",
    "from agilette.modules.library import Library"
   ]
  },
  {
   "cell_type": "code",
   "execution_count": null,
   "metadata": {},
   "outputs": [],
   "source": [
    "lib = Library(\"/Users/jonathan/0_jono_data\")\n",
    "df = lib.metadata_table\n",
    "df.columns"
   ]
  },
  {
   "cell_type": "code",
   "execution_count": null,
   "metadata": {},
   "outputs": [],
   "source": [
    "df[df[\"ch_filenames\"] == \"\"]"
   ]
  },
  {
   "attachments": {},
   "cell_type": "markdown",
   "metadata": {},
   "source": [
    "Looks to me like these are aborted runs. Not going to bother investigating, just delete."
   ]
  }
 ],
 "metadata": {
  "kernelspec": {
   "display_name": "Python 3",
   "language": "python",
   "name": "python3"
  },
  "language_info": {
   "codemirror_mode": {
    "name": "ipython",
    "version": 3
   },
   "file_extension": ".py",
   "mimetype": "text/x-python",
   "name": "python",
   "nbconvert_exporter": "python",
   "pygments_lexer": "ipython3",
   "version": "3.11.1"
  }
 },
 "nbformat": 4,
 "nbformat_minor": 2
}
