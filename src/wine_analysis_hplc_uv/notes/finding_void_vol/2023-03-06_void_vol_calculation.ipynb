{
 "cells": [
  {
   "cell_type": "code",
   "execution_count": null,
   "id": "0",
   "metadata": {
    "tags": []
   },
   "outputs": [],
   "source": [
    "%load_ext autoreload\n",
    "%autoreload 2\n",
    "import sys\n",
    "import pandas as pd\n",
    "import plotly.graph_objs as go\n",
    "import numpy as np\n",
    "import agilette\n",
    "from scipy.signal import find_peaks\n",
    "\n",
    "sys.path.insert(0, \"/Users/jonathan/wine_analysis_hplc_uv/scripts/agilette/\")\n",
    "\n",
    "ag = agilette.Agilette(\"/Users/jonathan/0_jono_data\")"
   ]
  },
  {
   "cell_type": "code",
   "execution_count": null,
   "id": "1",
   "metadata": {
    "tags": []
   },
   "outputs": [],
   "source": [
    "ag.data_table().head()"
   ]
  },
  {
   "cell_type": "markdown",
   "id": "2",
   "metadata": {},
   "source": [
    "## Loading the Acetone Void Vol Data"
   ]
  },
  {
   "cell_type": "code",
   "execution_count": null,
   "id": "3",
   "metadata": {
    "tags": []
   },
   "outputs": [],
   "source": [
    "acetone_data = ag.data_file_dir.sequence_dict[\n",
    "    \"2023-03-01_15-22-02_ACETONE_VOID-VOL-MEASUREMENT.sequence\"\n",
    "].data_dict"
   ]
  },
  {
   "cell_type": "markdown",
   "id": "4",
   "metadata": {},
   "source": [
    "## Extracting Abs Maxima Wavelength Signal"
   ]
  },
  {
   "cell_type": "code",
   "execution_count": null,
   "id": "5",
   "metadata": {
    "tags": []
   },
   "outputs": [],
   "source": [
    "acetone_data[\"acetone0002\"].extract_ch_data()[\"DAD1B.ch\"]"
   ]
  },
  {
   "cell_type": "markdown",
   "id": "6",
   "metadata": {},
   "source": [
    "Acetone has a abs max around 279nm, which is designated as Signal B:"
   ]
  },
  {
   "cell_type": "code",
   "execution_count": null,
   "id": "7",
   "metadata": {
    "tags": []
   },
   "outputs": [],
   "source": [
    "signal = \"DAD1B.ch\""
   ]
  },
  {
   "cell_type": "markdown",
   "id": "8",
   "metadata": {},
   "source": [
    "## Renaming The Runs"
   ]
  },
  {
   "cell_type": "code",
   "execution_count": null,
   "id": "9",
   "metadata": {
    "tags": []
   },
   "outputs": [],
   "source": [
    "string_to_split = \"acetone0001\""
   ]
  },
  {
   "cell_type": "code",
   "execution_count": null,
   "id": "10",
   "metadata": {
    "tags": []
   },
   "outputs": [],
   "source": [
    "left_str = string_to_split[len(string_to_split) - 1 :]\n",
    "\n",
    "right_str = string_to_split[:-4]\n",
    "\n",
    "left_str + \"_\" + right_str"
   ]
  },
  {
   "cell_type": "code",
   "execution_count": null,
   "id": "11",
   "metadata": {
    "tags": []
   },
   "outputs": [],
   "source": [
    "acetone_data_sigmax = {}\n",
    "\n",
    "for key, value in acetone_data.items():\n",
    "    reform_key = key[:-4] + \"_\" + key[len(key) - 4 :]\n",
    "    acetone_data_sigmax[reform_key] = value.extract_ch_data()[\"DAD1B.ch\"]"
   ]
  },
  {
   "cell_type": "code",
   "execution_count": null,
   "id": "12",
   "metadata": {
    "tags": []
   },
   "outputs": [],
   "source": [
    "acetone_data_sigmax"
   ]
  },
  {
   "cell_type": "markdown",
   "id": "13",
   "metadata": {},
   "source": [
    "## Plotting the Runs"
   ]
  },
  {
   "cell_type": "code",
   "execution_count": null,
   "id": "14",
   "metadata": {
    "tags": []
   },
   "outputs": [],
   "source": [
    "sys.path.insert(0, \"/Users/jonathan/wine_analysis_hplc_uv/scripts\")"
   ]
  },
  {
   "cell_type": "code",
   "execution_count": null,
   "id": "15",
   "metadata": {
    "tags": []
   },
   "outputs": [],
   "source": [
    "## set up parameters for peak detection and plotting.\n",
    "\n",
    "run_name = \"acetone_0001\"\n",
    "\n",
    "data = acetone_data_sigmax[f\"{run_name}\"]\n",
    "\n",
    "a_1 = pd.DataFrame(data[:, 1], columns=[\"mAU\"], index=data[:, 0])"
   ]
  },
  {
   "cell_type": "markdown",
   "id": "16",
   "metadata": {
    "tags": []
   },
   "source": [
    "### Prototyping the Plot"
   ]
  },
  {
   "cell_type": "code",
   "execution_count": null,
   "id": "17",
   "metadata": {
    "tags": []
   },
   "outputs": [],
   "source": [
    "# set up the figure\n",
    "\n",
    "nm = \"279nm\"\n",
    "\n",
    "fig = go.Figure()\n",
    "\n",
    "plot_title = f\"{run_name}\"\n",
    "\n",
    "fig.update_layout(title=f\"{plot_title}, {nm}\")\n",
    "\n",
    "# set chromatogram x and y values.\n",
    "\n",
    "cx = data[:, 0]\n",
    "\n",
    "cy = data[:, 1]\n",
    "\n",
    "\n",
    "# # draw the chromatogram\n",
    "\n",
    "chrom_trace = go.Scatter(x=cx, y=cy, mode=\"lines\", name=\"chromatogram\")\n",
    "\n",
    "fig.add_trace(chrom_trace)\n",
    "\n",
    "# find peaks\n",
    "\n",
    "peak_idx, peak_heights = find_peaks(a_1[\"mAU\"], height=50, distance=50)\n",
    "\n",
    "px = a_1.index.values[peak_idx].tolist()[0]\n",
    "\n",
    "py = a_1.values[peak_idx][0].tolist()[0]\n",
    "\n",
    "# draw peaks\n",
    "\n",
    "peak_trace = go.Scatter(\n",
    "    x=[px], y=[py], mode=\"markers\", name=f\"{np.round(px, 2)} mins, {int(py)} mAU\"\n",
    ")\n",
    "\n",
    "fig.add_trace(peak_trace)\n",
    "\n",
    "fig.show()"
   ]
  },
  {
   "cell_type": "markdown",
   "id": "18",
   "metadata": {},
   "source": [
    "So, what do we want to do now? Get the peak description for each reading, then plot their values against concentration. First make a function doing the same."
   ]
  },
  {
   "cell_type": "markdown",
   "id": "19",
   "metadata": {
    "tags": []
   },
   "source": [
    "### As A Function"
   ]
  },
  {
   "cell_type": "code",
   "execution_count": null,
   "id": "20",
   "metadata": {
    "tags": []
   },
   "outputs": [],
   "source": [
    "def voidvolplotter(data_df, run_name):\n",
    "    # set up the figure\n",
    "\n",
    "    fig = go.Figure()\n",
    "\n",
    "    fig.update_layout(title=f\"{run_name}, {nm}\")\n",
    "\n",
    "    # set chromatogram x and y values.\n",
    "\n",
    "    cx = data_df[\"mins\"].tolist()\n",
    "\n",
    "    cy = data_df[\"mAU\"].tolist()\n",
    "\n",
    "    # # draw the chromatogram\n",
    "\n",
    "    chrom_trace = go.Scatter(x=cx, y=cy, mode=\"lines\", name=\"chromatogram\")\n",
    "\n",
    "    fig.add_trace(chrom_trace)\n",
    "\n",
    "    # find peaks\n",
    "\n",
    "    peak_idx, peak_heights = find_peaks(data_df[\"mAU\"], height=50, distance=50)\n",
    "\n",
    "    px = data_df.index.values[peak_idx].tolist()\n",
    "\n",
    "    print(type(px))\n",
    "\n",
    "    py = data_df.values[peak_idx].tolist()\n",
    "\n",
    "    # draw peaks\n",
    "    peak_trace = go.Scatter(\n",
    "        x=px, y=py, mode=\"markers\", name=f\"{np.round(px[0], 2)} mins, {py[0][0]} mAU\"\n",
    "    )\n",
    "\n",
    "    fig.add_trace(peak_trace)\n",
    "\n",
    "    return fig"
   ]
  },
  {
   "cell_type": "code",
   "execution_count": null,
   "id": "21",
   "metadata": {
    "tags": []
   },
   "outputs": [],
   "source": [
    "## Forming a Better Data Structure"
   ]
  },
  {
   "cell_type": "code",
   "execution_count": null,
   "id": "22",
   "metadata": {
    "tags": []
   },
   "outputs": [],
   "source": [
    "inj_vol = {\n",
    "    \"1_acetone\": 10,\n",
    "    \"2_acetone\": 8,\n",
    "    \"3_acetone\": 6,\n",
    "    \"4_acetone\": 4,\n",
    "    \"5_acetone\": 2,\n",
    "    \"6_acetone\": 1,\n",
    "}"
   ]
  },
  {
   "cell_type": "markdown",
   "id": "23",
   "metadata": {},
   "source": [
    "{ \"name\" : { inj_vol : data }}"
   ]
  },
  {
   "cell_type": "code",
   "execution_count": null,
   "id": "24",
   "metadata": {
    "tags": []
   },
   "outputs": [],
   "source": [
    "acetone_dict = {}\n",
    "\n",
    "for run_name, inj_vol_ in inj_vol.items():\n",
    "    for run_name_1, data in acetone_data_sigmax.items():\n",
    "        data = pd.DataFrame(data, columns=[\"mins\", \"mAU\"])\n",
    "\n",
    "        acetone_dict[run_name] = {\"inj_vol\": inj_vol_, \"data\": data}\n",
    "\n",
    "acetone_dict[\"1_acetone\"]"
   ]
  },
  {
   "cell_type": "markdown",
   "id": "25",
   "metadata": {},
   "source": [
    "So the pattern is:\n",
    "\n",
    "acetone_dict['run_name']['inj_vol'], or acetone_dict['run_name']['data']"
   ]
  },
  {
   "cell_type": "code",
   "execution_count": null,
   "id": "26",
   "metadata": {
    "tags": []
   },
   "outputs": [],
   "source": [
    "for run_name, contents in acetone_dict.items():\n",
    "    print(run_name)\n",
    "    print(contents[\"inj_vol\"])\n",
    "\n",
    "    print(find_peaks(contents[\"data\"][\"mAU\"], height=50))"
   ]
  },
  {
   "cell_type": "markdown",
   "id": "27",
   "metadata": {},
   "source": [
    "This is a mess, let's redefine. Maybe OOP. But need to know in what format the data needs to be.\n",
    "\n",
    "For the plot to work I need:\n",
    "\n",
    "chromatogram as a df, injection vol, run name."
   ]
  },
  {
   "cell_type": "code",
   "execution_count": null,
   "id": "28",
   "metadata": {
    "tags": []
   },
   "outputs": [],
   "source": [
    "class Void_Vol_Measurement:\n",
    "    def __init__(self, run_name, injection_vol, data):\n",
    "        self.run_name = run_name\n",
    "        self.inj_vol = injection_vol\n",
    "        self.data = data"
   ]
  },
  {
   "cell_type": "code",
   "execution_count": null,
   "id": "29",
   "metadata": {
    "tags": []
   },
   "outputs": [],
   "source": [
    "run_vol_zip = zip(acetone_data.keys(), inj_vol.values())\n",
    "\n",
    "void_vol_measure_obj_list = []\n",
    "\n",
    "for run, injvol in run_vol_zip:\n",
    "    void_vol_measure_obj_list.append(\n",
    "        Void_Vol_Measurement(run, inj_vol, acetone_data[run])\n",
    "    )"
   ]
  },
  {
   "cell_type": "code",
   "execution_count": null,
   "id": "30",
   "metadata": {},
   "outputs": [],
   "source": []
  }
 ],
 "metadata": {
  "kernelspec": {
   "display_name": "Python 3 (ipykernel)",
   "language": "python",
   "name": "python3"
  },
  "language_info": {
   "codemirror_mode": {
    "name": "ipython",
    "version": 3
   },
   "file_extension": ".py",
   "mimetype": "text/x-python",
   "name": "python",
   "nbconvert_exporter": "python",
   "pygments_lexer": "ipython3",
   "version": "3.12.2"
  }
 },
 "nbformat": 4,
 "nbformat_minor": 5
}
