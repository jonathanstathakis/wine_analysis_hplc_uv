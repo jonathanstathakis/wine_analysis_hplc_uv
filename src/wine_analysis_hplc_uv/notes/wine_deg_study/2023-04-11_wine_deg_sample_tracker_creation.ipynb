{
 "cells": [
  {
   "cell_type": "code",
   "execution_count": null,
   "metadata": {},
   "outputs": [],
   "source": [
    "%load_ext autoreload\n",
    "%autoreload 2\n",
    "\n",
    "import pandas as pd\n",
    "\n",
    "from google_sheets_api import post_df_as_sheet_values"
   ]
  },
  {
   "attachments": {},
   "cell_type": "markdown",
   "metadata": {},
   "source": [
    "# Create a df with the sample ids."
   ]
  },
  {
   "cell_type": "code",
   "execution_count": null,
   "metadata": {},
   "outputs": [],
   "source": [
    "# 1. ambient. 3 wines, 3 replicates of each wine, 3 columns 'storage_type', 'wine', 'rep num'. Shape = 9 x 3\n",
    "\n",
    "ambient_cond_df = pd.DataFrame()\n",
    "\n",
    "ambient_cond_df[\"storage_type\"] = [\"a\"] * 9\n",
    "ambient_cond_df[\"wine\"] = [\"01\"] * 3 + [\"02\"] * 3 + [\"03\"] * 3\n",
    "ambient_cond_df[\"rep_num\"] = [str(num).zfill(2) for num in range(1, 4)] * 3\n",
    "\n",
    "ambient_cond_df"
   ]
  },
  {
   "cell_type": "code",
   "execution_count": null,
   "metadata": {},
   "outputs": [],
   "source": [
    "# 2. freezer, type 'b', 3 wines, 14 replicates for each wine = 42 rows\n",
    "\n",
    "n_freezer_df = pd.DataFrame()\n",
    "\n",
    "n_freezer_df[\"storage_type\"] = [\"n\"] * 42\n",
    "n_freezer_df[\"wine\"] = [\"01\"] * 14 + [\"02\"] * 14 + [\"03\"] * 14\n",
    "n_freezer_df[\"rep_num\"] = [str(num).zfill(2) for num in range(1, 15)] * 3\n",
    "\n",
    "n_freezer_df"
   ]
  },
  {
   "cell_type": "code",
   "execution_count": null,
   "metadata": {},
   "outputs": [],
   "source": [
    "ex_freezer_df = pd.DataFrame()\n",
    "ex_freezer_df[\"storage_type\"] = [\"e\"] * 21\n",
    "ex_freezer_df[\"wine\"] = [\"01\"] * 7 + [\"02\"] * 7 + [\"03\"] * 7\n",
    "ex_freezer_df[\"rep_num\"] = [str(num).zfill(2) for num in range(1, 8)] * 3\n",
    "ex_freezer_df"
   ]
  },
  {
   "cell_type": "code",
   "execution_count": null,
   "metadata": {},
   "outputs": [],
   "source": [
    "exp_df = pd.concat([ambient_cond_df, n_freezer_df, ex_freezer_df])\n",
    "exp_df"
   ]
  },
  {
   "cell_type": "code",
   "execution_count": null,
   "metadata": {},
   "outputs": [],
   "source": [
    "exp_df = exp_df.astype(pd.StringDtype())\n",
    "\n",
    "exp_df[\"key\"] = exp_df[\"storage_type\"] + exp_df[\"wine\"] + exp_df[\"rep_num\"]\n",
    "exp_df[\"key\"]"
   ]
  },
  {
   "cell_type": "code",
   "execution_count": null,
   "metadata": {},
   "outputs": [],
   "source": [
    "post_df_as_sheet_values(\n",
    "    exp_df,\n",
    "    \"15S2wm8t6ol2MRwTzgKTjlTcUgaStNlA22wJmFYhcwAY\",\n",
    "    \"wine_deg_sample_tracker!A1:H200\",\n",
    "    \"/Users/jonathan/wine_analysis_hplc_uv/agilette/modules/credientals_tokens/\",\n",
    ")"
   ]
  }
 ],
 "metadata": {
  "kernelspec": {
   "display_name": "Python 3",
   "language": "python",
   "name": "python3"
  },
  "language_info": {
   "codemirror_mode": {
    "name": "ipython",
    "version": 3
   },
   "file_extension": ".py",
   "mimetype": "text/x-python",
   "name": "python",
   "nbconvert_exporter": "python",
   "pygments_lexer": "ipython3",
   "version": "3.11.1"
  }
 },
 "nbformat": 4,
 "nbformat_minor": 2
}
