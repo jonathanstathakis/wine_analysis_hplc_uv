{
 "cells": [
  {
   "cell_type": "code",
   "execution_count": null,
   "metadata": {},
   "outputs": [],
   "source": [
    "%load_ext autoreload\n",
    "%autoreload 2\n",
    "import sys\n",
    "import os\n",
    "import pandas as pd\n",
    "\n",
    "sys.path.append(\"/Users/jonathan/wine_analysis_hplc_uv/\")\n",
    "sys.path"
   ]
  },
  {
   "cell_type": "code",
   "execution_count": null,
   "metadata": {},
   "outputs": [],
   "source": [
    "from google_sheets_api import post_df_as_sheet_values\n",
    "\n",
    "path_to_certs = os.path.join(os.getcwd(), \"..\")\n",
    "path_to_certs = os.path.join(path_to_certs, \"agilette/modules/credientals_tokens\")\n",
    "sheet_id = \"15S2wm8t6ol2MRwTzgKTjlTcUgaStNlA22wJmFYhcwAY\"\n",
    "sheet_range = \"wine_deg_sequence_table!A1:H500\"\n",
    "print(path_to_certs)"
   ]
  },
  {
   "cell_type": "code",
   "execution_count": null,
   "metadata": {},
   "outputs": [],
   "source": [
    "import datetime\n",
    "\n",
    "start_time = datetime.datetime.now().replace(\n",
    "    hour=9, minute=0, second=0, microsecond=0\n",
    ") + datetime.timedelta(days=1)\n",
    "end_time = start_time + datetime.timedelta(days=14, hours=8)\n",
    "\n",
    "time_list = []\n",
    "while start_time < end_time:\n",
    "    time_list.append(start_time)\n",
    "    start_time += datetime.timedelta(hours=1)"
   ]
  },
  {
   "cell_type": "code",
   "execution_count": null,
   "metadata": {},
   "outputs": [],
   "source": [
    "seq_table = pd.DataFrame()\n",
    "\n",
    "ambient_wines = [\"a0101\", \"a0201\", \"a0301\"]\n",
    "\n",
    "seq_table[\"time\"] = time_list\n",
    "seq_table[\"weekday\"] = seq_table[\"time\"].dt.day_name()\n",
    "seq_table[\"experiment\"] = pd.Series(ambient_wines * 9)\n",
    "seq_table[\"rep_number\"] = \"\"\n",
    "seq_table[\"runner\"] = \"\"\n",
    "seq_table.head()"
   ]
  },
  {
   "cell_type": "markdown",
   "metadata": {},
   "source": [
    "Every Tuesday and Friday the instrument will be reserved for library runs."
   ]
  },
  {
   "cell_type": "code",
   "execution_count": null,
   "metadata": {},
   "outputs": [],
   "source": [
    "seq_table.loc[\n",
    "    (seq_table[\"time\"].dt.time >= datetime.time(9, 00, 00))\n",
    "    & ((seq_table[\"weekday\"] == \"Tuesday\") | (seq_table[\"weekday\"] == \"Friday\")),\n",
    "    \"experiment\",\n",
    "] = \"library runs\"\n",
    "seq_table.loc[39:50, :]"
   ]
  },
  {
   "cell_type": "code",
   "execution_count": null,
   "metadata": {},
   "outputs": [],
   "source": [
    "import numpy as np\n",
    "\n",
    "\n",
    "def planning_df_genner():\n",
    "    planning_df = pd.DataFrame()\n",
    "\n",
    "    planning_df[\"weekdays\"] = pd.date_range(\"2023-04-12\", \"2023-04-27\")\n",
    "    planning_df[\"day\"] = planning_df[\"weekdays\"].dt.day_name()\n",
    "    planning_df[\"weekday_num\"] = planning_df[\"weekdays\"].dt.weekday\n",
    "\n",
    "    planning_df.loc[\n",
    "        (\n",
    "            (planning_df.weekdays == \"2023-04-12\")\n",
    "            | (planning_df.weekdays.dt.day % 2 == 0)\n",
    "        ),\n",
    "        \"amb_run\",\n",
    "    ] = \"y\"\n",
    "    planning_df[\"amb_run_cumsum\"] = planning_df[\"amb_run\"].apply(\n",
    "        lambda x: 1 if x == \"y\" else 0\n",
    "    )\n",
    "    planning_df[\"amb_run_cumsum\"] = planning_df[\"amb_run_cumsum\"].cumsum()\n",
    "\n",
    "    planning_df.loc[\n",
    "        ~(planning_df.weekdays.dt.date == datetime.date(2023, 4, 12))\n",
    "        & (planning_df.weekdays.dt.day % 2 != 0),\n",
    "        \"n_freezer_run\",\n",
    "    ] = \"y\"\n",
    "\n",
    "    planning_df[\"n_freezer_cumsum\"] = planning_df[\"n_freezer_run\"].apply(\n",
    "        lambda x: 1 if x == \"y\" else 0\n",
    "    )\n",
    "    planning_df[\"n_freezer_cumsum\"] = planning_df[\"n_freezer_cumsum\"].cumsum()\n",
    "\n",
    "    planning_df.loc[\n",
    "        ~(planning_df.weekdays.dt.date == datetime.date(2023, 4, 12))\n",
    "        & (planning_df.weekdays.dt.day % 2 != 0),\n",
    "        \"e_freezer_run\",\n",
    "    ] = \"y\"\n",
    "\n",
    "    planning_df[\"exp_day_num\"] = np.arange(1, 17)\n",
    "\n",
    "    return planning_df\n",
    "\n",
    "\n",
    "planning_df = planning_df_genner()\n",
    "planning_df"
   ]
  },
  {
   "attachments": {},
   "cell_type": "markdown",
   "metadata": {},
   "source": [
    "On a 'experiment' day, we'd have 3 ambient runs, 3 e_freezer runs and 3 n_freezer runs. Now the ambient can be sequenced, but the e_freezer and n_freezer would need to be done manually in order to account for ambient conditions post defrost. thus should do the freezer runs first.\n",
    "\n"
   ]
  },
  {
   "attachments": {},
   "cell_type": "markdown",
   "metadata": {},
   "source": [
    "So ambient runs will be done by Monday 2023-04-24, freezer runs done Wednesday 2023-04-26.\n",
    "\n",
    "Technically I could schedule the ambient runs to go every day at 6am or something.."
   ]
  },
  {
   "cell_type": "code",
   "execution_count": null,
   "metadata": {},
   "outputs": [],
   "source": [
    "post_df_as_sheet_values(seq_table, sheet_id, sheet_range, path_to_certs)"
   ]
  },
  {
   "cell_type": "code",
   "execution_count": null,
   "metadata": {},
   "outputs": [],
   "source": [
    "n_freezer_runs = [\"n0101\", \"n0201\", \"n0301\"]\n",
    "\n",
    "\n",
    "def sample_code_gen(exp=\"str\", wines=int, rep=int):\n",
    "    return [\n",
    "        f\"{exp}{str(wine+1).zfill(2)}{str(rep).zfill(2)}\" for wine in range(0, wines)\n",
    "    ]\n",
    "\n",
    "\n",
    "samples = sample_code_gen(\"n\", 3, 1) + sample_code_gen(\"e\", 3, 1)\n",
    "samples"
   ]
  },
  {
   "attachments": {},
   "cell_type": "markdown",
   "metadata": {},
   "source": [
    "wines run from 1 to 3. reps run from 1 - 7 for n and e experiments, 3 for ambient."
   ]
  },
  {
   "cell_type": "code",
   "execution_count": null,
   "metadata": {},
   "outputs": [],
   "source": [
    "freezer_run_sched = pd.DataFrame()\n",
    "\n",
    "freezer_run_sched[\"time\"] = pd.date_range(\n",
    "    start=\"09:00:00\", end=\"17:00:00\", freq=\"H\"\n",
    ").strftime(\"%H:%M\")\n",
    "freezer_run_sched.loc[0:5, \"samples\"] = samples\n",
    "freezer_run_sched"
   ]
  },
  {
   "cell_type": "code",
   "execution_count": null,
   "metadata": {},
   "outputs": [],
   "source": [
    "planning_df"
   ]
  },
  {
   "attachments": {},
   "cell_type": "markdown",
   "metadata": {},
   "source": [
    "14 days, 9 hours a day. How many rows?"
   ]
  },
  {
   "cell_type": "code",
   "execution_count": null,
   "metadata": {},
   "outputs": [],
   "source": [
    "14 * 9"
   ]
  },
  {
   "cell_type": "code",
   "execution_count": null,
   "metadata": {},
   "outputs": [],
   "source": [
    "planning_df[planning_df[\"n_freezer_run\"] == \"y\"][\"weekdays\"].shape"
   ]
  },
  {
   "cell_type": "code",
   "execution_count": null,
   "metadata": {},
   "outputs": [],
   "source": [
    "126 / 8"
   ]
  },
  {
   "cell_type": "code",
   "execution_count": null,
   "metadata": {},
   "outputs": [],
   "source": [
    "weekdays = pd.concat(\n",
    "    [planning_df[planning_df[\"n_freezer_run\"] == \"y\"][\"weekdays\"]] * 16\n",
    ").reset_index(drop=True)\n",
    "weekdays.shape"
   ]
  },
  {
   "cell_type": "code",
   "execution_count": null,
   "metadata": {},
   "outputs": [],
   "source": [
    "seq = freezer_run_sched[\"time\"]\n",
    "hours = pd.concat([seq] * 14, axis=0).reset_index(drop=True)\n",
    "hours"
   ]
  },
  {
   "cell_type": "code",
   "execution_count": null,
   "metadata": {},
   "outputs": [],
   "source": [
    "hour_schedule = pd.concat([weekdays, hours], axis=1, ignore_index=True)[:-2]\n",
    "hour_schedule.columns = [\"date\", \"hour\"]\n",
    "hour_schedule"
   ]
  },
  {
   "cell_type": "code",
   "execution_count": null,
   "metadata": {},
   "outputs": [],
   "source": [
    "planning_df"
   ]
  },
  {
   "attachments": {},
   "cell_type": "markdown",
   "metadata": {},
   "source": [
    "7 normal and extreme wine repeats, 3 wines each = 21 individual elements.\n",
    "n0101\n",
    "n0102\n",
    "n0201\n",
    "etc."
   ]
  },
  {
   "cell_type": "code",
   "execution_count": null,
   "metadata": {},
   "outputs": [],
   "source": [
    "sample_code_gen(\"n\", 3, 7)"
   ]
  },
  {
   "cell_type": "code",
   "execution_count": null,
   "metadata": {},
   "outputs": [],
   "source": []
  },
  {
   "attachments": {},
   "cell_type": "markdown",
   "metadata": {},
   "source": [
    "Need to generate blocks of nnneee then assign them to days corresponding to n_freezer_run from 9am to 3pm."
   ]
  },
  {
   "cell_type": "code",
   "execution_count": null,
   "metadata": {},
   "outputs": [],
   "source": [
    "freezer_run_dates = planning_df.loc[planning_df[\"n_freezer_run\"] == \"y\", \"weekdays\"]\n",
    "freezer_run_dates"
   ]
  },
  {
   "cell_type": "code",
   "execution_count": null,
   "metadata": {},
   "outputs": [],
   "source": [
    "def sample_code_gen(exp=[], num_wines=int, num_rep=int):\n",
    "    exp = pd.DataFrame(exp, columns=[\"exp\"])\n",
    "    wine = pd.DataFrame(\n",
    "        [str(wine + 1).zfill(2) for wine in range(0, num_wines)], columns=[\"wine\"]\n",
    "    )\n",
    "    reps = pd.DataFrame(\n",
    "        [str(rep + 1).zfill(2) for rep in range(0, num_rep)], columns=[\"rep\"]\n",
    "    )\n",
    "\n",
    "    exp[\"key\"] = 1\n",
    "    reps[\"key\"] = 1\n",
    "    wine[\"key\"] = 1\n",
    "\n",
    "    result = pd.merge(exp, reps, on=\"key\")\n",
    "    result = pd.merge(result, wine, on=\"key\")[[\"exp\", \"rep\", \"wine\"]]\n",
    "\n",
    "    result[\"code\"] = result[\"exp\"] + result[\"wine\"] + result[\"rep\"]\n",
    "    return result\n",
    "\n",
    "\n",
    "codes = sample_code_gen([\"a\", \"n\", \"e\"], 3, 7)\n",
    "codes.head()"
   ]
  },
  {
   "cell_type": "code",
   "execution_count": null,
   "metadata": {},
   "outputs": [],
   "source": [
    "codes[(codes.exp.isin([\"n\", \"e\"])) & (codes[\"rep\"].astype(\"int\") == 1)]"
   ]
  },
  {
   "cell_type": "code",
   "execution_count": null,
   "metadata": {},
   "outputs": [],
   "source": [
    "# hour_schedule.loc[hour_schedule['date'].isin(freezer_run_dates), 'exp'] ="
   ]
  },
  {
   "cell_type": "code",
   "execution_count": null,
   "metadata": {},
   "outputs": [],
   "source": [
    "planning_df"
   ]
  },
  {
   "cell_type": "code",
   "execution_count": null,
   "metadata": {},
   "outputs": [],
   "source": [
    "hour_schedule.sort_values([\"date\", \"hour\"])"
   ]
  },
  {
   "cell_type": "code",
   "execution_count": null,
   "metadata": {},
   "outputs": [],
   "source": [
    "hour_schedule[\"day_num\"] = hour_schedule[\"date\"].dt.weekday\n",
    "hour_schedule[\"day\"] = hour_schedule[\"date\"].dt.day_name()\n",
    "hour_schedule"
   ]
  },
  {
   "cell_type": "code",
   "execution_count": null,
   "metadata": {},
   "outputs": [],
   "source": []
  }
 ],
 "metadata": {
  "kernelspec": {
   "display_name": "Python 3",
   "language": "python",
   "name": "python3"
  },
  "language_info": {
   "codemirror_mode": {
    "name": "ipython",
    "version": 3
   },
   "file_extension": ".py",
   "mimetype": "text/x-python",
   "name": "python",
   "nbconvert_exporter": "python",
   "pygments_lexer": "ipython3",
   "version": "3.11.1"
  }
 },
 "nbformat": 4,
 "nbformat_minor": 2
}
