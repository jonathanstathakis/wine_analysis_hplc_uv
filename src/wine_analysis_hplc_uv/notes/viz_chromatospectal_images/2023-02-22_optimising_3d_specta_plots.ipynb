{
 "cells": [
  {
   "cell_type": "markdown",
   "id": "0",
   "metadata": {},
   "source": [
    "# Optimising 3d surface plots for .UV data"
   ]
  },
  {
   "cell_type": "markdown",
   "id": "1",
   "metadata": {
    "tags": []
   },
   "source": [
    "## Todos"
   ]
  },
  {
   "cell_type": "markdown",
   "id": "2",
   "metadata": {},
   "source": [
    "The plots need to contain:\n",
    "\n",
    "- [ ] a method of controling the size of the plot.\n",
    "- [ ] title. \n",
    "- [x] x axis label.\n",
    "- [x] y axis label.\n",
    "- [x] z axis label.\n",
    "- [x] legend.\n",
    "- [ ] a method of controlling the range each axis."
   ]
  },
  {
   "cell_type": "markdown",
   "id": "3",
   "metadata": {},
   "source": [
    "## Set up software environment"
   ]
  },
  {
   "cell_type": "code",
   "execution_count": null,
   "id": "4",
   "metadata": {
    "tags": []
   },
   "outputs": [],
   "source": [
    "import rainbow as rb\n",
    "\n",
    "from pathlib import Path\n",
    "\n",
    "import pandas as pd\n",
    "\n",
    "%matplotlib inline  \n",
    "from plotly.offline import init_notebook_mode\n",
    "import cufflinks as cf\n",
    "\n",
    "init_notebook_mode(connected=True)\n",
    "cf.go_offline()"
   ]
  },
  {
   "cell_type": "markdown",
   "id": "5",
   "metadata": {},
   "source": [
    "## Import Data"
   ]
  },
  {
   "cell_type": "code",
   "execution_count": null,
   "id": "6",
   "metadata": {
    "tags": []
   },
   "outputs": [],
   "source": [
    "p = Path(\"/Users/jonathan/0_jono_data/2023-02-09_14-30-37_Z3.D/DAD1.UV\")\n",
    "p"
   ]
  },
  {
   "cell_type": "code",
   "execution_count": null,
   "id": "7",
   "metadata": {
    "tags": []
   },
   "outputs": [],
   "source": [
    "uv_data = rb.agilent.chemstation.parse_uv(str(p))\n",
    "\n",
    "\"/Users/jonathan/002_wine_analysis_hplc_uv/2023-02-09_14-30-37_Z3_uv-data.csv\"\n",
    "\n",
    "uv_data.export_csv(\n",
    "    \"/Users/jonathan/002_wine_analysis_hplc_uv/2023-02-09_14-30-37_Z3_uv-data.csv\"\n",
    ")"
   ]
  },
  {
   "cell_type": "code",
   "execution_count": null,
   "id": "8",
   "metadata": {
    "tags": []
   },
   "outputs": [],
   "source": [
    "uv_df = pd.read_csv(\n",
    "    \"/Users/jonathan/002_wine_analysis_hplc_uv/2023-02-09_14-30-37_Z3_uv-data.csv\"\n",
    ")\n",
    "\n",
    "uv_df.info()"
   ]
  },
  {
   "cell_type": "code",
   "execution_count": null,
   "id": "9",
   "metadata": {
    "tags": []
   },
   "outputs": [],
   "source": [
    "uv_df.head()"
   ]
  },
  {
   "cell_type": "markdown",
   "id": "10",
   "metadata": {},
   "source": [
    "## Try with Cufflinks"
   ]
  },
  {
   "cell_type": "code",
   "execution_count": null,
   "id": "11",
   "metadata": {
    "tags": []
   },
   "outputs": [],
   "source": [
    "wavelengths = [\"RT (min)\", \"240\", \"260\", \"280\", \"300\", \"320\"]\n",
    "\n",
    "uv_df[wavelengths].iplot(kind=\"surface\", title=\"test\")"
   ]
  },
  {
   "cell_type": "markdown",
   "id": "12",
   "metadata": {
    "tags": []
   },
   "source": [
    "How doest hthe API behave if we set RT to be index?"
   ]
  },
  {
   "cell_type": "markdown",
   "id": "13",
   "metadata": {
    "tags": []
   },
   "source": [
    "Need to melt the df."
   ]
  },
  {
   "cell_type": "code",
   "execution_count": null,
   "id": "14",
   "metadata": {},
   "outputs": [],
   "source": [
    "melt_uv_df = uv_df.melt(id_vars=\"RT (min)\")\n",
    "\n",
    "melt_uv_df.columns = [\"RT (min)\", \"wavelength\", \"mAU\"]\n",
    "\n",
    "display(melt_uv_df.head())\n",
    "\n",
    "melt_uv_df.info()"
   ]
  },
  {
   "cell_type": "markdown",
   "id": "15",
   "metadata": {},
   "source": [
    "Which looks promising. To use plotting api's, wavelength needs to be in a numerical format."
   ]
  },
  {
   "cell_type": "code",
   "execution_count": null,
   "id": "16",
   "metadata": {},
   "outputs": [],
   "source": [
    "melt_uv_df[\"wavelength\"] = pd.to_numeric(melt_uv_df[\"wavelength\"])"
   ]
  },
  {
   "cell_type": "code",
   "execution_count": null,
   "id": "17",
   "metadata": {},
   "outputs": [],
   "source": [
    "melt_uv_df[\"wavelength\"].values"
   ]
  },
  {
   "cell_type": "code",
   "execution_count": null,
   "id": "18",
   "metadata": {
    "tags": []
   },
   "outputs": [],
   "source": [
    "melt_uv_df.iplot(kind=\"surface\", x=\"RT (min)\", y=\"wavelength\", z=\"mAU\")"
   ]
  },
  {
   "cell_type": "markdown",
   "id": "19",
   "metadata": {},
   "source": [
    "It is not able to plot the data in this format."
   ]
  },
  {
   "cell_type": "markdown",
   "id": "20",
   "metadata": {
    "tags": []
   },
   "source": [
    "Try with plotly directly.."
   ]
  },
  {
   "cell_type": "markdown",
   "id": "21",
   "metadata": {},
   "source": [
    "## Try with Plotly"
   ]
  },
  {
   "cell_type": "markdown",
   "id": "22",
   "metadata": {},
   "source": [
    "## Generating a Simulated Dataset"
   ]
  },
  {
   "cell_type": "markdown",
   "id": "23",
   "metadata": {
    "tags": []
   },
   "source": [
    "It may be easier to diagnose problems if we ues a smaller, simulated dataset."
   ]
  },
  {
   "cell_type": "markdown",
   "id": "24",
   "metadata": {
    "tags": []
   },
   "source": [
    "To produce a simulated long dataset, need a dict with 3 keys: \"min\", \"nm\", \"mAU\", each containing values of corresponding length. Say ~~10 data points each~~ need 100 data points for sufficient smoothness, 1 peak, absorbance is a ~~sine wave~~ normal distribution.\n",
    "\n",
    "\"min\" ranges from 0 - 10.\n",
    "\n",
    "\"nm\" ranges from 220 - 260.\n",
    "\n",
    "absorbance ranges from 0 - 1500."
   ]
  },
  {
   "cell_type": "markdown",
   "id": "25",
   "metadata": {},
   "source": [
    "Been doing this wrong. Need to generate a seperate dataset for each wavelength. Easiest way to do it is to do it that way then melt as opposed to attempting to build a melted dataset from scratch."
   ]
  },
  {
   "cell_type": "code",
   "execution_count": null,
   "id": "26",
   "metadata": {
    "tags": []
   },
   "outputs": [],
   "source": [
    "# code lifted from https://stackoverflow.com/questions/10138085/how-to-plot-normal-distribution\n",
    "\n",
    "import numpy as np\n",
    "import scipy.stats as stats\n",
    "import math\n",
    "\n",
    "\n",
    "def norm_dist_curve_genner(total_mins=int, peak_max_factor=int, peak_loc=int):\n",
    "    mu = peak_loc\n",
    "\n",
    "    variance = 1\n",
    "\n",
    "    sigma = math.sqrt(variance)\n",
    "\n",
    "    # linspace args: start, stop, number of data points\n",
    "\n",
    "    mins = np.linspace(0, total_mins, 100)\n",
    "\n",
    "    absorb = stats.norm.pdf(mins, mu, sigma) * peak_max_factor\n",
    "\n",
    "    # plt.plot(mins, absorb)\n",
    "\n",
    "    # plt.show()\n",
    "\n",
    "    return absorb\n",
    "\n",
    "\n",
    "norm_dist_curve_genner(10, 4000, 2)[0:50]"
   ]
  },
  {
   "cell_type": "code",
   "execution_count": null,
   "id": "27",
   "metadata": {
    "tags": []
   },
   "outputs": [],
   "source": [
    "import random"
   ]
  },
  {
   "cell_type": "code",
   "execution_count": null,
   "id": "28",
   "metadata": {
    "tags": []
   },
   "outputs": [],
   "source": [
    "sim_data_dict = {}\n",
    "\n",
    "for nm in wavelengths:\n",
    "    peak_loc = random.randint(0, 10)\n",
    "\n",
    "    peak_max_factor = random.randint(500, 1500)\n",
    "\n",
    "    sim_data_dict[nm] = norm_dist_curve_genner(10, peak_max_factor, peak_loc)\n",
    "\n",
    "sim_data_dict[\"mins\"] = np.linspace(0, 10, 100)\n",
    "\n",
    "sim_data_dict.keys()"
   ]
  },
  {
   "cell_type": "markdown",
   "id": "29",
   "metadata": {},
   "source": [
    "I dont know how, but somehow 'RT (min)' is turning up in the dict. simplest course of action is to pop it:"
   ]
  },
  {
   "cell_type": "code",
   "execution_count": null,
   "id": "30",
   "metadata": {
    "tags": []
   },
   "outputs": [],
   "source": [
    "sim_data_dict.pop(\"RT (min)\")\n",
    "\n",
    "sim_data_dict.keys()"
   ]
  },
  {
   "cell_type": "markdown",
   "id": "31",
   "metadata": {},
   "source": [
    "Now to form the data into a long format:"
   ]
  },
  {
   "cell_type": "code",
   "execution_count": null,
   "id": "32",
   "metadata": {},
   "outputs": [],
   "source": [
    "sim_data_df = pd.DataFrame(sim_data_dict)\n",
    "\n",
    "sim_data_df_melt = sim_data_df.melt(id_vars=\"mins\", var_name=\"nm\", value_name=\"mAU\")\n",
    "\n",
    "sim_data_df_melt[\"nm\"] = pd.to_numeric(sim_data_df_melt[\"nm\"])\n",
    "\n",
    "sim_data_df_melt.set_index(\"mins\")"
   ]
  },
  {
   "cell_type": "markdown",
   "id": "33",
   "metadata": {},
   "source": [
    "I would much rather have line plots than surfaces, at least at the moment. So let's try to get that working first:"
   ]
  },
  {
   "cell_type": "code",
   "execution_count": null,
   "id": "34",
   "metadata": {
    "tags": []
   },
   "outputs": [],
   "source": [
    "fig = px.line_3d(sim_data_df_melt, x=\"nm\", y=\"mins\", z=\"mAU\", color=\"nm\")\n",
    "\n",
    "fig.update_layout(width=800, height=800)\n",
    "\n",
    "fig"
   ]
  },
  {
   "cell_type": "markdown",
   "id": "35",
   "metadata": {
    "tags": []
   },
   "source": [
    "Now how about a bigger dataset?"
   ]
  },
  {
   "cell_type": "code",
   "execution_count": null,
   "id": "36",
   "metadata": {
    "jupyter": {
     "source_hidden": true
    },
    "tags": []
   },
   "outputs": [],
   "source": [
    "melt_uv_df.columns = [\"mins\", \"nm\", \"mAU\"]\n",
    "\n",
    "melt_uv_df"
   ]
  },
  {
   "cell_type": "code",
   "execution_count": null,
   "id": "37",
   "metadata": {
    "tags": []
   },
   "outputs": [],
   "source": [
    "fig = px.line_3d(melt_uv_df, x=\"nm\", y=\"mins\", z=\"mAU\", color=\"nm\")\n",
    "\n",
    "fig.update_layout(width=800, height=800)\n",
    "\n",
    "fig"
   ]
  },
  {
   "cell_type": "markdown",
   "id": "38",
   "metadata": {},
   "source": [
    "Which is a fantastic result. Lets run with that for now. Collate the code below:"
   ]
  },
  {
   "cell_type": "code",
   "execution_count": null,
   "id": "39",
   "metadata": {
    "tags": []
   },
   "outputs": [],
   "source": [
    "# Set up the environment\n",
    "\n",
    "import rainbow as rb\n",
    "\n",
    "from pathlib import Path\n",
    "\n",
    "import pandas as pd\n",
    "\n",
    "\n",
    "from plotly.offline import init_notebook_mode\n",
    "\n",
    "from plotly import express as px\n",
    "\n",
    "# open a path to the data\n",
    "\n",
    "p = Path(\"/Users/jonathan/0_jono_data/2023-02-09_14-30-37_Z3.D/DAD1.UV\")\n",
    "\n",
    "print(p)\n",
    "\n",
    "# Convert the data to csv\n",
    "\n",
    "uv_data = rb.agilent.chemstation.parse_uv(str(p))\n",
    "\n",
    "\"/Users/jonathan/002_wine_analysis_hplc_uv/2023-02-09_14-30-37_Z3_uv-data.csv\"\n",
    "\n",
    "uv_data.export_csv(\n",
    "    \"/Users/jonathan/002_wine_analysis_hplc_uv/2023-02-09_14-30-37_Z3_uv-data.csv\"\n",
    ")\n",
    "\n",
    "# Read the csv (this and the preceeding could be excluded by either loading the data directly\n",
    "# or moving them to a different module).\n",
    "\n",
    "uv_df = pd.read_csv(\n",
    "    \"/Users/jonathan/002_wine_analysis_hplc_uv/2023-02-09_14-30-37_Z3_uv-data.csv\"\n",
    ")\n",
    "\n",
    "display(uv_df.info())\n",
    "\n",
    "display(uv_df.head())\n",
    "\n",
    "# format the data for plotting\n",
    "\n",
    "melt_uv_df = uv_df.melt(id_vars=\"RT (min)\")\n",
    "\n",
    "melt_uv_df.columns = [\"mins\", \"nm\", \"mAU\"]\n",
    "\n",
    "melt_uv_df[\"nm\"] = pd.to_numeric(melt_uv_df[\"nm\"])\n",
    "\n",
    "display(melt_uv_df.info())\n",
    "\n",
    "display(melt_uv_df.head())\n",
    "\n",
    "fig = px.line_3d(melt_uv_df, x=\"nm\", y=\"mins\", z=\"mAU\", color=\"nm\")\n",
    "\n",
    "fig.update_layout(width=800, height=800)\n",
    "\n",
    "display(fig)"
   ]
  },
  {
   "cell_type": "code",
   "execution_count": null,
   "id": "40",
   "metadata": {},
   "outputs": [],
   "source": []
  }
 ],
 "metadata": {
  "kernelspec": {
   "display_name": "Python 3 (ipykernel)",
   "language": "python",
   "name": "python3"
  },
  "language_info": {
   "codemirror_mode": {
    "name": "ipython",
    "version": 3
   },
   "file_extension": ".py",
   "mimetype": "text/x-python",
   "name": "python",
   "nbconvert_exporter": "python",
   "pygments_lexer": "ipython3",
   "version": "3.11.1"
  }
 },
 "nbformat": 4,
 "nbformat_minor": 5
}
