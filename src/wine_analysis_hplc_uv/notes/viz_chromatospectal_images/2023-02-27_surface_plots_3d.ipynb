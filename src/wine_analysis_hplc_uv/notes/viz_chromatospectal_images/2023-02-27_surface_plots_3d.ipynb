{
 "cells": [
  {
   "cell_type": "markdown",
   "id": "0",
   "metadata": {},
   "source": [
    "# Plotting 3d Data as a Surface"
   ]
  },
  {
   "cell_type": "code",
   "execution_count": null,
   "id": "1",
   "metadata": {
    "tags": []
   },
   "outputs": [],
   "source": [
    "from pathlib import Path\n",
    "\n",
    "\n",
    "import plotly.graph_objects as go\n",
    "\n",
    "import numpy as np\n",
    "\n",
    "import rainbow as rb\n",
    "\n",
    "p = Path(\"/Users/jonathan/0_jono_data/2023-02-22_2021-DEBORTOLI-CABERNET-MERLOT_HALO.D\")\n",
    "\n",
    "print(p)"
   ]
  },
  {
   "cell_type": "code",
   "execution_count": null,
   "id": "2",
   "metadata": {
    "tags": []
   },
   "outputs": [],
   "source": [
    "data = rb.read(str(p))\n",
    "data"
   ]
  },
  {
   "cell_type": "markdown",
   "id": "3",
   "metadata": {},
   "source": [
    "Now lets reduce to the window bound by nm = 211 to 250"
   ]
  },
  {
   "cell_type": "code",
   "execution_count": null,
   "id": "4",
   "metadata": {
    "tags": []
   },
   "outputs": [],
   "source": [
    "uv_data_211 = uv_data_211.iloc[::10, :]\n",
    "\n",
    "uv_data_211.shape\n",
    "\n",
    "surf_data = uv_data_211.melt(id_vars=\"mins\")\n",
    "\n",
    "surf_data.columns"
   ]
  },
  {
   "cell_type": "code",
   "execution_count": null,
   "id": "5",
   "metadata": {
    "tags": []
   },
   "outputs": [],
   "source": [
    "# Finally, a fucking working surface plot.\n",
    "\n",
    "p = go.Figure()\n",
    "p.add_trace(go.Surface(x=[0, 1, 2], y=[0, 1, 2], z=[[1, 1, 1], [1, 10, 1], [1, 1, 1]]))\n",
    "p.show()"
   ]
  },
  {
   "cell_type": "code",
   "execution_count": null,
   "id": "6",
   "metadata": {
    "jupyter": {
     "source_hidden": true
    },
    "tags": []
   },
   "outputs": [],
   "source": [
    "Z = np.linspace(1, 1, 9)\n",
    "Z = Z.reshape(3, 3)\n",
    "Z[1][1] = 20"
   ]
  },
  {
   "cell_type": "code",
   "execution_count": null,
   "id": "7",
   "metadata": {
    "tags": []
   },
   "outputs": [],
   "source": [
    "# Finally, a fucking working surface plot.\n",
    "\n",
    "import plotly.graph_objects as go\n",
    "\n",
    "p = go.Figure()\n",
    "p.add_trace(go.Surface(z=Z))\n",
    "p.show()"
   ]
  },
  {
   "cell_type": "markdown",
   "id": "8",
   "metadata": {},
   "source": [
    "[python - Reshape arbitrary length vector into square matrix with padding in numpy - Stack Overflow](https://stackoverflow.com/questions/41176248/reshape-arbitrary-length-vector-into-square-matrix-with-padding-in-numpy)"
   ]
  },
  {
   "cell_type": "markdown",
   "id": "9",
   "metadata": {},
   "source": [
    "Need a dataset that is square."
   ]
  },
  {
   "cell_type": "markdown",
   "id": "10",
   "metadata": {},
   "source": [
    "The full dataset is too large to plot in 3d. One approach could be to 'downsample, or use plotly's 'extend_traces' method."
   ]
  }
 ],
 "metadata": {
  "kernelspec": {
   "display_name": "Python 3 (ipykernel)",
   "language": "python",
   "name": "python3"
  },
  "language_info": {
   "codemirror_mode": {
    "name": "ipython",
    "version": 3
   },
   "file_extension": ".py",
   "mimetype": "text/x-python",
   "name": "python",
   "nbconvert_exporter": "python",
   "pygments_lexer": "ipython3",
   "version": "3.11.1"
  }
 },
 "nbformat": 4,
 "nbformat_minor": 5
}
