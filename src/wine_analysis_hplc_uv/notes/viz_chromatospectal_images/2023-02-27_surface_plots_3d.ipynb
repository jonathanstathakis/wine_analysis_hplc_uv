{
 "cells": [
  {
   "cell_type": "markdown",
   "id": "c4249728-0404-4df5-b717-f03cbfb65af9",
   "metadata": {},
   "source": [
    "# Plotting 3d Data as a Surface"
   ]
  },
  {
   "cell_type": "code",
   "execution_count": null,
   "id": "90abba8a-8645-4cb4-a902-117217982370",
   "metadata": {
    "tags": []
   },
   "outputs": [],
   "source": [
    "from pathlib import Path\n",
    "\n",
    "\n",
    "import plotly.graph_objects as go\n",
    "\n",
    "import numpy as np\n",
    "\n",
    "import rainbow as rb\n",
    "\n",
    "p = Path(\"/Users/jonathan/0_jono_data/2023-02-22_2021-DEBORTOLI-CABERNET-MERLOT_HALO.D\")\n",
    "\n",
    "print(p)"
   ]
  },
  {
   "cell_type": "code",
   "execution_count": null,
   "id": "893511ca-de09-44f5-a6cf-a0ebcb758af5",
   "metadata": {
    "tags": []
   },
   "outputs": [],
   "source": [
    "data = rb.read(str(p))\n",
    "data"
   ]
  },
  {
   "cell_type": "markdown",
   "id": "1b0585b1-01c5-4b76-94e5-f86856093620",
   "metadata": {},
   "source": [
    "Now lets reduce to the window bound by nm = 211 to 250"
   ]
  },
  {
   "cell_type": "code",
   "execution_count": null,
   "id": "a3568d2c-ed01-475b-9345-7e3954b1fc3f",
   "metadata": {
    "tags": []
   },
   "outputs": [],
   "source": [
    "uv_data_211 = uv_data_211.iloc[::10, :]\n",
    "\n",
    "uv_data_211.shape\n",
    "\n",
    "surf_data = uv_data_211.melt(id_vars=\"mins\")\n",
    "\n",
    "surf_data.columns"
   ]
  },
  {
   "cell_type": "code",
   "execution_count": null,
   "id": "2e44d829-bcec-48f2-8a74-9bac56e2aa9d",
   "metadata": {
    "tags": []
   },
   "outputs": [],
   "source": [
    "# Finally, a fucking working surface plot.\n",
    "\n",
    "p = go.Figure()\n",
    "p.add_trace(go.Surface(x=[0, 1, 2], y=[0, 1, 2], z=[[1, 1, 1], [1, 10, 1], [1, 1, 1]]))\n",
    "p.show()"
   ]
  },
  {
   "cell_type": "code",
   "execution_count": null,
   "id": "8fde1ab8-578c-4f6f-bb6a-18fbf1e68e98",
   "metadata": {
    "jupyter": {
     "source_hidden": true
    },
    "tags": []
   },
   "outputs": [],
   "source": [
    "Z = np.linspace(1, 1, 9)\n",
    "Z = Z.reshape(3, 3)\n",
    "Z[1][1] = 20"
   ]
  },
  {
   "cell_type": "code",
   "execution_count": null,
   "id": "49ab49a6-586f-4bfc-8b10-4b5199527ea0",
   "metadata": {
    "tags": []
   },
   "outputs": [],
   "source": [
    "# Finally, a fucking working surface plot.\n",
    "\n",
    "import plotly.graph_objects as go\n",
    "\n",
    "p = go.Figure()\n",
    "p.add_trace(go.Surface(z=Z))\n",
    "p.show()"
   ]
  },
  {
   "cell_type": "markdown",
   "id": "ed3e1843-05db-44ea-8231-0fb5d4fc8ebc",
   "metadata": {},
   "source": [
    "[python - Reshape arbitrary length vector into square matrix with padding in numpy - Stack Overflow](https://stackoverflow.com/questions/41176248/reshape-arbitrary-length-vector-into-square-matrix-with-padding-in-numpy)"
   ]
  },
  {
   "cell_type": "markdown",
   "id": "9c40e787-16f2-47f8-86f7-9582274ad9bc",
   "metadata": {},
   "source": [
    "Need a dataset that is square."
   ]
  },
  {
   "cell_type": "markdown",
   "id": "2a1babbb-b332-429c-ab1f-3fbdb064eb13",
   "metadata": {},
   "source": [
    "The full dataset is too large to plot in 3d. One approach could be to 'downsample, or use plotly's 'extend_traces' method."
   ]
  }
 ],
 "metadata": {
  "kernelspec": {
   "display_name": "Python 3 (ipykernel)",
   "language": "python",
   "name": "python3"
  },
  "language_info": {
   "codemirror_mode": {
    "name": "ipython",
    "version": 3
   },
   "file_extension": ".py",
   "mimetype": "text/x-python",
   "name": "python",
   "nbconvert_exporter": "python",
   "pygments_lexer": "ipython3",
   "version": "3.11.1"
  }
 },
 "nbformat": 4,
 "nbformat_minor": 5
}
