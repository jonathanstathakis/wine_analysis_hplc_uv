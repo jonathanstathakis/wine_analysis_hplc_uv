{
 "cells": [
  {
   "cell_type": "code",
   "execution_count": null,
   "id": "0",
   "metadata": {},
   "outputs": [],
   "source": [
    "%load_ext autoreload\n",
    "%autoreload 2"
   ]
  },
  {
   "cell_type": "markdown",
   "id": "1",
   "metadata": {},
   "source": [
    "# 2023-02-28 Trying to get Surface Plots Working"
   ]
  },
  {
   "cell_type": "code",
   "execution_count": null,
   "id": "2",
   "metadata": {
    "tags": []
   },
   "outputs": [],
   "source": [
    "import os\n",
    "\n",
    "os.getcwd()"
   ]
  },
  {
   "cell_type": "markdown",
   "id": "3",
   "metadata": {
    "tags": []
   },
   "source": [
    "## Load the required software and data"
   ]
  },
  {
   "cell_type": "code",
   "execution_count": null,
   "id": "4",
   "metadata": {
    "tags": []
   },
   "outputs": [],
   "source": [
    "from pathlib import Path\n",
    "\n",
    "\n",
    "from scripts.data_interface import retrieve_uv_data\n",
    "\n",
    "import rainbow as rb\n",
    "\n",
    "p = Path(\"/Users/jonathan/0_jono_data/2023-02-22_2021-DEBORTOLI-CABERNET-MERLOT_HALO.D\")\n",
    "\n",
    "print(p)\n",
    "\n",
    "uv_data = retrieve_uv_data(rb.read(str(p)))"
   ]
  },
  {
   "cell_type": "markdown",
   "id": "5",
   "metadata": {},
   "source": [
    "## Trying with `Extend_Traces()`"
   ]
  },
  {
   "cell_type": "markdown",
   "id": "6",
   "metadata": {
    "tags": []
   },
   "source": [
    "lets use a known dataset - `2023-02-22_2021-DEBORTOLI-CABERNET-MERLOT_HALO.D`. A quick description:"
   ]
  },
  {
   "cell_type": "markdown",
   "id": "7",
   "metadata": {},
   "source": [
    "## Preparing the Data"
   ]
  },
  {
   "cell_type": "code",
   "execution_count": null,
   "id": "8",
   "metadata": {
    "tags": []
   },
   "outputs": [],
   "source": [
    "uv_data.describe()"
   ]
  },
  {
   "cell_type": "markdown",
   "id": "9",
   "metadata": {},
   "source": [
    "Anything with a max abs that is too high or too low can be discarded. To do this, we can define a function that can take a dimension as a target, then set min and max values:"
   ]
  },
  {
   "cell_type": "markdown",
   "id": "10",
   "metadata": {
    "tags": []
   },
   "source": [
    "#### Defining a Windowing Function"
   ]
  },
  {
   "cell_type": "code",
   "execution_count": null,
   "id": "11",
   "metadata": {
    "tags": []
   },
   "outputs": [],
   "source": [
    "def df_windower(dimension=str, min_val=int, max_val=int):\n",
    "    melt_d = uv_data.melt(id_vars=\"mins\", value_name=\"mAU\", var_name=\"nm\")\n",
    "\n",
    "    melt_d = melt_d[\n",
    "        (melt_d[f\"{dimension}\"] > min_val) & (melt_d[f\"{dimension}\"] < max_val)\n",
    "    ]\n",
    "\n",
    "    pivot_d = melt_d.pivot(columns=[\"nm\"], values=\"mAU\", index=\"mins\")\n",
    "\n",
    "    pivot_d = pivot_d.reset_index()\n",
    "\n",
    "    return pivot_d"
   ]
  },
  {
   "cell_type": "markdown",
   "id": "12",
   "metadata": {},
   "source": [
    "And test it with 'nm':"
   ]
  },
  {
   "cell_type": "code",
   "execution_count": null,
   "id": "13",
   "metadata": {
    "tags": []
   },
   "outputs": [],
   "source": [
    "window_uv_data = df_windower(\"nm\", 211, 255)\n",
    "\n",
    "window_uv_data.describe()"
   ]
  },
  {
   "cell_type": "markdown",
   "id": "14",
   "metadata": {},
   "source": [
    "How about 'mins'?"
   ]
  },
  {
   "cell_type": "code",
   "execution_count": null,
   "id": "15",
   "metadata": {
    "tags": []
   },
   "outputs": [],
   "source": [
    "window_uv_data = df_windower(\"mins\", 12, 24)\n",
    "\n",
    "window_uv_data.describe()"
   ]
  },
  {
   "cell_type": "markdown",
   "id": "16",
   "metadata": {},
   "source": [
    "And wb absorbance?"
   ]
  },
  {
   "cell_type": "code",
   "execution_count": null,
   "id": "17",
   "metadata": {
    "tags": []
   },
   "outputs": [],
   "source": [
    "window_uv_data = df_windower(\"mAU\", 500, 1000)\n",
    "\n",
    "window_uv_data.describe()"
   ]
  },
  {
   "cell_type": "markdown",
   "id": "18",
   "metadata": {},
   "source": [
    "Doesn't quite work for absorbance because itll drop any entry where the absorbance is outside of the window. Good for the other two though."
   ]
  },
  {
   "cell_type": "markdown",
   "id": "19",
   "metadata": {
    "tags": []
   },
   "source": [
    "### Producing a Surface"
   ]
  },
  {
   "cell_type": "code",
   "execution_count": null,
   "id": "20",
   "metadata": {
    "tags": []
   },
   "outputs": [],
   "source": [
    "import math\n",
    "\n",
    "import numpy as np\n",
    "\n",
    "\n",
    "def square_surface(data_array):\n",
    "    print(\"calculating array size to be squarable:\")\n",
    "    try:\n",
    "        next_sqrt = 1 + math.isqrt(data_array.size - 1)\n",
    "        print(f\"next highest integer root is {next_sqrt}\")\n",
    "\n",
    "    except Exception as e:\n",
    "        print(f\"failed to calculate array size: f{e}\")\n",
    "\n",
    "    print(f\"resizing array with size {next_sqrt**2} by {next_sqrt**2}\")\n",
    "\n",
    "    try:\n",
    "        resized_array = np.resize(data_array, (next_sqrt**2, next_sqrt**2))\n",
    "\n",
    "        print(f\"new array is size {resized_array.size}\")\n",
    "\n",
    "    except Exception as e:\n",
    "        print(f\"failed to resize the array: {e}\")\n",
    "\n",
    "    dim = np.sqrt(resized_array.size).astype(int)\n",
    "\n",
    "    print(\n",
    "        f\"to from a square, the array will have sides of length {dim}. Reshaping now:\"\n",
    "    )\n",
    "\n",
    "    try:\n",
    "        square_array = resized_array.reshape(dim, dim)\n",
    "    except Exception as e:\n",
    "        print(f\"Failed to reshape the array: {e}\")\n",
    "\n",
    "    return square_array"
   ]
  },
  {
   "cell_type": "code",
   "execution_count": null,
   "id": "21",
   "metadata": {
    "tags": []
   },
   "outputs": [],
   "source": [
    "Z = square_surface(pivot_d)\n",
    "\n",
    "Z.size"
   ]
  },
  {
   "cell_type": "markdown",
   "id": "22",
   "metadata": {},
   "source": [
    "11-04: The dataset between 211 and 255nm is still way to big without any sort of processing. I need to look into smoothing and downsampling techniques before progressing further."
   ]
  },
  {
   "cell_type": "markdown",
   "id": "23",
   "metadata": {},
   "source": [
    "## Data Streaming\n",
    "\n",
    "The following cell is a template for data streaming a set into a 3d surface dynamically, generated by ChatGPT."
   ]
  },
  {
   "cell_type": "code",
   "execution_count": null,
   "id": "24",
   "metadata": {
    "tags": []
   },
   "outputs": [],
   "source": [
    "# import plotly.graph_objs as go\n",
    "# import time\n",
    "\n",
    "# fig = go.Figure(data=[go.Surface(z=[])])\n",
    "\n",
    "# fig.show()\n",
    "\n",
    "# num_batchs = 50\n",
    "\n",
    "# for i in range(num_batches):\n",
    "#     # Generate new batch of data\n",
    "#     x_new, y_new, z_new = generate_new_data()\n",
    "\n",
    "#     # Update the data of the surface plot using extend_traces\n",
    "#     fig.data[0].extend_traces(\n",
    "#         x=[x_new], y=[y_new], z=[z_new],\n",
    "#         indices=[(i, j) for i in range(len(x_new)) for j in range(len(y_new))]\n",
    "#     )\n",
    "\n",
    "#     # Wait for a short time before generating the next batch of data\n",
    "#     time.sleep(0.5)\n",
    "\n",
    "# fig.update_layout(title='Surface plot with data streaming')\n",
    "# fig.show()"
   ]
  }
 ],
 "metadata": {
  "kernelspec": {
   "display_name": "Python 3 (ipykernel)",
   "language": "python",
   "name": "python3"
  },
  "language_info": {
   "codemirror_mode": {
    "name": "ipython",
    "version": 3
   },
   "file_extension": ".py",
   "mimetype": "text/x-python",
   "name": "python",
   "nbconvert_exporter": "python",
   "pygments_lexer": "ipython3",
   "version": "3.11.1"
  }
 },
 "nbformat": 4,
 "nbformat_minor": 5
}
