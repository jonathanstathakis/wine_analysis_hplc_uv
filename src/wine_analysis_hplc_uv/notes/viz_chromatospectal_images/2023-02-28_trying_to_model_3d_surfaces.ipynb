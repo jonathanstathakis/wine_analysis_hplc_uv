{
 "cells": [
  {
   "cell_type": "code",
   "execution_count": null,
   "id": "f1c0f929-643e-4879-91ad-4655c6336ff3",
   "metadata": {},
   "outputs": [],
   "source": [
    "%load_ext autoreload\n",
    "%autoreload 2"
   ]
  },
  {
   "cell_type": "markdown",
   "id": "a7efd6f9-75f5-4bd6-83b0-f9c36be692f4",
   "metadata": {},
   "source": [
    "# 2023-02-28 Trying to get Surface Plots Working"
   ]
  },
  {
   "cell_type": "code",
   "execution_count": null,
   "id": "57d06fa9-88bc-47cc-8750-5a8b725b4455",
   "metadata": {
    "tags": []
   },
   "outputs": [],
   "source": [
    "import os\n",
    "\n",
    "os.getcwd()"
   ]
  },
  {
   "cell_type": "markdown",
   "id": "12133003-bd52-4c56-8fd5-e0f0791f393b",
   "metadata": {
    "tags": []
   },
   "source": [
    "## Load the required software and data"
   ]
  },
  {
   "cell_type": "code",
   "execution_count": null,
   "id": "16ddc69b-4892-4659-a79f-3e22cc6830e0",
   "metadata": {
    "tags": []
   },
   "outputs": [],
   "source": [
    "from pathlib import Path\n",
    "\n",
    "\n",
    "from scripts.data_interface import retrieve_uv_data\n",
    "\n",
    "import rainbow as rb\n",
    "\n",
    "p = Path(\"/Users/jonathan/0_jono_data/2023-02-22_2021-DEBORTOLI-CABERNET-MERLOT_HALO.D\")\n",
    "\n",
    "print(p)\n",
    "\n",
    "uv_data = retrieve_uv_data(rb.read(str(p)))"
   ]
  },
  {
   "cell_type": "markdown",
   "id": "e63193a4-19c1-48ca-bd0a-5a3efb7a1b10",
   "metadata": {},
   "source": [
    "## Trying with `Extend_Traces()`"
   ]
  },
  {
   "cell_type": "markdown",
   "id": "c046c289-8e66-489d-8a44-d5c78d45ec06",
   "metadata": {
    "tags": []
   },
   "source": [
    "lets use a known dataset - `2023-02-22_2021-DEBORTOLI-CABERNET-MERLOT_HALO.D`. A quick description:"
   ]
  },
  {
   "cell_type": "markdown",
   "id": "aae22408-aa3e-4123-9fbd-a784d1f454b1",
   "metadata": {},
   "source": [
    "## Preparing the Data"
   ]
  },
  {
   "cell_type": "code",
   "execution_count": null,
   "id": "3c998ef2-76c8-42ba-a269-c35182f5a835",
   "metadata": {
    "tags": []
   },
   "outputs": [],
   "source": [
    "uv_data.describe()"
   ]
  },
  {
   "cell_type": "markdown",
   "id": "187b25ba-9f48-4070-84c9-61be1c4d6956",
   "metadata": {},
   "source": [
    "Anything with a max abs that is too high or too low can be discarded. To do this, we can define a function that can take a dimension as a target, then set min and max values:"
   ]
  },
  {
   "cell_type": "markdown",
   "id": "681a7f75-138b-4119-8e57-89f0605fb557",
   "metadata": {
    "tags": []
   },
   "source": [
    "#### Defining a Windowing Function"
   ]
  },
  {
   "cell_type": "code",
   "execution_count": null,
   "id": "cfe0b5c8-b98c-4ac4-a62f-69078e82b7cb",
   "metadata": {
    "tags": []
   },
   "outputs": [],
   "source": [
    "def df_windower(dimension=str, min_val=int, max_val=int):\n",
    "    melt_d = uv_data.melt(id_vars=\"mins\", value_name=\"mAU\", var_name=\"nm\")\n",
    "\n",
    "    melt_d = melt_d[\n",
    "        (melt_d[f\"{dimension}\"] > min_val) & (melt_d[f\"{dimension}\"] < max_val)\n",
    "    ]\n",
    "\n",
    "    pivot_d = melt_d.pivot(columns=[\"nm\"], values=\"mAU\", index=\"mins\")\n",
    "\n",
    "    pivot_d = pivot_d.reset_index()\n",
    "\n",
    "    return pivot_d"
   ]
  },
  {
   "cell_type": "markdown",
   "id": "f668ec4e-e955-476c-8ec8-5f82e24d302f",
   "metadata": {},
   "source": [
    "And test it with 'nm':"
   ]
  },
  {
   "cell_type": "code",
   "execution_count": null,
   "id": "01ebaa10-9428-4a18-9a39-fc73337f60c8",
   "metadata": {
    "tags": []
   },
   "outputs": [],
   "source": [
    "window_uv_data = df_windower(\"nm\", 211, 255)\n",
    "\n",
    "window_uv_data.describe()"
   ]
  },
  {
   "cell_type": "markdown",
   "id": "9142aa4f-e00c-44cf-ab16-02b6cb990c64",
   "metadata": {},
   "source": [
    "How about 'mins'?"
   ]
  },
  {
   "cell_type": "code",
   "execution_count": null,
   "id": "7075027f-d93c-4368-b894-7044a62084a7",
   "metadata": {
    "tags": []
   },
   "outputs": [],
   "source": [
    "window_uv_data = df_windower(\"mins\", 12, 24)\n",
    "\n",
    "window_uv_data.describe()"
   ]
  },
  {
   "cell_type": "markdown",
   "id": "1697b585-6dc5-4ecd-8fa8-fdaa6d7c08eb",
   "metadata": {},
   "source": [
    "And wb absorbance?"
   ]
  },
  {
   "cell_type": "code",
   "execution_count": null,
   "id": "3555c052-6378-4457-bae8-872428b9dae6",
   "metadata": {
    "tags": []
   },
   "outputs": [],
   "source": [
    "window_uv_data = df_windower(\"mAU\", 500, 1000)\n",
    "\n",
    "window_uv_data.describe()"
   ]
  },
  {
   "cell_type": "markdown",
   "id": "d40eda38-55c3-481c-a29f-a119dabb59b8",
   "metadata": {},
   "source": [
    "Doesn't quite work for absorbance because itll drop any entry where the absorbance is outside of the window. Good for the other two though."
   ]
  },
  {
   "cell_type": "markdown",
   "id": "2d373cc6-0555-4781-a0da-44cebe6d92b5",
   "metadata": {
    "tags": []
   },
   "source": [
    "### Producing a Surface"
   ]
  },
  {
   "cell_type": "code",
   "execution_count": null,
   "id": "96abc1d1-2d14-40df-9008-6026d4fbba6d",
   "metadata": {
    "tags": []
   },
   "outputs": [],
   "source": [
    "import math\n",
    "\n",
    "import numpy as np\n",
    "\n",
    "\n",
    "def square_surface(data_array):\n",
    "    print(\"calculating array size to be squarable:\")\n",
    "    try:\n",
    "        next_sqrt = 1 + math.isqrt(data_array.size - 1)\n",
    "        print(f\"next highest integer root is {next_sqrt}\")\n",
    "\n",
    "    except Exception as e:\n",
    "        print(f\"failed to calculate array size: f{e}\")\n",
    "\n",
    "    print(f\"resizing array with size {next_sqrt**2} by {next_sqrt**2}\")\n",
    "\n",
    "    try:\n",
    "        resized_array = np.resize(data_array, (next_sqrt**2, next_sqrt**2))\n",
    "\n",
    "        print(f\"new array is size {resized_array.size}\")\n",
    "\n",
    "    except Exception as e:\n",
    "        print(f\"failed to resize the array: {e}\")\n",
    "\n",
    "    dim = np.sqrt(resized_array.size).astype(int)\n",
    "\n",
    "    print(\n",
    "        f\"to from a square, the array will have sides of length {dim}. Reshaping now:\"\n",
    "    )\n",
    "\n",
    "    try:\n",
    "        square_array = resized_array.reshape(dim, dim)\n",
    "    except Exception as e:\n",
    "        print(f\"Failed to reshape the array: {e}\")\n",
    "\n",
    "    return square_array"
   ]
  },
  {
   "cell_type": "code",
   "execution_count": null,
   "id": "3201947d-955b-45b5-8ee4-270a2be961c7",
   "metadata": {
    "tags": []
   },
   "outputs": [],
   "source": [
    "Z = square_surface(pivot_d)\n",
    "\n",
    "Z.size"
   ]
  },
  {
   "cell_type": "markdown",
   "id": "9177631b-b30c-468c-ad68-243959449ff3",
   "metadata": {},
   "source": [
    "11-04: The dataset between 211 and 255nm is still way to big without any sort of processing. I need to look into smoothing and downsampling techniques before progressing further."
   ]
  },
  {
   "cell_type": "markdown",
   "id": "e6800d9d-0abe-44bf-b38f-04a6decace70",
   "metadata": {},
   "source": [
    "## Data Streaming\n",
    "\n",
    "The following cell is a template for data streaming a set into a 3d surface dynamically, generated by ChatGPT."
   ]
  },
  {
   "cell_type": "code",
   "execution_count": null,
   "id": "7337b0d7-fa9d-4c94-b730-98e5d053a85e",
   "metadata": {
    "tags": []
   },
   "outputs": [],
   "source": [
    "# import plotly.graph_objs as go\n",
    "# import time\n",
    "\n",
    "# fig = go.Figure(data=[go.Surface(z=[])])\n",
    "\n",
    "# fig.show()\n",
    "\n",
    "# num_batchs = 50\n",
    "\n",
    "# for i in range(num_batches):\n",
    "#     # Generate new batch of data\n",
    "#     x_new, y_new, z_new = generate_new_data()\n",
    "\n",
    "#     # Update the data of the surface plot using extend_traces\n",
    "#     fig.data[0].extend_traces(\n",
    "#         x=[x_new], y=[y_new], z=[z_new],\n",
    "#         indices=[(i, j) for i in range(len(x_new)) for j in range(len(y_new))]\n",
    "#     )\n",
    "\n",
    "#     # Wait for a short time before generating the next batch of data\n",
    "#     time.sleep(0.5)\n",
    "\n",
    "# fig.update_layout(title='Surface plot with data streaming')\n",
    "# fig.show()"
   ]
  }
 ],
 "metadata": {
  "kernelspec": {
   "display_name": "Python 3 (ipykernel)",
   "language": "python",
   "name": "python3"
  },
  "language_info": {
   "codemirror_mode": {
    "name": "ipython",
    "version": 3
   },
   "file_extension": ".py",
   "mimetype": "text/x-python",
   "name": "python",
   "nbconvert_exporter": "python",
   "pygments_lexer": "ipython3",
   "version": "3.11.1"
  }
 },
 "nbformat": 4,
 "nbformat_minor": 5
}
