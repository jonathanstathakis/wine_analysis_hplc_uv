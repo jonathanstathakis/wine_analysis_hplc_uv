{
 "cells": [
  {
   "cell_type": "code",
   "execution_count": null,
   "id": "0",
   "metadata": {
    "tags": []
   },
   "outputs": [],
   "source": [
    "from pathlib import Path\n",
    "\n",
    "import re\n",
    "\n",
    "p = Path(\"/Users/jonathan/002_0_jono_data\")\n",
    "\n",
    "for obj in p.iterdir():\n",
    "    if \".D\" in obj.name and \"DS\" not in obj.name:\n",
    "        print(obj.name)"
   ]
  },
  {
   "cell_type": "markdown",
   "id": "1",
   "metadata": {
    "tags": []
   },
   "source": [
    "first fix date formats."
   ]
  },
  {
   "cell_type": "markdown",
   "id": "2",
   "metadata": {},
   "source": [
    "https://stackoverflow.com/questions/57923275/correct-way-to-replace-date-yyyymmdd-to-yyyy-mm-dd-by-using-replace-method"
   ]
  },
  {
   "cell_type": "code",
   "execution_count": null,
   "id": "3",
   "metadata": {
    "tags": []
   },
   "outputs": [],
   "source": [
    "# re.sub(r'\\s(\\d{4})([0-1][0-9])([0-3][0-9])\\s', r' \\1-\\2-\\3 ', s)"
   ]
  },
  {
   "cell_type": "markdown",
   "id": "4",
   "metadata": {},
   "source": [
    "The below is a test to see how the regex string achieves the outcome, considering that inputting my filestrings does not work.\n",
    "\n",
    "I will define both the original text \"some text 20230123 test\" and my filepath string \"20230123_WINE_TEST_GRAD_5.D\", then break the regex string down into its components to see what happens."
   ]
  },
  {
   "cell_type": "code",
   "execution_count": null,
   "id": "5",
   "metadata": {
    "tags": []
   },
   "outputs": [],
   "source": [
    "original_text = \"some text 20230123 test\"\n",
    "\n",
    "my_text = \"20230123_WINE_TEST_GRAD_5.D\"\n",
    "\n",
    "regex_string = r\"(\\d{4})([0-1][0-9])([0-3][0-9])\"\n",
    "\n",
    "substitution_pattern_string = r\" \\1-\\2-\\3\"\n",
    "\n",
    "original_text_sub = re.sub(regex_string, substitution_pattern_string, original_text)\n",
    "\n",
    "print(\"original_text:\", original_text)\n",
    "\n",
    "print(\"original text reg sub:\", original_text_sub)\n",
    "\n",
    "my_text_sub = re.sub(regex_string, substitution_pattern_string, my_text)\n",
    "\n",
    "print(\"\\n\")\n",
    "\n",
    "\n",
    "print(\"my_text:\", my_text)\n",
    "print(\"my text reg sub:\", my_text_sub)"
   ]
  },
  {
   "cell_type": "markdown",
   "id": "6",
   "metadata": {},
   "source": [
    "So the capture groups are defined by the brackets.\n",
    "\n",
    "capture group 1 = `(\\d{4))` four digits, year.\n",
    "\n",
    "capture group 2 = `([0-1][0-9))` four digits, first one 0-1, second one 0-9, month.\n",
    "\n",
    "capture group 3 = `([0-3][0-9])` 2 digits, first 0-3, second 0-9, day.\n",
    "\n",
    "Therefore, simply removing the `\\s` was enough to make it work on my filepath string.\n",
    "\n",
    "Now to apply it to all of the .D files."
   ]
  },
  {
   "cell_type": "code",
   "execution_count": null,
   "id": "7",
   "metadata": {
    "tags": []
   },
   "outputs": [],
   "source": [
    "test_list = []\n",
    "\n",
    "for obj in p.iterdir():\n",
    "    if \".D\" in obj.name and \"DS\" not in obj.name:\n",
    "        regex_string = r\"(\\d{4})([0-1][0-9])([0-3][0-9])\"\n",
    "\n",
    "        substitution_pattern_string = r\"\\1-\\2-\\3\"\n",
    "\n",
    "        date_substituted_name = re.sub(\n",
    "            regex_string, substitution_pattern_string, obj.name\n",
    "        )\n",
    "\n",
    "        print(date_substituted_name)\n",
    "\n",
    "        test_list.append(date_substituted_name)"
   ]
  },
  {
   "cell_type": "markdown",
   "id": "8",
   "metadata": {},
   "source": [
    "That works fine, except some of the file names also have hyphens after the dates when they should have underscores. Can I capture those hyphens and replace with underscores?"
   ]
  },
  {
   "cell_type": "code",
   "execution_count": null,
   "id": "9",
   "metadata": {
    "tags": []
   },
   "outputs": [],
   "source": [
    "string = \"2023-02-07-18-30-07-Z3_ID_NM_ABS_MAX.D\"\n",
    "\n",
    "hyphen_match_string = r\"(\\d{,4}-\\d{,2}-\\d{,2})-(.*)\"\n",
    "\n",
    "subbed_string = re.search(hyphen_match_string, string)\n",
    "\n",
    "print(subbed_string.groups())"
   ]
  },
  {
   "cell_type": "markdown",
   "id": "10",
   "metadata": {},
   "source": [
    "Ok, trying again.."
   ]
  },
  {
   "cell_type": "code",
   "execution_count": null,
   "id": "11",
   "metadata": {
    "tags": []
   },
   "outputs": [],
   "source": [
    "test_list = []\n",
    "\n",
    "for obj in p.iterdir():\n",
    "    if \".D\" in obj.name and \"DS\" not in obj.name:\n",
    "        print(obj.name)\n",
    "\n",
    "        try:\n",
    "            hyphen_match_string = r\"(\\d{,4}-?\\d{,2}-?\\d{,2})-?(\\d\\d-\\d\\d-\\d\\d)\"\n",
    "\n",
    "            subbed_string = re.search(hyphen_match_string, obj.name)\n",
    "\n",
    "            print(subbed_string.groups())\n",
    "        except Exception as e:\n",
    "            \"error\""
   ]
  }
 ],
 "metadata": {
  "kernelspec": {
   "display_name": "wine_analysis_hplc_uv_venv",
   "language": "python",
   "name": "wine_analysis_hplc_uv_venv"
  },
  "language_info": {
   "codemirror_mode": {
    "name": "ipython",
    "version": 3
   },
   "file_extension": ".py",
   "mimetype": "text/x-python",
   "name": "python",
   "nbconvert_exporter": "python",
   "pygments_lexer": "ipython3",
   "version": "3.11.1"
  }
 },
 "nbformat": 4,
 "nbformat_minor": 5
}
