{
 "cells": [
  {
   "cell_type": "code",
   "execution_count": null,
   "id": "93b82954-69e6-4a8a-840a-03421b43cf27",
   "metadata": {
    "tags": []
   },
   "outputs": [],
   "source": [
    "%load_ext autoreload\n",
    "%autoreload 2\n",
    "\n",
    "\n",
    "# import pandas as pd\n",
    "\n",
    "import sys\n",
    "\n",
    "\n",
    "sys.path.insert(0, \"/Users/jonathan/wine_analysis_hplc_uv/scripts/agilette/\")\n",
    "\n",
    "import agilette\n",
    "\n",
    "ag = agilette.Agilette(\"/Users/jonathan/0_jono_data\")"
   ]
  }
 ],
 "metadata": {
  "kernelspec": {
   "display_name": "Python 3 (ipykernel)",
   "language": "python",
   "name": "python3"
  },
  "language_info": {
   "codemirror_mode": {
    "name": "ipython",
    "version": 3
   },
   "file_extension": ".py",
   "mimetype": "text/x-python",
   "name": "python",
   "nbconvert_exporter": "python",
   "pygments_lexer": "ipython3",
   "version": "3.11.1"
  }
 },
 "nbformat": 4,
 "nbformat_minor": 5
}
