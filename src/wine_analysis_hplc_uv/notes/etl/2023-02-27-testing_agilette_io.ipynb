{
 "cells": [
  {
   "cell_type": "markdown",
   "id": "0",
   "metadata": {
    "tags": []
   },
   "source": [
    "# Testing Dataset UI Modules"
   ]
  },
  {
   "cell_type": "markdown",
   "id": "1",
   "metadata": {},
   "source": [
    "Test out the newly written data_interface modules, `data_table` and `retrieve_uv_data`"
   ]
  },
  {
   "cell_type": "markdown",
   "id": "2",
   "metadata": {},
   "source": [
    "## Data Table"
   ]
  },
  {
   "cell_type": "code",
   "execution_count": null,
   "id": "3",
   "metadata": {
    "tags": []
   },
   "outputs": [],
   "source": [
    "from pathlib import Path\n",
    "\n",
    "from data_interface import data_table, retrieve_uv_data\n",
    "from hplc_dad_plots import plot_3d_line\n",
    "\n",
    "p = Path(\"/Users/jonathan/0_jono_data\")\n",
    "\n",
    "print(p)"
   ]
  },
  {
   "cell_type": "code",
   "execution_count": null,
   "id": "4",
   "metadata": {
    "tags": []
   },
   "outputs": [],
   "source": [
    "df = data_table(p)\n",
    "\n",
    "df = df.sort_values(by=\"acquisition_date\", ascending=False)\n",
    "\n",
    "df.head()"
   ]
  },
  {
   "cell_type": "markdown",
   "id": "5",
   "metadata": {},
   "source": [
    "Now pull a particular dataset and extract the uv data"
   ]
  },
  {
   "cell_type": "code",
   "execution_count": null,
   "id": "6",
   "metadata": {
    "tags": []
   },
   "outputs": [],
   "source": [
    "data = df.loc[\"2021-DEBORTOLI-CABERNET-MERLOT_HALO.D\"][\"data\"]\n",
    "\n",
    "uv_data = retrieve_uv_data(data)\n",
    "\n",
    "uv_data.head()"
   ]
  },
  {
   "cell_type": "markdown",
   "id": "7",
   "metadata": {},
   "source": [
    "It would be useful to drop unwanted or unpopulated wavelengths. Since wavelengths are stored column by column, to drop a range we'd need to convert to a long format then institute a logical mask, then swap back to wide."
   ]
  },
  {
   "cell_type": "markdown",
   "id": "8",
   "metadata": {
    "tags": []
   },
   "source": [
    "## Dropping Unpopulated or Baseline-Biased Wavelengths"
   ]
  },
  {
   "cell_type": "code",
   "execution_count": null,
   "id": "9",
   "metadata": {
    "tags": []
   },
   "outputs": [],
   "source": [
    "# First I have to melt the dataframe so that the wavelengths can be treated as values rather than column names.\n",
    "\n",
    "uv_data_melt = uv_data.melt(id_vars=\"mins\", var_name=\"nm\", value_name=\"mAU\")\n",
    "\n",
    "# then\n",
    "uv_data_melt = uv_data_melt[(uv_data_melt[\"nm\"] > 210) & (uv_data_melt[\"nm\"] < 255)]\n",
    "uv_data_melt.head()"
   ]
  },
  {
   "cell_type": "markdown",
   "id": "10",
   "metadata": {},
   "source": [
    "Now to reset it back to wide format to be compatible with the plotting function."
   ]
  },
  {
   "cell_type": "code",
   "execution_count": null,
   "id": "11",
   "metadata": {
    "tags": []
   },
   "outputs": [],
   "source": [
    "uv_data_211 = uv_data_melt.pivot(columns=[\"nm\"], index=\"mins\", values=\"mAU\")\n",
    "\n",
    "uv_data_211 = uv_data_211.reset_index(names=\"mins\")\n",
    "\n",
    "uv_data_211.head()"
   ]
  },
  {
   "cell_type": "code",
   "execution_count": null,
   "id": "12",
   "metadata": {
    "tags": []
   },
   "outputs": [],
   "source": [
    "plot_3d_line(uv_data_211, plot_title=data.name)"
   ]
  },
  {
   "cell_type": "markdown",
   "id": "13",
   "metadata": {},
   "source": [
    "We're looking like we've got a good interface going now. next step will be to:\n",
    "\n",
    "- Integrate sequences into the table.\n",
    "- Get a dashboard going with Panel.\n",
    "- Get some descriptive measurements going through scipy.\n",
    "- get some statistical data going."
   ]
  }
 ],
 "metadata": {
  "kernelspec": {
   "display_name": "Python 3 (ipykernel)",
   "language": "python",
   "name": "python3"
  },
  "language_info": {
   "codemirror_mode": {
    "name": "ipython",
    "version": 3
   },
   "file_extension": ".py",
   "mimetype": "text/x-python",
   "name": "python",
   "nbconvert_exporter": "python",
   "pygments_lexer": "ipython3",
   "version": "3.11.1"
  }
 },
 "nbformat": 4,
 "nbformat_minor": 5
}
