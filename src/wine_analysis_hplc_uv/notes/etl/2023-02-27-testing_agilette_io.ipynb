{
 "cells": [
  {
   "cell_type": "markdown",
   "id": "c710556a-ee53-46fe-8628-9cae65120e09",
   "metadata": {
    "tags": []
   },
   "source": [
    "# Testing Dataset UI Modules"
   ]
  },
  {
   "cell_type": "markdown",
   "id": "2fb6b3c4-7c5f-494e-8cbf-5193172598da",
   "metadata": {},
   "source": [
    "Test out the newly written data_interface modules, `data_table` and `retrieve_uv_data`"
   ]
  },
  {
   "cell_type": "markdown",
   "id": "d5840b48-ea69-47c0-89c1-bdce1b4533b4",
   "metadata": {},
   "source": [
    "## Data Table"
   ]
  },
  {
   "cell_type": "code",
   "execution_count": null,
   "id": "dc00cdb5-b9d4-4512-92b7-3ad8bb2f4b6a",
   "metadata": {
    "tags": []
   },
   "outputs": [],
   "source": [
    "from pathlib import Path\n",
    "\n",
    "from data_interface import data_table, retrieve_uv_data\n",
    "from hplc_dad_plots import plot_3d_line\n",
    "\n",
    "p = Path(\"/Users/jonathan/0_jono_data\")\n",
    "\n",
    "print(p)"
   ]
  },
  {
   "cell_type": "code",
   "execution_count": null,
   "id": "4fc572ff-72c6-46df-b048-70ac11f3c3b1",
   "metadata": {
    "tags": []
   },
   "outputs": [],
   "source": [
    "df = data_table(p)\n",
    "\n",
    "df = df.sort_values(by=\"acquisition_date\", ascending=False)\n",
    "\n",
    "df.head()"
   ]
  },
  {
   "cell_type": "markdown",
   "id": "bd25bdf7-abdf-40a8-8ce2-a67d760f27f1",
   "metadata": {},
   "source": [
    "Now pull a particular dataset and extract the uv data"
   ]
  },
  {
   "cell_type": "code",
   "execution_count": null,
   "id": "76601db0-4067-4455-94b0-70790806d52f",
   "metadata": {
    "tags": []
   },
   "outputs": [],
   "source": [
    "data = df.loc[\"2021-DEBORTOLI-CABERNET-MERLOT_HALO.D\"][\"data\"]\n",
    "\n",
    "uv_data = retrieve_uv_data(data)\n",
    "\n",
    "uv_data.head()"
   ]
  },
  {
   "cell_type": "markdown",
   "id": "a046ea61-e079-4d20-907c-c89afb1dc4b1",
   "metadata": {},
   "source": [
    "It would be useful to drop unwanted or unpopulated wavelengths. Since wavelengths are stored column by column, to drop a range we'd need to convert to a long format then institute a logical mask, then swap back to wide."
   ]
  },
  {
   "cell_type": "markdown",
   "id": "deb58cce-177d-49bf-8e42-bd8029546cdb",
   "metadata": {
    "tags": []
   },
   "source": [
    "## Dropping Unpopulated or Baseline-Biased Wavelengths"
   ]
  },
  {
   "cell_type": "code",
   "execution_count": null,
   "id": "85698730-a53d-4239-a5a9-06cd93341808",
   "metadata": {
    "tags": []
   },
   "outputs": [],
   "source": [
    "# First I have to melt the dataframe so that the wavelengths can be treated as values rather than column names.\n",
    "\n",
    "uv_data_melt = uv_data.melt(id_vars=\"mins\", var_name=\"nm\", value_name=\"mAU\")\n",
    "\n",
    "# then\n",
    "uv_data_melt = uv_data_melt[(uv_data_melt[\"nm\"] > 210) & (uv_data_melt[\"nm\"] < 255)]\n",
    "uv_data_melt.head()"
   ]
  },
  {
   "cell_type": "markdown",
   "id": "201eaf98-cea5-42f8-87df-d7e787172545",
   "metadata": {},
   "source": [
    "Now to reset it back to wide format to be compatible with the plotting function."
   ]
  },
  {
   "cell_type": "code",
   "execution_count": null,
   "id": "2acbfd19-28cc-47a1-b744-bd5ef1a88a04",
   "metadata": {
    "tags": []
   },
   "outputs": [],
   "source": [
    "uv_data_211 = uv_data_melt.pivot(columns=[\"nm\"], index=\"mins\", values=\"mAU\")\n",
    "\n",
    "uv_data_211 = uv_data_211.reset_index(names=\"mins\")\n",
    "\n",
    "uv_data_211.head()"
   ]
  },
  {
   "cell_type": "code",
   "execution_count": null,
   "id": "faf84cc1-072c-460f-bb4c-5a8438597a97",
   "metadata": {
    "tags": []
   },
   "outputs": [],
   "source": [
    "plot_3d_line(uv_data_211, plot_title=data.name)"
   ]
  },
  {
   "cell_type": "markdown",
   "id": "a45e7fc2-4a59-4c8c-b17c-5de688ce0171",
   "metadata": {},
   "source": [
    "We're looking like we've got a good interface going now. next step will be to:\n",
    "\n",
    "- Integrate sequences into the table.\n",
    "- Get a dashboard going with Panel.\n",
    "- Get some descriptive measurements going through scipy.\n",
    "- get some statistical data going."
   ]
  }
 ],
 "metadata": {
  "kernelspec": {
   "display_name": "Python 3 (ipykernel)",
   "language": "python",
   "name": "python3"
  },
  "language_info": {
   "codemirror_mode": {
    "name": "ipython",
    "version": 3
   },
   "file_extension": ".py",
   "mimetype": "text/x-python",
   "name": "python",
   "nbconvert_exporter": "python",
   "pygments_lexer": "ipython3",
   "version": "3.11.1"
  }
 },
 "nbformat": 4,
 "nbformat_minor": 5
}
