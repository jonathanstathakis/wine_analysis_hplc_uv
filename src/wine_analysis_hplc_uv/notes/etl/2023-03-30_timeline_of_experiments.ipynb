{
 "cells": [
  {
   "cell_type": "markdown",
   "metadata": {},
   "source": [
    "## Timeline of Experiments "
   ]
  },
  {
   "cell_type": "code",
   "execution_count": null,
   "metadata": {},
   "outputs": [],
   "source": [
    "%load_ext autoreload\n",
    "%autoreload 2\n",
    "\n",
    "import pandas as pd\n",
    "\n",
    "from agilette.modules.library import Library"
   ]
  },
  {
   "cell_type": "code",
   "execution_count": null,
   "metadata": {},
   "outputs": [],
   "source": [
    "lib = Library(\"/Users/jonathan/0_jono_data\")\n",
    "df = lib.metadata_table"
   ]
  },
  {
   "cell_type": "markdown",
   "metadata": {},
   "source": [
    "Let's try selecting only for rows that contain UV data.\n"
   ]
  },
  {
   "cell_type": "code",
   "execution_count": null,
   "metadata": {},
   "outputs": [],
   "source": [
    "def metadata_df_avantor_wine_subset(df: pd.DataFrame) -> pd.DataFrame:\n",
    "    df = df[\n",
    "        (df[\"uv_filenames\"] != \"\")\n",
    "        & (df[\"acq_method\"].str.contains(\"AVANTOR\"))\n",
    "        & ~(df[\"name\"].str.contains(\"uracil\"))\n",
    "        & ~(df[\"name\"].str.contains(\"coffee\"))\n",
    "        & ~(df[\"name\"].str.contains(\"lor\"))\n",
    "    ]\n",
    "\n",
    "    return df\n",
    "\n",
    "\n",
    "avantor_df = metadata_df_avantor_wine_subset(lib.metadata_table)\n",
    "\n",
    "avantor_df.head()"
   ]
  },
  {
   "cell_type": "code",
   "execution_count": null,
   "metadata": {},
   "outputs": [],
   "source": [
    "avantor_df_date_sort = avantor_df.sort_values(\"acq_dxate\")"
   ]
  },
  {
   "cell_type": "code",
   "execution_count": null,
   "metadata": {},
   "outputs": [],
   "source": [
    "import plotly.express as px\n",
    "\n",
    "avantor_df_date_sort[\"id\"] = avantor_df_date_sort[\"id\"].fillna(\"none\")\n",
    "\n",
    "fig = px.scatter(avantor_df_date_sort, x=\"acq_date\", y=\"id\")\n",
    "\n",
    "# show the figure\n",
    "fig.show()"
   ]
  },
  {
   "cell_type": "markdown",
   "metadata": {},
   "source": [
    "That's a pretty useful representation. Now we can start renaming the id rows.\n",
    "\n",
    "From this point, we will be disconnecting from the source material. This is not a problem as the filepaths to the data files, but any further work should be done on this table directly rather than reloading from the source material.\n",
    "\n",
    "This introduces the question of how to integrate new data in. A question that will be answered later!\n",
    "\n",
    "For now, let's get the ids reconciled."
   ]
  }
 ],
 "metadata": {
  "kernelspec": {
   "display_name": "Python 3",
   "language": "python",
   "name": "python3"
  },
  "language_info": {
   "codemirror_mode": {
    "name": "ipython",
    "version": 3
   },
   "file_extension": ".py",
   "mimetype": "text/x-python",
   "name": "python",
   "nbconvert_exporter": "python",
   "pygments_lexer": "ipython3",
   "version": "3.11.1"
  }
 },
 "nbformat": 4,
 "nbformat_minor": 2
}
