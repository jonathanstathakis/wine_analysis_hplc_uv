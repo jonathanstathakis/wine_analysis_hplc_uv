{
 "cells": [
  {
   "cell_type": "code",
   "execution_count": null,
   "metadata": {},
   "outputs": [],
   "source": []
  },
  {
   "attachments": {},
   "cell_type": "markdown",
   "metadata": {},
   "source": [
    "In the adjacent notebook, \"2023-03-28-joining-cellartracker-metadata.ipynb\", Importing the protero wine from cellartracker resulted in the string \"pr&#333;ter&#333;\" where the '&#333' is standing in for ō. This is an interesting issue I would like to solve. Its' either a problem with cellartracker or with python. If python, could be an easy fix. If not, will fix it directly.\n",
    "\n",
    "Its a cellartracker issue. Fix manually."
   ]
  },
  {
   "cell_type": "code",
   "execution_count": null,
   "metadata": {},
   "outputs": [],
   "source": [
    "from cellartracker import cellartracker\n",
    "\n",
    "\n",
    "def find_protero():\n",
    "    client = cellartracker.CellarTracker(\"OctaneOolong\", \"S74rg4z3r1\")\n",
    "\n",
    "    for dict in client.get_list():\n",
    "        if \"Nebbiolo\" in str(dict.get(\"Wine\")):\n",
    "            print(dict.get(\"Wine\"))\n",
    "\n",
    "\n",
    "find_protero()"
   ]
  }
 ],
 "metadata": {
  "kernelspec": {
   "display_name": "Python 3",
   "language": "python",
   "name": "python3"
  },
  "language_info": {
   "codemirror_mode": {
    "name": "ipython",
    "version": 3
   },
   "file_extension": ".py",
   "mimetype": "text/x-python",
   "name": "python",
   "nbconvert_exporter": "python",
   "pygments_lexer": "ipython3",
   "version": "3.11.1"
  }
 },
 "nbformat": 4,
 "nbformat_minor": 2
}
