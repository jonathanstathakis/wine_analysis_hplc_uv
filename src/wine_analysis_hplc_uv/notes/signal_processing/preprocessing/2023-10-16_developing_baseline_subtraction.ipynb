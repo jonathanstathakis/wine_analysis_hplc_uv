{
 "cells": [
  {
   "cell_type": "markdown",
   "metadata": {},
   "source": [
    "# Developing Baseline Correction\n"
   ]
  },
  {
   "cell_type": "markdown",
   "metadata": {},
   "source": [
    "2023-08-29 16:34:00\n",
    "\n",
    "An investigation into different baseline correction methods via [PyBaselines](https://pybaselines.readthedocs.io/en/latest/index.html).\n"
   ]
  },
  {
   "cell_type": "code",
   "execution_count": null,
   "metadata": {},
   "outputs": [],
   "source": [
    "# setup\n",
    "\n",
    "%load_ext autoreload\n",
    "%autoreload 2\n",
    "\n",
    "import pandas as pd\n",
    "from wine_analysis_hplc_uv import definitions\n",
    "from wine_analysis_hplc_uv.old_signal_processing.signal_processor import (\n",
    "    SignalProcessor,\n",
    ")\n",
    "from pybaselines import Baseline\n",
    "import matplotlib.pyplot as plt\n",
    "\n",
    "scipro = SignalProcessor()\n",
    "df = pd.read_parquet(definitions.XPRO_YPRO_DOWNSAMPLED_PARQ_PATH)\n",
    "df"
   ]
  },
  {
   "cell_type": "markdown",
   "metadata": {},
   "source": [
    "### iasls\n"
   ]
  },
  {
   "cell_type": "markdown",
   "metadata": {},
   "source": [
    "The current routine is to apply `.iasls` to calculate the baseline:\n"
   ]
  },
  {
   "cell_type": "code",
   "execution_count": null,
   "metadata": {},
   "outputs": [],
   "source": [
    "def iaslsblinefunc(df: pd.DataFrame) -> pd.DataFrame:\n",
    "    df = df.assign(\n",
    "        bline=Baseline(\n",
    "            x_data=df.index.get_level_values(\"mins\").total_seconds(), assume_sorted=True\n",
    "        ).iasls(df[\"value\"])[0]\n",
    "    ).assign(blinesub=lambda df: df.eval(\"value - bline\"))\n",
    "\n",
    "    return df\n",
    "\n",
    "\n",
    "(\n",
    "    df.stack([\"samplecode\", \"wine\"])\n",
    "    .groupby([\"samplecode\"], group_keys=False)\n",
    "    .apply(lambda df: iaslsblinefunc(df))\n",
    "    .unstack([\"samplecode\", \"wine\"])\n",
    "    .pipe(lambda df: df if df.pipe(scipro.vars_subplots) else df)\n",
    ")\n",
    "plt.suptitle(\"iasls\")\n",
    "plt.show()"
   ]
  },
  {
   "cell_type": "markdown",
   "metadata": {},
   "source": [
    "But the fit is not great. What about another one?\n"
   ]
  },
  {
   "cell_type": "markdown",
   "metadata": {},
   "source": [
    "## asls\n"
   ]
  },
  {
   "cell_type": "code",
   "execution_count": null,
   "metadata": {},
   "outputs": [],
   "source": [
    "(\n",
    "    df.pipe(scipro.baseline_correction).pipe(\n",
    "        lambda df: df if df.pipe(scipro.vars_subplots) else df\n",
    "    )\n",
    ")\n",
    "plt.suptitle(\"asls\")\n",
    "plt.show()"
   ]
  },
  {
   "cell_type": "markdown",
   "metadata": {},
   "source": [
    "Much better. Why? It appears that the default settings for `.asls` allow for a a rougher fit."
   ]
  }
 ],
 "metadata": {
  "kernelspec": {
   "display_name": "wine-analysis-hplc-uv-F-SbhWjO-py3.11",
   "language": "python",
   "name": "python3"
  },
  "language_info": {
   "codemirror_mode": {
    "name": "ipython",
    "version": 3
   },
   "file_extension": ".py",
   "mimetype": "text/x-python",
   "name": "python",
   "nbconvert_exporter": "python",
   "pygments_lexer": "ipython3",
   "version": "3.11.1"
  }
 },
 "nbformat": 4,
 "nbformat_minor": 2
}
