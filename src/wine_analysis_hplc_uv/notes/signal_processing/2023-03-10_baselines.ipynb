{
 "cells": [
  {
   "cell_type": "code",
   "execution_count": null,
   "metadata": {},
   "outputs": [],
   "source": [
    "%load_ext autoreload\n",
    "%autoreload 2\n",
    "\n",
    "import sys\n",
    "\n",
    "import os\n",
    "\n",
    "sys.path.insert(\n",
    "    0, os.path.abspath(os.path.join(os.getcwd(), \"../\"))\n",
    ")  # adds root dir 'wine_analyis_hplc_uv' to path.\n",
    "\n",
    "from agilette import agilette_core as ag\n",
    "\n",
    "lib = ag.Agilette(\"/Users/jonathan/0_jono_data\").library\n",
    "lib.data_table().head(100)"
   ]
  },
  {
   "cell_type": "code",
   "execution_count": null,
   "metadata": {},
   "outputs": [],
   "source": [
    "data_table_df = lib.data_table()"
   ]
  },
  {
   "cell_type": "code",
   "execution_count": null,
   "metadata": {},
   "outputs": [],
   "source": [
    "run = data_table_df[\n",
    "    data_table_df[\"sample_name\"] == \"2021-debortoli-cabernet-merlot_avantor\"\n",
    "].loc[0][\"path\"]"
   ]
  },
  {
   "cell_type": "code",
   "execution_count": null,
   "metadata": {},
   "outputs": [],
   "source": [
    "all_runs = lib.combined_dict()"
   ]
  },
  {
   "cell_type": "code",
   "execution_count": null,
   "metadata": {},
   "outputs": [],
   "source": [
    "koerner = all_runs[\"2023-02-22_KOERNER-NELLUCIO-02-21.D\"]"
   ]
  },
  {
   "cell_type": "code",
   "execution_count": null,
   "metadata": {},
   "outputs": [],
   "source": [
    "koerner_ch = koerner.extract_ch_data()"
   ]
  },
  {
   "cell_type": "code",
   "execution_count": null,
   "metadata": {},
   "outputs": [],
   "source": [
    "koerner_ch.keys()"
   ]
  },
  {
   "cell_type": "code",
   "execution_count": null,
   "metadata": {},
   "outputs": [],
   "source": [
    "koerner_260 = koerner_ch[\"260.0\"]"
   ]
  },
  {
   "cell_type": "markdown",
   "metadata": {},
   "source": [
    "## Baseline Detection"
   ]
  },
  {
   "cell_type": "code",
   "execution_count": null,
   "metadata": {},
   "outputs": [],
   "source": [
    "import plotly.graph_objs as go\n",
    "\n",
    "import pandas as pd\n",
    "import peakutils"
   ]
  },
  {
   "cell_type": "code",
   "execution_count": null,
   "metadata": {},
   "outputs": [],
   "source": [
    "fig = go.Figure()\n",
    "\n",
    "trace = go.Scatter(\n",
    "    x=koerner_260.data_df[\"mins\"], y=koerner_260.data_df[\"mAU\"], mode=\"lines\"\n",
    ")\n",
    "\n",
    "fig.add_trace(trace)\n",
    "\n",
    "fig.show()"
   ]
  },
  {
   "cell_type": "code",
   "execution_count": null,
   "metadata": {},
   "outputs": [],
   "source": [
    "baseline_values = peakutils.baseline(koerner_260.data_df[\"mAU\"])\n",
    "baseline_values"
   ]
  },
  {
   "cell_type": "code",
   "execution_count": null,
   "metadata": {},
   "outputs": [],
   "source": [
    "baseline_trace = go.Scatter(\n",
    "    x=koerner_260.data_df[\"mins\"], y=baseline_values, name=\"Baseline\"\n",
    ")\n",
    "fig.add_trace(baseline_trace)\n",
    "\n",
    "fig.show()"
   ]
  },
  {
   "cell_type": "markdown",
   "metadata": {},
   "source": [
    "It's not a great approximation of the baseline, but it will do. Now get the peak heights."
   ]
  },
  {
   "cell_type": "code",
   "execution_count": null,
   "metadata": {},
   "outputs": [],
   "source": [
    "from scipy.signal import find_peaks\n",
    "\n",
    "peaks = find_peaks(koerner_260.data_df[\"mAU\"], height=4)\n",
    "\n",
    "peaks_y_idx, peaks_y = peaks\n",
    "\n",
    "peaks_x = koerner_260.data_df[\"mins\"].loc[peaks_y_idx]\n",
    "\n",
    "print(peaks_x.values)\n",
    "print(peaks_y[\"peak_heights\"])\n",
    "\n",
    "peak_trace = go.Scatter(\n",
    "    x=peaks_x, y=peaks_y[\"peak_heights\"], name=\"peaks\", mode=\"markers\"\n",
    ")\n",
    "\n",
    "fig.add_trace(peak_trace)\n",
    "\n",
    "fig.show()"
   ]
  },
  {
   "cell_type": "markdown",
   "metadata": {},
   "source": [
    "So the problem with this approach is that the peak detection is based on an absolute value not in reference to a changing baseline. We need a better method to both fit the actual baseline more closely AND a way of interfacting it with a peak detection algorithm."
   ]
  },
  {
   "cell_type": "markdown",
   "metadata": {},
   "source": [
    "## ASLS Fitted Baseline"
   ]
  },
  {
   "cell_type": "code",
   "execution_count": null,
   "metadata": {},
   "outputs": [],
   "source": [
    "from pybaselines import Baseline\n",
    "\n",
    "baseline_fitter = Baseline(x_data=koerner_260.data_df[\"mins\"].values)\n",
    "\n",
    "baseline_y = baseline_fitter.asls(koerner_260.data_df[\"mAU\"].values)[0]\n",
    "\n",
    "\n",
    "def baseline_trace(baseline_y_, x_, name_):\n",
    "    baseline_trace = go.Scatter(x=x_, y=baseline_y_, mode=\"lines\", name=name_)\n",
    "\n",
    "    return baseline_trace"
   ]
  },
  {
   "cell_type": "code",
   "execution_count": null,
   "metadata": {},
   "outputs": [],
   "source": [
    "baseline_fitter.asls"
   ]
  },
  {
   "cell_type": "code",
   "execution_count": null,
   "metadata": {},
   "outputs": [],
   "source": [
    "fig2 = go.Figure()\n",
    "\n",
    "fig2.add_trace(trace)\n",
    "\n",
    "fig2.add_trace(\n",
    "    baseline_trace(\n",
    "        baseline_y_=baseline_y, x_=baseline_fitter.__dict__[\"x\"], name_=\"asls\"\n",
    "    )\n",
    ")\n",
    "\n",
    "fig2.show()"
   ]
  },
  {
   "cell_type": "markdown",
   "metadata": {},
   "source": [
    "## IASLS Fitted Baseline"
   ]
  },
  {
   "cell_type": "code",
   "execution_count": null,
   "metadata": {},
   "outputs": [],
   "source": [
    "baseline_y_iasls = baseline_fitter.iasls(koerner_260.data_df[\"mAU\"].values)[0]\n",
    "\n",
    "fig3 = go.Figure()\n",
    "\n",
    "trace_iasls = baseline_trace(\n",
    "    x_=baseline_fitter.__dict__[\"x\"], baseline_y_=baseline_y_iasls, name_=\"iasls\"\n",
    ")\n",
    "\n",
    "fig3.add_traces([trace, trace_iasls])\n",
    "\n",
    "fig3.show()"
   ]
  },
  {
   "cell_type": "markdown",
   "metadata": {},
   "source": [
    "## AIRPLS"
   ]
  },
  {
   "cell_type": "code",
   "execution_count": null,
   "metadata": {},
   "outputs": [],
   "source": [
    "baseline_y_airpls = baseline_fitter.airpls(koerner_260.data_df[\"mAU\"].values)[0]\n",
    "\n",
    "fig4 = go.Figure()\n",
    "\n",
    "trace_airpls = baseline_trace(\n",
    "    x_=baseline_fitter.__dict__[\"x\"], baseline_y_=baseline_y_airpls, name_=\"airpls\"\n",
    ")\n",
    "\n",
    "fig4.add_traces([trace, trace_airpls])\n",
    "\n",
    "fig4.show()"
   ]
  },
  {
   "cell_type": "markdown",
   "metadata": {},
   "source": [
    "The above fittings look pretty good, with airpls looking slightly better from a visual inspection. The difference is.."
   ]
  },
  {
   "cell_type": "code",
   "execution_count": null,
   "metadata": {},
   "outputs": [],
   "source": [
    "sum(baseline_y_airpls - baseline_y_iasls)"
   ]
  },
  {
   "cell_type": "markdown",
   "metadata": {},
   "source": [
    "Nothing, there you go, don't trust your eyes. In that case I'll stick with iasls as it is presumably older, but we can experiment with different ones over the entire data set at some point."
   ]
  },
  {
   "cell_type": "code",
   "execution_count": null,
   "metadata": {},
   "outputs": [],
   "source": [
    "koerner_260_minus_baseline = koerner_260.data_df[\"mAU\"].values - baseline_y_airpls\n",
    "\n",
    "baseline_subtract_y_airpls_trace = go.Scatter(\n",
    "    x=koerner_260.data_df[\"mins\"], y=koerner_260_minus_baseline, name=\"koerner_260\"\n",
    ")\n",
    "\n",
    "fig5 = go.Figure()\n",
    "\n",
    "fig5.add_trace(baseline_subtract_y_airpls_trace)\n",
    "fig5.show()"
   ]
  },
  {
   "cell_type": "markdown",
   "metadata": {},
   "source": [
    "An interesting observation that has arisen is the fact htat it appears that there are no components eluting after 30 mins. For a 2.1% gradient that would mean that by 63% MeOH, everything has eluted, and presumably that bump at 41mins is the refractive index change when it drops back down from 95% to 5%. Should check a few more samples and see what they look like, then check with Andrew what he thinks about reducing the run time and capping the total methanol, etc."
   ]
  },
  {
   "cell_type": "markdown",
   "metadata": {},
   "source": [
    "Now add some peak detection."
   ]
  },
  {
   "cell_type": "code",
   "execution_count": null,
   "metadata": {},
   "outputs": [],
   "source": [
    "peaks_idx, peak_heights = find_peaks(koerner_260_minus_baseline, height=4)\n",
    "\n",
    "peak_height_values = peak_heights[\"peak_heights\"]\n",
    "\n",
    "peaks_x = koerner_260.data_df[\"mins\"].loc[peaks_idx]\n",
    "\n",
    "peaks_trace = go.Scatter(\n",
    "    x=peaks_x, y=peak_height_values, mode=\"markers\", name=\"peaks > 4 mAU\"\n",
    ")\n",
    "\n",
    "fig5.add_trace(peaks_trace)\n",
    "\n",
    "fig5.show()"
   ]
  },
  {
   "cell_type": "markdown",
   "metadata": {},
   "source": [
    "Setting a lower threshold of 4 mAU and using the default separtion setting returna pretty good looking peak trace, although we lose a lot between 3 and 4, I will assume that there is already enough information within the detected peaks. Something that could be investigated at a later date."
   ]
  },
  {
   "cell_type": "code",
   "execution_count": null,
   "metadata": {},
   "outputs": [],
   "source": [
    "len(peaks_idx)"
   ]
  },
  {
   "cell_type": "markdown",
   "metadata": {},
   "source": [
    "With the current settings, there are 36 peaks detected."
   ]
  },
  {
   "cell_type": "code",
   "execution_count": null,
   "metadata": {},
   "outputs": [],
   "source": [
    "peaks_idx_df = pd.DataFrame(peaks_idx)\n",
    "\n",
    "\n",
    "peaks_idx_df.describe()"
   ]
  },
  {
   "cell_type": "code",
   "execution_count": null,
   "metadata": {},
   "outputs": [],
   "source": []
  }
 ],
 "metadata": {
  "kernelspec": {
   "display_name": "Python 3 (ipykernel)",
   "language": "python",
   "name": "python3"
  },
  "language_info": {
   "codemirror_mode": {
    "name": "ipython",
    "version": 3
   },
   "file_extension": ".py",
   "mimetype": "text/x-python",
   "name": "python",
   "nbconvert_exporter": "python",
   "pygments_lexer": "ipython3",
   "version": "3.11.1"
  }
 },
 "nbformat": 4,
 "nbformat_minor": 4
}
