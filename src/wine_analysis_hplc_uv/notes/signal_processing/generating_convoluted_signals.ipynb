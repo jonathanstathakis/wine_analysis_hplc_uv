{
 "cells": [
  {
   "cell_type": "markdown",
   "metadata": {},
   "source": [
    "Generating convoluted distribution-based signals is not straight-forward, and unfortunately I cannot find packages which do what I need, therefore I will develop a generation module myself.\n",
    "\n",
    "The requirement is that for an input of x, amplitude bounds, location bounds, scale bounds and skew bounds, I will be able to produce a convolution of skew normal distributions wholly within x matching those specifications. The first problem to solve is how to contain the distributions within x."
   ]
  },
  {
   "cell_type": "code",
   "execution_count": null,
   "metadata": {},
   "outputs": [],
   "source": [
    "import polars as pl\n",
    "from scipy import stats\n",
    "import numpy as np\n",
    "from numpy import typing as npt\n",
    "import matplotlib.pyplot as plt\n",
    "import random"
   ]
  },
  {
   "cell_type": "code",
   "execution_count": null,
   "metadata": {},
   "outputs": [],
   "source": [
    "# establish x and the bounds\n",
    "\n",
    "x = np.arange(1, 10, 1)\n",
    "loc_bounds = (min(x), max(x))\n",
    "amp_bounds = (10, 100)\n",
    "dx = np.diff(x).mean()\n",
    "scale_bounds = (dx * 2, dx * 4)\n",
    "skew_bounds = (-1, 1)\n",
    "n_peaks = 2\n",
    "loc_bounds, amp_bounds, dx, scale_bounds, skew_bounds"
   ]
  },
  {
   "cell_type": "code",
   "execution_count": null,
   "metadata": {},
   "outputs": [],
   "source": [
    "# establish a function to calculate the random values, with a seed\n",
    "\n",
    "\n",
    "def randomize_vals(\n",
    "    n: int, bounds: tuple[float, float], seed: int = 5\n",
    ") -> npt.NDArray[np.float64]:\n",
    "    random.seed(seed)\n",
    "\n",
    "    random_vals = np.asarray([random.uniform(*bounds) for x in range(n)])\n",
    "    return random_vals\n",
    "\n",
    "\n",
    "amp = randomize_vals(n=n_peaks, bounds=amp_bounds)\n",
    "\n",
    "loc = randomize_vals(n=n_peaks, bounds=loc_bounds)\n",
    "\n",
    "scale = randomize_vals(n=n_peaks, bounds=scale_bounds)\n",
    "\n",
    "skew = randomize_vals(n=n_peaks, bounds=skew_bounds)\n",
    "\n",
    "amp, loc, scale, skew"
   ]
  },
  {
   "cell_type": "code",
   "execution_count": null,
   "metadata": {},
   "outputs": [],
   "source": [
    "# generate the skew norms on x\n",
    "def gen_pdf(\n",
    "    n_peaks: int,\n",
    "    loc: npt.NDArray[np.float64],\n",
    "    scale: npt.NDArray[np.float64],\n",
    "    skew: npt.NDArray[np.float64],\n",
    ") -> list[npt.NDArray[np.float64]]:\n",
    "    peaks = []\n",
    "    for i in range(n_peaks):\n",
    "        skn = stats.skewnorm(loc=loc[i], scale=scale[i], a=skew[i])\n",
    "        peaks.append(np.asarray(skn.pdf(x), dtype=np.float64))\n",
    "\n",
    "    return peaks\n",
    "\n",
    "\n",
    "peaks = gen_pdf(n_peaks=n_peaks, loc=loc, scale=scale, skew=skew)\n",
    "peaks"
   ]
  },
  {
   "cell_type": "code",
   "execution_count": null,
   "metadata": {},
   "outputs": [],
   "source": [
    " plt.plot(x, peaks[0])"
   ]
  }
 ],
 "metadata": {
  "kernelspec": {
   "display_name": "wine-analysis-hplc-uv-F-SbhWjO-py3.12",
   "language": "python",
   "name": "python3"
  },
  "language_info": {
   "codemirror_mode": {
    "name": "ipython",
    "version": 3
   },
   "file_extension": ".py",
   "mimetype": "text/x-python",
   "name": "python",
   "nbconvert_exporter": "python",
   "pygments_lexer": "ipython3",
   "version": "3.12.2"
  }
 },
 "nbformat": 4,
 "nbformat_minor": 2
}
