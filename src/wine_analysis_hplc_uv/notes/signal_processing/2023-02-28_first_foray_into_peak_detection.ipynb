{
 "cells": [
  {
   "cell_type": "markdown",
   "id": "0",
   "metadata": {
    "tags": []
   },
   "source": [
    "# Scipy"
   ]
  },
  {
   "cell_type": "markdown",
   "id": "1",
   "metadata": {
    "tags": []
   },
   "source": [
    "[Introduction — SciPy v1.10.1 Manual](https://docs.scipy.org/doc/scipy/tutorial/general.html)"
   ]
  },
  {
   "cell_type": "markdown",
   "id": "2",
   "metadata": {},
   "source": [
    "Should focus on [Signal processing (scipy.signal) — SciPy v1.10.1 Manual](https://docs.scipy.org/doc/scipy/reference/signal.html#module-scipy.signal)."
   ]
  },
  {
   "cell_type": "markdown",
   "id": "3",
   "metadata": {},
   "source": [
    "A lot of the modules are outside of my scope. [scipy.signal.find_peaks](https://docs.scipy.org/doc/scipy/reference/generated/scipy.signal.find_peaks.html#scipy.signal.find_peaks) may be useful. It requires a 1-D array, and returns all local maxima."
   ]
  },
  {
   "cell_type": "markdown",
   "id": "4",
   "metadata": {},
   "source": [
    "Load some sample data:"
   ]
  },
  {
   "cell_type": "code",
   "execution_count": null,
   "id": "5",
   "metadata": {
    "tags": []
   },
   "outputs": [],
   "source": [
    "%load_ext autoreload\n",
    "%autoreload 2\n",
    "\n",
    "import os\n",
    "import sys\n",
    "\n",
    "sys.path.insert(0, os.path.abspath(os.path.join(os.path.dirname(__file__), \"..\")))\n",
    "\n",
    "from pathlib import Path\n",
    "\n",
    "import pandas as pd\n",
    "\n",
    "from scripts.data_interface import retrieve_uv_data\n",
    "\n",
    "import rainbow as rb"
   ]
  },
  {
   "cell_type": "code",
   "execution_count": null,
   "id": "6",
   "metadata": {
    "tags": []
   },
   "outputs": [],
   "source": [
    "p = Path(\"/Users/jonathan/0_jono_data/2023-02-22_2021-DEBORTOLI-CABERNET-MERLOT_HALO.D\")\n",
    "\n",
    "print(p)\n",
    "\n",
    "uv_data = retrieve_uv_data(rb.read(str(p)))"
   ]
  },
  {
   "cell_type": "code",
   "execution_count": null,
   "id": "7",
   "metadata": {
    "tags": []
   },
   "outputs": [],
   "source": [
    "# plot_3d_line(uv_data, plot_title=\"whateve\")"
   ]
  },
  {
   "cell_type": "code",
   "execution_count": null,
   "id": "8",
   "metadata": {
    "tags": []
   },
   "outputs": [],
   "source": [
    "from scripts.data_manipulators import df_windower\n",
    "\n",
    "uv_data_2 = df_windower(uv_data, \"nm\", 220, 250)\n",
    "\n",
    "uv_data_2.head()"
   ]
  },
  {
   "cell_type": "code",
   "execution_count": null,
   "id": "9",
   "metadata": {
    "tags": []
   },
   "outputs": [],
   "source": [
    "# plot_3d_line(uv_data_2, plot_title = \"whatevs\")"
   ]
  },
  {
   "cell_type": "code",
   "execution_count": null,
   "id": "10",
   "metadata": {
    "tags": []
   },
   "outputs": [],
   "source": [
    "uv_data_2[\"mins\"] = uv_data_2[\"mins\"].round(5)\n",
    "\n",
    "uv_data_2 = uv_data_2.set_index(\"mins\")"
   ]
  },
  {
   "cell_type": "code",
   "execution_count": null,
   "id": "11",
   "metadata": {
    "tags": []
   },
   "outputs": [],
   "source": [
    "uv_data_2.head()"
   ]
  },
  {
   "cell_type": "markdown",
   "id": "12",
   "metadata": {},
   "source": [
    "So we can see that 222nm has the highest absorabance. at 345.40 mAU, as expected. And the idx of that value is.."
   ]
  },
  {
   "cell_type": "code",
   "execution_count": null,
   "id": "13",
   "metadata": {},
   "outputs": [],
   "source": [
    "time_max_222 = uv_data_2[uv_data_2.idxmax().index[0]].idxmax()\n",
    "\n",
    "print(f\"The time for the max value of 222nm is {time_max_222}\")"
   ]
  },
  {
   "cell_type": "markdown",
   "id": "14",
   "metadata": {},
   "source": [
    "So lets try and to peak identification on 222nm."
   ]
  },
  {
   "cell_type": "code",
   "execution_count": null,
   "id": "15",
   "metadata": {
    "tags": []
   },
   "outputs": [],
   "source": [
    "data_222 = uv_data_2[222]\n",
    "\n",
    "data_222.head()"
   ]
  },
  {
   "cell_type": "code",
   "execution_count": null,
   "id": "16",
   "metadata": {
    "tags": []
   },
   "outputs": [],
   "source": [
    "data_222.plot()"
   ]
  },
  {
   "cell_type": "code",
   "execution_count": null,
   "id": "17",
   "metadata": {},
   "outputs": [],
   "source": [
    "type(p)"
   ]
  },
  {
   "cell_type": "code",
   "execution_count": null,
   "id": "18",
   "metadata": {
    "tags": []
   },
   "outputs": [],
   "source": [
    "import plotly.graph_objs as go\n",
    "\n",
    "from scipy.signal import find_peaks\n",
    "\n",
    "\n",
    "def peak_plot(data=pd.DataFrame, nm=int, plot_title=Path):\n",
    "    peak_idx, peak_heights = find_peaks(data[nm], height=50, distance=50)\n",
    "\n",
    "    cx = data[nm].index.values\n",
    "\n",
    "    cy = data[nm].values\n",
    "\n",
    "    px = data.index.values[peak_idx]\n",
    "\n",
    "    py = data[nm].values[peak_idx]\n",
    "\n",
    "    fig = go.Figure()\n",
    "\n",
    "    fig.update_layout(title=f\"{p.name}, {nm}\")\n",
    "\n",
    "    peak_trace = go.Scatter(x=px, y=py, mode=\"markers\", name=\"peaks\")\n",
    "\n",
    "    chrom_trace = go.Scatter(x=cx, y=cy, mode=\"lines\", name=\"chromatogram\")\n",
    "\n",
    "    fig.add_trace(chrom_trace)\n",
    "\n",
    "    fig.add_trace(peak_trace)\n",
    "\n",
    "    fig.show()\n",
    "\n",
    "\n",
    "peak_plot(uv_data_2, 248, p.name)"
   ]
  },
  {
   "cell_type": "markdown",
   "id": "19",
   "metadata": {},
   "source": [
    "A great start, however it quickly became apparent that without a method of distinguishing total peak height from peak height relative to baseline, I had very little analytical functionality. A quick google turned up [scipy.signal.peak_prominences](https://docs.scipy.org/doc/scipy/reference/generated/scipy.signal.peak_prominences.html).."
   ]
  },
  {
   "cell_type": "code",
   "execution_count": null,
   "id": "20",
   "metadata": {
    "tags": []
   },
   "outputs": [],
   "source": [
    "from scipy.signal import peak_prominences\n",
    "\n",
    "prominences = peak_prominences(uv_data_2[nm], peak_idx)\n",
    "prominences"
   ]
  },
  {
   "cell_type": "markdown",
   "id": "21",
   "metadata": {},
   "source": [
    "It has returned: the prominences as an array, each peaks left and right 'bases', where the higher base of each pair is the peaks lowest contour line. By this measurement, we could easily determine optimal signal nm based on the highest sum of a nm signal's prominance array."
   ]
  },
  {
   "cell_type": "markdown",
   "id": "22",
   "metadata": {},
   "source": [
    "That's enough for this notebook."
   ]
  },
  {
   "cell_type": "code",
   "execution_count": null,
   "id": "23",
   "metadata": {},
   "outputs": [],
   "source": []
  }
 ],
 "metadata": {
  "kernelspec": {
   "display_name": "Python 3 (ipykernel)",
   "language": "python",
   "name": "python3"
  },
  "language_info": {
   "codemirror_mode": {
    "name": "ipython",
    "version": 3
   },
   "file_extension": ".py",
   "mimetype": "text/x-python",
   "name": "python",
   "nbconvert_exporter": "python",
   "pygments_lexer": "ipython3",
   "version": "3.11.1"
  }
 },
 "nbformat": 4,
 "nbformat_minor": 5
}
