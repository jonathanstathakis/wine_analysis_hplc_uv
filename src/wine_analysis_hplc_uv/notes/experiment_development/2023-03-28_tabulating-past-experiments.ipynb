{
 "cells": [
  {
   "attachments": {},
   "cell_type": "markdown",
   "metadata": {},
   "source": [
    "# Tabulating Past Experiments\n",
    "\n",
    "continuing from [the last notebook](./2023-03-28-joining-cellartracker-metadata.ipynb), I have been attempting to analyse how my collection of samples is going, but my records are muddled. I need to form a table that contains information on what samples have been run on the 10cm column, and what was the quality of the chromatogram.\n",
    "\n",
    "For simplicities sake, we will focus on the 255nm spectra, and define qualtiy as a high ratio of peak prominance to area under baseline. \n",
    "\n",
    "Theoretically, each run should contain the sample id. That should be sufficient to create the table to join."
   ]
  },
  {
   "cell_type": "markdown",
   "metadata": {},
   "source": [
    "This notebook will:\n",
    "\n",
    "1. Load all experiments as a pandas table with:\n",
    "['acq_date', 'sample_name', 'method_name', 'data']\n",
    "2. fit the baseline.\n",
    "3. Calculate the peak prominance / area under baseline, display in table.\n",
    "4. Sort by ratio, see if this is a sensible approach.\n",
    "5. Observe, make conclusions."
   ]
  },
  {
   "cell_type": "code",
   "execution_count": null,
   "metadata": {},
   "outputs": [],
   "source": [
    "%load_ext autoreload \n",
    "%autoreload 2"
   ]
  },
  {
   "cell_type": "code",
   "execution_count": null,
   "metadata": {},
   "outputs": [],
   "source": [
    "from pathlib import Path\n",
    "\n",
    "parent_path = Path.cwd().parent\n",
    "\n",
    "import sys\n",
    "\n",
    "sys.path.append(str(parent_path))\n",
    "\n",
    "from agilette.agilette_core import Library\n",
    "\n",
    "lib = Library(Path(\"/Users/jonathan/0_jono_data/\"), [\"all_data_files\"])\n",
    "lib"
   ]
  },
  {
   "cell_type": "markdown",
   "metadata": {},
   "source": [
    "NTS - 2024-06-02 10:26:30 - no more content, notebook never did what it set out to do. Delete?"
   ]
  }
 ],
 "metadata": {
  "kernelspec": {
   "display_name": "Python 3",
   "language": "python",
   "name": "python3"
  },
  "language_info": {
   "codemirror_mode": {
    "name": "ipython",
    "version": 3
   },
   "file_extension": ".py",
   "mimetype": "text/x-python",
   "name": "python",
   "nbconvert_exporter": "python",
   "pygments_lexer": "ipython3",
   "version": "3.11.1"
  }
 },
 "nbformat": 4,
 "nbformat_minor": 2
}
