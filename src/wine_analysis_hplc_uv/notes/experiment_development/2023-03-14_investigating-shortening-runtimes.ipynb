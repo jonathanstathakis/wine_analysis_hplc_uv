{
 "cells": [
  {
   "cell_type": "markdown",
   "id": "0",
   "metadata": {},
   "source": [
    "# Investigating Interval of Time of Eluting Components of Wine in a 2.5% Gradient"
   ]
  },
  {
   "cell_type": "markdown",
   "id": "1",
   "metadata": {},
   "source": [
    "Observing the chromatogram of the debortoli cabernet merlot under a 2.5% gradient showed that There were no components eluting after ~27mins. Therefore in the interst of reducing overall run time and mobile phase consumption, I will investigate that region across all my samples."
   ]
  },
  {
   "cell_type": "markdown",
   "id": "2",
   "metadata": {},
   "source": [
    "The samples will be any wines run on the avantor colummn at 2.5%. (erroneously labelled at 2.1%)"
   ]
  },
  {
   "attachments": {},
   "cell_type": "markdown",
   "id": "3",
   "metadata": {},
   "source": [
    "## Set up Environment"
   ]
  },
  {
   "cell_type": "code",
   "execution_count": null,
   "id": "4",
   "metadata": {
    "tags": []
   },
   "outputs": [],
   "source": [
    "%load_ext autoreload\n",
    "%autoreload 2\n",
    "\n",
    "import sys\n",
    "\n",
    "import os\n",
    "\n",
    "import pandas as pd\n",
    "\n",
    "# adds root dir 'wine_analyis_hplc_uv' to path.\n",
    "\n",
    "sys.path.insert(0, os.path.abspath(os.path.join(os.getcwd(), \"../\")))\n",
    "\n",
    "from agilette import agilette_core as ag\n",
    "\n",
    "lib = ag.Agilette(\"/Users/jonathan/0_jono_data\").library"
   ]
  },
  {
   "cell_type": "code",
   "execution_count": null,
   "id": "5",
   "metadata": {
    "tags": []
   },
   "outputs": [],
   "source": [
    "lib_df = lib.data_table()"
   ]
  },
  {
   "attachments": {},
   "cell_type": "markdown",
   "id": "6",
   "metadata": {},
   "source": [
    "## Select All Runs Done on a 2.5% Gradient"
   ]
  },
  {
   "attachments": {},
   "cell_type": "markdown",
   "id": "7",
   "metadata": {},
   "source": [
    "Note: the runs prior to 2023-03-14 were incorrectly marked as \"-2_1.M\" Which translates to 2.1% gradient. Unfortunately, the % gradient was miscalculated, and they should have been labelled \"-2_5.M\"."
   ]
  },
  {
   "cell_type": "code",
   "execution_count": null,
   "id": "8",
   "metadata": {
    "tags": []
   },
   "outputs": [],
   "source": [
    "pd.set_option(\"display.max_colwidth\", None)\n",
    "\n",
    "lib_df[lib_df[\"method\"].str.contains(\"-2_1.M\")].head()"
   ]
  },
  {
   "attachments": {},
   "cell_type": "markdown",
   "id": "9",
   "metadata": {},
   "source": [
    "To develop a method of analysing the population of particular regions of a chromatogram, we will use a sample that I am confident is representative of the library. That sample is the latest De Bertoli cab merlot run:"
   ]
  },
  {
   "cell_type": "code",
   "execution_count": null,
   "id": "10",
   "metadata": {},
   "outputs": [],
   "source": [
    "lib_df.loc[3]"
   ]
  },
  {
   "cell_type": "markdown",
   "id": "11",
   "metadata": {},
   "source": [
    "To perform this analysis, it will be useful to select a most representative wavelength, that is one with the lowest average baseline gradient and heighest average peak ratio."
   ]
  },
  {
   "cell_type": "markdown",
   "id": "12",
   "metadata": {},
   "source": [
    "I need to identify a wavelength of choice to perform these analyses on. The wavelength of choice will be one that has a minimal baseline and maximal absorbance.\n",
    "\n",
    "We can define minimal baaseline as the one with the lowest average gradient.\n",
    "\n",
    "So first calculate the baseline values for each wavelength, then calculate their average gradient.\n",
    "\n",
    "This analysis will be perfomed in [2023-03-15_identifying_optimal_wavelength](2023-03-15_identifying_optimal_wavelength.ipynb)"
   ]
  }
 ],
 "metadata": {
  "kernelspec": {
   "display_name": "Python 3 (ipykernel)",
   "language": "python",
   "name": "python3"
  },
  "language_info": {
   "codemirror_mode": {
    "name": "ipython",
    "version": 3
   },
   "file_extension": ".py",
   "mimetype": "text/x-python",
   "name": "python",
   "nbconvert_exporter": "python",
   "pygments_lexer": "ipython3",
   "version": "3.11.1"
  }
 },
 "nbformat": 4,
 "nbformat_minor": 5
}
