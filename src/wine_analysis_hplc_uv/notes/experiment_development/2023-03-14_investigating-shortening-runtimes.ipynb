{
 "cells": [
  {
   "cell_type": "markdown",
   "id": "63083eea-7922-4076-a56b-08a8c357239f",
   "metadata": {},
   "source": [
    "# Investigating Interval of Time of Eluting Components of Wine in a 2.5% Gradient"
   ]
  },
  {
   "cell_type": "markdown",
   "id": "2808e4d3-984c-45f7-abf3-362cef6f1f89",
   "metadata": {},
   "source": [
    "Observing the chromatogram of the debortoli cabernet merlot under a 2.5% gradient showed that There were no components eluting after ~27mins. Therefore in the interst of reducing overall run time and mobile phase consumption, I will investigate that region across all my samples."
   ]
  },
  {
   "cell_type": "markdown",
   "id": "bce5fca7-0a7c-4cb9-af8f-a3a44bf7fd29",
   "metadata": {},
   "source": [
    "The samples will be any wines run on the avantor colummn at 2.5%. (erroneously labelled at 2.1%)"
   ]
  },
  {
   "attachments": {},
   "cell_type": "markdown",
   "id": "af05d14d",
   "metadata": {},
   "source": [
    "## Set up Environment"
   ]
  },
  {
   "cell_type": "code",
   "execution_count": null,
   "id": "a81e3f35-6ebb-4d81-8282-0ebc0da039d0",
   "metadata": {
    "tags": []
   },
   "outputs": [],
   "source": [
    "%load_ext autoreload\n",
    "%autoreload 2\n",
    "\n",
    "import sys\n",
    "\n",
    "import os\n",
    "\n",
    "import pandas as pd\n",
    "\n",
    "# adds root dir 'wine_analyis_hplc_uv' to path.\n",
    "\n",
    "sys.path.insert(0, os.path.abspath(os.path.join(os.getcwd(), \"../\")))\n",
    "\n",
    "from agilette import agilette_core as ag\n",
    "\n",
    "lib = ag.Agilette(\"/Users/jonathan/0_jono_data\").library"
   ]
  },
  {
   "cell_type": "code",
   "execution_count": null,
   "id": "0db4c8bd-73c0-46ac-b85a-93742064df22",
   "metadata": {
    "tags": []
   },
   "outputs": [],
   "source": [
    "lib_df = lib.data_table()"
   ]
  },
  {
   "attachments": {},
   "cell_type": "markdown",
   "id": "c7a80928",
   "metadata": {},
   "source": [
    "## Select All Runs Done on a 2.5% Gradient"
   ]
  },
  {
   "attachments": {},
   "cell_type": "markdown",
   "id": "18f2abf5",
   "metadata": {},
   "source": [
    "Note: the runs prior to 2023-03-14 were incorrectly marked as \"-2_1.M\" Which translates to 2.1% gradient. Unfortunately, the % gradient was miscalculated, and they should have been labelled \"-2_5.M\"."
   ]
  },
  {
   "cell_type": "code",
   "execution_count": null,
   "id": "02ebf123-7848-4ffb-98b7-96ff48dddfbb",
   "metadata": {
    "tags": []
   },
   "outputs": [],
   "source": [
    "pd.set_option(\"display.max_colwidth\", None)\n",
    "\n",
    "lib_df[lib_df[\"method\"].str.contains(\"-2_1.M\")].head()"
   ]
  },
  {
   "attachments": {},
   "cell_type": "markdown",
   "id": "623f04eb-1ce7-413c-9968-1e472b15b38a",
   "metadata": {},
   "source": [
    "To develop a method of analysing the population of particular regions of a chromatogram, we will use a sample that I am confident is representative of the library. That sample is the latest De Bertoli cab merlot run:"
   ]
  },
  {
   "cell_type": "code",
   "execution_count": null,
   "id": "bc64b3b2",
   "metadata": {},
   "outputs": [],
   "source": [
    "lib_df.loc[3]"
   ]
  },
  {
   "cell_type": "markdown",
   "id": "9a7b16fc",
   "metadata": {},
   "source": [
    "To perform this analysis, it will be useful to select a most representative wavelength, that is one with the lowest average baseline gradient and heighest average peak ratio."
   ]
  },
  {
   "cell_type": "markdown",
   "id": "37942c24",
   "metadata": {},
   "source": [
    "I need to identify a wavelength of choice to perform these analyses on. The wavelength of choice will be one that has a minimal baseline and maximal absorbance.\n",
    "\n",
    "We can define minimal baaseline as the one with the lowest average gradient.\n",
    "\n",
    "So first calculate the baseline values for each wavelength, then calculate their average gradient.\n",
    "\n",
    "This analysis will be perfomed in [2023-03-15_identifying_optimal_wavelength](2023-03-15_identifying_optimal_wavelength.ipynb)"
   ]
  }
 ],
 "metadata": {
  "kernelspec": {
   "display_name": "Python 3 (ipykernel)",
   "language": "python",
   "name": "python3"
  },
  "language_info": {
   "codemirror_mode": {
    "name": "ipython",
    "version": 3
   },
   "file_extension": ".py",
   "mimetype": "text/x-python",
   "name": "python",
   "nbconvert_exporter": "python",
   "pygments_lexer": "ipython3",
   "version": "3.11.1"
  }
 },
 "nbformat": 4,
 "nbformat_minor": 5
}
