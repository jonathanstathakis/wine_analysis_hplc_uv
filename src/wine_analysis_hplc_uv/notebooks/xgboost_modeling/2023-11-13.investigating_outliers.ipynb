{
 "cells": [
  {
   "cell_type": "markdown",
   "metadata": {},
   "source": [
    "# Investigating Samples Labeled as Outliers\n",
    "\n",
    "2023-11-13 10:18:05\n",
    "\n",
    "After replacing the Raw 3D datast parquet file with a sql query, there are a number of samples that are excluded that formally were not. This has resulted in a much worse performing model for the same parameters. First step is to check whether the samples should have been excluded, as I dont have a clear study of them.\n",
    "\n",
    "The excluded samples are:"
   ]
  },
  {
   "cell_type": "code",
   "execution_count": null,
   "metadata": {},
   "outputs": [],
   "source": [
    "# setup\n",
    "%reload_ext autoreload\n",
    "%autoreload 2\n",
    "\n",
    "import pandas as pd\n",
    "import numpy as np\n",
    "from wine_analysis_hplc_uv import definitions\n",
    "from wine_analysis_hplc_uv.notebooks.xgboost_modeling import dataextract\n",
    "import seaborn.objects as so"
   ]
  },
  {
   "cell_type": "code",
   "execution_count": null,
   "metadata": {},
   "outputs": [],
   "source": [
    "de = dataextract.DataExtractor(definitions.DB_PATH)\n",
    "de.create_subset_table(wavelengths=256, samplecode=(\"115\", \"98\", \"a0301\", \"99\", \"72\"))\n",
    "data = de.get_tbl_as_df()\n",
    "de.con_.close()\n",
    "data.head()"
   ]
  },
  {
   "cell_type": "code",
   "execution_count": null,
   "metadata": {},
   "outputs": [],
   "source": [
    "so.Plot(data, x=\"mins\", y=\"nm_256\").add(so.Line()).facet(\n",
    "    col=\"code_wine\", wrap=2\n",
    ").layout(size=(15, 20)).share(x=False, y=False)"
   ]
  },
  {
   "cell_type": "markdown",
   "metadata": {},
   "source": [
    "So they look ok tbh. 98 looks fine, 72 is definitely 2 samples, a0301 looks fine, 115 looks fine, 99 has a fucked gradient but nothing that cant be rectified with baseline subtraction. What else is going on?\n",
    "\n",
    "Lets look at 72 first. To differentiate we're gna need the dates."
   ]
  },
  {
   "cell_type": "markdown",
   "metadata": {},
   "source": [
    "## Sample 72"
   ]
  },
  {
   "cell_type": "code",
   "execution_count": null,
   "metadata": {},
   "outputs": [],
   "source": [
    "import duckdb as db\n",
    "\n",
    "con = db.connect(definitions.DB_PATH)\n",
    "con.sql(\n",
    "    \"\"\"\n",
    "        DESCRIBE c_chemstation_metadata\n",
    "        \"\"\"\n",
    ")"
   ]
  },
  {
   "cell_type": "code",
   "execution_count": null,
   "metadata": {},
   "outputs": [],
   "source": [
    "sample_72 = data.query(\"samplecode=='72'\")\n",
    "\n",
    "sample_72.acq_date.value_counts()"
   ]
  },
  {
   "cell_type": "markdown",
   "metadata": {},
   "source": [
    "As above, there are two recordings of that sample. The signals are below:"
   ]
  },
  {
   "cell_type": "code",
   "execution_count": null,
   "metadata": {},
   "outputs": [],
   "source": [
    "so.Plot(sample_72, x=\"mins\", y=\"nm_256\", color=\"acq_date\").add(so.Line())"
   ]
  },
  {
   "cell_type": "markdown",
   "metadata": {},
   "source": [
    "Makes for an easy fix. The sample recorded at 2023-02-22 16:10:39 is a half run, and needs to be removed. Are the ids different?"
   ]
  },
  {
   "cell_type": "code",
   "execution_count": null,
   "metadata": {},
   "outputs": [],
   "source": [
    "sample_72.id.value_counts()"
   ]
  },
  {
   "cell_type": "markdown",
   "metadata": {},
   "source": [
    "Thankfully, yes. I guess we now get to add a 'exclude_id' condition to the sql query in `dataextract`"
   ]
  },
  {
   "cell_type": "code",
   "execution_count": null,
   "metadata": {},
   "outputs": [],
   "source": [
    "data = data.query(\"id != '6d8a370a-9f40-460d-acba-99fd4c287ad8'\")\n",
    "so.Plot(data, x=\"mins\", y=\"nm_256\").add(so.Line()).facet(\n",
    "    col=\"code_wine\", wrap=2\n",
    ").layout(size=(15, 20)).share(x=False, y=False)"
   ]
  },
  {
   "cell_type": "markdown",
   "metadata": {},
   "source": [
    "## Sample 99 and a0301"
   ]
  },
  {
   "cell_type": "markdown",
   "metadata": {},
   "source": [
    "Next is to observe the dataset sizes. anything significantly less than 7800 observations will indicate a problem"
   ]
  },
  {
   "cell_type": "code",
   "execution_count": null,
   "metadata": {},
   "outputs": [],
   "source": [
    "data.groupby([\"id\", \"code_wine\"]).size()"
   ]
  },
  {
   "cell_type": "markdown",
   "metadata": {},
   "source": [
    "How long do they run for with that number of observations?"
   ]
  },
  {
   "cell_type": "code",
   "execution_count": null,
   "metadata": {},
   "outputs": [],
   "source": [
    "data.query(f\"samplecode in ('99','a0301')\").mins.max()"
   ]
  },
  {
   "cell_type": "markdown",
   "metadata": {},
   "source": [
    "so 99 and a0301 both have 6600 observations, and run to 44 mins. Its fine, once we subset the dataset to 30 mins they'll line up. Remove them from the exclusion list."
   ]
  },
  {
   "cell_type": "markdown",
   "metadata": {},
   "source": [
    "## Sample 98\n",
    "\n",
    "Next is 98 with double the observations of everything else. Another repetition?"
   ]
  },
  {
   "cell_type": "markdown",
   "metadata": {},
   "source": [
    "As before, if there are two acq_dates, there are two recordings of the same sample:"
   ]
  },
  {
   "cell_type": "code",
   "execution_count": null,
   "metadata": {},
   "outputs": [],
   "source": [
    "sample_98 = data.query(\"samplecode=='98'\")\n",
    "sample_98"
   ]
  },
  {
   "cell_type": "code",
   "execution_count": null,
   "metadata": {},
   "outputs": [],
   "source": [
    "sample_98.acq_date.value_counts()"
   ]
  },
  {
   "cell_type": "markdown",
   "metadata": {},
   "source": [
    "Its not that, then what? What is the frequency of observation"
   ]
  },
  {
   "cell_type": "code",
   "execution_count": null,
   "metadata": {},
   "outputs": [],
   "source": [
    "data = (\n",
    "    data.set_index(\n",
    "        [\n",
    "            \"acq_date\",\n",
    "            \"detection\",\n",
    "            \"color\",\n",
    "            \"varietal\",\n",
    "            \"id\",\n",
    "            \"code_wine\",\n",
    "            \"samplecode\",\n",
    "            \"wine\",\n",
    "            \"mins\",\n",
    "        ]\n",
    "    )\n",
    "    .sort_index()\n",
    "    .reset_index()\n",
    ")\n",
    "data"
   ]
  },
  {
   "cell_type": "markdown",
   "metadata": {},
   "source": [
    "What is the average frequency of observation across the dataset, excluding sample 98?"
   ]
  },
  {
   "cell_type": "code",
   "execution_count": null,
   "metadata": {},
   "outputs": [],
   "source": [
    "data.shape"
   ]
  },
  {
   "cell_type": "code",
   "execution_count": null,
   "metadata": {},
   "outputs": [],
   "source": [
    "data"
   ]
  },
  {
   "cell_type": "markdown",
   "metadata": {},
   "source": [
    "To observe the average frequency of observation as seconds, we just need to look at the difference in time between two observations, and calculate that average."
   ]
  },
  {
   "cell_type": "code",
   "execution_count": null,
   "metadata": {},
   "outputs": [],
   "source": [
    "# clean up the time axes, as usual.\n",
    "\n",
    "data = data.assign(\n",
    "    mins=lambda x: x.groupby(\"id\")[\"mins\"].transform(lambda x: x - x.iloc[0])\n",
    ")\n",
    "data.head()"
   ]
  },
  {
   "cell_type": "code",
   "execution_count": null,
   "metadata": {},
   "outputs": [],
   "source": [
    "# convert mins to seconds\n",
    "data = data.assign(seconds=lambda df: df.mins * 60)\n",
    "\n",
    "# display the average frequency of observation\n",
    "display(data.groupby(\"code_wine\")[\"seconds\"].aggregate((lambda x: x.diff().mean())))\n",
    "\n",
    "data = data.pipe(lambda df: df.drop(\"nm_256\", axis=1).assign(nm_256=df.nm_256))"
   ]
  },
  {
   "cell_type": "markdown",
   "metadata": {},
   "source": [
    "As we can see in the output above, 98 has an average observation frequency of 0.2, half that of the other samples, resulting in twice as many observations. A simple resampling will rectify this problem."
   ]
  },
  {
   "cell_type": "code",
   "execution_count": null,
   "metadata": {},
   "outputs": [],
   "source": [
    "# resampling 98 to 0.4S frequency\n",
    "data.query(\"samplecode=='98'\").assign(\n",
    "    mins=lambda df: pd.to_timedelta(df.mins, unit=\"m\")\n",
    ").resample(on=\"mins\", rule=\"0.4S\").mean(numeric_only=True).plot(x=\"seconds\", y=\"nm_256\")"
   ]
  },
  {
   "cell_type": "markdown",
   "metadata": {},
   "source": [
    "Now to instantiate this, it should be established as a cleaner function, but I CBF unless this sample is relevant."
   ]
  },
  {
   "cell_type": "code",
   "execution_count": null,
   "metadata": {},
   "outputs": [],
   "source": [
    "data.loc[:, [\"code_wine\", \"id\"]].drop_duplicates()"
   ]
  },
  {
   "cell_type": "markdown",
   "metadata": {},
   "source": [
    "## Sample 115"
   ]
  },
  {
   "cell_type": "markdown",
   "metadata": {},
   "source": [
    "The last one is 115"
   ]
  },
  {
   "cell_type": "code",
   "execution_count": null,
   "metadata": {},
   "outputs": [],
   "source": [
    "sample_115 = data.query(\"samplecode=='115'\")\n",
    "\n",
    "sample_115.plot(x=\"mins\", y=\"nm_256\")"
   ]
  },
  {
   "cell_type": "markdown",
   "metadata": {},
   "source": [
    "Again, it looks fine to me."
   ]
  },
  {
   "cell_type": "code",
   "execution_count": null,
   "metadata": {},
   "outputs": [],
   "source": [
    "sample_115.mins.plot()"
   ]
  },
  {
   "cell_type": "markdown",
   "metadata": {},
   "source": [
    "Signal looks fine, time axis is monotonically increasing.. why the hell was it labeled as an outlier?"
   ]
  }
 ],
 "metadata": {
  "kernelspec": {
   "display_name": "wine-analysis-hplc-uv-F-SbhWjO-py3.11",
   "language": "python",
   "name": "python3"
  },
  "language_info": {
   "codemirror_mode": {
    "name": "ipython",
    "version": 3
   },
   "file_extension": ".py",
   "mimetype": "text/x-python",
   "name": "python",
   "nbconvert_exporter": "python",
   "pygments_lexer": "ipython3",
   "version": "3.11.1"
  }
 },
 "nbformat": 4,
 "nbformat_minor": 2
}
