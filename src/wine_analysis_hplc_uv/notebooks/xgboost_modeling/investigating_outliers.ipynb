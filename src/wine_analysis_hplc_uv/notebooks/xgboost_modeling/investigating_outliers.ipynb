{
 "cells": [
  {
   "cell_type": "markdown",
   "metadata": {},
   "source": [
    "# Investigating Outliers\n",
    "\n",
    "2023-11-13 14:49:10\n",
    "\n",
    "Several samples have been labeled as outliers and therefore for exclusion. Problem is that this has shrunk my shiraz class enough that model results are not matching the original. I now need to check the validity of these decisions."
   ]
  },
  {
   "cell_type": "code",
   "execution_count": null,
   "metadata": {},
   "outputs": [],
   "source": [
    "# setup\n",
    "\n",
    "%reload_ext autoreload\n",
    "%autoreload 2\n",
    "\n",
    "import pandas as pd\n",
    "import numpy as np\n",
    "import seaborn.objects as so\n",
    "from wine_analysis_hplc_uv import definitions\n",
    "from wine_analysis_hplc_uv.notebooks.xgboost_modeling import dataextract"
   ]
  },
  {
   "cell_type": "code",
   "execution_count": null,
   "metadata": {},
   "outputs": [],
   "source": [
    "de = dataextract.DataExtractor(definitions.DB_PATH)\n",
    "de.create_subset_table(detection=('raw',), samplecode=('72',), wavelengths=256)\n",
    "data = de.get_tbl_as_df()\n",
    "de.con_.close()\n",
    "data"
   ]
  },
  {
   "cell_type": "code",
   "execution_count": null,
   "metadata": {},
   "outputs": [],
   "source": [
    "data.groupby(['acq_date','id']).size()"
   ]
  },
  {
   "cell_type": "code",
   "execution_count": null,
   "metadata": {},
   "outputs": [],
   "source": [
    "so.Plot(data, x='mins',y='nm_256',color='acq_date').add(so.Line())"
   ]
  },
  {
   "cell_type": "markdown",
   "metadata": {},
   "source": [
    "Sample with id '6d8a370a-9f40-460d-acba-99fd4c287ad8' is an aborted run, needs to be removed from dataset."
   ]
  }
 ],
 "metadata": {
  "kernelspec": {
   "display_name": "wine-analysis-hplc-uv-F-SbhWjO-py3.11",
   "language": "python",
   "name": "python3"
  },
  "language_info": {
   "codemirror_mode": {
    "name": "ipython",
    "version": 3
   },
   "file_extension": ".py",
   "mimetype": "text/x-python",
   "name": "python",
   "nbconvert_exporter": "python",
   "pygments_lexer": "ipython3",
   "version": "3.11.1"
  }
 },
 "nbformat": 4,
 "nbformat_minor": 2
}
