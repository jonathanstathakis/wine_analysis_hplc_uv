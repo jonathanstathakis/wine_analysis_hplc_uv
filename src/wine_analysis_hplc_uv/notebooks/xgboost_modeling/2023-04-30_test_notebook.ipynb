{
 "cells": [
  {
   "cell_type": "code",
   "execution_count": null,
   "metadata": {},
   "outputs": [],
   "source": [
    "import dataextract\n",
    "from wine_analysis_hplc_uv.definitions import DB_PATH\n",
    "import duckdb as db\n",
    "\n",
    "con = db.connect(database=DB_PATH)\n",
    "de = dataextract.DataExtractor(_con=con)\n",
    "# de.load_data()\n",
    "# de.create_subset_table()\n",
    "# de.get_tbl_as_df()"
   ]
  },
  {
   "cell_type": "code",
   "execution_count": null,
   "metadata": {},
   "outputs": [],
   "source": [
    "de._con.execute(\n",
    "    query=\"\"\"--sql\n",
    "    SELECT\n",
    "        *\n",
    "        FROM\n",
    "            c_sample_tracker st\n",
    "        WHERE\n",
    "        (\n",
    "            (SELECT UNNEST($detection)) IS NULL\n",
    "            OR \n",
    "            st.detection in (SELECT * FROM UNNEST($detection))\n",
    "        )\n",
    "        \"\"\",\n",
    "    parameters=dict(detection=(\"raw\",)),\n",
    ").pl()"
   ]
  }
 ],
 "metadata": {
  "kernelspec": {
   "display_name": "wine-analysis-hplc-uv-F-SbhWjO-py3.11",
   "language": "python",
   "name": "python3"
  },
  "language_info": {
   "codemirror_mode": {
    "name": "ipython",
    "version": 3
   },
   "file_extension": ".py",
   "mimetype": "text/x-python",
   "name": "python",
   "nbconvert_exporter": "python",
   "pygments_lexer": "ipython3",
   "version": "3.11.1"
  }
 },
 "nbformat": 4,
 "nbformat_minor": 2
}
