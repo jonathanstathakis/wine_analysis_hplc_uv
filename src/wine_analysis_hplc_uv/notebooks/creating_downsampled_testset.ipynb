{
 "cells": [
  {
   "cell_type": "markdown",
   "metadata": {},
   "source": [
    "# Creating a Downsampled Test Dataset\n",
    "\n",
    "This notebook will create a parquet file of downsampled CUPRAC detected shiraz signals at 450 nm. The database data will be time offset and precision corrected and set to a universal time index. The wine column level will have duplicates made unique via the addition of an ascending integer.\n"
   ]
  },
  {
   "cell_type": "code",
   "execution_count": null,
   "metadata": {},
   "outputs": [],
   "source": [
    "%load_ext autoreload\n",
    "%autoreload 2\n",
    "\n",
    "from wine_analysis_hplc_uv import definitions\n",
    "from wine_analysis_hplc_uv.signal_processing.mindex_signal_processing import SignalProcessor\n",
    "import pandas as pd\n",
    "import numpy as np\n",
    "sigpro = SignalProcessor()\n",
    "df = pd.read_parquet(definitions.RAW_PARQ_PATH)\n",
    "df"
   ]
  },
  {
   "cell_type": "markdown",
   "metadata": {},
   "source": [
    "## Downsampling"
   ]
  },
  {
   "cell_type": "markdown",
   "metadata": {},
   "source": [
    "Apply the methods pioneerd in [time_axis_characterisation_and_normalization](notebooks/time_axis_characterisation_and_normalization.ipynb) and [downsampling_signals](notebooks/downsampling_signals.ipynb) to move the dataset to a global time index then downsample to 2 seconds per observation."
   ]
  },
  {
   "cell_type": "code",
   "execution_count": null,
   "metadata": {},
   "outputs": [],
   "source": [
    "df = \\\n",
    "(\n",
    "    df.pipe(sigpro.standardize_time)\n",
    "    .resample(\"2S\")\n",
    "    .interpolate()\n",
    ")\n",
    "df"
   ]
  },
  {
   "cell_type": "markdown",
   "metadata": {},
   "source": [
    "## Subsetting\n",
    "\n",
    "As discussed in [downsampling_signals](notebooks/downsampling_signals.ipynb), the area of interest is 0 - 20 mins. I will first reduce this test dataset to that range:"
   ]
  },
  {
   "cell_type": "code",
   "execution_count": null,
   "metadata": {},
   "outputs": [],
   "source": [
    "df = (df\n",
    " .loc[:pd.to_timedelta(20,unit='min')]\n",
    " )\n",
    "df"
   ]
  },
  {
   "cell_type": "markdown",
   "metadata": {},
   "source": [
    "## Making 'wine' Unique\n",
    "\n",
    "While not strictly necessary, for visualisation purposes, it is useful to have 1 column that is both the primary key and label. Currently I have two identically labelled 'torbreck the struie' wines, which means I either use the samplecode column, which is not relatable, or I make the wine column unique. I have gone with the latter."
   ]
  },
  {
   "cell_type": "code",
   "execution_count": null,
   "metadata": {},
   "outputs": [],
   "source": [
    "\"\"\"\n",
    "Form label dataframe from multiindex, form label column as concat of wine + cumcount+1.\n",
    "Join with label column on samplecode index, use label column to map to wine, fill it\n",
    "where NA with wine value (i.e. unique wine names) then replace wine column with label\n",
    "through assign.\n",
    "\"\"\"\n",
    "# add the label as a concatentation of cumcount+1 and wine name\n",
    "labels = (df\n",
    ".columns\n",
    ".to_frame()\n",
    ".reset_index(drop=True)\n",
    "[['samplecode','wine']]\n",
    ".set_index('samplecode')\n",
    "[lambda df: df.duplicated(keep=False)]\n",
    ".assign(label=lambda df: df['wine'] + \" \" + df.groupby(['wine']).cumcount().add(1).astype(str))\n",
    ")\n",
    "\n",
    "# go to long format, join with label df on samplecode, merge label and wine column via\n",
    "# where, replace wine column with the merge, go back to tidy format\n",
    "df = (df\n",
    " .stack(['samplecode','wine'])\n",
    " .reset_index('mins')\n",
    " .join(labels['label'])\n",
    " .rename_axis('vars',axis=1)\n",
    " .reset_index()\n",
    " .pipe(lambda df:\n",
    "     df.assign(wine=df['label'].where(~df['label'].isna(),df['wine']))\n",
    "     )\n",
    " .drop(['label'],axis=1)\n",
    " .set_index(['samplecode','wine','mins'])\n",
    " .unstack(['samplecode','wine'])\n",
    " .reorder_levels(axis=1, order=['samplecode','wine','vars'])\n",
    " .sort_index(axis=1, level='samplecode')\n",
    ")\n",
    "df"
   ]
  },
  {
   "cell_type": "markdown",
   "metadata": {},
   "source": [
    "## Outcome\n",
    "\n",
    "Below is a plot of the processed and downsampled dataset:"
   ]
  },
  {
   "cell_type": "code",
   "execution_count": null,
   "metadata": {},
   "outputs": [],
   "source": [
    "import matplotlib.pyplot as plt\n",
    "import seaborn as sns\n",
    "\n",
    "fig, ax = plt.subplots(1)\n",
    "\n",
    "(\n",
    "    df\n",
    "    # .reset_index()\n",
    "    .melt(ignore_index=False)\n",
    "    .pipe(lambda df: df if display(df) else df) # display df\n",
    "    .pipe(lambda df: sns.lineplot(df, ax=ax,x='mins',y='value',hue='wine'))\n",
    ");\n",
    "plt.tight_layout()\n",
    "plt.legend(bbox_to_anchor=(1.05, 1), loc=2, borderaxespad=0.) "
   ]
  },
  {
   "cell_type": "markdown",
   "metadata": {},
   "source": [
    "## Write to File\n",
    "\n",
    "Testing between read times for parquet and csv found that parquet read times were twice as fast. so use parquet."
   ]
  },
  {
   "cell_type": "code",
   "execution_count": null,
   "metadata": {},
   "outputs": [],
   "source": [
    "from wine_analysis_hplc_uv import definitions\n",
    "df.to_parquet(\n",
    "    definitions.XPRO_DOWNSAMPLED_PARQ_PATH\n",
    ")"
   ]
  },
  {
   "cell_type": "code",
   "execution_count": null,
   "metadata": {},
   "outputs": [],
   "source": [
    "a = pd.read_parquet(\n",
    "    definitions.XPRO_DOWNSAMPLED_PARQ_PATH\n",
    ")\n",
    "a"
   ]
  }
 ],
 "metadata": {
  "kernelspec": {
   "display_name": "wine-analysis-hplc-uv-F-SbhWjO-py3.11",
   "language": "python",
   "name": "python3"
  },
  "language_info": {
   "codemirror_mode": {
    "name": "ipython",
    "version": 3
   },
   "file_extension": ".py",
   "mimetype": "text/x-python",
   "name": "python",
   "nbconvert_exporter": "python",
   "pygments_lexer": "ipython3",
   "version": "3.11.1"
  }
 },
 "nbformat": 4,
 "nbformat_minor": 2
}
