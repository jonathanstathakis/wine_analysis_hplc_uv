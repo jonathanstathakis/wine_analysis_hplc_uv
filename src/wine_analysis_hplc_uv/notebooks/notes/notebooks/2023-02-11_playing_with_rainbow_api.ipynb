{
 "cells": [
  {
   "cell_type": "code",
   "execution_count": null,
   "id": "04af5d8f-aa18-4b33-9113-56a1ff7708ec",
   "metadata": {
    "tags": []
   },
   "outputs": [],
   "source": [
    "import rainbow as rb\n",
    "\n",
    "import os\n",
    "\n",
    "# os.getcwd()\n",
    "\n",
    "# datadir = rb.read(\"../002_0_jono_data/sequences/20220801_CAFFEINE_QUANT_SEQ 2022-08-01 15-53-17/20220801_CAFFEINE_10PPM1.D\")\n",
    "\n",
    "# datadir"
   ]
  },
  {
   "cell_type": "markdown",
   "id": "f2b32692-9d45-4b6c-9aa3-2a710f9f7927",
   "metadata": {},
   "source": [
    "Rainbow only works on .D directories. Need to build a wrapper around it to interact with sequences. The example they give [here](https://rainbow-api.readthedocs.io/en/latest/examples.html) uses the multiprocessing package.\n",
    "\n",
    "Does that matter? What information is stored at the sequence level vs what is stored at the data directory level?"
   ]
  },
  {
   "cell_type": "code",
   "execution_count": null,
   "id": "0da03c51-3d7a-47bd-a461-fd81e1e8fd0b",
   "metadata": {
    "tags": []
   },
   "outputs": [],
   "source": [
    "# from pathlib import Path\n",
    "\n",
    "# p = Path(\"../002_0_jono_data/sequences/20230130_WINES 2023-01-30 15-15-45/\")\n",
    "\n",
    "# sequence_dir = [x.name for x in p.iterdir()]\n",
    "# sequence_dir"
   ]
  },
  {
   "cell_type": "markdown",
   "id": "d1198a08-41ce-4931-a4ca-51557d386b8b",
   "metadata": {},
   "source": [
    "A sequence directory contains the following files / dirs:\n",
    "\n",
    "\"name.B\"\n",
    "\n",
    "\"name.LOG\"\n",
    "\n",
    "\"sequence.acaml\"\n",
    "\n",
    "\".D\" for each sample\n",
    "\n",
    "\".M\" method(s) files\n",
    "\n",
    "\"sequence name.S\"\n",
    "\n",
    "\"METHODS.REG\"\n",
    "\n",
    "CSlbk.ini file"
   ]
  },
  {
   "cell_type": "markdown",
   "id": "3c38c026-ecba-4f07-8ad5-e1f7f76cecf8",
   "metadata": {},
   "source": [
    "and a .D dir can contain the following:"
   ]
  },
  {
   "cell_type": "code",
   "execution_count": null,
   "id": "58b6195c-63b0-4a82-a098-a68836f046b9",
   "metadata": {
    "tags": []
   },
   "outputs": [],
   "source": [
    "# data_dir = [[y.name for y in x.iterdir()] for x in p.iterdir() if \"Z1.D\" in x.name]\n",
    "\n",
    "# data_dir = data_dir[0]\n",
    "\n",
    "# data_dir"
   ]
  },
  {
   "cell_type": "markdown",
   "id": "fb6c18a5-6f91-4dc4-85c2-05d182b935c1",
   "metadata": {},
   "source": [
    "A \"ACQRES.REG\"\n",
    "\n",
    "\"acq.txt\"\n",
    "\n",
    "\"LCDIAG.REG\"\n",
    "\n",
    "\"RUN.LOG\"\n",
    "\n",
    "\".ch\" files for each preset signal.\n",
    "\n",
    "\"sequence.acam_\",\n",
    "\n",
    "\"SAMPLE.XML\"\n",
    "\n",
    "\"limsinf.xml\"\n",
    "\n",
    "\"da.macaml\"\n",
    "\n",
    "\"CSLbk.ini\"\n",
    "\n",
    "and\n",
    "\n",
    "\"SAMPLE.XML.bak\""
   ]
  },
  {
   "cell_type": "markdown",
   "id": "6223a027-015e-4098-9e53-43c19d36f693",
   "metadata": {},
   "source": [
    "if we instead express these two lists as sets then find the symmetric difference.."
   ]
  },
  {
   "cell_type": "code",
   "execution_count": null,
   "id": "7e5cfe30-ea70-4408-8ba5-0e5641e7e33a",
   "metadata": {
    "tags": []
   },
   "outputs": [],
   "source": [
    "# data_dir_set = set()\n",
    "\n",
    "# for x in data_dir:\n",
    "#     if \"ch\" in x.split(\".\")[1]:    \n",
    "#         data_dir_set.add(\"1.ch\")\n",
    "#     else:\n",
    "#         data_dir_set.add(x)\n",
    "\n",
    "        \n",
    "# data_dir_set"
   ]
  },
  {
   "cell_type": "code",
   "execution_count": null,
   "id": "13d2abd7-feff-45d7-a3d1-8bf2b912b7e4",
   "metadata": {
    "tags": []
   },
   "outputs": [],
   "source": [
    "\n",
    "\n",
    "# sequence_set = set()\n",
    "\n",
    "# for x in sequence_dir:\n",
    "#     if \"D\" in x.split(\".\")[1]:\n",
    "#         sequence_set.add(\"1.D\")\n",
    "#         print(x, \"condition met\")\n",
    "#     else:\n",
    "#         print(x, \"condition not met\")\n",
    "#         sequence_set.add(x)\n",
    "        \n",
    "# print(sequence_set)"
   ]
  },
  {
   "cell_type": "code",
   "execution_count": null,
   "id": "466c5611-05e9-4809-b165-4d4e56c10c8d",
   "metadata": {
    "tags": []
   },
   "outputs": [],
   "source": [
    "# sequence_set.intersection(data_dir_set)"
   ]
  },
  {
   "cell_type": "code",
   "execution_count": null,
   "id": "a904bd69-ccc2-4dea-9527-217ad1dbbf7e",
   "metadata": {
    "tags": []
   },
   "outputs": [],
   "source": [
    "# sequence_set.difference(data_dir_set)"
   ]
  },
  {
   "cell_type": "markdown",
   "id": "a63fcd3c-a0e1-4048-9ac6-2a76b7a9bade",
   "metadata": {},
   "source": [
    "The following contains items which are present in the sequence_set but not the data_dir_set."
   ]
  },
  {
   "cell_type": "code",
   "execution_count": null,
   "id": "76735fbd-b0e8-4cda-bcc7-7c3e880e6cf4",
   "metadata": {
    "tags": []
   },
   "outputs": [],
   "source": [
    "# sequence_set.difference(data_dir_set)"
   ]
  },
  {
   "cell_type": "markdown",
   "id": "74e07d1a-3cfd-46cc-b581-474f1deb4ae8",
   "metadata": {},
   "source": [
    "And the following is the inverse, items present in the data_dir_set but not the sequence_set."
   ]
  },
  {
   "cell_type": "code",
   "execution_count": null,
   "id": "86e7195f-7fb0-4a68-9511-7f02d5709d27",
   "metadata": {
    "tags": []
   },
   "outputs": [],
   "source": [
    "# data_dir_set.difference(sequence_set)"
   ]
  },
  {
   "cell_type": "markdown",
   "id": "a8e3394b-1128-422b-a638-beb431c7b7ee",
   "metadata": {},
   "source": [
    "So, the most obvious marker will be the .S file, as it is clearly associated with sequences."
   ]
  },
  {
   "cell_type": "markdown",
   "id": "795aed88-9ac1-43cb-916f-a7db480a3bc3",
   "metadata": {},
   "source": [
    "Now lets write a loop to identify sequence directories."
   ]
  },
  {
   "cell_type": "code",
   "execution_count": null,
   "id": "25bae6e9-e5ff-43f3-8cb4-75191166f044",
   "metadata": {
    "tags": []
   },
   "outputs": [],
   "source": [
    "from pathlib import Path\n",
    "\n",
    "p = Path(\"../002_0_jono_data\")\n",
    "\n",
    "p = p.resolve()\n",
    "print(p)\n"
   ]
  },
  {
   "cell_type": "code",
   "execution_count": null,
   "id": "d51a0185-e7e4-4bfc-bc27-f5f619939f5c",
   "metadata": {
    "tags": []
   },
   "outputs": [],
   "source": [
    "for x in p.iterdir():\n",
    "    for y in x.iterdir():\n",
    "        if \".S\" in y.name and \".sequence\" not in x:\n",
    "            \n",
    "            sequence_name = x.name\n",
    "            print(\"found a sequence:\", sequence_name)\n",
    "            \n",
    "            # split_sequence_name = x.name.split(\"_\")\n",
    "            # print(split_sequence_name)\n",
    "            \n",
    "            underscored_name_with_suffix = sequence_name.replace(\" \", \"_\") + \".sequence\"\n",
    "            print(\"underscored name:\", underscored_name_with_suffix)\n",
    "            \n",
    "#            x.rename(underscored_name_with_suffix)\n",
    "            \n",
    "            print(\"\\n\")\n",
    "# #            x.rename(\"_\".join(x.name.split(\"_\")[1:]))"
   ]
  },
  {
   "cell_type": "code",
   "execution_count": null,
   "id": "c4fe93b5-8a27-4e73-a0ca-84cb332d84d2",
   "metadata": {
    "tags": []
   },
   "outputs": [],
   "source": [
    "print(p)"
   ]
  },
  {
   "cell_type": "code",
   "execution_count": null,
   "id": "69c3f494-59fe-4076-bdd4-eb88e5f4f978",
   "metadata": {
    "tags": []
   },
   "outputs": [],
   "source": [
    "import os\n",
    "\n",
    "for x in p.iterdir():\n",
    "    if \".sequence\" in x.name:\n",
    "\n",
    "        new_name = Path(\".\".join(x.name.split(\".\")[:-1]))\n",
    "        \n",
    "        parent_path = p.parent\n",
    "        \n",
    "        new_file_path = p.parent / \"002_0_jono_data\" / new_name\n",
    "        \n",
    "        x.rename(new_file_path)\n",
    "        \n",
    "        print(new_file_path)"
   ]
  },
  {
   "cell_type": "code",
   "execution_count": null,
   "id": "178e928f-fa27-4f0b-8cf8-506d63c9b0e8",
   "metadata": {},
   "outputs": [],
   "source": []
  }
 ],
 "metadata": {
  "kernelspec": {
   "display_name": "wine_analysis_hplc_uv_venv",
   "language": "python",
   "name": "wine_analysis_hplc_uv_venv"
  },
  "language_info": {
   "codemirror_mode": {
    "name": "ipython",
    "version": 3
   },
   "file_extension": ".py",
   "mimetype": "text/x-python",
   "name": "python",
   "nbconvert_exporter": "python",
   "pygments_lexer": "ipython3",
   "version": "3.11.1"
  }
 },
 "nbformat": 4,
 "nbformat_minor": 5
}
