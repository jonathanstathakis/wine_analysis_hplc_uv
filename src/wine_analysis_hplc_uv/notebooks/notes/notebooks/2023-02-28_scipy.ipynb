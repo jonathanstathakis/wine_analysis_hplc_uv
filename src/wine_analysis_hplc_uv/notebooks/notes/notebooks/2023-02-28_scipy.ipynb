{
 "cells": [
  {
   "cell_type": "markdown",
   "id": "6f84c4f5-48ac-4a90-ad61-84dd38db8551",
   "metadata": {
    "tags": []
   },
   "source": [
    "# Scipy"
   ]
  },
  {
   "cell_type": "markdown",
   "id": "d3e4a931-4204-4a06-848c-dc98313ed2a2",
   "metadata": {
    "tags": []
   },
   "source": [
    "[Introduction — SciPy v1.10.1 Manual](https://docs.scipy.org/doc/scipy/tutorial/general.html)"
   ]
  },
  {
   "cell_type": "markdown",
   "id": "ca6b5075-5022-4ddd-ba00-d5b60bde9ddc",
   "metadata": {},
   "source": [
    "Should focus on [Signal processing (scipy.signal) — SciPy v1.10.1 Manual](https://docs.scipy.org/doc/scipy/reference/signal.html#module-scipy.signal)."
   ]
  },
  {
   "cell_type": "markdown",
   "id": "7635f53f-05db-4f2c-954e-4e72bdfa262e",
   "metadata": {},
   "source": [
    "A lot of the modules are outside of my scope. [scipy.signal.find_peaks](https://docs.scipy.org/doc/scipy/reference/generated/scipy.signal.find_peaks.html#scipy.signal.find_peaks) may be useful. It requires a 1-D array, and returns all local maxima."
   ]
  },
  {
   "cell_type": "markdown",
   "id": "328e7ca2-28cb-4d49-af5b-e1d900490b38",
   "metadata": {},
   "source": [
    "Load some sample data:"
   ]
  },
  {
   "cell_type": "code",
   "execution_count": null,
   "id": "f0aad17c-596a-4a4c-bcdd-87c4f3aaa21c",
   "metadata": {
    "tags": []
   },
   "outputs": [],
   "source": [
    "%load_ext autoreload\n",
    "%autoreload 2\n",
    "\n",
    "import os\n",
    "import sys\n",
    "\n",
    "sys.path.insert(0, os.path.abspath(os.path.join(os.path.dirname(__file__), '..')))\n",
    "\n",
    "from pathlib import Path\n",
    "\n",
    "import pandas as pd\n",
    "\n",
    "from scripts.data_interface import retrieve_uv_data\n",
    "\n",
    "import rainbow as rb\n",
    "\n",
    "import numpy as np"
   ]
  },
  {
   "cell_type": "code",
   "execution_count": null,
   "id": "59f67fe1-9f0f-4540-8f8b-bee8a78b6abd",
   "metadata": {
    "tags": []
   },
   "outputs": [],
   "source": [
    "p = Path(\"/Users/jonathan/0_jono_data/2023-02-22_2021-DEBORTOLI-CABERNET-MERLOT_HALO.D\")\n",
    "\n",
    "print(p)\n",
    "\n",
    "uv_data = retrieve_uv_data(rb.read(str(p)))"
   ]
  },
  {
   "cell_type": "code",
   "execution_count": null,
   "id": "e8b6f20c-d02d-4ed1-ac71-e000efd494cc",
   "metadata": {
    "tags": []
   },
   "outputs": [],
   "source": [
    "#plot_3d_line(uv_data, plot_title=\"whateve\")"
   ]
  },
  {
   "cell_type": "code",
   "execution_count": null,
   "id": "9e8e9412-954a-4b07-a713-22cb11ce35ef",
   "metadata": {
    "tags": []
   },
   "outputs": [],
   "source": [
    "from scripts.data_manipulators import df_windower\n",
    "\n",
    "uv_data_2 = df_windower(uv_data, 'nm', 220, 250)\n",
    "\n",
    "uv_data_2.head()"
   ]
  },
  {
   "cell_type": "code",
   "execution_count": null,
   "id": "fa7ec16c-61ff-4e21-be3a-eb35a34c2bb1",
   "metadata": {
    "tags": []
   },
   "outputs": [],
   "source": [
    "#plot_3d_line(uv_data_2, plot_title = \"whatevs\")"
   ]
  },
  {
   "cell_type": "code",
   "execution_count": null,
   "id": "e9034541-e339-4771-a263-30c2aa3237a1",
   "metadata": {
    "tags": []
   },
   "outputs": [],
   "source": [
    "uv_data_2['mins'] = uv_data_2['mins'].round(5)\n",
    "\n",
    "uv_data_2 = uv_data_2.set_index('mins')"
   ]
  },
  {
   "cell_type": "code",
   "execution_count": null,
   "id": "d9405268-c48c-4343-9c7a-9f9cba27c878",
   "metadata": {
    "tags": []
   },
   "outputs": [],
   "source": [
    "uv_data_2.head()"
   ]
  },
  {
   "cell_type": "markdown",
   "id": "5629d61c-80ff-45b0-913c-74566333cbee",
   "metadata": {},
   "source": [
    "So we can see that 222nm has the highest absorabance. at 345.40 mAU, as expected. And the idx of that value is.."
   ]
  },
  {
   "cell_type": "code",
   "execution_count": null,
   "id": "f3003ae9-3f56-49d7-ad1c-e4bf14552cd8",
   "metadata": {},
   "outputs": [],
   "source": [
    "time_max_222 = uv_data_2[uv_data_2.idxmax().index[0]].idxmax()\n",
    "\n",
    "print(f\"The time for the max value of 222nm is {time_max_222}\")"
   ]
  },
  {
   "cell_type": "markdown",
   "id": "4db0d668-b2f4-4f0f-8031-d35d5f5b2c03",
   "metadata": {},
   "source": [
    "So lets try and to peak identification on 222nm."
   ]
  },
  {
   "cell_type": "code",
   "execution_count": null,
   "id": "5fb0b82c-8741-43f0-b4ee-23c73f0446f4",
   "metadata": {
    "tags": []
   },
   "outputs": [],
   "source": [
    "data_222 = uv_data_2[222]\n",
    "\n",
    "data_222.head()"
   ]
  },
  {
   "cell_type": "code",
   "execution_count": null,
   "id": "77973b26-0e1c-4940-b91a-cbdae8c38f8b",
   "metadata": {
    "tags": []
   },
   "outputs": [],
   "source": [
    "data_222.plot()"
   ]
  },
  {
   "cell_type": "code",
   "execution_count": null,
   "id": "4a2f70ce-dd0f-400d-89dd-50fc1c0ae91a",
   "metadata": {},
   "outputs": [],
   "source": [
    "type(p)"
   ]
  },
  {
   "cell_type": "code",
   "execution_count": null,
   "id": "36d31570-a0fd-404e-a83c-7c5789223cee",
   "metadata": {
    "tags": []
   },
   "outputs": [],
   "source": [
    "import plotly.graph_objs as go\n",
    "\n",
    "from scipy.signal import find_peaks\n",
    "\n",
    "def peak_plot(data = pd.DataFrame, nm = int, plot_title = Path):\n",
    "\n",
    "    peak_idx, peak_heights = find_peaks(data[nm], height = 50, distance = 50)\n",
    "\n",
    "    cx = data[nm].index.values\n",
    "\n",
    "    cy = data[nm].values\n",
    "\n",
    "    px = data.index.values[peak_idx]\n",
    "\n",
    "    py = data[nm].values[peak_idx] \n",
    "\n",
    "    fig = go.Figure()\n",
    "\n",
    "    fig.update_layout(title = f\"{p.name}, {nm}\")\n",
    "\n",
    "    peak_trace = go.Scatter(x = px, y = py, mode = 'markers', name = 'peaks')\n",
    "\n",
    "    chrom_trace = go.Scatter(x = cx, y = cy, mode = 'lines', name = 'chromatogram')\n",
    "\n",
    "    fig.add_trace(chrom_trace)\n",
    "\n",
    "    fig.add_trace(peak_trace)\n",
    "\n",
    "    fig.show()\n",
    "\n",
    "peak_plot(uv_data_2, 248, p.name)"
   ]
  },
  {
   "cell_type": "markdown",
   "id": "b4ed28e8-8438-4d0f-9a51-269b9c3ad2ae",
   "metadata": {},
   "source": [
    "A great start, however it quickly became apparent that without a method of distinguishing total peak height from peak height relative to baseline, I had very little analytical functionality. A quick google turned up [scipy.signal.peak_prominences](https://docs.scipy.org/doc/scipy/reference/generated/scipy.signal.peak_prominences.html).."
   ]
  },
  {
   "cell_type": "code",
   "execution_count": null,
   "id": "d0ba9234-6fd4-4b25-b524-c37a4ddec6ae",
   "metadata": {
    "tags": []
   },
   "outputs": [],
   "source": [
    "from scipy.signal import peak_prominences\n",
    "\n",
    "prominences = peak_prominences(uv_data_2[nm], peak_idx)\n",
    "prominences"
   ]
  },
  {
   "cell_type": "markdown",
   "id": "4249be48-2bb4-4f73-b768-093a606c899c",
   "metadata": {},
   "source": [
    "It has returned: the prominences as an array, each peaks left and right 'bases', where the higher base of each pair is the peaks lowest contour line. By this measurement, we could easily determine optimal signal nm based on the highest sum of a nm signal's prominance array."
   ]
  },
  {
   "cell_type": "markdown",
   "id": "b121f634-f089-4a04-bd22-c4690ba457c6",
   "metadata": {},
   "source": [
    "That's enough for this notebook."
   ]
  },
  {
   "cell_type": "code",
   "execution_count": null,
   "id": "95ffc2f0-b69a-47c3-8a59-c00af1fac139",
   "metadata": {},
   "outputs": [],
   "source": []
  }
 ],
 "metadata": {
  "kernelspec": {
   "display_name": "Python 3 (ipykernel)",
   "language": "python",
   "name": "python3"
  },
  "language_info": {
   "codemirror_mode": {
    "name": "ipython",
    "version": 3
   },
   "file_extension": ".py",
   "mimetype": "text/x-python",
   "name": "python",
   "nbconvert_exporter": "python",
   "pygments_lexer": "ipython3",
   "version": "3.11.1"
  }
 },
 "nbformat": 4,
 "nbformat_minor": 5
}
