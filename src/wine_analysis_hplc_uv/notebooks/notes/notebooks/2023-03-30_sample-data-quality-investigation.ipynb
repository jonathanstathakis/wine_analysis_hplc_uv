{
 "cells": [
  {
   "attachments": {},
   "cell_type": "markdown",
   "metadata": {},
   "source": [
    "# Investigating Sample Quality in Runs So Far\n",
    "\n",
    "This notebook will follow the investigation proposed in [2023-03-30_logbook](../../001_obsidian_vault/2023-03-30_logbook.md) to observe sample data quality over a subset of all data. This will be achieved by observing the ratio of peak prominance to area under baseline.\n",
    "\n",
    "The output of this investigation will be a framework for obtaining peak plots, fitting baselines and getting area under baseline. These features will be built into the UV_Data objects by the end of the project. A secondary outcome will be the assessment of this ratio metric for gauging data quality. Hopefully a better metric will eventuate."
   ]
  },
  {
   "attachments": {},
   "cell_type": "markdown",
   "metadata": {},
   "source": [
    "## Set up Environment"
   ]
  },
  {
   "cell_type": "code",
   "execution_count": null,
   "metadata": {},
   "outputs": [],
   "source": [
    "%load_ext autoreload\n",
    "%autoreload 2\n",
    "\n",
    "import sys\n",
    "\n",
    "\n",
    "\n",
    "from agilette.modules.library import Library"
   ]
  },
  {
   "cell_type": "code",
   "execution_count": null,
   "metadata": {},
   "outputs": [],
   "source": [
    "lib = Library('/Users/jonathan/0_jono_data')"
   ]
  },
  {
   "cell_type": "code",
   "execution_count": null,
   "metadata": {},
   "outputs": [],
   "source": [
    "avantor_df = lib.metadata_table[(lib.metadata_table['uv_filenames']!='') & (lib.metadata_table['acq_method'].str.contains('AVANTOR')) & ~(lib.metadata_table['name'].str.contains('uracil')) & ~(lib.metadata_table['name'].str.contains('coffee')) & ~(lib.metadata_table['name'].str.contains('lor'))]\n",
    "\n",
    "avantor_df.shape"
   ]
  },
  {
   "cell_type": "code",
   "execution_count": null,
   "metadata": {},
   "outputs": [],
   "source": [
    "avantor_df.head()"
   ]
  },
  {
   "attachments": {},
   "cell_type": "markdown",
   "metadata": {},
   "source": [
    "So the subset is loaded. Some descriptive statitistics:"
   ]
  },
  {
   "cell_type": "code",
   "execution_count": null,
   "metadata": {},
   "outputs": [],
   "source": [
    "avantor_df.describe()"
   ]
  },
  {
   "attachments": {},
   "cell_type": "markdown",
   "metadata": {},
   "source": [
    "There are 34 runs "
   ]
  }
 ],
 "metadata": {
  "kernelspec": {
   "display_name": "Python 3",
   "language": "python",
   "name": "python3"
  },
  "language_info": {
   "codemirror_mode": {
    "name": "ipython",
    "version": 3
   },
   "file_extension": ".py",
   "mimetype": "text/x-python",
   "name": "python",
   "nbconvert_exporter": "python",
   "pygments_lexer": "ipython3",
   "version": "3.11.1"
  }
 },
 "nbformat": 4,
 "nbformat_minor": 2
}
