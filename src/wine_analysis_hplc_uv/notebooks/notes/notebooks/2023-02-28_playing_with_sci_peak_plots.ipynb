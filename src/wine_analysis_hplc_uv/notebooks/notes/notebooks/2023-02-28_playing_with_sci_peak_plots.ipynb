{
 "cells": [
  {
   "cell_type": "code",
   "execution_count": null,
   "id": "7789fbff-db90-41ae-91a0-8132cf7e148f",
   "metadata": {
    "tags": []
   },
   "outputs": [],
   "source": [
    "%load_ext autoreload\n",
    "%autoreload 2\n",
    "\n",
    "import os\n",
    "import sys\n",
    "\n",
    "sys.path.insert(0, os.path.abspath(os.path.join(os.path.dirname(__file__), '..')))"
   ]
  },
  {
   "cell_type": "code",
   "execution_count": null,
   "id": "bd370d36-7cc5-4758-ae3c-dd95c56068c5",
   "metadata": {
    "tags": []
   },
   "outputs": [],
   "source": [
    "from pathlib import Path\n",
    "\n",
    "import pandas as pd\n",
    "\n",
    "from scripts.data_interface import retrieve_uv_data\n",
    "\n",
    "import rainbow as rb\n",
    "\n",
    "import numpy as np\n",
    "\n",
    "from scripts.hplc_dad_plots import plot_3d_line\n",
    "\n",
    "from scripts.hplc_dad_plots import peak_plot\n",
    "\n",
    "p = Path(\"/Users/jonathan/0_jono_data/2023-02-22_2021-DEBORTOLI-CABERNET-MERLOT_HALO.D\")\n",
    "\n",
    "print(p)\n",
    "\n",
    "uv_data = retrieve_uv_data(rb.read(str(p)))"
   ]
  },
  {
   "cell_type": "code",
   "execution_count": null,
   "id": "1ea32cbf-4b40-4b18-8a76-5ed1545bcaf0",
   "metadata": {
    "tags": []
   },
   "outputs": [],
   "source": [
    "from scripts.data_manipulators import df_windower\n",
    "\n",
    "uv_data_2 = df_windower(uv_data, 'nm', 220, 250)\n",
    "\n",
    "uv_data_2.head()"
   ]
  },
  {
   "cell_type": "code",
   "execution_count": null,
   "id": "421388ef-d2f4-464b-b9b7-b65f5068bce1",
   "metadata": {
    "tags": []
   },
   "outputs": [],
   "source": [
    "uv_data_2['mins'] = uv_data_2['mins'].round(5)\n",
    "\n",
    "uv_data_2 = uv_data_2.set_index('mins')"
   ]
  },
  {
   "cell_type": "code",
   "execution_count": null,
   "id": "748492a0-f220-4358-be63-c955bed663ce",
   "metadata": {
    "tags": []
   },
   "outputs": [],
   "source": [
    "peak_plot(uv_data_2, 222, str(p.name))"
   ]
  },
  {
   "cell_type": "code",
   "execution_count": null,
   "id": "74c5f851-ea67-40fa-b8ba-0d08fb81d583",
   "metadata": {},
   "outputs": [],
   "source": []
  }
 ],
 "metadata": {
  "kernelspec": {
   "display_name": "Python 3 (ipykernel)",
   "language": "python",
   "name": "python3"
  },
  "language_info": {
   "codemirror_mode": {
    "name": "ipython",
    "version": 3
   },
   "file_extension": ".py",
   "mimetype": "text/x-python",
   "name": "python",
   "nbconvert_exporter": "python",
   "pygments_lexer": "ipython3",
   "version": "3.11.1"
  }
 },
 "nbformat": 4,
 "nbformat_minor": 5
}
