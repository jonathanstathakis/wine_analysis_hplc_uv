{
 "cells": [
  {
   "cell_type": "markdown",
   "id": "0f832c67-6cc8-4235-9a35-4fe616551cb4",
   "metadata": {},
   "source": [
    "# Learning Plotly Python API"
   ]
  },
  {
   "cell_type": "markdown",
   "id": "624d5009-a489-447a-9c5d-23b1df737597",
   "metadata": {},
   "source": [
    "Plotly.py is free and open-source, its landing page is [here](https://plotly.com/python/)."
   ]
  },
  {
   "cell_type": "markdown",
   "id": "e64d7a3f-082f-49e8-a47c-7e2fb0e4a499",
   "metadata": {},
   "source": [
    "from [The Figure Data Structure in Python](https://plotly.com/python/figure-structure/):\n",
    "\n",
    "- figures = top level structure of the \"graphical figure\" i.e. plot, chart etc.\n",
    "- Python -> JSON -> JS to render.\n",
    "- Can view the underlying json/dict format through print(fig) or fig.show(\"json\") (in Jupyter Lab only).\n",
    "- "
   ]
  }
 ],
 "metadata": {
  "kernelspec": {
   "display_name": "Python 3 (ipykernel)",
   "language": "python",
   "name": "python3"
  },
  "language_info": {
   "codemirror_mode": {
    "name": "ipython",
    "version": 3
   },
   "file_extension": ".py",
   "mimetype": "text/x-python",
   "name": "python",
   "nbconvert_exporter": "python",
   "pygments_lexer": "ipython3",
   "version": "3.11.1"
  }
 },
 "nbformat": 4,
 "nbformat_minor": 5
}
