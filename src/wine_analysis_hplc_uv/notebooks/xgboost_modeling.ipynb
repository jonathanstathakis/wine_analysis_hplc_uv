{
 "cells": [
  {
   "cell_type": "raw",
   "metadata": {},
   "source": [
    "---\n",
    "title: \"XGBoost Modeling\"\n",
    "format: html\n",
    "---"
   ]
  },
  {
   "cell_type": "code",
   "execution_count": null,
   "metadata": {},
   "outputs": [],
   "source": [
    "from sklearn.model_selection import train_test_split\n",
    "import xgboost as xgb\n",
    "\n",
    "import pandas as pd\n",
    "import numpy as np\n",
    "from wine_analysis_hplc_uv import definitions\n",
    "import seaborn as sns\n",
    "import matplotlib.pyplot as plt\n",
    "\n",
    "from wine_analysis_hplc_uv import definitions\n",
    "\n",
    "idx = pd.IndexSlice"
   ]
  },
  {
   "cell_type": "code",
   "execution_count": null,
   "metadata": {},
   "outputs": [],
   "source": [
    "data = pd.read_parquet(definitions.RW_CUP_450_PROCESSED)\n",
    "data"
   ]
  },
  {
   "cell_type": "code",
   "execution_count": null,
   "metadata": {},
   "outputs": [],
   "source": [
    "# reduce dataset to aligned signals/ref with samplecode labels and transpose\n",
    "\n",
    "d = (\n",
    "    data.loc[:, idx[:, :, [\"aligned\", \"ref\"]]]\n",
    "    .droplevel([\"wine\", \"state\"], axis=1)\n",
    "    .reset_index(drop=True)\n",
    "    .T\n",
    ")\n",
    "display(d)"
   ]
  },
  {
   "cell_type": "code",
   "execution_count": null,
   "metadata": {},
   "outputs": [],
   "source": [
    "# replace alphabetic samplecode values with float codes\n",
    "\n",
    "alpha_samplecodes = [\n",
    "    \"crawford-cab\",\n",
    "    \"mt-diff-bannockburn-pn\",\n",
    "    \"st hugo gsm\",\n",
    "    \"stoney-rise-pn\",\n",
    "    \"torbreck-struie\",\n",
    "]\n",
    "\n",
    "float_codes = [\n",
    "    1111,\n",
    "    2222,\n",
    "    3333,\n",
    "    4444,\n",
    "    5555,\n",
    "]\n",
    "\n",
    "code_dict =  dict(zip(alpha_samplecodes, float_codes))\n",
    "display(code_dict)\n",
    "\n",
    "d.index = d.index.to_series().replace(code_dict).astype(int)\n",
    "d.index"
   ]
  },
  {
   "cell_type": "code",
   "execution_count": null,
   "metadata": {},
   "outputs": [],
   "source": [
    "y = d.index.values\n",
    "X = d.values\n",
    "y"
   ]
  },
  {
   "cell_type": "code",
   "execution_count": null,
   "metadata": {},
   "outputs": [],
   "source": [
    "\"\"\"\n",
    "sklearn.model_selection.train_test_split(*arrays, test_size=None, train_size=None, random_state=None, shuffle=True, stratify=None)\n",
    "\n",
    "train_test_split wraps `next(ShuffleSplit().split(X, y))` to produce validated, randomized and proportioned training and test sets from an input.\n",
    "\n",
    "`arrays`: sequence of indexables with same length/`shape[0]`, i.e. rows. Can accept lists, np.arrays, scipy sparse matrices, pd.DataFrames.\n",
    "\n",
    "`test_size`: `float` or `int`, default=`None`. Size of test set. Integer input translates as absolute number of samples in the test set, float between 0 and 1 translates as a proportion. If set to `None`, test_size will be the remainder of the samples after proessing `train_size`. If `train_size` also `None`, defaults to 0.25.\n",
    "\n",
    "`training_size`: `float` or `int`, default=`None`. Size of training set. Integer input translates as absolute number of samples in the training set, float between 0 and 1 translates as a proportion. If set to `None`, test_size will be the remainder of the samples after proessing `test_size`. If `test_size` also `None`, will default to 0.75.\n",
    "\n",
    "`random_state`: `int`, `RandomState instance`, `None`, default=`None`. Seed for the randomized shuffling. Providing a value will enable reproducible results.\n",
    "\n",
    "shuffle: `bool`, default=None. (?) `None` results in a stratified split. Stratified folds result in sets with the same proportionate representation per fold across classes in the data.\n",
    "\n",
    "Returns a list of length 2*len(arrays)\n",
    "\n",
    "Source: [sklearn](https://scikit-learn.org/stable/modules/generated/sklearn.model_selection.train_test_split.html)\n",
    "\"\"\"\n",
    "\n",
    "X_train, X_test, y_train, y_test = train_test_split(X, y)"
   ]
  },
  {
   "cell_type": "code",
   "execution_count": null,
   "metadata": {},
   "outputs": [],
   "source": [
    "from sklearn.preprocessing import LabelEncoder\n",
    "le = LabelEncoder()\n",
    "y_train = le.fit_transform(y_train)\n",
    "y_train"
   ]
  },
  {
   "cell_type": "code",
   "execution_count": null,
   "metadata": {},
   "outputs": [],
   "source": [
    "from sklearn.preprocessing import LabelEncoder\n",
    "le = LabelEncoder()\n",
    "y_test = le.fit_transform(y_test)\n",
    "y_test\n"
   ]
  },
  {
   "cell_type": "code",
   "execution_count": null,
   "metadata": {},
   "outputs": [],
   "source": [
    "# Use \"hist\" for constructing the trees, with early stopping enabled.\n",
    "clf = xgb.XGBClassifier(tree_method=\"hist\")\n",
    "# Fit the model, test sets are used for early stopping.\n",
    "clf.fit(X_train, y_train, eval_set=[(X_test, y_test)])"
   ]
  },
  {
   "cell_type": "code",
   "execution_count": null,
   "metadata": {},
   "outputs": [],
   "source": [
    "from sklearn.metrics import accuracy_score\n",
    "\n",
    "y_pred = clf.predict(X_test)\n",
    "\n",
    "print('XGBoost model accuracy score: {0:0.4f}'. format(accuracy_score(y_test, y_pred)))"
   ]
  },
  {
   "cell_type": "code",
   "execution_count": null,
   "metadata": {},
   "outputs": [],
   "source": []
  },
  {
   "cell_type": "code",
   "execution_count": null,
   "metadata": {},
   "outputs": [],
   "source": []
  }
 ],
 "metadata": {
  "kernelspec": {
   "display_name": "wine-analysis-hplc-uv-F-SbhWjO-py3.11",
   "language": "python",
   "name": "python3"
  },
  "language_info": {
   "codemirror_mode": {
    "name": "ipython",
    "version": 3
   },
   "file_extension": ".py",
   "mimetype": "text/x-python",
   "name": "python",
   "nbconvert_exporter": "python",
   "pygments_lexer": "ipython3",
   "version": "3.11.1"
  }
 },
 "nbformat": 4,
 "nbformat_minor": 2
}
