{
 "cells": [
  {
   "cell_type": "markdown",
   "metadata": {},
   "source": [
    "this notebook will exhibit my test of performing a correlation matrix aggregation in DuckDB"
   ]
  },
  {
   "cell_type": "code",
   "execution_count": null,
   "metadata": {},
   "outputs": [],
   "source": [
    "%load_ext autoreload\n",
    "%autoreload 2\n",
    "from wine_analysis_hplc_uv import definitions\n",
    "import seaborn as sns\n",
    "import seaborn.objects as so\n",
    "import pandas as pd\n",
    "import numpy as np\n",
    "import matplotlib.pyplot as plt"
   ]
  },
  {
   "cell_type": "code",
   "execution_count": null,
   "metadata": {},
   "outputs": [],
   "source": [
    "data = pd.read_parquet(definitions.RAW3DDSET)\n",
    "data.head()"
   ]
  },
  {
   "cell_type": "code",
   "execution_count": null,
   "metadata": {},
   "outputs": [],
   "source": [
    "# clean frame\n",
    "data = (\n",
    "    data\n",
    "    # remove superf column\n",
    "    .drop(\"detection\", axis=1)\n",
    "    # set index as label columns\n",
    "    .set_index([\"id\", \"samplecode\", \"color\", \"varietal\", \"wine\"])\n",
    "    # correct mins offset so all time domains the same\n",
    "    .assign(mins=lambda df: df.groupby([\"id\"])[\"mins\"].transform(lambda x: x - x.min()))\n",
    "    # sort frame by id then mins\n",
    "    .sort_values([\"id\", \"mins\"])\n",
    ")\n",
    "data"
   ]
  },
  {
   "cell_type": "code",
   "execution_count": null,
   "metadata": {},
   "outputs": [],
   "source": [
    "# plot 256 nm as overlay. To do this we need to select the 256nm column then create the seaborn objects\n",
    "\n",
    "p = (\n",
    "    data.set_index([\"mins\"], append=True)\n",
    "    .loc[:, [\"256\"]]\n",
    "    .reset_index()\n",
    "    .pipe(\n",
    "        lambda df: so.Plot(df, x=\"mins\", y=\"256\").add(\n",
    "            so.Line(), color=\"samplecode\", legend=False\n",
    "        )\n",
    "    )\n",
    ")\n",
    "p"
   ]
  },
  {
   "cell_type": "markdown",
   "metadata": {},
   "source": [
    "Dataset looks good. I am concerned that the imbalance between the maxima region and the rest of the dataset will create problems, but that is for another time. The next thing is to investigate whether we can drop some wavelengths. Lets produce a plot of the surface:"
   ]
  },
  {
   "cell_type": "code",
   "execution_count": null,
   "metadata": {},
   "outputs": [],
   "source": [
    "# select sample 85, melt on wavelength\n",
    "\n",
    "mdata = (\n",
    "    data.reset_index()\n",
    "    .loc[lambda df: (df.samplecode == \"85\") &(df.mins < 27)]\n",
    "    .melt(\n",
    "        id_vars=[\"id\", \"samplecode\", \"color\", \"varietal\", \"wine\", \"mins\"],\n",
    "        value_name=\"mau\",\n",
    "        var_name=\"wavelength\",\n",
    "    )\n",
    ")\n",
    "mdata"
   ]
  },
  {
   "cell_type": "code",
   "execution_count": null,
   "metadata": {},
   "outputs": [],
   "source": [
    "# overlay plot of wavelengths for sample 85 before 27 mins\n",
    "\n",
    "data_27mins = mdata\n",
    "data_27mins.pipe(\n",
    "    lambda df: so.Plot(df, x=\"mins\", y=\"mau\", color=\"wavelength\").add(\n",
    "        so.Line(), legend=False\n",
    "    )\n",
    ")"
   ]
  },
  {
   "cell_type": "code",
   "execution_count": null,
   "metadata": {},
   "outputs": [],
   "source": [
    "# what about baseline subtraction..\n",
    "from wine_analysis_hplc_uv.notebooks import eda_by_category_methods\n",
    "\n",
    "dtwprocess = eda_by_category_methods.DTWProcessing()\n",
    "\n",
    "bcdata = dtwprocess.blinecorr(data_27mins, \"wavelength\", \"mau\", bcorr_label=\"bcorr\")\n",
    "\n",
    "bcdata.head()"
   ]
  },
  {
   "cell_type": "code",
   "execution_count": null,
   "metadata": {},
   "outputs": [],
   "source": [
    "# plot baseline subtracted sample 85 wavelength overlay\n",
    "\n",
    "bcdata.pipe(\n",
    "    lambda df: so.Plot(df, x=\"mins\", y=\"bcorr\", color=\"wavelength\").add(\n",
    "        so.Line(), legend=False\n",
    "    )\n",
    ")"
   ]
  },
  {
   "cell_type": "code",
   "execution_count": null,
   "metadata": {},
   "outputs": [],
   "source": [
    "# \n",
    "bcdata = (bcdata\n",
    "    .assign(bcorr=lambda df: df.bcorr.where(lambda x: x<0, 0))\n",
    "    .assign(\n",
    "        logbcorr=lambda df: df.bcorr.transform(lambda x: np.log10(x)),\n",
    "        wavelength=lambda df: df.wavelength.astype(int),\n",
    ")\n",
    "    .assign(\n",
    "        logbcorr=lambda df: df.logbcorr.fillna(0)\n",
    "    )\n",
    "    )\n",
    "bcdata"
   ]
  },
  {
   "cell_type": "code",
   "execution_count": null,
   "metadata": {},
   "outputs": [],
   "source": [
    "1e5"
   ]
  },
  {
   "cell_type": "code",
   "execution_count": null,
   "metadata": {},
   "outputs": [],
   "source": [
    "%matplotlib inline\n",
    "from matplotlib.colors import LogNorm\n",
    "fig, ax = plt.subplots()\n",
    "c = ax.tricontourf(bcdata.wavelength, bcdata.mins, bcdata.bcorr, norm=LogNorm(vmax=1e5,clip=1))\n",
    "\n",
    "# artists, labels= c.legend_elements()\n",
    "# plt.legend(artists, labels,bbox_to_anchor=(1.05, 1), loc=2, borderaxespad=0.)\n",
    "cb = fig.colorbar(c)\n",
    "cb.set_ticks(cb.get_ticks(),\n",
    "              labels=['%.2g'%c for c in cb.get_ticks()])\n"
   ]
  },
  {
   "cell_type": "markdown",
   "metadata": {},
   "source": [
    "Anyway, Ok, its not clear whether I should drop anything at this point. Lets continue to MCR-ALS and see if we have to drop later on."
   ]
  }
 ],
 "metadata": {
  "kernelspec": {
   "display_name": "wine-analysis-hplc-uv-F-SbhWjO-py3.11",
   "language": "python",
   "name": "python3"
  },
  "language_info": {
   "codemirror_mode": {
    "name": "ipython",
    "version": 3
   },
   "file_extension": ".py",
   "mimetype": "text/x-python",
   "name": "python",
   "nbconvert_exporter": "python",
   "pygments_lexer": "ipython3",
   "version": "3.11.1"
  }
 },
 "nbformat": 4,
 "nbformat_minor": 2
}
