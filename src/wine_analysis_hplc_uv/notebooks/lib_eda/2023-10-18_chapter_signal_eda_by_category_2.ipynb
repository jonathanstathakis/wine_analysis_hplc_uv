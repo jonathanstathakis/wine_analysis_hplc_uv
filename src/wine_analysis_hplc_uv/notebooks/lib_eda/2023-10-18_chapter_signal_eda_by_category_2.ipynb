{
 "cells": [
  {
   "cell_type": "markdown",
   "metadata": {},
   "source": [
    "2023-10-18 Due to the fact that I am prototyping a lot of code and changing approaches (multiindex column default to long defaul primarily), literate progrmaming style is failing, re. version one of this notebook is somewhat unsalvagable - a testament to why rushing always fails in the end. At some point I'll have to go through and fix it. in the meantime, copy code over and push ON."
   ]
  },
  {
   "cell_type": "code",
   "execution_count": null,
   "metadata": {},
   "outputs": [],
   "source": [
    "# set up environment\n",
    "\n",
    "%reload_ext autoreload\n",
    "%autoreload 2\n",
    "\n",
    "from dtwalign import dtw\n",
    "import pandas as pd\n",
    "from wine_analysis_hplc_uv import definitions\n",
    "import seaborn as sns\n",
    "import seaborn.objects as so\n",
    "from wine_analysis_hplc_uv.notebooks.dtw_methods import DTWNotebookMethods\n",
    "from wine_analysis_hplc_uv.old_signal_processing.mindex_signal_processing import (\n",
    "    SignalProcessor,\n",
    ")\n",
    "from pybaselines import Baseline\n",
    "import seaborn as sns\n",
    "import matplotlib.pyplot as plt\n",
    "from wine_analysis_hplc_uv.notebooks import eda_by_category_methods\n",
    "\n",
    "plotter = eda_by_category_methods.Plotting()\n",
    "\n",
    "scipro = SignalProcessor()\n",
    "\n",
    "data = pd.read_parquet(definitions.RAW_PARQ_PATH)\n",
    "data.head()"
   ]
  },
  {
   "cell_type": "markdown",
   "metadata": {},
   "source": [
    "As we can see, no effect. The smoothing necessary to remove those detected peaks will result in unsatisfactory loss of signal information. Ergo better to use constraints in the peak detection algo. Also, remaining in simple long form with no multiindex massively reduces reshaping overhead and makes UDF functions much simpler to define..\n",
    "\n",
    "Now lets add kwargs for peak finder.. added."
   ]
  },
  {
   "cell_type": "code",
   "execution_count": null,
   "metadata": {},
   "outputs": [],
   "source": [
    "# time std and drop vars level\n",
    "dtwprocess = eda_by_category_methods.DTWProcessing()\n",
    "sdata = dtwprocess.std_time(data)\n",
    "sdata.head()"
   ]
  },
  {
   "cell_type": "code",
   "execution_count": null,
   "metadata": {},
   "outputs": [],
   "source": [
    "# smooth\n",
    "from scipy import signal\n",
    "\n",
    "smdata = dtwprocess.smooth(sdata, \"samplecode\", \"signal\", \"smooth_signal\")\n",
    "smdata.head()"
   ]
  },
  {
   "cell_type": "code",
   "execution_count": null,
   "metadata": {},
   "outputs": [],
   "source": [
    "# add bline\n",
    "\n",
    "bcdata = dtwprocess.blinecorr(\n",
    "    smdata, \"samplecode\", \"smooth_signal\", bcorr_label=\"bcorr\"\n",
    ")\n",
    "\n",
    "bcdata.head()"
   ]
  },
  {
   "cell_type": "code",
   "execution_count": null,
   "metadata": {},
   "outputs": [],
   "source": [
    "# plot baseline correction\n",
    "\n",
    "(\n",
    "    bcdata.melt(\n",
    "        id_vars=[\"samplecode\", \"wine\", \"mins\"], var_name=\"siglabel\", value_name=\"sig\"\n",
    "    ).pipe(\n",
    "        lambda df: so.Plot(data=df, x=\"mins\", y=\"sig\", color=\"siglabel\")\n",
    "        .facet(col=\"samplecode\", wrap=2)\n",
    "        .add(mark=so.Line())\n",
    "    )\n",
    ")"
   ]
  },
  {
   "cell_type": "code",
   "execution_count": null,
   "metadata": {
    "tags": [
     "find peaks before alignment"
    ]
   },
   "outputs": [],
   "source": [
    "# detect peaks prior to alignment\n",
    "\n",
    "peaks = eda_by_category_methods.Peaks()\n",
    "\n",
    "pddata = peaks.peakdetect(\n",
    "    bcdata, grouper=\"samplecode\", signal_label=\"bcorr\", col_label=\"unaligned_peaks\"\n",
    ")\n",
    "\n",
    "\n",
    "pddata.head()"
   ]
  },
  {
   "cell_type": "code",
   "execution_count": null,
   "metadata": {},
   "outputs": [],
   "source": [
    "# plot to display peaks\n",
    "(\n",
    "    pddata.melt(\n",
    "        id_vars=[\"samplecode\", \"wine\", \"mins\"], var_name=\"siglabel\", value_name=\"sig\"\n",
    "    )\n",
    "    .loc[lambda df: (df.mins < 5) & (df.mins > 3)]\n",
    "    .pivot_table(index=[\"samplecode\", \"wine\", \"mins\"], columns=\"siglabel\", values=\"sig\")\n",
    "    .reset_index()\n",
    "    .pipe(\n",
    "        lambda df: so.Plot(data=df, x=\"mins\", color=\"samplecode\")\n",
    "        .add(so.Line(), y=\"bcorr\")\n",
    "        .add(so.Dot(), y=\"unaligned_peaks\")\n",
    "    )\n",
    ")"
   ]
  },
  {
   "cell_type": "markdown",
   "metadata": {},
   "source": [
    "For testing purposes, we're only interested in the top 20 peaks"
   ]
  },
  {
   "cell_type": "code",
   "execution_count": null,
   "metadata": {},
   "outputs": [],
   "source": [
    "# get top 20 peaks of the unaligned set\n",
    "\n",
    "tpdata = peaks.top_peaks(\n",
    "    pddata, \"samplecode\", \"unaligned_peaks\", 20, \"top_20_unaligned\"\n",
    ")\n",
    "tpdata"
   ]
  },
  {
   "cell_type": "code",
   "execution_count": null,
   "metadata": {},
   "outputs": [],
   "source": [
    "# plot the peaks on top of the curves\n",
    "\n",
    "peak_y = \"top_20_unaligned\"\n",
    "display(\n",
    "    tpdata.loc[lambda df: df.mins < 21].pipe(\n",
    "        lambda df: (\n",
    "            so.Plot(df, x=\"mins\", color=\"samplecode\")\n",
    "            .add(so.Line(), y=\"bcorr\")\n",
    "            .add(so.Dot(), y=peak_y)\n",
    "            .plot()\n",
    "        )\n",
    "    )\n",
    ")\n",
    "\n",
    "# peak table\n",
    "()"
   ]
  },
  {
   "cell_type": "code",
   "execution_count": null,
   "metadata": {},
   "outputs": [],
   "source": [
    "peaks.peak_table(tpdata, [\"samplecode\", \"wine\"], \"top_20_unaligned\", \"peak_n\", \"mins\")"
   ]
  },
  {
   "cell_type": "markdown",
   "metadata": {},
   "source": [
    "Now align, get the top 10 peaks after alignment and compare them."
   ]
  },
  {
   "cell_type": "markdown",
   "metadata": {},
   "source": [
    "Notes: Use transform with a custom function if you are expecting a result with the same shape as the input i.e. a column of the dataframe. Apply rarely gets this right."
   ]
  },
  {
   "cell_type": "code",
   "execution_count": null,
   "metadata": {},
   "outputs": [],
   "source": [
    "# ref = ApplyDTW().find_ref(tdata, 'samplecode','bcorr')\n",
    "\n",
    "dtwalign = eda_by_category_methods.ApplyDTW()\n",
    "\n",
    "# aligned data\n",
    "adata = dtwalign.align(\n",
    "    tpdata, primary_key=\"samplecode\", siglabel=\"bcorr\", aligned_label=\"aligned\"\n",
    ")\n",
    "adata.head()"
   ]
  },
  {
   "cell_type": "code",
   "execution_count": null,
   "metadata": {},
   "outputs": [],
   "source": [
    "# plot aligned dataset\n",
    "\n",
    "(\n",
    "    adata.loc[lambda df: df.mins < 20].pipe(\n",
    "        lambda df: so.Plot(data=df, x=\"mins\", color=\"samplecode\")\n",
    "        .layout(size=(5, 3))\n",
    "        .add(so.Line(), y=\"aligned\")\n",
    "    )\n",
    ")"
   ]
  },
  {
   "cell_type": "code",
   "execution_count": null,
   "metadata": {},
   "outputs": [],
   "source": [
    "# plot aligned against unaligned set\n",
    "(\n",
    "    adata.loc[lambda df: df.mins < 20]\n",
    "    .melt(\n",
    "        id_vars=[\"mins\", \"samplecode\", \"wine\"],\n",
    "        var_name=\"siglabel\",\n",
    "        value_vars=[\"bcorr\", \"aligned\"],\n",
    "        value_name=\"sig_val\",\n",
    "    )\n",
    "    .pipe(\n",
    "        lambda df: so.Plot(data=df, x=\"mins\", color=\"siglabel\")\n",
    "        .layout(size=(15, 10))\n",
    "        .add(so.Line(), y=\"sig_val\")\n",
    "        .facet(col=\"samplecode\", wrap=2)\n",
    "    )\n",
    ")"
   ]
  },
  {
   "cell_type": "code",
   "execution_count": null,
   "metadata": {},
   "outputs": [],
   "source": [
    "# detect peaks in aligned set\n",
    "# aligned peaks data\n",
    "apddata = peaks.peakdetect(\n",
    "    adata, \"samplecode\", signal_label=\"aligned\", col_label=\"peaks_aligned\"\n",
    ")\n",
    "\n",
    "apddata.head()"
   ]
  },
  {
   "cell_type": "code",
   "execution_count": null,
   "metadata": {},
   "outputs": [],
   "source": [
    "# add column of top 20 peaks in aligned peak set\n",
    "# top aligned peaks data\n",
    "tappdata = apddata.assign(\n",
    "    aligned_top_20=lambda df: df.groupby(\"samplecode\", group_keys=False)[\n",
    "        \"peaks_aligned\"\n",
    "    ].nlargest(20)\n",
    ")\n",
    "tappdata.info()"
   ]
  },
  {
   "cell_type": "code",
   "execution_count": null,
   "metadata": {},
   "outputs": [],
   "source": [
    "# construct and display peak table\n",
    "\n",
    "aligned_peak_table = tappdata.pipe(\n",
    "    peaks.peak_table,\n",
    "    grouper=[\"samplecode\", \"wine\"],\n",
    "    peaks_label=\"aligned_top_20\",\n",
    "    peak_num_label=\"peak_n\",\n",
    "    peak_idx_label=\"mins\",\n",
    ")\n",
    "aligned_peak_table"
   ]
  },
  {
   "cell_type": "code",
   "execution_count": null,
   "metadata": {},
   "outputs": [],
   "source": [
    "# plot overlay signals and top 20 peaks\n",
    "\n",
    "(\n",
    "    tappdata.loc[lambda df: df.mins < 20].pipe(\n",
    "        lambda df: so.Plot(df, x=\"mins\", color=\"samplecode\")\n",
    "        .add(so.Line(), y=\"aligned\")\n",
    "        .add(so.Dot(), y=\"aligned_top_20\")\n",
    "        .facet(col=\"samplecode\", wrap=2)\n",
    "        .layout(size=(15, 10))\n",
    "    )\n",
    ")"
   ]
  },
  {
   "cell_type": "code",
   "execution_count": null,
   "metadata": {},
   "outputs": [],
   "source": [
    "# plot overlay aligned set, unaligned peaks, aligned peaks as dots\n",
    "\n",
    "plot_peak_data = tappdata.melt(\n",
    "    id_vars=[\"mins\", \"samplecode\", \"wine\"],\n",
    "    value_vars=[\"aligned_top_20\", \"top_20_unaligned\"],\n",
    "    var_name=\"peak_label\",\n",
    "    value_name=\"sig\",\n",
    ").dropna()\n",
    "\n",
    "(\n",
    "    tappdata.loc[lambda df: df.mins < 20].pipe(\n",
    "        lambda df: so.Plot(df, x=\"mins\")\n",
    "        .add(so.Line(), y=\"aligned\", color=\"samplecode\")\n",
    "        .add(\n",
    "            so.Dot(),\n",
    "            data=plot_peak_data.loc[lambda df: df.mins < 20],\n",
    "            alpha=\"peak_label\",\n",
    "            color=\"samplecode\",\n",
    "            x=\"mins\",\n",
    "            y=\"sig\",\n",
    "        )\n",
    "        # .facet(col='samplecode',wrap=2)\n",
    "        .layout(size=(15, 10))\n",
    "    )\n",
    ")"
   ]
  },
  {
   "cell_type": "markdown",
   "metadata": {},
   "source": [
    "As we can see in the above graphic, The majority of the peaks have lost amplitude, and torbreck-struie has straight up lost a peak at 18 mins. We need a better DTW algorithm.\n",
    "\n",
    "Need to develop a more reliable alignment method. But we also should look at whether torbreck-struie itself is the issue. First what happens if we exclude it during warping?\n",
    "\n",
    "Continue this in another book. export the processed data to parquet\n"
   ]
  },
  {
   "cell_type": "code",
   "execution_count": null,
   "metadata": {},
   "outputs": [],
   "source": [
    "tappdata.loc[:, [\"mins\", \"samplecode\", \"wine\", \"signal\", \"bcorr\"]].to_parquet(\n",
    "    \"/Users/jonathan/mres_thesis/wine_analysis_hplc_uv/src/wine_analysis_hplc_uv/notebooks/processed_data.parquet\"\n",
    ")"
   ]
  }
 ],
 "metadata": {
  "kernelspec": {
   "display_name": "wine-analysis-hplc-uv-F-SbhWjO-py3.11",
   "language": "python",
   "name": "python3"
  },
  "language_info": {
   "codemirror_mode": {
    "name": "ipython",
    "version": 3
   },
   "file_extension": ".py",
   "mimetype": "text/x-python",
   "name": "python",
   "nbconvert_exporter": "python",
   "pygments_lexer": "ipython3",
   "version": "3.11.1"
  }
 },
 "nbformat": 4,
 "nbformat_minor": 2
}
