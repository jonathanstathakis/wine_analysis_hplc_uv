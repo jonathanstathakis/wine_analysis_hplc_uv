{
 "cells": [
  {
   "cell_type": "markdown",
   "metadata": {},
   "source": [
    "\n",
    "This notebook is now defunct as the samples and problems it refers to have been rectified within the core database. Thus, it is preserved purely as a reference for the code."
   ]
  },
  {
   "cell_type": "markdown",
   "metadata": {},
   "source": [
    "Premise: on pivoting the whole dataset, the resulting table is twice as long as it should be. Need to find out what the sample is, and why this is happening."
   ]
  },
  {
   "cell_type": "code",
   "execution_count": null,
   "metadata": {},
   "outputs": [],
   "source": [
    "%load_ext autoreload\n",
    "%autoreload 2\n",
    "\n",
    "from wine_analysis_hplc_uv import definitions\n",
    "from wine_analysis_hplc_uv.db_methods import get_data, pivot_wine_data\n",
    "import pytest\n",
    "import pandas as pd\n",
    "import duckdb as db\n",
    "import logging\n",
    "import seaborn as sns\n",
    "\n",
    "logger = logging.getLogger(__name__)\n",
    "pd.options.display.width = None\n",
    "pd.options.display.show_dimensions = True\n",
    "pd.options.display.max_colwidth = 50\n",
    "pd.options.display.max_rows = 20\n",
    "pd.options.display.max_columns = 15\n",
    "pd.options.display.colheader_justify = \"left\""
   ]
  },
  {
   "cell_type": "code",
   "execution_count": null,
   "metadata": {},
   "outputs": [],
   "source": [
    "con = db.connect(definitions.DB_PATH)\n",
    "\n",
    "get_data.get_wine_data(con, wavelength=(\"254\",))\n",
    "\n",
    "df = pivot_wine_data.pivot_wine_data(con)"
   ]
  },
  {
   "cell_type": "code",
   "execution_count": null,
   "metadata": {},
   "outputs": [],
   "source": [
    "(\n",
    "    df.stack(0)\n",
    "    .reset_index()\n",
    "    .set_index([\"detection\", \"samplecode\", \"wine\", \"i\"])\n",
    "    .unstack([\"detection\", \"samplecode\", \"wine\"])\n",
    "    .loc[:, \"mins\"]\n",
    "    .isna()\n",
    "    .sum()\n",
    "    .to_frame(\"na_count\")\n",
    "    .query(\"na_count<7000 & na_count>1\")\n",
    ")"
   ]
  },
  {
   "cell_type": "markdown",
   "metadata": {},
   "source": [
    "The offending entry is samplecode 98, 2020 barone ricasoli chianti classico rocca di montegrossi.\n",
    "\n",
    "Lets investigate it further."
   ]
  },
  {
   "cell_type": "code",
   "execution_count": null,
   "metadata": {},
   "outputs": [],
   "source": [
    "get_data.get_wine_data(con, samplecode=(\"98\",), wavelength=(\"254\",))\n",
    "df_98 = pivot_wine_data.pivot_wine_data(con).pipe(\n",
    "    lambda df: df.set_axis(df.columns.droplevel(\"samplecode\"), axis=1)\n",
    ")"
   ]
  },
  {
   "cell_type": "code",
   "execution_count": null,
   "metadata": {},
   "outputs": [],
   "source": [
    "(\n",
    "    df_98\n",
    "    .pipe(lambda df: df if display(df.describe()) is None else df)\n",
    "    .pipe(lambda df: df if df.loc[:, \"mins\"].plot.line() else df)\n",
    "    .pipe(lambda df: df if df.plot.line(x=\"mins\", y=\"value\") else df)\n",
    "    .pipe(\n",
    "        lambda df: df if display(df.loc[:, \"mins\"].value_counts().sort_index()) else df\n",
    "    )\n",
    ")"
   ]
  },
  {
   "cell_type": "markdown",
   "metadata": {},
   "source": [
    "So it legitimately appears that there is somehow twice as many observation points on sample 98 as there is any other wine.. We can clarify this by calculating the frequency."
   ]
  },
  {
   "cell_type": "markdown",
   "metadata": {},
   "source": [
    "Frequency: $f=1/(t2-t1)$"
   ]
  },
  {
   "cell_type": "code",
   "execution_count": null,
   "metadata": {},
   "outputs": [],
   "source": [
    "import numpy as np\n",
    "f_df = (df\n",
    " .stack('samplecode')\n",
    "    .assign(f=lambda df: 1 / df.groupby('samplecode')['mins'].diff(1))\n",
    "    .assign(f=lambda df: df['f'].round(2))\n",
    "   .pipe(lambda df: df\n",
    "                     if print(\n",
    "                        df\n",
    "                        .loc[:,'f']\n",
    "                        .value_counts()\n",
    "                     )\n",
    "                     is None else df\n",
    "                     )\n",
    ")\n"
   ]
  },
  {
   "cell_type": "markdown",
   "metadata": {},
   "source": [
    "It appears that the standard calculated frequency for that interval is 150, which would make sense if the wine that has double the observations has double that value. Next we will observe the rolling average frequency for a window of 2:"
   ]
  },
  {
   "cell_type": "code",
   "execution_count": null,
   "metadata": {},
   "outputs": [],
   "source": [
    "import matplotlib.pyplot as plt\n",
    "\n",
    "rf_df = (\n",
    "    f_df    \n",
    "    .reset_index()\n",
    "    .assign(\n",
    "        rollingfu=lambda df: df.groupby(\"samplecode\")[\"f\"]\n",
    "        .rolling(2)\n",
    "        .mean()\n",
    "        .reset_index(level=0, drop=True)\n",
    "    )\n",
    "    .pipe(lambda df: df if df\n",
    "    .groupby(['samplecode','wine'])['rollingfu']\n",
    "    .mean()\n",
    "    .plot.hist() else df\n",
    "    )\n",
    ");"
   ]
  },
  {
   "cell_type": "markdown",
   "metadata": {},
   "source": [
    "As we can see, a frequency of 150 Hz is well and above the norm. Judging from this result I would say that something went wrong with the recordings of these two samples. Assuming that there is some small amount of error, we can see that they are the only two wines that have a significant moving average frequency higher than 150.\n",
    "\n",
    "to simplify things, I will just remove them from the dataset."
   ]
  },
  {
   "cell_type": "markdown",
   "metadata": {},
   "source": [
    "As a final check, i have noted that sample 98 was part of a sequence that included:\n",
    "\n",
    "- 97 d'arenberg the wild pixie\n",
    "- 98 barone ricasoli chianti classico rocca di montegrossi\n",
    "- 99 domaine des lises crozes-hermitage\n",
    "\n",
    "Comparing the three could illuminate the cause of the frequency discrepency"
   ]
  },
  {
   "cell_type": "code",
   "execution_count": null,
   "metadata": {},
   "outputs": [],
   "source": [
    "(\n",
    "    rf_df\n",
    "        .loc[lambda df: df['samplecode'].str.contains(\"97|98|99\", regex=True)]\n",
    "        .groupby(['samplecode','wine'])['rollingfu']\n",
    "        .mean()\n",
    "        .plot.bar()\n",
    ")"
   ]
  },
  {
   "cell_type": "markdown",
   "metadata": {},
   "source": [
    "Nope, evidently its JUST that 1.\n",
    "\n",
    "Final check will be to observe the spectrum-chromatogram table to see if something went wrong in the pivot."
   ]
  },
  {
   "cell_type": "code",
   "execution_count": null,
   "metadata": {},
   "outputs": [],
   "source": [
    "con.sql(\"\"\"--sql\n",
    "        CREATE OR REPLACE TEMPORARY TABLE temp\n",
    "        AS\n",
    "        SELECT\n",
    "            detection, samplecode, CONCAT(st.vintage, st.name) as wine, cs.mins, cs.value, cs.id\n",
    "        FROM\n",
    "        c_sample_tracker st\n",
    "        INNER JOIN\n",
    "        c_chemstation_metadata chm\n",
    "        ON\n",
    "        chm.join_samplecode = st.samplecode\n",
    "        INNER JOIN\n",
    "        chromatogram_spectra cs\n",
    "        ON\n",
    "        chm.id = cs.id\n",
    "        WHERE\n",
    "        st.samplecode='97'\n",
    "        AND cs.wavelength=254\n",
    "        ;\n",
    "        \"\"\")\n",
    "con.sql(\n",
    "        \"\"\"--sql\n",
    "            CREATE OR REPLACE TEMPORARY TABLE ptemp AS\n",
    "            SELECT *\n",
    "            FROM (\n",
    "                    PIVOT (\n",
    "                        SELECT\n",
    "                            rowcount,\n",
    "                            wine,\n",
    "                            samplecode,\n",
    "                            id,\n",
    "                            mins,\n",
    "                            value,\n",
    "                            detection,\n",
    "                        FROM (\n",
    "                                SELECT\n",
    "                                    wine,\n",
    "                                    id,\n",
    "                                    detection,\n",
    "                                    samplecode,\n",
    "                                    mins,\n",
    "                                    value,\n",
    "                                    ROW_NUMBER() OVER (\n",
    "                                        PARTITION BY samplecode\n",
    "                                        ORDER BY mins\n",
    "                                    ) AS rowcount\n",
    "                                FROM temp\n",
    "                            )\n",
    "                    ) ON samplecode\n",
    "                    USING\n",
    "                        FIRST(detection) as detection,\n",
    "                        FIRST(wine) as wine,\n",
    "                        FIRST(value) as value,\n",
    "                        FIRST(mins) as mins,\n",
    "                        FIRST(id) as id\n",
    "                )\n",
    "                ORDER BY rowcount\n",
    "\n",
    "            \"\"\"\n",
    "    )\n",
    "(\n",
    "    con.sql(\"SELECT * FROM ptemp\").df()\n",
    "    .pipe(\n",
    "        lambda df: df.set_axis(\n",
    "            pd.MultiIndex.from_tuples(\n",
    "                [tuple(c.split(\"_\")) for c in df.columns],\n",
    "                names=[\"samplecode\", \"vars\"],\n",
    "            ),\n",
    "            axis=1,\n",
    "        )\n",
    "        .rename_axis('i')\n",
    "        .droplevel(0, axis=1)\n",
    "    )\n",
    "    .pipe(\n",
    "        lambda df: \n",
    "            sns.lineplot(df, x='mins',y='value')\n",
    "    )\n",
    ")"
   ]
  },
  {
   "cell_type": "code",
   "execution_count": null,
   "metadata": {},
   "outputs": [],
   "source": [
    "get_data.get_wine_data(con, samplecode=('97','98','99'), wavelength=('254',))\n",
    "seq_df = pivot_wine_data.pivot_wine_data(con)"
   ]
  },
  {
   "cell_type": "code",
   "execution_count": null,
   "metadata": {},
   "outputs": [],
   "source": [
    "(\n",
    "    seq_df\n",
    "    .pipe(lambda df: df if display(df) is None else df)\n",
    "    .stack(0)\n",
    "    .pipe(lambda df: df if display(df.unstack('samplecode').shape) is None else df)\n",
    "    .pipe(\n",
    "        lambda df: df if sns.lineplot(df, x='mins',y='value',hue='wine') else df\n",
    "    )\n",
    "    .pipe(lambda df: df if display(df\n",
    "                                   .groupby('wine')['mins']\n",
    "                                   .agg(['min','max'])\n",
    "                                   ) is None else df)\n",
    ")"
   ]
  },
  {
   "cell_type": "markdown",
   "metadata": {},
   "source": [
    "Well that sheds no more light, but it does indicate that 98 is 10 minutes longer than the adjacent samples."
   ]
  },
  {
   "cell_type": "code",
   "execution_count": null,
   "metadata": {},
   "outputs": [],
   "source": [
    "con.sql(\"describe c_chemstation_metadata\")"
   ]
  },
  {
   "cell_type": "code",
   "execution_count": null,
   "metadata": {},
   "outputs": [],
   "source": [
    "con.sql(\"SELECT ch_samplecode, acq_method FROM c_chemstation_metadata where ch_samplecode IN ('96','97','98','99')\")"
   ]
  },
  {
   "cell_type": "markdown",
   "metadata": {},
   "source": [
    "There we have it. That sample was recorded on an incorrect method, and ergo the data is different from its fellows. I will remove it from the dataset and mark it as such in sampletracker."
   ]
  },
  {
   "cell_type": "code",
   "execution_count": null,
   "metadata": {},
   "outputs": [],
   "source": [
    "con.sql(\"SELECT chm.ch_samplecode, chm.acq_method, chm.id, chm.acq_date, chm.desc FROM c_chemstation_metadata chm where ch_samplecode IN ('72')\").df()"
   ]
  },
  {
   "cell_type": "code",
   "execution_count": null,
   "metadata": {},
   "outputs": [],
   "source": [
    "con.sql(\"SELECT * FROM (SELECT ch_samplecode, COUNT(ch_samplecode) as count FROM c_chemstation_metadata GROUP BY ch_samplecode) WHERE count>1\")"
   ]
  },
  {
   "cell_type": "markdown",
   "metadata": {},
   "source": [
    "Regarding 72, This first indicates the importance of relying on the id as the ultimate primary key. Secondly, it looks as though two samples have been incorrectly labelled as 72 during the initial ETL. Lets have a look at 72 in the raw table"
   ]
  },
  {
   "cell_type": "code",
   "execution_count": null,
   "metadata": {},
   "outputs": [],
   "source": [
    "con.sql(\"describe chemstation_metadata\")"
   ]
  },
  {
   "cell_type": "code",
   "execution_count": null,
   "metadata": {},
   "outputs": [],
   "source": [
    "con.sql(\"SELECT rchm.notebook, rchm.date, rchm.method, rchm.desc, rchm.id FROM chemstation_metadata rchm where rchm.notebook LIKE '%debor%'\")"
   ]
  },
  {
   "cell_type": "markdown",
   "metadata": {},
   "source": [
    "There we go. 6d8a370a-9f40-460d-acba-99fd4c287ad8\tis the id of the HALO recording, and should be excluded from the dataset. Easy. Just drop both."
   ]
  }
 ],
 "metadata": {
  "kernelspec": {
   "display_name": "wine-analysis-hplc-uv-F-SbhWjO-py3.11",
   "language": "python",
   "name": "python3"
  },
  "language_info": {
   "codemirror_mode": {
    "name": "ipython",
    "version": 3
   },
   "file_extension": ".py",
   "mimetype": "text/x-python",
   "name": "python",
   "nbconvert_exporter": "python",
   "pygments_lexer": "ipython3",
   "version": "3.11.1"
  }
 },
 "nbformat": 4,
 "nbformat_minor": 2
}
