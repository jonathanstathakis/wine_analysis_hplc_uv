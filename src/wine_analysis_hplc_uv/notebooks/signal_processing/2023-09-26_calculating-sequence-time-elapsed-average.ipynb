{
 "cells": [
  {
   "cell_type": "code",
   "execution_count": null,
   "metadata": {},
   "outputs": [],
   "source": [
    "import pandas as pd\n",
    "\n",
    "def diff(time1, time2):\n",
    "    return pd.to_datetime(time2)- pd.to_datetime(time1)\n",
    "\n",
    "seq_1 = diff(\"19:34\",\"22:15\")\n",
    "seq_2 = diff(\"00:16\",\"02:57\")\n",
    "seq_3 = diff(\"04:00\",\"06:41\")\n",
    "\n",
    "av = (seq_1+seq_2+seq_3)/3\n",
    "av"
   ]
  },
  {
   "attachments": {},
   "cell_type": "markdown",
   "metadata": {},
   "source": [
    "Expected elapsed time was 2.36h, so the difference is"
   ]
  },
  {
   "cell_type": "code",
   "execution_count": null,
   "metadata": {},
   "outputs": [],
   "source": [
    "import datetime\n",
    "av - datetime.timedelta(hours=2, minutes=36)"
   ]
  },
  {
   "attachments": {},
   "cell_type": "markdown",
   "metadata": {},
   "source": [
    "So 5 minutes per sequence average variance from expected value, or"
   ]
  },
  {
   "cell_type": "code",
   "execution_count": null,
   "metadata": {},
   "outputs": [],
   "source": [
    "5/3"
   ]
  },
  {
   "attachments": {},
   "cell_type": "markdown",
   "metadata": {},
   "source": [
    "1.6 mins. say 2 mins."
   ]
  }
 ],
 "metadata": {
  "kernelspec": {
   "display_name": "Python 3",
   "language": "python",
   "name": "python3"
  },
  "language_info": {
   "codemirror_mode": {
    "name": "ipython",
    "version": 3
   },
   "file_extension": ".py",
   "mimetype": "text/x-python",
   "name": "python",
   "nbconvert_exporter": "python",
   "pygments_lexer": "ipython3",
   "version": "3.11.1"
  }
 },
 "nbformat": 4,
 "nbformat_minor": 2
}
