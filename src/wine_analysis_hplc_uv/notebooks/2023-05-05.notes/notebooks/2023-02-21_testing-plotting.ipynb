{
 "cells": [
  {
   "cell_type": "code",
   "execution_count": null,
   "id": "f8ee5725-78e6-4e9a-b467-1ab2b8760d70",
   "metadata": {
    "tags": []
   },
   "outputs": [],
   "source": [
    "from bokeh.plotting import figure, show, curdoc\n",
    "\n",
    "from bokeh.io import output_notebook\n",
    "\n",
    "output_notebook()\n",
    "\n",
    "curdoc().theme = 'dark_minimal'\n",
    "\n",
    "from pathlib import Path\n",
    "\n",
    "import pandas as pd"
   ]
  },
  {
   "cell_type": "code",
   "execution_count": null,
   "id": "d0f24f9f-4148-4743-ac68-7f0fa9fec6d2",
   "metadata": {
    "tags": []
   },
   "outputs": [],
   "source": [
    "# get a dataset\n",
    "\n",
    "p = Path('/Users/jonathan/002_0_jono_data/2023-02-01_Z3_FIRST_RUN_OF_DAY.D/csv_files')\n",
    "\n",
    "wavelength_df_dict = {}\n",
    "\n",
    "for x in p.iterdir():\n",
    "    wavelength_df_dict[x.name.split('.')[0].replace('_', '.') + \" nm\"] = pd.read_csv(x)"
   ]
  },
  {
   "cell_type": "code",
   "execution_count": null,
   "id": "fca24484-093e-4ef3-b40f-f9c236dc058f",
   "metadata": {
    "tags": []
   },
   "outputs": [],
   "source": [
    "wvlngth = list(wavelength_df_dict.keys())[0]"
   ]
  },
  {
   "cell_type": "code",
   "execution_count": null,
   "id": "f97ae189-7f29-470b-8a40-ad1c655d1d4e",
   "metadata": {
    "tags": []
   },
   "outputs": [],
   "source": [
    "wavelength_df_dict[wvlngth].columns"
   ]
  },
  {
   "cell_type": "code",
   "execution_count": null,
   "id": "089b18cb-3225-4543-951c-e455bc135f48",
   "metadata": {
    "tags": []
   },
   "outputs": [],
   "source": [
    "x_ = wavelength_df_dict[wvlngth][wavelength_df_dict[wvlngth].columns[0]]"
   ]
  },
  {
   "cell_type": "code",
   "execution_count": null,
   "id": "269b201e-b381-4741-8471-fb5af5fcbfb1",
   "metadata": {
    "tags": []
   },
   "outputs": [],
   "source": [
    "# plot 1\n",
    "\n",
    "figure_title = p.parts[-2]\n",
    "\n",
    "x_axis_label = wavelength_df_dict[wvlngth].columns[0]\n",
    "\n",
    "y_axis_label = \"mAU\"\n",
    "\n",
    "x = wavelength_df_dict[wvlngth][wavelength_df_dict[wvlngth].columns[0]]\n",
    "\n",
    "y = wavelength_df_dict[wvlngth][wavelength_df_dict[wvlngth].columns[1]]\n",
    "\n",
    "legend_label = wvlngth\n",
    "\n",
    "def plotter(figure_title_, x_axis_label_, y_axis_label_, x_, y_, legend_label_):\n",
    "\n",
    "    plt = figure(title = figure_title, x_axis_label = x_axis_label_, y_axis_label = y_axis_label_)\n",
    "\n",
    "    plt.height = 400\n",
    "\n",
    "    plt.width = 800\n",
    "\n",
    "    plt.line(x = x_, y = y_, legend_label = legend_label_, line_width=2)\n",
    "    \n",
    "    return plt\n",
    "\n",
    "    show(plt)\n",
    "    \n",
    "plotter(figure_title_ = figure_title, x_axis_label_ = x_axis_label, y_axis_label_ = y_axis_label, x_ = x, y_ = y, legend_label_ = legend_label)"
   ]
  },
  {
   "cell_type": "markdown",
   "id": "adc9a832-1a69-41b9-824a-c961785afb52",
   "metadata": {},
   "source": [
    "Now that we've prototyped a plotting function, what is the behavior when we try to plot all of the wavelengths? First we will need to subset the `wavelength_df_dict` to make prototyping easier."
   ]
  },
  {
   "cell_type": "code",
   "execution_count": null,
   "id": "3be98932-8039-4044-9f27-b20c30c54560",
   "metadata": {
    "tags": []
   },
   "outputs": [],
   "source": [
    "# source for syntax to subset a dictionary: [How to take a subset of a dictionary in Python](https://www.adamsmith.haus/python/answers/how-to-take-a-subset-of-a-dictionary-in-python)\n",
    "\n",
    "wavelength_df_dict_subset = {key: wavelength_df_dict[key] for key in list(wavelength_df_dict.keys())[0:3]}\n",
    "\n",
    "wavelength_df_dict_subset.keys()"
   ]
  },
  {
   "cell_type": "markdown",
   "id": "d495a677-dc80-4126-b85f-ba7afd21b407",
   "metadata": {},
   "source": [
    "Now, according to the [documentation](https://docs.bokeh.org/en/2.4.2/docs/reference/models/glyphs/multi_line.html), overlays in bokeh are achieved through the multiline method, which requires all the data to be passed as lists of lists."
   ]
  }
 ],
 "metadata": {
  "kernelspec": {
   "display_name": "wine_analysis_hplc_uv_venv",
   "language": "python",
   "name": "wine_analysis_hplc_uv_venv"
  },
  "language_info": {
   "codemirror_mode": {
    "name": "ipython",
    "version": 3
   },
   "file_extension": ".py",
   "mimetype": "text/x-python",
   "name": "python",
   "nbconvert_exporter": "python",
   "pygments_lexer": "ipython3",
   "version": "3.11.1"
  }
 },
 "nbformat": 4,
 "nbformat_minor": 5
}
