{
 "cells": [
  {
   "cell_type": "markdown",
   "id": "2e86251a-22d8-4b2e-94b4-d8fe8fac4c22",
   "metadata": {},
   "source": [
    "[Regular Expression HOWTO — Python 3.11.2 documentation](https://docs.python.org/3/howto/regex.html)"
   ]
  },
  {
   "cell_type": "markdown",
   "id": "d6ea5c7a-0563-4f53-81e8-7b287c17a1f4",
   "metadata": {},
   "source": [
    "# Python Regex"
   ]
  },
  {
   "cell_type": "markdown",
   "id": "2688d6f1-df74-4f48-afb7-9574da4b42f8",
   "metadata": {},
   "source": [
    "Regex metacharacters include:\n",
    "\n",
    "`. ^ $ * + ? { } [ ] \\ | ( )`\n",
    "\n",
    "## Matching Characters\n",
    "\n",
    "`[ ]` a \"character class\", a set of characters to match. Can be a range, in the form `[a-c]`, or specifics, in the form `[abc]`.\n",
    "\n",
    "Metacharacters specified inside a class are interpreted as literals.\n",
    "\n",
    "To NOT match a defined character class, preface the character to NOT be matched with a `^`, i.e. `[^5]` will not match 5. NOTE: if the caret follows the characters, it is interpreted as a literal, i.e. `[5^]` WILL match both 5 and ^.\n",
    "\n",
    "`\\` is used to escape metacharacters for use as literals, and defines special sequences. For example, `\\w` matches any alphanumeric character, equivalent to `[a-zA-Z0-9_]`. `\\d` matches all decimal digits, equivalent to `[0-9]`. `\\D` equivalent to non-digit characters, i.e. `[^0-9]`. `\\s` matches whitespace. NOTE: sequences CAN be used in character classes.\n",
    "\n",
    "`.` matches anything except a newline character.\n",
    "\n",
    "## Repeating Things with Quantifiers\n",
    "\n",
    "`*` causes the preceeding character to be matched zero -> infinite times. i.e. `ca*t` will match `cat`, `caat`, and `caaaaaaaaat`. Called \"greedy\".\n",
    "\n",
    "Greedy matching mechanisms will attempt to first match as much as possibly, then backpedal until a successful match is reached - this is to match the \"greatest\" match before the lesser one.\n",
    "\n",
    "`+` behaves similarly to `*` but requires at least 1 match.\n",
    "\n",
    "`?` matches 0 or 1 occurance of a pattern. i.e. `home-?brew` matches `homebrew` and `home-brew` equally. Can think of it as an optional pattern.\n",
    "\n",
    "`{m,n}` where `m` and `n` are decimal integers, can be used to specifically define the minimum and maximum number of repetitions of a pattern. i.e. `{1,4}\\d` tries to match 1 to 4 digits. Either `m` or `n` can be omitted, the engine will assume that if `m` is missing, then the lower bound is zero. If `n` is missing, the upper bound is infinity.\n",
    "\n",
    "## Using RE in Python\n",
    "\n",
    "Use `r\"<string>\"` when defining the RE strings in order to avoid having to escape backslashes.\n",
    "\n",
    "`re.compile()` turns a string into a RE object.\n",
    "\n",
    "The following `RE` methods are used to apply REs and return a match object:\n",
    "\n",
    "- `re.match()` = IF match is achieved at the beginning of the string.\n",
    "- `re.search()` = IF match is achieved anywhere in the string.\n",
    "- `re.findall()` = returns list of match objects where matched.\n",
    "- `re.finditer()` = same as find all, returns a iterator rather than a list.\n",
    "\n",
    "The returned match objects can be *queried* using the following methods:\n",
    "\n",
    "- `group()` = returns the matched string.\n",
    "- `start()` = returns the start position of the matched string.\n",
    "- `end()` = returns the end position of the matched string.\n",
    "- `span()` = returns a tuple of start and end position index integers.\n",
    "\n",
    "## Compilation Flags\n",
    "\n",
    "RE behavior can be modified through Perl style flags:\n",
    "\n",
    "- `ASCII, A` = forces special sequences to only match ASCII characters.\n",
    "- `DOTALL, S` = forces '.' to match anything, including \\n.\n",
    "- `IGNORECASE, I` = forces all matches to ignore case.\n",
    "- `LOCALE, L` = 'locale-aware' matches.\n",
    "- `MULTILINE, M` = 'multiline matching, modifying ^ and $'.\n",
    "- `VERBOSE, X` = 'allows for verbose RE.'\n",
    "\n",
    "Both strings can be used to specify the flag, the latter being the Perl version.\n",
    "\n",
    "Compilation flag syntax is as follows : `re.method(args, re.FLAG_METHOD)`\n",
    "\n",
    "i.e. `re.search(string, re.A)`\n",
    "\n",
    "## Groups\n",
    "\n",
    "`groups()` returns a tuple of all the groups in the match object, where groups are defined by brackets around the pattern to be captured.\n",
    "\n"
   ]
  },
  {
   "cell_type": "code",
   "execution_count": null,
   "id": "d274e404-bfa8-473b-8770-e0909460808b",
   "metadata": {
    "tags": []
   },
   "outputs": [],
   "source": [
    "string = \"2022-07-09-test\"\n",
    "\n",
    "import re\n",
    "\n",
    "r = re.search(r\"(\\d{,4})-(\\d{,2})-(\\d{,2})-(\\w*)\", string)\n",
    "\n",
    "r.groups()\n",
    "\n",
    "year, month, day, filename = r.groups()\n",
    "\n",
    "new_date_format = \"{}-{}-{}_{}\".format(year, month, day, filename)\n",
    "\n",
    "new_date_format"
   ]
  },
  {
   "cell_type": "code",
   "execution_count": null,
   "id": "0ce48e86-2fcb-49a9-9c9b-9c081b78738b",
   "metadata": {},
   "outputs": [],
   "source": []
  }
 ],
 "metadata": {
  "kernelspec": {
   "display_name": "Python 3 (ipykernel)",
   "language": "python",
   "name": "python3"
  },
  "language_info": {
   "codemirror_mode": {
    "name": "ipython",
    "version": 3
   },
   "file_extension": ".py",
   "mimetype": "text/x-python",
   "name": "python",
   "nbconvert_exporter": "python",
   "pygments_lexer": "ipython3",
   "version": "3.11.1"
  }
 },
 "nbformat": 4,
 "nbformat_minor": 5
}
