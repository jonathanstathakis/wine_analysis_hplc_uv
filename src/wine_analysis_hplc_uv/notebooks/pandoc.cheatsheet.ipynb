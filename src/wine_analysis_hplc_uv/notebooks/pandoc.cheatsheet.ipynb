{
 "cells": [
  {
   "cell_type": "raw",
   "metadata": {},
   "source": [
    "---\n",
    "title: \"Pandoc Cheatsheet\"\n",
    "format: html\n",
    "bibliography: /Users/jonathan/zotero_library.bib\n",
    "creation_date: 2023-09-25\n",
    "---"
   ]
  },
  {
   "cell_type": "markdown",
   "metadata": {},
   "source": [
    "Source: [Citation Syntax](https://pandoc.org/chunkedhtml-demo/8.20-citation-syntax.html#:~:text=To%20cite%20a%20bibliographic%20item, %40smith2000%3B%20%40smith2004%5D.&text=Blah%20blah%20(Doe%201999%2C%20Smith%202000%2C%202004).)\n",
    "\n",
    "Default: `[@citekey]`\n",
    "\n",
    "Inline: discard brackets `@citekey`\n",
    "\n",
    "Prefixes, Locators, and Suffixes:\n",
    "\n",
    "Citations can have prefixes, locators and suffixes, given example:\n",
    "\n",
    "> \"Blah blah [see @doe99, pp. 33-35 and *passim*; @smith04, chap. 1].\"\n",
    ">\n",
    "> the first item (doe99) has prefix see, locator pp.  33-35, and suffix and *passim*. The second item (smith04) has locator chap. 1 and no prefix or suffix.\n",
    "\n",
    "So ['see'=prefix, '@doe99'=citekey, 'pp. 33-35'=locator, 'and *passim*'=suffix].\n",
    "\n",
    "Locator syntax is defined in the CSL locale file. Locale files help to localize a CSL file format, including terms, date formats and grammar rules, i.e. British English vs. US English^[https://github.com/citation-style-language/locales/wiki#Home].\n",
    "\n",
    "In en-US (US English), locator terms are as follows:\n",
    "\n",
    "* book, bk./bks.; \n",
    "* chapter, chap./chaps.; \n",
    "* column, col./cols.; \n",
    "* figure, fig./figs.; \n",
    "* folio, fol./fols.; \n",
    "* number, no./nos.; \n",
    "* line, l./ll.; \n",
    "* note, n./nn.; \n",
    "* opus, op./opp.; \n",
    "* page, p./pp.; \n",
    "* paragraph, \n",
    "* para./paras.; \n",
    "* part, pt./pts.; \n",
    "* section, sec./secs.; \n",
    "* sub verbo, s.v./s.vv.; \n",
    "* verse, v./vv.; \n",
    "* volume, \n",
    "* vol./vols.; \n",
    "* ¶/¶¶; §/§§.\n",
    "\n",
    "Note: If no locator term is used, “page” is assumed.\n",
    "\n",
    "inline with locator: `@citekey [locator]`\n"
   ]
  },
  {
   "cell_type": "raw",
   "metadata": {},
   "source": [
    "Examples of citation rendering with Quarto default CSL Chicago Manual of Style author-date style [@quartocite, sec. Citation Style]\n",
    "\n",
    "Default: blahblah [@géron_2019] blahblah\n",
    "\n",
    "Inline: blahblah @géron_2019 blahblah\n",
    "\n",
    "Default with locator: blahblah [@géron_2019, 100] blahblah\n",
    "\n",
    "Inline with locator: blahblah [@géron_2019, sec. Ensemble Learning] blahblah"
   ]
  }
 ],
 "metadata": {
  "kernelspec": {
   "display_name": "wine-analysis-hplc-uv-F-SbhWjO-py3.11",
   "language": "python",
   "name": "python3"
  },
  "language_info": {
   "codemirror_mode": {
    "name": "ipython",
    "version": 3
   },
   "file_extension": ".py",
   "mimetype": "text/x-python",
   "name": "python",
   "nbconvert_exporter": "python",
   "pygments_lexer": "ipython3",
   "version": "3.11.1"
  }
 },
 "nbformat": 4,
 "nbformat_minor": 2
}
