{
 "cells": [
  {
   "cell_type": "markdown",
   "metadata": {},
   "source": [
    "# Thesis"
   ]
  },
  {
   "cell_type": "markdown",
   "metadata": {},
   "source": [
    "## Meta\n",
    "\n",
    "<!-- remove before publication -->\n",
    "\n",
    "[logbook](./mres_logbook.qmd)\n",
    "\n",
    "### Subprojects\n",
    "\n",
    "[cuprac](./notes/project.hplc.cuprac.md)\n"
   ]
  },
  {
   "cell_type": "markdown",
   "metadata": {},
   "source": [
    "## Contents\n",
    "\n",
    "[Instrument Description](notes/mres_thesis_instrument-specs-setup.md)\n",
    "\n",
    "\n",
    "[Signal Processing](./chapter_signal_preprocessing.ipynb)\n",
    "\n",
    "\n",
    "[Classification Modeling](./chapter-classification_modeling.ipynb)"
   ]
  }
 ],
 "metadata": {
  "kernelspec": {
   "display_name": "wine-analysis-hplc-uv-F-SbhWjO-py3.11",
   "language": "python",
   "name": "python3"
  },
  "language_info": {
   "name": "python",
   "version": "3.11.1"
  }
 },
 "nbformat": 4,
 "nbformat_minor": 2
}
