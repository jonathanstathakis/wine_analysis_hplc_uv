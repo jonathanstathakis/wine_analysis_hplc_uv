{
 "cells": [
  {
   "cell_type": "markdown",
   "metadata": {},
   "source": [
    "# Thesis"
   ]
  },
  {
   "cell_type": "markdown",
   "metadata": {},
   "source": [
    "## Meta\n",
    "\n",
    "<!-- remove before publication -->\n",
    "\n",
    "[logbook](/Users/jonathan/mres_thesis/notes/mres_logbook.md)\n",
    "\n",
    "[logbook](/Users/jonathan/mres_thesis/wine_analysis_hplc_uv/logbook.md)\n",
    "\n",
    "[logbook guide](./logbook_guide.qmd)\n",
    "\n",
    "### Subprojects\n",
    "\n",
    "[cuprac](./notes/project.hplc.cuprac.md)\n",
    "\n",
    "## Logbook final format\n",
    "\n",
    "The logbook files need to be standardized then archived, any further use of them will be through references rather than direct editing. Specifically:\n",
    "\n",
    "```markdown\n",
    "# Title\n",
    "\n",
    "## Date\n",
    "\n",
    "### Contents\n",
    "```\n",
    "For both:\n",
    "\n",
    "[logbook](/Users/jonathan/mres_thesis/notes/mres_logbook.md)\n",
    "\n",
    "and\n",
    "\n",
    "[logbook](/Users/jonathan/mres_thesis/wine_analysis_hplc_uv/logbook.md)\n",
    "\n",
    "Do the following:\n",
    "- [x] reinsert extracted content if less than 1 page / 1 date.\n",
    "- [x] add brief description to each link\n",
    "- [x] check structuring of title heiarchy as per format above."
   ]
  },
  {
   "cell_type": "markdown",
   "metadata": {},
   "source": [
    "## Contents\n",
    "\n",
    "[Instrument Description](notes/mres_thesis_instrument-specs-setup.md)\n",
    "\n",
    "\n",
    "[Signal Processing](./chapter_signal_preprocessing.ipynb)\n",
    "\n",
    "\n",
    "[Classification Modeling](./chapter-classification_modeling.ipynb)"
   ]
  }
 ],
 "metadata": {
  "kernelspec": {
   "display_name": "wine-analysis-hplc-uv-F-SbhWjO-py3.11",
   "language": "python",
   "name": "python3"
  },
  "language_info": {
   "name": "python",
   "version": "3.11.1"
  }
 },
 "nbformat": 4,
 "nbformat_minor": 2
}
