{
 "cells": [
  {
   "cell_type": "markdown",
   "metadata": {},
   "source": [
    "2023-10-19\n",
    "\n",
    "Continuation of [Chapter: Signal EDA by Category 2](./chapter_signal_eda_by_category_2.ipynb) looking at the effects of DTW over categories. Specifically, we're seeing an uncomfortable amount of warping in the most deviated samples, including significant losses of prominant peaks, which is an unacceptable mutation. Regardless of whether it is specific to that one sample (torbreck-struie) or not, we dont want to see any loss of prominant peaks, or peak mutation whatsoever. We are only expecting movement in the X, not the y.\n",
    "\n",
    "Peak mutation is caused by masking with the warping path, where the data point with a given peaks maxima is excluded, resulting in a peak mutation, generally a decline in peak maxima. What it boils down to is a need for a warping algorithm that is punished for not aligning peak maxima. We could first experiment with the base DTW algorithm but the literature documentation @ethanbass_2023 shows that there are better algorithms out there, I just need to access them. Re: ChromatographR. \n"
   ]
  }
 ],
 "metadata": {
  "language_info": {
   "name": "python"
  }
 },
 "nbformat": 4,
 "nbformat_minor": 2
}
