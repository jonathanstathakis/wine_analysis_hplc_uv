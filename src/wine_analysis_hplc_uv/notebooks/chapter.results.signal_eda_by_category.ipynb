{
 "cells": [
  {
   "cell_type": "markdown",
   "metadata": {},
   "source": [
    "---\n",
    "title: \"Signal EDA by Wine Category\"\n",
    "format: html\n",
    "---"
   ]
  },
  {
   "cell_type": "markdown",
   "metadata": {},
   "source": [
    "Back: [Thesis](src/wine_analysis_hplc_uv/notebooks/thesis.qmd) Subheading Profile Descriptions by Category\n"
   ]
  },
  {
   "cell_type": "markdown",
   "metadata": {},
   "source": [
    "This document will contain a description of the signal profiles of each wine category by detection method. The intent is to provide an intuition into how models will behave when exposed to these categories, and see how similar they may or may not be. The hypothesis is that within each selected category there will be significant correlation, but also sufficient variance to uniquely identify each sample. The working hypothesis is also that DTW with a Sakoe-Chiba band of window size 10 will enable alignment without extraneous mutation.\n",
    "\n",
    "We will start with the varietal category."
   ]
  },
  {
   "cell_type": "markdown",
   "metadata": {},
   "source": [
    "To perform this method, we need to connect all the separate pipes that resulted in the dataset used to test DTW. As per @bos_2020 [1679], the stages are:\n",
    "\n",
    "1. denoise and smooth\n",
    "2. baseline correction\n",
    "3. retention time alignment\n",
    "4. peak deonvolution and resolution enhancement\n",
    "5. data compression\n",
    "\n",
    "Now, our signals are sufficiently quiet and smooth to skip the first step, and we're not interested yet in stage 4, and stage 5. is achieved through resampling. So, we need:\n",
    "\n",
    "1. get data\n",
    "2. resampling\n",
    "3. baseline correction\n",
    "\n",
    "All relevant methods are in mindex_signal_processing SignalProcessor but no full pipeline method has been established yet. Lets build one with a single sample as the test subject. "
   ]
  },
  {
   "cell_type": "code",
   "execution_count": null,
   "metadata": {},
   "outputs": [],
   "source": [
    "# set up environment\n",
    "\n",
    "%reload_ext autoreload\n",
    "%autoreload 2\n",
    "\n",
    "from dtwalign import dtw\n",
    "import pandas as pd\n",
    "from wine_analysis_hplc_uv import definitions\n",
    "import seaborn as sns\n",
    "from wine_analysis_hplc_uv.notebooks.dtw_methods import DTWNotebookMethods\n",
    "from wine_analysis_hplc_uv.signal_processing.mindex_signal_processing import (\n",
    "    SignalProcessor,\n",
    ")\n",
    "\n",
    "scipro = SignalProcessor()\n",
    "\n",
    "df = pd.read_parquet(definitions.RAW_PARQ_PATH)\n",
    "df.head()"
   ]
  },
  {
   "cell_type": "code",
   "execution_count": null,
   "metadata": {},
   "outputs": [],
   "source": [
    "df = scipro.standardize_time(df)\n",
    "df"
   ]
  },
  {
   "cell_type": "markdown",
   "metadata": {},
   "source": [
    "Now for y_axis correction"
   ]
  },
  {
   "cell_type": "code",
   "execution_count": null,
   "metadata": {},
   "outputs": [],
   "source": [
    "df = scipro.zero_y_axis(df)\n",
    "df"
   ]
  },
  {
   "cell_type": "code",
   "execution_count": null,
   "metadata": {},
   "outputs": [],
   "source": [
    "df = scipro.baseline_correction(df)\n",
    "df"
   ]
  },
  {
   "cell_type": "markdown",
   "metadata": {},
   "source": [
    "I have named the 'raw' signal 'signal', as it contains all of the information of the derived 'subsignals' such as the baseline, the true signal, etc. The idea being that the raw signal is a superset of other signal sets, the noise set, the true signal set, etc."
   ]
  },
  {
   "cell_type": "code",
   "execution_count": null,
   "metadata": {},
   "outputs": [],
   "source": [
    "# Rename value to signal, melt the frame so one column for numerical values, one for the signal labels. Make 'subsignal' an ordered categorical column of order 'signal','bline','blinesub'.\n",
    "\n",
    "df = (\n",
    "df\n",
    "\n",
    "# .reset_index()\n",
    " .melt(ignore_index=False, var_name='subsignal')\n",
    " .assign(subsignal=lambda df: pd.CategoricalIndex(df.subsignal, categories = ['signal','bline','blinesub'],ordered=True))\n",
    ")\n",
    "df"
   ]
  },
  {
   "cell_type": "code",
   "execution_count": null,
   "metadata": {},
   "outputs": [],
   "source": [
    "df = (\n",
    "    df\n",
    "    .reset_index()\n",
    "    .pivot(columns=['samplecode','wine','subsignal'], index='mins', values='value')\n",
    "    .sort_index(axis=1)\n",
    ")\n",
    "df"
   ]
  },
  {
   "cell_type": "code",
   "execution_count": null,
   "metadata": {},
   "outputs": [],
   "source": []
  }
 ],
 "metadata": {
  "kernelspec": {
   "display_name": "wine-analysis-hplc-uv-F-SbhWjO-py3.11",
   "language": "python",
   "name": "python3"
  },
  "language_info": {
   "codemirror_mode": {
    "name": "ipython",
    "version": 3
   },
   "file_extension": ".py",
   "mimetype": "text/x-python",
   "name": "python",
   "nbconvert_exporter": "python",
   "pygments_lexer": "ipython3",
   "version": "3.11.1"
  }
 },
 "nbformat": 4,
 "nbformat_minor": 2
}
