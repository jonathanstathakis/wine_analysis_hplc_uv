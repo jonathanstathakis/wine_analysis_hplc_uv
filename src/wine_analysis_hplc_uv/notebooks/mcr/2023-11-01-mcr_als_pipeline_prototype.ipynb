{
 "cells": [
  {
   "cell_type": "markdown",
   "metadata": {},
   "source": [
    "2023-10-30\n",
    "\n",
    "Continuing from here: [creating_3d_dataset](/Users/jonathan/mres_thesis/wine_analysis_hplc_uv/src/wine_analysis_hplc_uv/notebooks/creating_3d_dataset.ipynb)"
   ]
  },
  {
   "cell_type": "markdown",
   "metadata": {},
   "source": [
    "This document will contain my PCA analysis of a sample HPLC-DAD dataset for insights, including rank estimation."
   ]
  },
  {
   "cell_type": "code",
   "execution_count": null,
   "metadata": {},
   "outputs": [],
   "source": [
    "# initialise environment\n",
    "\n",
    "%reload_ext autoreload\n",
    "%autoreload 2\n",
    "import pandas as pd\n",
    "import numpy as np\n",
    "import matplotlib.pyplot as plt\n",
    "import seaborn.objects as so\n",
    "import seaborn as sns\n",
    "from mcr_methods import Preprocessing, MCR_Analysis\n",
    "from pymcr.constraints import ConstraintNonneg, ConstraintNorm\n",
    "from pymcr.regressors import OLS, NNLS\n",
    "\n",
    "mcr_pro = Preprocessing()\n",
    "mcr_anal = MCR_Analysis()"
   ]
  },
  {
   "cell_type": "code",
   "execution_count": null,
   "metadata": {},
   "outputs": [],
   "source": [
    "dset = pd.read_parquet(\n",
    "    \"/Users/jonathan/mres_thesis/wine_analysis_hplc_uv/src/wine_analysis_hplc_uv/notebooks/tidy_3d_dset_raw.parquet\"\n",
    ")\n",
    "dset.head()"
   ]
  },
  {
   "cell_type": "code",
   "execution_count": null,
   "metadata": {},
   "outputs": [],
   "source": [
    "d111 = (\n",
    "    dset.loc[lambda df: df.samplecode == \"111\"]\n",
    "    .drop(\n",
    "        [\"detection\", \"samplecode\", \"wine\", \"color\", \"varietal\", \"id\", \"mins\"], axis=1\n",
    "    )\n",
    "    .reset_index(drop=True)\n",
    "    .rename_axis(\"i\")\n",
    ")\n",
    "\n",
    "d111"
   ]
  },
  {
   "cell_type": "markdown",
   "metadata": {},
   "source": [
    "First the data needs to be baseline corrected and smoothed."
   ]
  },
  {
   "cell_type": "code",
   "execution_count": null,
   "metadata": {},
   "outputs": [],
   "source": [
    "# melt\n",
    "m_d111 = d111.melt(\n",
    "    var_name=\"wavelength\", value_name=\"abs\", ignore_index=False\n",
    ").reset_index()\n",
    "m_d111"
   ]
  },
  {
   "cell_type": "code",
   "execution_count": null,
   "metadata": {},
   "outputs": [],
   "source": [
    "# display head of melted frame\n",
    "m_d111.head()"
   ]
  },
  {
   "cell_type": "code",
   "execution_count": null,
   "metadata": {},
   "outputs": [],
   "source": [
    "# plot raw\n",
    "fig, ax = plt.subplots(figsize=(5, 3), dpi=150)\n",
    "\n",
    "p = m_d111.pipe(\n",
    "    lambda x: sns.lineplot(\n",
    "        data=x, hue=\"wavelength\", x=\"i\", y=\"abs\", legend=False, ax=ax\n",
    "    )\n",
    ")"
   ]
  },
  {
   "cell_type": "code",
   "execution_count": null,
   "metadata": {},
   "outputs": [],
   "source": [
    "# smooth\n",
    "\n",
    "m_d111 = mcr_pro.smooth(\n",
    "    m_d111, \"wavelength\", \"abs\", \"smooth\", savgol_kws=dict(window_length=4, polyorder=2)\n",
    ")\n",
    "m_d111.groupby(\"wavelength\").get_group(\"256\").pipe(\n",
    "    lambda x: so.Plot(data=x, x=\"i\", y=\"smooth\").add(so.Line())\n",
    ").show()"
   ]
  },
  {
   "cell_type": "code",
   "execution_count": null,
   "metadata": {},
   "outputs": [],
   "source": [
    "# bcorr\n",
    "\n",
    "m_d111 = mcr_pro.baseline_subtract(m_d111, \"smooth\", \"wavelength\", \"bcorr\")\n",
    "\n",
    "display(m_d111.head())\n",
    "\n",
    "# plot overlay of baseline and original signal\n",
    "(\n",
    "    m_d111.groupby(\"wavelength\")\n",
    "    .get_group(\"256\")\n",
    "    .loc[:, [\"i\", \"smooth\", \"bline\"]]\n",
    "    .pipe(lambda df: df if display(df) else df)  # display df\n",
    "    .melt(var_name=\"signal\", value_name=\"abs\", id_vars=\"i\")\n",
    "    .pipe(lambda df: df if display(df) else df)  # display df\n",
    "    .pipe(lambda df: so.Plot(data=df, x=\"i\", y=\"abs\", color=\"signal\").add(so.Line()))\n",
    ")"
   ]
  },
  {
   "cell_type": "markdown",
   "metadata": {},
   "source": [
    "First the data needs to be scaled and centered. Also, subset to the region of interest, < 4000."
   ]
  },
  {
   "cell_type": "code",
   "execution_count": null,
   "metadata": {},
   "outputs": [],
   "source": [
    "# subset to <4000\n",
    "m_d111_subset = mcr_pro.subset(m_d111, \"i\", 4000)\n",
    "\n",
    "display(m_d111_subset.head())\n",
    "\n",
    "(\n",
    "    m_d111_subset.groupby(\"wavelength\")\n",
    "    .get_group(\"256\")\n",
    "    .reset_index()\n",
    "    .pipe(lambda x: so.Plot(data=x, x=\"i\", y=\"bcorr\").add(so.Line()))\n",
    ")"
   ]
  },
  {
   "cell_type": "code",
   "execution_count": null,
   "metadata": {},
   "outputs": [],
   "source": [
    "# scale and center\n",
    "\n",
    "m_d111_subset = mcr_pro.scale_and_center(m_d111_subset, \"bcorr\")\n",
    "\n",
    "m_d111_subset.groupby(\"wavelength\").get_group(\"256\").pipe(\n",
    "    lambda x: so.Plot(data=x, x=\"i\", y=\"scale_center\").add(so.Line()).show()\n",
    ")"
   ]
  },
  {
   "cell_type": "markdown",
   "metadata": {},
   "source": [
    "# PCA\n",
    "\n",
    "@juan_mcriter_2020 says that PCA can be used to estimate the number of compounds in $X$. @nardecchia_2020 says that this is based on \"the scree test for the number of factors\". Plotting eigenvalues against components, the chemical rank is defined as the point at which the curve elbows."
   ]
  },
  {
   "cell_type": "markdown",
   "metadata": {},
   "source": [
    "Component selection is necessarily arbitrary, ergo I will define the threshold of variance % as greater than 1E-3"
   ]
  },
  {
   "cell_type": "code",
   "execution_count": null,
   "metadata": {},
   "outputs": [],
   "source": [
    "n_components = mcr_anal.calculate_components(\n",
    "    m_d111_subset.pivot_table(columns=\"wavelength\", values=\"scale_center\", index=\"i\")\n",
    ")"
   ]
  },
  {
   "cell_type": "markdown",
   "metadata": {},
   "source": [
    "Therefore for this dataset, the chemical rank is 6. This is very surprising, as I was expecting at least as many components as peaks."
   ]
  },
  {
   "cell_type": "markdown",
   "metadata": {},
   "source": [
    "## Counting Peaks"
   ]
  },
  {
   "cell_type": "code",
   "execution_count": null,
   "metadata": {},
   "outputs": [],
   "source": [
    "# find the peaks defined as those as prominant as 2% of the maxima of the signal\n",
    "\n",
    "m_d111_subset = mcr_anal.detect_peaks(\n",
    "    df=m_d111_subset,\n",
    "    grouper=\"wavelength\",\n",
    "    target_col=\"bcorr\",\n",
    "    peaks_colname=\"bcorr_peaks\",\n",
    "    prom_ratio=0.02,\n",
    ")\n",
    "\n",
    "display(m_d111_subset.head())\n",
    "\n",
    "m_d111_subset.groupby(\"wavelength\").get_group(\"256\").pipe(\n",
    "    lambda df: so.Plot(df, x=\"i\")\n",
    "    .add(so.Line(), y=\"bcorr\")\n",
    "    .add(so.Dot(), y=\"bcorr_peaks\")\n",
    ")"
   ]
  },
  {
   "cell_type": "code",
   "execution_count": null,
   "metadata": {},
   "outputs": [],
   "source": [
    "# a prominence value of 2 is appropriate for 256nm, but is it appropriate for all wavelengths?\n",
    "\n",
    "(\n",
    "    m_d111_subset.loc[lambda df: df.wavelength.isin([\"190\", \"256\", \"400\"])].pipe(\n",
    "        lambda df: so.Plot(df, x=\"i\")\n",
    "        .facet(\"wavelength\")\n",
    "        .share(y=False)\n",
    "        .add(so.Line(), y=\"bcorr\")\n",
    "        .add(so.Dot(), y=\"bcorr_peaks\")\n",
    "        .layout(size=(15, 3))\n",
    "    )\n",
    ")"
   ]
  },
  {
   "cell_type": "code",
   "execution_count": null,
   "metadata": {},
   "outputs": [],
   "source": [
    "m_d111_subset.groupby(\"wavelength\").get_group(\"190\").pipe(\n",
    "    lambda df: so.Plot(df, x=\"i\")\n",
    "    .add(so.Line(), y=\"bcorr\")\n",
    "    .add(so.Dot(), y=\"bcorr_peaks\")\n",
    ")"
   ]
  },
  {
   "cell_type": "code",
   "execution_count": null,
   "metadata": {},
   "outputs": [],
   "source": [
    "m_d111_subset.groupby(\"wavelength\")[\"bcorr_peaks\"].agg(\n",
    "    lambda x: x.dropna().shape[0]\n",
    ").plot()"
   ]
  },
  {
   "cell_type": "markdown",
   "metadata": {},
   "source": [
    "So yeah, there is a disconnect between the expected components and the number of peaks. Ah well, pushing on."
   ]
  },
  {
   "cell_type": "markdown",
   "metadata": {},
   "source": [
    "# SIMPLISMA"
   ]
  },
  {
   "cell_type": "markdown",
   "metadata": {},
   "source": [
    "SIMPLe-to-use Interactive Self-modeling Mixture Analysis.\n",
    "\n",
    "Selection of pure variables from $D$.\n",
    "\n",
    "First published by @windig_1991."
   ]
  },
  {
   "cell_type": "code",
   "execution_count": null,
   "metadata": {},
   "outputs": [],
   "source": [
    "m_d111_subset"
   ]
  },
  {
   "cell_type": "code",
   "execution_count": null,
   "metadata": {},
   "outputs": [],
   "source": [
    "# Main Algorithm\n",
    "\n",
    "m_d111_subset_aug = m_d111_subset.pivot_table(\n",
    "    columns=\"wavelength\", index=\"i\", values=\"scale_center\"\n",
    ")\n",
    "# Run Simplisma\n",
    "sp, concs = mcr_anal.simplisma(m_d111_subset_aug.values, 5, 5)"
   ]
  },
  {
   "cell_type": "code",
   "execution_count": null,
   "metadata": {},
   "outputs": [],
   "source": [
    "sp.shape"
   ]
  },
  {
   "cell_type": "code",
   "execution_count": null,
   "metadata": {},
   "outputs": [],
   "source": [
    "plt.plot(sp)"
   ]
  },
  {
   "cell_type": "code",
   "execution_count": null,
   "metadata": {},
   "outputs": [],
   "source": [
    "plt.plot(m_d111_subset_aug)"
   ]
  },
  {
   "cell_type": "code",
   "execution_count": null,
   "metadata": {},
   "outputs": [],
   "source": [
    "sp.shape"
   ]
  },
  {
   "cell_type": "code",
   "execution_count": null,
   "metadata": {},
   "outputs": [],
   "source": [
    "m_d111_subset_aug.shape"
   ]
  },
  {
   "cell_type": "markdown",
   "metadata": {},
   "source": [
    "# MCR"
   ]
  },
  {
   "cell_type": "code",
   "execution_count": null,
   "metadata": {},
   "outputs": [],
   "source": [
    "mcrar = mcr_anal.mcr_als(\n",
    "    D=m_d111_subset_aug.T,\n",
    "    S=sp,\n",
    "    mcr_als_kws=dict(\n",
    "        max_iter=100,\n",
    "        st_regr=\"OLS\",\n",
    "        c_regr=\"OLS\",\n",
    "        c_constraints=[ConstraintNonneg(), ConstraintNorm()],\n",
    "        tol_increase=1e4,\n",
    "        tol_n_above_min=10,\n",
    "    ),\n",
    "    mcr_als_fit_kws=dict(verbose=True),\n",
    ")\n",
    "mcrar"
   ]
  },
  {
   "cell_type": "code",
   "execution_count": null,
   "metadata": {},
   "outputs": [],
   "source": [
    "copt = mcrar.C_opt_"
   ]
  },
  {
   "cell_type": "code",
   "execution_count": null,
   "metadata": {},
   "outputs": [],
   "source": [
    "copt.shape"
   ]
  },
  {
   "cell_type": "code",
   "execution_count": null,
   "metadata": {},
   "outputs": [],
   "source": [
    "plt.plot(m_d111_subset_aug)"
   ]
  },
  {
   "cell_type": "code",
   "execution_count": null,
   "metadata": {},
   "outputs": [],
   "source": [
    "copt = pd.DataFrame(copt)\n",
    "copt.head()"
   ]
  },
  {
   "cell_type": "code",
   "execution_count": null,
   "metadata": {},
   "outputs": [],
   "source": [
    "m_copt = copt.melt(var_name=\"column\", value_name=\"conc\")\n",
    "m_copt.head()"
   ]
  },
  {
   "cell_type": "code",
   "execution_count": null,
   "metadata": {},
   "outputs": [],
   "source": [
    "plt.plot(mcrar.C_opt_.dot(mcrar.ST_opt_).T)"
   ]
  },
  {
   "cell_type": "code",
   "execution_count": null,
   "metadata": {},
   "outputs": [],
   "source": [
    "out = pd.DataFrame(\n",
    "    mcrar.C_opt_.dot(mcrar.ST_opt_),\n",
    "    columns=m_d111_subset_aug.columns,\n",
    "    index=m_d111_subset_aug.index,\n",
    ")\n",
    "out.head()"
   ]
  },
  {
   "cell_type": "code",
   "execution_count": null,
   "metadata": {},
   "outputs": [],
   "source": [
    "m_d111_subset_aug.reset_index().melt(\n",
    "    var_name=\"wavelength\", id_vars=\"i\", value_name=\"abs\"\n",
    ").groupby(\"wavelength\").get_group(\"256\")[\"abs\"].plot()"
   ]
  },
  {
   "cell_type": "code",
   "execution_count": null,
   "metadata": {},
   "outputs": [],
   "source": [
    "melt_out = out.reset_index().melt(var_name=\"wavelength\", id_vars=\"i\", value_name=\"abs\")\n",
    "melt_out.groupby(\"wavelength\").get_group(\"256\")[\"abs\"].plot()"
   ]
  },
  {
   "cell_type": "code",
   "execution_count": null,
   "metadata": {},
   "outputs": [],
   "source": [
    "melt_out.head()"
   ]
  },
  {
   "cell_type": "code",
   "execution_count": null,
   "metadata": {},
   "outputs": [],
   "source": [
    "melt_out = melt_out.fillna(0)\n",
    "melt_out.head()"
   ]
  },
  {
   "cell_type": "code",
   "execution_count": null,
   "metadata": {},
   "outputs": [],
   "source": [
    "cc = plt.tricontourf(melt_out.wavelength, melt_out.i, melt_out[\"abs\"], level=10)\n",
    "artists, labels = cc.legend_elements()\n",
    "plt.legend(artists, labels, bbox_to_anchor=(1.05, 1), loc=2, borderaxespad=0.0)"
   ]
  },
  {
   "cell_type": "code",
   "execution_count": null,
   "metadata": {},
   "outputs": [],
   "source": [
    "opath = \"/Users/jonathan/mres_thesis/wine_analysis_hplc_uv/src/wine_analysis_hplc_uv/notebooks/pca_sample.parquet\"\n",
    "m_d111_subset_aug.to_parquet(opath)"
   ]
  },
  {
   "cell_type": "markdown",
   "metadata": {},
   "source": [
    "2023-11-01\n",
    "\n",
    "Conclusion: a prototype pipeline has been established but interpretation of the results escapes me. Possibly D is rank deficient and analysis of a multiset will reveal more useful results, but in the meantime I am moving on to different tacks."
   ]
  }
 ],
 "metadata": {
  "kernelspec": {
   "display_name": "wine-analysis-hplc-uv-F-SbhWjO-py3.11",
   "language": "python",
   "name": "python3"
  },
  "language_info": {
   "codemirror_mode": {
    "name": "ipython",
    "version": 3
   },
   "file_extension": ".py",
   "mimetype": "text/x-python",
   "name": "python",
   "nbconvert_exporter": "python",
   "pygments_lexer": "ipython3",
   "version": "3.11.1"
  }
 },
 "nbformat": 4,
 "nbformat_minor": 2
}
