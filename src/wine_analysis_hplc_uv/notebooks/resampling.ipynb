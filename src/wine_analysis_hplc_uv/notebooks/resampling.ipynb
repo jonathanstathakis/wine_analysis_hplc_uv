{
 "cells": [
  {
   "cell_type": "markdown",
   "metadata": {},
   "source": [
    "## Signal Resampling\n",
    "\n",
    "- resampling is used to adjust a time series to a higher or lower frequency.\n",
    "- Pandas has `.resample` or `.asfreq`\n",
    "- `.resample` is aggregation, `.asfreq` is selection \n",
    "@vanderplas_2016\n",
    "\n",
    "`.resample`\n",
    "- requires an index/spec. column that is datetime-like\n",
    "@pandas2022\n",
    "- can upsample or downsample\n",
    "- similar API to `DataFrameGroupBy`  in that you call `.resample` on the object, then call an aggregation function, i.e. `df.resample('M').mean()` [@mckinney_2022]\n",
    "\n",
    "\n",
    "### downsample\n",
    "\n",
    "- Downsampling is a form of data compression as a reduction in frequency of observation of a signal. Typically it is achieved by selecting every nth observation from the original signal. The primary motivation for downsampling is to increase computation speed by reducing the dataset size to a minimum while preserving as much information as possible [@nielsen_2019].\n",
    "  \n",
    "### upsample\n",
    "\n",
    "- upsampling is a method adding observations to a time series to increase its frequency through interpolation based on the original dataset. Nielsen [@nielsen_2019] gives the example of standardizing a dataset consisting of time series with different frequencies. To compare the series they would all need to be at the same frequency. You could either downsample everything to the lowest frequency series, which may lose too much information, or interpolate the lower frequency series to fill in the missing observations. Another example is an irregularly frequent time series - most calculations require a smooth time axis which can achieved through interpolation of the lower frequency regions of the series.\n"
   ]
  }
 ],
 "metadata": {
  "language_info": {
   "name": "python"
  }
 },
 "nbformat": 4,
 "nbformat_minor": 2
}
