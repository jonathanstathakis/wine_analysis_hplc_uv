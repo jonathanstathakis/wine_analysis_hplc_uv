{
 "cells": [
  {
   "cell_type": "markdown",
   "metadata": {},
   "source": [
    "2023-10-17\n",
    "\n",
    "What follows is a quick tutorial on using [patchworklib](https://pypi.org/project/patchworklib/) v0.6.2 to combine a seaborn Axes level plot and a Figure level plot for simultaneous display. The Motivation stems from the desire to construct 'dashboards' of plots on the fly, for example density plots alongside correlation, or relational plots alongside violin plots, as displayed below. Unfortunately, seaborn does not support natively combining Figure level plots with other figures through the matplotlib subfigure API at this time, and other methods that i have experimented with thus far have proved insufficient.\n",
    "\n",
    "Note: patchworklib currently does not provide acceptable documentation or error handling so getting this far was a struggle."
   ]
  },
  {
   "cell_type": "code",
   "execution_count": null,
   "metadata": {},
   "outputs": [],
   "source": [
    "# set up environment\n",
    "\n",
    "import seaborn as sns\n",
    "import patchworklib as pw\n",
    "\n",
    "# for handling figure level plots, patchworklib overwrites (overloads?) seaborn classes. This line is necessary for later behavior\n",
    "pw.overwrite_axisgrid()\n",
    "\n",
    "# an example dataset\n",
    "penguins = sns.load_dataset(\"penguins\")\n",
    "penguins.head()"
   ]
  },
  {
   "cell_type": "markdown",
   "metadata": {},
   "source": [
    "First we'll construct a figure level plot, for example a relational plot between 6 variables in the penguins dataset. The Facetgrid object returned is then 'loaded' into a `pw.Brick` object for display handling."
   ]
  },
  {
   "cell_type": "code",
   "execution_count": null,
   "metadata": {},
   "outputs": [],
   "source": [
    "# construct a figure level plot and assign it to a variable\n",
    "\n",
    "rp = sns.relplot(penguins, x='bill_length_mm', y='bill_depth_mm', size ='flipper_length_mm', row='sex',col='species', hue='body_mass_g'\n",
    "                 )\n",
    "display(rp.tight_layout())\n",
    "\n",
    "# Figure level plots are 'loaded' into pw.Brick objects which return a Brick object\n",
    "\n",
    "pwg = pw.load_seaborngrid(rp)"
   ]
  },
  {
   "cell_type": "markdown",
   "metadata": {},
   "source": [
    "Differing from the Figure level plots, in the Axes level plots we first define a `pw.Brick` object which can be used as an Axes in the same was as `plt.subplots` Axes objects."
   ]
  },
  {
   "cell_type": "code",
   "execution_count": null,
   "metadata": {},
   "outputs": [],
   "source": [
    "\n",
    "# Different behavior to the figure level plot, Axes level plots need to be assigned to\n",
    "# predefined axes returned by the instantiation of a `pw.Brick` object\n",
    "\n",
    "# instantiate `pw.Brick`\n",
    "vp = pw.Brick(figsize=(3,2))\n",
    "print(type(vp))\n",
    "# Construct an Axes level plot and assign it to a Brick\n",
    "p = sns.violinplot(penguins, x = 'species',y='body_mass_g', ax=vp)\n",
    "\n",
    "p"
   ]
  },
  {
   "cell_type": "markdown",
   "metadata": {},
   "source": [
    "Now that the Figure level and Axes level plots are handled by `pw.Brick` objects, they can be treated the same way. Below we horizontally stack and vertically stack the predefined plots:"
   ]
  },
  {
   "cell_type": "code",
   "execution_count": null,
   "metadata": {},
   "outputs": [],
   "source": [
    "# display the composite figure using the pipe operator resulting in a horizontal stack\n",
    "vp | pwg"
   ]
  },
  {
   "cell_type": "code",
   "execution_count": null,
   "metadata": {},
   "outputs": [],
   "source": [
    "# display the composite figure using the slash operator resulting in a vertical stack\n",
    "\n",
    "vp / pwg"
   ]
  },
  {
   "cell_type": "markdown",
   "metadata": {},
   "source": [
    "Overall I am happy with the design of this library, but as I said earlier, it is not user-friendly. The documentation needs serious work, and what is currently stopping me from using it is that the display appears to be using its own default themes including transparent backgrounds, making them unusable in dark themes. Hopefully the dev adds documentation or clearer setting handling in the future."
   ]
  }
 ],
 "metadata": {
  "kernelspec": {
   "display_name": "wine-analysis-hplc-uv-F-SbhWjO-py3.11",
   "language": "python",
   "name": "python3"
  },
  "language_info": {
   "codemirror_mode": {
    "name": "ipython",
    "version": 3
   },
   "file_extension": ".py",
   "mimetype": "text/x-python",
   "name": "python",
   "nbconvert_exporter": "python",
   "pygments_lexer": "ipython3",
   "version": "3.11.1"
  }
 },
 "nbformat": 4,
 "nbformat_minor": 2
}
