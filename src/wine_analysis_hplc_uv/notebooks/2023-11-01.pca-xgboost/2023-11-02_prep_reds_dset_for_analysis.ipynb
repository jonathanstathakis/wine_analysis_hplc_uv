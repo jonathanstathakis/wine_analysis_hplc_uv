{
 "cells": [
  {
   "cell_type": "markdown",
   "metadata": {},
   "source": [
    "New Hypothesis: The first x principal components of each sample within a dataset will be sufficient to distinguish the samples by class through XGBoost.\n",
    "\n",
    "Need:\n",
    "- Dataset with signals and class labels.\n",
    "- Preprocessing pipeline."
   ]
  },
  {
   "cell_type": "code",
   "execution_count": null,
   "metadata": {},
   "outputs": [],
   "source": [
    "%reload_ext autoreload\n",
    "%autoreload 2\n",
    "\n",
    "# initialization\n",
    "\n",
    "import pandas as pd\n",
    "import numpy as np\n",
    "import seaborn.objects as so\n",
    "import seaborn as sns\n",
    "import matplotlib as mpl\n",
    "import matplotlib.pyplot as plt\n",
    "from wine_analysis_hplc_uv.notebooks.mcr import mcr_methods\n",
    "from sklearn import decomposition\n",
    "from wine_analysis_hplc_uv.signal_analysis.signal_analysis import SignalAnalyzer"
   ]
  },
  {
   "cell_type": "code",
   "execution_count": null,
   "metadata": {},
   "outputs": [],
   "source": [
    "class DSetPrepper(mcr_methods.Preprocessing, mcr_methods.PCA, decomposition.PCA, SignalAnalyzer):\n",
    "    \n",
    "    def __init__(self):\n",
    "        return None\n",
    "    \n",
    "dset_prepper = DSetPrepper()"
   ]
  },
  {
   "cell_type": "code",
   "execution_count": null,
   "metadata": {},
   "outputs": [],
   "source": [
    "dset = pd.read_parquet(\n",
    "    \"/Users/jonathan/mres_thesis/wine_analysis_hplc_uv/src/wine_analysis_hplc_uv/notebooks/tidy_3d_dset_raw.parquet\"\n",
    ")\n",
    "dset.head()"
   ]
  },
  {
   "cell_type": "markdown",
   "metadata": {},
   "source": [
    "Get the reds."
   ]
  },
  {
   "cell_type": "code",
   "execution_count": null,
   "metadata": {},
   "outputs": [],
   "source": [
    "# select the reds\n",
    "\n",
    "reds = dset.groupby('color').get_group('red')\n",
    "reds.head()"
   ]
  },
  {
   "cell_type": "markdown",
   "metadata": {},
   "source": [
    "now get a description of the varietals. We want to be able to classify by varietal"
   ]
  },
  {
   "cell_type": "code",
   "execution_count": null,
   "metadata": {},
   "outputs": [],
   "source": [
    "reds.groupby('id')['mins'].plot()"
   ]
  },
  {
   "cell_type": "code",
   "execution_count": null,
   "metadata": {},
   "outputs": [],
   "source": [
    "counts_by_varietal = reds.groupby(['varietal'])['id'].nunique()\n",
    "counts_by_varietal"
   ]
  },
  {
   "cell_type": "markdown",
   "metadata": {},
   "source": [
    "There you go. Somewhat imbalanced, but it is what it is for now. Now to process them.\n",
    "\n",
    "As the processing pipeline was developed for 1 sample with 1 grouping column and we now have two - \"id\" and \"wavelength\", gna have to see if thatll work."
   ]
  },
  {
   "cell_type": "code",
   "execution_count": null,
   "metadata": {},
   "outputs": [],
   "source": [
    "# reset index, add a aggregate column 'code_wine' from wine and samplecode, drop unnecessary columns.\n",
    "\n",
    "def adjust_df(df):\n",
    "    df = (df\n",
    "            .reset_index(drop=True)\n",
    "            .pipe(lambda df: df if df.insert(loc=0, column='code_wine', value=df.samplecode+\"_\"+df.wine) else df)\n",
    "            .drop(['detection','color', 'samplecode','wine'],axis=1)\n",
    "    )\n",
    "    return df\n",
    "\n",
    "\n",
    "reds = adjust_df(reds)\n",
    "display(reds.head())\n",
    "            "
   ]
  },
  {
   "cell_type": "markdown",
   "metadata": {},
   "source": [
    "72, 115, a0301, 97, a0101, 99. All have abnormalities in the y axis. Just remove them for now."
   ]
  },
  {
   "cell_type": "code",
   "execution_count": null,
   "metadata": {},
   "outputs": [],
   "source": [
    "reds.loc[lambda df: ~(df.code_wine.str.contains(\"72|115|a0301|99\"))]"
   ]
  },
  {
   "cell_type": "code",
   "execution_count": null,
   "metadata": {},
   "outputs": [],
   "source": [
    "(reds.groupby('code_wine').filter(\n",
    "    lambda x: any(x.mins.diff()<0) | any(x.mins.diff()==0)\n",
    "    )\n",
    "    ['code_wine'].unique()\n",
    "    )"
   ]
  },
  {
   "cell_type": "code",
   "execution_count": null,
   "metadata": {},
   "outputs": [],
   "source": [
    "reds.groupby('code_wine').get_group('a0301_2021 chris ringland shiraz').mins.plot()"
   ]
  },
  {
   "cell_type": "code",
   "execution_count": null,
   "metadata": {},
   "outputs": [],
   "source": [
    "# 72, 115, a0301, 97, a0101, 99"
   ]
  },
  {
   "cell_type": "code",
   "execution_count": null,
   "metadata": {},
   "outputs": [],
   "source": [
    "any(reds.loc[lambda df: df.code_wine.str.contains(\"115\")].mins.diff()==0)"
   ]
  },
  {
   "cell_type": "code",
   "execution_count": null,
   "metadata": {},
   "outputs": [],
   "source": [
    "grps = reds.groupby('code_wine')\n",
    "\n",
    "expected_gradient =reds.groupby('code_wine').get_group(list(reds.groupby('code_wine').groups)[0]).mins.diff().mean()\n",
    "expected_gradient"
   ]
  },
  {
   "cell_type": "code",
   "execution_count": null,
   "metadata": {},
   "outputs": [],
   "source": [
    "reds"
   ]
  },
  {
   "cell_type": "code",
   "execution_count": null,
   "metadata": {},
   "outputs": [],
   "source": [
    "# plot of time domain over index for all samples. Slow to render, hence commented out 2023-11-02\n",
    "\n",
    "# reds.pipe(lambda x: so.Plot(x.reset_index(names='i'), x='i',y='mins').add(so.Line()).facet('code_wine', wrap=3).layout(size=(15,100)).share(x=False, y=False)\n",
    "#           )"
   ]
  },
  {
   "cell_type": "code",
   "execution_count": null,
   "metadata": {},
   "outputs": [],
   "source": [
    "# samples with identified abnormalities in time domain based on the plots above\n",
    "\n",
    "abnormalities=reds.loc[lambda x: x.code_wine.str.contains('72|115|a0301|60|98')]\n",
    "abnormalities['code_wine'].unique()"
   ]
  },
  {
   "cell_type": "code",
   "execution_count": null,
   "metadata": {},
   "outputs": [],
   "source": [
    "# plot time domain of abnormal samples\n",
    "abnormalities.pipe(lambda df: so.Plot(df.reset_index(names='i'), x='i',y='mins')\n",
    "                   .add(so.Line())\n",
    "                   .facet('code_wine', wrap=2)\n",
    "                   .share(x=False, y=False)\n",
    "                   .layout(size=(20,15))\n",
    "                   )"
   ]
  },
  {
   "cell_type": "code",
   "execution_count": null,
   "metadata": {},
   "outputs": [],
   "source": [
    "# plot chromatograms of abnormal samples\n",
    "\n",
    "abnormalities.pipe(lambda df: so.Plot(df, x='mins',y='256').add(so.Line()).facet('code_wine', wrap=2).share(x=False, y=False).layout(size=(20,15)))"
   ]
  },
  {
   "cell_type": "code",
   "execution_count": null,
   "metadata": {},
   "outputs": [],
   "source": [
    "def reassign_time(df, grouper: str | list[str], freq_str: str):\n",
    "    \n",
    "    df = df.assign(\n",
    "        mins=lambda x: x.groupby(grouper)[\"mins\"].transform(\n",
    "            lambda x: pd.timedelta_range(start=0, periods=len(x), freq=freq_str).total_seconds()/60\n",
    "        )\n",
    "    )\n",
    "\n",
    "    return df\n",
    "\n",
    "\n",
    "reds = reassign_time(reds, \"code_wine\", \"0.4S\")\n",
    "reds.head()"
   ]
  },
  {
   "cell_type": "code",
   "execution_count": null,
   "metadata": {},
   "outputs": [],
   "source": [
    "# resample to 2S\n",
    "\n",
    "def resample_to_2s(df):\n",
    "    \n",
    "    grouper = ['varietal','id','code_wine']\n",
    "    \n",
    "    df = (\n",
    "        df\n",
    "        .pipe(lambda df: df\n",
    "              .assign(mins=\n",
    "                  pd.TimedeltaIndex(df.mins, unit='m')\n",
    "              )\n",
    "        .set_index('mins')\n",
    "        .groupby(grouper, group_keys=False)\n",
    "        .apply(lambda grp:\n",
    "        grp\n",
    "        .resample('2S').interpolate()\n",
    "        .ffill()\n",
    "        )\n",
    "        .set_index(grouper, append=True).reset_index('mins').reset_index()\n",
    "        .assign(mins=lambda df: df.mins.dt.total_seconds()/60)\n",
    "        )\n",
    "    )\n",
    "    \n",
    "    return df\n",
    "    \n",
    "resampled_reds = resample_to_2s(reds);\n",
    "resampled_reds.head()"
   ]
  },
  {
   "cell_type": "code",
   "execution_count": null,
   "metadata": {},
   "outputs": [],
   "source": [
    "def melt_reds(df):\n",
    "   odf = (df.melt(id_vars=['varietal','id','code_wine','mins'], value_name='signal', var_name='wavelength')\n",
    "          .loc[:,lambda df: df\n",
    "               .columns\n",
    "               .drop('mins')\n",
    "               .insert(-1, 'mins')\n",
    "               .tolist()])\n",
    "   display(odf.head())\n",
    "   return odf\n",
    "    \n",
    "mreds = melt_reds(resampled_reds)"
   ]
  },
  {
   "cell_type": "code",
   "execution_count": null,
   "metadata": {},
   "outputs": [],
   "source": [
    "# smooth\n",
    "\n",
    "mreds = mreds.assign(smoothed=lambda df: df.pipe(dset_prepper._smooth, grouper=['id','wavelength'], col='signal'))\n",
    "mreds.head()"
   ]
  },
  {
   "cell_type": "code",
   "execution_count": null,
   "metadata": {},
   "outputs": [],
   "source": [
    "mreds"
   ]
  },
  {
   "cell_type": "code",
   "execution_count": null,
   "metadata": {},
   "outputs": [],
   "source": [
    "# baseline subtract\n",
    "\n",
    "# import os\n",
    "# bcorr_path = os.path.join(os.getcwd(),'bcorr.parquet')\n",
    "\n",
    "mreds = (mreds\n",
    "        .assign(\n",
    "        **{'bcorr':lambda df: df\n",
    "                                .pipe(\n",
    "                                    dset_prepper._baseline_subtract,\n",
    "                                    grouper=[\"id\", \"wavelength\"],\n",
    "                                    col=\"smoothed\",\n",
    "                                    asls_kws=dict(max_iter=100, tol=1e-3, lam=1e5)\n",
    "                                    )\n",
    "         }\n",
    ")\n",
    ")\n",
    "\n",
    "mreds.head()"
   ]
  },
  {
   "cell_type": "code",
   "execution_count": null,
   "metadata": {},
   "outputs": [],
   "source": [
    "ricci_49 = mreds.groupby(['code_wine','wavelength']).get_group((\n",
    "    '49_2020 matias riccitelli malbec hey malbec!','256')).reset_index()\n",
    "\n",
    "so.Plot(ricci_49, x='mins').add(so.Line(),y='smoothed').add(so.Line(color='red', alpha=0.5),\n",
    "                                                            y='bcorr').show()"
   ]
  },
  {
   "cell_type": "markdown",
   "metadata": {},
   "source": [
    "Next is to subset to a 'region of interest' to reduce the total dataset size. Hypothesize that it will correspond to below 4000 observations."
   ]
  },
  {
   "cell_type": "code",
   "execution_count": null,
   "metadata": {},
   "outputs": [],
   "source": [
    "def find_peaks(df):\n",
    "    odf = df.pipe(dset_prepper.detect_peaks, grouper=['id','wavelength'], target_col='bcorr', peaks_colname='peaks', prom_ratio=0.02)\n",
    "    return odf\n",
    "\n",
    "mreds = find_peaks(mreds)\n",
    "mreds.head()"
   ]
  },
  {
   "cell_type": "code",
   "execution_count": null,
   "metadata": {},
   "outputs": [],
   "source": [
    "# plot 200, 256, 350 to observe peak detection results\n",
    "\n",
    "temp = mreds.loc[lambda x: (x.wavelength.isin(['200','256','350']) & (x.code_wine==list(x.groupby('code_wine').groups.keys())[0]))]\n",
    "\n",
    "(so.Plot(temp\n",
    "        \n",
    "         , x='mins')\n",
    " .add(so.Line(), y='bcorr')\n",
    " .add(so.Dot(color='red',marker='x',alpha=0.75), y='peaks')\n",
    " .facet('wavelength')\n",
    " .layout(size=(15,5))\n",
    " .share(y=False).show())\n",
    "temp.head()"
   ]
  },
  {
   "cell_type": "code",
   "execution_count": null,
   "metadata": {},
   "outputs": [],
   "source": [
    "# how many samples have peaks after 30 minutes? do this another time, bin by 10 minute \n",
    "# intervals, count not nas, produce a histogram of counts per bin.\n",
    "\n",
    "def find_peaks_after_30_mins(df):\n",
    "    display(\n",
    "        df.head()\n",
    "            )\n",
    "    \n",
    "    \n",
    "find_peaks_after_30_mins(temp)"
   ]
  },
  {
   "cell_type": "code",
   "execution_count": null,
   "metadata": {},
   "outputs": [],
   "source": [
    "# subset\n",
    "\n",
    "def subset(df):\n",
    "    df = df.loc[lambda df: (df.mins<30) & (df.wavelength=='256')].reset_index(drop=True)\n",
    "    \n",
    "    assert not df.empty\n",
    "    return df\n",
    "    \n",
    "mreds = subset(mreds)\n",
    "mreds.head()"
   ]
  },
  {
   "cell_type": "code",
   "execution_count": null,
   "metadata": {},
   "outputs": [],
   "source": [
    "# scale and center\n",
    "\n",
    "def scale_and_center(df):\n",
    "    df = (\n",
    "        df\n",
    "        .groupby('id', as_index=False)\n",
    "        .apply(dset_prepper.scale_and_center, 'bcorr')\n",
    "        .reset_index(drop=True)\n",
    "    )\n",
    "   \n",
    "    assert isinstance(df, pd.DataFrame)\n",
    "    \n",
    "    display(df.head())\n",
    "    \n",
    "    return df\n",
    "\n",
    "mreds = scale_and_center(mreds);"
   ]
  },
  {
   "cell_type": "code",
   "execution_count": null,
   "metadata": {},
   "outputs": [],
   "source": [
    "mreds_pivot = mreds.pivot_table(columns=['varietal','code_wine','id'], index='mins',values='scale_center').sort_index(axis=1)\n",
    "mreds_pivot"
   ]
  },
  {
   "cell_type": "code",
   "execution_count": null,
   "metadata": {},
   "outputs": [],
   "source": [
    "def export_dset(df):\n",
    "\n",
    "    import os\n",
    "\n",
    "    opath = os.path.join(os.getcwd(), \"pca_dset.parquet\")\n",
    "\n",
    "    df.to_parquet(opath)\n",
    "\n",
    "    return None\n",
    "\n",
    "mreds_pivot.pipe(export_dset)"
   ]
  }
 ],
 "metadata": {
  "kernelspec": {
   "display_name": "wine-analysis-hplc-uv-F-SbhWjO-py3.11",
   "language": "python",
   "name": "python3"
  },
  "language_info": {
   "codemirror_mode": {
    "name": "ipython",
    "version": 3
   },
   "file_extension": ".py",
   "mimetype": "text/x-python",
   "name": "python",
   "nbconvert_exporter": "python",
   "pygments_lexer": "ipython3",
   "version": "3.11.1"
  }
 },
 "nbformat": 4,
 "nbformat_minor": 2
}
