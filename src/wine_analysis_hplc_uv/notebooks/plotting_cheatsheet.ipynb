{
 "cells": [
  {
   "cell_type": "markdown",
   "metadata": {},
   "source": [
    "| verb | method | notes |\n",
    "|---|---|---|\n",
    "| put legend outside plot | plt.legend(bbox_to_anchor=(1.05, 1), loc=2, borderaxespad=0.) | NA | \n"
   ]
  },
  {
   "cell_type": "code",
   "execution_count": null,
   "metadata": {},
   "outputs": [],
   "source": [
    "import seaborn as sns\n",
    "g = sns.FacetGrid(plot_df, col='vars') # sets up a facet grid on a variable column\n",
    "g.map_dataframe(sns.lineplot, x='mins',y='value',hue='wine') # plots on other specified variables"
   ]
  },
  {
   "cell_type": "markdown",
   "metadata": {},
   "source": [
    "## Seaborn\n",
    "\n",
    "In relplots (and probably line plots), turn error bars off with `errorbar=None` to dramatically speed up plotting time. Example:\n",
    "\n",
    "```python\n",
    "(\n",
    "    sns.relplot(\n",
    "        relplotdata,\n",
    "        col=\"col_label\",\n",
    "        row=\"wine\",\n",
    "        x=\"mins\",\n",
    "        y=\"mAU\",\n",
    "        hue=\"state\",\n",
    "        kind=\"line\",\n",
    "        legend=\"full\",\n",
    "        facet_kws=dict(margin_titles=True,\n",
    "                       subplot_kws=dict(alpha=0.95)),\n",
    "        errorbar=None\n",
    "        \n",
    "    )\n",
    "    .set_titles(\n",
    "        col_template=\"{col_name}\",\n",
    "        row_template=\"{row_name}\",\n",
    "    )\n",
    ")\n",
    "```\n",
    "\n",
    "speeds up the plotting of that particular figure from 1 min 40 seconds to 4.2 seconds."
   ]
  },
  {
   "cell_type": "markdown",
   "metadata": {},
   "source": [
    "legend can be added by calling `.add_legend` on Axes object returned by FacetGrid mapping"
   ]
  }
 ],
 "metadata": {
  "kernelspec": {
   "display_name": "wine-analysis-hplc-uv-F-SbhWjO-py3.11",
   "language": "python",
   "name": "python3"
  },
  "language_info": {
   "name": "python",
   "version": "3.11.1"
  }
 },
 "nbformat": 4,
 "nbformat_minor": 2
}
