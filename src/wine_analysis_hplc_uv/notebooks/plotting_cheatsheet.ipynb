{
 "cells": [
  {
   "cell_type": "markdown",
   "metadata": {},
   "source": [
    "# put legend outside plot\n",
    "\n",
    "plt.legend(bbox_to_anchor=(1.05, 1), loc=2, borderaxespad=0.)\n"
   ]
  },
  {
   "cell_type": "code",
   "execution_count": null,
   "metadata": {},
   "outputs": [],
   "source": [
    "import seaborn as sns\n",
    "import numpy as np\n",
    "penguins = sns.load_dataset('penguins')\n",
    "penguins.head()\n"
   ]
  },
  {
   "cell_type": "markdown",
   "metadata": {},
   "source": [
    "## Seaborn\n",
    "\n",
    "In relplots (and probably line plots), turn error bars off with `errorbar=None` to dramatically speed up plotting time. Example:\n",
    "\n",
    "```python\n",
    "(\n",
    "    sns.relplot(\n",
    "        relplotdata,\n",
    "        col=\"col_label\",\n",
    "        row=\"wine\",\n",
    "        x=\"mins\",\n",
    "        y=\"mAU\",\n",
    "        hue=\"state\",\n",
    "        kind=\"line\",\n",
    "        legend=\"full\",\n",
    "        facet_kws=dict(margin_titles=True,\n",
    "                       subplot_kws=dict(alpha=0.95)),\n",
    "        errorbar=None\n",
    "        \n",
    "    )\n",
    "    .set_titles(\n",
    "        col_template=\"{col_name}\",\n",
    "        row_template=\"{row_name}\",\n",
    "    )\n",
    ")\n",
    "```\n",
    "\n",
    "speeds up the plotting of that particular figure from 1 min 40 seconds to 4.2 seconds."
   ]
  },
  {
   "cell_type": "markdown",
   "metadata": {},
   "source": [
    "# Matplotlib\n",
    "\n",
    "The best, most versatile plotting library in Python ecosystem, most other libraries are simply user-friendly front-ends for Matplotlib. Downside is that it is non-intuitive and carries a lot of technical debt"
   ]
  },
  {
   "cell_type": "code",
   "execution_count": null,
   "metadata": {},
   "outputs": [],
   "source": [
    "import matplotlib.pyplot as plt\n",
    "\n",
    "fig, ax = plt.subplots(1)\n",
    "\n",
    "# plot bill_depth_mm against bill_length_mm by species as overlay\n",
    "_ = penguins.groupby('species').apply(lambda species: ax.plot(species.bill_length_mm, species.bill_depth_mm,'.'))"
   ]
  },
  {
   "cell_type": "markdown",
   "metadata": {},
   "source": [
    "legend can be added by calling `.add_legend` on Axes object returned by FacetGrid mapping"
   ]
  },
  {
   "cell_type": "markdown",
   "metadata": {},
   "source": [
    "## Contour plots\n",
    "\n",
    "From a pandas dataframe of single column arrays (i.e. columns) use `tricontourf` to create contour plots:\n",
    "\n",
    "```python\n",
    "\n",
    "```"
   ]
  },
  {
   "cell_type": "code",
   "execution_count": null,
   "metadata": {},
   "outputs": [],
   "source": [
    "from matplotlib.colors import LogNorm\n",
    "\n",
    "penguins = penguins.fillna(0)\n",
    "\n",
    "c = plt.tricontourf(penguins.bill_length_mm, penguins.flipper_length_mm, penguins.body_mass_g, level=10, norm=LogNorm(vmax=1E5, clip=1))\n",
    "artists, labels= c.legend_elements()\n",
    "plt.legend(artists, labels,bbox_to_anchor=(1.05, 1), loc=2, borderaxespad=0.)"
   ]
  }
 ],
 "metadata": {
  "kernelspec": {
   "display_name": "wine-analysis-hplc-uv-F-SbhWjO-py3.11",
   "language": "python",
   "name": "python3"
  },
  "language_info": {
   "codemirror_mode": {
    "name": "ipython",
    "version": 3
   },
   "file_extension": ".py",
   "mimetype": "text/x-python",
   "name": "python",
   "nbconvert_exporter": "python",
   "pygments_lexer": "ipython3",
   "version": "3.11.1"
  }
 },
 "nbformat": 4,
 "nbformat_minor": 2
}
