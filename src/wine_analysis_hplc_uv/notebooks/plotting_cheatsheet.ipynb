{
 "cells": [
  {
   "cell_type": "markdown",
   "metadata": {},
   "source": [
    "| verb | method | notes |\n",
    "|---|---|---|\n",
    "| put legend outside plot | plt.legend(bbox_to_anchor=(1.05, 1), loc=2, borderaxespad=0.) | NA | \n"
   ]
  },
  {
   "cell_type": "code",
   "execution_count": null,
   "metadata": {},
   "outputs": [],
   "source": [
    "import seaborn as sns\n",
    "g = sns.FacetGrid(plot_df, col='vars') # sets up a facet grid on a variable column\n",
    "g.map_dataframe(sns.lineplot, x='mins',y='value',hue='wine') # plots on other specified variables"
   ]
  },
  {
   "cell_type": "markdown",
   "metadata": {},
   "source": [
    "legend can be added by calling `.add_legend` on Axes object returned by FacetGrid mapping"
   ]
  }
 ],
 "metadata": {
  "kernelspec": {
   "display_name": "wine-analysis-hplc-uv-F-SbhWjO-py3.11",
   "language": "python",
   "name": "python3"
  },
  "language_info": {
   "name": "python",
   "version": "3.11.1"
  }
 },
 "nbformat": 4,
 "nbformat_minor": 2
}
