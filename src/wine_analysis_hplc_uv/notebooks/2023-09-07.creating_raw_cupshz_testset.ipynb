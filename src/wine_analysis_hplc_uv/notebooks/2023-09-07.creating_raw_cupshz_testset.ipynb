{
 "cells": [
  {
   "cell_type": "markdown",
   "metadata": {},
   "source": [
    "Refer to section [Creation of 'Raw' Dataset](./chapter_signal_preprocessing.ipynb) for context."
   ]
  },
  {
   "cell_type": "code",
   "execution_count": null,
   "metadata": {},
   "outputs": [],
   "source": [
    "%load_ext autoreload\n",
    "%autoreload 2\n",
    "\n",
    "from wine_analysis_hplc_uv import definitions\n",
    "from wine_analysis_hplc_uv.get_test_data import gd\n",
    "from wine_analysis_hplc_uv.signal_processing.mindex_signal_processing import SignalProcessor\n",
    "import pandas as pd\n",
    "import numpy as np\n",
    "sigpro = SignalProcessor()\n",
    "df = gd()\n",
    "\n",
    "# setup\n",
    "df = (\n",
    "    df.pipe(sigpro.long_format)\n",
    "    .pipe(\n",
    "        lambda df: (\n",
    "            df.drop([\"id\", \"detection\"], axis=1)\n",
    "            if pd.Series([\"id\", \"detection\"]).isin(df.columns).all()\n",
    "            else df\n",
    "        )\n",
    "    )\n",
    "    .pipe(sigpro.tidy_format)\n",
    "    .drop([\"163\", \"165\", \"ca0301\"], axis=1)  # bad samples\n",
    ")\n",
    "df"
   ]
  },
  {
   "cell_type": "code",
   "execution_count": null,
   "metadata": {},
   "outputs": [],
   "source": [
    "df.to_parquet(definitions.RAW_PARQ_PATH)"
   ]
  }
 ],
 "metadata": {
  "kernelspec": {
   "display_name": "wine-analysis-hplc-uv-F-SbhWjO-py3.11",
   "language": "python",
   "name": "python3"
  },
  "language_info": {
   "codemirror_mode": {
    "name": "ipython",
    "version": 3
   },
   "file_extension": ".py",
   "mimetype": "text/x-python",
   "name": "python",
   "nbconvert_exporter": "python",
   "pygments_lexer": "ipython3",
   "version": "3.11.1"
  }
 },
 "nbformat": 4,
 "nbformat_minor": 2
}
