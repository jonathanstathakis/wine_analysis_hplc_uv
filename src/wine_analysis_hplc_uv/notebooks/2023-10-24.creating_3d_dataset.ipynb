{
 "cells": [
  {
   "cell_type": "code",
   "execution_count": null,
   "metadata": {},
   "outputs": [],
   "source": [
    "# 2023-10-24\n",
    "\n",
    "import duckdb as db\n",
    "import pandas as pd"
   ]
  },
  {
   "cell_type": "code",
   "execution_count": null,
   "metadata": {},
   "outputs": [],
   "source": [
    "con = db.connect(\n",
    "    \"/Users/jonathan/mres_thesis/wine_analysis_hplc_uv/src/wine_analysis_hplc_uv/notebooks/testdb.db\"\n",
    ")"
   ]
  },
  {
   "cell_type": "code",
   "execution_count": null,
   "metadata": {},
   "outputs": [],
   "source": [
    "con.sql(\"\"\"--sql\n",
    "show tables\n",
    "\"\"\")"
   ]
  },
  {
   "cell_type": "code",
   "execution_count": null,
   "metadata": {},
   "outputs": [],
   "source": [
    "con.sql(\"\"\"--sql\n",
    "CREATE OR REPLACE VIEW raw AS\n",
    "SELECT \n",
    "            st.detection,\n",
    "            st.samplecode,\n",
    "            ct.wine,\n",
    "            ct.color,\n",
    "            ct.varietal,\n",
    "            chm.id,\n",
    "            cs.*\n",
    "FROM\n",
    "c_sample_tracker st\n",
    "    INNER JOIN c_cellar_tracker ct ON st.ct_wine_name = ct.wine\n",
    "    LEFT JOIN c_chemstation_metadata chm ON\n",
    "    (\n",
    "    chm.join_samplecode=st.samplecode\n",
    "    )\n",
    "    LEFT JOIN chromatogram_spectra cs ON (chm.id=cs.id)\n",
    "    WHERE\n",
    "    st.detection='raw'\n",
    "\"\"\")"
   ]
  },
  {
   "cell_type": "code",
   "execution_count": null,
   "metadata": {},
   "outputs": [],
   "source": [
    "data = con.sql(\"\"\"--sql\n",
    "SELECT * FROM raw\n",
    "\"\"\").df()"
   ]
  },
  {
   "cell_type": "code",
   "execution_count": null,
   "metadata": {},
   "outputs": [],
   "source": [
    "data.columns.get_loc(\"id\")"
   ]
  },
  {
   "cell_type": "code",
   "execution_count": null,
   "metadata": {},
   "outputs": [],
   "source": [
    "# drop wavelengths > 400 as not all samples recorded between 400 and 600nm\n",
    "idx = data.columns.get_loc(\"400\")\n",
    "\n",
    "\n",
    "data = data.loc[:, data.columns[: idx + 1]]\n",
    "data.head()"
   ]
  },
  {
   "cell_type": "code",
   "execution_count": null,
   "metadata": {},
   "outputs": [],
   "source": [
    "# identify the na's. There are 12 rows with NA in the set.\n",
    "isnamask = data.isna().any(axis=1)\n",
    "isnamask\n",
    "data.loc[lambda df: df.isna().any(axis=1)]\n",
    "\n",
    "# these are random rows, possibly created as these runs are shorter than the maximum? Anyway, drop them"
   ]
  },
  {
   "cell_type": "code",
   "execution_count": null,
   "metadata": {},
   "outputs": [],
   "source": [
    "data = data.dropna()\n",
    "data"
   ]
  },
  {
   "cell_type": "code",
   "execution_count": null,
   "metadata": {},
   "outputs": [],
   "source": [
    "# write to parquet file before going any further.\n",
    "\n",
    "path = \"/Users/jonathan/mres_thesis/wine_analysis_hplc_uv/src/wine_analysis_hplc_uv/notebooks/tidy_3d_dset_raw.parquet\"\n",
    "\n",
    "data.to_parquet(path)"
   ]
  },
  {
   "cell_type": "code",
   "execution_count": null,
   "metadata": {},
   "outputs": [],
   "source": [
    "pd.read_parquet(path)"
   ]
  }
 ],
 "metadata": {
  "kernelspec": {
   "display_name": "wine-analysis-hplc-uv-F-SbhWjO-py3.11",
   "language": "python",
   "name": "python3"
  },
  "language_info": {
   "codemirror_mode": {
    "name": "ipython",
    "version": 3
   },
   "file_extension": ".py",
   "mimetype": "text/x-python",
   "name": "python",
   "nbconvert_exporter": "python",
   "pygments_lexer": "ipython3",
   "version": "3.11.1"
  }
 },
 "nbformat": 4,
 "nbformat_minor": 2
}
