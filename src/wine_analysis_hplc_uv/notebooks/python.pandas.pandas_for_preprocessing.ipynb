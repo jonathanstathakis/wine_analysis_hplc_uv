{
 "cells": [
  {
   "cell_type": "markdown",
   "metadata": {},
   "source": [
    "2023-10-17\n",
    "\n",
    "Use `transform` if expecting to apply a function to alter columns in a dataframe and then assign back, and the alteration doesnt change the shape of the return, i.e. transformation vs. aggregation.\n",
    "\n",
    "```Python\n",
    "...\n",
    ".assign(smooth_signal=lambda df: df.groupby('samplecode')['value'].transform(func=signal.savgol_filter,\n",
    "                                                             **dict(window_length=5, polyorder=2)\n",
    "                                                             )\n",
    "          )\n",
    "...\n",
    "```"
   ]
  },
  {
   "cell_type": "markdown",
   "metadata": {},
   "source": []
  }
 ],
 "metadata": {
  "language_info": {
   "name": "python"
  }
 },
 "nbformat": 4,
 "nbformat_minor": 2
}
