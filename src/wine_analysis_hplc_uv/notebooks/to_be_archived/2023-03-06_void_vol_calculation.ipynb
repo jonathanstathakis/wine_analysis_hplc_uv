{
 "cells": [
  {
   "cell_type": "code",
   "execution_count": null,
   "id": "61089057",
   "metadata": {},
   "outputs": [],
   "source": []
  },
  {
   "cell_type": "code",
   "execution_count": null,
   "id": "ea8930a5-856f-4355-ae28-b91d53baf10b",
   "metadata": {
    "tags": []
   },
   "outputs": [],
   "source": [
    "%load_ext autoreload\n",
    "%autoreload 2\n",
    "\n",
    "from pathlib import Path\n",
    "\n",
    "#import pandas as pd\n",
    "\n",
    "import sys\n",
    "\n",
    "import os\n",
    "\n",
    "sys.path.insert(0, \"/Users/jonathan/wine_analysis_hplc_uv/scripts/agilette/\")\n",
    "\n",
    "import agilette\n",
    "\n",
    "ag = agilette.Agilette('/Users/jonathan/0_jono_data')"
   ]
  },
  {
   "cell_type": "code",
   "execution_count": null,
   "id": "02d607de-3bb3-448f-8c6a-ac2550254c7e",
   "metadata": {
    "tags": []
   },
   "outputs": [],
   "source": [
    "ag.data_table().head()"
   ]
  },
  {
   "cell_type": "markdown",
   "id": "1deb725f-40f7-4a57-957c-2f0b62d28382",
   "metadata": {},
   "source": [
    "## Loading the Acetone Void Vol Data"
   ]
  },
  {
   "cell_type": "code",
   "execution_count": null,
   "id": "b0ecf3a6-9e20-4353-9b6f-c3341ca06e66",
   "metadata": {
    "tags": []
   },
   "outputs": [],
   "source": [
    "acetone_data = ag.data_file_dir.sequence_dict['2023-03-01_15-22-02_ACETONE_VOID-VOL-MEASUREMENT.sequence'].data_dict"
   ]
  },
  {
   "cell_type": "markdown",
   "id": "9cf3d035-d116-456a-af18-84de9539da0a",
   "metadata": {},
   "source": [
    "## Extracting Abs Maxima Wavelength Signal"
   ]
  },
  {
   "cell_type": "code",
   "execution_count": null,
   "id": "4df1576c-a623-4be6-9af4-0972cc7487a6",
   "metadata": {
    "tags": []
   },
   "outputs": [],
   "source": [
    "acetone_data['acetone0002'].extract_ch_data()['DAD1B.ch']"
   ]
  },
  {
   "cell_type": "markdown",
   "id": "f36c17e4-66ac-4271-9ee4-b51d5d3abfc8",
   "metadata": {},
   "source": [
    "Acetone has a abs max around 279nm, which is designated as Signal B:"
   ]
  },
  {
   "cell_type": "code",
   "execution_count": null,
   "id": "804b8ba9-1c16-4654-8fee-b6e96d474015",
   "metadata": {
    "tags": []
   },
   "outputs": [],
   "source": [
    "signal = 'DAD1B.ch'"
   ]
  },
  {
   "cell_type": "markdown",
   "id": "69d74396-9d2e-460f-94b5-2c08d0546783",
   "metadata": {},
   "source": [
    "## Renaming The Runs"
   ]
  },
  {
   "cell_type": "code",
   "execution_count": null,
   "id": "a438b68b-9bfd-41ec-b7fb-fb11be3b13c6",
   "metadata": {
    "tags": []
   },
   "outputs": [],
   "source": [
    "string_to_split = 'acetone0001'"
   ]
  },
  {
   "cell_type": "code",
   "execution_count": null,
   "id": "ce66c2b1-a462-48f7-b166-e85446796f95",
   "metadata": {
    "tags": []
   },
   "outputs": [],
   "source": [
    "left_str = string_to_split[len(string_to_split)-1:]\n",
    "\n",
    "right_str = string_to_split[:-4] \n",
    "\n",
    "left_str + \"_\" + right_str"
   ]
  },
  {
   "cell_type": "code",
   "execution_count": null,
   "id": "bf0b5dd5-8ae5-4963-a1be-f642d26bbdca",
   "metadata": {
    "tags": []
   },
   "outputs": [],
   "source": [
    "acetone_data_sigmax = {}\n",
    "\n",
    "for key, value in acetone_data.items():\n",
    "    reform_key = key[:-4] + \"_\" + key[len(key)-4:]\n",
    "    acetone_data_sigmax[reform_key] = value.extract_ch_data()['DAD1B.ch']"
   ]
  },
  {
   "cell_type": "code",
   "execution_count": null,
   "id": "9e43c4a3-c722-44df-8c62-b75ac4ee5aad",
   "metadata": {
    "tags": []
   },
   "outputs": [],
   "source": [
    "acetone_data_sigmax"
   ]
  },
  {
   "cell_type": "markdown",
   "id": "4a1bf421-9928-40c4-b198-1db6981fc102",
   "metadata": {},
   "source": [
    "## Plotting the Runs"
   ]
  },
  {
   "cell_type": "code",
   "execution_count": null,
   "id": "c4824019-df5c-4879-94e9-7d3c62fe4800",
   "metadata": {
    "tags": []
   },
   "outputs": [],
   "source": [
    "sys.path.insert(0, \"/Users/jonathan/wine_analysis_hplc_uv/scripts\")"
   ]
  },
  {
   "cell_type": "code",
   "execution_count": null,
   "id": "0c8e09a8-ca0c-4e1f-bc3a-ba20d059753d",
   "metadata": {
    "tags": []
   },
   "outputs": [],
   "source": [
    "import pandas as pd\n",
    "\n",
    "from scipy.signal import find_peaks"
   ]
  },
  {
   "cell_type": "code",
   "execution_count": null,
   "id": "ac5358d5-5ebf-419b-9c1a-a860a3b4094a",
   "metadata": {
    "tags": []
   },
   "outputs": [],
   "source": [
    "import plotly.graph_objs as go\n",
    "\n",
    "## set up parameters for peak detection and plotting.\n",
    "\n",
    "run_name = 'acetone_0001'\n",
    "\n",
    "data = acetone_data_sigmax[f'{run_name}']\n",
    "\n",
    "a_1 = pd.DataFrame(data[:,1], columns = ['mAU'], index = data[:,0])"
   ]
  },
  {
   "cell_type": "markdown",
   "id": "0824182c-12f4-4f43-9e16-bd72bf0fbd7b",
   "metadata": {
    "tags": []
   },
   "source": [
    "### Prototyping the Plot"
   ]
  },
  {
   "cell_type": "code",
   "execution_count": null,
   "id": "e8c24453-7d46-470d-af08-1353f7cc427e",
   "metadata": {
    "tags": []
   },
   "outputs": [],
   "source": [
    "# set up the figure\n",
    "\n",
    "nm = '279nm'\n",
    "\n",
    "fig = go.Figure()\n",
    "\n",
    "plot_title = f\"{run_name}\"\n",
    "\n",
    "fig.update_layout(title = f\"{plot_title}, {nm}\")\n",
    "\n",
    "# set chromatogram x and y values.\n",
    "\n",
    "cx = data[:,0]\n",
    "\n",
    "cy = data[:,1]\n",
    "\n",
    "import numpy as np\n",
    "\n",
    "# # draw the chromatogram\n",
    "\n",
    "chrom_trace = go.Scatter(x = cx, y = cy, mode = 'lines', name = 'chromatogram')\n",
    "\n",
    "fig.add_trace(chrom_trace)\n",
    "\n",
    "# find peaks\n",
    "\n",
    "peak_idx, peak_heights = find_peaks(a_1['mAU'], height = 50, distance = 50)\n",
    "\n",
    "px = a_1.index.values[peak_idx].tolist()[0]\n",
    "\n",
    "py = a_1.values[peak_idx][0].tolist()[0]\n",
    "\n",
    "# draw peaks\n",
    "\n",
    "peak_trace = go.Scatter(x = [px], y = [py], mode = 'markers', name = f'{np.round(px, 2)} mins, {int(py)} mAU')\n",
    "\n",
    "fig.add_trace(peak_trace)\n",
    "\n",
    "fig.show()"
   ]
  },
  {
   "cell_type": "markdown",
   "id": "1e7403d8-41b6-4efb-b7d0-54d27f344e36",
   "metadata": {},
   "source": [
    "So, what do we want to do now? Get the peak description for each reading, then plot their values against concentration. First make a function doing the same."
   ]
  },
  {
   "cell_type": "markdown",
   "id": "c6372653-eefe-4620-b1b2-070514f77384",
   "metadata": {
    "tags": []
   },
   "source": [
    "### Functionalising it"
   ]
  },
  {
   "cell_type": "code",
   "execution_count": null,
   "id": "70b849fb-ecc1-44c8-923d-1f7d7ebf8dc9",
   "metadata": {
    "tags": []
   },
   "outputs": [],
   "source": [
    "import numpy as np\n",
    "\n",
    "def voidvolplotter(data_df, run_name):\n",
    "    \n",
    "    # set up the figure\n",
    "\n",
    "    fig = go.Figure()\n",
    "\n",
    "    fig.update_layout(title = f\"{run_name}, {nm}\")\n",
    "\n",
    "    # set chromatogram x and y values.\n",
    "\n",
    "    cx = data_df['mins'].tolist()\n",
    "\n",
    "    cy = data_df['mAU'].tolist()\n",
    "\n",
    "    # # draw the chromatogram\n",
    "\n",
    "    chrom_trace = go.Scatter(x = cx, y = cy, mode = 'lines', name = 'chromatogram')\n",
    "\n",
    "    fig.add_trace(chrom_trace)\n",
    "\n",
    "    # find peaks\n",
    "\n",
    "    peak_idx, peak_heights = find_peaks(data_df['mAU'], height = 50, distance = 50)\n",
    "\n",
    "    px = data_df.index.values[peak_idx].tolist()\n",
    "    \n",
    "    print(type(px))\n",
    "\n",
    "    py = data_df.values[peak_idx].tolist()\n",
    "\n",
    "    # draw peaks\n",
    "    peak_trace = go.Scatter(x = px, y = py, mode = 'markers', name = f'{np.round(px[0], 2)} mins, {py[0][0]} mAU')\n",
    "\n",
    "    fig.add_trace(peak_trace)\n",
    "    \n",
    "    return fig"
   ]
  },
  {
   "cell_type": "code",
   "execution_count": null,
   "id": "7b3dcf0b-6041-476c-bbd1-d5886ce50f2f",
   "metadata": {
    "tags": []
   },
   "outputs": [],
   "source": [
    "## Forming a Better Data Structure"
   ]
  },
  {
   "cell_type": "code",
   "execution_count": null,
   "id": "1032c108-bd4a-4f05-8bc0-b20aab35888a",
   "metadata": {
    "tags": []
   },
   "outputs": [],
   "source": [
    "inj_vol = {\n",
    "    \"1_acetone\" : 10,\n",
    "    \"2_acetone\" : 8,\n",
    "    \"3_acetone\" : 6,\n",
    "    \"4_acetone\" : 4,\n",
    "    \"5_acetone\" : 2,\n",
    "    \"6_acetone\" : 1\n",
    "}"
   ]
  },
  {
   "cell_type": "markdown",
   "id": "07b3e853-e9a8-4a76-b9cd-73a66e9b7e5b",
   "metadata": {},
   "source": [
    "{ \"name\" : { inj_vol : data }}"
   ]
  },
  {
   "cell_type": "code",
   "execution_count": null,
   "id": "361b5a02-4736-4a95-bcdd-19641ae0073e",
   "metadata": {
    "tags": []
   },
   "outputs": [],
   "source": [
    "acetone_dict = {}\n",
    "\n",
    "for run_name, inj_vol_ in inj_vol.items():\n",
    "    for run_name_1, data in acetone_data_sigmax.items():\n",
    "        \n",
    "        data = pd.DataFrame(data, columns = ['mins', 'mAU'])\n",
    "        \n",
    "        acetone_dict[run_name] = { \"inj_vol\" : inj_vol_, \"data\" : data}\n",
    "\n",
    "acetone_dict['1_acetone']"
   ]
  },
  {
   "cell_type": "markdown",
   "id": "de214669-678a-40b6-9562-afefa68e93dd",
   "metadata": {},
   "source": [
    "So the pattern is:\n",
    "\n",
    "acetone_dict['run_name']['inj_vol'], or acetone_dict['run_name']['data']"
   ]
  },
  {
   "cell_type": "code",
   "execution_count": null,
   "id": "46336612-92e2-48f6-b7c0-3a2d624fe125",
   "metadata": {
    "tags": []
   },
   "outputs": [],
   "source": [
    "for run_name, contents in acetone_dict.items():\n",
    "\n",
    "    print(run_name)\n",
    "    print(contents['inj_vol'])\n",
    "\n",
    "    print(find_peaks(contents['data']['mAU'], height = 50))"
   ]
  },
  {
   "cell_type": "markdown",
   "id": "a285c538-a096-4da5-a696-2a50178765f2",
   "metadata": {},
   "source": [
    "This is a mess, let's redefine. Maybe OOP. But need to know in what format the data needs to be.\n",
    "\n",
    "For the plot to work I need:\n",
    "\n",
    "chromatogram as a df, injection vol, run name."
   ]
  },
  {
   "cell_type": "code",
   "execution_count": null,
   "id": "b2a9ff5c-fed3-4078-a315-21b7460bb8c9",
   "metadata": {
    "tags": []
   },
   "outputs": [],
   "source": [
    "class Void_Vol_Measurement:\n",
    "    def __init__(self, run_name, injection_vol, data):\n",
    "        self.run_name = run_name\n",
    "        self.inj_vol = injection_vol\n",
    "        self.data = data"
   ]
  },
  {
   "cell_type": "code",
   "execution_count": null,
   "id": "66cdec55-bdce-4e21-b07b-cbe767c959ed",
   "metadata": {
    "tags": []
   },
   "outputs": [],
   "source": [
    "run_vol_zip = zip(acetone_data.keys(), inj_vol.values())\n",
    "\n",
    "void_vol_measure_obj_list = []\n",
    "\n",
    "for run, injvol in run_vol_zip:\n",
    "    void_vol_measure_obj_list.append(Void_Vol_Measurement(run, inj_vol, acetone_data[run]))"
   ]
  },
  {
   "cell_type": "code",
   "execution_count": null,
   "id": "9bef2787-2879-44d3-9295-58ea7bccd252",
   "metadata": {},
   "outputs": [],
   "source": []
  }
 ],
 "metadata": {
  "kernelspec": {
   "display_name": "Python 3 (ipykernel)",
   "language": "python",
   "name": "python3"
  },
  "language_info": {
   "codemirror_mode": {
    "name": "ipython",
    "version": 3
   },
   "file_extension": ".py",
   "mimetype": "text/x-python",
   "name": "python",
   "nbconvert_exporter": "python",
   "pygments_lexer": "ipython3",
   "version": "3.11.1"
  }
 },
 "nbformat": 4,
 "nbformat_minor": 5
}
