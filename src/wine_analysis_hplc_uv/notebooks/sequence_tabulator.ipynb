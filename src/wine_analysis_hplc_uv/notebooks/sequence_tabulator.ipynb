{
 "cells": [
  {
   "cell_type": "code",
   "execution_count": null,
   "metadata": {},
   "outputs": [],
   "source": [
    "import datetime as dt\n",
    "import pandas as pd\n",
    "\n",
    "\"\"\"\n",
    "A function to tabulate important parameters when planning a sequence - start time, end time, mobile phase consumption.\n",
    "\"\"\"\n",
    "\n",
    "def exp_seq_schedule(start_time, run_time, num_runs, sample_block):\n",
    "\n",
    "    date_range = pd.date_range(start = start_time, periods = num_runs, freq=f'{run_time}T')\n",
    "\n",
    "    df = pd.DataFrame(pd.Series(date_range), columns = ['time'])\n",
    "    \n",
    "    df['sample'] = sample_block\n",
    "\n",
    "    df['time_diff'] = (df['time'].diff().dt.total_seconds())\n",
    "    df.loc[0,'time_diff'] = 0\n",
    "    df['cumsum_time'] = df['time_diff'].cumsum()\n",
    "    df['cumsum_time'] = pd.to_timedelta(df['cumsum_time'], unit = 's')\n",
    "    df['cumsum_time'] = df['cumsum_time'].apply(lambda x : x.strftime(\"%H:%M:%S\"))\n",
    "    return df\n",
    "\n",
    "start_time = pd.Timestamp('2023-04-21 13:15:00')\n",
    "run_time = 50\n",
    "num_runs = 5\n",
    "\n",
    "sample_block = ['wine_1', 'wine_2','wine_3', 'wine_3','wine_3']\n",
    "df = exp_seq_schedule(start_time, run_time, num_runs, sample_block)\n",
    "print(df)"
   ]
  },
  {
   "cell_type": "code",
   "execution_count": null,
   "metadata": {},
   "outputs": [],
   "source": [
    "df_2 = exp_seq_schedule(start_time, run_time, num_runs, sample_block)"
   ]
  }
 ],
 "metadata": {
  "kernelspec": {
   "display_name": "Python 3",
   "language": "python",
   "name": "python3"
  },
  "language_info": {
   "codemirror_mode": {
    "name": "ipython",
    "version": 3
   },
   "file_extension": ".py",
   "mimetype": "text/x-python",
   "name": "python",
   "nbconvert_exporter": "python",
   "pygments_lexer": "ipython3",
   "version": "3.11.1"
  }
 },
 "nbformat": 4,
 "nbformat_minor": 2
}
