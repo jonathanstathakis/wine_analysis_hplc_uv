{
 "cells": [
  {
   "cell_type": "code",
   "execution_count": null,
   "id": "f655d4be-cc0f-4da3-b670-750ab2ee28df",
   "metadata": {
    "execution": {
     "iopub.execute_input": "2023-02-20T22:45:25.279112Z",
     "iopub.status.busy": "2023-02-20T22:45:25.278847Z",
     "iopub.status.idle": "2023-02-20T22:45:25.768541Z",
     "shell.execute_reply": "2023-02-20T22:45:25.768121Z",
     "shell.execute_reply.started": "2023-02-20T22:45:25.279084Z"
    },
    "tags": []
   },
   "outputs": [],
   "source": [
    "from bokeh.plotting import figure, show, curdoc\n",
    "\n",
    "from bokeh.io import output_notebook\n",
    "\n",
    "curdoc.theme\n",
    "\n",
    "# prepare some data\n",
    "x = [1, 2, 3, 4, 5]\n",
    "y = [6, 7, 2, 4, 5]"
   ]
  },
  {
   "cell_type": "code",
   "execution_count": null,
   "id": "7defebcd",
   "metadata": {
    "execution": {
     "iopub.execute_input": "2023-02-20T22:45:25.769825Z",
     "iopub.status.busy": "2023-02-20T22:45:25.769688Z",
     "iopub.status.idle": "2023-02-20T22:45:25.775298Z",
     "shell.execute_reply": "2023-02-20T22:45:25.774924Z",
     "shell.execute_reply.started": "2023-02-20T22:45:25.769813Z"
    }
   },
   "outputs": [],
   "source": [
    "output_notebook()"
   ]
  },
  {
   "cell_type": "code",
   "execution_count": null,
   "id": "79586b48",
   "metadata": {
    "execution": {
     "iopub.execute_input": "2023-02-20T22:45:25.775981Z",
     "iopub.status.busy": "2023-02-20T22:45:25.775808Z",
     "iopub.status.idle": "2023-02-20T22:45:25.817394Z",
     "shell.execute_reply": "2023-02-20T22:45:25.816803Z",
     "shell.execute_reply.started": "2023-02-20T22:45:25.775968Z"
    }
   },
   "outputs": [],
   "source": [
    "# create a new plot with a title and axis labels\n",
    "p = figure(title=\"Simple line example\", x_axis_label='x', y_axis_label='y')\n",
    "\n",
    "# add a line renderer with legend and line thickness to the plot\n",
    "p.line(x, y, legend_label=\"Temp.\", line_width=2)\n",
    "\n",
    "# show the results\n",
    "show(p)"
   ]
  },
  {
   "cell_type": "code",
   "execution_count": null,
   "id": "eeff8081",
   "metadata": {},
   "outputs": [],
   "source": []
  }
 ],
 "metadata": {
  "kernelspec": {
   "display_name": "Python 3 (ipykernel)",
   "language": "python",
   "name": "python3"
  },
  "language_info": {
   "codemirror_mode": {
    "name": "ipython",
    "version": 3
   },
   "file_extension": ".py",
   "mimetype": "text/x-python",
   "name": "python",
   "nbconvert_exporter": "python",
   "pygments_lexer": "ipython3",
   "version": "3.11.1"
  }
 },
 "nbformat": 4,
 "nbformat_minor": 5
}
